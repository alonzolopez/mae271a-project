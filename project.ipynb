{
 "cells": [
  {
   "cell_type": "code",
   "execution_count": 3,
   "metadata": {},
   "outputs": [
    {
     "data": {
      "text/html": [
       "        <script type=\"text/javascript\">\n",
       "        window.PlotlyConfig = {MathJaxConfig: 'local'};\n",
       "        if (window.MathJax) {MathJax.Hub.Config({SVG: {font: \"STIX-Web\"}});}\n",
       "        if (typeof require !== 'undefined') {\n",
       "        require.undef(\"plotly\");\n",
       "        requirejs.config({\n",
       "            paths: {\n",
       "                'plotly': ['https://cdn.plot.ly/plotly-latest.min']\n",
       "            }\n",
       "        });\n",
       "        require(['plotly'], function(Plotly) {\n",
       "            window._Plotly = Plotly;\n",
       "        });\n",
       "        }\n",
       "        </script>\n",
       "        "
      ]
     },
     "metadata": {},
     "output_type": "display_data"
    }
   ],
   "source": [
    "import numpy as np\n",
    "import plotly.graph_objects as go\n",
    "import plotly.io as pio\n",
    "pio.renderers.default='notebook'\n",
    "from plotly.offline import download_plotlyjs, init_notebook_mode, plot, iplot\n",
    "init_notebook_mode(connected=True)\n",
    "import plotly.figure_factory as ff\n",
    "import sys"
   ]
  },
  {
   "cell_type": "code",
   "execution_count": 4,
   "metadata": {},
   "outputs": [],
   "source": [
    "freq = 200.0 # Hz, the accelerometer frequency\n",
    "dt = 1.0/freq\n",
    "dt_kf = dt*40\n",
    "acc_steps = int(freq*30+1)\n",
    "kf_freq = 1.0/dt_kf\n",
    "kf_steps = int(kf_freq*30+1)\n",
    "t_acc = np.linspace(0.0, 30.0, acc_steps) # acceleration time vector with dt = 0.02 sec\n",
    "t_kf = np.linspace(0.0, 30.0, kf_steps) # acceleration time vector with dt = 0.02 sec\n",
    "omega = 0.1 #rad/sec\n",
    "a = 10\n",
    "a_truth = [a * np.sin(omega*t_acc[i]) for i in range(t_acc.shape[0])] # uncorrupted true acceleration values\n"
   ]
  },
  {
   "cell_type": "code",
   "execution_count": 5,
   "metadata": {},
   "outputs": [
    {
     "name": "stdout",
     "output_type": "stream",
     "text": [
      "Phi\n",
      " [[ 1.    0.2  -0.02]\n",
      " [ 0.    1.   -0.2 ]\n",
      " [ 0.    0.    1.  ]]\n",
      "Gamma\n",
      " [[-0.02]\n",
      " [-0.2 ]\n",
      " [ 0.  ]]\n",
      "Process noise\n",
      " 0.0004\n",
      "H matrix\n",
      " [[1 0 0]\n",
      " [0 1 0]]\n",
      "Sensor Noise\n",
      " [[1.     0.    ]\n",
      " [0.     0.0016]]\n",
      "P0\n",
      " [[1.e+02 0.e+00 0.e+00]\n",
      " [0.e+00 1.e+00 0.e+00]\n",
      " [0.e+00 0.e+00 1.e-02]]\n",
      "b0 std\n",
      " 0.1\n"
     ]
    }
   ],
   "source": [
    "##### System definition #####\n",
    "# state transition matrix\n",
    "Phi = np.array([\n",
    "    [1, dt_kf, -dt_kf**2/2],\n",
    "    [0, 1, -dt_kf],\n",
    "    [0, 0, 1]\n",
    "])\n",
    "\n",
    "# Gamma (B) matrix\n",
    "Gamma = np.array([\n",
    "    [-dt_kf**2/2],\n",
    "    [-dt_kf],\n",
    "    [0]\n",
    "])\n",
    "\n",
    "# The process noise variance of the accelerometer with additive white Gaussian noise and zero mean:\n",
    "w_var = 0.0004 #(meters/sec^2)^2\n",
    "w_std = np.sqrt(w_var)\n",
    "w_mean = 0\n",
    "W = w_var\n",
    "\n",
    "# H matrix used in z = Hx + eta\n",
    "H = np.array([\n",
    "    [1, 0, 0],\n",
    "    [0, 1, 0]\n",
    "])\n",
    "\n",
    "# measurement noise mean and variance\n",
    "etabar = np.zeros((2,1))\n",
    "etastd = np.array([[1, 0],[0, 0.04]]) # in units of meter^2 and (meters/sec)^2\n",
    "etavar = np.dot(etastd, etastd)\n",
    "\n",
    "##### Mean and variance to use for initializing the Monte Carlo sim #####\n",
    "# The bias mean and std to draw from\n",
    "bbar_a = 0\n",
    "b_var = 0.01 # (meters/sec^2)^2\n",
    "b0_std = np.sqrt(b_var)\n",
    "\n",
    "# The mean, std, and variance of the initial position to draw from\n",
    "Mp_0 = 10**2 # meters^2\n",
    "p0_std = np.sqrt(Mp_0) # meters, the standard deviation\n",
    "pbar_0 = 0\n",
    "\n",
    "# The mean, std, and variance of the initial velocity to draw from\n",
    "Mv_0 = 1 # (meters/sec)^2\n",
    "v0_std = np.sqrt(Mv_0) # meters/sec\n",
    "vbar_0 = 100 # m/s\n",
    "\n",
    "\n",
    "\n",
    "##### Initial values for KF algo #####\n",
    "# initial covariance matrix\n",
    "P0 = np.array([\n",
    "    [Mp_0, 0, 0],\n",
    "    [0, Mv_0, 0],\n",
    "    [0, 0, b_var]\n",
    "])\n",
    "\n",
    "# initial position, velocity, bias guesses\n",
    "vc_0 = vbar_0\n",
    "pc_0 = pbar_0\n",
    "ba_0 = 0\n",
    "\n",
    "\n",
    "\n",
    "print(\"Phi\\n\", Phi)\n",
    "print(\"Gamma\\n\", Gamma)\n",
    "print(\"Process noise\\n\", w_var)\n",
    "print(\"H matrix\\n\", H)\n",
    "print(\"Sensor Noise\\n\", etavar)\n",
    "print(\"P0\\n\", P0)\n",
    "print(\"b0 std\\n\", b0_std)\n"
   ]
  },
  {
   "cell_type": "markdown",
   "metadata": {},
   "source": [
    "# The Kalman Filter Algorithm"
   ]
  },
  {
   "cell_type": "code",
   "execution_count": 6,
   "metadata": {
    "scrolled": true
   },
   "outputs": [
    {
     "name": "stdout",
     "output_type": "stream",
     "text": [
      "Converged in  37668  iterations\n",
      "K\n",
      "[[ 7.92042100e-03  1.75727322e-01]\n",
      " [ 2.81163715e-04  9.48738003e-02]\n",
      " [-3.73316458e-08 -1.25969139e-05]]\n",
      "Mk\n",
      "[[ 8.03912007e-03  3.13132051e-04 -4.15762569e-08]\n",
      " [ 3.13132051e-04  1.67806569e-04 -2.22805969e-08]\n",
      " [-4.15762569e-08 -2.22805969e-08  1.06249963e-08]]\n",
      "Pk\n",
      "[[ 7.92042100e-03  2.81163715e-04 -3.73316458e-08]\n",
      " [ 2.81163715e-04  1.51798080e-04 -2.01550623e-08]\n",
      " [-3.73316458e-08 -2.01550623e-08  1.06247141e-08]]\n"
     ]
    }
   ],
   "source": [
    "Mk = np.dot(Phi, np.dot(P0, np.transpose(Phi))) + np.dot(Gamma, np.dot(W, np.transpose(Gamma)))\n",
    "Pk = np.linalg.inv(np.linalg.inv(Mk) + np.dot(np.transpose(H), np.dot(np.linalg.inv(etavar), H)))\n",
    "# ikh = np.eye(3) - np.dot(Kk, H)\n",
    "# Pk = np.dot(ikh, np.dot(Mk, np.transpose(ikh))) + np.dot(Kk, np.dot(etavar, np.transpose(Kk)))\n",
    "Kk = np.dot(Pk, np.dot(np.transpose(H), np.linalg.inv(etavar)))\n",
    "count = 1\n",
    "counts = [count]\n",
    "Ks = [Kk]\n",
    "Ms = [Mk]\n",
    "Ps = [Pk]\n",
    "\n",
    "while count < 2 or not np.allclose(Ks[-2], Ks[-1], rtol=1.0e-09, atol=1e-09):\n",
    "    Mk = np.dot(Phi, np.dot(Pk, np.transpose(Phi))) + np.dot(Gamma, np.dot(W, np.transpose(Gamma)))\n",
    "    Pk = np.linalg.inv(np.linalg.inv(Mk) + np.dot(np.transpose(H), np.dot(np.linalg.inv(etavar), H)))\n",
    "#     ikh = np.eye(3) - np.dot(Kk, H)\n",
    "#     Pk = np.dot(ikh, np.dot(Mk, np.transpose(ikh))) + np.dot(Kk, np.dot(etavar, np.transpose(Kk)))\n",
    "    Kk = np.dot(Pk, np.dot(np.transpose(H), np.linalg.inv(etavar)))\n",
    "    count+=1\n",
    "#     sys.stdout.write(\"\\rCount %i\" % count)\n",
    "#     sys.stdout.write(\"K00 %f\" %Kk[0,0])\n",
    "#     sys.stdout.write(\"\\rK01 %f\" %Kk[0,1])\n",
    "#     sys.stdout.write(\"\\rK10 %f\" %Kk[1,0])\n",
    "#     sys.stdout.write(\"\\rK11 %f\" %Kk[1,1])\n",
    "#     sys.stdout.write(\"\\rK20 %f\" %Kk[2,0])\n",
    "#     sys.stdout.write(\"\\rK21 %f\" %Kk[2,1])\n",
    "#     sys.stdout.flush()\n",
    "    counts.append(count)\n",
    "    Ks.append(Kk.copy())\n",
    "    Ms.append(Mk.copy())\n",
    "    Ps.append(Pk.copy())\n",
    "print(\"Converged in \", count, \" iterations\")\n",
    "print(\"K\")\n",
    "print(Ks[-1])\n",
    "print(\"Mk\")\n",
    "print(Ms[-1])\n",
    "print(\"Pk\")\n",
    "print(Ps[-1])"
   ]
  },
  {
   "cell_type": "code",
   "execution_count": 7,
   "metadata": {},
   "outputs": [
    {
     "name": "stdout",
     "output_type": "stream",
     "text": [
      "[[ 2.49414618e-01  9.17395446e-02]\n",
      " [ 1.46783271e-04  5.02695426e-01]\n",
      " [-8.72435431e-05 -8.26986168e-01]]\n",
      "[[ 1.19052394e-02  1.85262764e-01]\n",
      " [ 2.96420423e-04  1.05992270e-01]\n",
      " [-1.47853386e-05 -5.85546685e-03]]\n",
      "[[ 7.92042135e-03  1.75727438e-01]\n",
      " [ 2.81163901e-04  9.48738633e-02]\n",
      " [-3.74300725e-08 -1.26301263e-05]]\n"
     ]
    }
   ],
   "source": [
    "print(Ks[3])\n",
    "print(Ks[100])\n",
    "print(Ks[-100])"
   ]
  },
  {
   "cell_type": "markdown",
   "metadata": {},
   "source": [
    "count:  2181100\n",
    "K\n",
    "[[ 7.92042100e-03  1.75727322e-01]\n",
    " [ 2.81163715e-04  9.48738003e-02]\n",
    " [-3.73316458e-08 -1.25969139e-05]]\n",
    "Mk\n",
    "[[ 8.03912007e-03  3.13132051e-04 -4.15762569e-08]\n",
    " [ 3.13132051e-04  1.67806569e-04 -2.22805969e-08]\n",
    " [-4.15762569e-08 -2.22805969e-08  1.06249963e-08]]\n",
    "Pk\n",
    "[[ 7.92042100e-03  2.81163715e-04 -3.73316458e-08]\n",
    " [ 2.81163715e-04  1.51798080e-04 -2.01550623e-08]\n",
    " [-3.73316458e-08 -2.01550623e-08  1.06247141e-08]]"
   ]
  },
  {
   "cell_type": "markdown",
   "metadata": {},
   "source": [
    "# The Monte Carlo Simulation"
   ]
  },
  {
   "cell_type": "code",
   "execution_count": 27,
   "metadata": {},
   "outputs": [],
   "source": [
    "def monte_carlo_run(verbose = False):\n",
    "    # Phi, Gamma, W, Etavar, P0, H are already defined\n",
    "    \n",
    "    # initialize the true position, velocity, and bias for this Monte Carlo run\n",
    "    p_0_true = np.random.normal(pbar_0, p0_std)\n",
    "    v_0_true = np.random.normal(vbar_0, v0_std)\n",
    "    b_a_true = np.random.normal(bbar_a, b0_std)\n",
    "    if verbose == True:\n",
    "        print(\"p0\\n\", p_0_true)\n",
    "        print(\"v0\\n\", v_0_true)\n",
    "        print(\"b0\\n\", b_a_true)\n",
    "    \n",
    "    # initialize the belief values for the position, velocity, bias, and state vector\n",
    "    pc_now = pbar_0\n",
    "    vc_now = vbar_0\n",
    "    \n",
    "    # variables to hold the true position and velocity\n",
    "    ptrue_now = p_0_true\n",
    "    vtrue_now = v_0_true\n",
    "    \n",
    "    ##### A PRIORI #####\n",
    "    # dxhat_0\n",
    "    dxhat = np.array([\n",
    "    [0],\n",
    "    [0],\n",
    "    [0]])\n",
    "    \n",
    "    # P0\n",
    "    Pk = np.copy(P0) # this is basically Mk\n",
    "    if verbose == True:\n",
    "        print(\"Pk\\n\", Pk)\n",
    "    \n",
    "    ##### A POSTERIORI #####\n",
    "    # simulate GPS measurement\n",
    "    eta_i = np.random.normal(etabar, etastd) # noise on the GPS\n",
    "    vgps_i = vtrue_now + eta_i[0,0]\n",
    "    pgps_i = ptrue_now + eta_i[1,1]\n",
    "    \n",
    "    \n",
    "    # initialize Kalman gain\n",
    "    invterm = np.linalg.inv(np.dot(H, np.dot(P0, np.transpose(H)))+ etavar)\n",
    "    K = np.dot(P0, np.dot(np.transpose(H), invterm))\n",
    "    if verbose == True:\n",
    "        print(\"K\\n\", K)\n",
    "    \n",
    "    # update the intial belief using the gps measurement\n",
    "    z = np.array([\n",
    "        [pgps_i-pc_now],\n",
    "        [vgps_i-vc_now]\n",
    "    ])\n",
    "    residual = z - np.dot(H, dxhat)\n",
    "    dxhat = dxhat + np.dot(K, residual)\n",
    "    \n",
    "    # update Pk\n",
    "    ikh = np.eye(3) - np.dot(K, H)\n",
    "    Pk = np.dot(ikh, np.dot(P0, np.transpose(ikh))) + np.dot(K, np.dot(etavar, np.transpose(K)))\n",
    "    \n",
    "    # record time-series data for plotting\n",
    "    dxlist = [dxhat]\n",
    "    dxtruelist = [np.array([[p_0_true - pc_now], [v_0_true - vc_now], [b_a_true]])]\n",
    "    ptruelist = [p_0_true] # true position at each dt_kf\n",
    "    vtruelist = [v_0_true] # true velocity at each dt_kf\n",
    "    pclist = [pc_now] # computed position at each dt_kf\n",
    "    vclist = [vc_now] # computed position at each dt_kf\n",
    "    Pklist = [np.copy(Pk)]\n",
    "    Klist = [np.copy(K)]\n",
    "    residuals = [residual]\n",
    "\n",
    "    \n",
    "    # run the MC through the time vector\n",
    "    for i  in range(1, t_acc.shape[0]):\n",
    "        if i % 40 == 0:\n",
    "            pc_now, vc_now, ptrue_now, vtrue_now, dxhat, Pk, K, res = gps_timestep(i, b_a_true, pc_now, vc_now, ptrue_now, vtrue_now, dxhat, Pk, K)\n",
    "            dxlist.append(dxhat.copy())\n",
    "            dxtruelist.append(np.array([[ptrue_now - pc_now], [vtrue_now - vc_now], [b_a_true]]))\n",
    "            ptruelist.append(ptrue_now)\n",
    "            vtruelist.append(vtrue_now)\n",
    "            pclist.append(pc_now)\n",
    "            vclist.append(vc_now)\n",
    "            Pklist.append(np.copy(Pk))\n",
    "            Klist.append(np.copy(K))\n",
    "            residuals.append(np.copy(res))\n",
    "        else:\n",
    "            pc_now, vc_now, ptrue_now, vtrue_now = acc_timestep(i, b_a_true, pc_now, vc_now, ptrue_now, vtrue_now, dxhat[2,0])\n",
    "    \n",
    "    return pclist, vclist, ptruelist, vtruelist, b_a_true, dxlist, Pklist, Klist, residuals, dxtruelist\n",
    "\n",
    "def gps_timestep(j, ba_true, pc_prev, vc_prev, ptrue_prev, vtrue_prev, dxhat_i, Pk_prev, K):\n",
    "    # Generates the ith timestep computations of the KF update given both GPS and accelerometer updates\n",
    "    # i: an int representing the time vec to index into the true acceleration vector, a_truth\n",
    "    # ba_true: the true bias (a float) for this MC run to be used in the calculation of the noisy accelerometer reading\n",
    "    # pc_prev: a float representing pc at timestep i-1\n",
    "    # vc_prev: a float representing vc at timestep i-1\n",
    "    \n",
    "    ##### A PRIORI #####\n",
    "    xbar_next = np.dot(Phi, dxhat_i)\n",
    "    Mk_next = np.dot(Phi, np.dot(Pk_prev, np.transpose(Phi))) + np.dot(Gamma, np.dot(W, np.transpose(Gamma)))\n",
    "    \n",
    "    ##### A POSTERIORI #####\n",
    "    # update the gain matrix K\n",
    "    invterm = np.linalg.inv(np.dot(H, np.dot(Mk_next, np.transpose(H)))+ etavar)\n",
    "    K = np.dot(Mk_next, np.dot(np.transpose(H), invterm))\n",
    "    \n",
    "    # calculate the true position and velocity\n",
    "    # generate an accelerometer reading and computed position & velocity update and true position and velocity\n",
    "    pc_i, vc_i, ptrue_i, vtrue_i = acc_timestep(j, ba_true, pc_prev, vc_prev, ptrue_prev, vtrue_prev, dxhat_i[2,0])\n",
    "    \n",
    "    # generate a noisy GPS measurement for this timestep, i\n",
    "    eta_i = np.random.normal(etabar, etastd) # noise on the GPS\n",
    "    pgps_i = ptrue_i + eta_i[0,0]\n",
    "    vgps_i = vtrue_i + eta_i[1,1]\n",
    "\n",
    "    # create the measurement vector\n",
    "    zk = np.array([\n",
    "        [pgps_i - pc_i],\n",
    "        [vgps_i - vc_i]\n",
    "    ])\n",
    "    \n",
    "    # calculate the residual\n",
    "    residual = zk - np.dot(H, xbar_next)\n",
    "#     print(\"residual\\n\", residual)\n",
    "    \n",
    "    # update the state estimate\n",
    "    dxhat = xbar_next + np.dot(K, residual)\n",
    "    \n",
    "    # update Pk\n",
    "#     ikh = np.eye(3) - np.dot(K, H)\n",
    "#     Pk_new = np.dot(ikh, np.dot(Mk_next, np.transpose(ikh))) + np.dot(K, np.dot(etavar, np.transpose(K)))\n",
    "    hvh = np.dot(np.transpose(H), np.dot(np.linalg.inv(etavar), H))\n",
    "    Pk_new = np.linalg.inv(np.linalg.inv(Mk_next) + hvh)\n",
    "    \n",
    "    return pc_i, vc_i, ptrue_i, vtrue_i, dxhat, Pk_new, K, residual\n",
    "\n",
    "def acc_timestep(j, ba_true, pc_prev, vc_prev, ptrue_prev, vtrue_prev, b_est):\n",
    "    # Generates the ith timestep computations of position and velocity, pc and vc\n",
    "    # by sampling an accelerometer reading around the true value for this Monte Carlo run\n",
    "    # i: an int representing the time vec to index into the true acceleration vector, a_truth\n",
    "    # ba_true: the true bias (a float) for this MC run to be used in the calculation of the noisy accelerometer reading\n",
    "    # pc_prev: a float representing pc at timestep i-1\n",
    "    # vc_prev: a float representing vc at timestep i-1\n",
    "    \n",
    "    # draw a noise value for the accelerometer\n",
    "    w_t = np.random.normal(w_mean, w_std)\n",
    "    \n",
    "    # gather an accelerometer measurement for this timestep\n",
    "    ac_prev = a_truth[j-1] + ba_true + w_t #- b_est\n",
    "    \n",
    "    # integrate the accelerometer measurment by the euler formula\n",
    "    vc_i = vc_prev + ac_prev * dt\n",
    "    pc_i = pc_prev + vc_prev * dt + ac_prev * dt**2/2\n",
    "    \n",
    "    # integrate the true acceleration by the euler formula\n",
    "    vtrue_i = vtrue_prev + a_truth[j-1] * dt\n",
    "    ptrue_i = ptrue_prev + vtrue_prev * dt + a_truth[j-1] * dt**2/2\n",
    "    \n",
    "    return pc_i, vc_i, ptrue_i, vtrue_i\n",
    "    "
   ]
  },
  {
   "cell_type": "code",
   "execution_count": 59,
   "metadata": {
    "scrolled": false
   },
   "outputs": [
    {
     "name": "stdout",
     "output_type": "stream",
     "text": [
      "p0\n",
      " 12.659772313799348\n",
      "v0\n",
      " 99.94511018594436\n",
      "b0\n",
      " 0.014834860063309455\n",
      "Pk\n",
      " [[1.e+02 0.e+00 0.e+00]\n",
      " [0.e+00 1.e+00 0.e+00]\n",
      " [0.e+00 0.e+00 1.e-02]]\n",
      "K\n",
      " [[0.99009901 0.        ]\n",
      " [0.         0.99840256]\n",
      " [0.         0.        ]]\n"
     ]
    },
    {
     "data": {
      "application/vnd.plotly.v1+json": {
       "config": {
        "plotlyServerURL": "https://plot.ly"
       },
       "data": [
        {
         "name": "Estimated bias",
         "type": "scatter",
         "x": [
          0,
          0.2,
          0.4,
          0.6000000000000001,
          0.8,
          1,
          1.2000000000000002,
          1.4000000000000001,
          1.6,
          1.8,
          2,
          2.2,
          2.4000000000000004,
          2.6,
          2.8000000000000003,
          3,
          3.2,
          3.4000000000000004,
          3.6,
          3.8000000000000003,
          4,
          4.2,
          4.4,
          4.6000000000000005,
          4.800000000000001,
          5,
          5.2,
          5.4,
          5.6000000000000005,
          5.800000000000001,
          6,
          6.2,
          6.4,
          6.6000000000000005,
          6.800000000000001,
          7,
          7.2,
          7.4,
          7.6000000000000005,
          7.800000000000001,
          8,
          8.200000000000001,
          8.4,
          8.6,
          8.8,
          9,
          9.200000000000001,
          9.4,
          9.600000000000001,
          9.8,
          10,
          10.200000000000001,
          10.4,
          10.600000000000001,
          10.8,
          11,
          11.200000000000001,
          11.4,
          11.600000000000001,
          11.8,
          12,
          12.200000000000001,
          12.4,
          12.600000000000001,
          12.8,
          13,
          13.200000000000001,
          13.4,
          13.600000000000001,
          13.8,
          14,
          14.200000000000001,
          14.4,
          14.600000000000001,
          14.8,
          15,
          15.200000000000001,
          15.4,
          15.600000000000001,
          15.8,
          16,
          16.2,
          16.400000000000002,
          16.6,
          16.8,
          17,
          17.2,
          17.400000000000002,
          17.6,
          17.8,
          18,
          18.2,
          18.400000000000002,
          18.6,
          18.8,
          19,
          19.200000000000003,
          19.400000000000002,
          19.6,
          19.8,
          20,
          20.200000000000003,
          20.400000000000002,
          20.6,
          20.8,
          21,
          21.200000000000003,
          21.400000000000002,
          21.6,
          21.8,
          22,
          22.200000000000003,
          22.400000000000002,
          22.6,
          22.8,
          23,
          23.200000000000003,
          23.400000000000002,
          23.6,
          23.8,
          24,
          24.200000000000003,
          24.400000000000002,
          24.6,
          24.8,
          25,
          25.200000000000003,
          25.400000000000002,
          25.6,
          25.8,
          26,
          26.200000000000003,
          26.400000000000002,
          26.6,
          26.8,
          27,
          27.200000000000003,
          27.400000000000002,
          27.6,
          27.8,
          28,
          28.200000000000003,
          28.400000000000002,
          28.6,
          28.8,
          29,
          29.200000000000003,
          29.400000000000002,
          29.6,
          29.8,
          30
         ],
         "y": [
          0,
          0.17980311486309872,
          0.3748345203374348,
          0.3948083787511611,
          0.330265718155314,
          0.2585847472017293,
          0.24543329483624252,
          0.19935780821633045,
          0.15155576326037187,
          0.11247107940455714,
          0.08019949379905392,
          0.07702049298655793,
          0.07008379514892901,
          0.06692712293659363,
          0.06088206341625449,
          0.05070745781515051,
          0.0493384568088729,
          0.044573497221597,
          0.047826523171676384,
          0.038821108606140436,
          0.03384241420005329,
          0.03580443984730145,
          0.03419830492989721,
          0.0340311608272054,
          0.030590332932035304,
          0.030793823764244634,
          0.03282529104549861,
          0.031154932474067344,
          0.03009544706621182,
          0.030019537631854533,
          0.028201055970791783,
          0.029271099039220427,
          0.02922511232217748,
          0.026694969647846272,
          0.02661560722348414,
          0.02649664074594515,
          0.024753877496266757,
          0.023804253534883243,
          0.02379122648772223,
          0.02318753783861493,
          0.02366535805258826,
          0.024582489683484525,
          0.024675786554005378,
          0.023792524038698023,
          0.022860526854910516,
          0.022674903973497616,
          0.022358803386646326,
          0.02213784057098377,
          0.021741042266413,
          0.02117485368347543,
          0.020698333596582515,
          0.02003705860722353,
          0.019764272495747633,
          0.01921696182816938,
          0.019303116102982517,
          0.01879181537297479,
          0.01870875806835164,
          0.01928991993559586,
          0.0195353016676406,
          0.019476136417525203,
          0.01939791350158597,
          0.019407471849666277,
          0.01910645513552038,
          0.01889239501705106,
          0.01885223650563986,
          0.019308684347533307,
          0.019806544137435718,
          0.019823668197069922,
          0.019669523858584767,
          0.01978315453915189,
          0.019326189050433665,
          0.019546985843006126,
          0.01888032808866988,
          0.017986063433017122,
          0.017853249955483683,
          0.01835675223342454,
          0.0182807728827591,
          0.018730658585631887,
          0.018679017414109687,
          0.01912609359036171,
          0.019463299937862916,
          0.019119385906521198,
          0.018837304607303124,
          0.018884744668905284,
          0.019377950924019102,
          0.019507079385204684,
          0.019006257044341196,
          0.01869399899841597,
          0.01852495376406058,
          0.01819720571892636,
          0.018095223978552597,
          0.017964120898657666,
          0.017648876896812264,
          0.01784239392207673,
          0.01766775684440456,
          0.01729047725355198,
          0.017189921271942233,
          0.017697131891586906,
          0.017809683776384113,
          0.01748068233399023,
          0.01734461598739605,
          0.017315251334701458,
          0.017289743730468425,
          0.01688001633308048,
          0.016754477356204583,
          0.016987496864761843,
          0.016804973642012288,
          0.016912327414322026,
          0.016907181069574735,
          0.016874967305894384,
          0.016946896870712772,
          0.016934613561445003,
          0.016861920182606138,
          0.016606787686377578,
          0.01671479855515047,
          0.016729596388272924,
          0.016710366029348094,
          0.016640674938143748,
          0.016501208235549358,
          0.016197860744457462,
          0.016438718836259837,
          0.016476799516151427,
          0.016343558243780847,
          0.016503105005443865,
          0.016529610827778644,
          0.016438489772811992,
          0.016417314164695617,
          0.016373426511229437,
          0.016189127362558117,
          0.016283855878718483,
          0.01633544615947213,
          0.016527074760275776,
          0.01642998873558948,
          0.016256045342979766,
          0.016245664002476966,
          0.016469605395388786,
          0.01623810659038221,
          0.016313382094936078,
          0.016314305239400303,
          0.01629938027227165,
          0.01616973850079836,
          0.016134758056353473,
          0.01621307781929607,
          0.01622697055533106,
          0.016186751350178896,
          0.016326755091075847,
          0.01626331376148304,
          0.016446198220535713,
          0.016500155412274082,
          0.016424561492797318,
          0.016455676998055967
         ]
        },
        {
         "line": {
          "color": "green",
          "dash": "dash",
          "width": 1
         },
         "name": "$+ \\sigma$",
         "type": "scatter",
         "x": [
          0,
          0.2,
          0.4,
          0.6000000000000001,
          0.8,
          1,
          1.2000000000000002,
          1.4000000000000001,
          1.6,
          1.8,
          2,
          2.2,
          2.4000000000000004,
          2.6,
          2.8000000000000003,
          3,
          3.2,
          3.4000000000000004,
          3.6,
          3.8000000000000003,
          4,
          4.2,
          4.4,
          4.6000000000000005,
          4.800000000000001,
          5,
          5.2,
          5.4,
          5.6000000000000005,
          5.800000000000001,
          6,
          6.2,
          6.4,
          6.6000000000000005,
          6.800000000000001,
          7,
          7.2,
          7.4,
          7.6000000000000005,
          7.800000000000001,
          8,
          8.200000000000001,
          8.4,
          8.6,
          8.8,
          9,
          9.200000000000001,
          9.4,
          9.600000000000001,
          9.8,
          10,
          10.200000000000001,
          10.4,
          10.600000000000001,
          10.8,
          11,
          11.200000000000001,
          11.4,
          11.600000000000001,
          11.8,
          12,
          12.200000000000001,
          12.4,
          12.600000000000001,
          12.8,
          13,
          13.200000000000001,
          13.4,
          13.600000000000001,
          13.8,
          14,
          14.200000000000001,
          14.4,
          14.600000000000001,
          14.8,
          15,
          15.200000000000001,
          15.4,
          15.600000000000001,
          15.8,
          16,
          16.2,
          16.400000000000002,
          16.6,
          16.8,
          17,
          17.2,
          17.400000000000002,
          17.6,
          17.8,
          18,
          18.2,
          18.400000000000002,
          18.6,
          18.8,
          19,
          19.200000000000003,
          19.400000000000002,
          19.6,
          19.8,
          20,
          20.200000000000003,
          20.400000000000002,
          20.6,
          20.8,
          21,
          21.200000000000003,
          21.400000000000002,
          21.6,
          21.8,
          22,
          22.200000000000003,
          22.400000000000002,
          22.6,
          22.8,
          23,
          23.200000000000003,
          23.400000000000002,
          23.6,
          23.8,
          24,
          24.200000000000003,
          24.400000000000002,
          24.6,
          24.8,
          25,
          25.200000000000003,
          25.400000000000002,
          25.6,
          25.8,
          26,
          26.200000000000003,
          26.400000000000002,
          26.6,
          26.8,
          27,
          27.200000000000003,
          27.400000000000002,
          27.6,
          27.8,
          28,
          28.200000000000003,
          28.400000000000002,
          28.6,
          28.8,
          29,
          29.200000000000003,
          29.400000000000002,
          29.6,
          29.8,
          30
         ],
         "y": [
          0.1,
          0.2741059401707905,
          0.45660845942871897,
          0.461773447508176,
          0.3841959628246591,
          0.3023476293586269,
          0.2815402793607017,
          0.22969642491141853,
          0.17748771264244992,
          0.13497668424387377,
          0.09999313702854407,
          0.09463162643209669,
          0.08591185611307235,
          0.08127867293634292,
          0.0739961598559177,
          0.06277324933778292,
          0.060507590127358804,
          0.054969012558294436,
          0.05754933532706355,
          0.047954800966137544,
          0.042456835235207484,
          0.04395843677689143,
          0.04194182686021847,
          0.04140689500152031,
          0.03763499097513557,
          0.03753916251374027,
          0.03929892995332934,
          0.03738101352527023,
          0.036095171646652685,
          0.03581160641144548,
          0.03380203172520625,
          0.03469570777459059,
          0.034486494651865346,
          0.03180489178798062,
          0.03158463900449672,
          0.031334306523076706,
          0.02946878466876269,
          0.028404202467938552,
          0.02828330491168373,
          0.02757820223081118,
          0.027960504054204964,
          0.028787513241298884,
          0.028795637184895626,
          0.02783175137861982,
          0.02682332146189611,
          0.026565133197206593,
          0.026180042988074335,
          0.025893402669624328,
          0.025434000104135452,
          0.024808063621194712,
          0.02427445469871802,
          0.023558570117784474,
          0.02323348946688026,
          0.022636049125733918,
          0.022674100983041998,
          0.022116598797033378,
          0.02198912490300922,
          0.022527548163357745,
          0.022731770719417198,
          0.022632934723447334,
          0.022516445344791292,
          0.02248906359738535,
          0.022152360912859843,
          0.02190380188113004,
          0.0218302691710101,
          0.02225440950795792,
          0.02272097442399244,
          0.02270776580807808,
          0.022524203892942397,
          0.022609288061235144,
          0.02212460591169088,
          0.022318477282718744,
          0.02162564913400479,
          0.02070593511641993,
          0.020548361365624844,
          0.021027762414280782,
          0.020928312593964937,
          0.02135533193594829,
          0.021281403378709464,
          0.021706747421607546,
          0.022022754478339,
          0.021658152812260984,
          0.0213558754884223,
          0.021383592154191007,
          0.021857529655435484,
          0.021967826947742856,
          0.0214485948361634,
          0.021118333045811493,
          0.020931675485341545,
          0.02058669264103922,
          0.020467840409862475,
          0.020320218561074056,
          0.01998879552016284,
          0.02016646180339849,
          0.01997629137460558,
          0.019583785413700757,
          0.01946830010126282,
          0.01996086892907502,
          0.02005905747781092,
          0.019715962465924615,
          0.019566063999752296,
          0.019523120713205677,
          0.01948428033033328,
          0.019061458695082488,
          0.01892305700627098,
          0.01914343859809388,
          0.018948495792698132,
          0.019043642111324807,
          0.019026494479918936,
          0.018982479865816426,
          0.01904280350548876,
          0.019019103894559852,
          0.018935178734883276,
          0.018668994065646854,
          0.018766127636993455,
          0.018770218488349272,
          0.018740447067773704,
          0.018660376596360988,
          0.018510688106101375,
          0.018197272474052385,
          0.01842821226248636,
          0.01845652079818467,
          0.018313649987396423,
          0.018463706382638483,
          0.018480857691277518,
          0.018380514765726316,
          0.018350246825577676,
          0.018297393374758185,
          0.018104252056074372,
          0.018190259214816106,
          0.01823324622483959,
          0.018416387000971382,
          0.018310926038923075,
          0.01812871811616397,
          0.018110180248201907,
          0.018326070784465676,
          0.018086624531593175,
          0.01815405380222006,
          0.01814722979649791,
          0.018124654694945085,
          0.017987457796736533,
          0.01794501528286636,
          0.018015964138897132,
          0.0180225752893012,
          0.01797516203020069,
          0.018108057509022203,
          0.01803759201744017,
          0.01821353476913617,
          0.01826063110741199,
          0.018178255630794095,
          0.018202667359341687
         ]
        },
        {
         "line": {
          "color": "firebrick",
          "dash": "dash",
          "width": 1
         },
         "name": "$-\\sigma$",
         "type": "scatter",
         "x": [
          0,
          0.2,
          0.4,
          0.6000000000000001,
          0.8,
          1,
          1.2000000000000002,
          1.4000000000000001,
          1.6,
          1.8,
          2,
          2.2,
          2.4000000000000004,
          2.6,
          2.8000000000000003,
          3,
          3.2,
          3.4000000000000004,
          3.6,
          3.8000000000000003,
          4,
          4.2,
          4.4,
          4.6000000000000005,
          4.800000000000001,
          5,
          5.2,
          5.4,
          5.6000000000000005,
          5.800000000000001,
          6,
          6.2,
          6.4,
          6.6000000000000005,
          6.800000000000001,
          7,
          7.2,
          7.4,
          7.6000000000000005,
          7.800000000000001,
          8,
          8.200000000000001,
          8.4,
          8.6,
          8.8,
          9,
          9.200000000000001,
          9.4,
          9.600000000000001,
          9.8,
          10,
          10.200000000000001,
          10.4,
          10.600000000000001,
          10.8,
          11,
          11.200000000000001,
          11.4,
          11.600000000000001,
          11.8,
          12,
          12.200000000000001,
          12.4,
          12.600000000000001,
          12.8,
          13,
          13.200000000000001,
          13.4,
          13.600000000000001,
          13.8,
          14,
          14.200000000000001,
          14.4,
          14.600000000000001,
          14.8,
          15,
          15.200000000000001,
          15.4,
          15.600000000000001,
          15.8,
          16,
          16.2,
          16.400000000000002,
          16.6,
          16.8,
          17,
          17.2,
          17.400000000000002,
          17.6,
          17.8,
          18,
          18.2,
          18.400000000000002,
          18.6,
          18.8,
          19,
          19.200000000000003,
          19.400000000000002,
          19.6,
          19.8,
          20,
          20.200000000000003,
          20.400000000000002,
          20.6,
          20.8,
          21,
          21.200000000000003,
          21.400000000000002,
          21.6,
          21.8,
          22,
          22.200000000000003,
          22.400000000000002,
          22.6,
          22.8,
          23,
          23.200000000000003,
          23.400000000000002,
          23.6,
          23.8,
          24,
          24.200000000000003,
          24.400000000000002,
          24.6,
          24.8,
          25,
          25.200000000000003,
          25.400000000000002,
          25.6,
          25.8,
          26,
          26.200000000000003,
          26.400000000000002,
          26.6,
          26.8,
          27,
          27.200000000000003,
          27.400000000000002,
          27.6,
          27.8,
          28,
          28.200000000000003,
          28.400000000000002,
          28.6,
          28.8,
          29,
          29.200000000000003,
          29.400000000000002,
          29.6,
          29.8,
          30
         ],
         "y": [
          -0.1,
          0.08550028955540695,
          0.29306058124615064,
          0.3278433099941462,
          0.27633547348596893,
          0.2148218650448317,
          0.20932631031178334,
          0.16901919152124237,
          0.12562381387829383,
          0.08996547456524051,
          0.06040585056956376,
          0.05940935954101916,
          0.05425573418478567,
          0.05257557293684433,
          0.04776796697659128,
          0.0386416662925181,
          0.038169323490387,
          0.034177981884899566,
          0.03810371101628922,
          0.02968741624614333,
          0.02522799316489909,
          0.027650442917711474,
          0.026454782999575946,
          0.026655426652890484,
          0.02354567488893504,
          0.024048485014749,
          0.02635165213766788,
          0.02492885142286446,
          0.024095722485770958,
          0.024227468852263588,
          0.022600080216377317,
          0.023846490303850262,
          0.023963729992489614,
          0.02158504750771192,
          0.021646575442471564,
          0.021658974968813596,
          0.020038970323770826,
          0.019204304601827933,
          0.019299148063760728,
          0.01879687344641868,
          0.019370212050971558,
          0.020377466125670166,
          0.02055593592311513,
          0.019753296698776224,
          0.018897732247924924,
          0.01878467474978864,
          0.018537563785218317,
          0.01838227847234321,
          0.01804808442869055,
          0.017541643745756147,
          0.017122212494447012,
          0.016515547096662583,
          0.016295055524615007,
          0.015797874530604845,
          0.015932131222923036,
          0.0154670319489162,
          0.015428391233694057,
          0.016052291707833975,
          0.016338832615864003,
          0.016319338111603073,
          0.016279381658380648,
          0.016325880101947205,
          0.01606054935818092,
          0.01588098815297208,
          0.01587420384026962,
          0.016362959187108693,
          0.016892113850878996,
          0.016939570586061763,
          0.016814843824227137,
          0.016957021017068637,
          0.01652777218917645,
          0.016775494403293508,
          0.016135007043334967,
          0.015266191749614313,
          0.015158138545342523,
          0.0156857420525683,
          0.01563323317155326,
          0.016105985235315486,
          0.01607663144950991,
          0.016545439759115876,
          0.016903845397386832,
          0.01658061900078141,
          0.016318733726183948,
          0.01638589718361956,
          0.01689837219260272,
          0.017046331822666513,
          0.01656391925251899,
          0.01626966495102045,
          0.016118232042779613,
          0.015807718796813502,
          0.01572260754724272,
          0.015608023236241275,
          0.015308958273461687,
          0.015518326040754968,
          0.015359222314203542,
          0.014997169093403201,
          0.014911542442621648,
          0.015433394854098791,
          0.015560310074957305,
          0.01524540220205584,
          0.015123167975039804,
          0.015107381956197239,
          0.01509520713060357,
          0.014698573971078474,
          0.014585897706138187,
          0.014831555131429806,
          0.014661451491326444,
          0.014781012717319245,
          0.014787867659230534,
          0.014767454745972344,
          0.014850990235936785,
          0.014850123228330155,
          0.014788661630328999,
          0.014544581307108301,
          0.014663469473307485,
          0.014688974288196575,
          0.014680284990922483,
          0.014620973279926508,
          0.01449172836499734,
          0.01419844901486254,
          0.014449225410033316,
          0.014497078234118183,
          0.014373466500165272,
          0.014542503628249246,
          0.014578363964279771,
          0.014496464779897668,
          0.014484381503813558,
          0.014449459647700688,
          0.01427400266904186,
          0.01437745254262086,
          0.014437646094104669,
          0.01463776251958017,
          0.014549051432255888,
          0.014383372569795562,
          0.014381147756752026,
          0.014613140006311896,
          0.014389588649171248,
          0.014472710387652094,
          0.014481380682302697,
          0.01447410584959821,
          0.01435201920486019,
          0.014324500829840587,
          0.014410191499695009,
          0.01443136582136092,
          0.014398340670157102,
          0.014545452673129488,
          0.014489035505525914,
          0.014678861671935255,
          0.014739679717136177,
          0.014670867354800542,
          0.014708686636770245
         ]
        },
        {
         "name": "True bias",
         "type": "scatter",
         "x": [
          0,
          0.2,
          0.4,
          0.6000000000000001,
          0.8,
          1,
          1.2000000000000002,
          1.4000000000000001,
          1.6,
          1.8,
          2,
          2.2,
          2.4000000000000004,
          2.6,
          2.8000000000000003,
          3,
          3.2,
          3.4000000000000004,
          3.6,
          3.8000000000000003,
          4,
          4.2,
          4.4,
          4.6000000000000005,
          4.800000000000001,
          5,
          5.2,
          5.4,
          5.6000000000000005,
          5.800000000000001,
          6,
          6.2,
          6.4,
          6.6000000000000005,
          6.800000000000001,
          7,
          7.2,
          7.4,
          7.6000000000000005,
          7.800000000000001,
          8,
          8.200000000000001,
          8.4,
          8.6,
          8.8,
          9,
          9.200000000000001,
          9.4,
          9.600000000000001,
          9.8,
          10,
          10.200000000000001,
          10.4,
          10.600000000000001,
          10.8,
          11,
          11.200000000000001,
          11.4,
          11.600000000000001,
          11.8,
          12,
          12.200000000000001,
          12.4,
          12.600000000000001,
          12.8,
          13,
          13.200000000000001,
          13.4,
          13.600000000000001,
          13.8,
          14,
          14.200000000000001,
          14.4,
          14.600000000000001,
          14.8,
          15,
          15.200000000000001,
          15.4,
          15.600000000000001,
          15.8,
          16,
          16.2,
          16.400000000000002,
          16.6,
          16.8,
          17,
          17.2,
          17.400000000000002,
          17.6,
          17.8,
          18,
          18.2,
          18.400000000000002,
          18.6,
          18.8,
          19,
          19.200000000000003,
          19.400000000000002,
          19.6,
          19.8,
          20,
          20.200000000000003,
          20.400000000000002,
          20.6,
          20.8,
          21,
          21.200000000000003,
          21.400000000000002,
          21.6,
          21.8,
          22,
          22.200000000000003,
          22.400000000000002,
          22.6,
          22.8,
          23,
          23.200000000000003,
          23.400000000000002,
          23.6,
          23.8,
          24,
          24.200000000000003,
          24.400000000000002,
          24.6,
          24.8,
          25,
          25.200000000000003,
          25.400000000000002,
          25.6,
          25.8,
          26,
          26.200000000000003,
          26.400000000000002,
          26.6,
          26.8,
          27,
          27.200000000000003,
          27.400000000000002,
          27.6,
          27.8,
          28,
          28.200000000000003,
          28.400000000000002,
          28.6,
          28.8,
          29,
          29.200000000000003,
          29.400000000000002,
          29.6,
          29.8,
          30
         ],
         "y": [
          0.014834860063309455,
          0.014834860063309455,
          0.014834860063309455,
          0.014834860063309455,
          0.014834860063309455,
          0.014834860063309455,
          0.014834860063309455,
          0.014834860063309455,
          0.014834860063309455,
          0.014834860063309455,
          0.014834860063309455,
          0.014834860063309455,
          0.014834860063309455,
          0.014834860063309455,
          0.014834860063309455,
          0.014834860063309455,
          0.014834860063309455,
          0.014834860063309455,
          0.014834860063309455,
          0.014834860063309455,
          0.014834860063309455,
          0.014834860063309455,
          0.014834860063309455,
          0.014834860063309455,
          0.014834860063309455,
          0.014834860063309455,
          0.014834860063309455,
          0.014834860063309455,
          0.014834860063309455,
          0.014834860063309455,
          0.014834860063309455,
          0.014834860063309455,
          0.014834860063309455,
          0.014834860063309455,
          0.014834860063309455,
          0.014834860063309455,
          0.014834860063309455,
          0.014834860063309455,
          0.014834860063309455,
          0.014834860063309455,
          0.014834860063309455,
          0.014834860063309455,
          0.014834860063309455,
          0.014834860063309455,
          0.014834860063309455,
          0.014834860063309455,
          0.014834860063309455,
          0.014834860063309455,
          0.014834860063309455,
          0.014834860063309455,
          0.014834860063309455,
          0.014834860063309455,
          0.014834860063309455,
          0.014834860063309455,
          0.014834860063309455,
          0.014834860063309455,
          0.014834860063309455,
          0.014834860063309455,
          0.014834860063309455,
          0.014834860063309455,
          0.014834860063309455,
          0.014834860063309455,
          0.014834860063309455,
          0.014834860063309455,
          0.014834860063309455,
          0.014834860063309455,
          0.014834860063309455,
          0.014834860063309455,
          0.014834860063309455,
          0.014834860063309455,
          0.014834860063309455,
          0.014834860063309455,
          0.014834860063309455,
          0.014834860063309455,
          0.014834860063309455,
          0.014834860063309455,
          0.014834860063309455,
          0.014834860063309455,
          0.014834860063309455,
          0.014834860063309455,
          0.014834860063309455,
          0.014834860063309455,
          0.014834860063309455,
          0.014834860063309455,
          0.014834860063309455,
          0.014834860063309455,
          0.014834860063309455,
          0.014834860063309455,
          0.014834860063309455,
          0.014834860063309455,
          0.014834860063309455,
          0.014834860063309455,
          0.014834860063309455,
          0.014834860063309455,
          0.014834860063309455,
          0.014834860063309455,
          0.014834860063309455,
          0.014834860063309455,
          0.014834860063309455,
          0.014834860063309455,
          0.014834860063309455,
          0.014834860063309455,
          0.014834860063309455,
          0.014834860063309455,
          0.014834860063309455,
          0.014834860063309455,
          0.014834860063309455,
          0.014834860063309455,
          0.014834860063309455,
          0.014834860063309455,
          0.014834860063309455,
          0.014834860063309455,
          0.014834860063309455,
          0.014834860063309455,
          0.014834860063309455,
          0.014834860063309455,
          0.014834860063309455,
          0.014834860063309455,
          0.014834860063309455,
          0.014834860063309455,
          0.014834860063309455,
          0.014834860063309455,
          0.014834860063309455,
          0.014834860063309455,
          0.014834860063309455,
          0.014834860063309455,
          0.014834860063309455,
          0.014834860063309455,
          0.014834860063309455,
          0.014834860063309455,
          0.014834860063309455,
          0.014834860063309455,
          0.014834860063309455,
          0.014834860063309455,
          0.014834860063309455,
          0.014834860063309455,
          0.014834860063309455,
          0.014834860063309455,
          0.014834860063309455,
          0.014834860063309455,
          0.014834860063309455,
          0.014834860063309455,
          0.014834860063309455,
          0.014834860063309455,
          0.014834860063309455,
          0.014834860063309455,
          0.014834860063309455,
          0.014834860063309455,
          0.014834860063309455,
          0.014834860063309455,
          0.014834860063309455
         ]
        }
       ],
       "layout": {
        "template": {
         "data": {
          "bar": [
           {
            "error_x": {
             "color": "#2a3f5f"
            },
            "error_y": {
             "color": "#2a3f5f"
            },
            "marker": {
             "line": {
              "color": "#E5ECF6",
              "width": 0.5
             }
            },
            "type": "bar"
           }
          ],
          "barpolar": [
           {
            "marker": {
             "line": {
              "color": "#E5ECF6",
              "width": 0.5
             }
            },
            "type": "barpolar"
           }
          ],
          "carpet": [
           {
            "aaxis": {
             "endlinecolor": "#2a3f5f",
             "gridcolor": "white",
             "linecolor": "white",
             "minorgridcolor": "white",
             "startlinecolor": "#2a3f5f"
            },
            "baxis": {
             "endlinecolor": "#2a3f5f",
             "gridcolor": "white",
             "linecolor": "white",
             "minorgridcolor": "white",
             "startlinecolor": "#2a3f5f"
            },
            "type": "carpet"
           }
          ],
          "choropleth": [
           {
            "colorbar": {
             "outlinewidth": 0,
             "ticks": ""
            },
            "type": "choropleth"
           }
          ],
          "contour": [
           {
            "colorbar": {
             "outlinewidth": 0,
             "ticks": ""
            },
            "colorscale": [
             [
              0,
              "#0d0887"
             ],
             [
              0.1111111111111111,
              "#46039f"
             ],
             [
              0.2222222222222222,
              "#7201a8"
             ],
             [
              0.3333333333333333,
              "#9c179e"
             ],
             [
              0.4444444444444444,
              "#bd3786"
             ],
             [
              0.5555555555555556,
              "#d8576b"
             ],
             [
              0.6666666666666666,
              "#ed7953"
             ],
             [
              0.7777777777777778,
              "#fb9f3a"
             ],
             [
              0.8888888888888888,
              "#fdca26"
             ],
             [
              1,
              "#f0f921"
             ]
            ],
            "type": "contour"
           }
          ],
          "contourcarpet": [
           {
            "colorbar": {
             "outlinewidth": 0,
             "ticks": ""
            },
            "type": "contourcarpet"
           }
          ],
          "heatmap": [
           {
            "colorbar": {
             "outlinewidth": 0,
             "ticks": ""
            },
            "colorscale": [
             [
              0,
              "#0d0887"
             ],
             [
              0.1111111111111111,
              "#46039f"
             ],
             [
              0.2222222222222222,
              "#7201a8"
             ],
             [
              0.3333333333333333,
              "#9c179e"
             ],
             [
              0.4444444444444444,
              "#bd3786"
             ],
             [
              0.5555555555555556,
              "#d8576b"
             ],
             [
              0.6666666666666666,
              "#ed7953"
             ],
             [
              0.7777777777777778,
              "#fb9f3a"
             ],
             [
              0.8888888888888888,
              "#fdca26"
             ],
             [
              1,
              "#f0f921"
             ]
            ],
            "type": "heatmap"
           }
          ],
          "heatmapgl": [
           {
            "colorbar": {
             "outlinewidth": 0,
             "ticks": ""
            },
            "colorscale": [
             [
              0,
              "#0d0887"
             ],
             [
              0.1111111111111111,
              "#46039f"
             ],
             [
              0.2222222222222222,
              "#7201a8"
             ],
             [
              0.3333333333333333,
              "#9c179e"
             ],
             [
              0.4444444444444444,
              "#bd3786"
             ],
             [
              0.5555555555555556,
              "#d8576b"
             ],
             [
              0.6666666666666666,
              "#ed7953"
             ],
             [
              0.7777777777777778,
              "#fb9f3a"
             ],
             [
              0.8888888888888888,
              "#fdca26"
             ],
             [
              1,
              "#f0f921"
             ]
            ],
            "type": "heatmapgl"
           }
          ],
          "histogram": [
           {
            "marker": {
             "colorbar": {
              "outlinewidth": 0,
              "ticks": ""
             }
            },
            "type": "histogram"
           }
          ],
          "histogram2d": [
           {
            "colorbar": {
             "outlinewidth": 0,
             "ticks": ""
            },
            "colorscale": [
             [
              0,
              "#0d0887"
             ],
             [
              0.1111111111111111,
              "#46039f"
             ],
             [
              0.2222222222222222,
              "#7201a8"
             ],
             [
              0.3333333333333333,
              "#9c179e"
             ],
             [
              0.4444444444444444,
              "#bd3786"
             ],
             [
              0.5555555555555556,
              "#d8576b"
             ],
             [
              0.6666666666666666,
              "#ed7953"
             ],
             [
              0.7777777777777778,
              "#fb9f3a"
             ],
             [
              0.8888888888888888,
              "#fdca26"
             ],
             [
              1,
              "#f0f921"
             ]
            ],
            "type": "histogram2d"
           }
          ],
          "histogram2dcontour": [
           {
            "colorbar": {
             "outlinewidth": 0,
             "ticks": ""
            },
            "colorscale": [
             [
              0,
              "#0d0887"
             ],
             [
              0.1111111111111111,
              "#46039f"
             ],
             [
              0.2222222222222222,
              "#7201a8"
             ],
             [
              0.3333333333333333,
              "#9c179e"
             ],
             [
              0.4444444444444444,
              "#bd3786"
             ],
             [
              0.5555555555555556,
              "#d8576b"
             ],
             [
              0.6666666666666666,
              "#ed7953"
             ],
             [
              0.7777777777777778,
              "#fb9f3a"
             ],
             [
              0.8888888888888888,
              "#fdca26"
             ],
             [
              1,
              "#f0f921"
             ]
            ],
            "type": "histogram2dcontour"
           }
          ],
          "mesh3d": [
           {
            "colorbar": {
             "outlinewidth": 0,
             "ticks": ""
            },
            "type": "mesh3d"
           }
          ],
          "parcoords": [
           {
            "line": {
             "colorbar": {
              "outlinewidth": 0,
              "ticks": ""
             }
            },
            "type": "parcoords"
           }
          ],
          "pie": [
           {
            "automargin": true,
            "type": "pie"
           }
          ],
          "scatter": [
           {
            "marker": {
             "colorbar": {
              "outlinewidth": 0,
              "ticks": ""
             }
            },
            "type": "scatter"
           }
          ],
          "scatter3d": [
           {
            "line": {
             "colorbar": {
              "outlinewidth": 0,
              "ticks": ""
             }
            },
            "marker": {
             "colorbar": {
              "outlinewidth": 0,
              "ticks": ""
             }
            },
            "type": "scatter3d"
           }
          ],
          "scattercarpet": [
           {
            "marker": {
             "colorbar": {
              "outlinewidth": 0,
              "ticks": ""
             }
            },
            "type": "scattercarpet"
           }
          ],
          "scattergeo": [
           {
            "marker": {
             "colorbar": {
              "outlinewidth": 0,
              "ticks": ""
             }
            },
            "type": "scattergeo"
           }
          ],
          "scattergl": [
           {
            "marker": {
             "colorbar": {
              "outlinewidth": 0,
              "ticks": ""
             }
            },
            "type": "scattergl"
           }
          ],
          "scattermapbox": [
           {
            "marker": {
             "colorbar": {
              "outlinewidth": 0,
              "ticks": ""
             }
            },
            "type": "scattermapbox"
           }
          ],
          "scatterpolar": [
           {
            "marker": {
             "colorbar": {
              "outlinewidth": 0,
              "ticks": ""
             }
            },
            "type": "scatterpolar"
           }
          ],
          "scatterpolargl": [
           {
            "marker": {
             "colorbar": {
              "outlinewidth": 0,
              "ticks": ""
             }
            },
            "type": "scatterpolargl"
           }
          ],
          "scatterternary": [
           {
            "marker": {
             "colorbar": {
              "outlinewidth": 0,
              "ticks": ""
             }
            },
            "type": "scatterternary"
           }
          ],
          "surface": [
           {
            "colorbar": {
             "outlinewidth": 0,
             "ticks": ""
            },
            "colorscale": [
             [
              0,
              "#0d0887"
             ],
             [
              0.1111111111111111,
              "#46039f"
             ],
             [
              0.2222222222222222,
              "#7201a8"
             ],
             [
              0.3333333333333333,
              "#9c179e"
             ],
             [
              0.4444444444444444,
              "#bd3786"
             ],
             [
              0.5555555555555556,
              "#d8576b"
             ],
             [
              0.6666666666666666,
              "#ed7953"
             ],
             [
              0.7777777777777778,
              "#fb9f3a"
             ],
             [
              0.8888888888888888,
              "#fdca26"
             ],
             [
              1,
              "#f0f921"
             ]
            ],
            "type": "surface"
           }
          ],
          "table": [
           {
            "cells": {
             "fill": {
              "color": "#EBF0F8"
             },
             "line": {
              "color": "white"
             }
            },
            "header": {
             "fill": {
              "color": "#C8D4E3"
             },
             "line": {
              "color": "white"
             }
            },
            "type": "table"
           }
          ]
         },
         "layout": {
          "annotationdefaults": {
           "arrowcolor": "#2a3f5f",
           "arrowhead": 0,
           "arrowwidth": 1
          },
          "coloraxis": {
           "colorbar": {
            "outlinewidth": 0,
            "ticks": ""
           }
          },
          "colorscale": {
           "diverging": [
            [
             0,
             "#8e0152"
            ],
            [
             0.1,
             "#c51b7d"
            ],
            [
             0.2,
             "#de77ae"
            ],
            [
             0.3,
             "#f1b6da"
            ],
            [
             0.4,
             "#fde0ef"
            ],
            [
             0.5,
             "#f7f7f7"
            ],
            [
             0.6,
             "#e6f5d0"
            ],
            [
             0.7,
             "#b8e186"
            ],
            [
             0.8,
             "#7fbc41"
            ],
            [
             0.9,
             "#4d9221"
            ],
            [
             1,
             "#276419"
            ]
           ],
           "sequential": [
            [
             0,
             "#0d0887"
            ],
            [
             0.1111111111111111,
             "#46039f"
            ],
            [
             0.2222222222222222,
             "#7201a8"
            ],
            [
             0.3333333333333333,
             "#9c179e"
            ],
            [
             0.4444444444444444,
             "#bd3786"
            ],
            [
             0.5555555555555556,
             "#d8576b"
            ],
            [
             0.6666666666666666,
             "#ed7953"
            ],
            [
             0.7777777777777778,
             "#fb9f3a"
            ],
            [
             0.8888888888888888,
             "#fdca26"
            ],
            [
             1,
             "#f0f921"
            ]
           ],
           "sequentialminus": [
            [
             0,
             "#0d0887"
            ],
            [
             0.1111111111111111,
             "#46039f"
            ],
            [
             0.2222222222222222,
             "#7201a8"
            ],
            [
             0.3333333333333333,
             "#9c179e"
            ],
            [
             0.4444444444444444,
             "#bd3786"
            ],
            [
             0.5555555555555556,
             "#d8576b"
            ],
            [
             0.6666666666666666,
             "#ed7953"
            ],
            [
             0.7777777777777778,
             "#fb9f3a"
            ],
            [
             0.8888888888888888,
             "#fdca26"
            ],
            [
             1,
             "#f0f921"
            ]
           ]
          },
          "colorway": [
           "#636efa",
           "#EF553B",
           "#00cc96",
           "#ab63fa",
           "#FFA15A",
           "#19d3f3",
           "#FF6692",
           "#B6E880",
           "#FF97FF",
           "#FECB52"
          ],
          "font": {
           "color": "#2a3f5f"
          },
          "geo": {
           "bgcolor": "white",
           "lakecolor": "white",
           "landcolor": "#E5ECF6",
           "showlakes": true,
           "showland": true,
           "subunitcolor": "white"
          },
          "hoverlabel": {
           "align": "left"
          },
          "hovermode": "closest",
          "mapbox": {
           "style": "light"
          },
          "paper_bgcolor": "white",
          "plot_bgcolor": "#E5ECF6",
          "polar": {
           "angularaxis": {
            "gridcolor": "white",
            "linecolor": "white",
            "ticks": ""
           },
           "bgcolor": "#E5ECF6",
           "radialaxis": {
            "gridcolor": "white",
            "linecolor": "white",
            "ticks": ""
           }
          },
          "scene": {
           "xaxis": {
            "backgroundcolor": "#E5ECF6",
            "gridcolor": "white",
            "gridwidth": 2,
            "linecolor": "white",
            "showbackground": true,
            "ticks": "",
            "zerolinecolor": "white"
           },
           "yaxis": {
            "backgroundcolor": "#E5ECF6",
            "gridcolor": "white",
            "gridwidth": 2,
            "linecolor": "white",
            "showbackground": true,
            "ticks": "",
            "zerolinecolor": "white"
           },
           "zaxis": {
            "backgroundcolor": "#E5ECF6",
            "gridcolor": "white",
            "gridwidth": 2,
            "linecolor": "white",
            "showbackground": true,
            "ticks": "",
            "zerolinecolor": "white"
           }
          },
          "shapedefaults": {
           "line": {
            "color": "#2a3f5f"
           }
          },
          "ternary": {
           "aaxis": {
            "gridcolor": "white",
            "linecolor": "white",
            "ticks": ""
           },
           "baxis": {
            "gridcolor": "white",
            "linecolor": "white",
            "ticks": ""
           },
           "bgcolor": "#E5ECF6",
           "caxis": {
            "gridcolor": "white",
            "linecolor": "white",
            "ticks": ""
           }
          },
          "title": {
           "x": 0.05
          },
          "xaxis": {
           "automargin": true,
           "gridcolor": "white",
           "linecolor": "white",
           "ticks": "",
           "title": {
            "standoff": 15
           },
           "zerolinecolor": "white",
           "zerolinewidth": 2
          },
          "yaxis": {
           "automargin": true,
           "gridcolor": "white",
           "linecolor": "white",
           "ticks": "",
           "title": {
            "standoff": 15
           },
           "zerolinecolor": "white",
           "zerolinewidth": 2
          }
         }
        },
        "title": {
         "text": "True Bias vs.Estimated Bias",
         "x": 0.48,
         "xanchor": "center",
         "y": 0.9,
         "yanchor": "top"
        },
        "xaxis": {
         "title": {
          "text": "Time (sec)"
         }
        },
        "yaxis": {
         "title": {
          "text": "Bias ($m/sec^2$)"
         }
        }
       }
      },
      "text/html": [
       "<div>\n",
       "        \n",
       "        \n",
       "            <div id=\"582d0809-e082-4e02-b287-993ab3357b9d\" class=\"plotly-graph-div\" style=\"height:525px; width:100%;\"></div>\n",
       "            <script type=\"text/javascript\">\n",
       "                require([\"plotly\"], function(Plotly) {\n",
       "                    window.PLOTLYENV=window.PLOTLYENV || {};\n",
       "                    \n",
       "                if (document.getElementById(\"582d0809-e082-4e02-b287-993ab3357b9d\")) {\n",
       "                    Plotly.newPlot(\n",
       "                        '582d0809-e082-4e02-b287-993ab3357b9d',\n",
       "                        [{\"name\": \"Estimated bias\", \"type\": \"scatter\", \"x\": [0.0, 0.2, 0.4, 0.6000000000000001, 0.8, 1.0, 1.2000000000000002, 1.4000000000000001, 1.6, 1.8, 2.0, 2.2, 2.4000000000000004, 2.6, 2.8000000000000003, 3.0, 3.2, 3.4000000000000004, 3.6, 3.8000000000000003, 4.0, 4.2, 4.4, 4.6000000000000005, 4.800000000000001, 5.0, 5.2, 5.4, 5.6000000000000005, 5.800000000000001, 6.0, 6.2, 6.4, 6.6000000000000005, 6.800000000000001, 7.0, 7.2, 7.4, 7.6000000000000005, 7.800000000000001, 8.0, 8.200000000000001, 8.4, 8.6, 8.8, 9.0, 9.200000000000001, 9.4, 9.600000000000001, 9.8, 10.0, 10.200000000000001, 10.4, 10.600000000000001, 10.8, 11.0, 11.200000000000001, 11.4, 11.600000000000001, 11.8, 12.0, 12.200000000000001, 12.4, 12.600000000000001, 12.8, 13.0, 13.200000000000001, 13.4, 13.600000000000001, 13.8, 14.0, 14.200000000000001, 14.4, 14.600000000000001, 14.8, 15.0, 15.200000000000001, 15.4, 15.600000000000001, 15.8, 16.0, 16.2, 16.400000000000002, 16.6, 16.8, 17.0, 17.2, 17.400000000000002, 17.6, 17.8, 18.0, 18.2, 18.400000000000002, 18.6, 18.8, 19.0, 19.200000000000003, 19.400000000000002, 19.6, 19.8, 20.0, 20.200000000000003, 20.400000000000002, 20.6, 20.8, 21.0, 21.200000000000003, 21.400000000000002, 21.6, 21.8, 22.0, 22.200000000000003, 22.400000000000002, 22.6, 22.8, 23.0, 23.200000000000003, 23.400000000000002, 23.6, 23.8, 24.0, 24.200000000000003, 24.400000000000002, 24.6, 24.8, 25.0, 25.200000000000003, 25.400000000000002, 25.6, 25.8, 26.0, 26.200000000000003, 26.400000000000002, 26.6, 26.8, 27.0, 27.200000000000003, 27.400000000000002, 27.6, 27.8, 28.0, 28.200000000000003, 28.400000000000002, 28.6, 28.8, 29.0, 29.200000000000003, 29.400000000000002, 29.6, 29.8, 30.0], \"y\": [0.0, 0.17980311486309872, 0.3748345203374348, 0.3948083787511611, 0.330265718155314, 0.2585847472017293, 0.24543329483624252, 0.19935780821633045, 0.15155576326037187, 0.11247107940455714, 0.08019949379905392, 0.07702049298655793, 0.07008379514892901, 0.06692712293659363, 0.06088206341625449, 0.05070745781515051, 0.0493384568088729, 0.044573497221597, 0.047826523171676384, 0.038821108606140436, 0.03384241420005329, 0.03580443984730145, 0.03419830492989721, 0.0340311608272054, 0.030590332932035304, 0.030793823764244634, 0.03282529104549861, 0.031154932474067344, 0.03009544706621182, 0.030019537631854533, 0.028201055970791783, 0.029271099039220427, 0.02922511232217748, 0.026694969647846272, 0.02661560722348414, 0.02649664074594515, 0.024753877496266757, 0.023804253534883243, 0.02379122648772223, 0.02318753783861493, 0.02366535805258826, 0.024582489683484525, 0.024675786554005378, 0.023792524038698023, 0.022860526854910516, 0.022674903973497616, 0.022358803386646326, 0.02213784057098377, 0.021741042266413, 0.02117485368347543, 0.020698333596582515, 0.02003705860722353, 0.019764272495747633, 0.01921696182816938, 0.019303116102982517, 0.01879181537297479, 0.01870875806835164, 0.01928991993559586, 0.0195353016676406, 0.019476136417525203, 0.01939791350158597, 0.019407471849666277, 0.01910645513552038, 0.01889239501705106, 0.01885223650563986, 0.019308684347533307, 0.019806544137435718, 0.019823668197069922, 0.019669523858584767, 0.01978315453915189, 0.019326189050433665, 0.019546985843006126, 0.01888032808866988, 0.017986063433017122, 0.017853249955483683, 0.01835675223342454, 0.0182807728827591, 0.018730658585631887, 0.018679017414109687, 0.01912609359036171, 0.019463299937862916, 0.019119385906521198, 0.018837304607303124, 0.018884744668905284, 0.019377950924019102, 0.019507079385204684, 0.019006257044341196, 0.01869399899841597, 0.01852495376406058, 0.01819720571892636, 0.018095223978552597, 0.017964120898657666, 0.017648876896812264, 0.01784239392207673, 0.01766775684440456, 0.01729047725355198, 0.017189921271942233, 0.017697131891586906, 0.017809683776384113, 0.01748068233399023, 0.01734461598739605, 0.017315251334701458, 0.017289743730468425, 0.01688001633308048, 0.016754477356204583, 0.016987496864761843, 0.016804973642012288, 0.016912327414322026, 0.016907181069574735, 0.016874967305894384, 0.016946896870712772, 0.016934613561445003, 0.016861920182606138, 0.016606787686377578, 0.01671479855515047, 0.016729596388272924, 0.016710366029348094, 0.016640674938143748, 0.016501208235549358, 0.016197860744457462, 0.016438718836259837, 0.016476799516151427, 0.016343558243780847, 0.016503105005443865, 0.016529610827778644, 0.016438489772811992, 0.016417314164695617, 0.016373426511229437, 0.016189127362558117, 0.016283855878718483, 0.01633544615947213, 0.016527074760275776, 0.01642998873558948, 0.016256045342979766, 0.016245664002476966, 0.016469605395388786, 0.01623810659038221, 0.016313382094936078, 0.016314305239400303, 0.01629938027227165, 0.01616973850079836, 0.016134758056353473, 0.01621307781929607, 0.01622697055533106, 0.016186751350178896, 0.016326755091075847, 0.01626331376148304, 0.016446198220535713, 0.016500155412274082, 0.016424561492797318, 0.016455676998055967]}, {\"line\": {\"color\": \"green\", \"dash\": \"dash\", \"width\": 1}, \"name\": \"$+ \\\\sigma$\", \"type\": \"scatter\", \"x\": [0.0, 0.2, 0.4, 0.6000000000000001, 0.8, 1.0, 1.2000000000000002, 1.4000000000000001, 1.6, 1.8, 2.0, 2.2, 2.4000000000000004, 2.6, 2.8000000000000003, 3.0, 3.2, 3.4000000000000004, 3.6, 3.8000000000000003, 4.0, 4.2, 4.4, 4.6000000000000005, 4.800000000000001, 5.0, 5.2, 5.4, 5.6000000000000005, 5.800000000000001, 6.0, 6.2, 6.4, 6.6000000000000005, 6.800000000000001, 7.0, 7.2, 7.4, 7.6000000000000005, 7.800000000000001, 8.0, 8.200000000000001, 8.4, 8.6, 8.8, 9.0, 9.200000000000001, 9.4, 9.600000000000001, 9.8, 10.0, 10.200000000000001, 10.4, 10.600000000000001, 10.8, 11.0, 11.200000000000001, 11.4, 11.600000000000001, 11.8, 12.0, 12.200000000000001, 12.4, 12.600000000000001, 12.8, 13.0, 13.200000000000001, 13.4, 13.600000000000001, 13.8, 14.0, 14.200000000000001, 14.4, 14.600000000000001, 14.8, 15.0, 15.200000000000001, 15.4, 15.600000000000001, 15.8, 16.0, 16.2, 16.400000000000002, 16.6, 16.8, 17.0, 17.2, 17.400000000000002, 17.6, 17.8, 18.0, 18.2, 18.400000000000002, 18.6, 18.8, 19.0, 19.200000000000003, 19.400000000000002, 19.6, 19.8, 20.0, 20.200000000000003, 20.400000000000002, 20.6, 20.8, 21.0, 21.200000000000003, 21.400000000000002, 21.6, 21.8, 22.0, 22.200000000000003, 22.400000000000002, 22.6, 22.8, 23.0, 23.200000000000003, 23.400000000000002, 23.6, 23.8, 24.0, 24.200000000000003, 24.400000000000002, 24.6, 24.8, 25.0, 25.200000000000003, 25.400000000000002, 25.6, 25.8, 26.0, 26.200000000000003, 26.400000000000002, 26.6, 26.8, 27.0, 27.200000000000003, 27.400000000000002, 27.6, 27.8, 28.0, 28.200000000000003, 28.400000000000002, 28.6, 28.8, 29.0, 29.200000000000003, 29.400000000000002, 29.6, 29.8, 30.0], \"y\": [0.1, 0.2741059401707905, 0.45660845942871897, 0.461773447508176, 0.3841959628246591, 0.3023476293586269, 0.2815402793607017, 0.22969642491141853, 0.17748771264244992, 0.13497668424387377, 0.09999313702854407, 0.09463162643209669, 0.08591185611307235, 0.08127867293634292, 0.0739961598559177, 0.06277324933778292, 0.060507590127358804, 0.054969012558294436, 0.05754933532706355, 0.047954800966137544, 0.042456835235207484, 0.04395843677689143, 0.04194182686021847, 0.04140689500152031, 0.03763499097513557, 0.03753916251374027, 0.03929892995332934, 0.03738101352527023, 0.036095171646652685, 0.03581160641144548, 0.03380203172520625, 0.03469570777459059, 0.034486494651865346, 0.03180489178798062, 0.03158463900449672, 0.031334306523076706, 0.02946878466876269, 0.028404202467938552, 0.02828330491168373, 0.02757820223081118, 0.027960504054204964, 0.028787513241298884, 0.028795637184895626, 0.02783175137861982, 0.02682332146189611, 0.026565133197206593, 0.026180042988074335, 0.025893402669624328, 0.025434000104135452, 0.024808063621194712, 0.02427445469871802, 0.023558570117784474, 0.02323348946688026, 0.022636049125733918, 0.022674100983041998, 0.022116598797033378, 0.02198912490300922, 0.022527548163357745, 0.022731770719417198, 0.022632934723447334, 0.022516445344791292, 0.02248906359738535, 0.022152360912859843, 0.02190380188113004, 0.0218302691710101, 0.02225440950795792, 0.02272097442399244, 0.02270776580807808, 0.022524203892942397, 0.022609288061235144, 0.02212460591169088, 0.022318477282718744, 0.02162564913400479, 0.02070593511641993, 0.020548361365624844, 0.021027762414280782, 0.020928312593964937, 0.02135533193594829, 0.021281403378709464, 0.021706747421607546, 0.022022754478339, 0.021658152812260984, 0.0213558754884223, 0.021383592154191007, 0.021857529655435484, 0.021967826947742856, 0.0214485948361634, 0.021118333045811493, 0.020931675485341545, 0.02058669264103922, 0.020467840409862475, 0.020320218561074056, 0.01998879552016284, 0.02016646180339849, 0.01997629137460558, 0.019583785413700757, 0.01946830010126282, 0.01996086892907502, 0.02005905747781092, 0.019715962465924615, 0.019566063999752296, 0.019523120713205677, 0.01948428033033328, 0.019061458695082488, 0.01892305700627098, 0.01914343859809388, 0.018948495792698132, 0.019043642111324807, 0.019026494479918936, 0.018982479865816426, 0.01904280350548876, 0.019019103894559852, 0.018935178734883276, 0.018668994065646854, 0.018766127636993455, 0.018770218488349272, 0.018740447067773704, 0.018660376596360988, 0.018510688106101375, 0.018197272474052385, 0.01842821226248636, 0.01845652079818467, 0.018313649987396423, 0.018463706382638483, 0.018480857691277518, 0.018380514765726316, 0.018350246825577676, 0.018297393374758185, 0.018104252056074372, 0.018190259214816106, 0.01823324622483959, 0.018416387000971382, 0.018310926038923075, 0.01812871811616397, 0.018110180248201907, 0.018326070784465676, 0.018086624531593175, 0.01815405380222006, 0.01814722979649791, 0.018124654694945085, 0.017987457796736533, 0.01794501528286636, 0.018015964138897132, 0.0180225752893012, 0.01797516203020069, 0.018108057509022203, 0.01803759201744017, 0.01821353476913617, 0.01826063110741199, 0.018178255630794095, 0.018202667359341687]}, {\"line\": {\"color\": \"firebrick\", \"dash\": \"dash\", \"width\": 1}, \"name\": \"$-\\\\sigma$\", \"type\": \"scatter\", \"x\": [0.0, 0.2, 0.4, 0.6000000000000001, 0.8, 1.0, 1.2000000000000002, 1.4000000000000001, 1.6, 1.8, 2.0, 2.2, 2.4000000000000004, 2.6, 2.8000000000000003, 3.0, 3.2, 3.4000000000000004, 3.6, 3.8000000000000003, 4.0, 4.2, 4.4, 4.6000000000000005, 4.800000000000001, 5.0, 5.2, 5.4, 5.6000000000000005, 5.800000000000001, 6.0, 6.2, 6.4, 6.6000000000000005, 6.800000000000001, 7.0, 7.2, 7.4, 7.6000000000000005, 7.800000000000001, 8.0, 8.200000000000001, 8.4, 8.6, 8.8, 9.0, 9.200000000000001, 9.4, 9.600000000000001, 9.8, 10.0, 10.200000000000001, 10.4, 10.600000000000001, 10.8, 11.0, 11.200000000000001, 11.4, 11.600000000000001, 11.8, 12.0, 12.200000000000001, 12.4, 12.600000000000001, 12.8, 13.0, 13.200000000000001, 13.4, 13.600000000000001, 13.8, 14.0, 14.200000000000001, 14.4, 14.600000000000001, 14.8, 15.0, 15.200000000000001, 15.4, 15.600000000000001, 15.8, 16.0, 16.2, 16.400000000000002, 16.6, 16.8, 17.0, 17.2, 17.400000000000002, 17.6, 17.8, 18.0, 18.2, 18.400000000000002, 18.6, 18.8, 19.0, 19.200000000000003, 19.400000000000002, 19.6, 19.8, 20.0, 20.200000000000003, 20.400000000000002, 20.6, 20.8, 21.0, 21.200000000000003, 21.400000000000002, 21.6, 21.8, 22.0, 22.200000000000003, 22.400000000000002, 22.6, 22.8, 23.0, 23.200000000000003, 23.400000000000002, 23.6, 23.8, 24.0, 24.200000000000003, 24.400000000000002, 24.6, 24.8, 25.0, 25.200000000000003, 25.400000000000002, 25.6, 25.8, 26.0, 26.200000000000003, 26.400000000000002, 26.6, 26.8, 27.0, 27.200000000000003, 27.400000000000002, 27.6, 27.8, 28.0, 28.200000000000003, 28.400000000000002, 28.6, 28.8, 29.0, 29.200000000000003, 29.400000000000002, 29.6, 29.8, 30.0], \"y\": [-0.1, 0.08550028955540695, 0.29306058124615064, 0.3278433099941462, 0.27633547348596893, 0.2148218650448317, 0.20932631031178334, 0.16901919152124237, 0.12562381387829383, 0.08996547456524051, 0.06040585056956376, 0.05940935954101916, 0.05425573418478567, 0.05257557293684433, 0.04776796697659128, 0.0386416662925181, 0.038169323490387, 0.034177981884899566, 0.03810371101628922, 0.02968741624614333, 0.02522799316489909, 0.027650442917711474, 0.026454782999575946, 0.026655426652890484, 0.02354567488893504, 0.024048485014749, 0.02635165213766788, 0.02492885142286446, 0.024095722485770958, 0.024227468852263588, 0.022600080216377317, 0.023846490303850262, 0.023963729992489614, 0.02158504750771192, 0.021646575442471564, 0.021658974968813596, 0.020038970323770826, 0.019204304601827933, 0.019299148063760728, 0.01879687344641868, 0.019370212050971558, 0.020377466125670166, 0.02055593592311513, 0.019753296698776224, 0.018897732247924924, 0.01878467474978864, 0.018537563785218317, 0.01838227847234321, 0.01804808442869055, 0.017541643745756147, 0.017122212494447012, 0.016515547096662583, 0.016295055524615007, 0.015797874530604845, 0.015932131222923036, 0.0154670319489162, 0.015428391233694057, 0.016052291707833975, 0.016338832615864003, 0.016319338111603073, 0.016279381658380648, 0.016325880101947205, 0.01606054935818092, 0.01588098815297208, 0.01587420384026962, 0.016362959187108693, 0.016892113850878996, 0.016939570586061763, 0.016814843824227137, 0.016957021017068637, 0.01652777218917645, 0.016775494403293508, 0.016135007043334967, 0.015266191749614313, 0.015158138545342523, 0.0156857420525683, 0.01563323317155326, 0.016105985235315486, 0.01607663144950991, 0.016545439759115876, 0.016903845397386832, 0.01658061900078141, 0.016318733726183948, 0.01638589718361956, 0.01689837219260272, 0.017046331822666513, 0.01656391925251899, 0.01626966495102045, 0.016118232042779613, 0.015807718796813502, 0.01572260754724272, 0.015608023236241275, 0.015308958273461687, 0.015518326040754968, 0.015359222314203542, 0.014997169093403201, 0.014911542442621648, 0.015433394854098791, 0.015560310074957305, 0.01524540220205584, 0.015123167975039804, 0.015107381956197239, 0.01509520713060357, 0.014698573971078474, 0.014585897706138187, 0.014831555131429806, 0.014661451491326444, 0.014781012717319245, 0.014787867659230534, 0.014767454745972344, 0.014850990235936785, 0.014850123228330155, 0.014788661630328999, 0.014544581307108301, 0.014663469473307485, 0.014688974288196575, 0.014680284990922483, 0.014620973279926508, 0.01449172836499734, 0.01419844901486254, 0.014449225410033316, 0.014497078234118183, 0.014373466500165272, 0.014542503628249246, 0.014578363964279771, 0.014496464779897668, 0.014484381503813558, 0.014449459647700688, 0.01427400266904186, 0.01437745254262086, 0.014437646094104669, 0.01463776251958017, 0.014549051432255888, 0.014383372569795562, 0.014381147756752026, 0.014613140006311896, 0.014389588649171248, 0.014472710387652094, 0.014481380682302697, 0.01447410584959821, 0.01435201920486019, 0.014324500829840587, 0.014410191499695009, 0.01443136582136092, 0.014398340670157102, 0.014545452673129488, 0.014489035505525914, 0.014678861671935255, 0.014739679717136177, 0.014670867354800542, 0.014708686636770245]}, {\"name\": \"True bias\", \"type\": \"scatter\", \"x\": [0.0, 0.2, 0.4, 0.6000000000000001, 0.8, 1.0, 1.2000000000000002, 1.4000000000000001, 1.6, 1.8, 2.0, 2.2, 2.4000000000000004, 2.6, 2.8000000000000003, 3.0, 3.2, 3.4000000000000004, 3.6, 3.8000000000000003, 4.0, 4.2, 4.4, 4.6000000000000005, 4.800000000000001, 5.0, 5.2, 5.4, 5.6000000000000005, 5.800000000000001, 6.0, 6.2, 6.4, 6.6000000000000005, 6.800000000000001, 7.0, 7.2, 7.4, 7.6000000000000005, 7.800000000000001, 8.0, 8.200000000000001, 8.4, 8.6, 8.8, 9.0, 9.200000000000001, 9.4, 9.600000000000001, 9.8, 10.0, 10.200000000000001, 10.4, 10.600000000000001, 10.8, 11.0, 11.200000000000001, 11.4, 11.600000000000001, 11.8, 12.0, 12.200000000000001, 12.4, 12.600000000000001, 12.8, 13.0, 13.200000000000001, 13.4, 13.600000000000001, 13.8, 14.0, 14.200000000000001, 14.4, 14.600000000000001, 14.8, 15.0, 15.200000000000001, 15.4, 15.600000000000001, 15.8, 16.0, 16.2, 16.400000000000002, 16.6, 16.8, 17.0, 17.2, 17.400000000000002, 17.6, 17.8, 18.0, 18.2, 18.400000000000002, 18.6, 18.8, 19.0, 19.200000000000003, 19.400000000000002, 19.6, 19.8, 20.0, 20.200000000000003, 20.400000000000002, 20.6, 20.8, 21.0, 21.200000000000003, 21.400000000000002, 21.6, 21.8, 22.0, 22.200000000000003, 22.400000000000002, 22.6, 22.8, 23.0, 23.200000000000003, 23.400000000000002, 23.6, 23.8, 24.0, 24.200000000000003, 24.400000000000002, 24.6, 24.8, 25.0, 25.200000000000003, 25.400000000000002, 25.6, 25.8, 26.0, 26.200000000000003, 26.400000000000002, 26.6, 26.8, 27.0, 27.200000000000003, 27.400000000000002, 27.6, 27.8, 28.0, 28.200000000000003, 28.400000000000002, 28.6, 28.8, 29.0, 29.200000000000003, 29.400000000000002, 29.6, 29.8, 30.0], \"y\": [0.014834860063309455, 0.014834860063309455, 0.014834860063309455, 0.014834860063309455, 0.014834860063309455, 0.014834860063309455, 0.014834860063309455, 0.014834860063309455, 0.014834860063309455, 0.014834860063309455, 0.014834860063309455, 0.014834860063309455, 0.014834860063309455, 0.014834860063309455, 0.014834860063309455, 0.014834860063309455, 0.014834860063309455, 0.014834860063309455, 0.014834860063309455, 0.014834860063309455, 0.014834860063309455, 0.014834860063309455, 0.014834860063309455, 0.014834860063309455, 0.014834860063309455, 0.014834860063309455, 0.014834860063309455, 0.014834860063309455, 0.014834860063309455, 0.014834860063309455, 0.014834860063309455, 0.014834860063309455, 0.014834860063309455, 0.014834860063309455, 0.014834860063309455, 0.014834860063309455, 0.014834860063309455, 0.014834860063309455, 0.014834860063309455, 0.014834860063309455, 0.014834860063309455, 0.014834860063309455, 0.014834860063309455, 0.014834860063309455, 0.014834860063309455, 0.014834860063309455, 0.014834860063309455, 0.014834860063309455, 0.014834860063309455, 0.014834860063309455, 0.014834860063309455, 0.014834860063309455, 0.014834860063309455, 0.014834860063309455, 0.014834860063309455, 0.014834860063309455, 0.014834860063309455, 0.014834860063309455, 0.014834860063309455, 0.014834860063309455, 0.014834860063309455, 0.014834860063309455, 0.014834860063309455, 0.014834860063309455, 0.014834860063309455, 0.014834860063309455, 0.014834860063309455, 0.014834860063309455, 0.014834860063309455, 0.014834860063309455, 0.014834860063309455, 0.014834860063309455, 0.014834860063309455, 0.014834860063309455, 0.014834860063309455, 0.014834860063309455, 0.014834860063309455, 0.014834860063309455, 0.014834860063309455, 0.014834860063309455, 0.014834860063309455, 0.014834860063309455, 0.014834860063309455, 0.014834860063309455, 0.014834860063309455, 0.014834860063309455, 0.014834860063309455, 0.014834860063309455, 0.014834860063309455, 0.014834860063309455, 0.014834860063309455, 0.014834860063309455, 0.014834860063309455, 0.014834860063309455, 0.014834860063309455, 0.014834860063309455, 0.014834860063309455, 0.014834860063309455, 0.014834860063309455, 0.014834860063309455, 0.014834860063309455, 0.014834860063309455, 0.014834860063309455, 0.014834860063309455, 0.014834860063309455, 0.014834860063309455, 0.014834860063309455, 0.014834860063309455, 0.014834860063309455, 0.014834860063309455, 0.014834860063309455, 0.014834860063309455, 0.014834860063309455, 0.014834860063309455, 0.014834860063309455, 0.014834860063309455, 0.014834860063309455, 0.014834860063309455, 0.014834860063309455, 0.014834860063309455, 0.014834860063309455, 0.014834860063309455, 0.014834860063309455, 0.014834860063309455, 0.014834860063309455, 0.014834860063309455, 0.014834860063309455, 0.014834860063309455, 0.014834860063309455, 0.014834860063309455, 0.014834860063309455, 0.014834860063309455, 0.014834860063309455, 0.014834860063309455, 0.014834860063309455, 0.014834860063309455, 0.014834860063309455, 0.014834860063309455, 0.014834860063309455, 0.014834860063309455, 0.014834860063309455, 0.014834860063309455, 0.014834860063309455, 0.014834860063309455, 0.014834860063309455, 0.014834860063309455, 0.014834860063309455, 0.014834860063309455, 0.014834860063309455, 0.014834860063309455, 0.014834860063309455]}],\n",
       "                        {\"template\": {\"data\": {\"bar\": [{\"error_x\": {\"color\": \"#2a3f5f\"}, \"error_y\": {\"color\": \"#2a3f5f\"}, \"marker\": {\"line\": {\"color\": \"#E5ECF6\", \"width\": 0.5}}, \"type\": \"bar\"}], \"barpolar\": [{\"marker\": {\"line\": {\"color\": \"#E5ECF6\", \"width\": 0.5}}, \"type\": \"barpolar\"}], \"carpet\": [{\"aaxis\": {\"endlinecolor\": \"#2a3f5f\", \"gridcolor\": \"white\", \"linecolor\": \"white\", \"minorgridcolor\": \"white\", \"startlinecolor\": \"#2a3f5f\"}, \"baxis\": {\"endlinecolor\": \"#2a3f5f\", \"gridcolor\": \"white\", \"linecolor\": \"white\", \"minorgridcolor\": \"white\", \"startlinecolor\": \"#2a3f5f\"}, \"type\": \"carpet\"}], \"choropleth\": [{\"colorbar\": {\"outlinewidth\": 0, \"ticks\": \"\"}, \"type\": \"choropleth\"}], \"contour\": [{\"colorbar\": {\"outlinewidth\": 0, \"ticks\": \"\"}, \"colorscale\": [[0.0, \"#0d0887\"], [0.1111111111111111, \"#46039f\"], [0.2222222222222222, \"#7201a8\"], [0.3333333333333333, \"#9c179e\"], [0.4444444444444444, \"#bd3786\"], [0.5555555555555556, \"#d8576b\"], [0.6666666666666666, \"#ed7953\"], [0.7777777777777778, \"#fb9f3a\"], [0.8888888888888888, \"#fdca26\"], [1.0, \"#f0f921\"]], \"type\": \"contour\"}], \"contourcarpet\": [{\"colorbar\": {\"outlinewidth\": 0, \"ticks\": \"\"}, \"type\": \"contourcarpet\"}], \"heatmap\": [{\"colorbar\": {\"outlinewidth\": 0, \"ticks\": \"\"}, \"colorscale\": [[0.0, \"#0d0887\"], [0.1111111111111111, \"#46039f\"], [0.2222222222222222, \"#7201a8\"], [0.3333333333333333, \"#9c179e\"], [0.4444444444444444, \"#bd3786\"], [0.5555555555555556, \"#d8576b\"], [0.6666666666666666, \"#ed7953\"], [0.7777777777777778, \"#fb9f3a\"], [0.8888888888888888, \"#fdca26\"], [1.0, \"#f0f921\"]], \"type\": \"heatmap\"}], \"heatmapgl\": [{\"colorbar\": {\"outlinewidth\": 0, \"ticks\": \"\"}, \"colorscale\": [[0.0, \"#0d0887\"], [0.1111111111111111, \"#46039f\"], [0.2222222222222222, \"#7201a8\"], [0.3333333333333333, \"#9c179e\"], [0.4444444444444444, \"#bd3786\"], [0.5555555555555556, \"#d8576b\"], [0.6666666666666666, \"#ed7953\"], [0.7777777777777778, \"#fb9f3a\"], [0.8888888888888888, \"#fdca26\"], [1.0, \"#f0f921\"]], \"type\": \"heatmapgl\"}], \"histogram\": [{\"marker\": {\"colorbar\": {\"outlinewidth\": 0, \"ticks\": \"\"}}, \"type\": \"histogram\"}], \"histogram2d\": [{\"colorbar\": {\"outlinewidth\": 0, \"ticks\": \"\"}, \"colorscale\": [[0.0, \"#0d0887\"], [0.1111111111111111, \"#46039f\"], [0.2222222222222222, \"#7201a8\"], [0.3333333333333333, \"#9c179e\"], [0.4444444444444444, \"#bd3786\"], [0.5555555555555556, \"#d8576b\"], [0.6666666666666666, \"#ed7953\"], [0.7777777777777778, \"#fb9f3a\"], [0.8888888888888888, \"#fdca26\"], [1.0, \"#f0f921\"]], \"type\": \"histogram2d\"}], \"histogram2dcontour\": [{\"colorbar\": {\"outlinewidth\": 0, \"ticks\": \"\"}, \"colorscale\": [[0.0, \"#0d0887\"], [0.1111111111111111, \"#46039f\"], [0.2222222222222222, \"#7201a8\"], [0.3333333333333333, \"#9c179e\"], [0.4444444444444444, \"#bd3786\"], [0.5555555555555556, \"#d8576b\"], [0.6666666666666666, \"#ed7953\"], [0.7777777777777778, \"#fb9f3a\"], [0.8888888888888888, \"#fdca26\"], [1.0, \"#f0f921\"]], \"type\": \"histogram2dcontour\"}], \"mesh3d\": [{\"colorbar\": {\"outlinewidth\": 0, \"ticks\": \"\"}, \"type\": \"mesh3d\"}], \"parcoords\": [{\"line\": {\"colorbar\": {\"outlinewidth\": 0, \"ticks\": \"\"}}, \"type\": \"parcoords\"}], \"pie\": [{\"automargin\": true, \"type\": \"pie\"}], \"scatter\": [{\"marker\": {\"colorbar\": {\"outlinewidth\": 0, \"ticks\": \"\"}}, \"type\": \"scatter\"}], \"scatter3d\": [{\"line\": {\"colorbar\": {\"outlinewidth\": 0, \"ticks\": \"\"}}, \"marker\": {\"colorbar\": {\"outlinewidth\": 0, \"ticks\": \"\"}}, \"type\": \"scatter3d\"}], \"scattercarpet\": [{\"marker\": {\"colorbar\": {\"outlinewidth\": 0, \"ticks\": \"\"}}, \"type\": \"scattercarpet\"}], \"scattergeo\": [{\"marker\": {\"colorbar\": {\"outlinewidth\": 0, \"ticks\": \"\"}}, \"type\": \"scattergeo\"}], \"scattergl\": [{\"marker\": {\"colorbar\": {\"outlinewidth\": 0, \"ticks\": \"\"}}, \"type\": \"scattergl\"}], \"scattermapbox\": [{\"marker\": {\"colorbar\": {\"outlinewidth\": 0, \"ticks\": \"\"}}, \"type\": \"scattermapbox\"}], \"scatterpolar\": [{\"marker\": {\"colorbar\": {\"outlinewidth\": 0, \"ticks\": \"\"}}, \"type\": \"scatterpolar\"}], \"scatterpolargl\": [{\"marker\": {\"colorbar\": {\"outlinewidth\": 0, \"ticks\": \"\"}}, \"type\": \"scatterpolargl\"}], \"scatterternary\": [{\"marker\": {\"colorbar\": {\"outlinewidth\": 0, \"ticks\": \"\"}}, \"type\": \"scatterternary\"}], \"surface\": [{\"colorbar\": {\"outlinewidth\": 0, \"ticks\": \"\"}, \"colorscale\": [[0.0, \"#0d0887\"], [0.1111111111111111, \"#46039f\"], [0.2222222222222222, \"#7201a8\"], [0.3333333333333333, \"#9c179e\"], [0.4444444444444444, \"#bd3786\"], [0.5555555555555556, \"#d8576b\"], [0.6666666666666666, \"#ed7953\"], [0.7777777777777778, \"#fb9f3a\"], [0.8888888888888888, \"#fdca26\"], [1.0, \"#f0f921\"]], \"type\": \"surface\"}], \"table\": [{\"cells\": {\"fill\": {\"color\": \"#EBF0F8\"}, \"line\": {\"color\": \"white\"}}, \"header\": {\"fill\": {\"color\": \"#C8D4E3\"}, \"line\": {\"color\": \"white\"}}, \"type\": \"table\"}]}, \"layout\": {\"annotationdefaults\": {\"arrowcolor\": \"#2a3f5f\", \"arrowhead\": 0, \"arrowwidth\": 1}, \"coloraxis\": {\"colorbar\": {\"outlinewidth\": 0, \"ticks\": \"\"}}, \"colorscale\": {\"diverging\": [[0, \"#8e0152\"], [0.1, \"#c51b7d\"], [0.2, \"#de77ae\"], [0.3, \"#f1b6da\"], [0.4, \"#fde0ef\"], [0.5, \"#f7f7f7\"], [0.6, \"#e6f5d0\"], [0.7, \"#b8e186\"], [0.8, \"#7fbc41\"], [0.9, \"#4d9221\"], [1, \"#276419\"]], \"sequential\": [[0.0, \"#0d0887\"], [0.1111111111111111, \"#46039f\"], [0.2222222222222222, \"#7201a8\"], [0.3333333333333333, \"#9c179e\"], [0.4444444444444444, \"#bd3786\"], [0.5555555555555556, \"#d8576b\"], [0.6666666666666666, \"#ed7953\"], [0.7777777777777778, \"#fb9f3a\"], [0.8888888888888888, \"#fdca26\"], [1.0, \"#f0f921\"]], \"sequentialminus\": [[0.0, \"#0d0887\"], [0.1111111111111111, \"#46039f\"], [0.2222222222222222, \"#7201a8\"], [0.3333333333333333, \"#9c179e\"], [0.4444444444444444, \"#bd3786\"], [0.5555555555555556, \"#d8576b\"], [0.6666666666666666, \"#ed7953\"], [0.7777777777777778, \"#fb9f3a\"], [0.8888888888888888, \"#fdca26\"], [1.0, \"#f0f921\"]]}, \"colorway\": [\"#636efa\", \"#EF553B\", \"#00cc96\", \"#ab63fa\", \"#FFA15A\", \"#19d3f3\", \"#FF6692\", \"#B6E880\", \"#FF97FF\", \"#FECB52\"], \"font\": {\"color\": \"#2a3f5f\"}, \"geo\": {\"bgcolor\": \"white\", \"lakecolor\": \"white\", \"landcolor\": \"#E5ECF6\", \"showlakes\": true, \"showland\": true, \"subunitcolor\": \"white\"}, \"hoverlabel\": {\"align\": \"left\"}, \"hovermode\": \"closest\", \"mapbox\": {\"style\": \"light\"}, \"paper_bgcolor\": \"white\", \"plot_bgcolor\": \"#E5ECF6\", \"polar\": {\"angularaxis\": {\"gridcolor\": \"white\", \"linecolor\": \"white\", \"ticks\": \"\"}, \"bgcolor\": \"#E5ECF6\", \"radialaxis\": {\"gridcolor\": \"white\", \"linecolor\": \"white\", \"ticks\": \"\"}}, \"scene\": {\"xaxis\": {\"backgroundcolor\": \"#E5ECF6\", \"gridcolor\": \"white\", \"gridwidth\": 2, \"linecolor\": \"white\", \"showbackground\": true, \"ticks\": \"\", \"zerolinecolor\": \"white\"}, \"yaxis\": {\"backgroundcolor\": \"#E5ECF6\", \"gridcolor\": \"white\", \"gridwidth\": 2, \"linecolor\": \"white\", \"showbackground\": true, \"ticks\": \"\", \"zerolinecolor\": \"white\"}, \"zaxis\": {\"backgroundcolor\": \"#E5ECF6\", \"gridcolor\": \"white\", \"gridwidth\": 2, \"linecolor\": \"white\", \"showbackground\": true, \"ticks\": \"\", \"zerolinecolor\": \"white\"}}, \"shapedefaults\": {\"line\": {\"color\": \"#2a3f5f\"}}, \"ternary\": {\"aaxis\": {\"gridcolor\": \"white\", \"linecolor\": \"white\", \"ticks\": \"\"}, \"baxis\": {\"gridcolor\": \"white\", \"linecolor\": \"white\", \"ticks\": \"\"}, \"bgcolor\": \"#E5ECF6\", \"caxis\": {\"gridcolor\": \"white\", \"linecolor\": \"white\", \"ticks\": \"\"}}, \"title\": {\"x\": 0.05}, \"xaxis\": {\"automargin\": true, \"gridcolor\": \"white\", \"linecolor\": \"white\", \"ticks\": \"\", \"title\": {\"standoff\": 15}, \"zerolinecolor\": \"white\", \"zerolinewidth\": 2}, \"yaxis\": {\"automargin\": true, \"gridcolor\": \"white\", \"linecolor\": \"white\", \"ticks\": \"\", \"title\": {\"standoff\": 15}, \"zerolinecolor\": \"white\", \"zerolinewidth\": 2}}}, \"title\": {\"text\": \"True Bias vs.Estimated Bias\", \"x\": 0.48, \"xanchor\": \"center\", \"y\": 0.9, \"yanchor\": \"top\"}, \"xaxis\": {\"title\": {\"text\": \"Time (sec)\"}}, \"yaxis\": {\"title\": {\"text\": \"Bias ($m/sec^2$)\"}}},\n",
       "                        {\"responsive\": true}\n",
       "                    ).then(function(){\n",
       "                            \n",
       "var gd = document.getElementById('582d0809-e082-4e02-b287-993ab3357b9d');\n",
       "var x = new MutationObserver(function (mutations, observer) {{\n",
       "        var display = window.getComputedStyle(gd).display;\n",
       "        if (!display || display === 'none') {{\n",
       "            console.log([gd, 'removed!']);\n",
       "            Plotly.purge(gd);\n",
       "            observer.disconnect();\n",
       "        }}\n",
       "}});\n",
       "\n",
       "// Listen for the removal of the full notebook cells\n",
       "var notebookContainer = gd.closest('#notebook-container');\n",
       "if (notebookContainer) {{\n",
       "    x.observe(notebookContainer, {childList: true});\n",
       "}}\n",
       "\n",
       "// Listen for the clearing of the current output cell\n",
       "var outputEl = gd.closest('.output');\n",
       "if (outputEl) {{\n",
       "    x.observe(outputEl, {childList: true});\n",
       "}}\n",
       "\n",
       "                        })\n",
       "                };\n",
       "                });\n",
       "            </script>\n",
       "        </div>"
      ]
     },
     "metadata": {},
     "output_type": "display_data"
    },
    {
     "data": {
      "application/vnd.plotly.v1+json": {
       "config": {
        "plotlyServerURL": "https://plot.ly"
       },
       "data": [
        {
         "name": "Bias Error",
         "type": "scatter",
         "x": [
          0,
          0.2,
          0.4,
          0.6000000000000001,
          0.8,
          1,
          1.2000000000000002,
          1.4000000000000001,
          1.6,
          1.8,
          2,
          2.2,
          2.4000000000000004,
          2.6,
          2.8000000000000003,
          3,
          3.2,
          3.4000000000000004,
          3.6,
          3.8000000000000003,
          4,
          4.2,
          4.4,
          4.6000000000000005,
          4.800000000000001,
          5,
          5.2,
          5.4,
          5.6000000000000005,
          5.800000000000001,
          6,
          6.2,
          6.4,
          6.6000000000000005,
          6.800000000000001,
          7,
          7.2,
          7.4,
          7.6000000000000005,
          7.800000000000001,
          8,
          8.200000000000001,
          8.4,
          8.6,
          8.8,
          9,
          9.200000000000001,
          9.4,
          9.600000000000001,
          9.8,
          10,
          10.200000000000001,
          10.4,
          10.600000000000001,
          10.8,
          11,
          11.200000000000001,
          11.4,
          11.600000000000001,
          11.8,
          12,
          12.200000000000001,
          12.4,
          12.600000000000001,
          12.8,
          13,
          13.200000000000001,
          13.4,
          13.600000000000001,
          13.8,
          14,
          14.200000000000001,
          14.4,
          14.600000000000001,
          14.8,
          15,
          15.200000000000001,
          15.4,
          15.600000000000001,
          15.8,
          16,
          16.2,
          16.400000000000002,
          16.6,
          16.8,
          17,
          17.2,
          17.400000000000002,
          17.6,
          17.8,
          18,
          18.2,
          18.400000000000002,
          18.6,
          18.8,
          19,
          19.200000000000003,
          19.400000000000002,
          19.6,
          19.8,
          20,
          20.200000000000003,
          20.400000000000002,
          20.6,
          20.8,
          21,
          21.200000000000003,
          21.400000000000002,
          21.6,
          21.8,
          22,
          22.200000000000003,
          22.400000000000002,
          22.6,
          22.8,
          23,
          23.200000000000003,
          23.400000000000002,
          23.6,
          23.8,
          24,
          24.200000000000003,
          24.400000000000002,
          24.6,
          24.8,
          25,
          25.200000000000003,
          25.400000000000002,
          25.6,
          25.8,
          26,
          26.200000000000003,
          26.400000000000002,
          26.6,
          26.8,
          27,
          27.200000000000003,
          27.400000000000002,
          27.6,
          27.8,
          28,
          28.200000000000003,
          28.400000000000002,
          28.6,
          28.8,
          29,
          29.200000000000003,
          29.400000000000002,
          29.6,
          29.8,
          30
         ],
         "y": [
          -0.014834860063309455,
          0.16496825479978927,
          0.35999966027412533,
          0.3799735186878516,
          0.31543085809200455,
          0.24374988713841986,
          0.23059843477293307,
          0.184522948153021,
          0.13672090319706243,
          0.09763621934124768,
          0.06536463373574446,
          0.062185632923248475,
          0.05524893508561956,
          0.052092262873284174,
          0.046047203352945036,
          0.035872597751841054,
          0.03450359674556345,
          0.029738637158287548,
          0.03299166310836693,
          0.023986248542830983,
          0.019007554136743834,
          0.020969579783992,
          0.019363444866587753,
          0.019196300763895946,
          0.015755472868725848,
          0.015958963700935178,
          0.017990430982189158,
          0.01632007241075789,
          0.015260587002902367,
          0.015184677568545078,
          0.013366195907482328,
          0.014436238975910972,
          0.014390252258868025,
          0.011860109584536817,
          0.011780747160174685,
          0.011661780682635696,
          0.009919017432957302,
          0.008969393471573788,
          0.008956366424412774,
          0.008352677775305474,
          0.008830497989278806,
          0.00974762962017507,
          0.009840926490695923,
          0.008957663975388568,
          0.008025666791601061,
          0.00784004391018816,
          0.007523943323336871,
          0.007302980507674315,
          0.006906182203103546,
          0.0063399936201659745,
          0.00586347353327306,
          0.005202198543914073,
          0.004929412432438178,
          0.0043821017648599265,
          0.004468256039673062,
          0.003956955309665335,
          0.0038738980050421843,
          0.004455059872286405,
          0.0047004416043311455,
          0.0046412763542157485,
          0.004563053438276515,
          0.004572611786356822,
          0.004271595072210926,
          0.004057534953741606,
          0.004017376442330406,
          0.004473824284223852,
          0.004971684074126263,
          0.004988808133760467,
          0.004834663795275312,
          0.0049482944758424355,
          0.00449132898712421,
          0.004712125779696671,
          0.004045468025360424,
          0.0031512033697076672,
          0.0030183898921742284,
          0.0035218921701150856,
          0.003445912819449644,
          0.0038957985223224325,
          0.0038441573508002317,
          0.004291233527052256,
          0.004628439874553461,
          0.004284525843211743,
          0.004002444543993669,
          0.004049884605595829,
          0.004543090860709647,
          0.004672219321895229,
          0.004171396981031741,
          0.0038591389351065163,
          0.003690093700751124,
          0.0033623456556169055,
          0.003260363915243142,
          0.0031292608353482108,
          0.0028140168335028092,
          0.003007533858767274,
          0.002832896781095105,
          0.002455617190242525,
          0.002355061208632778,
          0.0028622718282774514,
          0.002974823713074658,
          0.0026458222706807737,
          0.002509755924086596,
          0.002480391271392003,
          0.00245488366715897,
          0.002045156269771026,
          0.0019196172928951285,
          0.0021526368014523883,
          0.001970113578702833,
          0.002077467351012571,
          0.00207232100626528,
          0.002040107242584929,
          0.0021120368074033172,
          0.0020997534981355478,
          0.0020270601192966826,
          0.0017719276230681227,
          0.0018799384918410152,
          0.0018947363249634686,
          0.0018755059660386392,
          0.0018058148748342929,
          0.0016663481722399027,
          0.0013630006811480074,
          0.0016038587729503822,
          0.0016419394528419725,
          0.0015086981804713923,
          0.0016682449421344097,
          0.0016947507644691894,
          0.001603629709502537,
          0.0015824541013861621,
          0.0015385664479199822,
          0.0013542672992486616,
          0.0014489958154090283,
          0.001500586096162675,
          0.0016922146969663206,
          0.0015951286722800263,
          0.0014211852796703114,
          0.0014108039391675115,
          0.001634745332079331,
          0.0014032465270727556,
          0.0014785220316266227,
          0.0014794451760908479,
          0.0014645202089621934,
          0.0013348784374889056,
          0.001299897993044018,
          0.0013782177559866163,
          0.0013921104920216042,
          0.0013518912868694406,
          0.0014918950277663916,
          0.0014284536981735863,
          0.0016113381572262584,
          0.001665295348964627,
          0.0015897014294878626,
          0.0016208169347465117
         ]
        }
       ],
       "layout": {
        "template": {
         "data": {
          "bar": [
           {
            "error_x": {
             "color": "#2a3f5f"
            },
            "error_y": {
             "color": "#2a3f5f"
            },
            "marker": {
             "line": {
              "color": "#E5ECF6",
              "width": 0.5
             }
            },
            "type": "bar"
           }
          ],
          "barpolar": [
           {
            "marker": {
             "line": {
              "color": "#E5ECF6",
              "width": 0.5
             }
            },
            "type": "barpolar"
           }
          ],
          "carpet": [
           {
            "aaxis": {
             "endlinecolor": "#2a3f5f",
             "gridcolor": "white",
             "linecolor": "white",
             "minorgridcolor": "white",
             "startlinecolor": "#2a3f5f"
            },
            "baxis": {
             "endlinecolor": "#2a3f5f",
             "gridcolor": "white",
             "linecolor": "white",
             "minorgridcolor": "white",
             "startlinecolor": "#2a3f5f"
            },
            "type": "carpet"
           }
          ],
          "choropleth": [
           {
            "colorbar": {
             "outlinewidth": 0,
             "ticks": ""
            },
            "type": "choropleth"
           }
          ],
          "contour": [
           {
            "colorbar": {
             "outlinewidth": 0,
             "ticks": ""
            },
            "colorscale": [
             [
              0,
              "#0d0887"
             ],
             [
              0.1111111111111111,
              "#46039f"
             ],
             [
              0.2222222222222222,
              "#7201a8"
             ],
             [
              0.3333333333333333,
              "#9c179e"
             ],
             [
              0.4444444444444444,
              "#bd3786"
             ],
             [
              0.5555555555555556,
              "#d8576b"
             ],
             [
              0.6666666666666666,
              "#ed7953"
             ],
             [
              0.7777777777777778,
              "#fb9f3a"
             ],
             [
              0.8888888888888888,
              "#fdca26"
             ],
             [
              1,
              "#f0f921"
             ]
            ],
            "type": "contour"
           }
          ],
          "contourcarpet": [
           {
            "colorbar": {
             "outlinewidth": 0,
             "ticks": ""
            },
            "type": "contourcarpet"
           }
          ],
          "heatmap": [
           {
            "colorbar": {
             "outlinewidth": 0,
             "ticks": ""
            },
            "colorscale": [
             [
              0,
              "#0d0887"
             ],
             [
              0.1111111111111111,
              "#46039f"
             ],
             [
              0.2222222222222222,
              "#7201a8"
             ],
             [
              0.3333333333333333,
              "#9c179e"
             ],
             [
              0.4444444444444444,
              "#bd3786"
             ],
             [
              0.5555555555555556,
              "#d8576b"
             ],
             [
              0.6666666666666666,
              "#ed7953"
             ],
             [
              0.7777777777777778,
              "#fb9f3a"
             ],
             [
              0.8888888888888888,
              "#fdca26"
             ],
             [
              1,
              "#f0f921"
             ]
            ],
            "type": "heatmap"
           }
          ],
          "heatmapgl": [
           {
            "colorbar": {
             "outlinewidth": 0,
             "ticks": ""
            },
            "colorscale": [
             [
              0,
              "#0d0887"
             ],
             [
              0.1111111111111111,
              "#46039f"
             ],
             [
              0.2222222222222222,
              "#7201a8"
             ],
             [
              0.3333333333333333,
              "#9c179e"
             ],
             [
              0.4444444444444444,
              "#bd3786"
             ],
             [
              0.5555555555555556,
              "#d8576b"
             ],
             [
              0.6666666666666666,
              "#ed7953"
             ],
             [
              0.7777777777777778,
              "#fb9f3a"
             ],
             [
              0.8888888888888888,
              "#fdca26"
             ],
             [
              1,
              "#f0f921"
             ]
            ],
            "type": "heatmapgl"
           }
          ],
          "histogram": [
           {
            "marker": {
             "colorbar": {
              "outlinewidth": 0,
              "ticks": ""
             }
            },
            "type": "histogram"
           }
          ],
          "histogram2d": [
           {
            "colorbar": {
             "outlinewidth": 0,
             "ticks": ""
            },
            "colorscale": [
             [
              0,
              "#0d0887"
             ],
             [
              0.1111111111111111,
              "#46039f"
             ],
             [
              0.2222222222222222,
              "#7201a8"
             ],
             [
              0.3333333333333333,
              "#9c179e"
             ],
             [
              0.4444444444444444,
              "#bd3786"
             ],
             [
              0.5555555555555556,
              "#d8576b"
             ],
             [
              0.6666666666666666,
              "#ed7953"
             ],
             [
              0.7777777777777778,
              "#fb9f3a"
             ],
             [
              0.8888888888888888,
              "#fdca26"
             ],
             [
              1,
              "#f0f921"
             ]
            ],
            "type": "histogram2d"
           }
          ],
          "histogram2dcontour": [
           {
            "colorbar": {
             "outlinewidth": 0,
             "ticks": ""
            },
            "colorscale": [
             [
              0,
              "#0d0887"
             ],
             [
              0.1111111111111111,
              "#46039f"
             ],
             [
              0.2222222222222222,
              "#7201a8"
             ],
             [
              0.3333333333333333,
              "#9c179e"
             ],
             [
              0.4444444444444444,
              "#bd3786"
             ],
             [
              0.5555555555555556,
              "#d8576b"
             ],
             [
              0.6666666666666666,
              "#ed7953"
             ],
             [
              0.7777777777777778,
              "#fb9f3a"
             ],
             [
              0.8888888888888888,
              "#fdca26"
             ],
             [
              1,
              "#f0f921"
             ]
            ],
            "type": "histogram2dcontour"
           }
          ],
          "mesh3d": [
           {
            "colorbar": {
             "outlinewidth": 0,
             "ticks": ""
            },
            "type": "mesh3d"
           }
          ],
          "parcoords": [
           {
            "line": {
             "colorbar": {
              "outlinewidth": 0,
              "ticks": ""
             }
            },
            "type": "parcoords"
           }
          ],
          "pie": [
           {
            "automargin": true,
            "type": "pie"
           }
          ],
          "scatter": [
           {
            "marker": {
             "colorbar": {
              "outlinewidth": 0,
              "ticks": ""
             }
            },
            "type": "scatter"
           }
          ],
          "scatter3d": [
           {
            "line": {
             "colorbar": {
              "outlinewidth": 0,
              "ticks": ""
             }
            },
            "marker": {
             "colorbar": {
              "outlinewidth": 0,
              "ticks": ""
             }
            },
            "type": "scatter3d"
           }
          ],
          "scattercarpet": [
           {
            "marker": {
             "colorbar": {
              "outlinewidth": 0,
              "ticks": ""
             }
            },
            "type": "scattercarpet"
           }
          ],
          "scattergeo": [
           {
            "marker": {
             "colorbar": {
              "outlinewidth": 0,
              "ticks": ""
             }
            },
            "type": "scattergeo"
           }
          ],
          "scattergl": [
           {
            "marker": {
             "colorbar": {
              "outlinewidth": 0,
              "ticks": ""
             }
            },
            "type": "scattergl"
           }
          ],
          "scattermapbox": [
           {
            "marker": {
             "colorbar": {
              "outlinewidth": 0,
              "ticks": ""
             }
            },
            "type": "scattermapbox"
           }
          ],
          "scatterpolar": [
           {
            "marker": {
             "colorbar": {
              "outlinewidth": 0,
              "ticks": ""
             }
            },
            "type": "scatterpolar"
           }
          ],
          "scatterpolargl": [
           {
            "marker": {
             "colorbar": {
              "outlinewidth": 0,
              "ticks": ""
             }
            },
            "type": "scatterpolargl"
           }
          ],
          "scatterternary": [
           {
            "marker": {
             "colorbar": {
              "outlinewidth": 0,
              "ticks": ""
             }
            },
            "type": "scatterternary"
           }
          ],
          "surface": [
           {
            "colorbar": {
             "outlinewidth": 0,
             "ticks": ""
            },
            "colorscale": [
             [
              0,
              "#0d0887"
             ],
             [
              0.1111111111111111,
              "#46039f"
             ],
             [
              0.2222222222222222,
              "#7201a8"
             ],
             [
              0.3333333333333333,
              "#9c179e"
             ],
             [
              0.4444444444444444,
              "#bd3786"
             ],
             [
              0.5555555555555556,
              "#d8576b"
             ],
             [
              0.6666666666666666,
              "#ed7953"
             ],
             [
              0.7777777777777778,
              "#fb9f3a"
             ],
             [
              0.8888888888888888,
              "#fdca26"
             ],
             [
              1,
              "#f0f921"
             ]
            ],
            "type": "surface"
           }
          ],
          "table": [
           {
            "cells": {
             "fill": {
              "color": "#EBF0F8"
             },
             "line": {
              "color": "white"
             }
            },
            "header": {
             "fill": {
              "color": "#C8D4E3"
             },
             "line": {
              "color": "white"
             }
            },
            "type": "table"
           }
          ]
         },
         "layout": {
          "annotationdefaults": {
           "arrowcolor": "#2a3f5f",
           "arrowhead": 0,
           "arrowwidth": 1
          },
          "coloraxis": {
           "colorbar": {
            "outlinewidth": 0,
            "ticks": ""
           }
          },
          "colorscale": {
           "diverging": [
            [
             0,
             "#8e0152"
            ],
            [
             0.1,
             "#c51b7d"
            ],
            [
             0.2,
             "#de77ae"
            ],
            [
             0.3,
             "#f1b6da"
            ],
            [
             0.4,
             "#fde0ef"
            ],
            [
             0.5,
             "#f7f7f7"
            ],
            [
             0.6,
             "#e6f5d0"
            ],
            [
             0.7,
             "#b8e186"
            ],
            [
             0.8,
             "#7fbc41"
            ],
            [
             0.9,
             "#4d9221"
            ],
            [
             1,
             "#276419"
            ]
           ],
           "sequential": [
            [
             0,
             "#0d0887"
            ],
            [
             0.1111111111111111,
             "#46039f"
            ],
            [
             0.2222222222222222,
             "#7201a8"
            ],
            [
             0.3333333333333333,
             "#9c179e"
            ],
            [
             0.4444444444444444,
             "#bd3786"
            ],
            [
             0.5555555555555556,
             "#d8576b"
            ],
            [
             0.6666666666666666,
             "#ed7953"
            ],
            [
             0.7777777777777778,
             "#fb9f3a"
            ],
            [
             0.8888888888888888,
             "#fdca26"
            ],
            [
             1,
             "#f0f921"
            ]
           ],
           "sequentialminus": [
            [
             0,
             "#0d0887"
            ],
            [
             0.1111111111111111,
             "#46039f"
            ],
            [
             0.2222222222222222,
             "#7201a8"
            ],
            [
             0.3333333333333333,
             "#9c179e"
            ],
            [
             0.4444444444444444,
             "#bd3786"
            ],
            [
             0.5555555555555556,
             "#d8576b"
            ],
            [
             0.6666666666666666,
             "#ed7953"
            ],
            [
             0.7777777777777778,
             "#fb9f3a"
            ],
            [
             0.8888888888888888,
             "#fdca26"
            ],
            [
             1,
             "#f0f921"
            ]
           ]
          },
          "colorway": [
           "#636efa",
           "#EF553B",
           "#00cc96",
           "#ab63fa",
           "#FFA15A",
           "#19d3f3",
           "#FF6692",
           "#B6E880",
           "#FF97FF",
           "#FECB52"
          ],
          "font": {
           "color": "#2a3f5f"
          },
          "geo": {
           "bgcolor": "white",
           "lakecolor": "white",
           "landcolor": "#E5ECF6",
           "showlakes": true,
           "showland": true,
           "subunitcolor": "white"
          },
          "hoverlabel": {
           "align": "left"
          },
          "hovermode": "closest",
          "mapbox": {
           "style": "light"
          },
          "paper_bgcolor": "white",
          "plot_bgcolor": "#E5ECF6",
          "polar": {
           "angularaxis": {
            "gridcolor": "white",
            "linecolor": "white",
            "ticks": ""
           },
           "bgcolor": "#E5ECF6",
           "radialaxis": {
            "gridcolor": "white",
            "linecolor": "white",
            "ticks": ""
           }
          },
          "scene": {
           "xaxis": {
            "backgroundcolor": "#E5ECF6",
            "gridcolor": "white",
            "gridwidth": 2,
            "linecolor": "white",
            "showbackground": true,
            "ticks": "",
            "zerolinecolor": "white"
           },
           "yaxis": {
            "backgroundcolor": "#E5ECF6",
            "gridcolor": "white",
            "gridwidth": 2,
            "linecolor": "white",
            "showbackground": true,
            "ticks": "",
            "zerolinecolor": "white"
           },
           "zaxis": {
            "backgroundcolor": "#E5ECF6",
            "gridcolor": "white",
            "gridwidth": 2,
            "linecolor": "white",
            "showbackground": true,
            "ticks": "",
            "zerolinecolor": "white"
           }
          },
          "shapedefaults": {
           "line": {
            "color": "#2a3f5f"
           }
          },
          "ternary": {
           "aaxis": {
            "gridcolor": "white",
            "linecolor": "white",
            "ticks": ""
           },
           "baxis": {
            "gridcolor": "white",
            "linecolor": "white",
            "ticks": ""
           },
           "bgcolor": "#E5ECF6",
           "caxis": {
            "gridcolor": "white",
            "linecolor": "white",
            "ticks": ""
           }
          },
          "title": {
           "x": 0.05
          },
          "xaxis": {
           "automargin": true,
           "gridcolor": "white",
           "linecolor": "white",
           "ticks": "",
           "title": {
            "standoff": 15
           },
           "zerolinecolor": "white",
           "zerolinewidth": 2
          },
          "yaxis": {
           "automargin": true,
           "gridcolor": "white",
           "linecolor": "white",
           "ticks": "",
           "title": {
            "standoff": 15
           },
           "zerolinecolor": "white",
           "zerolinewidth": 2
          }
         }
        },
        "title": {
         "text": "Bias Error",
         "x": 0.48,
         "xanchor": "center",
         "y": 0.9,
         "yanchor": "top"
        },
        "xaxis": {
         "title": {
          "text": "Time (sec)"
         }
        },
        "yaxis": {
         "title": {
          "text": "Bias Error ($m/sec^2$)"
         }
        }
       }
      },
      "text/html": [
       "<div>\n",
       "        \n",
       "        \n",
       "            <div id=\"1ac961e9-77f4-430b-8460-1c9a2df989d0\" class=\"plotly-graph-div\" style=\"height:525px; width:100%;\"></div>\n",
       "            <script type=\"text/javascript\">\n",
       "                require([\"plotly\"], function(Plotly) {\n",
       "                    window.PLOTLYENV=window.PLOTLYENV || {};\n",
       "                    \n",
       "                if (document.getElementById(\"1ac961e9-77f4-430b-8460-1c9a2df989d0\")) {\n",
       "                    Plotly.newPlot(\n",
       "                        '1ac961e9-77f4-430b-8460-1c9a2df989d0',\n",
       "                        [{\"name\": \"Bias Error\", \"type\": \"scatter\", \"x\": [0.0, 0.2, 0.4, 0.6000000000000001, 0.8, 1.0, 1.2000000000000002, 1.4000000000000001, 1.6, 1.8, 2.0, 2.2, 2.4000000000000004, 2.6, 2.8000000000000003, 3.0, 3.2, 3.4000000000000004, 3.6, 3.8000000000000003, 4.0, 4.2, 4.4, 4.6000000000000005, 4.800000000000001, 5.0, 5.2, 5.4, 5.6000000000000005, 5.800000000000001, 6.0, 6.2, 6.4, 6.6000000000000005, 6.800000000000001, 7.0, 7.2, 7.4, 7.6000000000000005, 7.800000000000001, 8.0, 8.200000000000001, 8.4, 8.6, 8.8, 9.0, 9.200000000000001, 9.4, 9.600000000000001, 9.8, 10.0, 10.200000000000001, 10.4, 10.600000000000001, 10.8, 11.0, 11.200000000000001, 11.4, 11.600000000000001, 11.8, 12.0, 12.200000000000001, 12.4, 12.600000000000001, 12.8, 13.0, 13.200000000000001, 13.4, 13.600000000000001, 13.8, 14.0, 14.200000000000001, 14.4, 14.600000000000001, 14.8, 15.0, 15.200000000000001, 15.4, 15.600000000000001, 15.8, 16.0, 16.2, 16.400000000000002, 16.6, 16.8, 17.0, 17.2, 17.400000000000002, 17.6, 17.8, 18.0, 18.2, 18.400000000000002, 18.6, 18.8, 19.0, 19.200000000000003, 19.400000000000002, 19.6, 19.8, 20.0, 20.200000000000003, 20.400000000000002, 20.6, 20.8, 21.0, 21.200000000000003, 21.400000000000002, 21.6, 21.8, 22.0, 22.200000000000003, 22.400000000000002, 22.6, 22.8, 23.0, 23.200000000000003, 23.400000000000002, 23.6, 23.8, 24.0, 24.200000000000003, 24.400000000000002, 24.6, 24.8, 25.0, 25.200000000000003, 25.400000000000002, 25.6, 25.8, 26.0, 26.200000000000003, 26.400000000000002, 26.6, 26.8, 27.0, 27.200000000000003, 27.400000000000002, 27.6, 27.8, 28.0, 28.200000000000003, 28.400000000000002, 28.6, 28.8, 29.0, 29.200000000000003, 29.400000000000002, 29.6, 29.8, 30.0], \"y\": [-0.014834860063309455, 0.16496825479978927, 0.35999966027412533, 0.3799735186878516, 0.31543085809200455, 0.24374988713841986, 0.23059843477293307, 0.184522948153021, 0.13672090319706243, 0.09763621934124768, 0.06536463373574446, 0.062185632923248475, 0.05524893508561956, 0.052092262873284174, 0.046047203352945036, 0.035872597751841054, 0.03450359674556345, 0.029738637158287548, 0.03299166310836693, 0.023986248542830983, 0.019007554136743834, 0.020969579783992, 0.019363444866587753, 0.019196300763895946, 0.015755472868725848, 0.015958963700935178, 0.017990430982189158, 0.01632007241075789, 0.015260587002902367, 0.015184677568545078, 0.013366195907482328, 0.014436238975910972, 0.014390252258868025, 0.011860109584536817, 0.011780747160174685, 0.011661780682635696, 0.009919017432957302, 0.008969393471573788, 0.008956366424412774, 0.008352677775305474, 0.008830497989278806, 0.00974762962017507, 0.009840926490695923, 0.008957663975388568, 0.008025666791601061, 0.00784004391018816, 0.007523943323336871, 0.007302980507674315, 0.006906182203103546, 0.0063399936201659745, 0.00586347353327306, 0.005202198543914073, 0.004929412432438178, 0.0043821017648599265, 0.004468256039673062, 0.003956955309665335, 0.0038738980050421843, 0.004455059872286405, 0.0047004416043311455, 0.0046412763542157485, 0.004563053438276515, 0.004572611786356822, 0.004271595072210926, 0.004057534953741606, 0.004017376442330406, 0.004473824284223852, 0.004971684074126263, 0.004988808133760467, 0.004834663795275312, 0.0049482944758424355, 0.00449132898712421, 0.004712125779696671, 0.004045468025360424, 0.0031512033697076672, 0.0030183898921742284, 0.0035218921701150856, 0.003445912819449644, 0.0038957985223224325, 0.0038441573508002317, 0.004291233527052256, 0.004628439874553461, 0.004284525843211743, 0.004002444543993669, 0.004049884605595829, 0.004543090860709647, 0.004672219321895229, 0.004171396981031741, 0.0038591389351065163, 0.003690093700751124, 0.0033623456556169055, 0.003260363915243142, 0.0031292608353482108, 0.0028140168335028092, 0.003007533858767274, 0.002832896781095105, 0.002455617190242525, 0.002355061208632778, 0.0028622718282774514, 0.002974823713074658, 0.0026458222706807737, 0.002509755924086596, 0.002480391271392003, 0.00245488366715897, 0.002045156269771026, 0.0019196172928951285, 0.0021526368014523883, 0.001970113578702833, 0.002077467351012571, 0.00207232100626528, 0.002040107242584929, 0.0021120368074033172, 0.0020997534981355478, 0.0020270601192966826, 0.0017719276230681227, 0.0018799384918410152, 0.0018947363249634686, 0.0018755059660386392, 0.0018058148748342929, 0.0016663481722399027, 0.0013630006811480074, 0.0016038587729503822, 0.0016419394528419725, 0.0015086981804713923, 0.0016682449421344097, 0.0016947507644691894, 0.001603629709502537, 0.0015824541013861621, 0.0015385664479199822, 0.0013542672992486616, 0.0014489958154090283, 0.001500586096162675, 0.0016922146969663206, 0.0015951286722800263, 0.0014211852796703114, 0.0014108039391675115, 0.001634745332079331, 0.0014032465270727556, 0.0014785220316266227, 0.0014794451760908479, 0.0014645202089621934, 0.0013348784374889056, 0.001299897993044018, 0.0013782177559866163, 0.0013921104920216042, 0.0013518912868694406, 0.0014918950277663916, 0.0014284536981735863, 0.0016113381572262584, 0.001665295348964627, 0.0015897014294878626, 0.0016208169347465117]}],\n",
       "                        {\"template\": {\"data\": {\"bar\": [{\"error_x\": {\"color\": \"#2a3f5f\"}, \"error_y\": {\"color\": \"#2a3f5f\"}, \"marker\": {\"line\": {\"color\": \"#E5ECF6\", \"width\": 0.5}}, \"type\": \"bar\"}], \"barpolar\": [{\"marker\": {\"line\": {\"color\": \"#E5ECF6\", \"width\": 0.5}}, \"type\": \"barpolar\"}], \"carpet\": [{\"aaxis\": {\"endlinecolor\": \"#2a3f5f\", \"gridcolor\": \"white\", \"linecolor\": \"white\", \"minorgridcolor\": \"white\", \"startlinecolor\": \"#2a3f5f\"}, \"baxis\": {\"endlinecolor\": \"#2a3f5f\", \"gridcolor\": \"white\", \"linecolor\": \"white\", \"minorgridcolor\": \"white\", \"startlinecolor\": \"#2a3f5f\"}, \"type\": \"carpet\"}], \"choropleth\": [{\"colorbar\": {\"outlinewidth\": 0, \"ticks\": \"\"}, \"type\": \"choropleth\"}], \"contour\": [{\"colorbar\": {\"outlinewidth\": 0, \"ticks\": \"\"}, \"colorscale\": [[0.0, \"#0d0887\"], [0.1111111111111111, \"#46039f\"], [0.2222222222222222, \"#7201a8\"], [0.3333333333333333, \"#9c179e\"], [0.4444444444444444, \"#bd3786\"], [0.5555555555555556, \"#d8576b\"], [0.6666666666666666, \"#ed7953\"], [0.7777777777777778, \"#fb9f3a\"], [0.8888888888888888, \"#fdca26\"], [1.0, \"#f0f921\"]], \"type\": \"contour\"}], \"contourcarpet\": [{\"colorbar\": {\"outlinewidth\": 0, \"ticks\": \"\"}, \"type\": \"contourcarpet\"}], \"heatmap\": [{\"colorbar\": {\"outlinewidth\": 0, \"ticks\": \"\"}, \"colorscale\": [[0.0, \"#0d0887\"], [0.1111111111111111, \"#46039f\"], [0.2222222222222222, \"#7201a8\"], [0.3333333333333333, \"#9c179e\"], [0.4444444444444444, \"#bd3786\"], [0.5555555555555556, \"#d8576b\"], [0.6666666666666666, \"#ed7953\"], [0.7777777777777778, \"#fb9f3a\"], [0.8888888888888888, \"#fdca26\"], [1.0, \"#f0f921\"]], \"type\": \"heatmap\"}], \"heatmapgl\": [{\"colorbar\": {\"outlinewidth\": 0, \"ticks\": \"\"}, \"colorscale\": [[0.0, \"#0d0887\"], [0.1111111111111111, \"#46039f\"], [0.2222222222222222, \"#7201a8\"], [0.3333333333333333, \"#9c179e\"], [0.4444444444444444, \"#bd3786\"], [0.5555555555555556, \"#d8576b\"], [0.6666666666666666, \"#ed7953\"], [0.7777777777777778, \"#fb9f3a\"], [0.8888888888888888, \"#fdca26\"], [1.0, \"#f0f921\"]], \"type\": \"heatmapgl\"}], \"histogram\": [{\"marker\": {\"colorbar\": {\"outlinewidth\": 0, \"ticks\": \"\"}}, \"type\": \"histogram\"}], \"histogram2d\": [{\"colorbar\": {\"outlinewidth\": 0, \"ticks\": \"\"}, \"colorscale\": [[0.0, \"#0d0887\"], [0.1111111111111111, \"#46039f\"], [0.2222222222222222, \"#7201a8\"], [0.3333333333333333, \"#9c179e\"], [0.4444444444444444, \"#bd3786\"], [0.5555555555555556, \"#d8576b\"], [0.6666666666666666, \"#ed7953\"], [0.7777777777777778, \"#fb9f3a\"], [0.8888888888888888, \"#fdca26\"], [1.0, \"#f0f921\"]], \"type\": \"histogram2d\"}], \"histogram2dcontour\": [{\"colorbar\": {\"outlinewidth\": 0, \"ticks\": \"\"}, \"colorscale\": [[0.0, \"#0d0887\"], [0.1111111111111111, \"#46039f\"], [0.2222222222222222, \"#7201a8\"], [0.3333333333333333, \"#9c179e\"], [0.4444444444444444, \"#bd3786\"], [0.5555555555555556, \"#d8576b\"], [0.6666666666666666, \"#ed7953\"], [0.7777777777777778, \"#fb9f3a\"], [0.8888888888888888, \"#fdca26\"], [1.0, \"#f0f921\"]], \"type\": \"histogram2dcontour\"}], \"mesh3d\": [{\"colorbar\": {\"outlinewidth\": 0, \"ticks\": \"\"}, \"type\": \"mesh3d\"}], \"parcoords\": [{\"line\": {\"colorbar\": {\"outlinewidth\": 0, \"ticks\": \"\"}}, \"type\": \"parcoords\"}], \"pie\": [{\"automargin\": true, \"type\": \"pie\"}], \"scatter\": [{\"marker\": {\"colorbar\": {\"outlinewidth\": 0, \"ticks\": \"\"}}, \"type\": \"scatter\"}], \"scatter3d\": [{\"line\": {\"colorbar\": {\"outlinewidth\": 0, \"ticks\": \"\"}}, \"marker\": {\"colorbar\": {\"outlinewidth\": 0, \"ticks\": \"\"}}, \"type\": \"scatter3d\"}], \"scattercarpet\": [{\"marker\": {\"colorbar\": {\"outlinewidth\": 0, \"ticks\": \"\"}}, \"type\": \"scattercarpet\"}], \"scattergeo\": [{\"marker\": {\"colorbar\": {\"outlinewidth\": 0, \"ticks\": \"\"}}, \"type\": \"scattergeo\"}], \"scattergl\": [{\"marker\": {\"colorbar\": {\"outlinewidth\": 0, \"ticks\": \"\"}}, \"type\": \"scattergl\"}], \"scattermapbox\": [{\"marker\": {\"colorbar\": {\"outlinewidth\": 0, \"ticks\": \"\"}}, \"type\": \"scattermapbox\"}], \"scatterpolar\": [{\"marker\": {\"colorbar\": {\"outlinewidth\": 0, \"ticks\": \"\"}}, \"type\": \"scatterpolar\"}], \"scatterpolargl\": [{\"marker\": {\"colorbar\": {\"outlinewidth\": 0, \"ticks\": \"\"}}, \"type\": \"scatterpolargl\"}], \"scatterternary\": [{\"marker\": {\"colorbar\": {\"outlinewidth\": 0, \"ticks\": \"\"}}, \"type\": \"scatterternary\"}], \"surface\": [{\"colorbar\": {\"outlinewidth\": 0, \"ticks\": \"\"}, \"colorscale\": [[0.0, \"#0d0887\"], [0.1111111111111111, \"#46039f\"], [0.2222222222222222, \"#7201a8\"], [0.3333333333333333, \"#9c179e\"], [0.4444444444444444, \"#bd3786\"], [0.5555555555555556, \"#d8576b\"], [0.6666666666666666, \"#ed7953\"], [0.7777777777777778, \"#fb9f3a\"], [0.8888888888888888, \"#fdca26\"], [1.0, \"#f0f921\"]], \"type\": \"surface\"}], \"table\": [{\"cells\": {\"fill\": {\"color\": \"#EBF0F8\"}, \"line\": {\"color\": \"white\"}}, \"header\": {\"fill\": {\"color\": \"#C8D4E3\"}, \"line\": {\"color\": \"white\"}}, \"type\": \"table\"}]}, \"layout\": {\"annotationdefaults\": {\"arrowcolor\": \"#2a3f5f\", \"arrowhead\": 0, \"arrowwidth\": 1}, \"coloraxis\": {\"colorbar\": {\"outlinewidth\": 0, \"ticks\": \"\"}}, \"colorscale\": {\"diverging\": [[0, \"#8e0152\"], [0.1, \"#c51b7d\"], [0.2, \"#de77ae\"], [0.3, \"#f1b6da\"], [0.4, \"#fde0ef\"], [0.5, \"#f7f7f7\"], [0.6, \"#e6f5d0\"], [0.7, \"#b8e186\"], [0.8, \"#7fbc41\"], [0.9, \"#4d9221\"], [1, \"#276419\"]], \"sequential\": [[0.0, \"#0d0887\"], [0.1111111111111111, \"#46039f\"], [0.2222222222222222, \"#7201a8\"], [0.3333333333333333, \"#9c179e\"], [0.4444444444444444, \"#bd3786\"], [0.5555555555555556, \"#d8576b\"], [0.6666666666666666, \"#ed7953\"], [0.7777777777777778, \"#fb9f3a\"], [0.8888888888888888, \"#fdca26\"], [1.0, \"#f0f921\"]], \"sequentialminus\": [[0.0, \"#0d0887\"], [0.1111111111111111, \"#46039f\"], [0.2222222222222222, \"#7201a8\"], [0.3333333333333333, \"#9c179e\"], [0.4444444444444444, \"#bd3786\"], [0.5555555555555556, \"#d8576b\"], [0.6666666666666666, \"#ed7953\"], [0.7777777777777778, \"#fb9f3a\"], [0.8888888888888888, \"#fdca26\"], [1.0, \"#f0f921\"]]}, \"colorway\": [\"#636efa\", \"#EF553B\", \"#00cc96\", \"#ab63fa\", \"#FFA15A\", \"#19d3f3\", \"#FF6692\", \"#B6E880\", \"#FF97FF\", \"#FECB52\"], \"font\": {\"color\": \"#2a3f5f\"}, \"geo\": {\"bgcolor\": \"white\", \"lakecolor\": \"white\", \"landcolor\": \"#E5ECF6\", \"showlakes\": true, \"showland\": true, \"subunitcolor\": \"white\"}, \"hoverlabel\": {\"align\": \"left\"}, \"hovermode\": \"closest\", \"mapbox\": {\"style\": \"light\"}, \"paper_bgcolor\": \"white\", \"plot_bgcolor\": \"#E5ECF6\", \"polar\": {\"angularaxis\": {\"gridcolor\": \"white\", \"linecolor\": \"white\", \"ticks\": \"\"}, \"bgcolor\": \"#E5ECF6\", \"radialaxis\": {\"gridcolor\": \"white\", \"linecolor\": \"white\", \"ticks\": \"\"}}, \"scene\": {\"xaxis\": {\"backgroundcolor\": \"#E5ECF6\", \"gridcolor\": \"white\", \"gridwidth\": 2, \"linecolor\": \"white\", \"showbackground\": true, \"ticks\": \"\", \"zerolinecolor\": \"white\"}, \"yaxis\": {\"backgroundcolor\": \"#E5ECF6\", \"gridcolor\": \"white\", \"gridwidth\": 2, \"linecolor\": \"white\", \"showbackground\": true, \"ticks\": \"\", \"zerolinecolor\": \"white\"}, \"zaxis\": {\"backgroundcolor\": \"#E5ECF6\", \"gridcolor\": \"white\", \"gridwidth\": 2, \"linecolor\": \"white\", \"showbackground\": true, \"ticks\": \"\", \"zerolinecolor\": \"white\"}}, \"shapedefaults\": {\"line\": {\"color\": \"#2a3f5f\"}}, \"ternary\": {\"aaxis\": {\"gridcolor\": \"white\", \"linecolor\": \"white\", \"ticks\": \"\"}, \"baxis\": {\"gridcolor\": \"white\", \"linecolor\": \"white\", \"ticks\": \"\"}, \"bgcolor\": \"#E5ECF6\", \"caxis\": {\"gridcolor\": \"white\", \"linecolor\": \"white\", \"ticks\": \"\"}}, \"title\": {\"x\": 0.05}, \"xaxis\": {\"automargin\": true, \"gridcolor\": \"white\", \"linecolor\": \"white\", \"ticks\": \"\", \"title\": {\"standoff\": 15}, \"zerolinecolor\": \"white\", \"zerolinewidth\": 2}, \"yaxis\": {\"automargin\": true, \"gridcolor\": \"white\", \"linecolor\": \"white\", \"ticks\": \"\", \"title\": {\"standoff\": 15}, \"zerolinecolor\": \"white\", \"zerolinewidth\": 2}}}, \"title\": {\"text\": \"Bias Error\", \"x\": 0.48, \"xanchor\": \"center\", \"y\": 0.9, \"yanchor\": \"top\"}, \"xaxis\": {\"title\": {\"text\": \"Time (sec)\"}}, \"yaxis\": {\"title\": {\"text\": \"Bias Error ($m/sec^2$)\"}}},\n",
       "                        {\"responsive\": true}\n",
       "                    ).then(function(){\n",
       "                            \n",
       "var gd = document.getElementById('1ac961e9-77f4-430b-8460-1c9a2df989d0');\n",
       "var x = new MutationObserver(function (mutations, observer) {{\n",
       "        var display = window.getComputedStyle(gd).display;\n",
       "        if (!display || display === 'none') {{\n",
       "            console.log([gd, 'removed!']);\n",
       "            Plotly.purge(gd);\n",
       "            observer.disconnect();\n",
       "        }}\n",
       "}});\n",
       "\n",
       "// Listen for the removal of the full notebook cells\n",
       "var notebookContainer = gd.closest('#notebook-container');\n",
       "if (notebookContainer) {{\n",
       "    x.observe(notebookContainer, {childList: true});\n",
       "}}\n",
       "\n",
       "// Listen for the clearing of the current output cell\n",
       "var outputEl = gd.closest('.output');\n",
       "if (outputEl) {{\n",
       "    x.observe(outputEl, {childList: true});\n",
       "}}\n",
       "\n",
       "                        })\n",
       "                };\n",
       "                });\n",
       "            </script>\n",
       "        </div>"
      ]
     },
     "metadata": {},
     "output_type": "display_data"
    },
    {
     "data": {
      "application/vnd.plotly.v1+json": {
       "config": {
        "plotlyServerURL": "https://plot.ly"
       },
       "data": [
        {
         "line": {
          "width": 4
         },
         "name": "True Position",
         "type": "scatter",
         "x": [
          0,
          0.2,
          0.4,
          0.6000000000000001,
          0.8,
          1,
          1.2000000000000002,
          1.4000000000000001,
          1.6,
          1.8,
          2,
          2.2,
          2.4000000000000004,
          2.6,
          2.8000000000000003,
          3,
          3.2,
          3.4000000000000004,
          3.6,
          3.8000000000000003,
          4,
          4.2,
          4.4,
          4.6000000000000005,
          4.800000000000001,
          5,
          5.2,
          5.4,
          5.6000000000000005,
          5.800000000000001,
          6,
          6.2,
          6.4,
          6.6000000000000005,
          6.800000000000001,
          7,
          7.2,
          7.4,
          7.6000000000000005,
          7.800000000000001,
          8,
          8.200000000000001,
          8.4,
          8.6,
          8.8,
          9,
          9.200000000000001,
          9.4,
          9.600000000000001,
          9.8,
          10,
          10.200000000000001,
          10.4,
          10.600000000000001,
          10.8,
          11,
          11.200000000000001,
          11.4,
          11.600000000000001,
          11.8,
          12,
          12.200000000000001,
          12.4,
          12.600000000000001,
          12.8,
          13,
          13.200000000000001,
          13.4,
          13.600000000000001,
          13.8,
          14,
          14.200000000000001,
          14.4,
          14.600000000000001,
          14.8,
          15,
          15.200000000000001,
          15.4,
          15.600000000000001,
          15.8,
          16,
          16.2,
          16.400000000000002,
          16.6,
          16.8,
          17,
          17.2,
          17.400000000000002,
          17.6,
          17.8,
          18,
          18.2,
          18.400000000000002,
          18.6,
          18.8,
          19,
          19.200000000000003,
          19.400000000000002,
          19.6,
          19.8,
          20,
          20.200000000000003,
          20.400000000000002,
          20.6,
          20.8,
          21,
          21.200000000000003,
          21.400000000000002,
          21.6,
          21.8,
          22,
          22.200000000000003,
          22.400000000000002,
          22.6,
          22.8,
          23,
          23.200000000000003,
          23.400000000000002,
          23.6,
          23.8,
          24,
          24.200000000000003,
          24.400000000000002,
          24.6,
          24.8,
          25,
          25.200000000000003,
          25.400000000000002,
          25.6,
          25.8,
          26,
          26.200000000000003,
          26.400000000000002,
          26.6,
          26.8,
          27,
          27.200000000000003,
          27.400000000000002,
          27.6,
          27.8,
          28,
          28.200000000000003,
          28.400000000000002,
          28.6,
          28.8,
          29,
          29.200000000000003,
          29.400000000000002,
          29.6,
          29.8,
          30
         ],
         "y": [
          12.659772313799348,
          32.65007807593395,
          52.64828306110132,
          72.66238332941487,
          92.70036858308677,
          112.77021897065349,
          132.87990189502284,
          153.037368826619,
          173.25055212290025,
          193.52736185552197,
          213.87568264641328,
          234.30337051403362,
          254.81824973106978,
          275.42810969483133,
          296.14070181159565,
          316.96373639614905,
          337.9048795877624,
          358.97175028383873,
          380.1719170924563,
          401.51289530502476,
          423.0021438902702,
          444.6470625107464,
          466.4549885630684,
          488.4331942430519,
          510.58888363693313,
          532.929189839827,
          555.4611721025883,
          578.1918130082022,
          601.128015678846,
          624.2766010147318,
          647.6443049658377,
          671.237775837617,
          695.0635716317641,
          719.128157423103,
          743.4379027736421,
          767.9990791848356,
          792.8178575890659,
          817.900305881351,
          843.2523864922713,
          868.8799540030742,
          894.7887528039191,
          920.984414796201,
          947.4724571398622,
          974.2582800466023,
          1001.3471646198674,
          1028.7442707424752,
          1056.4546350127362,
          1084.4831687298774,
          1112.8346559295878,
          1141.5137514704727,
          1170.5249791721656,
          1199.8727300058658,
          1229.561260338006,
          1259.5946902277626,
          1289.9770017790897,
          1320.7120375479283,
          1351.8034990052324,
          1383.254945056435,
          1415.0697906179312,
          1447.2513052511574,
          1479.8026118548087,
          1512.7266854157242,
          1546.0263518189308,
          1579.7042867173247,
          1613.7630144614473,
          1648.2049070897792,
          1683.032183379958,
          1718.2469079612933,
          1753.850990488944,
          1789.8461848800819,
          1826.2340886123477,
          1863.0161420848845,
          1900.1936280421912,
          1937.7676710610472,
          1975.7392371006927,
          2014.1091331164612,
          2052.878006737007,
          2092.0463460052615,
          2131.614479183223,
          2171.5825746206574,
          2211.9506406877604,
          2252.718525771804,
          2293.885918337789,
          2335.452347053049,
          2377.4171809757777,
          2419.779629807398,
          2462.5387442086694,
          2505.6934161794143,
          2549.242379501702,
          2593.184210246315,
          2637.5173273423115,
          2682.239993209417,
          2727.350314453049,
          2772.8462426216392,
          2818.725575025995,
          2864.985955620342,
          2911.6248759447026,
          2958.639676128264,
          3006.0275459532736,
          3053.7855259791013,
          3101.910508725969,
          3150.3992399179037,
          3199.2483197844053,
          3248.4542044203076,
          3298.013207203294,
          3347.921500268498,
          3398.175116039599,
          3448.7699488157946,
          3499.7017564140315,
          3550.9661618658197,
          3602.558655167961,
          3654.4745950864976,
          3706.709211013133,
          3759.257604873417,
          3812.1147530859052,
          3865.275508571541,
          3918.734602812396,
          3972.4866479590205,
          4026.526138985508,
          4080.847455891436,
          4135.4448659497775,
          4190.312525999941,
          4245.44448478493,
          4300.834685331784,
          4356.476967374278,
          4412.365069816951,
          4468.492633239463,
          4524.853202440264,
          4581.440229018606,
          4638.247073993815,
          4695.26701046078,
          4752.493226280639,
          4809.918826805541,
          4867.536837636408,
          4925.3402074126025,
          4983.321810632382,
          5041.474450503011,
          5099.790861819365,
          5158.263713869929,
          5216.885613368978,
          5275.649107413798,
          5334.546686465738,
          5393.570787353935,
          5452.713796300488,
          5511.968051965842,
          5571.325848513249,
          5630.7794386909845,
          5690.321036931147,
          5749.942822463789,
          5809.636942445108,
          5869.395515098495
         ]
        },
        {
         "name": "Estimated Position",
         "type": "scatter",
         "x": [
          0,
          0.2,
          0.4,
          0.6000000000000001,
          0.8,
          1,
          1.2000000000000002,
          1.4000000000000001,
          1.6,
          1.8,
          2,
          2.2,
          2.4000000000000004,
          2.6,
          2.8000000000000003,
          3,
          3.2,
          3.4000000000000004,
          3.6,
          3.8000000000000003,
          4,
          4.2,
          4.4,
          4.6000000000000005,
          4.800000000000001,
          5,
          5.2,
          5.4,
          5.6000000000000005,
          5.800000000000001,
          6,
          6.2,
          6.4,
          6.6000000000000005,
          6.800000000000001,
          7,
          7.2,
          7.4,
          7.6000000000000005,
          7.800000000000001,
          8,
          8.200000000000001,
          8.4,
          8.6,
          8.8,
          9,
          9.200000000000001,
          9.4,
          9.600000000000001,
          9.8,
          10,
          10.200000000000001,
          10.4,
          10.600000000000001,
          10.8,
          11,
          11.200000000000001,
          11.4,
          11.600000000000001,
          11.8,
          12,
          12.200000000000001,
          12.4,
          12.600000000000001,
          12.8,
          13,
          13.200000000000001,
          13.4,
          13.600000000000001,
          13.8,
          14,
          14.200000000000001,
          14.4,
          14.600000000000001,
          14.8,
          15,
          15.200000000000001,
          15.4,
          15.600000000000001,
          15.8,
          16,
          16.2,
          16.400000000000002,
          16.6,
          16.8,
          17,
          17.2,
          17.400000000000002,
          17.6,
          17.8,
          18,
          18.2,
          18.400000000000002,
          18.6,
          18.8,
          19,
          19.200000000000003,
          19.400000000000002,
          19.6,
          19.8,
          20,
          20.200000000000003,
          20.400000000000002,
          20.6,
          20.8,
          21,
          21.200000000000003,
          21.400000000000002,
          21.6,
          21.8,
          22,
          22.200000000000003,
          22.400000000000002,
          22.6,
          22.8,
          23,
          23.200000000000003,
          23.400000000000002,
          23.6,
          23.8,
          24,
          24.200000000000003,
          24.400000000000002,
          24.6,
          24.8,
          25,
          25.200000000000003,
          25.400000000000002,
          25.6,
          25.8,
          26,
          26.200000000000003,
          26.400000000000002,
          26.6,
          26.8,
          27,
          27.200000000000003,
          27.400000000000002,
          27.6,
          27.8,
          28,
          28.200000000000003,
          28.400000000000002,
          28.6,
          28.8,
          29,
          29.200000000000003,
          29.400000000000002,
          29.6,
          29.8,
          30
         ],
         "y": [
          12.56053247728031,
          31.975415355460058,
          51.82116611515615,
          72.01336349474158,
          92.26068307777663,
          112.26211858682352,
          132.51842537620865,
          152.64851497251203,
          172.9186957864634,
          193.31041582314703,
          213.7240033555458,
          234.1215017360154,
          254.72338915144547,
          275.3314155689642,
          295.96795249112347,
          316.88341552148665,
          337.76154424511316,
          358.8872433993866,
          380.07322045359984,
          401.4664439620504,
          422.9438686920515,
          444.5930370288099,
          466.3763287718121,
          488.3039508976455,
          510.5286210636974,
          532.9285180443876,
          555.4169488849709,
          578.0976542525788,
          601.0068819606616,
          624.1171142240969,
          647.4580120969606,
          671.0259996447941,
          694.8894758989659,
          718.996329268274,
          743.3196246673225,
          767.8853711003374,
          792.7271127563932,
          817.8320038184386,
          843.1794647590533,
          868.8088654890603,
          894.7001726164045,
          920.9484277593986,
          947.405919200881,
          974.219309133308,
          1001.3082292122414,
          1028.696853249612,
          1056.4042911606593,
          1084.3833233822188,
          1112.744994664265,
          1141.4632695772873,
          1170.4660129120332,
          1199.828713601947,
          1229.528657496065,
          1259.5539002353455,
          1289.9430229224654,
          1320.6779334308783,
          1351.763763606794,
          1383.2187691271745,
          1415.0215451091042,
          1447.1934846126555,
          1479.7501392624256,
          1512.6719372354391,
          1545.9999154391467,
          1579.6865894368307,
          1613.736527322615,
          1648.1368584531572,
          1682.9302747073984,
          1718.1603562508528,
          1753.7719138528896,
          1789.7568306327332,
          1826.1520334563938,
          1862.9277324029576,
          1900.128213538795,
          1937.7133096977773,
          1975.6845392609757,
          2014.0580674139774,
          2052.834114079153,
          2091.9783463457998,
          2131.5482985255053,
          2171.5018804474735,
          2211.8644855209186,
          2252.6283664186935,
          2293.7963124953217,
          2335.3549487934615,
          2377.296861046766,
          2419.6378919891176,
          2462.398722221345,
          2505.5459225356412,
          2549.1081288921323,
          2593.050418381528,
          2637.3816482574093,
          2682.101570557475,
          2727.2385343937913,
          2772.7314658329096,
          2818.6114503816384,
          2864.8888554483456,
          2911.5349756540004,
          2958.536518212328,
          3005.906965656638,
          3053.6786879454744,
          3101.8092294777935,
          3150.2943793198638,
          3199.150022073352,
          3248.372096200823,
          3297.9428522874523,
          3347.8495797597952,
          3398.129182344966,
          3448.707145505191,
          3499.62723188352,
          3550.897798730252,
          3602.514355059654,
          3654.4359542016305,
          3706.6785118671883,
          3759.244196155658,
          3812.097875702487,
          3865.2399017420166,
          3918.6978680792936,
          3972.4631280981657,
          4026.519148933363,
          4080.8283784718324,
          4135.438899388088,
          4190.294453192083,
          4245.4493963621735,
          4300.841917127987,
          4356.497304029108,
          4412.366262449854,
          4468.501001586333,
          4524.865966137424,
          4581.447129208665,
          4638.252977849199,
          4695.2860865679895,
          4752.500575492231,
          4809.92570647712,
          4867.556074766086,
          4925.382255211229,
          4983.343478950715,
          5041.514919135319,
          5099.84864846335,
          5158.311772737308,
          5216.95230187218,
          5275.726532056269,
          5334.622872092842,
          5393.649289893122,
          5452.795226160892,
          5512.054155415306,
          5571.408373838111,
          5630.868565049256,
          5690.403004889048,
          5750.008948123327,
          5809.700992847206,
          5869.451423042467
         ]
        },
        {
         "line": {
          "color": "green",
          "dash": "dash",
          "width": 1
         },
         "name": "$+ \\sigma$",
         "type": "scatter",
         "x": [
          0,
          0.2,
          0.4,
          0.6000000000000001,
          0.8,
          1,
          1.2000000000000002,
          1.4000000000000001,
          1.6,
          1.8,
          2,
          2.2,
          2.4000000000000004,
          2.6,
          2.8000000000000003,
          3,
          3.2,
          3.4000000000000004,
          3.6,
          3.8000000000000003,
          4,
          4.2,
          4.4,
          4.6000000000000005,
          4.800000000000001,
          5,
          5.2,
          5.4,
          5.6000000000000005,
          5.800000000000001,
          6,
          6.2,
          6.4,
          6.6000000000000005,
          6.800000000000001,
          7,
          7.2,
          7.4,
          7.6000000000000005,
          7.800000000000001,
          8,
          8.200000000000001,
          8.4,
          8.6,
          8.8,
          9,
          9.200000000000001,
          9.4,
          9.600000000000001,
          9.8,
          10,
          10.200000000000001,
          10.4,
          10.600000000000001,
          10.8,
          11,
          11.200000000000001,
          11.4,
          11.600000000000001,
          11.8,
          12,
          12.200000000000001,
          12.4,
          12.600000000000001,
          12.8,
          13,
          13.200000000000001,
          13.4,
          13.600000000000001,
          13.8,
          14,
          14.200000000000001,
          14.4,
          14.600000000000001,
          14.8,
          15,
          15.200000000000001,
          15.4,
          15.600000000000001,
          15.8,
          16,
          16.2,
          16.400000000000002,
          16.6,
          16.8,
          17,
          17.2,
          17.400000000000002,
          17.6,
          17.8,
          18,
          18.2,
          18.400000000000002,
          18.6,
          18.8,
          19,
          19.200000000000003,
          19.400000000000002,
          19.6,
          19.8,
          20,
          20.200000000000003,
          20.400000000000002,
          20.6,
          20.8,
          21,
          21.200000000000003,
          21.400000000000002,
          21.6,
          21.8,
          22,
          22.200000000000003,
          22.400000000000002,
          22.6,
          22.8,
          23,
          23.200000000000003,
          23.400000000000002,
          23.6,
          23.8,
          24,
          24.200000000000003,
          24.400000000000002,
          24.6,
          24.8,
          25,
          25.200000000000003,
          25.400000000000002,
          25.6,
          25.8,
          26,
          26.200000000000003,
          26.400000000000002,
          26.6,
          26.8,
          27,
          27.200000000000003,
          27.400000000000002,
          27.6,
          27.8,
          28,
          28.200000000000003,
          28.400000000000002,
          28.6,
          28.8,
          29,
          29.200000000000003,
          29.400000000000002,
          29.6,
          29.8,
          30
         ],
         "y": [
          13.5555696674903,
          32.680766694172306,
          52.397575419018175,
          72.51277768162738,
          92.70751279706009,
          112.6701192450967,
          132.89624597314875,
          153.00201074764985,
          173.25204789082431,
          193.62673309010785,
          214.02567175986755,
          234.41039985431632,
          255.00102750739217,
          275.59903034249766,
          296.2265706232551,
          317.1339012104029,
          338.00463294726063,
          359.12356720891904,
          380.30332739006343,
          401.69081286319397,
          423.16292087689806,
          444.8071455478196,
          466.58582582753155,
          488.5091338595408,
          510.7297573895785,
          533.1258493419631,
          555.6106942903199,
          578.2880132609146,
          601.1940368141563,
          624.3012319386439,
          647.6392461924468,
          671.2044916302325,
          695.065356553651,
          719.1697197521933,
          743.4906374878418,
          768.054110957269,
          792.8936772836407,
          817.9964842372843,
          843.3419464556264,
          868.9694285264721,
          894.8588921903672,
          921.1053746047698,
          947.5611599554468,
          974.3729066641763,
          1001.4602429094427,
          1028.8473392908454,
          1056.5533027505785,
          1084.5309109691905,
          1112.8912061371382,
          1141.6081504443848,
          1170.6096064642898,
          1199.9710610618783,
          1229.6697981540458,
          1259.6938715744927,
          1290.0818607332728,
          1320.8156719166113,
          1351.9004354805415,
          1383.3544057013498,
          1415.156176378105,
          1447.327139329309,
          1479.882845008782,
          1512.803720488419,
          1546.1308016314902,
          1579.8166030137545,
          1613.8656917945432,
          1648.2651964448514,
          1683.0578080037872,
          1718.287105839824,
          1753.8978999652932,
          1789.8820727798106,
          1826.2765504648353,
          1863.05154244777,
          1900.2513341741446,
          1937.8357578859577,
          1975.8063313996413,
          2014.1792193617653,
          2052.9546411798115,
          2092.0982634509264,
          2131.667620015995,
          2171.6206202537605,
          2211.9826571421,
          2252.7459829406057,
          2293.9133866076418,
          2335.4714928058943,
          2377.41288690438,
          2419.7534112868816,
          2462.5137462179177,
          2505.6604621664596,
          2549.2221947818407,
          2593.164020855793,
          2637.494797354152,
          2682.2142760375596,
          2727.350805751201,
          2772.8433123044374,
          2818.7228809561266,
          2864.999878875493,
          2911.6456004527668,
          2958.646752678958,
          3006.016817872322,
          3053.7881657836706,
          3101.9183406112274,
          3150.4031312272223,
          3199.25842204569,
          3248.480151347697,
          3298.050569542793,
          3347.956965887538,
          3398.2362439444455,
          3448.813889016317,
          3499.7336635917413,
          3551.003924771323,
          3602.62018142421,
          3654.5414867395834,
          3706.7837562919517,
          3759.349158048208,
          3812.202560515268,
          3865.3443148026986,
          3918.802014594388,
          3972.5670131565075,
          4026.6227775094644,
          4080.9317554291147,
          4135.542029481993,
          4190.397341073075,
          4245.5520465786385,
          4300.94433412902,
          4356.599492167214,
          4412.468225983545,
          4468.602744682645,
          4524.967492874342,
          4581.548443577467,
          4638.354083756725,
          4695.386987838832,
          4752.601275870854,
          4810.026209629908,
          4867.656384283329,
          4925.482374609043,
          4983.443411672899,
          5041.614668555156,
          5099.948217885349,
          5158.411165398894,
          5217.051520945332,
          5275.825580649107,
          5334.721753251164,
          5393.748006601897,
          5452.893781345709,
          5512.152551943776,
          5571.506614521235,
          5630.966652642741,
          5690.500942094597,
          5750.1067375898865,
          5809.798637172177,
          5869.548924772882
         ]
        },
        {
         "line": {
          "color": "firebrick",
          "dash": "dash",
          "width": 1
         },
         "name": "$-\\sigma$",
         "type": "scatter",
         "x": [
          0,
          0.2,
          0.4,
          0.6000000000000001,
          0.8,
          1,
          1.2000000000000002,
          1.4000000000000001,
          1.6,
          1.8,
          2,
          2.2,
          2.4000000000000004,
          2.6,
          2.8000000000000003,
          3,
          3.2,
          3.4000000000000004,
          3.6,
          3.8000000000000003,
          4,
          4.2,
          4.4,
          4.6000000000000005,
          4.800000000000001,
          5,
          5.2,
          5.4,
          5.6000000000000005,
          5.800000000000001,
          6,
          6.2,
          6.4,
          6.6000000000000005,
          6.800000000000001,
          7,
          7.2,
          7.4,
          7.6000000000000005,
          7.800000000000001,
          8,
          8.200000000000001,
          8.4,
          8.6,
          8.8,
          9,
          9.200000000000001,
          9.4,
          9.600000000000001,
          9.8,
          10,
          10.200000000000001,
          10.4,
          10.600000000000001,
          10.8,
          11,
          11.200000000000001,
          11.4,
          11.600000000000001,
          11.8,
          12,
          12.200000000000001,
          12.4,
          12.600000000000001,
          12.8,
          13,
          13.200000000000001,
          13.4,
          13.600000000000001,
          13.8,
          14,
          14.200000000000001,
          14.4,
          14.600000000000001,
          14.8,
          15,
          15.200000000000001,
          15.4,
          15.600000000000001,
          15.8,
          16,
          16.2,
          16.400000000000002,
          16.6,
          16.8,
          17,
          17.2,
          17.400000000000002,
          17.6,
          17.8,
          18,
          18.2,
          18.400000000000002,
          18.6,
          18.8,
          19,
          19.200000000000003,
          19.400000000000002,
          19.6,
          19.8,
          20,
          20.200000000000003,
          20.400000000000002,
          20.6,
          20.8,
          21,
          21.200000000000003,
          21.400000000000002,
          21.6,
          21.8,
          22,
          22.200000000000003,
          22.400000000000002,
          22.6,
          22.8,
          23,
          23.200000000000003,
          23.400000000000002,
          23.6,
          23.8,
          24,
          24.200000000000003,
          24.400000000000002,
          24.6,
          24.8,
          25,
          25.200000000000003,
          25.400000000000002,
          25.6,
          25.8,
          26,
          26.200000000000003,
          26.400000000000002,
          26.6,
          26.8,
          27,
          27.200000000000003,
          27.400000000000002,
          27.6,
          27.8,
          28,
          28.200000000000003,
          28.400000000000002,
          28.6,
          28.8,
          29,
          29.200000000000003,
          29.400000000000002,
          29.6,
          29.8,
          30
         ],
         "y": [
          11.56549528707032,
          31.27006401674781,
          51.24475681129413,
          71.51394930785578,
          91.81385335849318,
          111.85411792855034,
          132.14060477926856,
          152.29501919737422,
          172.58534368210246,
          192.9940985561862,
          213.42233495122403,
          233.83260361771448,
          254.44575079549878,
          275.0638007954307,
          295.70933435899184,
          316.6329298325704,
          337.5184555429657,
          358.65091958985414,
          379.84311351713626,
          401.2420750609068,
          422.724816507205,
          444.3789285098002,
          466.16683171609264,
          488.09876793575023,
          510.32748473781635,
          532.7311867468121,
          555.2232034796219,
          577.907295244243,
          600.819727107167,
          623.9329965095499,
          647.2767780014744,
          670.8475076593556,
          694.7135952442808,
          718.8229387843548,
          743.1486118468032,
          767.7166312434057,
          792.5605482291458,
          817.6675233995928,
          843.0169830624802,
          868.6483024516484,
          894.5414530424418,
          920.7914809140273,
          947.2506784463153,
          974.0657116024397,
          1001.15621551504,
          1028.5463672083788,
          1056.2552795707402,
          1084.2357357952471,
          1112.598783191392,
          1141.3183887101898,
          1170.3224193597766,
          1199.6863661420155,
          1229.3875168380844,
          1259.4139288961983,
          1289.804185111658,
          1320.5401949451452,
          1351.6270917330467,
          1383.0831325529991,
          1414.8869138401033,
          1447.0598298960022,
          1479.6174335160692,
          1512.5401539824593,
          1545.8690292468032,
          1579.5565758599068,
          1613.607362850687,
          1648.008520461463,
          1682.8027414110097,
          1718.0336066618815,
          1753.645927740486,
          1789.6315884856558,
          1826.0275164479524,
          1862.8039223581452,
          1900.0050929034455,
          1937.5908615095968,
          1975.5627471223102,
          2013.9369154661895,
          2052.7135869784947,
          2091.858429240673,
          2131.4289770350156,
          2171.3831406411864,
          2211.7463138997373,
          2252.5107498967814,
          2293.6792383830016,
          2335.2384047810287,
          2377.1808351891523,
          2419.5223726913537,
          2462.2836982247723,
          2505.431382904823,
          2548.994063002424,
          2592.936815907263,
          2637.2684991606666,
          2681.9888650773905,
          2727.1262630363817,
          2772.619619361382,
          2818.5000198071502,
          2864.7778320211983,
          2911.424350855234,
          2958.4262837456977,
          3005.797113440954,
          3053.569210107278,
          3101.7001183443595,
          3150.1856274125053,
          3199.0416221010137,
          3248.264041053949,
          3297.835135032112,
          3347.7421936320525,
          3398.0221207454865,
          3448.600401994065,
          3499.5208001752985,
          3550.791672689181,
          3602.408528695098,
          3654.3304216636775,
          3706.573267442425,
          3759.1392342631075,
          3811.9931908897056,
          3865.1354886813347,
          3918.5937215641993,
          3972.359243039824,
          4026.4155203572614,
          4080.72500151455,
          4135.335769294184,
          4190.191565311091,
          4245.3467461457085,
          4300.739500126953,
          4356.395115891002,
          4412.264298916162,
          4468.399258490021,
          4524.7644394005065,
          4581.345814839862,
          4638.151871941673,
          4695.185185297147,
          4752.399875113609,
          4809.825203324332,
          4867.455765248842,
          4925.282135813414,
          4983.24354622853,
          5041.415169715483,
          5099.749079041352,
          5158.212380075723,
          5216.853082799028,
          5275.627483463431,
          5334.52399093452,
          5393.550573184347,
          5452.6966709760745,
          5511.955758886836,
          5571.310133154988,
          5630.7704774557715,
          5690.305067683499,
          5749.911158656768,
          5809.603348522235,
          5869.353921312051
         ]
        }
       ],
       "layout": {
        "template": {
         "data": {
          "bar": [
           {
            "error_x": {
             "color": "#2a3f5f"
            },
            "error_y": {
             "color": "#2a3f5f"
            },
            "marker": {
             "line": {
              "color": "#E5ECF6",
              "width": 0.5
             }
            },
            "type": "bar"
           }
          ],
          "barpolar": [
           {
            "marker": {
             "line": {
              "color": "#E5ECF6",
              "width": 0.5
             }
            },
            "type": "barpolar"
           }
          ],
          "carpet": [
           {
            "aaxis": {
             "endlinecolor": "#2a3f5f",
             "gridcolor": "white",
             "linecolor": "white",
             "minorgridcolor": "white",
             "startlinecolor": "#2a3f5f"
            },
            "baxis": {
             "endlinecolor": "#2a3f5f",
             "gridcolor": "white",
             "linecolor": "white",
             "minorgridcolor": "white",
             "startlinecolor": "#2a3f5f"
            },
            "type": "carpet"
           }
          ],
          "choropleth": [
           {
            "colorbar": {
             "outlinewidth": 0,
             "ticks": ""
            },
            "type": "choropleth"
           }
          ],
          "contour": [
           {
            "colorbar": {
             "outlinewidth": 0,
             "ticks": ""
            },
            "colorscale": [
             [
              0,
              "#0d0887"
             ],
             [
              0.1111111111111111,
              "#46039f"
             ],
             [
              0.2222222222222222,
              "#7201a8"
             ],
             [
              0.3333333333333333,
              "#9c179e"
             ],
             [
              0.4444444444444444,
              "#bd3786"
             ],
             [
              0.5555555555555556,
              "#d8576b"
             ],
             [
              0.6666666666666666,
              "#ed7953"
             ],
             [
              0.7777777777777778,
              "#fb9f3a"
             ],
             [
              0.8888888888888888,
              "#fdca26"
             ],
             [
              1,
              "#f0f921"
             ]
            ],
            "type": "contour"
           }
          ],
          "contourcarpet": [
           {
            "colorbar": {
             "outlinewidth": 0,
             "ticks": ""
            },
            "type": "contourcarpet"
           }
          ],
          "heatmap": [
           {
            "colorbar": {
             "outlinewidth": 0,
             "ticks": ""
            },
            "colorscale": [
             [
              0,
              "#0d0887"
             ],
             [
              0.1111111111111111,
              "#46039f"
             ],
             [
              0.2222222222222222,
              "#7201a8"
             ],
             [
              0.3333333333333333,
              "#9c179e"
             ],
             [
              0.4444444444444444,
              "#bd3786"
             ],
             [
              0.5555555555555556,
              "#d8576b"
             ],
             [
              0.6666666666666666,
              "#ed7953"
             ],
             [
              0.7777777777777778,
              "#fb9f3a"
             ],
             [
              0.8888888888888888,
              "#fdca26"
             ],
             [
              1,
              "#f0f921"
             ]
            ],
            "type": "heatmap"
           }
          ],
          "heatmapgl": [
           {
            "colorbar": {
             "outlinewidth": 0,
             "ticks": ""
            },
            "colorscale": [
             [
              0,
              "#0d0887"
             ],
             [
              0.1111111111111111,
              "#46039f"
             ],
             [
              0.2222222222222222,
              "#7201a8"
             ],
             [
              0.3333333333333333,
              "#9c179e"
             ],
             [
              0.4444444444444444,
              "#bd3786"
             ],
             [
              0.5555555555555556,
              "#d8576b"
             ],
             [
              0.6666666666666666,
              "#ed7953"
             ],
             [
              0.7777777777777778,
              "#fb9f3a"
             ],
             [
              0.8888888888888888,
              "#fdca26"
             ],
             [
              1,
              "#f0f921"
             ]
            ],
            "type": "heatmapgl"
           }
          ],
          "histogram": [
           {
            "marker": {
             "colorbar": {
              "outlinewidth": 0,
              "ticks": ""
             }
            },
            "type": "histogram"
           }
          ],
          "histogram2d": [
           {
            "colorbar": {
             "outlinewidth": 0,
             "ticks": ""
            },
            "colorscale": [
             [
              0,
              "#0d0887"
             ],
             [
              0.1111111111111111,
              "#46039f"
             ],
             [
              0.2222222222222222,
              "#7201a8"
             ],
             [
              0.3333333333333333,
              "#9c179e"
             ],
             [
              0.4444444444444444,
              "#bd3786"
             ],
             [
              0.5555555555555556,
              "#d8576b"
             ],
             [
              0.6666666666666666,
              "#ed7953"
             ],
             [
              0.7777777777777778,
              "#fb9f3a"
             ],
             [
              0.8888888888888888,
              "#fdca26"
             ],
             [
              1,
              "#f0f921"
             ]
            ],
            "type": "histogram2d"
           }
          ],
          "histogram2dcontour": [
           {
            "colorbar": {
             "outlinewidth": 0,
             "ticks": ""
            },
            "colorscale": [
             [
              0,
              "#0d0887"
             ],
             [
              0.1111111111111111,
              "#46039f"
             ],
             [
              0.2222222222222222,
              "#7201a8"
             ],
             [
              0.3333333333333333,
              "#9c179e"
             ],
             [
              0.4444444444444444,
              "#bd3786"
             ],
             [
              0.5555555555555556,
              "#d8576b"
             ],
             [
              0.6666666666666666,
              "#ed7953"
             ],
             [
              0.7777777777777778,
              "#fb9f3a"
             ],
             [
              0.8888888888888888,
              "#fdca26"
             ],
             [
              1,
              "#f0f921"
             ]
            ],
            "type": "histogram2dcontour"
           }
          ],
          "mesh3d": [
           {
            "colorbar": {
             "outlinewidth": 0,
             "ticks": ""
            },
            "type": "mesh3d"
           }
          ],
          "parcoords": [
           {
            "line": {
             "colorbar": {
              "outlinewidth": 0,
              "ticks": ""
             }
            },
            "type": "parcoords"
           }
          ],
          "pie": [
           {
            "automargin": true,
            "type": "pie"
           }
          ],
          "scatter": [
           {
            "marker": {
             "colorbar": {
              "outlinewidth": 0,
              "ticks": ""
             }
            },
            "type": "scatter"
           }
          ],
          "scatter3d": [
           {
            "line": {
             "colorbar": {
              "outlinewidth": 0,
              "ticks": ""
             }
            },
            "marker": {
             "colorbar": {
              "outlinewidth": 0,
              "ticks": ""
             }
            },
            "type": "scatter3d"
           }
          ],
          "scattercarpet": [
           {
            "marker": {
             "colorbar": {
              "outlinewidth": 0,
              "ticks": ""
             }
            },
            "type": "scattercarpet"
           }
          ],
          "scattergeo": [
           {
            "marker": {
             "colorbar": {
              "outlinewidth": 0,
              "ticks": ""
             }
            },
            "type": "scattergeo"
           }
          ],
          "scattergl": [
           {
            "marker": {
             "colorbar": {
              "outlinewidth": 0,
              "ticks": ""
             }
            },
            "type": "scattergl"
           }
          ],
          "scattermapbox": [
           {
            "marker": {
             "colorbar": {
              "outlinewidth": 0,
              "ticks": ""
             }
            },
            "type": "scattermapbox"
           }
          ],
          "scatterpolar": [
           {
            "marker": {
             "colorbar": {
              "outlinewidth": 0,
              "ticks": ""
             }
            },
            "type": "scatterpolar"
           }
          ],
          "scatterpolargl": [
           {
            "marker": {
             "colorbar": {
              "outlinewidth": 0,
              "ticks": ""
             }
            },
            "type": "scatterpolargl"
           }
          ],
          "scatterternary": [
           {
            "marker": {
             "colorbar": {
              "outlinewidth": 0,
              "ticks": ""
             }
            },
            "type": "scatterternary"
           }
          ],
          "surface": [
           {
            "colorbar": {
             "outlinewidth": 0,
             "ticks": ""
            },
            "colorscale": [
             [
              0,
              "#0d0887"
             ],
             [
              0.1111111111111111,
              "#46039f"
             ],
             [
              0.2222222222222222,
              "#7201a8"
             ],
             [
              0.3333333333333333,
              "#9c179e"
             ],
             [
              0.4444444444444444,
              "#bd3786"
             ],
             [
              0.5555555555555556,
              "#d8576b"
             ],
             [
              0.6666666666666666,
              "#ed7953"
             ],
             [
              0.7777777777777778,
              "#fb9f3a"
             ],
             [
              0.8888888888888888,
              "#fdca26"
             ],
             [
              1,
              "#f0f921"
             ]
            ],
            "type": "surface"
           }
          ],
          "table": [
           {
            "cells": {
             "fill": {
              "color": "#EBF0F8"
             },
             "line": {
              "color": "white"
             }
            },
            "header": {
             "fill": {
              "color": "#C8D4E3"
             },
             "line": {
              "color": "white"
             }
            },
            "type": "table"
           }
          ]
         },
         "layout": {
          "annotationdefaults": {
           "arrowcolor": "#2a3f5f",
           "arrowhead": 0,
           "arrowwidth": 1
          },
          "coloraxis": {
           "colorbar": {
            "outlinewidth": 0,
            "ticks": ""
           }
          },
          "colorscale": {
           "diverging": [
            [
             0,
             "#8e0152"
            ],
            [
             0.1,
             "#c51b7d"
            ],
            [
             0.2,
             "#de77ae"
            ],
            [
             0.3,
             "#f1b6da"
            ],
            [
             0.4,
             "#fde0ef"
            ],
            [
             0.5,
             "#f7f7f7"
            ],
            [
             0.6,
             "#e6f5d0"
            ],
            [
             0.7,
             "#b8e186"
            ],
            [
             0.8,
             "#7fbc41"
            ],
            [
             0.9,
             "#4d9221"
            ],
            [
             1,
             "#276419"
            ]
           ],
           "sequential": [
            [
             0,
             "#0d0887"
            ],
            [
             0.1111111111111111,
             "#46039f"
            ],
            [
             0.2222222222222222,
             "#7201a8"
            ],
            [
             0.3333333333333333,
             "#9c179e"
            ],
            [
             0.4444444444444444,
             "#bd3786"
            ],
            [
             0.5555555555555556,
             "#d8576b"
            ],
            [
             0.6666666666666666,
             "#ed7953"
            ],
            [
             0.7777777777777778,
             "#fb9f3a"
            ],
            [
             0.8888888888888888,
             "#fdca26"
            ],
            [
             1,
             "#f0f921"
            ]
           ],
           "sequentialminus": [
            [
             0,
             "#0d0887"
            ],
            [
             0.1111111111111111,
             "#46039f"
            ],
            [
             0.2222222222222222,
             "#7201a8"
            ],
            [
             0.3333333333333333,
             "#9c179e"
            ],
            [
             0.4444444444444444,
             "#bd3786"
            ],
            [
             0.5555555555555556,
             "#d8576b"
            ],
            [
             0.6666666666666666,
             "#ed7953"
            ],
            [
             0.7777777777777778,
             "#fb9f3a"
            ],
            [
             0.8888888888888888,
             "#fdca26"
            ],
            [
             1,
             "#f0f921"
            ]
           ]
          },
          "colorway": [
           "#636efa",
           "#EF553B",
           "#00cc96",
           "#ab63fa",
           "#FFA15A",
           "#19d3f3",
           "#FF6692",
           "#B6E880",
           "#FF97FF",
           "#FECB52"
          ],
          "font": {
           "color": "#2a3f5f"
          },
          "geo": {
           "bgcolor": "white",
           "lakecolor": "white",
           "landcolor": "#E5ECF6",
           "showlakes": true,
           "showland": true,
           "subunitcolor": "white"
          },
          "hoverlabel": {
           "align": "left"
          },
          "hovermode": "closest",
          "mapbox": {
           "style": "light"
          },
          "paper_bgcolor": "white",
          "plot_bgcolor": "#E5ECF6",
          "polar": {
           "angularaxis": {
            "gridcolor": "white",
            "linecolor": "white",
            "ticks": ""
           },
           "bgcolor": "#E5ECF6",
           "radialaxis": {
            "gridcolor": "white",
            "linecolor": "white",
            "ticks": ""
           }
          },
          "scene": {
           "xaxis": {
            "backgroundcolor": "#E5ECF6",
            "gridcolor": "white",
            "gridwidth": 2,
            "linecolor": "white",
            "showbackground": true,
            "ticks": "",
            "zerolinecolor": "white"
           },
           "yaxis": {
            "backgroundcolor": "#E5ECF6",
            "gridcolor": "white",
            "gridwidth": 2,
            "linecolor": "white",
            "showbackground": true,
            "ticks": "",
            "zerolinecolor": "white"
           },
           "zaxis": {
            "backgroundcolor": "#E5ECF6",
            "gridcolor": "white",
            "gridwidth": 2,
            "linecolor": "white",
            "showbackground": true,
            "ticks": "",
            "zerolinecolor": "white"
           }
          },
          "shapedefaults": {
           "line": {
            "color": "#2a3f5f"
           }
          },
          "ternary": {
           "aaxis": {
            "gridcolor": "white",
            "linecolor": "white",
            "ticks": ""
           },
           "baxis": {
            "gridcolor": "white",
            "linecolor": "white",
            "ticks": ""
           },
           "bgcolor": "#E5ECF6",
           "caxis": {
            "gridcolor": "white",
            "linecolor": "white",
            "ticks": ""
           }
          },
          "title": {
           "x": 0.05
          },
          "xaxis": {
           "automargin": true,
           "gridcolor": "white",
           "linecolor": "white",
           "ticks": "",
           "title": {
            "standoff": 15
           },
           "zerolinecolor": "white",
           "zerolinewidth": 2
          },
          "yaxis": {
           "automargin": true,
           "gridcolor": "white",
           "linecolor": "white",
           "ticks": "",
           "title": {
            "standoff": 15
           },
           "zerolinecolor": "white",
           "zerolinewidth": 2
          }
         }
        },
        "title": {
         "text": "True Position vs. Estimated Position",
         "x": 0.48,
         "xanchor": "center",
         "y": 0.9,
         "yanchor": "top"
        },
        "xaxis": {
         "title": {
          "text": "Time (sec)"
         }
        },
        "yaxis": {
         "title": {
          "text": "Position (m)"
         }
        }
       }
      },
      "text/html": [
       "<div>\n",
       "        \n",
       "        \n",
       "            <div id=\"f82524f5-600d-4019-b95a-c0a880b26163\" class=\"plotly-graph-div\" style=\"height:525px; width:100%;\"></div>\n",
       "            <script type=\"text/javascript\">\n",
       "                require([\"plotly\"], function(Plotly) {\n",
       "                    window.PLOTLYENV=window.PLOTLYENV || {};\n",
       "                    \n",
       "                if (document.getElementById(\"f82524f5-600d-4019-b95a-c0a880b26163\")) {\n",
       "                    Plotly.newPlot(\n",
       "                        'f82524f5-600d-4019-b95a-c0a880b26163',\n",
       "                        [{\"line\": {\"width\": 4}, \"name\": \"True Position\", \"type\": \"scatter\", \"x\": [0.0, 0.2, 0.4, 0.6000000000000001, 0.8, 1.0, 1.2000000000000002, 1.4000000000000001, 1.6, 1.8, 2.0, 2.2, 2.4000000000000004, 2.6, 2.8000000000000003, 3.0, 3.2, 3.4000000000000004, 3.6, 3.8000000000000003, 4.0, 4.2, 4.4, 4.6000000000000005, 4.800000000000001, 5.0, 5.2, 5.4, 5.6000000000000005, 5.800000000000001, 6.0, 6.2, 6.4, 6.6000000000000005, 6.800000000000001, 7.0, 7.2, 7.4, 7.6000000000000005, 7.800000000000001, 8.0, 8.200000000000001, 8.4, 8.6, 8.8, 9.0, 9.200000000000001, 9.4, 9.600000000000001, 9.8, 10.0, 10.200000000000001, 10.4, 10.600000000000001, 10.8, 11.0, 11.200000000000001, 11.4, 11.600000000000001, 11.8, 12.0, 12.200000000000001, 12.4, 12.600000000000001, 12.8, 13.0, 13.200000000000001, 13.4, 13.600000000000001, 13.8, 14.0, 14.200000000000001, 14.4, 14.600000000000001, 14.8, 15.0, 15.200000000000001, 15.4, 15.600000000000001, 15.8, 16.0, 16.2, 16.400000000000002, 16.6, 16.8, 17.0, 17.2, 17.400000000000002, 17.6, 17.8, 18.0, 18.2, 18.400000000000002, 18.6, 18.8, 19.0, 19.200000000000003, 19.400000000000002, 19.6, 19.8, 20.0, 20.200000000000003, 20.400000000000002, 20.6, 20.8, 21.0, 21.200000000000003, 21.400000000000002, 21.6, 21.8, 22.0, 22.200000000000003, 22.400000000000002, 22.6, 22.8, 23.0, 23.200000000000003, 23.400000000000002, 23.6, 23.8, 24.0, 24.200000000000003, 24.400000000000002, 24.6, 24.8, 25.0, 25.200000000000003, 25.400000000000002, 25.6, 25.8, 26.0, 26.200000000000003, 26.400000000000002, 26.6, 26.8, 27.0, 27.200000000000003, 27.400000000000002, 27.6, 27.8, 28.0, 28.200000000000003, 28.400000000000002, 28.6, 28.8, 29.0, 29.200000000000003, 29.400000000000002, 29.6, 29.8, 30.0], \"y\": [12.659772313799348, 32.65007807593395, 52.64828306110132, 72.66238332941487, 92.70036858308677, 112.77021897065349, 132.87990189502284, 153.037368826619, 173.25055212290025, 193.52736185552197, 213.87568264641328, 234.30337051403362, 254.81824973106978, 275.42810969483133, 296.14070181159565, 316.96373639614905, 337.9048795877624, 358.97175028383873, 380.1719170924563, 401.51289530502476, 423.0021438902702, 444.6470625107464, 466.4549885630684, 488.4331942430519, 510.58888363693313, 532.929189839827, 555.4611721025883, 578.1918130082022, 601.128015678846, 624.2766010147318, 647.6443049658377, 671.237775837617, 695.0635716317641, 719.128157423103, 743.4379027736421, 767.9990791848356, 792.8178575890659, 817.900305881351, 843.2523864922713, 868.8799540030742, 894.7887528039191, 920.984414796201, 947.4724571398622, 974.2582800466023, 1001.3471646198674, 1028.7442707424752, 1056.4546350127362, 1084.4831687298774, 1112.8346559295878, 1141.5137514704727, 1170.5249791721656, 1199.8727300058658, 1229.561260338006, 1259.5946902277626, 1289.9770017790897, 1320.7120375479283, 1351.8034990052324, 1383.254945056435, 1415.0697906179312, 1447.2513052511574, 1479.8026118548087, 1512.7266854157242, 1546.0263518189308, 1579.7042867173247, 1613.7630144614473, 1648.2049070897792, 1683.032183379958, 1718.2469079612933, 1753.850990488944, 1789.8461848800819, 1826.2340886123477, 1863.0161420848845, 1900.1936280421912, 1937.7676710610472, 1975.7392371006927, 2014.1091331164612, 2052.878006737007, 2092.0463460052615, 2131.614479183223, 2171.5825746206574, 2211.9506406877604, 2252.718525771804, 2293.885918337789, 2335.452347053049, 2377.4171809757777, 2419.779629807398, 2462.5387442086694, 2505.6934161794143, 2549.242379501702, 2593.184210246315, 2637.5173273423115, 2682.239993209417, 2727.350314453049, 2772.8462426216392, 2818.725575025995, 2864.985955620342, 2911.6248759447026, 2958.639676128264, 3006.0275459532736, 3053.7855259791013, 3101.910508725969, 3150.3992399179037, 3199.2483197844053, 3248.4542044203076, 3298.013207203294, 3347.921500268498, 3398.175116039599, 3448.7699488157946, 3499.7017564140315, 3550.9661618658197, 3602.558655167961, 3654.4745950864976, 3706.709211013133, 3759.257604873417, 3812.1147530859052, 3865.275508571541, 3918.734602812396, 3972.4866479590205, 4026.526138985508, 4080.847455891436, 4135.4448659497775, 4190.312525999941, 4245.44448478493, 4300.834685331784, 4356.476967374278, 4412.365069816951, 4468.492633239463, 4524.853202440264, 4581.440229018606, 4638.247073993815, 4695.26701046078, 4752.493226280639, 4809.918826805541, 4867.536837636408, 4925.3402074126025, 4983.321810632382, 5041.474450503011, 5099.790861819365, 5158.263713869929, 5216.885613368978, 5275.649107413798, 5334.546686465738, 5393.570787353935, 5452.713796300488, 5511.968051965842, 5571.325848513249, 5630.7794386909845, 5690.321036931147, 5749.942822463789, 5809.636942445108, 5869.395515098495]}, {\"name\": \"Estimated Position\", \"type\": \"scatter\", \"x\": [0.0, 0.2, 0.4, 0.6000000000000001, 0.8, 1.0, 1.2000000000000002, 1.4000000000000001, 1.6, 1.8, 2.0, 2.2, 2.4000000000000004, 2.6, 2.8000000000000003, 3.0, 3.2, 3.4000000000000004, 3.6, 3.8000000000000003, 4.0, 4.2, 4.4, 4.6000000000000005, 4.800000000000001, 5.0, 5.2, 5.4, 5.6000000000000005, 5.800000000000001, 6.0, 6.2, 6.4, 6.6000000000000005, 6.800000000000001, 7.0, 7.2, 7.4, 7.6000000000000005, 7.800000000000001, 8.0, 8.200000000000001, 8.4, 8.6, 8.8, 9.0, 9.200000000000001, 9.4, 9.600000000000001, 9.8, 10.0, 10.200000000000001, 10.4, 10.600000000000001, 10.8, 11.0, 11.200000000000001, 11.4, 11.600000000000001, 11.8, 12.0, 12.200000000000001, 12.4, 12.600000000000001, 12.8, 13.0, 13.200000000000001, 13.4, 13.600000000000001, 13.8, 14.0, 14.200000000000001, 14.4, 14.600000000000001, 14.8, 15.0, 15.200000000000001, 15.4, 15.600000000000001, 15.8, 16.0, 16.2, 16.400000000000002, 16.6, 16.8, 17.0, 17.2, 17.400000000000002, 17.6, 17.8, 18.0, 18.2, 18.400000000000002, 18.6, 18.8, 19.0, 19.200000000000003, 19.400000000000002, 19.6, 19.8, 20.0, 20.200000000000003, 20.400000000000002, 20.6, 20.8, 21.0, 21.200000000000003, 21.400000000000002, 21.6, 21.8, 22.0, 22.200000000000003, 22.400000000000002, 22.6, 22.8, 23.0, 23.200000000000003, 23.400000000000002, 23.6, 23.8, 24.0, 24.200000000000003, 24.400000000000002, 24.6, 24.8, 25.0, 25.200000000000003, 25.400000000000002, 25.6, 25.8, 26.0, 26.200000000000003, 26.400000000000002, 26.6, 26.8, 27.0, 27.200000000000003, 27.400000000000002, 27.6, 27.8, 28.0, 28.200000000000003, 28.400000000000002, 28.6, 28.8, 29.0, 29.200000000000003, 29.400000000000002, 29.6, 29.8, 30.0], \"y\": [12.56053247728031, 31.975415355460058, 51.82116611515615, 72.01336349474158, 92.26068307777663, 112.26211858682352, 132.51842537620865, 152.64851497251203, 172.9186957864634, 193.31041582314703, 213.7240033555458, 234.1215017360154, 254.72338915144547, 275.3314155689642, 295.96795249112347, 316.88341552148665, 337.76154424511316, 358.8872433993866, 380.07322045359984, 401.4664439620504, 422.9438686920515, 444.5930370288099, 466.3763287718121, 488.3039508976455, 510.5286210636974, 532.9285180443876, 555.4169488849709, 578.0976542525788, 601.0068819606616, 624.1171142240969, 647.4580120969606, 671.0259996447941, 694.8894758989659, 718.996329268274, 743.3196246673225, 767.8853711003374, 792.7271127563932, 817.8320038184386, 843.1794647590533, 868.8088654890603, 894.7001726164045, 920.9484277593986, 947.405919200881, 974.219309133308, 1001.3082292122414, 1028.696853249612, 1056.4042911606593, 1084.3833233822188, 1112.744994664265, 1141.4632695772873, 1170.4660129120332, 1199.828713601947, 1229.528657496065, 1259.5539002353455, 1289.9430229224654, 1320.6779334308783, 1351.763763606794, 1383.2187691271745, 1415.0215451091042, 1447.1934846126555, 1479.7501392624256, 1512.6719372354391, 1545.9999154391467, 1579.6865894368307, 1613.736527322615, 1648.1368584531572, 1682.9302747073984, 1718.1603562508528, 1753.7719138528896, 1789.7568306327332, 1826.1520334563938, 1862.9277324029576, 1900.128213538795, 1937.7133096977773, 1975.6845392609757, 2014.0580674139774, 2052.834114079153, 2091.9783463457998, 2131.5482985255053, 2171.5018804474735, 2211.8644855209186, 2252.6283664186935, 2293.7963124953217, 2335.3549487934615, 2377.296861046766, 2419.6378919891176, 2462.398722221345, 2505.5459225356412, 2549.1081288921323, 2593.050418381528, 2637.3816482574093, 2682.101570557475, 2727.2385343937913, 2772.7314658329096, 2818.6114503816384, 2864.8888554483456, 2911.5349756540004, 2958.536518212328, 3005.906965656638, 3053.6786879454744, 3101.8092294777935, 3150.2943793198638, 3199.150022073352, 3248.372096200823, 3297.9428522874523, 3347.8495797597952, 3398.129182344966, 3448.707145505191, 3499.62723188352, 3550.897798730252, 3602.514355059654, 3654.4359542016305, 3706.6785118671883, 3759.244196155658, 3812.097875702487, 3865.2399017420166, 3918.6978680792936, 3972.4631280981657, 4026.519148933363, 4080.8283784718324, 4135.438899388088, 4190.294453192083, 4245.4493963621735, 4300.841917127987, 4356.497304029108, 4412.366262449854, 4468.501001586333, 4524.865966137424, 4581.447129208665, 4638.252977849199, 4695.2860865679895, 4752.500575492231, 4809.92570647712, 4867.556074766086, 4925.382255211229, 4983.343478950715, 5041.514919135319, 5099.84864846335, 5158.311772737308, 5216.95230187218, 5275.726532056269, 5334.622872092842, 5393.649289893122, 5452.795226160892, 5512.054155415306, 5571.408373838111, 5630.868565049256, 5690.403004889048, 5750.008948123327, 5809.700992847206, 5869.451423042467]}, {\"line\": {\"color\": \"green\", \"dash\": \"dash\", \"width\": 1}, \"name\": \"$+ \\\\sigma$\", \"type\": \"scatter\", \"x\": [0.0, 0.2, 0.4, 0.6000000000000001, 0.8, 1.0, 1.2000000000000002, 1.4000000000000001, 1.6, 1.8, 2.0, 2.2, 2.4000000000000004, 2.6, 2.8000000000000003, 3.0, 3.2, 3.4000000000000004, 3.6, 3.8000000000000003, 4.0, 4.2, 4.4, 4.6000000000000005, 4.800000000000001, 5.0, 5.2, 5.4, 5.6000000000000005, 5.800000000000001, 6.0, 6.2, 6.4, 6.6000000000000005, 6.800000000000001, 7.0, 7.2, 7.4, 7.6000000000000005, 7.800000000000001, 8.0, 8.200000000000001, 8.4, 8.6, 8.8, 9.0, 9.200000000000001, 9.4, 9.600000000000001, 9.8, 10.0, 10.200000000000001, 10.4, 10.600000000000001, 10.8, 11.0, 11.200000000000001, 11.4, 11.600000000000001, 11.8, 12.0, 12.200000000000001, 12.4, 12.600000000000001, 12.8, 13.0, 13.200000000000001, 13.4, 13.600000000000001, 13.8, 14.0, 14.200000000000001, 14.4, 14.600000000000001, 14.8, 15.0, 15.200000000000001, 15.4, 15.600000000000001, 15.8, 16.0, 16.2, 16.400000000000002, 16.6, 16.8, 17.0, 17.2, 17.400000000000002, 17.6, 17.8, 18.0, 18.2, 18.400000000000002, 18.6, 18.8, 19.0, 19.200000000000003, 19.400000000000002, 19.6, 19.8, 20.0, 20.200000000000003, 20.400000000000002, 20.6, 20.8, 21.0, 21.200000000000003, 21.400000000000002, 21.6, 21.8, 22.0, 22.200000000000003, 22.400000000000002, 22.6, 22.8, 23.0, 23.200000000000003, 23.400000000000002, 23.6, 23.8, 24.0, 24.200000000000003, 24.400000000000002, 24.6, 24.8, 25.0, 25.200000000000003, 25.400000000000002, 25.6, 25.8, 26.0, 26.200000000000003, 26.400000000000002, 26.6, 26.8, 27.0, 27.200000000000003, 27.400000000000002, 27.6, 27.8, 28.0, 28.200000000000003, 28.400000000000002, 28.6, 28.8, 29.0, 29.200000000000003, 29.400000000000002, 29.6, 29.8, 30.0], \"y\": [13.5555696674903, 32.680766694172306, 52.397575419018175, 72.51277768162738, 92.70751279706009, 112.6701192450967, 132.89624597314875, 153.00201074764985, 173.25204789082431, 193.62673309010785, 214.02567175986755, 234.41039985431632, 255.00102750739217, 275.59903034249766, 296.2265706232551, 317.1339012104029, 338.00463294726063, 359.12356720891904, 380.30332739006343, 401.69081286319397, 423.16292087689806, 444.8071455478196, 466.58582582753155, 488.5091338595408, 510.7297573895785, 533.1258493419631, 555.6106942903199, 578.2880132609146, 601.1940368141563, 624.3012319386439, 647.6392461924468, 671.2044916302325, 695.065356553651, 719.1697197521933, 743.4906374878418, 768.054110957269, 792.8936772836407, 817.9964842372843, 843.3419464556264, 868.9694285264721, 894.8588921903672, 921.1053746047698, 947.5611599554468, 974.3729066641763, 1001.4602429094427, 1028.8473392908454, 1056.5533027505785, 1084.5309109691905, 1112.8912061371382, 1141.6081504443848, 1170.6096064642898, 1199.9710610618783, 1229.6697981540458, 1259.6938715744927, 1290.0818607332728, 1320.8156719166113, 1351.9004354805415, 1383.3544057013498, 1415.156176378105, 1447.327139329309, 1479.882845008782, 1512.803720488419, 1546.1308016314902, 1579.8166030137545, 1613.8656917945432, 1648.2651964448514, 1683.0578080037872, 1718.287105839824, 1753.8978999652932, 1789.8820727798106, 1826.2765504648353, 1863.05154244777, 1900.2513341741446, 1937.8357578859577, 1975.8063313996413, 2014.1792193617653, 2052.9546411798115, 2092.0982634509264, 2131.667620015995, 2171.6206202537605, 2211.9826571421, 2252.7459829406057, 2293.9133866076418, 2335.4714928058943, 2377.41288690438, 2419.7534112868816, 2462.5137462179177, 2505.6604621664596, 2549.2221947818407, 2593.164020855793, 2637.494797354152, 2682.2142760375596, 2727.350805751201, 2772.8433123044374, 2818.7228809561266, 2864.999878875493, 2911.6456004527668, 2958.646752678958, 3006.016817872322, 3053.7881657836706, 3101.9183406112274, 3150.4031312272223, 3199.25842204569, 3248.480151347697, 3298.050569542793, 3347.956965887538, 3398.2362439444455, 3448.813889016317, 3499.7336635917413, 3551.003924771323, 3602.62018142421, 3654.5414867395834, 3706.7837562919517, 3759.349158048208, 3812.202560515268, 3865.3443148026986, 3918.802014594388, 3972.5670131565075, 4026.6227775094644, 4080.9317554291147, 4135.542029481993, 4190.397341073075, 4245.5520465786385, 4300.94433412902, 4356.599492167214, 4412.468225983545, 4468.602744682645, 4524.967492874342, 4581.548443577467, 4638.354083756725, 4695.386987838832, 4752.601275870854, 4810.026209629908, 4867.656384283329, 4925.482374609043, 4983.443411672899, 5041.614668555156, 5099.948217885349, 5158.411165398894, 5217.051520945332, 5275.825580649107, 5334.721753251164, 5393.748006601897, 5452.893781345709, 5512.152551943776, 5571.506614521235, 5630.966652642741, 5690.500942094597, 5750.1067375898865, 5809.798637172177, 5869.548924772882]}, {\"line\": {\"color\": \"firebrick\", \"dash\": \"dash\", \"width\": 1}, \"name\": \"$-\\\\sigma$\", \"type\": \"scatter\", \"x\": [0.0, 0.2, 0.4, 0.6000000000000001, 0.8, 1.0, 1.2000000000000002, 1.4000000000000001, 1.6, 1.8, 2.0, 2.2, 2.4000000000000004, 2.6, 2.8000000000000003, 3.0, 3.2, 3.4000000000000004, 3.6, 3.8000000000000003, 4.0, 4.2, 4.4, 4.6000000000000005, 4.800000000000001, 5.0, 5.2, 5.4, 5.6000000000000005, 5.800000000000001, 6.0, 6.2, 6.4, 6.6000000000000005, 6.800000000000001, 7.0, 7.2, 7.4, 7.6000000000000005, 7.800000000000001, 8.0, 8.200000000000001, 8.4, 8.6, 8.8, 9.0, 9.200000000000001, 9.4, 9.600000000000001, 9.8, 10.0, 10.200000000000001, 10.4, 10.600000000000001, 10.8, 11.0, 11.200000000000001, 11.4, 11.600000000000001, 11.8, 12.0, 12.200000000000001, 12.4, 12.600000000000001, 12.8, 13.0, 13.200000000000001, 13.4, 13.600000000000001, 13.8, 14.0, 14.200000000000001, 14.4, 14.600000000000001, 14.8, 15.0, 15.200000000000001, 15.4, 15.600000000000001, 15.8, 16.0, 16.2, 16.400000000000002, 16.6, 16.8, 17.0, 17.2, 17.400000000000002, 17.6, 17.8, 18.0, 18.2, 18.400000000000002, 18.6, 18.8, 19.0, 19.200000000000003, 19.400000000000002, 19.6, 19.8, 20.0, 20.200000000000003, 20.400000000000002, 20.6, 20.8, 21.0, 21.200000000000003, 21.400000000000002, 21.6, 21.8, 22.0, 22.200000000000003, 22.400000000000002, 22.6, 22.8, 23.0, 23.200000000000003, 23.400000000000002, 23.6, 23.8, 24.0, 24.200000000000003, 24.400000000000002, 24.6, 24.8, 25.0, 25.200000000000003, 25.400000000000002, 25.6, 25.8, 26.0, 26.200000000000003, 26.400000000000002, 26.6, 26.8, 27.0, 27.200000000000003, 27.400000000000002, 27.6, 27.8, 28.0, 28.200000000000003, 28.400000000000002, 28.6, 28.8, 29.0, 29.200000000000003, 29.400000000000002, 29.6, 29.8, 30.0], \"y\": [11.56549528707032, 31.27006401674781, 51.24475681129413, 71.51394930785578, 91.81385335849318, 111.85411792855034, 132.14060477926856, 152.29501919737422, 172.58534368210246, 192.9940985561862, 213.42233495122403, 233.83260361771448, 254.44575079549878, 275.0638007954307, 295.70933435899184, 316.6329298325704, 337.5184555429657, 358.65091958985414, 379.84311351713626, 401.2420750609068, 422.724816507205, 444.3789285098002, 466.16683171609264, 488.09876793575023, 510.32748473781635, 532.7311867468121, 555.2232034796219, 577.907295244243, 600.819727107167, 623.9329965095499, 647.2767780014744, 670.8475076593556, 694.7135952442808, 718.8229387843548, 743.1486118468032, 767.7166312434057, 792.5605482291458, 817.6675233995928, 843.0169830624802, 868.6483024516484, 894.5414530424418, 920.7914809140273, 947.2506784463153, 974.0657116024397, 1001.15621551504, 1028.5463672083788, 1056.2552795707402, 1084.2357357952471, 1112.598783191392, 1141.3183887101898, 1170.3224193597766, 1199.6863661420155, 1229.3875168380844, 1259.4139288961983, 1289.804185111658, 1320.5401949451452, 1351.6270917330467, 1383.0831325529991, 1414.8869138401033, 1447.0598298960022, 1479.6174335160692, 1512.5401539824593, 1545.8690292468032, 1579.5565758599068, 1613.607362850687, 1648.008520461463, 1682.8027414110097, 1718.0336066618815, 1753.645927740486, 1789.6315884856558, 1826.0275164479524, 1862.8039223581452, 1900.0050929034455, 1937.5908615095968, 1975.5627471223102, 2013.9369154661895, 2052.7135869784947, 2091.858429240673, 2131.4289770350156, 2171.3831406411864, 2211.7463138997373, 2252.5107498967814, 2293.6792383830016, 2335.2384047810287, 2377.1808351891523, 2419.5223726913537, 2462.2836982247723, 2505.431382904823, 2548.994063002424, 2592.936815907263, 2637.2684991606666, 2681.9888650773905, 2727.1262630363817, 2772.619619361382, 2818.5000198071502, 2864.7778320211983, 2911.424350855234, 2958.4262837456977, 3005.797113440954, 3053.569210107278, 3101.7001183443595, 3150.1856274125053, 3199.0416221010137, 3248.264041053949, 3297.835135032112, 3347.7421936320525, 3398.0221207454865, 3448.600401994065, 3499.5208001752985, 3550.791672689181, 3602.408528695098, 3654.3304216636775, 3706.573267442425, 3759.1392342631075, 3811.9931908897056, 3865.1354886813347, 3918.5937215641993, 3972.359243039824, 4026.4155203572614, 4080.72500151455, 4135.335769294184, 4190.191565311091, 4245.3467461457085, 4300.739500126953, 4356.395115891002, 4412.264298916162, 4468.399258490021, 4524.7644394005065, 4581.345814839862, 4638.151871941673, 4695.185185297147, 4752.399875113609, 4809.825203324332, 4867.455765248842, 4925.282135813414, 4983.24354622853, 5041.415169715483, 5099.749079041352, 5158.212380075723, 5216.853082799028, 5275.627483463431, 5334.52399093452, 5393.550573184347, 5452.6966709760745, 5511.955758886836, 5571.310133154988, 5630.7704774557715, 5690.305067683499, 5749.911158656768, 5809.603348522235, 5869.353921312051]}],\n",
       "                        {\"template\": {\"data\": {\"bar\": [{\"error_x\": {\"color\": \"#2a3f5f\"}, \"error_y\": {\"color\": \"#2a3f5f\"}, \"marker\": {\"line\": {\"color\": \"#E5ECF6\", \"width\": 0.5}}, \"type\": \"bar\"}], \"barpolar\": [{\"marker\": {\"line\": {\"color\": \"#E5ECF6\", \"width\": 0.5}}, \"type\": \"barpolar\"}], \"carpet\": [{\"aaxis\": {\"endlinecolor\": \"#2a3f5f\", \"gridcolor\": \"white\", \"linecolor\": \"white\", \"minorgridcolor\": \"white\", \"startlinecolor\": \"#2a3f5f\"}, \"baxis\": {\"endlinecolor\": \"#2a3f5f\", \"gridcolor\": \"white\", \"linecolor\": \"white\", \"minorgridcolor\": \"white\", \"startlinecolor\": \"#2a3f5f\"}, \"type\": \"carpet\"}], \"choropleth\": [{\"colorbar\": {\"outlinewidth\": 0, \"ticks\": \"\"}, \"type\": \"choropleth\"}], \"contour\": [{\"colorbar\": {\"outlinewidth\": 0, \"ticks\": \"\"}, \"colorscale\": [[0.0, \"#0d0887\"], [0.1111111111111111, \"#46039f\"], [0.2222222222222222, \"#7201a8\"], [0.3333333333333333, \"#9c179e\"], [0.4444444444444444, \"#bd3786\"], [0.5555555555555556, \"#d8576b\"], [0.6666666666666666, \"#ed7953\"], [0.7777777777777778, \"#fb9f3a\"], [0.8888888888888888, \"#fdca26\"], [1.0, \"#f0f921\"]], \"type\": \"contour\"}], \"contourcarpet\": [{\"colorbar\": {\"outlinewidth\": 0, \"ticks\": \"\"}, \"type\": \"contourcarpet\"}], \"heatmap\": [{\"colorbar\": {\"outlinewidth\": 0, \"ticks\": \"\"}, \"colorscale\": [[0.0, \"#0d0887\"], [0.1111111111111111, \"#46039f\"], [0.2222222222222222, \"#7201a8\"], [0.3333333333333333, \"#9c179e\"], [0.4444444444444444, \"#bd3786\"], [0.5555555555555556, \"#d8576b\"], [0.6666666666666666, \"#ed7953\"], [0.7777777777777778, \"#fb9f3a\"], [0.8888888888888888, \"#fdca26\"], [1.0, \"#f0f921\"]], \"type\": \"heatmap\"}], \"heatmapgl\": [{\"colorbar\": {\"outlinewidth\": 0, \"ticks\": \"\"}, \"colorscale\": [[0.0, \"#0d0887\"], [0.1111111111111111, \"#46039f\"], [0.2222222222222222, \"#7201a8\"], [0.3333333333333333, \"#9c179e\"], [0.4444444444444444, \"#bd3786\"], [0.5555555555555556, \"#d8576b\"], [0.6666666666666666, \"#ed7953\"], [0.7777777777777778, \"#fb9f3a\"], [0.8888888888888888, \"#fdca26\"], [1.0, \"#f0f921\"]], \"type\": \"heatmapgl\"}], \"histogram\": [{\"marker\": {\"colorbar\": {\"outlinewidth\": 0, \"ticks\": \"\"}}, \"type\": \"histogram\"}], \"histogram2d\": [{\"colorbar\": {\"outlinewidth\": 0, \"ticks\": \"\"}, \"colorscale\": [[0.0, \"#0d0887\"], [0.1111111111111111, \"#46039f\"], [0.2222222222222222, \"#7201a8\"], [0.3333333333333333, \"#9c179e\"], [0.4444444444444444, \"#bd3786\"], [0.5555555555555556, \"#d8576b\"], [0.6666666666666666, \"#ed7953\"], [0.7777777777777778, \"#fb9f3a\"], [0.8888888888888888, \"#fdca26\"], [1.0, \"#f0f921\"]], \"type\": \"histogram2d\"}], \"histogram2dcontour\": [{\"colorbar\": {\"outlinewidth\": 0, \"ticks\": \"\"}, \"colorscale\": [[0.0, \"#0d0887\"], [0.1111111111111111, \"#46039f\"], [0.2222222222222222, \"#7201a8\"], [0.3333333333333333, \"#9c179e\"], [0.4444444444444444, \"#bd3786\"], [0.5555555555555556, \"#d8576b\"], [0.6666666666666666, \"#ed7953\"], [0.7777777777777778, \"#fb9f3a\"], [0.8888888888888888, \"#fdca26\"], [1.0, \"#f0f921\"]], \"type\": \"histogram2dcontour\"}], \"mesh3d\": [{\"colorbar\": {\"outlinewidth\": 0, \"ticks\": \"\"}, \"type\": \"mesh3d\"}], \"parcoords\": [{\"line\": {\"colorbar\": {\"outlinewidth\": 0, \"ticks\": \"\"}}, \"type\": \"parcoords\"}], \"pie\": [{\"automargin\": true, \"type\": \"pie\"}], \"scatter\": [{\"marker\": {\"colorbar\": {\"outlinewidth\": 0, \"ticks\": \"\"}}, \"type\": \"scatter\"}], \"scatter3d\": [{\"line\": {\"colorbar\": {\"outlinewidth\": 0, \"ticks\": \"\"}}, \"marker\": {\"colorbar\": {\"outlinewidth\": 0, \"ticks\": \"\"}}, \"type\": \"scatter3d\"}], \"scattercarpet\": [{\"marker\": {\"colorbar\": {\"outlinewidth\": 0, \"ticks\": \"\"}}, \"type\": \"scattercarpet\"}], \"scattergeo\": [{\"marker\": {\"colorbar\": {\"outlinewidth\": 0, \"ticks\": \"\"}}, \"type\": \"scattergeo\"}], \"scattergl\": [{\"marker\": {\"colorbar\": {\"outlinewidth\": 0, \"ticks\": \"\"}}, \"type\": \"scattergl\"}], \"scattermapbox\": [{\"marker\": {\"colorbar\": {\"outlinewidth\": 0, \"ticks\": \"\"}}, \"type\": \"scattermapbox\"}], \"scatterpolar\": [{\"marker\": {\"colorbar\": {\"outlinewidth\": 0, \"ticks\": \"\"}}, \"type\": \"scatterpolar\"}], \"scatterpolargl\": [{\"marker\": {\"colorbar\": {\"outlinewidth\": 0, \"ticks\": \"\"}}, \"type\": \"scatterpolargl\"}], \"scatterternary\": [{\"marker\": {\"colorbar\": {\"outlinewidth\": 0, \"ticks\": \"\"}}, \"type\": \"scatterternary\"}], \"surface\": [{\"colorbar\": {\"outlinewidth\": 0, \"ticks\": \"\"}, \"colorscale\": [[0.0, \"#0d0887\"], [0.1111111111111111, \"#46039f\"], [0.2222222222222222, \"#7201a8\"], [0.3333333333333333, \"#9c179e\"], [0.4444444444444444, \"#bd3786\"], [0.5555555555555556, \"#d8576b\"], [0.6666666666666666, \"#ed7953\"], [0.7777777777777778, \"#fb9f3a\"], [0.8888888888888888, \"#fdca26\"], [1.0, \"#f0f921\"]], \"type\": \"surface\"}], \"table\": [{\"cells\": {\"fill\": {\"color\": \"#EBF0F8\"}, \"line\": {\"color\": \"white\"}}, \"header\": {\"fill\": {\"color\": \"#C8D4E3\"}, \"line\": {\"color\": \"white\"}}, \"type\": \"table\"}]}, \"layout\": {\"annotationdefaults\": {\"arrowcolor\": \"#2a3f5f\", \"arrowhead\": 0, \"arrowwidth\": 1}, \"coloraxis\": {\"colorbar\": {\"outlinewidth\": 0, \"ticks\": \"\"}}, \"colorscale\": {\"diverging\": [[0, \"#8e0152\"], [0.1, \"#c51b7d\"], [0.2, \"#de77ae\"], [0.3, \"#f1b6da\"], [0.4, \"#fde0ef\"], [0.5, \"#f7f7f7\"], [0.6, \"#e6f5d0\"], [0.7, \"#b8e186\"], [0.8, \"#7fbc41\"], [0.9, \"#4d9221\"], [1, \"#276419\"]], \"sequential\": [[0.0, \"#0d0887\"], [0.1111111111111111, \"#46039f\"], [0.2222222222222222, \"#7201a8\"], [0.3333333333333333, \"#9c179e\"], [0.4444444444444444, \"#bd3786\"], [0.5555555555555556, \"#d8576b\"], [0.6666666666666666, \"#ed7953\"], [0.7777777777777778, \"#fb9f3a\"], [0.8888888888888888, \"#fdca26\"], [1.0, \"#f0f921\"]], \"sequentialminus\": [[0.0, \"#0d0887\"], [0.1111111111111111, \"#46039f\"], [0.2222222222222222, \"#7201a8\"], [0.3333333333333333, \"#9c179e\"], [0.4444444444444444, \"#bd3786\"], [0.5555555555555556, \"#d8576b\"], [0.6666666666666666, \"#ed7953\"], [0.7777777777777778, \"#fb9f3a\"], [0.8888888888888888, \"#fdca26\"], [1.0, \"#f0f921\"]]}, \"colorway\": [\"#636efa\", \"#EF553B\", \"#00cc96\", \"#ab63fa\", \"#FFA15A\", \"#19d3f3\", \"#FF6692\", \"#B6E880\", \"#FF97FF\", \"#FECB52\"], \"font\": {\"color\": \"#2a3f5f\"}, \"geo\": {\"bgcolor\": \"white\", \"lakecolor\": \"white\", \"landcolor\": \"#E5ECF6\", \"showlakes\": true, \"showland\": true, \"subunitcolor\": \"white\"}, \"hoverlabel\": {\"align\": \"left\"}, \"hovermode\": \"closest\", \"mapbox\": {\"style\": \"light\"}, \"paper_bgcolor\": \"white\", \"plot_bgcolor\": \"#E5ECF6\", \"polar\": {\"angularaxis\": {\"gridcolor\": \"white\", \"linecolor\": \"white\", \"ticks\": \"\"}, \"bgcolor\": \"#E5ECF6\", \"radialaxis\": {\"gridcolor\": \"white\", \"linecolor\": \"white\", \"ticks\": \"\"}}, \"scene\": {\"xaxis\": {\"backgroundcolor\": \"#E5ECF6\", \"gridcolor\": \"white\", \"gridwidth\": 2, \"linecolor\": \"white\", \"showbackground\": true, \"ticks\": \"\", \"zerolinecolor\": \"white\"}, \"yaxis\": {\"backgroundcolor\": \"#E5ECF6\", \"gridcolor\": \"white\", \"gridwidth\": 2, \"linecolor\": \"white\", \"showbackground\": true, \"ticks\": \"\", \"zerolinecolor\": \"white\"}, \"zaxis\": {\"backgroundcolor\": \"#E5ECF6\", \"gridcolor\": \"white\", \"gridwidth\": 2, \"linecolor\": \"white\", \"showbackground\": true, \"ticks\": \"\", \"zerolinecolor\": \"white\"}}, \"shapedefaults\": {\"line\": {\"color\": \"#2a3f5f\"}}, \"ternary\": {\"aaxis\": {\"gridcolor\": \"white\", \"linecolor\": \"white\", \"ticks\": \"\"}, \"baxis\": {\"gridcolor\": \"white\", \"linecolor\": \"white\", \"ticks\": \"\"}, \"bgcolor\": \"#E5ECF6\", \"caxis\": {\"gridcolor\": \"white\", \"linecolor\": \"white\", \"ticks\": \"\"}}, \"title\": {\"x\": 0.05}, \"xaxis\": {\"automargin\": true, \"gridcolor\": \"white\", \"linecolor\": \"white\", \"ticks\": \"\", \"title\": {\"standoff\": 15}, \"zerolinecolor\": \"white\", \"zerolinewidth\": 2}, \"yaxis\": {\"automargin\": true, \"gridcolor\": \"white\", \"linecolor\": \"white\", \"ticks\": \"\", \"title\": {\"standoff\": 15}, \"zerolinecolor\": \"white\", \"zerolinewidth\": 2}}}, \"title\": {\"text\": \"True Position vs. Estimated Position\", \"x\": 0.48, \"xanchor\": \"center\", \"y\": 0.9, \"yanchor\": \"top\"}, \"xaxis\": {\"title\": {\"text\": \"Time (sec)\"}}, \"yaxis\": {\"title\": {\"text\": \"Position (m)\"}}},\n",
       "                        {\"responsive\": true}\n",
       "                    ).then(function(){\n",
       "                            \n",
       "var gd = document.getElementById('f82524f5-600d-4019-b95a-c0a880b26163');\n",
       "var x = new MutationObserver(function (mutations, observer) {{\n",
       "        var display = window.getComputedStyle(gd).display;\n",
       "        if (!display || display === 'none') {{\n",
       "            console.log([gd, 'removed!']);\n",
       "            Plotly.purge(gd);\n",
       "            observer.disconnect();\n",
       "        }}\n",
       "}});\n",
       "\n",
       "// Listen for the removal of the full notebook cells\n",
       "var notebookContainer = gd.closest('#notebook-container');\n",
       "if (notebookContainer) {{\n",
       "    x.observe(notebookContainer, {childList: true});\n",
       "}}\n",
       "\n",
       "// Listen for the clearing of the current output cell\n",
       "var outputEl = gd.closest('.output');\n",
       "if (outputEl) {{\n",
       "    x.observe(outputEl, {childList: true});\n",
       "}}\n",
       "\n",
       "                        })\n",
       "                };\n",
       "                });\n",
       "            </script>\n",
       "        </div>"
      ]
     },
     "metadata": {},
     "output_type": "display_data"
    },
    {
     "data": {
      "application/vnd.plotly.v1+json": {
       "config": {
        "plotlyServerURL": "https://plot.ly"
       },
       "data": [
        {
         "name": "Position Estimate Error",
         "type": "scatter",
         "x": [
          0,
          0.2,
          0.4,
          0.6000000000000001,
          0.8,
          1,
          1.2000000000000002,
          1.4000000000000001,
          1.6,
          1.8,
          2,
          2.2,
          2.4000000000000004,
          2.6,
          2.8000000000000003,
          3,
          3.2,
          3.4000000000000004,
          3.6,
          3.8000000000000003,
          4,
          4.2,
          4.4,
          4.6000000000000005,
          4.800000000000001,
          5,
          5.2,
          5.4,
          5.6000000000000005,
          5.800000000000001,
          6,
          6.2,
          6.4,
          6.6000000000000005,
          6.800000000000001,
          7,
          7.2,
          7.4,
          7.6000000000000005,
          7.800000000000001,
          8,
          8.200000000000001,
          8.4,
          8.6,
          8.8,
          9,
          9.200000000000001,
          9.4,
          9.600000000000001,
          9.8,
          10,
          10.200000000000001,
          10.4,
          10.600000000000001,
          10.8,
          11,
          11.200000000000001,
          11.4,
          11.600000000000001,
          11.8,
          12,
          12.200000000000001,
          12.4,
          12.600000000000001,
          12.8,
          13,
          13.200000000000001,
          13.4,
          13.600000000000001,
          13.8,
          14,
          14.200000000000001,
          14.4,
          14.600000000000001,
          14.8,
          15,
          15.200000000000001,
          15.4,
          15.600000000000001,
          15.8,
          16,
          16.2,
          16.400000000000002,
          16.6,
          16.8,
          17,
          17.2,
          17.400000000000002,
          17.6,
          17.8,
          18,
          18.2,
          18.400000000000002,
          18.6,
          18.8,
          19,
          19.200000000000003,
          19.400000000000002,
          19.6,
          19.8,
          20,
          20.200000000000003,
          20.400000000000002,
          20.6,
          20.8,
          21,
          21.200000000000003,
          21.400000000000002,
          21.6,
          21.8,
          22,
          22.200000000000003,
          22.400000000000002,
          22.6,
          22.8,
          23,
          23.200000000000003,
          23.400000000000002,
          23.6,
          23.8,
          24,
          24.200000000000003,
          24.400000000000002,
          24.6,
          24.8,
          25,
          25.200000000000003,
          25.400000000000002,
          25.6,
          25.8,
          26,
          26.200000000000003,
          26.400000000000002,
          26.6,
          26.8,
          27,
          27.200000000000003,
          27.400000000000002,
          27.6,
          27.8,
          28,
          28.200000000000003,
          28.400000000000002,
          28.6,
          28.8,
          29,
          29.200000000000003,
          29.400000000000002,
          29.6,
          29.8,
          30
         ],
         "y": [
          0.0992398365190379,
          0.67466272047389,
          0.8271169459451642,
          0.6490198346732825,
          0.4396855053101376,
          0.5081003838299694,
          0.36147651881418597,
          0.38885385410696927,
          0.3318563364368572,
          0.21694603237494903,
          0.15167929086749155,
          0.1818687780182131,
          0.09486057962431005,
          0.09669412586714543,
          0.17274932047217817,
          0.0803208746623909,
          0.14333534264926584,
          0.08450688445213927,
          0.09869663885643831,
          0.04645134297436471,
          0.058275198218666446,
          0.05402548193654866,
          0.07865979125631384,
          0.12924334540639393,
          0.060262573235718264,
          0.0006717954394162007,
          0.04422321761740022,
          0.09415875562342535,
          0.1211337181844101,
          0.1594867906349009,
          0.1862928688771035,
          0.2117761928229811,
          0.17409573279826418,
          0.1318281548288951,
          0.11827810631962166,
          0.11370808449828473,
          0.09074483267261257,
          0.06830206291238028,
          0.07292173321798145,
          0.07108851401392258,
          0.0885801875145944,
          0.035987036802453076,
          0.06653793898112781,
          0.038970913294292586,
          0.03893540762601333,
          0.04741749286313279,
          0.05034385207682135,
          0.09984534765862918,
          0.08966126532277485,
          0.05048189318540608,
          0.05896626013236528,
          0.044016403918931246,
          0.032602841940843064,
          0.04078999241710335,
          0.03397885662434419,
          0.034104117049992055,
          0.03973539843832441,
          0.03617592926048019,
          0.04824550882699441,
          0.05782063850188024,
          0.05247259238308288,
          0.05474818028505979,
          0.02643637978417246,
          0.01769728049407604,
          0.02648713883218079,
          0.06804863662205207,
          0.10190867255960256,
          0.08655171044051713,
          0.07907663605442394,
          0.08935424734863773,
          0.08205515595386714,
          0.0884096819268052,
          0.0654145033961413,
          0.05436136326989072,
          0.05469783971693687,
          0.05106570248381104,
          0.043892657854030404,
          0.0679996594617478,
          0.06618065771772308,
          0.0806941731839288,
          0.08615516684176328,
          0.09015935311026624,
          0.0896058424673356,
          0.09739825958740767,
          0.12031992901165722,
          0.1417378182804896,
          0.14002198732441684,
          0.1474936437730321,
          0.13425060956978996,
          0.13379186478732663,
          0.1356790849022218,
          0.13842265194216452,
          0.11178005925785328,
          0.11477678872961405,
          0.114124644356707,
          0.09710017199631693,
          0.08990029070218952,
          0.10315791593620816,
          0.12058029663558045,
          0.10683803362690014,
          0.10127924817561507,
          0.10486059803997705,
          0.09829771105341933,
          0.08210821948478042,
          0.07035491584156262,
          0.07192050870298772,
          0.04593369463282215,
          0.06280331060361277,
          0.07452453051155317,
          0.06836313556777895,
          0.04430010830719766,
          0.03864088486716355,
          0.030699145944709016,
          0.013408717759375577,
          0.016877383418432146,
          0.03560682952456773,
          0.03673473310254849,
          0.023519860854776198,
          0.006990052145283698,
          0.019077419603490853,
          0.005966561689092487,
          0.018072807857606676,
          -0.004911577243547072,
          -0.007231796202177065,
          -0.020336654830316547,
          -0.001192632902530022,
          -0.008368346869247034,
          -0.012763697160153242,
          -0.0069001900583316456,
          -0.005903855383621703,
          -0.019076107209912152,
          -0.007349211592554639,
          -0.006879671578644775,
          -0.01923712967800384,
          -0.04204779862629948,
          -0.021668318332558556,
          -0.04046863230814779,
          -0.05778664398530964,
          -0.04805886737904075,
          -0.06668850320238562,
          -0.07742464247075986,
          -0.07618562710376864,
          -0.07850253918695671,
          -0.0814298604036594,
          -0.08610344946373516,
          -0.08252532486221753,
          -0.08912635827164195,
          -0.08196795790081524,
          -0.06612565953855665,
          -0.06405040209847357,
          -0.05590794397176069
         ]
        }
       ],
       "layout": {
        "template": {
         "data": {
          "bar": [
           {
            "error_x": {
             "color": "#2a3f5f"
            },
            "error_y": {
             "color": "#2a3f5f"
            },
            "marker": {
             "line": {
              "color": "#E5ECF6",
              "width": 0.5
             }
            },
            "type": "bar"
           }
          ],
          "barpolar": [
           {
            "marker": {
             "line": {
              "color": "#E5ECF6",
              "width": 0.5
             }
            },
            "type": "barpolar"
           }
          ],
          "carpet": [
           {
            "aaxis": {
             "endlinecolor": "#2a3f5f",
             "gridcolor": "white",
             "linecolor": "white",
             "minorgridcolor": "white",
             "startlinecolor": "#2a3f5f"
            },
            "baxis": {
             "endlinecolor": "#2a3f5f",
             "gridcolor": "white",
             "linecolor": "white",
             "minorgridcolor": "white",
             "startlinecolor": "#2a3f5f"
            },
            "type": "carpet"
           }
          ],
          "choropleth": [
           {
            "colorbar": {
             "outlinewidth": 0,
             "ticks": ""
            },
            "type": "choropleth"
           }
          ],
          "contour": [
           {
            "colorbar": {
             "outlinewidth": 0,
             "ticks": ""
            },
            "colorscale": [
             [
              0,
              "#0d0887"
             ],
             [
              0.1111111111111111,
              "#46039f"
             ],
             [
              0.2222222222222222,
              "#7201a8"
             ],
             [
              0.3333333333333333,
              "#9c179e"
             ],
             [
              0.4444444444444444,
              "#bd3786"
             ],
             [
              0.5555555555555556,
              "#d8576b"
             ],
             [
              0.6666666666666666,
              "#ed7953"
             ],
             [
              0.7777777777777778,
              "#fb9f3a"
             ],
             [
              0.8888888888888888,
              "#fdca26"
             ],
             [
              1,
              "#f0f921"
             ]
            ],
            "type": "contour"
           }
          ],
          "contourcarpet": [
           {
            "colorbar": {
             "outlinewidth": 0,
             "ticks": ""
            },
            "type": "contourcarpet"
           }
          ],
          "heatmap": [
           {
            "colorbar": {
             "outlinewidth": 0,
             "ticks": ""
            },
            "colorscale": [
             [
              0,
              "#0d0887"
             ],
             [
              0.1111111111111111,
              "#46039f"
             ],
             [
              0.2222222222222222,
              "#7201a8"
             ],
             [
              0.3333333333333333,
              "#9c179e"
             ],
             [
              0.4444444444444444,
              "#bd3786"
             ],
             [
              0.5555555555555556,
              "#d8576b"
             ],
             [
              0.6666666666666666,
              "#ed7953"
             ],
             [
              0.7777777777777778,
              "#fb9f3a"
             ],
             [
              0.8888888888888888,
              "#fdca26"
             ],
             [
              1,
              "#f0f921"
             ]
            ],
            "type": "heatmap"
           }
          ],
          "heatmapgl": [
           {
            "colorbar": {
             "outlinewidth": 0,
             "ticks": ""
            },
            "colorscale": [
             [
              0,
              "#0d0887"
             ],
             [
              0.1111111111111111,
              "#46039f"
             ],
             [
              0.2222222222222222,
              "#7201a8"
             ],
             [
              0.3333333333333333,
              "#9c179e"
             ],
             [
              0.4444444444444444,
              "#bd3786"
             ],
             [
              0.5555555555555556,
              "#d8576b"
             ],
             [
              0.6666666666666666,
              "#ed7953"
             ],
             [
              0.7777777777777778,
              "#fb9f3a"
             ],
             [
              0.8888888888888888,
              "#fdca26"
             ],
             [
              1,
              "#f0f921"
             ]
            ],
            "type": "heatmapgl"
           }
          ],
          "histogram": [
           {
            "marker": {
             "colorbar": {
              "outlinewidth": 0,
              "ticks": ""
             }
            },
            "type": "histogram"
           }
          ],
          "histogram2d": [
           {
            "colorbar": {
             "outlinewidth": 0,
             "ticks": ""
            },
            "colorscale": [
             [
              0,
              "#0d0887"
             ],
             [
              0.1111111111111111,
              "#46039f"
             ],
             [
              0.2222222222222222,
              "#7201a8"
             ],
             [
              0.3333333333333333,
              "#9c179e"
             ],
             [
              0.4444444444444444,
              "#bd3786"
             ],
             [
              0.5555555555555556,
              "#d8576b"
             ],
             [
              0.6666666666666666,
              "#ed7953"
             ],
             [
              0.7777777777777778,
              "#fb9f3a"
             ],
             [
              0.8888888888888888,
              "#fdca26"
             ],
             [
              1,
              "#f0f921"
             ]
            ],
            "type": "histogram2d"
           }
          ],
          "histogram2dcontour": [
           {
            "colorbar": {
             "outlinewidth": 0,
             "ticks": ""
            },
            "colorscale": [
             [
              0,
              "#0d0887"
             ],
             [
              0.1111111111111111,
              "#46039f"
             ],
             [
              0.2222222222222222,
              "#7201a8"
             ],
             [
              0.3333333333333333,
              "#9c179e"
             ],
             [
              0.4444444444444444,
              "#bd3786"
             ],
             [
              0.5555555555555556,
              "#d8576b"
             ],
             [
              0.6666666666666666,
              "#ed7953"
             ],
             [
              0.7777777777777778,
              "#fb9f3a"
             ],
             [
              0.8888888888888888,
              "#fdca26"
             ],
             [
              1,
              "#f0f921"
             ]
            ],
            "type": "histogram2dcontour"
           }
          ],
          "mesh3d": [
           {
            "colorbar": {
             "outlinewidth": 0,
             "ticks": ""
            },
            "type": "mesh3d"
           }
          ],
          "parcoords": [
           {
            "line": {
             "colorbar": {
              "outlinewidth": 0,
              "ticks": ""
             }
            },
            "type": "parcoords"
           }
          ],
          "pie": [
           {
            "automargin": true,
            "type": "pie"
           }
          ],
          "scatter": [
           {
            "marker": {
             "colorbar": {
              "outlinewidth": 0,
              "ticks": ""
             }
            },
            "type": "scatter"
           }
          ],
          "scatter3d": [
           {
            "line": {
             "colorbar": {
              "outlinewidth": 0,
              "ticks": ""
             }
            },
            "marker": {
             "colorbar": {
              "outlinewidth": 0,
              "ticks": ""
             }
            },
            "type": "scatter3d"
           }
          ],
          "scattercarpet": [
           {
            "marker": {
             "colorbar": {
              "outlinewidth": 0,
              "ticks": ""
             }
            },
            "type": "scattercarpet"
           }
          ],
          "scattergeo": [
           {
            "marker": {
             "colorbar": {
              "outlinewidth": 0,
              "ticks": ""
             }
            },
            "type": "scattergeo"
           }
          ],
          "scattergl": [
           {
            "marker": {
             "colorbar": {
              "outlinewidth": 0,
              "ticks": ""
             }
            },
            "type": "scattergl"
           }
          ],
          "scattermapbox": [
           {
            "marker": {
             "colorbar": {
              "outlinewidth": 0,
              "ticks": ""
             }
            },
            "type": "scattermapbox"
           }
          ],
          "scatterpolar": [
           {
            "marker": {
             "colorbar": {
              "outlinewidth": 0,
              "ticks": ""
             }
            },
            "type": "scatterpolar"
           }
          ],
          "scatterpolargl": [
           {
            "marker": {
             "colorbar": {
              "outlinewidth": 0,
              "ticks": ""
             }
            },
            "type": "scatterpolargl"
           }
          ],
          "scatterternary": [
           {
            "marker": {
             "colorbar": {
              "outlinewidth": 0,
              "ticks": ""
             }
            },
            "type": "scatterternary"
           }
          ],
          "surface": [
           {
            "colorbar": {
             "outlinewidth": 0,
             "ticks": ""
            },
            "colorscale": [
             [
              0,
              "#0d0887"
             ],
             [
              0.1111111111111111,
              "#46039f"
             ],
             [
              0.2222222222222222,
              "#7201a8"
             ],
             [
              0.3333333333333333,
              "#9c179e"
             ],
             [
              0.4444444444444444,
              "#bd3786"
             ],
             [
              0.5555555555555556,
              "#d8576b"
             ],
             [
              0.6666666666666666,
              "#ed7953"
             ],
             [
              0.7777777777777778,
              "#fb9f3a"
             ],
             [
              0.8888888888888888,
              "#fdca26"
             ],
             [
              1,
              "#f0f921"
             ]
            ],
            "type": "surface"
           }
          ],
          "table": [
           {
            "cells": {
             "fill": {
              "color": "#EBF0F8"
             },
             "line": {
              "color": "white"
             }
            },
            "header": {
             "fill": {
              "color": "#C8D4E3"
             },
             "line": {
              "color": "white"
             }
            },
            "type": "table"
           }
          ]
         },
         "layout": {
          "annotationdefaults": {
           "arrowcolor": "#2a3f5f",
           "arrowhead": 0,
           "arrowwidth": 1
          },
          "coloraxis": {
           "colorbar": {
            "outlinewidth": 0,
            "ticks": ""
           }
          },
          "colorscale": {
           "diverging": [
            [
             0,
             "#8e0152"
            ],
            [
             0.1,
             "#c51b7d"
            ],
            [
             0.2,
             "#de77ae"
            ],
            [
             0.3,
             "#f1b6da"
            ],
            [
             0.4,
             "#fde0ef"
            ],
            [
             0.5,
             "#f7f7f7"
            ],
            [
             0.6,
             "#e6f5d0"
            ],
            [
             0.7,
             "#b8e186"
            ],
            [
             0.8,
             "#7fbc41"
            ],
            [
             0.9,
             "#4d9221"
            ],
            [
             1,
             "#276419"
            ]
           ],
           "sequential": [
            [
             0,
             "#0d0887"
            ],
            [
             0.1111111111111111,
             "#46039f"
            ],
            [
             0.2222222222222222,
             "#7201a8"
            ],
            [
             0.3333333333333333,
             "#9c179e"
            ],
            [
             0.4444444444444444,
             "#bd3786"
            ],
            [
             0.5555555555555556,
             "#d8576b"
            ],
            [
             0.6666666666666666,
             "#ed7953"
            ],
            [
             0.7777777777777778,
             "#fb9f3a"
            ],
            [
             0.8888888888888888,
             "#fdca26"
            ],
            [
             1,
             "#f0f921"
            ]
           ],
           "sequentialminus": [
            [
             0,
             "#0d0887"
            ],
            [
             0.1111111111111111,
             "#46039f"
            ],
            [
             0.2222222222222222,
             "#7201a8"
            ],
            [
             0.3333333333333333,
             "#9c179e"
            ],
            [
             0.4444444444444444,
             "#bd3786"
            ],
            [
             0.5555555555555556,
             "#d8576b"
            ],
            [
             0.6666666666666666,
             "#ed7953"
            ],
            [
             0.7777777777777778,
             "#fb9f3a"
            ],
            [
             0.8888888888888888,
             "#fdca26"
            ],
            [
             1,
             "#f0f921"
            ]
           ]
          },
          "colorway": [
           "#636efa",
           "#EF553B",
           "#00cc96",
           "#ab63fa",
           "#FFA15A",
           "#19d3f3",
           "#FF6692",
           "#B6E880",
           "#FF97FF",
           "#FECB52"
          ],
          "font": {
           "color": "#2a3f5f"
          },
          "geo": {
           "bgcolor": "white",
           "lakecolor": "white",
           "landcolor": "#E5ECF6",
           "showlakes": true,
           "showland": true,
           "subunitcolor": "white"
          },
          "hoverlabel": {
           "align": "left"
          },
          "hovermode": "closest",
          "mapbox": {
           "style": "light"
          },
          "paper_bgcolor": "white",
          "plot_bgcolor": "#E5ECF6",
          "polar": {
           "angularaxis": {
            "gridcolor": "white",
            "linecolor": "white",
            "ticks": ""
           },
           "bgcolor": "#E5ECF6",
           "radialaxis": {
            "gridcolor": "white",
            "linecolor": "white",
            "ticks": ""
           }
          },
          "scene": {
           "xaxis": {
            "backgroundcolor": "#E5ECF6",
            "gridcolor": "white",
            "gridwidth": 2,
            "linecolor": "white",
            "showbackground": true,
            "ticks": "",
            "zerolinecolor": "white"
           },
           "yaxis": {
            "backgroundcolor": "#E5ECF6",
            "gridcolor": "white",
            "gridwidth": 2,
            "linecolor": "white",
            "showbackground": true,
            "ticks": "",
            "zerolinecolor": "white"
           },
           "zaxis": {
            "backgroundcolor": "#E5ECF6",
            "gridcolor": "white",
            "gridwidth": 2,
            "linecolor": "white",
            "showbackground": true,
            "ticks": "",
            "zerolinecolor": "white"
           }
          },
          "shapedefaults": {
           "line": {
            "color": "#2a3f5f"
           }
          },
          "ternary": {
           "aaxis": {
            "gridcolor": "white",
            "linecolor": "white",
            "ticks": ""
           },
           "baxis": {
            "gridcolor": "white",
            "linecolor": "white",
            "ticks": ""
           },
           "bgcolor": "#E5ECF6",
           "caxis": {
            "gridcolor": "white",
            "linecolor": "white",
            "ticks": ""
           }
          },
          "title": {
           "x": 0.05
          },
          "xaxis": {
           "automargin": true,
           "gridcolor": "white",
           "linecolor": "white",
           "ticks": "",
           "title": {
            "standoff": 15
           },
           "zerolinecolor": "white",
           "zerolinewidth": 2
          },
          "yaxis": {
           "automargin": true,
           "gridcolor": "white",
           "linecolor": "white",
           "ticks": "",
           "title": {
            "standoff": 15
           },
           "zerolinecolor": "white",
           "zerolinewidth": 2
          }
         }
        },
        "title": {
         "text": "Position Error",
         "x": 0.48,
         "xanchor": "center",
         "y": 0.9,
         "yanchor": "top"
        },
        "xaxis": {
         "title": {
          "text": "Time (sec)"
         }
        },
        "yaxis": {
         "title": {
          "text": "Position Error (m)"
         }
        }
       }
      },
      "text/html": [
       "<div>\n",
       "        \n",
       "        \n",
       "            <div id=\"693ff49b-f137-4933-90ff-bff21555ccc4\" class=\"plotly-graph-div\" style=\"height:525px; width:100%;\"></div>\n",
       "            <script type=\"text/javascript\">\n",
       "                require([\"plotly\"], function(Plotly) {\n",
       "                    window.PLOTLYENV=window.PLOTLYENV || {};\n",
       "                    \n",
       "                if (document.getElementById(\"693ff49b-f137-4933-90ff-bff21555ccc4\")) {\n",
       "                    Plotly.newPlot(\n",
       "                        '693ff49b-f137-4933-90ff-bff21555ccc4',\n",
       "                        [{\"name\": \"Position Estimate Error\", \"type\": \"scatter\", \"x\": [0.0, 0.2, 0.4, 0.6000000000000001, 0.8, 1.0, 1.2000000000000002, 1.4000000000000001, 1.6, 1.8, 2.0, 2.2, 2.4000000000000004, 2.6, 2.8000000000000003, 3.0, 3.2, 3.4000000000000004, 3.6, 3.8000000000000003, 4.0, 4.2, 4.4, 4.6000000000000005, 4.800000000000001, 5.0, 5.2, 5.4, 5.6000000000000005, 5.800000000000001, 6.0, 6.2, 6.4, 6.6000000000000005, 6.800000000000001, 7.0, 7.2, 7.4, 7.6000000000000005, 7.800000000000001, 8.0, 8.200000000000001, 8.4, 8.6, 8.8, 9.0, 9.200000000000001, 9.4, 9.600000000000001, 9.8, 10.0, 10.200000000000001, 10.4, 10.600000000000001, 10.8, 11.0, 11.200000000000001, 11.4, 11.600000000000001, 11.8, 12.0, 12.200000000000001, 12.4, 12.600000000000001, 12.8, 13.0, 13.200000000000001, 13.4, 13.600000000000001, 13.8, 14.0, 14.200000000000001, 14.4, 14.600000000000001, 14.8, 15.0, 15.200000000000001, 15.4, 15.600000000000001, 15.8, 16.0, 16.2, 16.400000000000002, 16.6, 16.8, 17.0, 17.2, 17.400000000000002, 17.6, 17.8, 18.0, 18.2, 18.400000000000002, 18.6, 18.8, 19.0, 19.200000000000003, 19.400000000000002, 19.6, 19.8, 20.0, 20.200000000000003, 20.400000000000002, 20.6, 20.8, 21.0, 21.200000000000003, 21.400000000000002, 21.6, 21.8, 22.0, 22.200000000000003, 22.400000000000002, 22.6, 22.8, 23.0, 23.200000000000003, 23.400000000000002, 23.6, 23.8, 24.0, 24.200000000000003, 24.400000000000002, 24.6, 24.8, 25.0, 25.200000000000003, 25.400000000000002, 25.6, 25.8, 26.0, 26.200000000000003, 26.400000000000002, 26.6, 26.8, 27.0, 27.200000000000003, 27.400000000000002, 27.6, 27.8, 28.0, 28.200000000000003, 28.400000000000002, 28.6, 28.8, 29.0, 29.200000000000003, 29.400000000000002, 29.6, 29.8, 30.0], \"y\": [0.0992398365190379, 0.67466272047389, 0.8271169459451642, 0.6490198346732825, 0.4396855053101376, 0.5081003838299694, 0.36147651881418597, 0.38885385410696927, 0.3318563364368572, 0.21694603237494903, 0.15167929086749155, 0.1818687780182131, 0.09486057962431005, 0.09669412586714543, 0.17274932047217817, 0.0803208746623909, 0.14333534264926584, 0.08450688445213927, 0.09869663885643831, 0.04645134297436471, 0.058275198218666446, 0.05402548193654866, 0.07865979125631384, 0.12924334540639393, 0.060262573235718264, 0.0006717954394162007, 0.04422321761740022, 0.09415875562342535, 0.1211337181844101, 0.1594867906349009, 0.1862928688771035, 0.2117761928229811, 0.17409573279826418, 0.1318281548288951, 0.11827810631962166, 0.11370808449828473, 0.09074483267261257, 0.06830206291238028, 0.07292173321798145, 0.07108851401392258, 0.0885801875145944, 0.035987036802453076, 0.06653793898112781, 0.038970913294292586, 0.03893540762601333, 0.04741749286313279, 0.05034385207682135, 0.09984534765862918, 0.08966126532277485, 0.05048189318540608, 0.05896626013236528, 0.044016403918931246, 0.032602841940843064, 0.04078999241710335, 0.03397885662434419, 0.034104117049992055, 0.03973539843832441, 0.03617592926048019, 0.04824550882699441, 0.05782063850188024, 0.05247259238308288, 0.05474818028505979, 0.02643637978417246, 0.01769728049407604, 0.02648713883218079, 0.06804863662205207, 0.10190867255960256, 0.08655171044051713, 0.07907663605442394, 0.08935424734863773, 0.08205515595386714, 0.0884096819268052, 0.0654145033961413, 0.05436136326989072, 0.05469783971693687, 0.05106570248381104, 0.043892657854030404, 0.0679996594617478, 0.06618065771772308, 0.0806941731839288, 0.08615516684176328, 0.09015935311026624, 0.0896058424673356, 0.09739825958740767, 0.12031992901165722, 0.1417378182804896, 0.14002198732441684, 0.1474936437730321, 0.13425060956978996, 0.13379186478732663, 0.1356790849022218, 0.13842265194216452, 0.11178005925785328, 0.11477678872961405, 0.114124644356707, 0.09710017199631693, 0.08990029070218952, 0.10315791593620816, 0.12058029663558045, 0.10683803362690014, 0.10127924817561507, 0.10486059803997705, 0.09829771105341933, 0.08210821948478042, 0.07035491584156262, 0.07192050870298772, 0.04593369463282215, 0.06280331060361277, 0.07452453051155317, 0.06836313556777895, 0.04430010830719766, 0.03864088486716355, 0.030699145944709016, 0.013408717759375577, 0.016877383418432146, 0.03560682952456773, 0.03673473310254849, 0.023519860854776198, 0.006990052145283698, 0.019077419603490853, 0.005966561689092487, 0.018072807857606676, -0.004911577243547072, -0.007231796202177065, -0.020336654830316547, -0.001192632902530022, -0.008368346869247034, -0.012763697160153242, -0.0069001900583316456, -0.005903855383621703, -0.019076107209912152, -0.007349211592554639, -0.006879671578644775, -0.01923712967800384, -0.04204779862629948, -0.021668318332558556, -0.04046863230814779, -0.05778664398530964, -0.04805886737904075, -0.06668850320238562, -0.07742464247075986, -0.07618562710376864, -0.07850253918695671, -0.0814298604036594, -0.08610344946373516, -0.08252532486221753, -0.08912635827164195, -0.08196795790081524, -0.06612565953855665, -0.06405040209847357, -0.05590794397176069]}],\n",
       "                        {\"template\": {\"data\": {\"bar\": [{\"error_x\": {\"color\": \"#2a3f5f\"}, \"error_y\": {\"color\": \"#2a3f5f\"}, \"marker\": {\"line\": {\"color\": \"#E5ECF6\", \"width\": 0.5}}, \"type\": \"bar\"}], \"barpolar\": [{\"marker\": {\"line\": {\"color\": \"#E5ECF6\", \"width\": 0.5}}, \"type\": \"barpolar\"}], \"carpet\": [{\"aaxis\": {\"endlinecolor\": \"#2a3f5f\", \"gridcolor\": \"white\", \"linecolor\": \"white\", \"minorgridcolor\": \"white\", \"startlinecolor\": \"#2a3f5f\"}, \"baxis\": {\"endlinecolor\": \"#2a3f5f\", \"gridcolor\": \"white\", \"linecolor\": \"white\", \"minorgridcolor\": \"white\", \"startlinecolor\": \"#2a3f5f\"}, \"type\": \"carpet\"}], \"choropleth\": [{\"colorbar\": {\"outlinewidth\": 0, \"ticks\": \"\"}, \"type\": \"choropleth\"}], \"contour\": [{\"colorbar\": {\"outlinewidth\": 0, \"ticks\": \"\"}, \"colorscale\": [[0.0, \"#0d0887\"], [0.1111111111111111, \"#46039f\"], [0.2222222222222222, \"#7201a8\"], [0.3333333333333333, \"#9c179e\"], [0.4444444444444444, \"#bd3786\"], [0.5555555555555556, \"#d8576b\"], [0.6666666666666666, \"#ed7953\"], [0.7777777777777778, \"#fb9f3a\"], [0.8888888888888888, \"#fdca26\"], [1.0, \"#f0f921\"]], \"type\": \"contour\"}], \"contourcarpet\": [{\"colorbar\": {\"outlinewidth\": 0, \"ticks\": \"\"}, \"type\": \"contourcarpet\"}], \"heatmap\": [{\"colorbar\": {\"outlinewidth\": 0, \"ticks\": \"\"}, \"colorscale\": [[0.0, \"#0d0887\"], [0.1111111111111111, \"#46039f\"], [0.2222222222222222, \"#7201a8\"], [0.3333333333333333, \"#9c179e\"], [0.4444444444444444, \"#bd3786\"], [0.5555555555555556, \"#d8576b\"], [0.6666666666666666, \"#ed7953\"], [0.7777777777777778, \"#fb9f3a\"], [0.8888888888888888, \"#fdca26\"], [1.0, \"#f0f921\"]], \"type\": \"heatmap\"}], \"heatmapgl\": [{\"colorbar\": {\"outlinewidth\": 0, \"ticks\": \"\"}, \"colorscale\": [[0.0, \"#0d0887\"], [0.1111111111111111, \"#46039f\"], [0.2222222222222222, \"#7201a8\"], [0.3333333333333333, \"#9c179e\"], [0.4444444444444444, \"#bd3786\"], [0.5555555555555556, \"#d8576b\"], [0.6666666666666666, \"#ed7953\"], [0.7777777777777778, \"#fb9f3a\"], [0.8888888888888888, \"#fdca26\"], [1.0, \"#f0f921\"]], \"type\": \"heatmapgl\"}], \"histogram\": [{\"marker\": {\"colorbar\": {\"outlinewidth\": 0, \"ticks\": \"\"}}, \"type\": \"histogram\"}], \"histogram2d\": [{\"colorbar\": {\"outlinewidth\": 0, \"ticks\": \"\"}, \"colorscale\": [[0.0, \"#0d0887\"], [0.1111111111111111, \"#46039f\"], [0.2222222222222222, \"#7201a8\"], [0.3333333333333333, \"#9c179e\"], [0.4444444444444444, \"#bd3786\"], [0.5555555555555556, \"#d8576b\"], [0.6666666666666666, \"#ed7953\"], [0.7777777777777778, \"#fb9f3a\"], [0.8888888888888888, \"#fdca26\"], [1.0, \"#f0f921\"]], \"type\": \"histogram2d\"}], \"histogram2dcontour\": [{\"colorbar\": {\"outlinewidth\": 0, \"ticks\": \"\"}, \"colorscale\": [[0.0, \"#0d0887\"], [0.1111111111111111, \"#46039f\"], [0.2222222222222222, \"#7201a8\"], [0.3333333333333333, \"#9c179e\"], [0.4444444444444444, \"#bd3786\"], [0.5555555555555556, \"#d8576b\"], [0.6666666666666666, \"#ed7953\"], [0.7777777777777778, \"#fb9f3a\"], [0.8888888888888888, \"#fdca26\"], [1.0, \"#f0f921\"]], \"type\": \"histogram2dcontour\"}], \"mesh3d\": [{\"colorbar\": {\"outlinewidth\": 0, \"ticks\": \"\"}, \"type\": \"mesh3d\"}], \"parcoords\": [{\"line\": {\"colorbar\": {\"outlinewidth\": 0, \"ticks\": \"\"}}, \"type\": \"parcoords\"}], \"pie\": [{\"automargin\": true, \"type\": \"pie\"}], \"scatter\": [{\"marker\": {\"colorbar\": {\"outlinewidth\": 0, \"ticks\": \"\"}}, \"type\": \"scatter\"}], \"scatter3d\": [{\"line\": {\"colorbar\": {\"outlinewidth\": 0, \"ticks\": \"\"}}, \"marker\": {\"colorbar\": {\"outlinewidth\": 0, \"ticks\": \"\"}}, \"type\": \"scatter3d\"}], \"scattercarpet\": [{\"marker\": {\"colorbar\": {\"outlinewidth\": 0, \"ticks\": \"\"}}, \"type\": \"scattercarpet\"}], \"scattergeo\": [{\"marker\": {\"colorbar\": {\"outlinewidth\": 0, \"ticks\": \"\"}}, \"type\": \"scattergeo\"}], \"scattergl\": [{\"marker\": {\"colorbar\": {\"outlinewidth\": 0, \"ticks\": \"\"}}, \"type\": \"scattergl\"}], \"scattermapbox\": [{\"marker\": {\"colorbar\": {\"outlinewidth\": 0, \"ticks\": \"\"}}, \"type\": \"scattermapbox\"}], \"scatterpolar\": [{\"marker\": {\"colorbar\": {\"outlinewidth\": 0, \"ticks\": \"\"}}, \"type\": \"scatterpolar\"}], \"scatterpolargl\": [{\"marker\": {\"colorbar\": {\"outlinewidth\": 0, \"ticks\": \"\"}}, \"type\": \"scatterpolargl\"}], \"scatterternary\": [{\"marker\": {\"colorbar\": {\"outlinewidth\": 0, \"ticks\": \"\"}}, \"type\": \"scatterternary\"}], \"surface\": [{\"colorbar\": {\"outlinewidth\": 0, \"ticks\": \"\"}, \"colorscale\": [[0.0, \"#0d0887\"], [0.1111111111111111, \"#46039f\"], [0.2222222222222222, \"#7201a8\"], [0.3333333333333333, \"#9c179e\"], [0.4444444444444444, \"#bd3786\"], [0.5555555555555556, \"#d8576b\"], [0.6666666666666666, \"#ed7953\"], [0.7777777777777778, \"#fb9f3a\"], [0.8888888888888888, \"#fdca26\"], [1.0, \"#f0f921\"]], \"type\": \"surface\"}], \"table\": [{\"cells\": {\"fill\": {\"color\": \"#EBF0F8\"}, \"line\": {\"color\": \"white\"}}, \"header\": {\"fill\": {\"color\": \"#C8D4E3\"}, \"line\": {\"color\": \"white\"}}, \"type\": \"table\"}]}, \"layout\": {\"annotationdefaults\": {\"arrowcolor\": \"#2a3f5f\", \"arrowhead\": 0, \"arrowwidth\": 1}, \"coloraxis\": {\"colorbar\": {\"outlinewidth\": 0, \"ticks\": \"\"}}, \"colorscale\": {\"diverging\": [[0, \"#8e0152\"], [0.1, \"#c51b7d\"], [0.2, \"#de77ae\"], [0.3, \"#f1b6da\"], [0.4, \"#fde0ef\"], [0.5, \"#f7f7f7\"], [0.6, \"#e6f5d0\"], [0.7, \"#b8e186\"], [0.8, \"#7fbc41\"], [0.9, \"#4d9221\"], [1, \"#276419\"]], \"sequential\": [[0.0, \"#0d0887\"], [0.1111111111111111, \"#46039f\"], [0.2222222222222222, \"#7201a8\"], [0.3333333333333333, \"#9c179e\"], [0.4444444444444444, \"#bd3786\"], [0.5555555555555556, \"#d8576b\"], [0.6666666666666666, \"#ed7953\"], [0.7777777777777778, \"#fb9f3a\"], [0.8888888888888888, \"#fdca26\"], [1.0, \"#f0f921\"]], \"sequentialminus\": [[0.0, \"#0d0887\"], [0.1111111111111111, \"#46039f\"], [0.2222222222222222, \"#7201a8\"], [0.3333333333333333, \"#9c179e\"], [0.4444444444444444, \"#bd3786\"], [0.5555555555555556, \"#d8576b\"], [0.6666666666666666, \"#ed7953\"], [0.7777777777777778, \"#fb9f3a\"], [0.8888888888888888, \"#fdca26\"], [1.0, \"#f0f921\"]]}, \"colorway\": [\"#636efa\", \"#EF553B\", \"#00cc96\", \"#ab63fa\", \"#FFA15A\", \"#19d3f3\", \"#FF6692\", \"#B6E880\", \"#FF97FF\", \"#FECB52\"], \"font\": {\"color\": \"#2a3f5f\"}, \"geo\": {\"bgcolor\": \"white\", \"lakecolor\": \"white\", \"landcolor\": \"#E5ECF6\", \"showlakes\": true, \"showland\": true, \"subunitcolor\": \"white\"}, \"hoverlabel\": {\"align\": \"left\"}, \"hovermode\": \"closest\", \"mapbox\": {\"style\": \"light\"}, \"paper_bgcolor\": \"white\", \"plot_bgcolor\": \"#E5ECF6\", \"polar\": {\"angularaxis\": {\"gridcolor\": \"white\", \"linecolor\": \"white\", \"ticks\": \"\"}, \"bgcolor\": \"#E5ECF6\", \"radialaxis\": {\"gridcolor\": \"white\", \"linecolor\": \"white\", \"ticks\": \"\"}}, \"scene\": {\"xaxis\": {\"backgroundcolor\": \"#E5ECF6\", \"gridcolor\": \"white\", \"gridwidth\": 2, \"linecolor\": \"white\", \"showbackground\": true, \"ticks\": \"\", \"zerolinecolor\": \"white\"}, \"yaxis\": {\"backgroundcolor\": \"#E5ECF6\", \"gridcolor\": \"white\", \"gridwidth\": 2, \"linecolor\": \"white\", \"showbackground\": true, \"ticks\": \"\", \"zerolinecolor\": \"white\"}, \"zaxis\": {\"backgroundcolor\": \"#E5ECF6\", \"gridcolor\": \"white\", \"gridwidth\": 2, \"linecolor\": \"white\", \"showbackground\": true, \"ticks\": \"\", \"zerolinecolor\": \"white\"}}, \"shapedefaults\": {\"line\": {\"color\": \"#2a3f5f\"}}, \"ternary\": {\"aaxis\": {\"gridcolor\": \"white\", \"linecolor\": \"white\", \"ticks\": \"\"}, \"baxis\": {\"gridcolor\": \"white\", \"linecolor\": \"white\", \"ticks\": \"\"}, \"bgcolor\": \"#E5ECF6\", \"caxis\": {\"gridcolor\": \"white\", \"linecolor\": \"white\", \"ticks\": \"\"}}, \"title\": {\"x\": 0.05}, \"xaxis\": {\"automargin\": true, \"gridcolor\": \"white\", \"linecolor\": \"white\", \"ticks\": \"\", \"title\": {\"standoff\": 15}, \"zerolinecolor\": \"white\", \"zerolinewidth\": 2}, \"yaxis\": {\"automargin\": true, \"gridcolor\": \"white\", \"linecolor\": \"white\", \"ticks\": \"\", \"title\": {\"standoff\": 15}, \"zerolinecolor\": \"white\", \"zerolinewidth\": 2}}}, \"title\": {\"text\": \"Position Error\", \"x\": 0.48, \"xanchor\": \"center\", \"y\": 0.9, \"yanchor\": \"top\"}, \"xaxis\": {\"title\": {\"text\": \"Time (sec)\"}}, \"yaxis\": {\"title\": {\"text\": \"Position Error (m)\"}}},\n",
       "                        {\"responsive\": true}\n",
       "                    ).then(function(){\n",
       "                            \n",
       "var gd = document.getElementById('693ff49b-f137-4933-90ff-bff21555ccc4');\n",
       "var x = new MutationObserver(function (mutations, observer) {{\n",
       "        var display = window.getComputedStyle(gd).display;\n",
       "        if (!display || display === 'none') {{\n",
       "            console.log([gd, 'removed!']);\n",
       "            Plotly.purge(gd);\n",
       "            observer.disconnect();\n",
       "        }}\n",
       "}});\n",
       "\n",
       "// Listen for the removal of the full notebook cells\n",
       "var notebookContainer = gd.closest('#notebook-container');\n",
       "if (notebookContainer) {{\n",
       "    x.observe(notebookContainer, {childList: true});\n",
       "}}\n",
       "\n",
       "// Listen for the clearing of the current output cell\n",
       "var outputEl = gd.closest('.output');\n",
       "if (outputEl) {{\n",
       "    x.observe(outputEl, {childList: true});\n",
       "}}\n",
       "\n",
       "                        })\n",
       "                };\n",
       "                });\n",
       "            </script>\n",
       "        </div>"
      ]
     },
     "metadata": {},
     "output_type": "display_data"
    },
    {
     "data": {
      "application/vnd.plotly.v1+json": {
       "config": {
        "plotlyServerURL": "https://plot.ly"
       },
       "data": [
        {
         "line": {
          "width": 4
         },
         "name": "Estimated Velocity",
         "type": "scatter",
         "x": [
          0,
          0.2,
          0.4,
          0.6000000000000001,
          0.8,
          1,
          1.2000000000000002,
          1.4000000000000001,
          1.6,
          1.8,
          2,
          2.2,
          2.4000000000000004,
          2.6,
          2.8000000000000003,
          3,
          3.2,
          3.4000000000000004,
          3.6,
          3.8000000000000003,
          4,
          4.2,
          4.4,
          4.6000000000000005,
          4.800000000000001,
          5,
          5.2,
          5.4,
          5.6000000000000005,
          5.800000000000001,
          6,
          6.2,
          6.4,
          6.6000000000000005,
          6.800000000000001,
          7,
          7.2,
          7.4,
          7.6000000000000005,
          7.800000000000001,
          8,
          8.200000000000001,
          8.4,
          8.6,
          8.8,
          9,
          9.200000000000001,
          9.4,
          9.600000000000001,
          9.8,
          10,
          10.200000000000001,
          10.4,
          10.600000000000001,
          10.8,
          11,
          11.200000000000001,
          11.4,
          11.600000000000001,
          11.8,
          12,
          12.200000000000001,
          12.4,
          12.600000000000001,
          12.8,
          13,
          13.200000000000001,
          13.4,
          13.600000000000001,
          13.8,
          14,
          14.200000000000001,
          14.4,
          14.600000000000001,
          14.8,
          15,
          15.200000000000001,
          15.4,
          15.600000000000001,
          15.8,
          16,
          16.2,
          16.400000000000002,
          16.6,
          16.8,
          17,
          17.2,
          17.400000000000002,
          17.6,
          17.8,
          18,
          18.2,
          18.400000000000002,
          18.6,
          18.8,
          19,
          19.200000000000003,
          19.400000000000002,
          19.6,
          19.8,
          20,
          20.200000000000003,
          20.400000000000002,
          20.6,
          20.8,
          21,
          21.200000000000003,
          21.400000000000002,
          21.6,
          21.8,
          22,
          22.200000000000003,
          22.400000000000002,
          22.6,
          22.8,
          23,
          23.200000000000003,
          23.400000000000002,
          23.6,
          23.8,
          24,
          24.200000000000003,
          24.400000000000002,
          24.6,
          24.8,
          25,
          25.200000000000003,
          25.400000000000002,
          25.6,
          25.8,
          26,
          26.200000000000003,
          26.400000000000002,
          26.6,
          26.8,
          27,
          27.200000000000003,
          27.400000000000002,
          27.6,
          27.8,
          28,
          28.200000000000003,
          28.400000000000002,
          28.6,
          28.8,
          29,
          29.200000000000003,
          29.400000000000002,
          29.6,
          29.8,
          30
         ],
         "y": [
          100.32644959284309,
          100.16798741891306,
          100.07801743593437,
          100.0939865382982,
          100.20228247893031,
          100.37621395677557,
          100.55878639842317,
          100.82018568119814,
          101.13757985166426,
          101.50030932397196,
          101.90498171554741,
          102.31387966459947,
          102.77060055751481,
          103.2599424235535,
          103.79429674075712,
          104.37864974316068,
          104.98390939358822,
          105.63676690327952,
          106.30816363209463,
          107.04962344509663,
          107.8195416026469,
          108.60532859834,
          109.4394784823207,
          110.30544847582674,
          111.21865423765676,
          112.15563985081913,
          113.11998602700262,
          114.13417871558619,
          115.1797820062537,
          116.25592367785254,
          117.37398014703848,
          118.51201449668247,
          119.68759253971263,
          120.90842810764802,
          122.14793142923756,
          123.4192947966567,
          124.73067025857424,
          126.06781694397836,
          127.42932847316295,
          128.82272780998093,
          130.23768262355662,
          131.67762368311384,
          133.14968231429904,
          134.65636312655704,
          136.19003186351966,
          137.7437855897195,
          139.32435396571884,
          140.927987124461,
          142.5553304952775,
          144.20857268109958,
          145.88434937305428,
          147.5817096003114,
          149.29784400942913,
          151.03620489827392,
          152.78916699176074,
          154.56630102837843,
          156.3564839050952,
          158.15889923982476,
          159.98013088771035,
          161.82104341997305,
          163.67791522023072,
          165.5468833986046,
          167.4341414078521,
          169.33245381871396,
          171.24161663381798,
          173.1577544169649,
          175.08306368897613,
          177.02511652228108,
          178.97758539225552,
          180.93601794126914,
          182.90795259473518,
          184.87879886253552,
          186.86586269339608,
          188.86175304431998,
          190.85231368339743,
          192.83887247614516,
          194.8356882708042,
          196.82684561361918,
          198.826168452416,
          200.8191295759648,
          202.81199508110998,
          204.81519107412356,
          206.81604624116824,
          208.80871834048665,
          210.79001343234376,
          212.77260172069657,
          214.7594270392369,
          216.7376788667631,
          218.70839883217818,
          220.67340933572592,
          222.62577526873372,
          224.57007115251272,
          226.50824306161812,
          228.4273729965045,
          230.34054634121264,
          232.24515585978025,
          234.13272131538474,
          235.99612058494503,
          237.8512717798137,
          239.69977416152537,
          241.52862015234314,
          243.33849783220455,
          245.13193329100824,
          246.91259754978378,
          248.6721944525928,
          250.4038045503039,
          252.12372664735702,
          253.81730667179403,
          255.49048484717915,
          257.14324683641644,
          258.77039739114866,
          260.3761043797297,
          261.95824989879617,
          263.5206517528465,
          265.0498788492775,
          266.5544617857678,
          268.03265266510493,
          269.48605379496655,
          270.9118325277088,
          272.31354409866816,
          273.673445719954,
          275.0101575639451,
          276.3191124715411,
          277.59133778389133,
          278.83534182419083,
          280.050044126488,
          281.2310560067377,
          282.38046378306154,
          283.50044529322923,
          284.5808792319279,
          285.6281882778978,
          286.638169316135,
          287.61923555620365,
          288.5671865358424,
          289.4754936295486,
          290.34281202186577,
          291.1855361656116,
          291.9833532175462,
          292.7462781875343,
          293.47351957865413,
          294.16609508343305,
          294.8174539172431,
          295.4290411595705,
          296.00268691797146,
          296.5404424408552,
          297.034103717845,
          297.4960632911101,
          297.91077228631144,
          298.2904751662656,
          298.6343032884119,
          298.93518526275517
         ]
        },
        {
         "name": "True Velocity",
         "type": "scatter",
         "x": [
          0,
          0.2,
          0.4,
          0.6000000000000001,
          0.8,
          1,
          1.2000000000000002,
          1.4000000000000001,
          1.6,
          1.8,
          2,
          2.2,
          2.4000000000000004,
          2.6,
          2.8000000000000003,
          3,
          3.2,
          3.4000000000000004,
          3.6,
          3.8000000000000003,
          4,
          4.2,
          4.4,
          4.6000000000000005,
          4.800000000000001,
          5,
          5.2,
          5.4,
          5.6000000000000005,
          5.800000000000001,
          6,
          6.2,
          6.4,
          6.6000000000000005,
          6.800000000000001,
          7,
          7.2,
          7.4,
          7.6000000000000005,
          7.800000000000001,
          8,
          8.200000000000001,
          8.4,
          8.6,
          8.8,
          9,
          9.200000000000001,
          9.4,
          9.600000000000001,
          9.8,
          10,
          10.200000000000001,
          10.4,
          10.600000000000001,
          10.8,
          11,
          11.200000000000001,
          11.4,
          11.600000000000001,
          11.8,
          12,
          12.200000000000001,
          12.4,
          12.600000000000001,
          12.8,
          13,
          13.200000000000001,
          13.4,
          13.600000000000001,
          13.8,
          14,
          14.200000000000001,
          14.4,
          14.600000000000001,
          14.8,
          15,
          15.200000000000001,
          15.4,
          15.600000000000001,
          15.8,
          16,
          16.2,
          16.400000000000002,
          16.6,
          16.8,
          17,
          17.2,
          17.400000000000002,
          17.6,
          17.8,
          18,
          18.2,
          18.400000000000002,
          18.6,
          18.8,
          19,
          19.200000000000003,
          19.400000000000002,
          19.6,
          19.8,
          20,
          20.200000000000003,
          20.400000000000002,
          20.6,
          20.8,
          21,
          21.200000000000003,
          21.400000000000002,
          21.6,
          21.8,
          22,
          22.200000000000003,
          22.400000000000002,
          22.6,
          22.8,
          23,
          23.200000000000003,
          23.400000000000002,
          23.6,
          23.8,
          24,
          24.200000000000003,
          24.400000000000002,
          24.6,
          24.8,
          25,
          25.200000000000003,
          25.400000000000002,
          25.6,
          25.8,
          26,
          26.200000000000003,
          26.400000000000002,
          26.6,
          26.8,
          27,
          27.200000000000003,
          27.400000000000002,
          27.6,
          27.8,
          28,
          28.200000000000003,
          28.400000000000002,
          28.6,
          28.8,
          29,
          29.200000000000003,
          29.400000000000002,
          29.6,
          29.8,
          30
         ],
         "y": [
          99.94511018594436,
          99.96460955220265,
          100.02409978482554,
          100.12355708851314,
          100.26294168167017,
          100.44219781231773,
          100.6612537803936,
          100.92002196643126,
          101.21839886660655,
          101.55626513413763,
          101.9334856270224,
          102.34990946209322,
          102.80537007536819,
          103.29968528867485,
          103.83265738251868,
          104.40407317516824,
          105.01370410792534,
          105.66130633654511,
          106.34662082877074,
          107.0693734679427,
          107.82927516264188,
          108.62602196232235,
          109.45929517888737,
          110.32876151416043,
          111.23407319320016,
          112.17486810340563,
          113.15076993935655,
          114.16138835333032,
          115.20631911143616,
          116.28514425530298,
          117.39743226925744,
          118.54273825292425,
          119.72060409918046,
          120.93055867739224,
          122.17211802186085,
          123.44478552540237,
          124.74805213798408,
          126.0813965703376,
          127.44428550246768,
          128.83617379697307,
          130.25650471709423,
          131.7047101494007,
          133.18021083102855,
          134.68241658137825,
          136.21072653817882,
          137.76452939782467,
          139.34320365988918,
          140.94611787571614,
          142.57263090099121,
          144.22209215219067,
          145.8938418668067,
          147.58721136724316,
          149.30152332827777,
          151.03609204798332,
          152.7902237219993,
          154.563216721044,
          156.35436187155744,
          158.16294273936109,
          159.98823591622204,
          161.82951130920628,
          163.68603243270672,
          165.55705670302729,
          167.44183573540633,
          169.33961564336116,
          171.24963734023189,
          173.1711368428064,
          175.1033455769033,
          177.04549068479136,
          178.99679533432248,
          180.95647902965382,
          182.9237579234358,
          184.89784513034132,
          186.87795104180813,
          188.86328364187284,
          190.85304882396628,
          192.8464507085453,
          194.84269196143438,
          196.8409741127486,
          198.8404978762709,
          200.84046346915585,
          202.8400709318321,
          204.83852044797558,
          206.83501266442553,
          208.82874901091492,
          210.8189320194879,
          212.8047656434766,
          214.78545557590877,
          216.7602095672203,
          218.72823774214433,
          220.68875291565095,
          222.64097090781055,
          224.58411085745556,
          226.5173955345143,
          228.4400516508927,
          230.35131016977928,
          232.25040661324965,
          234.1365813680473,
          236.00907998941906,
          237.86715350288264,
          239.71005870380662,
          241.53705845468238,
          243.34742197996928,
          245.14042515839495,
          246.91535081259468,
          248.67148899597186,
          250.40813727666807,
          252.12460101852622,
          253.82019365893524,
          255.49423698344665,
          257.1460613970509,
          258.7750061920065,
          260.3804198121145,
          261.96166011333213,
          263.5180946206219,
          265.049100780933,
          266.5540662122143,
          268.0323889483593,
          269.4834776799846,
          270.90675199094454,
          272.30164259049195,
          273.66759154098526,
          275.0040524810564,
          276.3104908441486,
          277.58638407233605,
          278.83122182533856,
          280.0445061846528,
          281.22575185271194,
          282.3744863469986,
          283.4902501890313,
          284.5725970881499,
          285.6210941200256,
          286.63532189982544,
          287.6148747499604,
          288.5593608623513,
          289.4684024551458,
          290.34163592382737,
          291.1787119866515,
          291.9792958243537,
          292.7430672140734,
          293.46972065743824,
          294.1589655027595,
          294.81052606128856,
          295.42414171748965,
          295.9995670332815,
          296.53657184621005,
          297.03494136151016,
          297.49447623802075,
          297.914992667918,
          298.2963224502368,
          298.6383130581485,
          298.94082769996993
         ]
        },
        {
         "line": {
          "color": "green",
          "dash": "dash",
          "width": 1
         },
         "name": "$+ \\sigma$",
         "type": "scatter",
         "x": [
          0,
          0.2,
          0.4,
          0.6000000000000001,
          0.8,
          1,
          1.2000000000000002,
          1.4000000000000001,
          1.6,
          1.8,
          2,
          2.2,
          2.4000000000000004,
          2.6,
          2.8000000000000003,
          3,
          3.2,
          3.4000000000000004,
          3.6,
          3.8000000000000003,
          4,
          4.2,
          4.4,
          4.6000000000000005,
          4.800000000000001,
          5,
          5.2,
          5.4,
          5.6000000000000005,
          5.800000000000001,
          6,
          6.2,
          6.4,
          6.6000000000000005,
          6.800000000000001,
          7,
          7.2,
          7.4,
          7.6000000000000005,
          7.800000000000001,
          8,
          8.200000000000001,
          8.4,
          8.6,
          8.8,
          9,
          9.200000000000001,
          9.4,
          9.600000000000001,
          9.8,
          10,
          10.200000000000001,
          10.4,
          10.600000000000001,
          10.8,
          11,
          11.200000000000001,
          11.4,
          11.600000000000001,
          11.8,
          12,
          12.200000000000001,
          12.4,
          12.600000000000001,
          12.8,
          13,
          13.200000000000001,
          13.4,
          13.600000000000001,
          13.8,
          14,
          14.200000000000001,
          14.4,
          14.600000000000001,
          14.8,
          15,
          15.200000000000001,
          15.4,
          15.600000000000001,
          15.8,
          16,
          16.2,
          16.400000000000002,
          16.6,
          16.8,
          17,
          17.2,
          17.400000000000002,
          17.6,
          17.8,
          18,
          18.2,
          18.400000000000002,
          18.6,
          18.8,
          19,
          19.200000000000003,
          19.400000000000002,
          19.6,
          19.8,
          20,
          20.200000000000003,
          20.400000000000002,
          20.6,
          20.8,
          21,
          21.200000000000003,
          21.400000000000002,
          21.6,
          21.8,
          22,
          22.200000000000003,
          22.400000000000002,
          22.6,
          22.8,
          23,
          23.200000000000003,
          23.400000000000002,
          23.6,
          23.8,
          24,
          24.200000000000003,
          24.400000000000002,
          24.6,
          24.8,
          25,
          25.200000000000003,
          25.400000000000002,
          25.6,
          25.8,
          26,
          26.200000000000003,
          26.400000000000002,
          26.6,
          26.8,
          27,
          27.200000000000003,
          27.400000000000002,
          27.6,
          27.8,
          28,
          28.200000000000003,
          28.400000000000002,
          28.6,
          28.8,
          29,
          29.200000000000003,
          29.400000000000002,
          29.6,
          29.8,
          30
         ],
         "y": [
          100.36641763119196,
          100.19784578098754,
          100.10637806017199,
          100.12234818269543,
          100.23024456055484,
          100.40337144088524,
          100.58497366296591,
          100.84538460579293,
          101.16183885029078,
          101.52370105728752,
          101.92758379565132,
          102.33576652311253,
          102.79184042341292,
          103.28059657055566,
          103.8144197003452,
          104.39828988864733,
          105.00310962745424,
          105.65556533139495,
          106.32659417870674,
          107.06771639475438,
          107.83732406956625,
          108.62282492954614,
          109.45671060275318,
          110.32243618364089,
          111.23541545725237,
          112.1721908501758,
          113.13634160493135,
          114.1503523636167,
          115.19578604910033,
          116.27176939574197,
          117.38967788263142,
          118.52757374886436,
          119.7030220461514,
          120.92373591770637,
          122.16312496857137,
          123.43438092462081,
          124.74565531938207,
          126.08270681241824,
          127.44412859555413,
          128.8374432409526,
          130.25231805915004,
          131.6921834906379,
          133.16417055931066,
          134.67078359728865,
          136.20438809303346,
          137.75808087603292,
          139.33859139011489,
          140.94216956817107,
          142.5694606547022,
          144.22265308171296,
          145.89838238212116,
          147.59569743853197,
          149.31178876161317,
          151.05010852313544,
          152.80303133091428,
          154.58012781461002,
          156.37027476997315,
          158.17265572070906,
          159.99385443421335,
          161.83473539991962,
          163.6915769251604,
          165.56051604885502,
          167.44774615725888,
          169.34603175895913,
          171.25516879845594,
          173.1712817851524,
          175.09656718893027,
          177.03859703448734,
          178.99104375244553,
          180.94945494318677,
          182.92136899270736,
          184.89219537386316,
          186.87924000057882,
          188.87511179712783,
          190.8656545008007,
          192.85219594811352,
          194.84899495998488,
          196.84013605690282,
          198.83944316239922,
          200.8323890423164,
          202.82523977184817,
          204.82842143681066,
          206.82926270402862,
          208.8219213134537,
          210.8032033080405,
          212.78577887535513,
          214.77259183356063,
          216.75083164673563,
          218.721539929823,
          220.68653906981993,
          222.63889394547775,
          224.58317906616205,
          226.52134049507572,
          228.44046022187942,
          230.35362362034581,
          232.25822344473988,
          234.1457794489335,
          236.00916950098045,
          237.86431170378384,
          239.71280531082132,
          241.54164273666956,
          243.35151205392998,
          245.14493934549623,
          246.9255956257061,
          248.6851847322259,
          250.41678720980948,
          252.13670185704783,
          253.83027459638578,
          255.50344564602932,
          257.1562006637508,
          258.78334439627616,
          260.3890447072465,
          261.97118368877943,
          263.53357914103856,
          265.0627999672608,
          266.5673767611314,
          268.0455616216029,
          269.4989568526684,
          270.92472980314324,
          272.32643570495975,
          273.6863317669533,
          275.0230381583528,
          276.3319877170265,
          277.6042077812054,
          278.8482066712738,
          280.06290391857243,
          281.24391083644684,
          282.3933137405033,
          283.5132904660857,
          284.5937197055416,
          285.6410241353535,
          286.65100063833864,
          287.6320624219571,
          288.58000902191594,
          289.48831181074974,
          290.35562597110527,
          291.19834595396696,
          291.9961589143225,
          292.7590798603223,
          293.4863172933863,
          294.1788889044372,
          294.83024390729395,
          295.44182737993907,
          296.01546942847284,
          296.5532212998939,
          297.0468789824591,
          297.5088350170133,
          297.92354052793394,
          298.3032399767929,
          298.64706471982254,
          298.9479433658569
         ]
        },
        {
         "line": {
          "color": "firebrick",
          "dash": "dash",
          "width": 1
         },
         "name": "$-\\sigma$",
         "type": "scatter",
         "x": [
          0,
          0.2,
          0.4,
          0.6000000000000001,
          0.8,
          1,
          1.2000000000000002,
          1.4000000000000001,
          1.6,
          1.8,
          2,
          2.2,
          2.4000000000000004,
          2.6,
          2.8000000000000003,
          3,
          3.2,
          3.4000000000000004,
          3.6,
          3.8000000000000003,
          4,
          4.2,
          4.4,
          4.6000000000000005,
          4.800000000000001,
          5,
          5.2,
          5.4,
          5.6000000000000005,
          5.800000000000001,
          6,
          6.2,
          6.4,
          6.6000000000000005,
          6.800000000000001,
          7,
          7.2,
          7.4,
          7.6000000000000005,
          7.800000000000001,
          8,
          8.200000000000001,
          8.4,
          8.6,
          8.8,
          9,
          9.200000000000001,
          9.4,
          9.600000000000001,
          9.8,
          10,
          10.200000000000001,
          10.4,
          10.600000000000001,
          10.8,
          11,
          11.200000000000001,
          11.4,
          11.600000000000001,
          11.8,
          12,
          12.200000000000001,
          12.4,
          12.600000000000001,
          12.8,
          13,
          13.200000000000001,
          13.4,
          13.600000000000001,
          13.8,
          14,
          14.200000000000001,
          14.4,
          14.600000000000001,
          14.8,
          15,
          15.200000000000001,
          15.4,
          15.600000000000001,
          15.8,
          16,
          16.2,
          16.400000000000002,
          16.6,
          16.8,
          17,
          17.2,
          17.400000000000002,
          17.6,
          17.8,
          18,
          18.2,
          18.400000000000002,
          18.6,
          18.8,
          19,
          19.200000000000003,
          19.400000000000002,
          19.6,
          19.8,
          20,
          20.200000000000003,
          20.400000000000002,
          20.6,
          20.8,
          21,
          21.200000000000003,
          21.400000000000002,
          21.6,
          21.8,
          22,
          22.200000000000003,
          22.400000000000002,
          22.6,
          22.8,
          23,
          23.200000000000003,
          23.400000000000002,
          23.6,
          23.8,
          24,
          24.200000000000003,
          24.400000000000002,
          24.6,
          24.8,
          25,
          25.200000000000003,
          25.400000000000002,
          25.6,
          25.8,
          26,
          26.200000000000003,
          26.400000000000002,
          26.6,
          26.8,
          27,
          27.200000000000003,
          27.400000000000002,
          27.6,
          27.8,
          28,
          28.200000000000003,
          28.400000000000002,
          28.6,
          28.8,
          29,
          29.200000000000003,
          29.400000000000002,
          29.6,
          29.8,
          30
         ],
         "y": [
          100.28648155449422,
          100.13812905683858,
          100.04965681169675,
          100.06562489390096,
          100.17432039730579,
          100.34905647266591,
          100.53259913388042,
          100.79498675660335,
          101.11332085303773,
          101.4769175906564,
          101.8823796354435,
          102.29199280608641,
          102.7493606916167,
          103.23928827655133,
          103.77417378116904,
          104.35900959767403,
          104.9647091597222,
          105.61796847516409,
          106.28973308548252,
          107.03153049543887,
          107.80175913572754,
          108.58783226713385,
          109.42224636188821,
          110.28846076801258,
          111.20189301806116,
          112.13908885146246,
          113.1036304490739,
          114.11800506755567,
          115.16377796340707,
          116.2400779599631,
          117.35828241144554,
          118.49645524450058,
          119.67216303327385,
          120.89312029758968,
          122.13273788990375,
          123.40420866869259,
          124.7156851977664,
          126.05292707553848,
          127.41452835077177,
          128.80801237900926,
          130.2230471879632,
          131.66306387558978,
          133.13519406928742,
          134.64194265582543,
          136.17567563400587,
          137.72949030340607,
          139.3101165413228,
          140.91380468075093,
          142.5412003358528,
          144.1944922804862,
          145.8703163639874,
          147.56772176209083,
          149.28389925724508,
          151.0223012734124,
          152.7753026526072,
          154.55247424214684,
          156.34269304021723,
          158.14514275894047,
          159.96640734120734,
          161.80735144002648,
          163.66425351530103,
          165.53325074835416,
          167.42053665844534,
          169.3188758784688,
          171.22806446918003,
          173.14422704877742,
          175.06956018902198,
          177.01163601007482,
          178.9641270320655,
          180.92258093935152,
          182.894536196763,
          184.86540235120788,
          186.85248538621335,
          188.84839429151214,
          190.83897286599415,
          192.8255490041768,
          194.82238158162355,
          196.81355517033555,
          198.81289374243278,
          200.8058701096132,
          202.7987503903718,
          204.80196071143646,
          206.80282977830785,
          208.7955153675196,
          210.776823556647,
          212.759424566038,
          214.74626224491317,
          216.72452608679058,
          218.69525773453336,
          220.6602796016319,
          222.6126565919897,
          224.5569632388634,
          226.49514562816051,
          228.41428577112956,
          230.32746906207947,
          232.23208827482063,
          234.119663181836,
          235.98307166890962,
          237.83823185584353,
          239.6867430122294,
          241.51559756801672,
          243.32548361047913,
          245.11892723652025,
          246.89959947386146,
          248.6592041729597,
          250.39082189079832,
          252.1107514376662,
          253.80433874720228,
          255.47752404832897,
          257.1302930090821,
          258.75745038602116,
          260.36316405221294,
          261.9453161088129,
          263.50772436465445,
          265.0369577312942,
          266.54154681040416,
          268.019743708607,
          269.4731507372647,
          270.8989352522743,
          272.30065249237657,
          273.66055967295466,
          274.9972769695374,
          276.30623722605566,
          277.5784677865773,
          278.8224769771079,
          280.03718433440355,
          281.2182011770285,
          282.3676138256198,
          283.48760012037275,
          284.5680387583142,
          285.61535242044204,
          286.6253379939314,
          287.6064086904502,
          288.5543640497688,
          289.4626754483475,
          290.32999807262627,
          291.17272637725625,
          291.9705475207699,
          292.7334765147463,
          293.46072186392195,
          294.1533012624289,
          294.8046639271922,
          295.4162549392019,
          295.9899044074701,
          296.5276635818165,
          297.021328453231,
          297.48329156520686,
          297.89800404468895,
          298.2777103557383,
          298.62154185700126,
          298.92242715965347
         ]
        }
       ],
       "layout": {
        "template": {
         "data": {
          "bar": [
           {
            "error_x": {
             "color": "#2a3f5f"
            },
            "error_y": {
             "color": "#2a3f5f"
            },
            "marker": {
             "line": {
              "color": "#E5ECF6",
              "width": 0.5
             }
            },
            "type": "bar"
           }
          ],
          "barpolar": [
           {
            "marker": {
             "line": {
              "color": "#E5ECF6",
              "width": 0.5
             }
            },
            "type": "barpolar"
           }
          ],
          "carpet": [
           {
            "aaxis": {
             "endlinecolor": "#2a3f5f",
             "gridcolor": "white",
             "linecolor": "white",
             "minorgridcolor": "white",
             "startlinecolor": "#2a3f5f"
            },
            "baxis": {
             "endlinecolor": "#2a3f5f",
             "gridcolor": "white",
             "linecolor": "white",
             "minorgridcolor": "white",
             "startlinecolor": "#2a3f5f"
            },
            "type": "carpet"
           }
          ],
          "choropleth": [
           {
            "colorbar": {
             "outlinewidth": 0,
             "ticks": ""
            },
            "type": "choropleth"
           }
          ],
          "contour": [
           {
            "colorbar": {
             "outlinewidth": 0,
             "ticks": ""
            },
            "colorscale": [
             [
              0,
              "#0d0887"
             ],
             [
              0.1111111111111111,
              "#46039f"
             ],
             [
              0.2222222222222222,
              "#7201a8"
             ],
             [
              0.3333333333333333,
              "#9c179e"
             ],
             [
              0.4444444444444444,
              "#bd3786"
             ],
             [
              0.5555555555555556,
              "#d8576b"
             ],
             [
              0.6666666666666666,
              "#ed7953"
             ],
             [
              0.7777777777777778,
              "#fb9f3a"
             ],
             [
              0.8888888888888888,
              "#fdca26"
             ],
             [
              1,
              "#f0f921"
             ]
            ],
            "type": "contour"
           }
          ],
          "contourcarpet": [
           {
            "colorbar": {
             "outlinewidth": 0,
             "ticks": ""
            },
            "type": "contourcarpet"
           }
          ],
          "heatmap": [
           {
            "colorbar": {
             "outlinewidth": 0,
             "ticks": ""
            },
            "colorscale": [
             [
              0,
              "#0d0887"
             ],
             [
              0.1111111111111111,
              "#46039f"
             ],
             [
              0.2222222222222222,
              "#7201a8"
             ],
             [
              0.3333333333333333,
              "#9c179e"
             ],
             [
              0.4444444444444444,
              "#bd3786"
             ],
             [
              0.5555555555555556,
              "#d8576b"
             ],
             [
              0.6666666666666666,
              "#ed7953"
             ],
             [
              0.7777777777777778,
              "#fb9f3a"
             ],
             [
              0.8888888888888888,
              "#fdca26"
             ],
             [
              1,
              "#f0f921"
             ]
            ],
            "type": "heatmap"
           }
          ],
          "heatmapgl": [
           {
            "colorbar": {
             "outlinewidth": 0,
             "ticks": ""
            },
            "colorscale": [
             [
              0,
              "#0d0887"
             ],
             [
              0.1111111111111111,
              "#46039f"
             ],
             [
              0.2222222222222222,
              "#7201a8"
             ],
             [
              0.3333333333333333,
              "#9c179e"
             ],
             [
              0.4444444444444444,
              "#bd3786"
             ],
             [
              0.5555555555555556,
              "#d8576b"
             ],
             [
              0.6666666666666666,
              "#ed7953"
             ],
             [
              0.7777777777777778,
              "#fb9f3a"
             ],
             [
              0.8888888888888888,
              "#fdca26"
             ],
             [
              1,
              "#f0f921"
             ]
            ],
            "type": "heatmapgl"
           }
          ],
          "histogram": [
           {
            "marker": {
             "colorbar": {
              "outlinewidth": 0,
              "ticks": ""
             }
            },
            "type": "histogram"
           }
          ],
          "histogram2d": [
           {
            "colorbar": {
             "outlinewidth": 0,
             "ticks": ""
            },
            "colorscale": [
             [
              0,
              "#0d0887"
             ],
             [
              0.1111111111111111,
              "#46039f"
             ],
             [
              0.2222222222222222,
              "#7201a8"
             ],
             [
              0.3333333333333333,
              "#9c179e"
             ],
             [
              0.4444444444444444,
              "#bd3786"
             ],
             [
              0.5555555555555556,
              "#d8576b"
             ],
             [
              0.6666666666666666,
              "#ed7953"
             ],
             [
              0.7777777777777778,
              "#fb9f3a"
             ],
             [
              0.8888888888888888,
              "#fdca26"
             ],
             [
              1,
              "#f0f921"
             ]
            ],
            "type": "histogram2d"
           }
          ],
          "histogram2dcontour": [
           {
            "colorbar": {
             "outlinewidth": 0,
             "ticks": ""
            },
            "colorscale": [
             [
              0,
              "#0d0887"
             ],
             [
              0.1111111111111111,
              "#46039f"
             ],
             [
              0.2222222222222222,
              "#7201a8"
             ],
             [
              0.3333333333333333,
              "#9c179e"
             ],
             [
              0.4444444444444444,
              "#bd3786"
             ],
             [
              0.5555555555555556,
              "#d8576b"
             ],
             [
              0.6666666666666666,
              "#ed7953"
             ],
             [
              0.7777777777777778,
              "#fb9f3a"
             ],
             [
              0.8888888888888888,
              "#fdca26"
             ],
             [
              1,
              "#f0f921"
             ]
            ],
            "type": "histogram2dcontour"
           }
          ],
          "mesh3d": [
           {
            "colorbar": {
             "outlinewidth": 0,
             "ticks": ""
            },
            "type": "mesh3d"
           }
          ],
          "parcoords": [
           {
            "line": {
             "colorbar": {
              "outlinewidth": 0,
              "ticks": ""
             }
            },
            "type": "parcoords"
           }
          ],
          "pie": [
           {
            "automargin": true,
            "type": "pie"
           }
          ],
          "scatter": [
           {
            "marker": {
             "colorbar": {
              "outlinewidth": 0,
              "ticks": ""
             }
            },
            "type": "scatter"
           }
          ],
          "scatter3d": [
           {
            "line": {
             "colorbar": {
              "outlinewidth": 0,
              "ticks": ""
             }
            },
            "marker": {
             "colorbar": {
              "outlinewidth": 0,
              "ticks": ""
             }
            },
            "type": "scatter3d"
           }
          ],
          "scattercarpet": [
           {
            "marker": {
             "colorbar": {
              "outlinewidth": 0,
              "ticks": ""
             }
            },
            "type": "scattercarpet"
           }
          ],
          "scattergeo": [
           {
            "marker": {
             "colorbar": {
              "outlinewidth": 0,
              "ticks": ""
             }
            },
            "type": "scattergeo"
           }
          ],
          "scattergl": [
           {
            "marker": {
             "colorbar": {
              "outlinewidth": 0,
              "ticks": ""
             }
            },
            "type": "scattergl"
           }
          ],
          "scattermapbox": [
           {
            "marker": {
             "colorbar": {
              "outlinewidth": 0,
              "ticks": ""
             }
            },
            "type": "scattermapbox"
           }
          ],
          "scatterpolar": [
           {
            "marker": {
             "colorbar": {
              "outlinewidth": 0,
              "ticks": ""
             }
            },
            "type": "scatterpolar"
           }
          ],
          "scatterpolargl": [
           {
            "marker": {
             "colorbar": {
              "outlinewidth": 0,
              "ticks": ""
             }
            },
            "type": "scatterpolargl"
           }
          ],
          "scatterternary": [
           {
            "marker": {
             "colorbar": {
              "outlinewidth": 0,
              "ticks": ""
             }
            },
            "type": "scatterternary"
           }
          ],
          "surface": [
           {
            "colorbar": {
             "outlinewidth": 0,
             "ticks": ""
            },
            "colorscale": [
             [
              0,
              "#0d0887"
             ],
             [
              0.1111111111111111,
              "#46039f"
             ],
             [
              0.2222222222222222,
              "#7201a8"
             ],
             [
              0.3333333333333333,
              "#9c179e"
             ],
             [
              0.4444444444444444,
              "#bd3786"
             ],
             [
              0.5555555555555556,
              "#d8576b"
             ],
             [
              0.6666666666666666,
              "#ed7953"
             ],
             [
              0.7777777777777778,
              "#fb9f3a"
             ],
             [
              0.8888888888888888,
              "#fdca26"
             ],
             [
              1,
              "#f0f921"
             ]
            ],
            "type": "surface"
           }
          ],
          "table": [
           {
            "cells": {
             "fill": {
              "color": "#EBF0F8"
             },
             "line": {
              "color": "white"
             }
            },
            "header": {
             "fill": {
              "color": "#C8D4E3"
             },
             "line": {
              "color": "white"
             }
            },
            "type": "table"
           }
          ]
         },
         "layout": {
          "annotationdefaults": {
           "arrowcolor": "#2a3f5f",
           "arrowhead": 0,
           "arrowwidth": 1
          },
          "coloraxis": {
           "colorbar": {
            "outlinewidth": 0,
            "ticks": ""
           }
          },
          "colorscale": {
           "diverging": [
            [
             0,
             "#8e0152"
            ],
            [
             0.1,
             "#c51b7d"
            ],
            [
             0.2,
             "#de77ae"
            ],
            [
             0.3,
             "#f1b6da"
            ],
            [
             0.4,
             "#fde0ef"
            ],
            [
             0.5,
             "#f7f7f7"
            ],
            [
             0.6,
             "#e6f5d0"
            ],
            [
             0.7,
             "#b8e186"
            ],
            [
             0.8,
             "#7fbc41"
            ],
            [
             0.9,
             "#4d9221"
            ],
            [
             1,
             "#276419"
            ]
           ],
           "sequential": [
            [
             0,
             "#0d0887"
            ],
            [
             0.1111111111111111,
             "#46039f"
            ],
            [
             0.2222222222222222,
             "#7201a8"
            ],
            [
             0.3333333333333333,
             "#9c179e"
            ],
            [
             0.4444444444444444,
             "#bd3786"
            ],
            [
             0.5555555555555556,
             "#d8576b"
            ],
            [
             0.6666666666666666,
             "#ed7953"
            ],
            [
             0.7777777777777778,
             "#fb9f3a"
            ],
            [
             0.8888888888888888,
             "#fdca26"
            ],
            [
             1,
             "#f0f921"
            ]
           ],
           "sequentialminus": [
            [
             0,
             "#0d0887"
            ],
            [
             0.1111111111111111,
             "#46039f"
            ],
            [
             0.2222222222222222,
             "#7201a8"
            ],
            [
             0.3333333333333333,
             "#9c179e"
            ],
            [
             0.4444444444444444,
             "#bd3786"
            ],
            [
             0.5555555555555556,
             "#d8576b"
            ],
            [
             0.6666666666666666,
             "#ed7953"
            ],
            [
             0.7777777777777778,
             "#fb9f3a"
            ],
            [
             0.8888888888888888,
             "#fdca26"
            ],
            [
             1,
             "#f0f921"
            ]
           ]
          },
          "colorway": [
           "#636efa",
           "#EF553B",
           "#00cc96",
           "#ab63fa",
           "#FFA15A",
           "#19d3f3",
           "#FF6692",
           "#B6E880",
           "#FF97FF",
           "#FECB52"
          ],
          "font": {
           "color": "#2a3f5f"
          },
          "geo": {
           "bgcolor": "white",
           "lakecolor": "white",
           "landcolor": "#E5ECF6",
           "showlakes": true,
           "showland": true,
           "subunitcolor": "white"
          },
          "hoverlabel": {
           "align": "left"
          },
          "hovermode": "closest",
          "mapbox": {
           "style": "light"
          },
          "paper_bgcolor": "white",
          "plot_bgcolor": "#E5ECF6",
          "polar": {
           "angularaxis": {
            "gridcolor": "white",
            "linecolor": "white",
            "ticks": ""
           },
           "bgcolor": "#E5ECF6",
           "radialaxis": {
            "gridcolor": "white",
            "linecolor": "white",
            "ticks": ""
           }
          },
          "scene": {
           "xaxis": {
            "backgroundcolor": "#E5ECF6",
            "gridcolor": "white",
            "gridwidth": 2,
            "linecolor": "white",
            "showbackground": true,
            "ticks": "",
            "zerolinecolor": "white"
           },
           "yaxis": {
            "backgroundcolor": "#E5ECF6",
            "gridcolor": "white",
            "gridwidth": 2,
            "linecolor": "white",
            "showbackground": true,
            "ticks": "",
            "zerolinecolor": "white"
           },
           "zaxis": {
            "backgroundcolor": "#E5ECF6",
            "gridcolor": "white",
            "gridwidth": 2,
            "linecolor": "white",
            "showbackground": true,
            "ticks": "",
            "zerolinecolor": "white"
           }
          },
          "shapedefaults": {
           "line": {
            "color": "#2a3f5f"
           }
          },
          "ternary": {
           "aaxis": {
            "gridcolor": "white",
            "linecolor": "white",
            "ticks": ""
           },
           "baxis": {
            "gridcolor": "white",
            "linecolor": "white",
            "ticks": ""
           },
           "bgcolor": "#E5ECF6",
           "caxis": {
            "gridcolor": "white",
            "linecolor": "white",
            "ticks": ""
           }
          },
          "title": {
           "x": 0.05
          },
          "xaxis": {
           "automargin": true,
           "gridcolor": "white",
           "linecolor": "white",
           "ticks": "",
           "title": {
            "standoff": 15
           },
           "zerolinecolor": "white",
           "zerolinewidth": 2
          },
          "yaxis": {
           "automargin": true,
           "gridcolor": "white",
           "linecolor": "white",
           "ticks": "",
           "title": {
            "standoff": 15
           },
           "zerolinecolor": "white",
           "zerolinewidth": 2
          }
         }
        },
        "title": {
         "text": "True Velocity vs. Estimated Velocity",
         "x": 0.48,
         "xanchor": "center",
         "y": 0.9,
         "yanchor": "top"
        },
        "xaxis": {
         "title": {
          "text": "Time (sec)"
         }
        },
        "yaxis": {
         "title": {
          "text": "Velocity Error (m/s)"
         }
        }
       }
      },
      "text/html": [
       "<div>\n",
       "        \n",
       "        \n",
       "            <div id=\"87d191d3-c5c8-4ec3-b9b5-7f9acc2c4153\" class=\"plotly-graph-div\" style=\"height:525px; width:100%;\"></div>\n",
       "            <script type=\"text/javascript\">\n",
       "                require([\"plotly\"], function(Plotly) {\n",
       "                    window.PLOTLYENV=window.PLOTLYENV || {};\n",
       "                    \n",
       "                if (document.getElementById(\"87d191d3-c5c8-4ec3-b9b5-7f9acc2c4153\")) {\n",
       "                    Plotly.newPlot(\n",
       "                        '87d191d3-c5c8-4ec3-b9b5-7f9acc2c4153',\n",
       "                        [{\"line\": {\"width\": 4}, \"name\": \"Estimated Velocity\", \"type\": \"scatter\", \"x\": [0.0, 0.2, 0.4, 0.6000000000000001, 0.8, 1.0, 1.2000000000000002, 1.4000000000000001, 1.6, 1.8, 2.0, 2.2, 2.4000000000000004, 2.6, 2.8000000000000003, 3.0, 3.2, 3.4000000000000004, 3.6, 3.8000000000000003, 4.0, 4.2, 4.4, 4.6000000000000005, 4.800000000000001, 5.0, 5.2, 5.4, 5.6000000000000005, 5.800000000000001, 6.0, 6.2, 6.4, 6.6000000000000005, 6.800000000000001, 7.0, 7.2, 7.4, 7.6000000000000005, 7.800000000000001, 8.0, 8.200000000000001, 8.4, 8.6, 8.8, 9.0, 9.200000000000001, 9.4, 9.600000000000001, 9.8, 10.0, 10.200000000000001, 10.4, 10.600000000000001, 10.8, 11.0, 11.200000000000001, 11.4, 11.600000000000001, 11.8, 12.0, 12.200000000000001, 12.4, 12.600000000000001, 12.8, 13.0, 13.200000000000001, 13.4, 13.600000000000001, 13.8, 14.0, 14.200000000000001, 14.4, 14.600000000000001, 14.8, 15.0, 15.200000000000001, 15.4, 15.600000000000001, 15.8, 16.0, 16.2, 16.400000000000002, 16.6, 16.8, 17.0, 17.2, 17.400000000000002, 17.6, 17.8, 18.0, 18.2, 18.400000000000002, 18.6, 18.8, 19.0, 19.200000000000003, 19.400000000000002, 19.6, 19.8, 20.0, 20.200000000000003, 20.400000000000002, 20.6, 20.8, 21.0, 21.200000000000003, 21.400000000000002, 21.6, 21.8, 22.0, 22.200000000000003, 22.400000000000002, 22.6, 22.8, 23.0, 23.200000000000003, 23.400000000000002, 23.6, 23.8, 24.0, 24.200000000000003, 24.400000000000002, 24.6, 24.8, 25.0, 25.200000000000003, 25.400000000000002, 25.6, 25.8, 26.0, 26.200000000000003, 26.400000000000002, 26.6, 26.8, 27.0, 27.200000000000003, 27.400000000000002, 27.6, 27.8, 28.0, 28.200000000000003, 28.400000000000002, 28.6, 28.8, 29.0, 29.200000000000003, 29.400000000000002, 29.6, 29.8, 30.0], \"y\": [100.32644959284309, 100.16798741891306, 100.07801743593437, 100.0939865382982, 100.20228247893031, 100.37621395677557, 100.55878639842317, 100.82018568119814, 101.13757985166426, 101.50030932397196, 101.90498171554741, 102.31387966459947, 102.77060055751481, 103.2599424235535, 103.79429674075712, 104.37864974316068, 104.98390939358822, 105.63676690327952, 106.30816363209463, 107.04962344509663, 107.8195416026469, 108.60532859834, 109.4394784823207, 110.30544847582674, 111.21865423765676, 112.15563985081913, 113.11998602700262, 114.13417871558619, 115.1797820062537, 116.25592367785254, 117.37398014703848, 118.51201449668247, 119.68759253971263, 120.90842810764802, 122.14793142923756, 123.4192947966567, 124.73067025857424, 126.06781694397836, 127.42932847316295, 128.82272780998093, 130.23768262355662, 131.67762368311384, 133.14968231429904, 134.65636312655704, 136.19003186351966, 137.7437855897195, 139.32435396571884, 140.927987124461, 142.5553304952775, 144.20857268109958, 145.88434937305428, 147.5817096003114, 149.29784400942913, 151.03620489827392, 152.78916699176074, 154.56630102837843, 156.3564839050952, 158.15889923982476, 159.98013088771035, 161.82104341997305, 163.67791522023072, 165.5468833986046, 167.4341414078521, 169.33245381871396, 171.24161663381798, 173.1577544169649, 175.08306368897613, 177.02511652228108, 178.97758539225552, 180.93601794126914, 182.90795259473518, 184.87879886253552, 186.86586269339608, 188.86175304431998, 190.85231368339743, 192.83887247614516, 194.8356882708042, 196.82684561361918, 198.826168452416, 200.8191295759648, 202.81199508110998, 204.81519107412356, 206.81604624116824, 208.80871834048665, 210.79001343234376, 212.77260172069657, 214.7594270392369, 216.7376788667631, 218.70839883217818, 220.67340933572592, 222.62577526873372, 224.57007115251272, 226.50824306161812, 228.4273729965045, 230.34054634121264, 232.24515585978025, 234.13272131538474, 235.99612058494503, 237.8512717798137, 239.69977416152537, 241.52862015234314, 243.33849783220455, 245.13193329100824, 246.91259754978378, 248.6721944525928, 250.4038045503039, 252.12372664735702, 253.81730667179403, 255.49048484717915, 257.14324683641644, 258.77039739114866, 260.3761043797297, 261.95824989879617, 263.5206517528465, 265.0498788492775, 266.5544617857678, 268.03265266510493, 269.48605379496655, 270.9118325277088, 272.31354409866816, 273.673445719954, 275.0101575639451, 276.3191124715411, 277.59133778389133, 278.83534182419083, 280.050044126488, 281.2310560067377, 282.38046378306154, 283.50044529322923, 284.5808792319279, 285.6281882778978, 286.638169316135, 287.61923555620365, 288.5671865358424, 289.4754936295486, 290.34281202186577, 291.1855361656116, 291.9833532175462, 292.7462781875343, 293.47351957865413, 294.16609508343305, 294.8174539172431, 295.4290411595705, 296.00268691797146, 296.5404424408552, 297.034103717845, 297.4960632911101, 297.91077228631144, 298.2904751662656, 298.6343032884119, 298.93518526275517]}, {\"name\": \"True Velocity\", \"type\": \"scatter\", \"x\": [0.0, 0.2, 0.4, 0.6000000000000001, 0.8, 1.0, 1.2000000000000002, 1.4000000000000001, 1.6, 1.8, 2.0, 2.2, 2.4000000000000004, 2.6, 2.8000000000000003, 3.0, 3.2, 3.4000000000000004, 3.6, 3.8000000000000003, 4.0, 4.2, 4.4, 4.6000000000000005, 4.800000000000001, 5.0, 5.2, 5.4, 5.6000000000000005, 5.800000000000001, 6.0, 6.2, 6.4, 6.6000000000000005, 6.800000000000001, 7.0, 7.2, 7.4, 7.6000000000000005, 7.800000000000001, 8.0, 8.200000000000001, 8.4, 8.6, 8.8, 9.0, 9.200000000000001, 9.4, 9.600000000000001, 9.8, 10.0, 10.200000000000001, 10.4, 10.600000000000001, 10.8, 11.0, 11.200000000000001, 11.4, 11.600000000000001, 11.8, 12.0, 12.200000000000001, 12.4, 12.600000000000001, 12.8, 13.0, 13.200000000000001, 13.4, 13.600000000000001, 13.8, 14.0, 14.200000000000001, 14.4, 14.600000000000001, 14.8, 15.0, 15.200000000000001, 15.4, 15.600000000000001, 15.8, 16.0, 16.2, 16.400000000000002, 16.6, 16.8, 17.0, 17.2, 17.400000000000002, 17.6, 17.8, 18.0, 18.2, 18.400000000000002, 18.6, 18.8, 19.0, 19.200000000000003, 19.400000000000002, 19.6, 19.8, 20.0, 20.200000000000003, 20.400000000000002, 20.6, 20.8, 21.0, 21.200000000000003, 21.400000000000002, 21.6, 21.8, 22.0, 22.200000000000003, 22.400000000000002, 22.6, 22.8, 23.0, 23.200000000000003, 23.400000000000002, 23.6, 23.8, 24.0, 24.200000000000003, 24.400000000000002, 24.6, 24.8, 25.0, 25.200000000000003, 25.400000000000002, 25.6, 25.8, 26.0, 26.200000000000003, 26.400000000000002, 26.6, 26.8, 27.0, 27.200000000000003, 27.400000000000002, 27.6, 27.8, 28.0, 28.200000000000003, 28.400000000000002, 28.6, 28.8, 29.0, 29.200000000000003, 29.400000000000002, 29.6, 29.8, 30.0], \"y\": [99.94511018594436, 99.96460955220265, 100.02409978482554, 100.12355708851314, 100.26294168167017, 100.44219781231773, 100.6612537803936, 100.92002196643126, 101.21839886660655, 101.55626513413763, 101.9334856270224, 102.34990946209322, 102.80537007536819, 103.29968528867485, 103.83265738251868, 104.40407317516824, 105.01370410792534, 105.66130633654511, 106.34662082877074, 107.0693734679427, 107.82927516264188, 108.62602196232235, 109.45929517888737, 110.32876151416043, 111.23407319320016, 112.17486810340563, 113.15076993935655, 114.16138835333032, 115.20631911143616, 116.28514425530298, 117.39743226925744, 118.54273825292425, 119.72060409918046, 120.93055867739224, 122.17211802186085, 123.44478552540237, 124.74805213798408, 126.0813965703376, 127.44428550246768, 128.83617379697307, 130.25650471709423, 131.7047101494007, 133.18021083102855, 134.68241658137825, 136.21072653817882, 137.76452939782467, 139.34320365988918, 140.94611787571614, 142.57263090099121, 144.22209215219067, 145.8938418668067, 147.58721136724316, 149.30152332827777, 151.03609204798332, 152.7902237219993, 154.563216721044, 156.35436187155744, 158.16294273936109, 159.98823591622204, 161.82951130920628, 163.68603243270672, 165.55705670302729, 167.44183573540633, 169.33961564336116, 171.24963734023189, 173.1711368428064, 175.1033455769033, 177.04549068479136, 178.99679533432248, 180.95647902965382, 182.9237579234358, 184.89784513034132, 186.87795104180813, 188.86328364187284, 190.85304882396628, 192.8464507085453, 194.84269196143438, 196.8409741127486, 198.8404978762709, 200.84046346915585, 202.8400709318321, 204.83852044797558, 206.83501266442553, 208.82874901091492, 210.8189320194879, 212.8047656434766, 214.78545557590877, 216.7602095672203, 218.72823774214433, 220.68875291565095, 222.64097090781055, 224.58411085745556, 226.5173955345143, 228.4400516508927, 230.35131016977928, 232.25040661324965, 234.1365813680473, 236.00907998941906, 237.86715350288264, 239.71005870380662, 241.53705845468238, 243.34742197996928, 245.14042515839495, 246.91535081259468, 248.67148899597186, 250.40813727666807, 252.12460101852622, 253.82019365893524, 255.49423698344665, 257.1460613970509, 258.7750061920065, 260.3804198121145, 261.96166011333213, 263.5180946206219, 265.049100780933, 266.5540662122143, 268.0323889483593, 269.4834776799846, 270.90675199094454, 272.30164259049195, 273.66759154098526, 275.0040524810564, 276.3104908441486, 277.58638407233605, 278.83122182533856, 280.0445061846528, 281.22575185271194, 282.3744863469986, 283.4902501890313, 284.5725970881499, 285.6210941200256, 286.63532189982544, 287.6148747499604, 288.5593608623513, 289.4684024551458, 290.34163592382737, 291.1787119866515, 291.9792958243537, 292.7430672140734, 293.46972065743824, 294.1589655027595, 294.81052606128856, 295.42414171748965, 295.9995670332815, 296.53657184621005, 297.03494136151016, 297.49447623802075, 297.914992667918, 298.2963224502368, 298.6383130581485, 298.94082769996993]}, {\"line\": {\"color\": \"green\", \"dash\": \"dash\", \"width\": 1}, \"name\": \"$+ \\\\sigma$\", \"type\": \"scatter\", \"x\": [0.0, 0.2, 0.4, 0.6000000000000001, 0.8, 1.0, 1.2000000000000002, 1.4000000000000001, 1.6, 1.8, 2.0, 2.2, 2.4000000000000004, 2.6, 2.8000000000000003, 3.0, 3.2, 3.4000000000000004, 3.6, 3.8000000000000003, 4.0, 4.2, 4.4, 4.6000000000000005, 4.800000000000001, 5.0, 5.2, 5.4, 5.6000000000000005, 5.800000000000001, 6.0, 6.2, 6.4, 6.6000000000000005, 6.800000000000001, 7.0, 7.2, 7.4, 7.6000000000000005, 7.800000000000001, 8.0, 8.200000000000001, 8.4, 8.6, 8.8, 9.0, 9.200000000000001, 9.4, 9.600000000000001, 9.8, 10.0, 10.200000000000001, 10.4, 10.600000000000001, 10.8, 11.0, 11.200000000000001, 11.4, 11.600000000000001, 11.8, 12.0, 12.200000000000001, 12.4, 12.600000000000001, 12.8, 13.0, 13.200000000000001, 13.4, 13.600000000000001, 13.8, 14.0, 14.200000000000001, 14.4, 14.600000000000001, 14.8, 15.0, 15.200000000000001, 15.4, 15.600000000000001, 15.8, 16.0, 16.2, 16.400000000000002, 16.6, 16.8, 17.0, 17.2, 17.400000000000002, 17.6, 17.8, 18.0, 18.2, 18.400000000000002, 18.6, 18.8, 19.0, 19.200000000000003, 19.400000000000002, 19.6, 19.8, 20.0, 20.200000000000003, 20.400000000000002, 20.6, 20.8, 21.0, 21.200000000000003, 21.400000000000002, 21.6, 21.8, 22.0, 22.200000000000003, 22.400000000000002, 22.6, 22.8, 23.0, 23.200000000000003, 23.400000000000002, 23.6, 23.8, 24.0, 24.200000000000003, 24.400000000000002, 24.6, 24.8, 25.0, 25.200000000000003, 25.400000000000002, 25.6, 25.8, 26.0, 26.200000000000003, 26.400000000000002, 26.6, 26.8, 27.0, 27.200000000000003, 27.400000000000002, 27.6, 27.8, 28.0, 28.200000000000003, 28.400000000000002, 28.6, 28.8, 29.0, 29.200000000000003, 29.400000000000002, 29.6, 29.8, 30.0], \"y\": [100.36641763119196, 100.19784578098754, 100.10637806017199, 100.12234818269543, 100.23024456055484, 100.40337144088524, 100.58497366296591, 100.84538460579293, 101.16183885029078, 101.52370105728752, 101.92758379565132, 102.33576652311253, 102.79184042341292, 103.28059657055566, 103.8144197003452, 104.39828988864733, 105.00310962745424, 105.65556533139495, 106.32659417870674, 107.06771639475438, 107.83732406956625, 108.62282492954614, 109.45671060275318, 110.32243618364089, 111.23541545725237, 112.1721908501758, 113.13634160493135, 114.1503523636167, 115.19578604910033, 116.27176939574197, 117.38967788263142, 118.52757374886436, 119.7030220461514, 120.92373591770637, 122.16312496857137, 123.43438092462081, 124.74565531938207, 126.08270681241824, 127.44412859555413, 128.8374432409526, 130.25231805915004, 131.6921834906379, 133.16417055931066, 134.67078359728865, 136.20438809303346, 137.75808087603292, 139.33859139011489, 140.94216956817107, 142.5694606547022, 144.22265308171296, 145.89838238212116, 147.59569743853197, 149.31178876161317, 151.05010852313544, 152.80303133091428, 154.58012781461002, 156.37027476997315, 158.17265572070906, 159.99385443421335, 161.83473539991962, 163.6915769251604, 165.56051604885502, 167.44774615725888, 169.34603175895913, 171.25516879845594, 173.1712817851524, 175.09656718893027, 177.03859703448734, 178.99104375244553, 180.94945494318677, 182.92136899270736, 184.89219537386316, 186.87924000057882, 188.87511179712783, 190.8656545008007, 192.85219594811352, 194.84899495998488, 196.84013605690282, 198.83944316239922, 200.8323890423164, 202.82523977184817, 204.82842143681066, 206.82926270402862, 208.8219213134537, 210.8032033080405, 212.78577887535513, 214.77259183356063, 216.75083164673563, 218.721539929823, 220.68653906981993, 222.63889394547775, 224.58317906616205, 226.52134049507572, 228.44046022187942, 230.35362362034581, 232.25822344473988, 234.1457794489335, 236.00916950098045, 237.86431170378384, 239.71280531082132, 241.54164273666956, 243.35151205392998, 245.14493934549623, 246.9255956257061, 248.6851847322259, 250.41678720980948, 252.13670185704783, 253.83027459638578, 255.50344564602932, 257.1562006637508, 258.78334439627616, 260.3890447072465, 261.97118368877943, 263.53357914103856, 265.0627999672608, 266.5673767611314, 268.0455616216029, 269.4989568526684, 270.92472980314324, 272.32643570495975, 273.6863317669533, 275.0230381583528, 276.3319877170265, 277.6042077812054, 278.8482066712738, 280.06290391857243, 281.24391083644684, 282.3933137405033, 283.5132904660857, 284.5937197055416, 285.6410241353535, 286.65100063833864, 287.6320624219571, 288.58000902191594, 289.48831181074974, 290.35562597110527, 291.19834595396696, 291.9961589143225, 292.7590798603223, 293.4863172933863, 294.1788889044372, 294.83024390729395, 295.44182737993907, 296.01546942847284, 296.5532212998939, 297.0468789824591, 297.5088350170133, 297.92354052793394, 298.3032399767929, 298.64706471982254, 298.9479433658569]}, {\"line\": {\"color\": \"firebrick\", \"dash\": \"dash\", \"width\": 1}, \"name\": \"$-\\\\sigma$\", \"type\": \"scatter\", \"x\": [0.0, 0.2, 0.4, 0.6000000000000001, 0.8, 1.0, 1.2000000000000002, 1.4000000000000001, 1.6, 1.8, 2.0, 2.2, 2.4000000000000004, 2.6, 2.8000000000000003, 3.0, 3.2, 3.4000000000000004, 3.6, 3.8000000000000003, 4.0, 4.2, 4.4, 4.6000000000000005, 4.800000000000001, 5.0, 5.2, 5.4, 5.6000000000000005, 5.800000000000001, 6.0, 6.2, 6.4, 6.6000000000000005, 6.800000000000001, 7.0, 7.2, 7.4, 7.6000000000000005, 7.800000000000001, 8.0, 8.200000000000001, 8.4, 8.6, 8.8, 9.0, 9.200000000000001, 9.4, 9.600000000000001, 9.8, 10.0, 10.200000000000001, 10.4, 10.600000000000001, 10.8, 11.0, 11.200000000000001, 11.4, 11.600000000000001, 11.8, 12.0, 12.200000000000001, 12.4, 12.600000000000001, 12.8, 13.0, 13.200000000000001, 13.4, 13.600000000000001, 13.8, 14.0, 14.200000000000001, 14.4, 14.600000000000001, 14.8, 15.0, 15.200000000000001, 15.4, 15.600000000000001, 15.8, 16.0, 16.2, 16.400000000000002, 16.6, 16.8, 17.0, 17.2, 17.400000000000002, 17.6, 17.8, 18.0, 18.2, 18.400000000000002, 18.6, 18.8, 19.0, 19.200000000000003, 19.400000000000002, 19.6, 19.8, 20.0, 20.200000000000003, 20.400000000000002, 20.6, 20.8, 21.0, 21.200000000000003, 21.400000000000002, 21.6, 21.8, 22.0, 22.200000000000003, 22.400000000000002, 22.6, 22.8, 23.0, 23.200000000000003, 23.400000000000002, 23.6, 23.8, 24.0, 24.200000000000003, 24.400000000000002, 24.6, 24.8, 25.0, 25.200000000000003, 25.400000000000002, 25.6, 25.8, 26.0, 26.200000000000003, 26.400000000000002, 26.6, 26.8, 27.0, 27.200000000000003, 27.400000000000002, 27.6, 27.8, 28.0, 28.200000000000003, 28.400000000000002, 28.6, 28.8, 29.0, 29.200000000000003, 29.400000000000002, 29.6, 29.8, 30.0], \"y\": [100.28648155449422, 100.13812905683858, 100.04965681169675, 100.06562489390096, 100.17432039730579, 100.34905647266591, 100.53259913388042, 100.79498675660335, 101.11332085303773, 101.4769175906564, 101.8823796354435, 102.29199280608641, 102.7493606916167, 103.23928827655133, 103.77417378116904, 104.35900959767403, 104.9647091597222, 105.61796847516409, 106.28973308548252, 107.03153049543887, 107.80175913572754, 108.58783226713385, 109.42224636188821, 110.28846076801258, 111.20189301806116, 112.13908885146246, 113.1036304490739, 114.11800506755567, 115.16377796340707, 116.2400779599631, 117.35828241144554, 118.49645524450058, 119.67216303327385, 120.89312029758968, 122.13273788990375, 123.40420866869259, 124.7156851977664, 126.05292707553848, 127.41452835077177, 128.80801237900926, 130.2230471879632, 131.66306387558978, 133.13519406928742, 134.64194265582543, 136.17567563400587, 137.72949030340607, 139.3101165413228, 140.91380468075093, 142.5412003358528, 144.1944922804862, 145.8703163639874, 147.56772176209083, 149.28389925724508, 151.0223012734124, 152.7753026526072, 154.55247424214684, 156.34269304021723, 158.14514275894047, 159.96640734120734, 161.80735144002648, 163.66425351530103, 165.53325074835416, 167.42053665844534, 169.3188758784688, 171.22806446918003, 173.14422704877742, 175.06956018902198, 177.01163601007482, 178.9641270320655, 180.92258093935152, 182.894536196763, 184.86540235120788, 186.85248538621335, 188.84839429151214, 190.83897286599415, 192.8255490041768, 194.82238158162355, 196.81355517033555, 198.81289374243278, 200.8058701096132, 202.7987503903718, 204.80196071143646, 206.80282977830785, 208.7955153675196, 210.776823556647, 212.759424566038, 214.74626224491317, 216.72452608679058, 218.69525773453336, 220.6602796016319, 222.6126565919897, 224.5569632388634, 226.49514562816051, 228.41428577112956, 230.32746906207947, 232.23208827482063, 234.119663181836, 235.98307166890962, 237.83823185584353, 239.6867430122294, 241.51559756801672, 243.32548361047913, 245.11892723652025, 246.89959947386146, 248.6592041729597, 250.39082189079832, 252.1107514376662, 253.80433874720228, 255.47752404832897, 257.1302930090821, 258.75745038602116, 260.36316405221294, 261.9453161088129, 263.50772436465445, 265.0369577312942, 266.54154681040416, 268.019743708607, 269.4731507372647, 270.8989352522743, 272.30065249237657, 273.66055967295466, 274.9972769695374, 276.30623722605566, 277.5784677865773, 278.8224769771079, 280.03718433440355, 281.2182011770285, 282.3676138256198, 283.48760012037275, 284.5680387583142, 285.61535242044204, 286.6253379939314, 287.6064086904502, 288.5543640497688, 289.4626754483475, 290.32999807262627, 291.17272637725625, 291.9705475207699, 292.7334765147463, 293.46072186392195, 294.1533012624289, 294.8046639271922, 295.4162549392019, 295.9899044074701, 296.5276635818165, 297.021328453231, 297.48329156520686, 297.89800404468895, 298.2777103557383, 298.62154185700126, 298.92242715965347]}],\n",
       "                        {\"template\": {\"data\": {\"bar\": [{\"error_x\": {\"color\": \"#2a3f5f\"}, \"error_y\": {\"color\": \"#2a3f5f\"}, \"marker\": {\"line\": {\"color\": \"#E5ECF6\", \"width\": 0.5}}, \"type\": \"bar\"}], \"barpolar\": [{\"marker\": {\"line\": {\"color\": \"#E5ECF6\", \"width\": 0.5}}, \"type\": \"barpolar\"}], \"carpet\": [{\"aaxis\": {\"endlinecolor\": \"#2a3f5f\", \"gridcolor\": \"white\", \"linecolor\": \"white\", \"minorgridcolor\": \"white\", \"startlinecolor\": \"#2a3f5f\"}, \"baxis\": {\"endlinecolor\": \"#2a3f5f\", \"gridcolor\": \"white\", \"linecolor\": \"white\", \"minorgridcolor\": \"white\", \"startlinecolor\": \"#2a3f5f\"}, \"type\": \"carpet\"}], \"choropleth\": [{\"colorbar\": {\"outlinewidth\": 0, \"ticks\": \"\"}, \"type\": \"choropleth\"}], \"contour\": [{\"colorbar\": {\"outlinewidth\": 0, \"ticks\": \"\"}, \"colorscale\": [[0.0, \"#0d0887\"], [0.1111111111111111, \"#46039f\"], [0.2222222222222222, \"#7201a8\"], [0.3333333333333333, \"#9c179e\"], [0.4444444444444444, \"#bd3786\"], [0.5555555555555556, \"#d8576b\"], [0.6666666666666666, \"#ed7953\"], [0.7777777777777778, \"#fb9f3a\"], [0.8888888888888888, \"#fdca26\"], [1.0, \"#f0f921\"]], \"type\": \"contour\"}], \"contourcarpet\": [{\"colorbar\": {\"outlinewidth\": 0, \"ticks\": \"\"}, \"type\": \"contourcarpet\"}], \"heatmap\": [{\"colorbar\": {\"outlinewidth\": 0, \"ticks\": \"\"}, \"colorscale\": [[0.0, \"#0d0887\"], [0.1111111111111111, \"#46039f\"], [0.2222222222222222, \"#7201a8\"], [0.3333333333333333, \"#9c179e\"], [0.4444444444444444, \"#bd3786\"], [0.5555555555555556, \"#d8576b\"], [0.6666666666666666, \"#ed7953\"], [0.7777777777777778, \"#fb9f3a\"], [0.8888888888888888, \"#fdca26\"], [1.0, \"#f0f921\"]], \"type\": \"heatmap\"}], \"heatmapgl\": [{\"colorbar\": {\"outlinewidth\": 0, \"ticks\": \"\"}, \"colorscale\": [[0.0, \"#0d0887\"], [0.1111111111111111, \"#46039f\"], [0.2222222222222222, \"#7201a8\"], [0.3333333333333333, \"#9c179e\"], [0.4444444444444444, \"#bd3786\"], [0.5555555555555556, \"#d8576b\"], [0.6666666666666666, \"#ed7953\"], [0.7777777777777778, \"#fb9f3a\"], [0.8888888888888888, \"#fdca26\"], [1.0, \"#f0f921\"]], \"type\": \"heatmapgl\"}], \"histogram\": [{\"marker\": {\"colorbar\": {\"outlinewidth\": 0, \"ticks\": \"\"}}, \"type\": \"histogram\"}], \"histogram2d\": [{\"colorbar\": {\"outlinewidth\": 0, \"ticks\": \"\"}, \"colorscale\": [[0.0, \"#0d0887\"], [0.1111111111111111, \"#46039f\"], [0.2222222222222222, \"#7201a8\"], [0.3333333333333333, \"#9c179e\"], [0.4444444444444444, \"#bd3786\"], [0.5555555555555556, \"#d8576b\"], [0.6666666666666666, \"#ed7953\"], [0.7777777777777778, \"#fb9f3a\"], [0.8888888888888888, \"#fdca26\"], [1.0, \"#f0f921\"]], \"type\": \"histogram2d\"}], \"histogram2dcontour\": [{\"colorbar\": {\"outlinewidth\": 0, \"ticks\": \"\"}, \"colorscale\": [[0.0, \"#0d0887\"], [0.1111111111111111, \"#46039f\"], [0.2222222222222222, \"#7201a8\"], [0.3333333333333333, \"#9c179e\"], [0.4444444444444444, \"#bd3786\"], [0.5555555555555556, \"#d8576b\"], [0.6666666666666666, \"#ed7953\"], [0.7777777777777778, \"#fb9f3a\"], [0.8888888888888888, \"#fdca26\"], [1.0, \"#f0f921\"]], \"type\": \"histogram2dcontour\"}], \"mesh3d\": [{\"colorbar\": {\"outlinewidth\": 0, \"ticks\": \"\"}, \"type\": \"mesh3d\"}], \"parcoords\": [{\"line\": {\"colorbar\": {\"outlinewidth\": 0, \"ticks\": \"\"}}, \"type\": \"parcoords\"}], \"pie\": [{\"automargin\": true, \"type\": \"pie\"}], \"scatter\": [{\"marker\": {\"colorbar\": {\"outlinewidth\": 0, \"ticks\": \"\"}}, \"type\": \"scatter\"}], \"scatter3d\": [{\"line\": {\"colorbar\": {\"outlinewidth\": 0, \"ticks\": \"\"}}, \"marker\": {\"colorbar\": {\"outlinewidth\": 0, \"ticks\": \"\"}}, \"type\": \"scatter3d\"}], \"scattercarpet\": [{\"marker\": {\"colorbar\": {\"outlinewidth\": 0, \"ticks\": \"\"}}, \"type\": \"scattercarpet\"}], \"scattergeo\": [{\"marker\": {\"colorbar\": {\"outlinewidth\": 0, \"ticks\": \"\"}}, \"type\": \"scattergeo\"}], \"scattergl\": [{\"marker\": {\"colorbar\": {\"outlinewidth\": 0, \"ticks\": \"\"}}, \"type\": \"scattergl\"}], \"scattermapbox\": [{\"marker\": {\"colorbar\": {\"outlinewidth\": 0, \"ticks\": \"\"}}, \"type\": \"scattermapbox\"}], \"scatterpolar\": [{\"marker\": {\"colorbar\": {\"outlinewidth\": 0, \"ticks\": \"\"}}, \"type\": \"scatterpolar\"}], \"scatterpolargl\": [{\"marker\": {\"colorbar\": {\"outlinewidth\": 0, \"ticks\": \"\"}}, \"type\": \"scatterpolargl\"}], \"scatterternary\": [{\"marker\": {\"colorbar\": {\"outlinewidth\": 0, \"ticks\": \"\"}}, \"type\": \"scatterternary\"}], \"surface\": [{\"colorbar\": {\"outlinewidth\": 0, \"ticks\": \"\"}, \"colorscale\": [[0.0, \"#0d0887\"], [0.1111111111111111, \"#46039f\"], [0.2222222222222222, \"#7201a8\"], [0.3333333333333333, \"#9c179e\"], [0.4444444444444444, \"#bd3786\"], [0.5555555555555556, \"#d8576b\"], [0.6666666666666666, \"#ed7953\"], [0.7777777777777778, \"#fb9f3a\"], [0.8888888888888888, \"#fdca26\"], [1.0, \"#f0f921\"]], \"type\": \"surface\"}], \"table\": [{\"cells\": {\"fill\": {\"color\": \"#EBF0F8\"}, \"line\": {\"color\": \"white\"}}, \"header\": {\"fill\": {\"color\": \"#C8D4E3\"}, \"line\": {\"color\": \"white\"}}, \"type\": \"table\"}]}, \"layout\": {\"annotationdefaults\": {\"arrowcolor\": \"#2a3f5f\", \"arrowhead\": 0, \"arrowwidth\": 1}, \"coloraxis\": {\"colorbar\": {\"outlinewidth\": 0, \"ticks\": \"\"}}, \"colorscale\": {\"diverging\": [[0, \"#8e0152\"], [0.1, \"#c51b7d\"], [0.2, \"#de77ae\"], [0.3, \"#f1b6da\"], [0.4, \"#fde0ef\"], [0.5, \"#f7f7f7\"], [0.6, \"#e6f5d0\"], [0.7, \"#b8e186\"], [0.8, \"#7fbc41\"], [0.9, \"#4d9221\"], [1, \"#276419\"]], \"sequential\": [[0.0, \"#0d0887\"], [0.1111111111111111, \"#46039f\"], [0.2222222222222222, \"#7201a8\"], [0.3333333333333333, \"#9c179e\"], [0.4444444444444444, \"#bd3786\"], [0.5555555555555556, \"#d8576b\"], [0.6666666666666666, \"#ed7953\"], [0.7777777777777778, \"#fb9f3a\"], [0.8888888888888888, \"#fdca26\"], [1.0, \"#f0f921\"]], \"sequentialminus\": [[0.0, \"#0d0887\"], [0.1111111111111111, \"#46039f\"], [0.2222222222222222, \"#7201a8\"], [0.3333333333333333, \"#9c179e\"], [0.4444444444444444, \"#bd3786\"], [0.5555555555555556, \"#d8576b\"], [0.6666666666666666, \"#ed7953\"], [0.7777777777777778, \"#fb9f3a\"], [0.8888888888888888, \"#fdca26\"], [1.0, \"#f0f921\"]]}, \"colorway\": [\"#636efa\", \"#EF553B\", \"#00cc96\", \"#ab63fa\", \"#FFA15A\", \"#19d3f3\", \"#FF6692\", \"#B6E880\", \"#FF97FF\", \"#FECB52\"], \"font\": {\"color\": \"#2a3f5f\"}, \"geo\": {\"bgcolor\": \"white\", \"lakecolor\": \"white\", \"landcolor\": \"#E5ECF6\", \"showlakes\": true, \"showland\": true, \"subunitcolor\": \"white\"}, \"hoverlabel\": {\"align\": \"left\"}, \"hovermode\": \"closest\", \"mapbox\": {\"style\": \"light\"}, \"paper_bgcolor\": \"white\", \"plot_bgcolor\": \"#E5ECF6\", \"polar\": {\"angularaxis\": {\"gridcolor\": \"white\", \"linecolor\": \"white\", \"ticks\": \"\"}, \"bgcolor\": \"#E5ECF6\", \"radialaxis\": {\"gridcolor\": \"white\", \"linecolor\": \"white\", \"ticks\": \"\"}}, \"scene\": {\"xaxis\": {\"backgroundcolor\": \"#E5ECF6\", \"gridcolor\": \"white\", \"gridwidth\": 2, \"linecolor\": \"white\", \"showbackground\": true, \"ticks\": \"\", \"zerolinecolor\": \"white\"}, \"yaxis\": {\"backgroundcolor\": \"#E5ECF6\", \"gridcolor\": \"white\", \"gridwidth\": 2, \"linecolor\": \"white\", \"showbackground\": true, \"ticks\": \"\", \"zerolinecolor\": \"white\"}, \"zaxis\": {\"backgroundcolor\": \"#E5ECF6\", \"gridcolor\": \"white\", \"gridwidth\": 2, \"linecolor\": \"white\", \"showbackground\": true, \"ticks\": \"\", \"zerolinecolor\": \"white\"}}, \"shapedefaults\": {\"line\": {\"color\": \"#2a3f5f\"}}, \"ternary\": {\"aaxis\": {\"gridcolor\": \"white\", \"linecolor\": \"white\", \"ticks\": \"\"}, \"baxis\": {\"gridcolor\": \"white\", \"linecolor\": \"white\", \"ticks\": \"\"}, \"bgcolor\": \"#E5ECF6\", \"caxis\": {\"gridcolor\": \"white\", \"linecolor\": \"white\", \"ticks\": \"\"}}, \"title\": {\"x\": 0.05}, \"xaxis\": {\"automargin\": true, \"gridcolor\": \"white\", \"linecolor\": \"white\", \"ticks\": \"\", \"title\": {\"standoff\": 15}, \"zerolinecolor\": \"white\", \"zerolinewidth\": 2}, \"yaxis\": {\"automargin\": true, \"gridcolor\": \"white\", \"linecolor\": \"white\", \"ticks\": \"\", \"title\": {\"standoff\": 15}, \"zerolinecolor\": \"white\", \"zerolinewidth\": 2}}}, \"title\": {\"text\": \"True Velocity vs. Estimated Velocity\", \"x\": 0.48, \"xanchor\": \"center\", \"y\": 0.9, \"yanchor\": \"top\"}, \"xaxis\": {\"title\": {\"text\": \"Time (sec)\"}}, \"yaxis\": {\"title\": {\"text\": \"Velocity Error (m/s)\"}}},\n",
       "                        {\"responsive\": true}\n",
       "                    ).then(function(){\n",
       "                            \n",
       "var gd = document.getElementById('87d191d3-c5c8-4ec3-b9b5-7f9acc2c4153');\n",
       "var x = new MutationObserver(function (mutations, observer) {{\n",
       "        var display = window.getComputedStyle(gd).display;\n",
       "        if (!display || display === 'none') {{\n",
       "            console.log([gd, 'removed!']);\n",
       "            Plotly.purge(gd);\n",
       "            observer.disconnect();\n",
       "        }}\n",
       "}});\n",
       "\n",
       "// Listen for the removal of the full notebook cells\n",
       "var notebookContainer = gd.closest('#notebook-container');\n",
       "if (notebookContainer) {{\n",
       "    x.observe(notebookContainer, {childList: true});\n",
       "}}\n",
       "\n",
       "// Listen for the clearing of the current output cell\n",
       "var outputEl = gd.closest('.output');\n",
       "if (outputEl) {{\n",
       "    x.observe(outputEl, {childList: true});\n",
       "}}\n",
       "\n",
       "                        })\n",
       "                };\n",
       "                });\n",
       "            </script>\n",
       "        </div>"
      ]
     },
     "metadata": {},
     "output_type": "display_data"
    },
    {
     "data": {
      "application/vnd.plotly.v1+json": {
       "config": {
        "plotlyServerURL": "https://plot.ly"
       },
       "data": [
        {
         "name": "Velocity Estimate Error",
         "type": "scatter",
         "x": [
          0,
          0.2,
          0.4,
          0.6000000000000001,
          0.8,
          1,
          1.2000000000000002,
          1.4000000000000001,
          1.6,
          1.8,
          2,
          2.2,
          2.4000000000000004,
          2.6,
          2.8000000000000003,
          3,
          3.2,
          3.4000000000000004,
          3.6,
          3.8000000000000003,
          4,
          4.2,
          4.4,
          4.6000000000000005,
          4.800000000000001,
          5,
          5.2,
          5.4,
          5.6000000000000005,
          5.800000000000001,
          6,
          6.2,
          6.4,
          6.6000000000000005,
          6.800000000000001,
          7,
          7.2,
          7.4,
          7.6000000000000005,
          7.800000000000001,
          8,
          8.200000000000001,
          8.4,
          8.6,
          8.8,
          9,
          9.200000000000001,
          9.4,
          9.600000000000001,
          9.8,
          10,
          10.200000000000001,
          10.4,
          10.600000000000001,
          10.8,
          11,
          11.200000000000001,
          11.4,
          11.600000000000001,
          11.8,
          12,
          12.200000000000001,
          12.4,
          12.600000000000001,
          12.8,
          13,
          13.200000000000001,
          13.4,
          13.600000000000001,
          13.8,
          14,
          14.200000000000001,
          14.4,
          14.600000000000001,
          14.8,
          15,
          15.200000000000001,
          15.4,
          15.600000000000001,
          15.8,
          16,
          16.2,
          16.400000000000002,
          16.6,
          16.8,
          17,
          17.2,
          17.400000000000002,
          17.6,
          17.8,
          18,
          18.2,
          18.400000000000002,
          18.6,
          18.8,
          19,
          19.200000000000003,
          19.400000000000002,
          19.6,
          19.8,
          20,
          20.200000000000003,
          20.400000000000002,
          20.6,
          20.8,
          21,
          21.200000000000003,
          21.400000000000002,
          21.6,
          21.8,
          22,
          22.200000000000003,
          22.400000000000002,
          22.6,
          22.8,
          23,
          23.200000000000003,
          23.400000000000002,
          23.6,
          23.8,
          24,
          24.200000000000003,
          24.400000000000002,
          24.6,
          24.8,
          25,
          25.200000000000003,
          25.400000000000002,
          25.6,
          25.8,
          26,
          26.200000000000003,
          26.400000000000002,
          26.6,
          26.8,
          27,
          27.200000000000003,
          27.400000000000002,
          27.6,
          27.8,
          28,
          28.200000000000003,
          28.400000000000002,
          28.6,
          28.8,
          29,
          29.200000000000003,
          29.400000000000002,
          29.6,
          29.8,
          30
         ],
         "y": [
          -0.38133940689873214,
          -0.20337786671041158,
          -0.05391765110883284,
          0.029570550214941704,
          0.060659202739856255,
          0.06598385554215724,
          0.1024673819704276,
          0.09983628523312404,
          0.08081901494229271,
          0.05595581016567053,
          0.0285039114749992,
          0.03602979749375379,
          0.0347695178533769,
          0.0397428651213545,
          0.038360641761556735,
          0.025423432007556812,
          0.02979471433711467,
          0.024539433265587718,
          0.03845719667610581,
          0.019750022846068305,
          0.009733559994984375,
          0.020693363982360324,
          0.019816696566678615,
          0.023313038333697023,
          0.015418955543395896,
          0.01922825258650107,
          0.030783912353925302,
          0.027209637744135762,
          0.02653710518245589,
          0.029220577450445262,
          0.02345212221895565,
          0.030723756241783917,
          0.033011559467837515,
          0.022130569744220452,
          0.0241865926232947,
          0.025490728745666047,
          0.017381879409839485,
          0.013579626359245367,
          0.014957029304724756,
          0.013445986992138614,
          0.018822093537607998,
          0.02708646628687461,
          0.030528516729503963,
          0.026053454821209243,
          0.02069467465915409,
          0.020743808105180506,
          0.01884969417034199,
          0.01813075125514274,
          0.017300405713712053,
          0.013519471091086643,
          0.00949249375241834,
          0.005501766931757857,
          0.003679318848639923,
          -0.00011285029060559282,
          0.0010567302385595667,
          -0.0030843073344328786,
          -0.002122033537744983,
          0.00404349953632277,
          0.008105028511693035,
          0.008467889233230608,
          0.008117212476008717,
          0.010173304422693263,
          0.007694327554219171,
          0.0071618246471985,
          0.008020706413901735,
          0.013382425841484746,
          0.020281887927183107,
          0.020374162510279348,
          0.019209942066964913,
          0.020461088384678305,
          0.015805328700622567,
          0.019046267805805428,
          0.012088348412049754,
          0.001530597552857671,
          0.0007351405688496016,
          0.007578232400135221,
          0.007003690630170922,
          0.01412849912941283,
          0.014329423854889,
          0.021333893191041398,
          0.028075850722103723,
          0.023329373852021718,
          0.018966423257296583,
          0.02003067042826956,
          0.028918587144147523,
          0.032163922780029,
          0.026028536671873326,
          0.022530700457195962,
          0.019838909966154006,
          0.015343579925030326,
          0.015195639076836187,
          0.014039704942831577,
          0.009152472896175823,
          0.012678654388224686,
          0.010763828566638267,
          0.005250753469397296,
          0.003860052662560065,
          0.012959404474031544,
          0.015881723068957854,
          0.010284542281254971,
          0.008438302339243364,
          0.008924147764730606,
          0.008491867386709373,
          0.0027532628108986046,
          -0.0007054566209490076,
          0.004332726364168593,
          0.000874371169203414,
          0.002886987141209829,
          0.0037521362675079217,
          0.002814560634476493,
          0.004608800857852202,
          0.004315432384771611,
          0.0034102145359611313,
          -0.0025571322245809824,
          -0.000778068344516214,
          -0.0003955735534759697,
          -0.0002637167456214229,
          -0.002576114981934552,
          -0.005080536764239696,
          -0.011901508176208608,
          -0.0058541789687183154,
          -0.006105082888666402,
          -0.008621627392471964,
          -0.0049537115552880095,
          -0.004119998852274875,
          -0.0055379418352003995,
          -0.005304154025736807,
          -0.005977436062948982,
          -0.010195104197919136,
          -0.008282143777989859,
          -0.007094157872188589,
          -0.002847416309577966,
          -0.004360806243255411,
          -0.007825673491083762,
          -0.007091174402830802,
          -0.0011760980383996866,
          -0.006824178960130212,
          -0.004057393192510972,
          -0.003210973460909372,
          -0.003798921215889095,
          -0.007129580673563396,
          -0.006927855954529605,
          -0.004899442080841254,
          -0.003119884689965602,
          -0.0038705946451500495,
          0.0008376436651360564,
          -0.001587053089338042,
          0.004220381606558021,
          0.005847283971206707,
          0.004009769736626367,
          0.005642437214760321
         ]
        }
       ],
       "layout": {
        "template": {
         "data": {
          "bar": [
           {
            "error_x": {
             "color": "#2a3f5f"
            },
            "error_y": {
             "color": "#2a3f5f"
            },
            "marker": {
             "line": {
              "color": "#E5ECF6",
              "width": 0.5
             }
            },
            "type": "bar"
           }
          ],
          "barpolar": [
           {
            "marker": {
             "line": {
              "color": "#E5ECF6",
              "width": 0.5
             }
            },
            "type": "barpolar"
           }
          ],
          "carpet": [
           {
            "aaxis": {
             "endlinecolor": "#2a3f5f",
             "gridcolor": "white",
             "linecolor": "white",
             "minorgridcolor": "white",
             "startlinecolor": "#2a3f5f"
            },
            "baxis": {
             "endlinecolor": "#2a3f5f",
             "gridcolor": "white",
             "linecolor": "white",
             "minorgridcolor": "white",
             "startlinecolor": "#2a3f5f"
            },
            "type": "carpet"
           }
          ],
          "choropleth": [
           {
            "colorbar": {
             "outlinewidth": 0,
             "ticks": ""
            },
            "type": "choropleth"
           }
          ],
          "contour": [
           {
            "colorbar": {
             "outlinewidth": 0,
             "ticks": ""
            },
            "colorscale": [
             [
              0,
              "#0d0887"
             ],
             [
              0.1111111111111111,
              "#46039f"
             ],
             [
              0.2222222222222222,
              "#7201a8"
             ],
             [
              0.3333333333333333,
              "#9c179e"
             ],
             [
              0.4444444444444444,
              "#bd3786"
             ],
             [
              0.5555555555555556,
              "#d8576b"
             ],
             [
              0.6666666666666666,
              "#ed7953"
             ],
             [
              0.7777777777777778,
              "#fb9f3a"
             ],
             [
              0.8888888888888888,
              "#fdca26"
             ],
             [
              1,
              "#f0f921"
             ]
            ],
            "type": "contour"
           }
          ],
          "contourcarpet": [
           {
            "colorbar": {
             "outlinewidth": 0,
             "ticks": ""
            },
            "type": "contourcarpet"
           }
          ],
          "heatmap": [
           {
            "colorbar": {
             "outlinewidth": 0,
             "ticks": ""
            },
            "colorscale": [
             [
              0,
              "#0d0887"
             ],
             [
              0.1111111111111111,
              "#46039f"
             ],
             [
              0.2222222222222222,
              "#7201a8"
             ],
             [
              0.3333333333333333,
              "#9c179e"
             ],
             [
              0.4444444444444444,
              "#bd3786"
             ],
             [
              0.5555555555555556,
              "#d8576b"
             ],
             [
              0.6666666666666666,
              "#ed7953"
             ],
             [
              0.7777777777777778,
              "#fb9f3a"
             ],
             [
              0.8888888888888888,
              "#fdca26"
             ],
             [
              1,
              "#f0f921"
             ]
            ],
            "type": "heatmap"
           }
          ],
          "heatmapgl": [
           {
            "colorbar": {
             "outlinewidth": 0,
             "ticks": ""
            },
            "colorscale": [
             [
              0,
              "#0d0887"
             ],
             [
              0.1111111111111111,
              "#46039f"
             ],
             [
              0.2222222222222222,
              "#7201a8"
             ],
             [
              0.3333333333333333,
              "#9c179e"
             ],
             [
              0.4444444444444444,
              "#bd3786"
             ],
             [
              0.5555555555555556,
              "#d8576b"
             ],
             [
              0.6666666666666666,
              "#ed7953"
             ],
             [
              0.7777777777777778,
              "#fb9f3a"
             ],
             [
              0.8888888888888888,
              "#fdca26"
             ],
             [
              1,
              "#f0f921"
             ]
            ],
            "type": "heatmapgl"
           }
          ],
          "histogram": [
           {
            "marker": {
             "colorbar": {
              "outlinewidth": 0,
              "ticks": ""
             }
            },
            "type": "histogram"
           }
          ],
          "histogram2d": [
           {
            "colorbar": {
             "outlinewidth": 0,
             "ticks": ""
            },
            "colorscale": [
             [
              0,
              "#0d0887"
             ],
             [
              0.1111111111111111,
              "#46039f"
             ],
             [
              0.2222222222222222,
              "#7201a8"
             ],
             [
              0.3333333333333333,
              "#9c179e"
             ],
             [
              0.4444444444444444,
              "#bd3786"
             ],
             [
              0.5555555555555556,
              "#d8576b"
             ],
             [
              0.6666666666666666,
              "#ed7953"
             ],
             [
              0.7777777777777778,
              "#fb9f3a"
             ],
             [
              0.8888888888888888,
              "#fdca26"
             ],
             [
              1,
              "#f0f921"
             ]
            ],
            "type": "histogram2d"
           }
          ],
          "histogram2dcontour": [
           {
            "colorbar": {
             "outlinewidth": 0,
             "ticks": ""
            },
            "colorscale": [
             [
              0,
              "#0d0887"
             ],
             [
              0.1111111111111111,
              "#46039f"
             ],
             [
              0.2222222222222222,
              "#7201a8"
             ],
             [
              0.3333333333333333,
              "#9c179e"
             ],
             [
              0.4444444444444444,
              "#bd3786"
             ],
             [
              0.5555555555555556,
              "#d8576b"
             ],
             [
              0.6666666666666666,
              "#ed7953"
             ],
             [
              0.7777777777777778,
              "#fb9f3a"
             ],
             [
              0.8888888888888888,
              "#fdca26"
             ],
             [
              1,
              "#f0f921"
             ]
            ],
            "type": "histogram2dcontour"
           }
          ],
          "mesh3d": [
           {
            "colorbar": {
             "outlinewidth": 0,
             "ticks": ""
            },
            "type": "mesh3d"
           }
          ],
          "parcoords": [
           {
            "line": {
             "colorbar": {
              "outlinewidth": 0,
              "ticks": ""
             }
            },
            "type": "parcoords"
           }
          ],
          "pie": [
           {
            "automargin": true,
            "type": "pie"
           }
          ],
          "scatter": [
           {
            "marker": {
             "colorbar": {
              "outlinewidth": 0,
              "ticks": ""
             }
            },
            "type": "scatter"
           }
          ],
          "scatter3d": [
           {
            "line": {
             "colorbar": {
              "outlinewidth": 0,
              "ticks": ""
             }
            },
            "marker": {
             "colorbar": {
              "outlinewidth": 0,
              "ticks": ""
             }
            },
            "type": "scatter3d"
           }
          ],
          "scattercarpet": [
           {
            "marker": {
             "colorbar": {
              "outlinewidth": 0,
              "ticks": ""
             }
            },
            "type": "scattercarpet"
           }
          ],
          "scattergeo": [
           {
            "marker": {
             "colorbar": {
              "outlinewidth": 0,
              "ticks": ""
             }
            },
            "type": "scattergeo"
           }
          ],
          "scattergl": [
           {
            "marker": {
             "colorbar": {
              "outlinewidth": 0,
              "ticks": ""
             }
            },
            "type": "scattergl"
           }
          ],
          "scattermapbox": [
           {
            "marker": {
             "colorbar": {
              "outlinewidth": 0,
              "ticks": ""
             }
            },
            "type": "scattermapbox"
           }
          ],
          "scatterpolar": [
           {
            "marker": {
             "colorbar": {
              "outlinewidth": 0,
              "ticks": ""
             }
            },
            "type": "scatterpolar"
           }
          ],
          "scatterpolargl": [
           {
            "marker": {
             "colorbar": {
              "outlinewidth": 0,
              "ticks": ""
             }
            },
            "type": "scatterpolargl"
           }
          ],
          "scatterternary": [
           {
            "marker": {
             "colorbar": {
              "outlinewidth": 0,
              "ticks": ""
             }
            },
            "type": "scatterternary"
           }
          ],
          "surface": [
           {
            "colorbar": {
             "outlinewidth": 0,
             "ticks": ""
            },
            "colorscale": [
             [
              0,
              "#0d0887"
             ],
             [
              0.1111111111111111,
              "#46039f"
             ],
             [
              0.2222222222222222,
              "#7201a8"
             ],
             [
              0.3333333333333333,
              "#9c179e"
             ],
             [
              0.4444444444444444,
              "#bd3786"
             ],
             [
              0.5555555555555556,
              "#d8576b"
             ],
             [
              0.6666666666666666,
              "#ed7953"
             ],
             [
              0.7777777777777778,
              "#fb9f3a"
             ],
             [
              0.8888888888888888,
              "#fdca26"
             ],
             [
              1,
              "#f0f921"
             ]
            ],
            "type": "surface"
           }
          ],
          "table": [
           {
            "cells": {
             "fill": {
              "color": "#EBF0F8"
             },
             "line": {
              "color": "white"
             }
            },
            "header": {
             "fill": {
              "color": "#C8D4E3"
             },
             "line": {
              "color": "white"
             }
            },
            "type": "table"
           }
          ]
         },
         "layout": {
          "annotationdefaults": {
           "arrowcolor": "#2a3f5f",
           "arrowhead": 0,
           "arrowwidth": 1
          },
          "coloraxis": {
           "colorbar": {
            "outlinewidth": 0,
            "ticks": ""
           }
          },
          "colorscale": {
           "diverging": [
            [
             0,
             "#8e0152"
            ],
            [
             0.1,
             "#c51b7d"
            ],
            [
             0.2,
             "#de77ae"
            ],
            [
             0.3,
             "#f1b6da"
            ],
            [
             0.4,
             "#fde0ef"
            ],
            [
             0.5,
             "#f7f7f7"
            ],
            [
             0.6,
             "#e6f5d0"
            ],
            [
             0.7,
             "#b8e186"
            ],
            [
             0.8,
             "#7fbc41"
            ],
            [
             0.9,
             "#4d9221"
            ],
            [
             1,
             "#276419"
            ]
           ],
           "sequential": [
            [
             0,
             "#0d0887"
            ],
            [
             0.1111111111111111,
             "#46039f"
            ],
            [
             0.2222222222222222,
             "#7201a8"
            ],
            [
             0.3333333333333333,
             "#9c179e"
            ],
            [
             0.4444444444444444,
             "#bd3786"
            ],
            [
             0.5555555555555556,
             "#d8576b"
            ],
            [
             0.6666666666666666,
             "#ed7953"
            ],
            [
             0.7777777777777778,
             "#fb9f3a"
            ],
            [
             0.8888888888888888,
             "#fdca26"
            ],
            [
             1,
             "#f0f921"
            ]
           ],
           "sequentialminus": [
            [
             0,
             "#0d0887"
            ],
            [
             0.1111111111111111,
             "#46039f"
            ],
            [
             0.2222222222222222,
             "#7201a8"
            ],
            [
             0.3333333333333333,
             "#9c179e"
            ],
            [
             0.4444444444444444,
             "#bd3786"
            ],
            [
             0.5555555555555556,
             "#d8576b"
            ],
            [
             0.6666666666666666,
             "#ed7953"
            ],
            [
             0.7777777777777778,
             "#fb9f3a"
            ],
            [
             0.8888888888888888,
             "#fdca26"
            ],
            [
             1,
             "#f0f921"
            ]
           ]
          },
          "colorway": [
           "#636efa",
           "#EF553B",
           "#00cc96",
           "#ab63fa",
           "#FFA15A",
           "#19d3f3",
           "#FF6692",
           "#B6E880",
           "#FF97FF",
           "#FECB52"
          ],
          "font": {
           "color": "#2a3f5f"
          },
          "geo": {
           "bgcolor": "white",
           "lakecolor": "white",
           "landcolor": "#E5ECF6",
           "showlakes": true,
           "showland": true,
           "subunitcolor": "white"
          },
          "hoverlabel": {
           "align": "left"
          },
          "hovermode": "closest",
          "mapbox": {
           "style": "light"
          },
          "paper_bgcolor": "white",
          "plot_bgcolor": "#E5ECF6",
          "polar": {
           "angularaxis": {
            "gridcolor": "white",
            "linecolor": "white",
            "ticks": ""
           },
           "bgcolor": "#E5ECF6",
           "radialaxis": {
            "gridcolor": "white",
            "linecolor": "white",
            "ticks": ""
           }
          },
          "scene": {
           "xaxis": {
            "backgroundcolor": "#E5ECF6",
            "gridcolor": "white",
            "gridwidth": 2,
            "linecolor": "white",
            "showbackground": true,
            "ticks": "",
            "zerolinecolor": "white"
           },
           "yaxis": {
            "backgroundcolor": "#E5ECF6",
            "gridcolor": "white",
            "gridwidth": 2,
            "linecolor": "white",
            "showbackground": true,
            "ticks": "",
            "zerolinecolor": "white"
           },
           "zaxis": {
            "backgroundcolor": "#E5ECF6",
            "gridcolor": "white",
            "gridwidth": 2,
            "linecolor": "white",
            "showbackground": true,
            "ticks": "",
            "zerolinecolor": "white"
           }
          },
          "shapedefaults": {
           "line": {
            "color": "#2a3f5f"
           }
          },
          "ternary": {
           "aaxis": {
            "gridcolor": "white",
            "linecolor": "white",
            "ticks": ""
           },
           "baxis": {
            "gridcolor": "white",
            "linecolor": "white",
            "ticks": ""
           },
           "bgcolor": "#E5ECF6",
           "caxis": {
            "gridcolor": "white",
            "linecolor": "white",
            "ticks": ""
           }
          },
          "title": {
           "x": 0.05
          },
          "xaxis": {
           "automargin": true,
           "gridcolor": "white",
           "linecolor": "white",
           "ticks": "",
           "title": {
            "standoff": 15
           },
           "zerolinecolor": "white",
           "zerolinewidth": 2
          },
          "yaxis": {
           "automargin": true,
           "gridcolor": "white",
           "linecolor": "white",
           "ticks": "",
           "title": {
            "standoff": 15
           },
           "zerolinecolor": "white",
           "zerolinewidth": 2
          }
         }
        },
        "title": {
         "text": "Velocity Error",
         "x": 0.48,
         "xanchor": "center",
         "y": 0.9,
         "yanchor": "top"
        },
        "xaxis": {
         "title": {
          "text": "Time (sec)"
         }
        },
        "yaxis": {
         "title": {
          "text": "Velocity Error (m/s)"
         }
        }
       }
      },
      "text/html": [
       "<div>\n",
       "        \n",
       "        \n",
       "            <div id=\"e93f8702-b09c-4fab-9361-f53bb915d484\" class=\"plotly-graph-div\" style=\"height:525px; width:100%;\"></div>\n",
       "            <script type=\"text/javascript\">\n",
       "                require([\"plotly\"], function(Plotly) {\n",
       "                    window.PLOTLYENV=window.PLOTLYENV || {};\n",
       "                    \n",
       "                if (document.getElementById(\"e93f8702-b09c-4fab-9361-f53bb915d484\")) {\n",
       "                    Plotly.newPlot(\n",
       "                        'e93f8702-b09c-4fab-9361-f53bb915d484',\n",
       "                        [{\"name\": \"Velocity Estimate Error\", \"type\": \"scatter\", \"x\": [0.0, 0.2, 0.4, 0.6000000000000001, 0.8, 1.0, 1.2000000000000002, 1.4000000000000001, 1.6, 1.8, 2.0, 2.2, 2.4000000000000004, 2.6, 2.8000000000000003, 3.0, 3.2, 3.4000000000000004, 3.6, 3.8000000000000003, 4.0, 4.2, 4.4, 4.6000000000000005, 4.800000000000001, 5.0, 5.2, 5.4, 5.6000000000000005, 5.800000000000001, 6.0, 6.2, 6.4, 6.6000000000000005, 6.800000000000001, 7.0, 7.2, 7.4, 7.6000000000000005, 7.800000000000001, 8.0, 8.200000000000001, 8.4, 8.6, 8.8, 9.0, 9.200000000000001, 9.4, 9.600000000000001, 9.8, 10.0, 10.200000000000001, 10.4, 10.600000000000001, 10.8, 11.0, 11.200000000000001, 11.4, 11.600000000000001, 11.8, 12.0, 12.200000000000001, 12.4, 12.600000000000001, 12.8, 13.0, 13.200000000000001, 13.4, 13.600000000000001, 13.8, 14.0, 14.200000000000001, 14.4, 14.600000000000001, 14.8, 15.0, 15.200000000000001, 15.4, 15.600000000000001, 15.8, 16.0, 16.2, 16.400000000000002, 16.6, 16.8, 17.0, 17.2, 17.400000000000002, 17.6, 17.8, 18.0, 18.2, 18.400000000000002, 18.6, 18.8, 19.0, 19.200000000000003, 19.400000000000002, 19.6, 19.8, 20.0, 20.200000000000003, 20.400000000000002, 20.6, 20.8, 21.0, 21.200000000000003, 21.400000000000002, 21.6, 21.8, 22.0, 22.200000000000003, 22.400000000000002, 22.6, 22.8, 23.0, 23.200000000000003, 23.400000000000002, 23.6, 23.8, 24.0, 24.200000000000003, 24.400000000000002, 24.6, 24.8, 25.0, 25.200000000000003, 25.400000000000002, 25.6, 25.8, 26.0, 26.200000000000003, 26.400000000000002, 26.6, 26.8, 27.0, 27.200000000000003, 27.400000000000002, 27.6, 27.8, 28.0, 28.200000000000003, 28.400000000000002, 28.6, 28.8, 29.0, 29.200000000000003, 29.400000000000002, 29.6, 29.8, 30.0], \"y\": [-0.38133940689873214, -0.20337786671041158, -0.05391765110883284, 0.029570550214941704, 0.060659202739856255, 0.06598385554215724, 0.1024673819704276, 0.09983628523312404, 0.08081901494229271, 0.05595581016567053, 0.0285039114749992, 0.03602979749375379, 0.0347695178533769, 0.0397428651213545, 0.038360641761556735, 0.025423432007556812, 0.02979471433711467, 0.024539433265587718, 0.03845719667610581, 0.019750022846068305, 0.009733559994984375, 0.020693363982360324, 0.019816696566678615, 0.023313038333697023, 0.015418955543395896, 0.01922825258650107, 0.030783912353925302, 0.027209637744135762, 0.02653710518245589, 0.029220577450445262, 0.02345212221895565, 0.030723756241783917, 0.033011559467837515, 0.022130569744220452, 0.0241865926232947, 0.025490728745666047, 0.017381879409839485, 0.013579626359245367, 0.014957029304724756, 0.013445986992138614, 0.018822093537607998, 0.02708646628687461, 0.030528516729503963, 0.026053454821209243, 0.02069467465915409, 0.020743808105180506, 0.01884969417034199, 0.01813075125514274, 0.017300405713712053, 0.013519471091086643, 0.00949249375241834, 0.005501766931757857, 0.003679318848639923, -0.00011285029060559282, 0.0010567302385595667, -0.0030843073344328786, -0.002122033537744983, 0.00404349953632277, 0.008105028511693035, 0.008467889233230608, 0.008117212476008717, 0.010173304422693263, 0.007694327554219171, 0.0071618246471985, 0.008020706413901735, 0.013382425841484746, 0.020281887927183107, 0.020374162510279348, 0.019209942066964913, 0.020461088384678305, 0.015805328700622567, 0.019046267805805428, 0.012088348412049754, 0.001530597552857671, 0.0007351405688496016, 0.007578232400135221, 0.007003690630170922, 0.01412849912941283, 0.014329423854889, 0.021333893191041398, 0.028075850722103723, 0.023329373852021718, 0.018966423257296583, 0.02003067042826956, 0.028918587144147523, 0.032163922780029, 0.026028536671873326, 0.022530700457195962, 0.019838909966154006, 0.015343579925030326, 0.015195639076836187, 0.014039704942831577, 0.009152472896175823, 0.012678654388224686, 0.010763828566638267, 0.005250753469397296, 0.003860052662560065, 0.012959404474031544, 0.015881723068957854, 0.010284542281254971, 0.008438302339243364, 0.008924147764730606, 0.008491867386709373, 0.0027532628108986046, -0.0007054566209490076, 0.004332726364168593, 0.000874371169203414, 0.002886987141209829, 0.0037521362675079217, 0.002814560634476493, 0.004608800857852202, 0.004315432384771611, 0.0034102145359611313, -0.0025571322245809824, -0.000778068344516214, -0.0003955735534759697, -0.0002637167456214229, -0.002576114981934552, -0.005080536764239696, -0.011901508176208608, -0.0058541789687183154, -0.006105082888666402, -0.008621627392471964, -0.0049537115552880095, -0.004119998852274875, -0.0055379418352003995, -0.005304154025736807, -0.005977436062948982, -0.010195104197919136, -0.008282143777989859, -0.007094157872188589, -0.002847416309577966, -0.004360806243255411, -0.007825673491083762, -0.007091174402830802, -0.0011760980383996866, -0.006824178960130212, -0.004057393192510972, -0.003210973460909372, -0.003798921215889095, -0.007129580673563396, -0.006927855954529605, -0.004899442080841254, -0.003119884689965602, -0.0038705946451500495, 0.0008376436651360564, -0.001587053089338042, 0.004220381606558021, 0.005847283971206707, 0.004009769736626367, 0.005642437214760321]}],\n",
       "                        {\"template\": {\"data\": {\"bar\": [{\"error_x\": {\"color\": \"#2a3f5f\"}, \"error_y\": {\"color\": \"#2a3f5f\"}, \"marker\": {\"line\": {\"color\": \"#E5ECF6\", \"width\": 0.5}}, \"type\": \"bar\"}], \"barpolar\": [{\"marker\": {\"line\": {\"color\": \"#E5ECF6\", \"width\": 0.5}}, \"type\": \"barpolar\"}], \"carpet\": [{\"aaxis\": {\"endlinecolor\": \"#2a3f5f\", \"gridcolor\": \"white\", \"linecolor\": \"white\", \"minorgridcolor\": \"white\", \"startlinecolor\": \"#2a3f5f\"}, \"baxis\": {\"endlinecolor\": \"#2a3f5f\", \"gridcolor\": \"white\", \"linecolor\": \"white\", \"minorgridcolor\": \"white\", \"startlinecolor\": \"#2a3f5f\"}, \"type\": \"carpet\"}], \"choropleth\": [{\"colorbar\": {\"outlinewidth\": 0, \"ticks\": \"\"}, \"type\": \"choropleth\"}], \"contour\": [{\"colorbar\": {\"outlinewidth\": 0, \"ticks\": \"\"}, \"colorscale\": [[0.0, \"#0d0887\"], [0.1111111111111111, \"#46039f\"], [0.2222222222222222, \"#7201a8\"], [0.3333333333333333, \"#9c179e\"], [0.4444444444444444, \"#bd3786\"], [0.5555555555555556, \"#d8576b\"], [0.6666666666666666, \"#ed7953\"], [0.7777777777777778, \"#fb9f3a\"], [0.8888888888888888, \"#fdca26\"], [1.0, \"#f0f921\"]], \"type\": \"contour\"}], \"contourcarpet\": [{\"colorbar\": {\"outlinewidth\": 0, \"ticks\": \"\"}, \"type\": \"contourcarpet\"}], \"heatmap\": [{\"colorbar\": {\"outlinewidth\": 0, \"ticks\": \"\"}, \"colorscale\": [[0.0, \"#0d0887\"], [0.1111111111111111, \"#46039f\"], [0.2222222222222222, \"#7201a8\"], [0.3333333333333333, \"#9c179e\"], [0.4444444444444444, \"#bd3786\"], [0.5555555555555556, \"#d8576b\"], [0.6666666666666666, \"#ed7953\"], [0.7777777777777778, \"#fb9f3a\"], [0.8888888888888888, \"#fdca26\"], [1.0, \"#f0f921\"]], \"type\": \"heatmap\"}], \"heatmapgl\": [{\"colorbar\": {\"outlinewidth\": 0, \"ticks\": \"\"}, \"colorscale\": [[0.0, \"#0d0887\"], [0.1111111111111111, \"#46039f\"], [0.2222222222222222, \"#7201a8\"], [0.3333333333333333, \"#9c179e\"], [0.4444444444444444, \"#bd3786\"], [0.5555555555555556, \"#d8576b\"], [0.6666666666666666, \"#ed7953\"], [0.7777777777777778, \"#fb9f3a\"], [0.8888888888888888, \"#fdca26\"], [1.0, \"#f0f921\"]], \"type\": \"heatmapgl\"}], \"histogram\": [{\"marker\": {\"colorbar\": {\"outlinewidth\": 0, \"ticks\": \"\"}}, \"type\": \"histogram\"}], \"histogram2d\": [{\"colorbar\": {\"outlinewidth\": 0, \"ticks\": \"\"}, \"colorscale\": [[0.0, \"#0d0887\"], [0.1111111111111111, \"#46039f\"], [0.2222222222222222, \"#7201a8\"], [0.3333333333333333, \"#9c179e\"], [0.4444444444444444, \"#bd3786\"], [0.5555555555555556, \"#d8576b\"], [0.6666666666666666, \"#ed7953\"], [0.7777777777777778, \"#fb9f3a\"], [0.8888888888888888, \"#fdca26\"], [1.0, \"#f0f921\"]], \"type\": \"histogram2d\"}], \"histogram2dcontour\": [{\"colorbar\": {\"outlinewidth\": 0, \"ticks\": \"\"}, \"colorscale\": [[0.0, \"#0d0887\"], [0.1111111111111111, \"#46039f\"], [0.2222222222222222, \"#7201a8\"], [0.3333333333333333, \"#9c179e\"], [0.4444444444444444, \"#bd3786\"], [0.5555555555555556, \"#d8576b\"], [0.6666666666666666, \"#ed7953\"], [0.7777777777777778, \"#fb9f3a\"], [0.8888888888888888, \"#fdca26\"], [1.0, \"#f0f921\"]], \"type\": \"histogram2dcontour\"}], \"mesh3d\": [{\"colorbar\": {\"outlinewidth\": 0, \"ticks\": \"\"}, \"type\": \"mesh3d\"}], \"parcoords\": [{\"line\": {\"colorbar\": {\"outlinewidth\": 0, \"ticks\": \"\"}}, \"type\": \"parcoords\"}], \"pie\": [{\"automargin\": true, \"type\": \"pie\"}], \"scatter\": [{\"marker\": {\"colorbar\": {\"outlinewidth\": 0, \"ticks\": \"\"}}, \"type\": \"scatter\"}], \"scatter3d\": [{\"line\": {\"colorbar\": {\"outlinewidth\": 0, \"ticks\": \"\"}}, \"marker\": {\"colorbar\": {\"outlinewidth\": 0, \"ticks\": \"\"}}, \"type\": \"scatter3d\"}], \"scattercarpet\": [{\"marker\": {\"colorbar\": {\"outlinewidth\": 0, \"ticks\": \"\"}}, \"type\": \"scattercarpet\"}], \"scattergeo\": [{\"marker\": {\"colorbar\": {\"outlinewidth\": 0, \"ticks\": \"\"}}, \"type\": \"scattergeo\"}], \"scattergl\": [{\"marker\": {\"colorbar\": {\"outlinewidth\": 0, \"ticks\": \"\"}}, \"type\": \"scattergl\"}], \"scattermapbox\": [{\"marker\": {\"colorbar\": {\"outlinewidth\": 0, \"ticks\": \"\"}}, \"type\": \"scattermapbox\"}], \"scatterpolar\": [{\"marker\": {\"colorbar\": {\"outlinewidth\": 0, \"ticks\": \"\"}}, \"type\": \"scatterpolar\"}], \"scatterpolargl\": [{\"marker\": {\"colorbar\": {\"outlinewidth\": 0, \"ticks\": \"\"}}, \"type\": \"scatterpolargl\"}], \"scatterternary\": [{\"marker\": {\"colorbar\": {\"outlinewidth\": 0, \"ticks\": \"\"}}, \"type\": \"scatterternary\"}], \"surface\": [{\"colorbar\": {\"outlinewidth\": 0, \"ticks\": \"\"}, \"colorscale\": [[0.0, \"#0d0887\"], [0.1111111111111111, \"#46039f\"], [0.2222222222222222, \"#7201a8\"], [0.3333333333333333, \"#9c179e\"], [0.4444444444444444, \"#bd3786\"], [0.5555555555555556, \"#d8576b\"], [0.6666666666666666, \"#ed7953\"], [0.7777777777777778, \"#fb9f3a\"], [0.8888888888888888, \"#fdca26\"], [1.0, \"#f0f921\"]], \"type\": \"surface\"}], \"table\": [{\"cells\": {\"fill\": {\"color\": \"#EBF0F8\"}, \"line\": {\"color\": \"white\"}}, \"header\": {\"fill\": {\"color\": \"#C8D4E3\"}, \"line\": {\"color\": \"white\"}}, \"type\": \"table\"}]}, \"layout\": {\"annotationdefaults\": {\"arrowcolor\": \"#2a3f5f\", \"arrowhead\": 0, \"arrowwidth\": 1}, \"coloraxis\": {\"colorbar\": {\"outlinewidth\": 0, \"ticks\": \"\"}}, \"colorscale\": {\"diverging\": [[0, \"#8e0152\"], [0.1, \"#c51b7d\"], [0.2, \"#de77ae\"], [0.3, \"#f1b6da\"], [0.4, \"#fde0ef\"], [0.5, \"#f7f7f7\"], [0.6, \"#e6f5d0\"], [0.7, \"#b8e186\"], [0.8, \"#7fbc41\"], [0.9, \"#4d9221\"], [1, \"#276419\"]], \"sequential\": [[0.0, \"#0d0887\"], [0.1111111111111111, \"#46039f\"], [0.2222222222222222, \"#7201a8\"], [0.3333333333333333, \"#9c179e\"], [0.4444444444444444, \"#bd3786\"], [0.5555555555555556, \"#d8576b\"], [0.6666666666666666, \"#ed7953\"], [0.7777777777777778, \"#fb9f3a\"], [0.8888888888888888, \"#fdca26\"], [1.0, \"#f0f921\"]], \"sequentialminus\": [[0.0, \"#0d0887\"], [0.1111111111111111, \"#46039f\"], [0.2222222222222222, \"#7201a8\"], [0.3333333333333333, \"#9c179e\"], [0.4444444444444444, \"#bd3786\"], [0.5555555555555556, \"#d8576b\"], [0.6666666666666666, \"#ed7953\"], [0.7777777777777778, \"#fb9f3a\"], [0.8888888888888888, \"#fdca26\"], [1.0, \"#f0f921\"]]}, \"colorway\": [\"#636efa\", \"#EF553B\", \"#00cc96\", \"#ab63fa\", \"#FFA15A\", \"#19d3f3\", \"#FF6692\", \"#B6E880\", \"#FF97FF\", \"#FECB52\"], \"font\": {\"color\": \"#2a3f5f\"}, \"geo\": {\"bgcolor\": \"white\", \"lakecolor\": \"white\", \"landcolor\": \"#E5ECF6\", \"showlakes\": true, \"showland\": true, \"subunitcolor\": \"white\"}, \"hoverlabel\": {\"align\": \"left\"}, \"hovermode\": \"closest\", \"mapbox\": {\"style\": \"light\"}, \"paper_bgcolor\": \"white\", \"plot_bgcolor\": \"#E5ECF6\", \"polar\": {\"angularaxis\": {\"gridcolor\": \"white\", \"linecolor\": \"white\", \"ticks\": \"\"}, \"bgcolor\": \"#E5ECF6\", \"radialaxis\": {\"gridcolor\": \"white\", \"linecolor\": \"white\", \"ticks\": \"\"}}, \"scene\": {\"xaxis\": {\"backgroundcolor\": \"#E5ECF6\", \"gridcolor\": \"white\", \"gridwidth\": 2, \"linecolor\": \"white\", \"showbackground\": true, \"ticks\": \"\", \"zerolinecolor\": \"white\"}, \"yaxis\": {\"backgroundcolor\": \"#E5ECF6\", \"gridcolor\": \"white\", \"gridwidth\": 2, \"linecolor\": \"white\", \"showbackground\": true, \"ticks\": \"\", \"zerolinecolor\": \"white\"}, \"zaxis\": {\"backgroundcolor\": \"#E5ECF6\", \"gridcolor\": \"white\", \"gridwidth\": 2, \"linecolor\": \"white\", \"showbackground\": true, \"ticks\": \"\", \"zerolinecolor\": \"white\"}}, \"shapedefaults\": {\"line\": {\"color\": \"#2a3f5f\"}}, \"ternary\": {\"aaxis\": {\"gridcolor\": \"white\", \"linecolor\": \"white\", \"ticks\": \"\"}, \"baxis\": {\"gridcolor\": \"white\", \"linecolor\": \"white\", \"ticks\": \"\"}, \"bgcolor\": \"#E5ECF6\", \"caxis\": {\"gridcolor\": \"white\", \"linecolor\": \"white\", \"ticks\": \"\"}}, \"title\": {\"x\": 0.05}, \"xaxis\": {\"automargin\": true, \"gridcolor\": \"white\", \"linecolor\": \"white\", \"ticks\": \"\", \"title\": {\"standoff\": 15}, \"zerolinecolor\": \"white\", \"zerolinewidth\": 2}, \"yaxis\": {\"automargin\": true, \"gridcolor\": \"white\", \"linecolor\": \"white\", \"ticks\": \"\", \"title\": {\"standoff\": 15}, \"zerolinecolor\": \"white\", \"zerolinewidth\": 2}}}, \"title\": {\"text\": \"Velocity Error\", \"x\": 0.48, \"xanchor\": \"center\", \"y\": 0.9, \"yanchor\": \"top\"}, \"xaxis\": {\"title\": {\"text\": \"Time (sec)\"}}, \"yaxis\": {\"title\": {\"text\": \"Velocity Error (m/s)\"}}},\n",
       "                        {\"responsive\": true}\n",
       "                    ).then(function(){\n",
       "                            \n",
       "var gd = document.getElementById('e93f8702-b09c-4fab-9361-f53bb915d484');\n",
       "var x = new MutationObserver(function (mutations, observer) {{\n",
       "        var display = window.getComputedStyle(gd).display;\n",
       "        if (!display || display === 'none') {{\n",
       "            console.log([gd, 'removed!']);\n",
       "            Plotly.purge(gd);\n",
       "            observer.disconnect();\n",
       "        }}\n",
       "}});\n",
       "\n",
       "// Listen for the removal of the full notebook cells\n",
       "var notebookContainer = gd.closest('#notebook-container');\n",
       "if (notebookContainer) {{\n",
       "    x.observe(notebookContainer, {childList: true});\n",
       "}}\n",
       "\n",
       "// Listen for the clearing of the current output cell\n",
       "var outputEl = gd.closest('.output');\n",
       "if (outputEl) {{\n",
       "    x.observe(outputEl, {childList: true});\n",
       "}}\n",
       "\n",
       "                        })\n",
       "                };\n",
       "                });\n",
       "            </script>\n",
       "        </div>"
      ]
     },
     "metadata": {},
     "output_type": "display_data"
    }
   ],
   "source": [
    "pclist, vclist, ptruelist, vtruelist, b_a_true, dxlist, Pklist, Klist, resvec, dxtruelist = monte_carlo_run(verbose=True)\n",
    "\n",
    "# position vectors\n",
    "posest = [dxlist[i][0,0] + pclist[i] for i in range(len(dxlist))]\n",
    "pos_error = [ptruelist[i] - posest[i] for i in range(len(pclist))]\n",
    "pos_std = [np.sqrt(Pklist[i][0,0]) for i in range(len(Pklist))]\n",
    "pos_sigma_plus = [posest[i] + pos_std[i] for i in range(len(posest))]\n",
    "pos_sigma_minus = [posest[i] - pos_std[i] for i in range(len(posest))]\n",
    "\n",
    "# velocity vectors\n",
    "velest = [dxlist[i][1,0] + vclist[i] for i in range(len(dxlist))]\n",
    "vel_error = [vtruelist[i] - velest[i] for i in range(len(vclist))]\n",
    "vel_std = [np.sqrt(Pklist[i][1,1]) for i in range(len(Pklist))]\n",
    "vel_sigma_plus = [velest[i] + vel_std[i] for i in range(len(velest))]\n",
    "vel_sigma_minus = [velest[i] - vel_std[i] for i in range(len(velest))]\n",
    "\n",
    "# bias vectors\n",
    "biasest = [dxlist[i][2,0] for i in range(len(dxlist))]\n",
    "bias_error = [biasest[i] - b_a_true for i in range(len(dxlist))]\n",
    "bias_std = [np.sqrt(Pklist[i][2,2]) for i in range(len(Pklist))]\n",
    "bias_sigma_plus = [biasest[i] + bias_std[i] for i in range(len(biasest))]\n",
    "bias_sigma_minus = [biasest[i] - bias_std[i] for i in range(len(biasest))]\n",
    "\n",
    "\n",
    "# Bias plot\n",
    "fig = go.Figure()\n",
    "fig.add_trace(go.Scatter(x=t_kf, y=biasest, name=\"Estimated bias\"))\n",
    "fig.add_trace(go.Scatter(x=t_kf, y=bias_sigma_plus, name=\"$+ \\sigma$\", line=dict(color='green', width=1, dash='dash')))\n",
    "fig.add_trace(go.Scatter(x=t_kf, y=bias_sigma_minus, name=\"$-\\sigma$\", line=dict(color='firebrick', width=1, dash='dash')))\n",
    "fig.add_trace(go.Scatter(x=t_kf, y=[b_a_true for i in range(len(dxlist))], name=\"True bias\"))\n",
    "fig.update_layout(title={'text':\"True Bias vs.Estimated Bias\",'xanchor':'center','yanchor':'top','y':0.9,'x':0.48}, xaxis_title=\"Time (sec)\", yaxis_title=r\"Bias ($m/sec^2$)\")\n",
    "fig.show()\n",
    "\n",
    "# Bias error plot\n",
    "figb = go.Figure()\n",
    "figb.add_trace(go.Scatter(x=t_kf, y=bias_error, name=\"Bias Error\"))\n",
    "figb.update_layout(title={'text':\"Bias Error\",'xanchor':'center','yanchor':'top','y':0.9,'x':0.48}, xaxis_title=\"Time (sec)\", yaxis_title=\"Bias Error ($m/sec^2$)\")\n",
    "figb.show()\n",
    "\n",
    "\n",
    "# fig2 = go.Figure()\n",
    "# fig2.add_trace(go.Scatter(x=t_kf, y=ptruelist, name=\"True Position\"))\n",
    "# # fig2.add_trace(go.Scatter(x=tlist, y=ptruelist, name=\"True Position\"))\n",
    "# fig2.add_trace(go.Scatter(x=t_kf, y=pclist, name=\"Computed Position\"))\n",
    "# fig2.update_layout(title={'text':\"True Position vs. Computed Position\",'xanchor':'center','yanchor':'top','y':0.9,'x':0.48}, xaxis_title=\"Time (sec)\", yaxis_title=\"Position (m)\")\n",
    "# fig2.show()\n",
    "\n",
    "fig2b = go.Figure()\n",
    "fig2b.add_trace(go.Scatter(x=t_kf, y=ptruelist, name=\"True Position\", line=dict(width=4)))\n",
    "fig2b.add_trace(go.Scatter(x=t_kf, y=posest, name=\"Estimated Position\"))\n",
    "fig2b.add_trace(go.Scatter(x=t_kf, y=pos_sigma_plus, name=\"$+ \\sigma$\", line=dict(color='green', width=1, dash='dash')))\n",
    "fig2b.add_trace(go.Scatter(x=t_kf, y=pos_sigma_minus, name=\"$-\\sigma$\", line=dict(color='firebrick', width=1, dash='dash')))\n",
    "fig2b.update_layout(title={'text':\"True Position vs. Estimated Position\",'xanchor':'center','yanchor':'top','y':0.9,'x':0.48}, xaxis_title=\"Time (sec)\", yaxis_title=\"Position (m)\")\n",
    "fig2b.show()\n",
    "\n",
    "fig3 = go.Figure()\n",
    "fig3.add_trace(go.Scatter(x=t_kf, y=pos_error, name=\"Position Estimate Error\"))\n",
    "fig3.update_layout(title={'text':\"Position Error\",'xanchor':'center','yanchor':'top','y':0.9,'x':0.48}, xaxis_title=\"Time (sec)\", yaxis_title=\"Position Error (m)\")\n",
    "fig3.show()\n",
    "\n",
    "fig4a = go.Figure()\n",
    "fig4a.add_trace(go.Scatter(x=t_kf, y=velest, name=\"Estimated Velocity\", line=dict(width=4)))\n",
    "fig4a.add_trace(go.Scatter(x=t_kf, y=vtruelist, name=\"True Velocity\"))\n",
    "fig4a.add_trace(go.Scatter(x=t_kf, y=vel_sigma_plus, name=\"$+ \\sigma$\", line=dict(color='green', width=1, dash='dash')))\n",
    "fig4a.add_trace(go.Scatter(x=t_kf, y=vel_sigma_minus, name=\"$-\\sigma$\", line=dict(color='firebrick', width=1, dash='dash')))\n",
    "fig4a.update_layout(title={'text':\"True Velocity vs. Estimated Velocity\",'xanchor':'center','yanchor':'top','y':0.9,'x':0.48}, xaxis_title=\"Time (sec)\", yaxis_title=\"Velocity Error (m/s)\")\n",
    "fig4a.show()\n",
    "\n",
    "fig4 = go.Figure()\n",
    "fig4.add_trace(go.Scatter(x=t_kf, y=vel_error, name=\"Velocity Estimate Error\"))\n",
    "fig4.update_layout(title={'text':\"Velocity Error\",'xanchor':'center','yanchor':'top','y':0.9,'x':0.48}, xaxis_title=\"Time (sec)\", yaxis_title=\"Velocity Error (m/s)\")\n",
    "fig4.show()"
   ]
  },
  {
   "cell_type": "code",
   "execution_count": null,
   "metadata": {},
   "outputs": [],
   "source": [
    "Pklist[-1]"
   ]
  },
  {
   "cell_type": "code",
   "execution_count": null,
   "metadata": {},
   "outputs": [],
   "source": [
    "Klist[-1]"
   ]
  },
  {
   "cell_type": "code",
   "execution_count": 73,
   "metadata": {},
   "outputs": [],
   "source": [
    "def MonteCarloSim(l):\n",
    "    # initialize vector of errors\n",
    "    e = np.zeros((l, kf_steps, 3))\n",
    "    # initialize vector of average errors\n",
    "    eave = np.zeros((kf_steps, 3))\n",
    "    # initialize the actual error variance\n",
    "    Pave = np.zeros((kf_steps, 3, 3))\n",
    "    # initialize the orthogonaltiy check matrix\n",
    "    omat = np.zeros((kf_steps, 3, 3))\n",
    "    # initialize the matrix of residuals\n",
    "    resmat = np.zeros((l, kf_steps, 2))\n",
    "    # initialize the matrix of residual correlation\n",
    "    rescor = np.zeros((2, 2))\n",
    "    # initialize the matrix of states\n",
    "    states = np.zeros((l, kf_steps, 3))\n",
    "    \n",
    "    # run the MC sim to collect the errors, states, residuals\n",
    "    for i in range(l):\n",
    "        pclist, vclist, ptruelist, vtruelist, b_a_true, dxlist, Pklist, Klist, resvec, dxtruelist  = monte_carlo_run(verbose=False)\n",
    "        e[i,:,:] = (np.array(dxtruelist) - np.array(dxlist)).squeeze()\n",
    "        states[i,:,:] = np.array(dxlist).squeeze()\n",
    "        resmat[i,:,:] = np.array(resvec).squeeze()\n",
    "    \n",
    "    # calculate the average error\n",
    "    eave = np.sum(e, axis=0) * 1.0/l\n",
    "    \n",
    "    # calculate the average covariance and orthogonality check matrices\n",
    "    for t in range(kf_steps):\n",
    "        for i in range(l):\n",
    "            # covariance\n",
    "            diffvec = e[i,t,:]-eave[t]\n",
    "            Pave[t,:,:] += np.dot(diffvec,np.transpose(diffvec))\n",
    "            \n",
    "            # orthogonality\n",
    "            omat[t,:,:] += np.dot(diffvec, np.transpose(states[i,t,:]))\n",
    "            \n",
    "    # scale the covariance data\n",
    "    Pave[:,:,:] = Pave[t,:,:] * 1.0/(l-1)\n",
    "    omat = omat*1.0/l\n",
    "    \n",
    "    # calculate the ensemble average correlation of the residuals\n",
    "    \n",
    "    \n",
    "    \n",
    "    \n",
    "    return eave, Pave, omat\n",
    "    \n",
    "        "
   ]
  },
  {
   "cell_type": "code",
   "execution_count": 45,
   "metadata": {},
   "outputs": [],
   "source": [
    "testvec = np.array(dxlist)"
   ]
  },
  {
   "cell_type": "code",
   "execution_count": 46,
   "metadata": {},
   "outputs": [
    {
     "name": "stdout",
     "output_type": "stream",
     "text": [
      "[[-85.43702325]\n",
      " [ -4.0910099 ]\n",
      " [  0.10664293]]\n",
      "0.106642927747025\n"
     ]
    }
   ],
   "source": [
    "print(testvec[150, :, :])\n",
    "# print(testvec)\n",
    "print(biasest[-1])"
   ]
  },
  {
   "cell_type": "code",
   "execution_count": 74,
   "metadata": {},
   "outputs": [],
   "source": [
    "eave, pave, omat = MonteCarloSim(100)\n"
   ]
  },
  {
   "cell_type": "code",
   "execution_count": 53,
   "metadata": {
    "collapsed": true
   },
   "outputs": [
    {
     "data": {
      "application/vnd.plotly.v1+json": {
       "config": {
        "plotlyServerURL": "https://plot.ly"
       },
       "data": [
        {
         "line": {
          "width": 4
         },
         "name": "Error",
         "type": "scatter",
         "x": [
          0,
          0.2,
          0.4,
          0.6000000000000001,
          0.8,
          1,
          1.2000000000000002,
          1.4000000000000001,
          1.6,
          1.8,
          2,
          2.2,
          2.4000000000000004,
          2.6,
          2.8000000000000003,
          3,
          3.2,
          3.4000000000000004,
          3.6,
          3.8000000000000003,
          4,
          4.2,
          4.4,
          4.6000000000000005,
          4.800000000000001,
          5,
          5.2,
          5.4,
          5.6000000000000005,
          5.800000000000001,
          6,
          6.2,
          6.4,
          6.6000000000000005,
          6.800000000000001,
          7,
          7.2,
          7.4,
          7.6000000000000005,
          7.800000000000001,
          8,
          8.200000000000001,
          8.4,
          8.6,
          8.8,
          9,
          9.200000000000001,
          9.4,
          9.600000000000001,
          9.8,
          10,
          10.200000000000001,
          10.4,
          10.600000000000001,
          10.8,
          11,
          11.200000000000001,
          11.4,
          11.600000000000001,
          11.8,
          12,
          12.200000000000001,
          12.4,
          12.600000000000001,
          12.8,
          13,
          13.200000000000001,
          13.4,
          13.600000000000001,
          13.8,
          14,
          14.200000000000001,
          14.4,
          14.600000000000001,
          14.8,
          15,
          15.200000000000001,
          15.4,
          15.600000000000001,
          15.8,
          16,
          16.2,
          16.400000000000002,
          16.6,
          16.8,
          17,
          17.2,
          17.400000000000002,
          17.6,
          17.8,
          18,
          18.2,
          18.400000000000002,
          18.6,
          18.8,
          19,
          19.200000000000003,
          19.400000000000002,
          19.6,
          19.8,
          20,
          20.200000000000003,
          20.400000000000002,
          20.6,
          20.8,
          21,
          21.200000000000003,
          21.400000000000002,
          21.6,
          21.8,
          22,
          22.200000000000003,
          22.400000000000002,
          22.6,
          22.8,
          23,
          23.200000000000003,
          23.400000000000002,
          23.6,
          23.8,
          24,
          24.200000000000003,
          24.400000000000002,
          24.6,
          24.8,
          25,
          25.200000000000003,
          25.400000000000002,
          25.6,
          25.8,
          26,
          26.200000000000003,
          26.400000000000002,
          26.6,
          26.8,
          27,
          27.200000000000003,
          27.400000000000002,
          27.6,
          27.8,
          28,
          28.200000000000003,
          28.400000000000002,
          28.6,
          28.8,
          29,
          29.200000000000003,
          29.400000000000002,
          29.6,
          29.8,
          30
         ],
         "y": [
          0.000503428105262351,
          -0.017395663882922508,
          -0.016902487043678614,
          -0.005739242363734556,
          -0.0012984972081631855,
          0.003980205933103903,
          0.0005104363281151146,
          0.0003900655997963105,
          -0.0006723310050850382,
          0.001003902933600113,
          0.0004191409941271188,
          0.002000998189574578,
          0.00574265705821254,
          0.0037533100159801718,
          0.001619055302431724,
          0.002022110954957194,
          0.0009728095658545818,
          0.0015649883712852974,
          -9.039564744478362e-05,
          -0.0007861392323267627,
          -0.0013725526384513948,
          -8.506528080224434e-05,
          -0.0010351115461539567,
          -0.001897930457815729,
          -0.0027933225152777645,
          -0.0028422733935173847,
          -0.0025921535414381047,
          -0.0013042338765486374,
          -0.003526481265864875,
          -0.00464177014633998,
          -0.004352180336327841,
          -0.004380390680153888,
          -0.0048356740403051966,
          -0.00522218298826193,
          -0.005150783409473903,
          -0.00406715625416565,
          -0.0043926646411863775,
          -0.00379677096582234,
          -0.0032510184973717168,
          -0.003088478201131118,
          -0.0032158543831322314,
          -0.003225322945712873,
          -0.0033732821230715465,
          -0.0036895315597159496,
          -0.002955086074400853,
          -0.0025406718947775355,
          -0.0029746998294892927,
          -0.0035855528997144398,
          -0.004309846992306781,
          -0.003928066788220109,
          -0.004047975714561553,
          -0.005099336869072578,
          -0.00507829668114961,
          -0.005397685810392965,
          -0.006053253342164468,
          -0.0063985993563945446,
          -0.005729207126376619,
          -0.006005709260377936,
          -0.005831074201309947,
          -0.005790601509052863,
          -0.006154881663871249,
          -0.005769138788273223,
          -0.0049493571127999505,
          -0.005312736267672777,
          -0.005430305773013777,
          -0.00482826184913088,
          -0.004620485234934915,
          -0.004161835376395124,
          -0.003840487421281983,
          -0.004648077511133388,
          -0.004351342857987202,
          -0.004301873940092938,
          -0.004754757653564579,
          -0.004976346455190553,
          -0.0055357449096230535,
          -0.006080680863704114,
          -0.006249374287071034,
          -0.0070135558810971955,
          -0.006802525607139549,
          -0.006723538746737755,
          -0.006064233592995979,
          -0.006758135671466725,
          -0.006752463759998472,
          -0.007300147014609931,
          -0.006850075738083636,
          -0.0068714082166011995,
          -0.006942075766519087,
          -0.006528490755867446,
          -0.006650097082389912,
          -0.007441140510682468,
          -0.007167968617615899,
          -0.006747531118810591,
          -0.006687904289946768,
          -0.0066289846927171815,
          -0.006179531758836135,
          -0.0056420321078680105,
          -0.005294035326497437,
          -0.005644771011323392,
          -0.005782043363946678,
          -0.005886228598998744,
          -0.005334803750979847,
          -0.00529826250229105,
          -0.005651681050942088,
          -0.006039362844357875,
          -0.006237521602619466,
          -0.005874777428846777,
          -0.00516554587070101,
          -0.005369366004415387,
          -0.005336353892216702,
          -0.005149569588602125,
          -0.005038934447785844,
          -0.005290750801500038,
          -0.005509487966786642,
          -0.005343604034103868,
          -0.005307002323167667,
          -0.004939435455178707,
          -0.004137100963580986,
          -0.003822355195424078,
          -0.0032256718718594282,
          -0.0036621265107913475,
          -0.0032751175423962327,
          -0.0033024704710777723,
          -0.0037258850536441034,
          -0.0037564462693543193,
          -0.0033016837998732394,
          -0.003781955052843664,
          -0.00425447619096206,
          -0.004230044224123742,
          -0.004193421979814902,
          -0.00411783443296685,
          -0.00392653861101001,
          -0.0033125177259894314,
          -0.0035533559296747003,
          -0.0034808373558272428,
          -0.002831155310228221,
          -0.002980973778501,
          -0.0025400412995319017,
          -0.0023581051508862116,
          -0.00278618145579123,
          -0.0027693340822890935,
          -0.00365527187944926,
          -0.004328941922534566,
          -0.0036589940935615344,
          -0.0035360790652225636,
          -0.003302671049353269,
          -0.0031560270837931803,
          -0.002966265420626285,
          -0.003058986943698437,
          -0.003710076550847945,
          -0.0029626656141020623,
          -0.0027340193172097223
         ]
        }
       ],
       "layout": {
        "template": {
         "data": {
          "bar": [
           {
            "error_x": {
             "color": "#2a3f5f"
            },
            "error_y": {
             "color": "#2a3f5f"
            },
            "marker": {
             "line": {
              "color": "#E5ECF6",
              "width": 0.5
             }
            },
            "type": "bar"
           }
          ],
          "barpolar": [
           {
            "marker": {
             "line": {
              "color": "#E5ECF6",
              "width": 0.5
             }
            },
            "type": "barpolar"
           }
          ],
          "carpet": [
           {
            "aaxis": {
             "endlinecolor": "#2a3f5f",
             "gridcolor": "white",
             "linecolor": "white",
             "minorgridcolor": "white",
             "startlinecolor": "#2a3f5f"
            },
            "baxis": {
             "endlinecolor": "#2a3f5f",
             "gridcolor": "white",
             "linecolor": "white",
             "minorgridcolor": "white",
             "startlinecolor": "#2a3f5f"
            },
            "type": "carpet"
           }
          ],
          "choropleth": [
           {
            "colorbar": {
             "outlinewidth": 0,
             "ticks": ""
            },
            "type": "choropleth"
           }
          ],
          "contour": [
           {
            "colorbar": {
             "outlinewidth": 0,
             "ticks": ""
            },
            "colorscale": [
             [
              0,
              "#0d0887"
             ],
             [
              0.1111111111111111,
              "#46039f"
             ],
             [
              0.2222222222222222,
              "#7201a8"
             ],
             [
              0.3333333333333333,
              "#9c179e"
             ],
             [
              0.4444444444444444,
              "#bd3786"
             ],
             [
              0.5555555555555556,
              "#d8576b"
             ],
             [
              0.6666666666666666,
              "#ed7953"
             ],
             [
              0.7777777777777778,
              "#fb9f3a"
             ],
             [
              0.8888888888888888,
              "#fdca26"
             ],
             [
              1,
              "#f0f921"
             ]
            ],
            "type": "contour"
           }
          ],
          "contourcarpet": [
           {
            "colorbar": {
             "outlinewidth": 0,
             "ticks": ""
            },
            "type": "contourcarpet"
           }
          ],
          "heatmap": [
           {
            "colorbar": {
             "outlinewidth": 0,
             "ticks": ""
            },
            "colorscale": [
             [
              0,
              "#0d0887"
             ],
             [
              0.1111111111111111,
              "#46039f"
             ],
             [
              0.2222222222222222,
              "#7201a8"
             ],
             [
              0.3333333333333333,
              "#9c179e"
             ],
             [
              0.4444444444444444,
              "#bd3786"
             ],
             [
              0.5555555555555556,
              "#d8576b"
             ],
             [
              0.6666666666666666,
              "#ed7953"
             ],
             [
              0.7777777777777778,
              "#fb9f3a"
             ],
             [
              0.8888888888888888,
              "#fdca26"
             ],
             [
              1,
              "#f0f921"
             ]
            ],
            "type": "heatmap"
           }
          ],
          "heatmapgl": [
           {
            "colorbar": {
             "outlinewidth": 0,
             "ticks": ""
            },
            "colorscale": [
             [
              0,
              "#0d0887"
             ],
             [
              0.1111111111111111,
              "#46039f"
             ],
             [
              0.2222222222222222,
              "#7201a8"
             ],
             [
              0.3333333333333333,
              "#9c179e"
             ],
             [
              0.4444444444444444,
              "#bd3786"
             ],
             [
              0.5555555555555556,
              "#d8576b"
             ],
             [
              0.6666666666666666,
              "#ed7953"
             ],
             [
              0.7777777777777778,
              "#fb9f3a"
             ],
             [
              0.8888888888888888,
              "#fdca26"
             ],
             [
              1,
              "#f0f921"
             ]
            ],
            "type": "heatmapgl"
           }
          ],
          "histogram": [
           {
            "marker": {
             "colorbar": {
              "outlinewidth": 0,
              "ticks": ""
             }
            },
            "type": "histogram"
           }
          ],
          "histogram2d": [
           {
            "colorbar": {
             "outlinewidth": 0,
             "ticks": ""
            },
            "colorscale": [
             [
              0,
              "#0d0887"
             ],
             [
              0.1111111111111111,
              "#46039f"
             ],
             [
              0.2222222222222222,
              "#7201a8"
             ],
             [
              0.3333333333333333,
              "#9c179e"
             ],
             [
              0.4444444444444444,
              "#bd3786"
             ],
             [
              0.5555555555555556,
              "#d8576b"
             ],
             [
              0.6666666666666666,
              "#ed7953"
             ],
             [
              0.7777777777777778,
              "#fb9f3a"
             ],
             [
              0.8888888888888888,
              "#fdca26"
             ],
             [
              1,
              "#f0f921"
             ]
            ],
            "type": "histogram2d"
           }
          ],
          "histogram2dcontour": [
           {
            "colorbar": {
             "outlinewidth": 0,
             "ticks": ""
            },
            "colorscale": [
             [
              0,
              "#0d0887"
             ],
             [
              0.1111111111111111,
              "#46039f"
             ],
             [
              0.2222222222222222,
              "#7201a8"
             ],
             [
              0.3333333333333333,
              "#9c179e"
             ],
             [
              0.4444444444444444,
              "#bd3786"
             ],
             [
              0.5555555555555556,
              "#d8576b"
             ],
             [
              0.6666666666666666,
              "#ed7953"
             ],
             [
              0.7777777777777778,
              "#fb9f3a"
             ],
             [
              0.8888888888888888,
              "#fdca26"
             ],
             [
              1,
              "#f0f921"
             ]
            ],
            "type": "histogram2dcontour"
           }
          ],
          "mesh3d": [
           {
            "colorbar": {
             "outlinewidth": 0,
             "ticks": ""
            },
            "type": "mesh3d"
           }
          ],
          "parcoords": [
           {
            "line": {
             "colorbar": {
              "outlinewidth": 0,
              "ticks": ""
             }
            },
            "type": "parcoords"
           }
          ],
          "pie": [
           {
            "automargin": true,
            "type": "pie"
           }
          ],
          "scatter": [
           {
            "marker": {
             "colorbar": {
              "outlinewidth": 0,
              "ticks": ""
             }
            },
            "type": "scatter"
           }
          ],
          "scatter3d": [
           {
            "line": {
             "colorbar": {
              "outlinewidth": 0,
              "ticks": ""
             }
            },
            "marker": {
             "colorbar": {
              "outlinewidth": 0,
              "ticks": ""
             }
            },
            "type": "scatter3d"
           }
          ],
          "scattercarpet": [
           {
            "marker": {
             "colorbar": {
              "outlinewidth": 0,
              "ticks": ""
             }
            },
            "type": "scattercarpet"
           }
          ],
          "scattergeo": [
           {
            "marker": {
             "colorbar": {
              "outlinewidth": 0,
              "ticks": ""
             }
            },
            "type": "scattergeo"
           }
          ],
          "scattergl": [
           {
            "marker": {
             "colorbar": {
              "outlinewidth": 0,
              "ticks": ""
             }
            },
            "type": "scattergl"
           }
          ],
          "scattermapbox": [
           {
            "marker": {
             "colorbar": {
              "outlinewidth": 0,
              "ticks": ""
             }
            },
            "type": "scattermapbox"
           }
          ],
          "scatterpolar": [
           {
            "marker": {
             "colorbar": {
              "outlinewidth": 0,
              "ticks": ""
             }
            },
            "type": "scatterpolar"
           }
          ],
          "scatterpolargl": [
           {
            "marker": {
             "colorbar": {
              "outlinewidth": 0,
              "ticks": ""
             }
            },
            "type": "scatterpolargl"
           }
          ],
          "scatterternary": [
           {
            "marker": {
             "colorbar": {
              "outlinewidth": 0,
              "ticks": ""
             }
            },
            "type": "scatterternary"
           }
          ],
          "surface": [
           {
            "colorbar": {
             "outlinewidth": 0,
             "ticks": ""
            },
            "colorscale": [
             [
              0,
              "#0d0887"
             ],
             [
              0.1111111111111111,
              "#46039f"
             ],
             [
              0.2222222222222222,
              "#7201a8"
             ],
             [
              0.3333333333333333,
              "#9c179e"
             ],
             [
              0.4444444444444444,
              "#bd3786"
             ],
             [
              0.5555555555555556,
              "#d8576b"
             ],
             [
              0.6666666666666666,
              "#ed7953"
             ],
             [
              0.7777777777777778,
              "#fb9f3a"
             ],
             [
              0.8888888888888888,
              "#fdca26"
             ],
             [
              1,
              "#f0f921"
             ]
            ],
            "type": "surface"
           }
          ],
          "table": [
           {
            "cells": {
             "fill": {
              "color": "#EBF0F8"
             },
             "line": {
              "color": "white"
             }
            },
            "header": {
             "fill": {
              "color": "#C8D4E3"
             },
             "line": {
              "color": "white"
             }
            },
            "type": "table"
           }
          ]
         },
         "layout": {
          "annotationdefaults": {
           "arrowcolor": "#2a3f5f",
           "arrowhead": 0,
           "arrowwidth": 1
          },
          "coloraxis": {
           "colorbar": {
            "outlinewidth": 0,
            "ticks": ""
           }
          },
          "colorscale": {
           "diverging": [
            [
             0,
             "#8e0152"
            ],
            [
             0.1,
             "#c51b7d"
            ],
            [
             0.2,
             "#de77ae"
            ],
            [
             0.3,
             "#f1b6da"
            ],
            [
             0.4,
             "#fde0ef"
            ],
            [
             0.5,
             "#f7f7f7"
            ],
            [
             0.6,
             "#e6f5d0"
            ],
            [
             0.7,
             "#b8e186"
            ],
            [
             0.8,
             "#7fbc41"
            ],
            [
             0.9,
             "#4d9221"
            ],
            [
             1,
             "#276419"
            ]
           ],
           "sequential": [
            [
             0,
             "#0d0887"
            ],
            [
             0.1111111111111111,
             "#46039f"
            ],
            [
             0.2222222222222222,
             "#7201a8"
            ],
            [
             0.3333333333333333,
             "#9c179e"
            ],
            [
             0.4444444444444444,
             "#bd3786"
            ],
            [
             0.5555555555555556,
             "#d8576b"
            ],
            [
             0.6666666666666666,
             "#ed7953"
            ],
            [
             0.7777777777777778,
             "#fb9f3a"
            ],
            [
             0.8888888888888888,
             "#fdca26"
            ],
            [
             1,
             "#f0f921"
            ]
           ],
           "sequentialminus": [
            [
             0,
             "#0d0887"
            ],
            [
             0.1111111111111111,
             "#46039f"
            ],
            [
             0.2222222222222222,
             "#7201a8"
            ],
            [
             0.3333333333333333,
             "#9c179e"
            ],
            [
             0.4444444444444444,
             "#bd3786"
            ],
            [
             0.5555555555555556,
             "#d8576b"
            ],
            [
             0.6666666666666666,
             "#ed7953"
            ],
            [
             0.7777777777777778,
             "#fb9f3a"
            ],
            [
             0.8888888888888888,
             "#fdca26"
            ],
            [
             1,
             "#f0f921"
            ]
           ]
          },
          "colorway": [
           "#636efa",
           "#EF553B",
           "#00cc96",
           "#ab63fa",
           "#FFA15A",
           "#19d3f3",
           "#FF6692",
           "#B6E880",
           "#FF97FF",
           "#FECB52"
          ],
          "font": {
           "color": "#2a3f5f"
          },
          "geo": {
           "bgcolor": "white",
           "lakecolor": "white",
           "landcolor": "#E5ECF6",
           "showlakes": true,
           "showland": true,
           "subunitcolor": "white"
          },
          "hoverlabel": {
           "align": "left"
          },
          "hovermode": "closest",
          "mapbox": {
           "style": "light"
          },
          "paper_bgcolor": "white",
          "plot_bgcolor": "#E5ECF6",
          "polar": {
           "angularaxis": {
            "gridcolor": "white",
            "linecolor": "white",
            "ticks": ""
           },
           "bgcolor": "#E5ECF6",
           "radialaxis": {
            "gridcolor": "white",
            "linecolor": "white",
            "ticks": ""
           }
          },
          "scene": {
           "xaxis": {
            "backgroundcolor": "#E5ECF6",
            "gridcolor": "white",
            "gridwidth": 2,
            "linecolor": "white",
            "showbackground": true,
            "ticks": "",
            "zerolinecolor": "white"
           },
           "yaxis": {
            "backgroundcolor": "#E5ECF6",
            "gridcolor": "white",
            "gridwidth": 2,
            "linecolor": "white",
            "showbackground": true,
            "ticks": "",
            "zerolinecolor": "white"
           },
           "zaxis": {
            "backgroundcolor": "#E5ECF6",
            "gridcolor": "white",
            "gridwidth": 2,
            "linecolor": "white",
            "showbackground": true,
            "ticks": "",
            "zerolinecolor": "white"
           }
          },
          "shapedefaults": {
           "line": {
            "color": "#2a3f5f"
           }
          },
          "ternary": {
           "aaxis": {
            "gridcolor": "white",
            "linecolor": "white",
            "ticks": ""
           },
           "baxis": {
            "gridcolor": "white",
            "linecolor": "white",
            "ticks": ""
           },
           "bgcolor": "#E5ECF6",
           "caxis": {
            "gridcolor": "white",
            "linecolor": "white",
            "ticks": ""
           }
          },
          "title": {
           "x": 0.05
          },
          "xaxis": {
           "automargin": true,
           "gridcolor": "white",
           "linecolor": "white",
           "ticks": "",
           "title": {
            "standoff": 15
           },
           "zerolinecolor": "white",
           "zerolinewidth": 2
          },
          "yaxis": {
           "automargin": true,
           "gridcolor": "white",
           "linecolor": "white",
           "ticks": "",
           "title": {
            "standoff": 15
           },
           "zerolinecolor": "white",
           "zerolinewidth": 2
          }
         }
        }
       }
      },
      "text/html": [
       "<div>\n",
       "        \n",
       "        \n",
       "            <div id=\"a02c6198-6552-48c9-8eda-668b14dba1d7\" class=\"plotly-graph-div\" style=\"height:525px; width:100%;\"></div>\n",
       "            <script type=\"text/javascript\">\n",
       "                require([\"plotly\"], function(Plotly) {\n",
       "                    window.PLOTLYENV=window.PLOTLYENV || {};\n",
       "                    \n",
       "                if (document.getElementById(\"a02c6198-6552-48c9-8eda-668b14dba1d7\")) {\n",
       "                    Plotly.newPlot(\n",
       "                        'a02c6198-6552-48c9-8eda-668b14dba1d7',\n",
       "                        [{\"line\": {\"width\": 4}, \"name\": \"Error\", \"type\": \"scatter\", \"x\": [0.0, 0.2, 0.4, 0.6000000000000001, 0.8, 1.0, 1.2000000000000002, 1.4000000000000001, 1.6, 1.8, 2.0, 2.2, 2.4000000000000004, 2.6, 2.8000000000000003, 3.0, 3.2, 3.4000000000000004, 3.6, 3.8000000000000003, 4.0, 4.2, 4.4, 4.6000000000000005, 4.800000000000001, 5.0, 5.2, 5.4, 5.6000000000000005, 5.800000000000001, 6.0, 6.2, 6.4, 6.6000000000000005, 6.800000000000001, 7.0, 7.2, 7.4, 7.6000000000000005, 7.800000000000001, 8.0, 8.200000000000001, 8.4, 8.6, 8.8, 9.0, 9.200000000000001, 9.4, 9.600000000000001, 9.8, 10.0, 10.200000000000001, 10.4, 10.600000000000001, 10.8, 11.0, 11.200000000000001, 11.4, 11.600000000000001, 11.8, 12.0, 12.200000000000001, 12.4, 12.600000000000001, 12.8, 13.0, 13.200000000000001, 13.4, 13.600000000000001, 13.8, 14.0, 14.200000000000001, 14.4, 14.600000000000001, 14.8, 15.0, 15.200000000000001, 15.4, 15.600000000000001, 15.8, 16.0, 16.2, 16.400000000000002, 16.6, 16.8, 17.0, 17.2, 17.400000000000002, 17.6, 17.8, 18.0, 18.2, 18.400000000000002, 18.6, 18.8, 19.0, 19.200000000000003, 19.400000000000002, 19.6, 19.8, 20.0, 20.200000000000003, 20.400000000000002, 20.6, 20.8, 21.0, 21.200000000000003, 21.400000000000002, 21.6, 21.8, 22.0, 22.200000000000003, 22.400000000000002, 22.6, 22.8, 23.0, 23.200000000000003, 23.400000000000002, 23.6, 23.8, 24.0, 24.200000000000003, 24.400000000000002, 24.6, 24.8, 25.0, 25.200000000000003, 25.400000000000002, 25.6, 25.8, 26.0, 26.200000000000003, 26.400000000000002, 26.6, 26.8, 27.0, 27.200000000000003, 27.400000000000002, 27.6, 27.8, 28.0, 28.200000000000003, 28.400000000000002, 28.6, 28.8, 29.0, 29.200000000000003, 29.400000000000002, 29.6, 29.8, 30.0], \"y\": [0.000503428105262351, -0.017395663882922508, -0.016902487043678614, -0.005739242363734556, -0.0012984972081631855, 0.003980205933103903, 0.0005104363281151146, 0.0003900655997963105, -0.0006723310050850382, 0.001003902933600113, 0.0004191409941271188, 0.002000998189574578, 0.00574265705821254, 0.0037533100159801718, 0.001619055302431724, 0.002022110954957194, 0.0009728095658545818, 0.0015649883712852974, -9.039564744478362e-05, -0.0007861392323267627, -0.0013725526384513948, -8.506528080224434e-05, -0.0010351115461539567, -0.001897930457815729, -0.0027933225152777645, -0.0028422733935173847, -0.0025921535414381047, -0.0013042338765486374, -0.003526481265864875, -0.00464177014633998, -0.004352180336327841, -0.004380390680153888, -0.0048356740403051966, -0.00522218298826193, -0.005150783409473903, -0.00406715625416565, -0.0043926646411863775, -0.00379677096582234, -0.0032510184973717168, -0.003088478201131118, -0.0032158543831322314, -0.003225322945712873, -0.0033732821230715465, -0.0036895315597159496, -0.002955086074400853, -0.0025406718947775355, -0.0029746998294892927, -0.0035855528997144398, -0.004309846992306781, -0.003928066788220109, -0.004047975714561553, -0.005099336869072578, -0.00507829668114961, -0.005397685810392965, -0.006053253342164468, -0.0063985993563945446, -0.005729207126376619, -0.006005709260377936, -0.005831074201309947, -0.005790601509052863, -0.006154881663871249, -0.005769138788273223, -0.0049493571127999505, -0.005312736267672777, -0.005430305773013777, -0.00482826184913088, -0.004620485234934915, -0.004161835376395124, -0.003840487421281983, -0.004648077511133388, -0.004351342857987202, -0.004301873940092938, -0.004754757653564579, -0.004976346455190553, -0.0055357449096230535, -0.006080680863704114, -0.006249374287071034, -0.0070135558810971955, -0.006802525607139549, -0.006723538746737755, -0.006064233592995979, -0.006758135671466725, -0.006752463759998472, -0.007300147014609931, -0.006850075738083636, -0.0068714082166011995, -0.006942075766519087, -0.006528490755867446, -0.006650097082389912, -0.007441140510682468, -0.007167968617615899, -0.006747531118810591, -0.006687904289946768, -0.0066289846927171815, -0.006179531758836135, -0.0056420321078680105, -0.005294035326497437, -0.005644771011323392, -0.005782043363946678, -0.005886228598998744, -0.005334803750979847, -0.00529826250229105, -0.005651681050942088, -0.006039362844357875, -0.006237521602619466, -0.005874777428846777, -0.00516554587070101, -0.005369366004415387, -0.005336353892216702, -0.005149569588602125, -0.005038934447785844, -0.005290750801500038, -0.005509487966786642, -0.005343604034103868, -0.005307002323167667, -0.004939435455178707, -0.004137100963580986, -0.003822355195424078, -0.0032256718718594282, -0.0036621265107913475, -0.0032751175423962327, -0.0033024704710777723, -0.0037258850536441034, -0.0037564462693543193, -0.0033016837998732394, -0.003781955052843664, -0.00425447619096206, -0.004230044224123742, -0.004193421979814902, -0.00411783443296685, -0.00392653861101001, -0.0033125177259894314, -0.0035533559296747003, -0.0034808373558272428, -0.002831155310228221, -0.002980973778501, -0.0025400412995319017, -0.0023581051508862116, -0.00278618145579123, -0.0027693340822890935, -0.00365527187944926, -0.004328941922534566, -0.0036589940935615344, -0.0035360790652225636, -0.003302671049353269, -0.0031560270837931803, -0.002966265420626285, -0.003058986943698437, -0.003710076550847945, -0.0029626656141020623, -0.0027340193172097223]}],\n",
       "                        {\"template\": {\"data\": {\"bar\": [{\"error_x\": {\"color\": \"#2a3f5f\"}, \"error_y\": {\"color\": \"#2a3f5f\"}, \"marker\": {\"line\": {\"color\": \"#E5ECF6\", \"width\": 0.5}}, \"type\": \"bar\"}], \"barpolar\": [{\"marker\": {\"line\": {\"color\": \"#E5ECF6\", \"width\": 0.5}}, \"type\": \"barpolar\"}], \"carpet\": [{\"aaxis\": {\"endlinecolor\": \"#2a3f5f\", \"gridcolor\": \"white\", \"linecolor\": \"white\", \"minorgridcolor\": \"white\", \"startlinecolor\": \"#2a3f5f\"}, \"baxis\": {\"endlinecolor\": \"#2a3f5f\", \"gridcolor\": \"white\", \"linecolor\": \"white\", \"minorgridcolor\": \"white\", \"startlinecolor\": \"#2a3f5f\"}, \"type\": \"carpet\"}], \"choropleth\": [{\"colorbar\": {\"outlinewidth\": 0, \"ticks\": \"\"}, \"type\": \"choropleth\"}], \"contour\": [{\"colorbar\": {\"outlinewidth\": 0, \"ticks\": \"\"}, \"colorscale\": [[0.0, \"#0d0887\"], [0.1111111111111111, \"#46039f\"], [0.2222222222222222, \"#7201a8\"], [0.3333333333333333, \"#9c179e\"], [0.4444444444444444, \"#bd3786\"], [0.5555555555555556, \"#d8576b\"], [0.6666666666666666, \"#ed7953\"], [0.7777777777777778, \"#fb9f3a\"], [0.8888888888888888, \"#fdca26\"], [1.0, \"#f0f921\"]], \"type\": \"contour\"}], \"contourcarpet\": [{\"colorbar\": {\"outlinewidth\": 0, \"ticks\": \"\"}, \"type\": \"contourcarpet\"}], \"heatmap\": [{\"colorbar\": {\"outlinewidth\": 0, \"ticks\": \"\"}, \"colorscale\": [[0.0, \"#0d0887\"], [0.1111111111111111, \"#46039f\"], [0.2222222222222222, \"#7201a8\"], [0.3333333333333333, \"#9c179e\"], [0.4444444444444444, \"#bd3786\"], [0.5555555555555556, \"#d8576b\"], [0.6666666666666666, \"#ed7953\"], [0.7777777777777778, \"#fb9f3a\"], [0.8888888888888888, \"#fdca26\"], [1.0, \"#f0f921\"]], \"type\": \"heatmap\"}], \"heatmapgl\": [{\"colorbar\": {\"outlinewidth\": 0, \"ticks\": \"\"}, \"colorscale\": [[0.0, \"#0d0887\"], [0.1111111111111111, \"#46039f\"], [0.2222222222222222, \"#7201a8\"], [0.3333333333333333, \"#9c179e\"], [0.4444444444444444, \"#bd3786\"], [0.5555555555555556, \"#d8576b\"], [0.6666666666666666, \"#ed7953\"], [0.7777777777777778, \"#fb9f3a\"], [0.8888888888888888, \"#fdca26\"], [1.0, \"#f0f921\"]], \"type\": \"heatmapgl\"}], \"histogram\": [{\"marker\": {\"colorbar\": {\"outlinewidth\": 0, \"ticks\": \"\"}}, \"type\": \"histogram\"}], \"histogram2d\": [{\"colorbar\": {\"outlinewidth\": 0, \"ticks\": \"\"}, \"colorscale\": [[0.0, \"#0d0887\"], [0.1111111111111111, \"#46039f\"], [0.2222222222222222, \"#7201a8\"], [0.3333333333333333, \"#9c179e\"], [0.4444444444444444, \"#bd3786\"], [0.5555555555555556, \"#d8576b\"], [0.6666666666666666, \"#ed7953\"], [0.7777777777777778, \"#fb9f3a\"], [0.8888888888888888, \"#fdca26\"], [1.0, \"#f0f921\"]], \"type\": \"histogram2d\"}], \"histogram2dcontour\": [{\"colorbar\": {\"outlinewidth\": 0, \"ticks\": \"\"}, \"colorscale\": [[0.0, \"#0d0887\"], [0.1111111111111111, \"#46039f\"], [0.2222222222222222, \"#7201a8\"], [0.3333333333333333, \"#9c179e\"], [0.4444444444444444, \"#bd3786\"], [0.5555555555555556, \"#d8576b\"], [0.6666666666666666, \"#ed7953\"], [0.7777777777777778, \"#fb9f3a\"], [0.8888888888888888, \"#fdca26\"], [1.0, \"#f0f921\"]], \"type\": \"histogram2dcontour\"}], \"mesh3d\": [{\"colorbar\": {\"outlinewidth\": 0, \"ticks\": \"\"}, \"type\": \"mesh3d\"}], \"parcoords\": [{\"line\": {\"colorbar\": {\"outlinewidth\": 0, \"ticks\": \"\"}}, \"type\": \"parcoords\"}], \"pie\": [{\"automargin\": true, \"type\": \"pie\"}], \"scatter\": [{\"marker\": {\"colorbar\": {\"outlinewidth\": 0, \"ticks\": \"\"}}, \"type\": \"scatter\"}], \"scatter3d\": [{\"line\": {\"colorbar\": {\"outlinewidth\": 0, \"ticks\": \"\"}}, \"marker\": {\"colorbar\": {\"outlinewidth\": 0, \"ticks\": \"\"}}, \"type\": \"scatter3d\"}], \"scattercarpet\": [{\"marker\": {\"colorbar\": {\"outlinewidth\": 0, \"ticks\": \"\"}}, \"type\": \"scattercarpet\"}], \"scattergeo\": [{\"marker\": {\"colorbar\": {\"outlinewidth\": 0, \"ticks\": \"\"}}, \"type\": \"scattergeo\"}], \"scattergl\": [{\"marker\": {\"colorbar\": {\"outlinewidth\": 0, \"ticks\": \"\"}}, \"type\": \"scattergl\"}], \"scattermapbox\": [{\"marker\": {\"colorbar\": {\"outlinewidth\": 0, \"ticks\": \"\"}}, \"type\": \"scattermapbox\"}], \"scatterpolar\": [{\"marker\": {\"colorbar\": {\"outlinewidth\": 0, \"ticks\": \"\"}}, \"type\": \"scatterpolar\"}], \"scatterpolargl\": [{\"marker\": {\"colorbar\": {\"outlinewidth\": 0, \"ticks\": \"\"}}, \"type\": \"scatterpolargl\"}], \"scatterternary\": [{\"marker\": {\"colorbar\": {\"outlinewidth\": 0, \"ticks\": \"\"}}, \"type\": \"scatterternary\"}], \"surface\": [{\"colorbar\": {\"outlinewidth\": 0, \"ticks\": \"\"}, \"colorscale\": [[0.0, \"#0d0887\"], [0.1111111111111111, \"#46039f\"], [0.2222222222222222, \"#7201a8\"], [0.3333333333333333, \"#9c179e\"], [0.4444444444444444, \"#bd3786\"], [0.5555555555555556, \"#d8576b\"], [0.6666666666666666, \"#ed7953\"], [0.7777777777777778, \"#fb9f3a\"], [0.8888888888888888, \"#fdca26\"], [1.0, \"#f0f921\"]], \"type\": \"surface\"}], \"table\": [{\"cells\": {\"fill\": {\"color\": \"#EBF0F8\"}, \"line\": {\"color\": \"white\"}}, \"header\": {\"fill\": {\"color\": \"#C8D4E3\"}, \"line\": {\"color\": \"white\"}}, \"type\": \"table\"}]}, \"layout\": {\"annotationdefaults\": {\"arrowcolor\": \"#2a3f5f\", \"arrowhead\": 0, \"arrowwidth\": 1}, \"coloraxis\": {\"colorbar\": {\"outlinewidth\": 0, \"ticks\": \"\"}}, \"colorscale\": {\"diverging\": [[0, \"#8e0152\"], [0.1, \"#c51b7d\"], [0.2, \"#de77ae\"], [0.3, \"#f1b6da\"], [0.4, \"#fde0ef\"], [0.5, \"#f7f7f7\"], [0.6, \"#e6f5d0\"], [0.7, \"#b8e186\"], [0.8, \"#7fbc41\"], [0.9, \"#4d9221\"], [1, \"#276419\"]], \"sequential\": [[0.0, \"#0d0887\"], [0.1111111111111111, \"#46039f\"], [0.2222222222222222, \"#7201a8\"], [0.3333333333333333, \"#9c179e\"], [0.4444444444444444, \"#bd3786\"], [0.5555555555555556, \"#d8576b\"], [0.6666666666666666, \"#ed7953\"], [0.7777777777777778, \"#fb9f3a\"], [0.8888888888888888, \"#fdca26\"], [1.0, \"#f0f921\"]], \"sequentialminus\": [[0.0, \"#0d0887\"], [0.1111111111111111, \"#46039f\"], [0.2222222222222222, \"#7201a8\"], [0.3333333333333333, \"#9c179e\"], [0.4444444444444444, \"#bd3786\"], [0.5555555555555556, \"#d8576b\"], [0.6666666666666666, \"#ed7953\"], [0.7777777777777778, \"#fb9f3a\"], [0.8888888888888888, \"#fdca26\"], [1.0, \"#f0f921\"]]}, \"colorway\": [\"#636efa\", \"#EF553B\", \"#00cc96\", \"#ab63fa\", \"#FFA15A\", \"#19d3f3\", \"#FF6692\", \"#B6E880\", \"#FF97FF\", \"#FECB52\"], \"font\": {\"color\": \"#2a3f5f\"}, \"geo\": {\"bgcolor\": \"white\", \"lakecolor\": \"white\", \"landcolor\": \"#E5ECF6\", \"showlakes\": true, \"showland\": true, \"subunitcolor\": \"white\"}, \"hoverlabel\": {\"align\": \"left\"}, \"hovermode\": \"closest\", \"mapbox\": {\"style\": \"light\"}, \"paper_bgcolor\": \"white\", \"plot_bgcolor\": \"#E5ECF6\", \"polar\": {\"angularaxis\": {\"gridcolor\": \"white\", \"linecolor\": \"white\", \"ticks\": \"\"}, \"bgcolor\": \"#E5ECF6\", \"radialaxis\": {\"gridcolor\": \"white\", \"linecolor\": \"white\", \"ticks\": \"\"}}, \"scene\": {\"xaxis\": {\"backgroundcolor\": \"#E5ECF6\", \"gridcolor\": \"white\", \"gridwidth\": 2, \"linecolor\": \"white\", \"showbackground\": true, \"ticks\": \"\", \"zerolinecolor\": \"white\"}, \"yaxis\": {\"backgroundcolor\": \"#E5ECF6\", \"gridcolor\": \"white\", \"gridwidth\": 2, \"linecolor\": \"white\", \"showbackground\": true, \"ticks\": \"\", \"zerolinecolor\": \"white\"}, \"zaxis\": {\"backgroundcolor\": \"#E5ECF6\", \"gridcolor\": \"white\", \"gridwidth\": 2, \"linecolor\": \"white\", \"showbackground\": true, \"ticks\": \"\", \"zerolinecolor\": \"white\"}}, \"shapedefaults\": {\"line\": {\"color\": \"#2a3f5f\"}}, \"ternary\": {\"aaxis\": {\"gridcolor\": \"white\", \"linecolor\": \"white\", \"ticks\": \"\"}, \"baxis\": {\"gridcolor\": \"white\", \"linecolor\": \"white\", \"ticks\": \"\"}, \"bgcolor\": \"#E5ECF6\", \"caxis\": {\"gridcolor\": \"white\", \"linecolor\": \"white\", \"ticks\": \"\"}}, \"title\": {\"x\": 0.05}, \"xaxis\": {\"automargin\": true, \"gridcolor\": \"white\", \"linecolor\": \"white\", \"ticks\": \"\", \"title\": {\"standoff\": 15}, \"zerolinecolor\": \"white\", \"zerolinewidth\": 2}, \"yaxis\": {\"automargin\": true, \"gridcolor\": \"white\", \"linecolor\": \"white\", \"ticks\": \"\", \"title\": {\"standoff\": 15}, \"zerolinecolor\": \"white\", \"zerolinewidth\": 2}}}},\n",
       "                        {\"responsive\": true}\n",
       "                    ).then(function(){\n",
       "                            \n",
       "var gd = document.getElementById('a02c6198-6552-48c9-8eda-668b14dba1d7');\n",
       "var x = new MutationObserver(function (mutations, observer) {{\n",
       "        var display = window.getComputedStyle(gd).display;\n",
       "        if (!display || display === 'none') {{\n",
       "            console.log([gd, 'removed!']);\n",
       "            Plotly.purge(gd);\n",
       "            observer.disconnect();\n",
       "        }}\n",
       "}});\n",
       "\n",
       "// Listen for the removal of the full notebook cells\n",
       "var notebookContainer = gd.closest('#notebook-container');\n",
       "if (notebookContainer) {{\n",
       "    x.observe(notebookContainer, {childList: true});\n",
       "}}\n",
       "\n",
       "// Listen for the clearing of the current output cell\n",
       "var outputEl = gd.closest('.output');\n",
       "if (outputEl) {{\n",
       "    x.observe(outputEl, {childList: true});\n",
       "}}\n",
       "\n",
       "                        })\n",
       "                };\n",
       "                });\n",
       "            </script>\n",
       "        </div>"
      ]
     },
     "metadata": {},
     "output_type": "display_data"
    },
    {
     "data": {
      "application/vnd.plotly.v1+json": {
       "config": {
        "plotlyServerURL": "https://plot.ly"
       },
       "data": [
        {
         "line": {
          "width": 4
         },
         "name": "Error",
         "type": "scatter",
         "x": [
          0,
          0.2,
          0.4,
          0.6000000000000001,
          0.8,
          1,
          1.2000000000000002,
          1.4000000000000001,
          1.6,
          1.8,
          2,
          2.2,
          2.4000000000000004,
          2.6,
          2.8000000000000003,
          3,
          3.2,
          3.4000000000000004,
          3.6,
          3.8000000000000003,
          4,
          4.2,
          4.4,
          4.6000000000000005,
          4.800000000000001,
          5,
          5.2,
          5.4,
          5.6000000000000005,
          5.800000000000001,
          6,
          6.2,
          6.4,
          6.6000000000000005,
          6.800000000000001,
          7,
          7.2,
          7.4,
          7.6000000000000005,
          7.800000000000001,
          8,
          8.200000000000001,
          8.4,
          8.6,
          8.8,
          9,
          9.200000000000001,
          9.4,
          9.600000000000001,
          9.8,
          10,
          10.200000000000001,
          10.4,
          10.600000000000001,
          10.8,
          11,
          11.200000000000001,
          11.4,
          11.600000000000001,
          11.8,
          12,
          12.200000000000001,
          12.4,
          12.600000000000001,
          12.8,
          13,
          13.200000000000001,
          13.4,
          13.600000000000001,
          13.8,
          14,
          14.200000000000001,
          14.4,
          14.600000000000001,
          14.8,
          15,
          15.200000000000001,
          15.4,
          15.600000000000001,
          15.8,
          16,
          16.2,
          16.400000000000002,
          16.6,
          16.8,
          17,
          17.2,
          17.400000000000002,
          17.6,
          17.8,
          18,
          18.2,
          18.400000000000002,
          18.6,
          18.8,
          19,
          19.200000000000003,
          19.400000000000002,
          19.6,
          19.8,
          20,
          20.200000000000003,
          20.400000000000002,
          20.6,
          20.8,
          21,
          21.200000000000003,
          21.400000000000002,
          21.6,
          21.8,
          22,
          22.200000000000003,
          22.400000000000002,
          22.6,
          22.8,
          23,
          23.200000000000003,
          23.400000000000002,
          23.6,
          23.8,
          24,
          24.200000000000003,
          24.400000000000002,
          24.6,
          24.8,
          25,
          25.200000000000003,
          25.400000000000002,
          25.6,
          25.8,
          26,
          26.200000000000003,
          26.400000000000002,
          26.6,
          26.8,
          27,
          27.200000000000003,
          27.400000000000002,
          27.6,
          27.8,
          28,
          28.200000000000003,
          28.400000000000002,
          28.6,
          28.8,
          29,
          29.200000000000003,
          29.400000000000002,
          29.6,
          29.8,
          30
         ],
         "y": [
          -0.014456355645182604,
          -0.006827686974722944,
          -0.0032579139959993983,
          -0.002126031457851516,
          0.00030804554476140413,
          0.001956313851980558,
          0.001328820463721386,
          0.0015150361027987925,
          0.001824788197653512,
          0.00162574941450345,
          0.001323551084520839,
          0.001410188642022923,
          0.0008291808134619949,
          0.001183009190332464,
          0.0011429413991099844,
          0.0017330116155156938,
          0.002454476670783257,
          0.002845074077631648,
          0.002305882610739212,
          0.0016882551397840975,
          0.0016699141572381242,
          0.001584539858931464,
          0.0017160679184117492,
          0.001833756455349478,
          0.0014625882470016356,
          0.0012323114522987658,
          0.0013579572816121706,
          0.0013028497343997667,
          0.0009299466132591351,
          0.0011728481006030135,
          0.0009016036355250764,
          0.0011319886720247568,
          0.0010572070645541072,
          0.0010436397826971016,
          0.0008614137925303749,
          0.001009269549157576,
          0.0010171589135857858,
          0.0012659781896999492,
          0.0012772947961571673,
          0.0011205783839701893,
          0.001182445576114139,
          0.0009249413458516911,
          0.00084139022766604,
          0.0009282111303316287,
          0.0011324642155361717,
          0.0011574014095124918,
          0.0009778017282623627,
          0.0009421838636393909,
          0.0008784669825089954,
          0.0007040816186816565,
          0.0007508556287755255,
          0.00033292894044256515,
          0.00034767582805435613,
          0.00018225089456144384,
          0.0001668820714426327,
          0.00010439146107421807,
          -2.5522275123924728e-05,
          -0.00035626775381663553,
          -0.00018274952462289586,
          2.4082662908884792e-05,
          0.0001710518256314154,
          9.43666240379778e-05,
          0.0003516327298155252,
          0.00044418413643597615,
          0.00033977903295641604,
          0.0003755550400216561,
          0.0006037589168149009,
          0.0006885156229347258,
          0.0006982322972854074,
          0.000557904097032601,
          0.000598343474347742,
          0.0005466740214840337,
          0.0005326670824882077,
          0.0005589534679945416,
          0.0004622653719079192,
          0.00028371212077374835,
          0.00019181771006824302,
          0.00012092487883833075,
          0.00012800669769645113,
          0.0001429377897834831,
          0.00029336134024858664,
          0.00017991496742724377,
          0.00012795131982065307,
          -4.470959291026175e-05,
          0.00020428785080475167,
          0.00047462442123604067,
          0.0007033186045606914,
          0.0005891092528022428,
          0.0006374525788466898,
          0.0006795744423489894,
          0.0005518311932964602,
          0.0004834775682216743,
          0.000521954456891963,
          0.0003487574935847421,
          0.00038350844197940567,
          0.0004235674264861003,
          0.0004896995250019069,
          0.0003650102559830909,
          6.734175222535396e-05,
          0.00014529302272021428,
          0.0002572818441566093,
          0.0001802400527879921,
          8.086986496581249e-05,
          -6.768156555480122e-05,
          -1.1935074091154005e-05,
          0.00010116912122069932,
          0.0002625362424727791,
          4.366583062296883e-05,
          0.0002990280430464534,
          0.0004627532181758418,
          0.00038184106561443165,
          0.00014189877053435377,
          4.354310289226643e-05,
          0.00022912248611503734,
          0.0002744194902746659,
          0.00030946489878973184,
          0.000599275786433765,
          0.0005956974247176354,
          0.0006682854875097453,
          0.0005948711817518426,
          0.000743374430945438,
          0.000654767787583636,
          0.000548977671353281,
          0.0005072015284556261,
          0.0006124293159787453,
          0.00026449907255474847,
          9.609155178142964e-05,
          0.00010039919279214107,
          7.656210367933843e-05,
          0.0001821826336076306,
          0.0003472769077149411,
          0.0003814736475546033,
          0.00017129097738003188,
          0.00022283537696279193,
          0.00032809888715032003,
          0.000273127581194858,
          0.0003229986439726772,
          0.0002386922109762763,
          0.0001864749128829818,
          0.0001236751260086987,
          8.593741746657834e-05,
          2.690610580108961e-05,
          -1.6262818728215474e-05,
          8.539975414581614e-05,
          0.00024227325157641754,
          0.00019990195241769882,
          0.0002259637541254008,
          0.00024215873390859277,
          0.00015179872440910345,
          0.0003742085447846281,
          0.0002583960772780251
         ]
        }
       ],
       "layout": {
        "template": {
         "data": {
          "bar": [
           {
            "error_x": {
             "color": "#2a3f5f"
            },
            "error_y": {
             "color": "#2a3f5f"
            },
            "marker": {
             "line": {
              "color": "#E5ECF6",
              "width": 0.5
             }
            },
            "type": "bar"
           }
          ],
          "barpolar": [
           {
            "marker": {
             "line": {
              "color": "#E5ECF6",
              "width": 0.5
             }
            },
            "type": "barpolar"
           }
          ],
          "carpet": [
           {
            "aaxis": {
             "endlinecolor": "#2a3f5f",
             "gridcolor": "white",
             "linecolor": "white",
             "minorgridcolor": "white",
             "startlinecolor": "#2a3f5f"
            },
            "baxis": {
             "endlinecolor": "#2a3f5f",
             "gridcolor": "white",
             "linecolor": "white",
             "minorgridcolor": "white",
             "startlinecolor": "#2a3f5f"
            },
            "type": "carpet"
           }
          ],
          "choropleth": [
           {
            "colorbar": {
             "outlinewidth": 0,
             "ticks": ""
            },
            "type": "choropleth"
           }
          ],
          "contour": [
           {
            "colorbar": {
             "outlinewidth": 0,
             "ticks": ""
            },
            "colorscale": [
             [
              0,
              "#0d0887"
             ],
             [
              0.1111111111111111,
              "#46039f"
             ],
             [
              0.2222222222222222,
              "#7201a8"
             ],
             [
              0.3333333333333333,
              "#9c179e"
             ],
             [
              0.4444444444444444,
              "#bd3786"
             ],
             [
              0.5555555555555556,
              "#d8576b"
             ],
             [
              0.6666666666666666,
              "#ed7953"
             ],
             [
              0.7777777777777778,
              "#fb9f3a"
             ],
             [
              0.8888888888888888,
              "#fdca26"
             ],
             [
              1,
              "#f0f921"
             ]
            ],
            "type": "contour"
           }
          ],
          "contourcarpet": [
           {
            "colorbar": {
             "outlinewidth": 0,
             "ticks": ""
            },
            "type": "contourcarpet"
           }
          ],
          "heatmap": [
           {
            "colorbar": {
             "outlinewidth": 0,
             "ticks": ""
            },
            "colorscale": [
             [
              0,
              "#0d0887"
             ],
             [
              0.1111111111111111,
              "#46039f"
             ],
             [
              0.2222222222222222,
              "#7201a8"
             ],
             [
              0.3333333333333333,
              "#9c179e"
             ],
             [
              0.4444444444444444,
              "#bd3786"
             ],
             [
              0.5555555555555556,
              "#d8576b"
             ],
             [
              0.6666666666666666,
              "#ed7953"
             ],
             [
              0.7777777777777778,
              "#fb9f3a"
             ],
             [
              0.8888888888888888,
              "#fdca26"
             ],
             [
              1,
              "#f0f921"
             ]
            ],
            "type": "heatmap"
           }
          ],
          "heatmapgl": [
           {
            "colorbar": {
             "outlinewidth": 0,
             "ticks": ""
            },
            "colorscale": [
             [
              0,
              "#0d0887"
             ],
             [
              0.1111111111111111,
              "#46039f"
             ],
             [
              0.2222222222222222,
              "#7201a8"
             ],
             [
              0.3333333333333333,
              "#9c179e"
             ],
             [
              0.4444444444444444,
              "#bd3786"
             ],
             [
              0.5555555555555556,
              "#d8576b"
             ],
             [
              0.6666666666666666,
              "#ed7953"
             ],
             [
              0.7777777777777778,
              "#fb9f3a"
             ],
             [
              0.8888888888888888,
              "#fdca26"
             ],
             [
              1,
              "#f0f921"
             ]
            ],
            "type": "heatmapgl"
           }
          ],
          "histogram": [
           {
            "marker": {
             "colorbar": {
              "outlinewidth": 0,
              "ticks": ""
             }
            },
            "type": "histogram"
           }
          ],
          "histogram2d": [
           {
            "colorbar": {
             "outlinewidth": 0,
             "ticks": ""
            },
            "colorscale": [
             [
              0,
              "#0d0887"
             ],
             [
              0.1111111111111111,
              "#46039f"
             ],
             [
              0.2222222222222222,
              "#7201a8"
             ],
             [
              0.3333333333333333,
              "#9c179e"
             ],
             [
              0.4444444444444444,
              "#bd3786"
             ],
             [
              0.5555555555555556,
              "#d8576b"
             ],
             [
              0.6666666666666666,
              "#ed7953"
             ],
             [
              0.7777777777777778,
              "#fb9f3a"
             ],
             [
              0.8888888888888888,
              "#fdca26"
             ],
             [
              1,
              "#f0f921"
             ]
            ],
            "type": "histogram2d"
           }
          ],
          "histogram2dcontour": [
           {
            "colorbar": {
             "outlinewidth": 0,
             "ticks": ""
            },
            "colorscale": [
             [
              0,
              "#0d0887"
             ],
             [
              0.1111111111111111,
              "#46039f"
             ],
             [
              0.2222222222222222,
              "#7201a8"
             ],
             [
              0.3333333333333333,
              "#9c179e"
             ],
             [
              0.4444444444444444,
              "#bd3786"
             ],
             [
              0.5555555555555556,
              "#d8576b"
             ],
             [
              0.6666666666666666,
              "#ed7953"
             ],
             [
              0.7777777777777778,
              "#fb9f3a"
             ],
             [
              0.8888888888888888,
              "#fdca26"
             ],
             [
              1,
              "#f0f921"
             ]
            ],
            "type": "histogram2dcontour"
           }
          ],
          "mesh3d": [
           {
            "colorbar": {
             "outlinewidth": 0,
             "ticks": ""
            },
            "type": "mesh3d"
           }
          ],
          "parcoords": [
           {
            "line": {
             "colorbar": {
              "outlinewidth": 0,
              "ticks": ""
             }
            },
            "type": "parcoords"
           }
          ],
          "pie": [
           {
            "automargin": true,
            "type": "pie"
           }
          ],
          "scatter": [
           {
            "marker": {
             "colorbar": {
              "outlinewidth": 0,
              "ticks": ""
             }
            },
            "type": "scatter"
           }
          ],
          "scatter3d": [
           {
            "line": {
             "colorbar": {
              "outlinewidth": 0,
              "ticks": ""
             }
            },
            "marker": {
             "colorbar": {
              "outlinewidth": 0,
              "ticks": ""
             }
            },
            "type": "scatter3d"
           }
          ],
          "scattercarpet": [
           {
            "marker": {
             "colorbar": {
              "outlinewidth": 0,
              "ticks": ""
             }
            },
            "type": "scattercarpet"
           }
          ],
          "scattergeo": [
           {
            "marker": {
             "colorbar": {
              "outlinewidth": 0,
              "ticks": ""
             }
            },
            "type": "scattergeo"
           }
          ],
          "scattergl": [
           {
            "marker": {
             "colorbar": {
              "outlinewidth": 0,
              "ticks": ""
             }
            },
            "type": "scattergl"
           }
          ],
          "scattermapbox": [
           {
            "marker": {
             "colorbar": {
              "outlinewidth": 0,
              "ticks": ""
             }
            },
            "type": "scattermapbox"
           }
          ],
          "scatterpolar": [
           {
            "marker": {
             "colorbar": {
              "outlinewidth": 0,
              "ticks": ""
             }
            },
            "type": "scatterpolar"
           }
          ],
          "scatterpolargl": [
           {
            "marker": {
             "colorbar": {
              "outlinewidth": 0,
              "ticks": ""
             }
            },
            "type": "scatterpolargl"
           }
          ],
          "scatterternary": [
           {
            "marker": {
             "colorbar": {
              "outlinewidth": 0,
              "ticks": ""
             }
            },
            "type": "scatterternary"
           }
          ],
          "surface": [
           {
            "colorbar": {
             "outlinewidth": 0,
             "ticks": ""
            },
            "colorscale": [
             [
              0,
              "#0d0887"
             ],
             [
              0.1111111111111111,
              "#46039f"
             ],
             [
              0.2222222222222222,
              "#7201a8"
             ],
             [
              0.3333333333333333,
              "#9c179e"
             ],
             [
              0.4444444444444444,
              "#bd3786"
             ],
             [
              0.5555555555555556,
              "#d8576b"
             ],
             [
              0.6666666666666666,
              "#ed7953"
             ],
             [
              0.7777777777777778,
              "#fb9f3a"
             ],
             [
              0.8888888888888888,
              "#fdca26"
             ],
             [
              1,
              "#f0f921"
             ]
            ],
            "type": "surface"
           }
          ],
          "table": [
           {
            "cells": {
             "fill": {
              "color": "#EBF0F8"
             },
             "line": {
              "color": "white"
             }
            },
            "header": {
             "fill": {
              "color": "#C8D4E3"
             },
             "line": {
              "color": "white"
             }
            },
            "type": "table"
           }
          ]
         },
         "layout": {
          "annotationdefaults": {
           "arrowcolor": "#2a3f5f",
           "arrowhead": 0,
           "arrowwidth": 1
          },
          "coloraxis": {
           "colorbar": {
            "outlinewidth": 0,
            "ticks": ""
           }
          },
          "colorscale": {
           "diverging": [
            [
             0,
             "#8e0152"
            ],
            [
             0.1,
             "#c51b7d"
            ],
            [
             0.2,
             "#de77ae"
            ],
            [
             0.3,
             "#f1b6da"
            ],
            [
             0.4,
             "#fde0ef"
            ],
            [
             0.5,
             "#f7f7f7"
            ],
            [
             0.6,
             "#e6f5d0"
            ],
            [
             0.7,
             "#b8e186"
            ],
            [
             0.8,
             "#7fbc41"
            ],
            [
             0.9,
             "#4d9221"
            ],
            [
             1,
             "#276419"
            ]
           ],
           "sequential": [
            [
             0,
             "#0d0887"
            ],
            [
             0.1111111111111111,
             "#46039f"
            ],
            [
             0.2222222222222222,
             "#7201a8"
            ],
            [
             0.3333333333333333,
             "#9c179e"
            ],
            [
             0.4444444444444444,
             "#bd3786"
            ],
            [
             0.5555555555555556,
             "#d8576b"
            ],
            [
             0.6666666666666666,
             "#ed7953"
            ],
            [
             0.7777777777777778,
             "#fb9f3a"
            ],
            [
             0.8888888888888888,
             "#fdca26"
            ],
            [
             1,
             "#f0f921"
            ]
           ],
           "sequentialminus": [
            [
             0,
             "#0d0887"
            ],
            [
             0.1111111111111111,
             "#46039f"
            ],
            [
             0.2222222222222222,
             "#7201a8"
            ],
            [
             0.3333333333333333,
             "#9c179e"
            ],
            [
             0.4444444444444444,
             "#bd3786"
            ],
            [
             0.5555555555555556,
             "#d8576b"
            ],
            [
             0.6666666666666666,
             "#ed7953"
            ],
            [
             0.7777777777777778,
             "#fb9f3a"
            ],
            [
             0.8888888888888888,
             "#fdca26"
            ],
            [
             1,
             "#f0f921"
            ]
           ]
          },
          "colorway": [
           "#636efa",
           "#EF553B",
           "#00cc96",
           "#ab63fa",
           "#FFA15A",
           "#19d3f3",
           "#FF6692",
           "#B6E880",
           "#FF97FF",
           "#FECB52"
          ],
          "font": {
           "color": "#2a3f5f"
          },
          "geo": {
           "bgcolor": "white",
           "lakecolor": "white",
           "landcolor": "#E5ECF6",
           "showlakes": true,
           "showland": true,
           "subunitcolor": "white"
          },
          "hoverlabel": {
           "align": "left"
          },
          "hovermode": "closest",
          "mapbox": {
           "style": "light"
          },
          "paper_bgcolor": "white",
          "plot_bgcolor": "#E5ECF6",
          "polar": {
           "angularaxis": {
            "gridcolor": "white",
            "linecolor": "white",
            "ticks": ""
           },
           "bgcolor": "#E5ECF6",
           "radialaxis": {
            "gridcolor": "white",
            "linecolor": "white",
            "ticks": ""
           }
          },
          "scene": {
           "xaxis": {
            "backgroundcolor": "#E5ECF6",
            "gridcolor": "white",
            "gridwidth": 2,
            "linecolor": "white",
            "showbackground": true,
            "ticks": "",
            "zerolinecolor": "white"
           },
           "yaxis": {
            "backgroundcolor": "#E5ECF6",
            "gridcolor": "white",
            "gridwidth": 2,
            "linecolor": "white",
            "showbackground": true,
            "ticks": "",
            "zerolinecolor": "white"
           },
           "zaxis": {
            "backgroundcolor": "#E5ECF6",
            "gridcolor": "white",
            "gridwidth": 2,
            "linecolor": "white",
            "showbackground": true,
            "ticks": "",
            "zerolinecolor": "white"
           }
          },
          "shapedefaults": {
           "line": {
            "color": "#2a3f5f"
           }
          },
          "ternary": {
           "aaxis": {
            "gridcolor": "white",
            "linecolor": "white",
            "ticks": ""
           },
           "baxis": {
            "gridcolor": "white",
            "linecolor": "white",
            "ticks": ""
           },
           "bgcolor": "#E5ECF6",
           "caxis": {
            "gridcolor": "white",
            "linecolor": "white",
            "ticks": ""
           }
          },
          "title": {
           "x": 0.05
          },
          "xaxis": {
           "automargin": true,
           "gridcolor": "white",
           "linecolor": "white",
           "ticks": "",
           "title": {
            "standoff": 15
           },
           "zerolinecolor": "white",
           "zerolinewidth": 2
          },
          "yaxis": {
           "automargin": true,
           "gridcolor": "white",
           "linecolor": "white",
           "ticks": "",
           "title": {
            "standoff": 15
           },
           "zerolinecolor": "white",
           "zerolinewidth": 2
          }
         }
        }
       }
      },
      "text/html": [
       "<div>\n",
       "        \n",
       "        \n",
       "            <div id=\"ec45db1b-bb9b-42bb-b326-0634cd69e5c6\" class=\"plotly-graph-div\" style=\"height:525px; width:100%;\"></div>\n",
       "            <script type=\"text/javascript\">\n",
       "                require([\"plotly\"], function(Plotly) {\n",
       "                    window.PLOTLYENV=window.PLOTLYENV || {};\n",
       "                    \n",
       "                if (document.getElementById(\"ec45db1b-bb9b-42bb-b326-0634cd69e5c6\")) {\n",
       "                    Plotly.newPlot(\n",
       "                        'ec45db1b-bb9b-42bb-b326-0634cd69e5c6',\n",
       "                        [{\"line\": {\"width\": 4}, \"name\": \"Error\", \"type\": \"scatter\", \"x\": [0.0, 0.2, 0.4, 0.6000000000000001, 0.8, 1.0, 1.2000000000000002, 1.4000000000000001, 1.6, 1.8, 2.0, 2.2, 2.4000000000000004, 2.6, 2.8000000000000003, 3.0, 3.2, 3.4000000000000004, 3.6, 3.8000000000000003, 4.0, 4.2, 4.4, 4.6000000000000005, 4.800000000000001, 5.0, 5.2, 5.4, 5.6000000000000005, 5.800000000000001, 6.0, 6.2, 6.4, 6.6000000000000005, 6.800000000000001, 7.0, 7.2, 7.4, 7.6000000000000005, 7.800000000000001, 8.0, 8.200000000000001, 8.4, 8.6, 8.8, 9.0, 9.200000000000001, 9.4, 9.600000000000001, 9.8, 10.0, 10.200000000000001, 10.4, 10.600000000000001, 10.8, 11.0, 11.200000000000001, 11.4, 11.600000000000001, 11.8, 12.0, 12.200000000000001, 12.4, 12.600000000000001, 12.8, 13.0, 13.200000000000001, 13.4, 13.600000000000001, 13.8, 14.0, 14.200000000000001, 14.4, 14.600000000000001, 14.8, 15.0, 15.200000000000001, 15.4, 15.600000000000001, 15.8, 16.0, 16.2, 16.400000000000002, 16.6, 16.8, 17.0, 17.2, 17.400000000000002, 17.6, 17.8, 18.0, 18.2, 18.400000000000002, 18.6, 18.8, 19.0, 19.200000000000003, 19.400000000000002, 19.6, 19.8, 20.0, 20.200000000000003, 20.400000000000002, 20.6, 20.8, 21.0, 21.200000000000003, 21.400000000000002, 21.6, 21.8, 22.0, 22.200000000000003, 22.400000000000002, 22.6, 22.8, 23.0, 23.200000000000003, 23.400000000000002, 23.6, 23.8, 24.0, 24.200000000000003, 24.400000000000002, 24.6, 24.8, 25.0, 25.200000000000003, 25.400000000000002, 25.6, 25.8, 26.0, 26.200000000000003, 26.400000000000002, 26.6, 26.8, 27.0, 27.200000000000003, 27.400000000000002, 27.6, 27.8, 28.0, 28.200000000000003, 28.400000000000002, 28.6, 28.8, 29.0, 29.200000000000003, 29.400000000000002, 29.6, 29.8, 30.0], \"y\": [-0.014456355645182604, -0.006827686974722944, -0.0032579139959993983, -0.002126031457851516, 0.00030804554476140413, 0.001956313851980558, 0.001328820463721386, 0.0015150361027987925, 0.001824788197653512, 0.00162574941450345, 0.001323551084520839, 0.001410188642022923, 0.0008291808134619949, 0.001183009190332464, 0.0011429413991099844, 0.0017330116155156938, 0.002454476670783257, 0.002845074077631648, 0.002305882610739212, 0.0016882551397840975, 0.0016699141572381242, 0.001584539858931464, 0.0017160679184117492, 0.001833756455349478, 0.0014625882470016356, 0.0012323114522987658, 0.0013579572816121706, 0.0013028497343997667, 0.0009299466132591351, 0.0011728481006030135, 0.0009016036355250764, 0.0011319886720247568, 0.0010572070645541072, 0.0010436397826971016, 0.0008614137925303749, 0.001009269549157576, 0.0010171589135857858, 0.0012659781896999492, 0.0012772947961571673, 0.0011205783839701893, 0.001182445576114139, 0.0009249413458516911, 0.00084139022766604, 0.0009282111303316287, 0.0011324642155361717, 0.0011574014095124918, 0.0009778017282623627, 0.0009421838636393909, 0.0008784669825089954, 0.0007040816186816565, 0.0007508556287755255, 0.00033292894044256515, 0.00034767582805435613, 0.00018225089456144384, 0.0001668820714426327, 0.00010439146107421807, -2.5522275123924728e-05, -0.00035626775381663553, -0.00018274952462289586, 2.4082662908884792e-05, 0.0001710518256314154, 9.43666240379778e-05, 0.0003516327298155252, 0.00044418413643597615, 0.00033977903295641604, 0.0003755550400216561, 0.0006037589168149009, 0.0006885156229347258, 0.0006982322972854074, 0.000557904097032601, 0.000598343474347742, 0.0005466740214840337, 0.0005326670824882077, 0.0005589534679945416, 0.0004622653719079192, 0.00028371212077374835, 0.00019181771006824302, 0.00012092487883833075, 0.00012800669769645113, 0.0001429377897834831, 0.00029336134024858664, 0.00017991496742724377, 0.00012795131982065307, -4.470959291026175e-05, 0.00020428785080475167, 0.00047462442123604067, 0.0007033186045606914, 0.0005891092528022428, 0.0006374525788466898, 0.0006795744423489894, 0.0005518311932964602, 0.0004834775682216743, 0.000521954456891963, 0.0003487574935847421, 0.00038350844197940567, 0.0004235674264861003, 0.0004896995250019069, 0.0003650102559830909, 6.734175222535396e-05, 0.00014529302272021428, 0.0002572818441566093, 0.0001802400527879921, 8.086986496581249e-05, -6.768156555480122e-05, -1.1935074091154005e-05, 0.00010116912122069932, 0.0002625362424727791, 4.366583062296883e-05, 0.0002990280430464534, 0.0004627532181758418, 0.00038184106561443165, 0.00014189877053435377, 4.354310289226643e-05, 0.00022912248611503734, 0.0002744194902746659, 0.00030946489878973184, 0.000599275786433765, 0.0005956974247176354, 0.0006682854875097453, 0.0005948711817518426, 0.000743374430945438, 0.000654767787583636, 0.000548977671353281, 0.0005072015284556261, 0.0006124293159787453, 0.00026449907255474847, 9.609155178142964e-05, 0.00010039919279214107, 7.656210367933843e-05, 0.0001821826336076306, 0.0003472769077149411, 0.0003814736475546033, 0.00017129097738003188, 0.00022283537696279193, 0.00032809888715032003, 0.000273127581194858, 0.0003229986439726772, 0.0002386922109762763, 0.0001864749128829818, 0.0001236751260086987, 8.593741746657834e-05, 2.690610580108961e-05, -1.6262818728215474e-05, 8.539975414581614e-05, 0.00024227325157641754, 0.00019990195241769882, 0.0002259637541254008, 0.00024215873390859277, 0.00015179872440910345, 0.0003742085447846281, 0.0002583960772780251]}],\n",
       "                        {\"template\": {\"data\": {\"bar\": [{\"error_x\": {\"color\": \"#2a3f5f\"}, \"error_y\": {\"color\": \"#2a3f5f\"}, \"marker\": {\"line\": {\"color\": \"#E5ECF6\", \"width\": 0.5}}, \"type\": \"bar\"}], \"barpolar\": [{\"marker\": {\"line\": {\"color\": \"#E5ECF6\", \"width\": 0.5}}, \"type\": \"barpolar\"}], \"carpet\": [{\"aaxis\": {\"endlinecolor\": \"#2a3f5f\", \"gridcolor\": \"white\", \"linecolor\": \"white\", \"minorgridcolor\": \"white\", \"startlinecolor\": \"#2a3f5f\"}, \"baxis\": {\"endlinecolor\": \"#2a3f5f\", \"gridcolor\": \"white\", \"linecolor\": \"white\", \"minorgridcolor\": \"white\", \"startlinecolor\": \"#2a3f5f\"}, \"type\": \"carpet\"}], \"choropleth\": [{\"colorbar\": {\"outlinewidth\": 0, \"ticks\": \"\"}, \"type\": \"choropleth\"}], \"contour\": [{\"colorbar\": {\"outlinewidth\": 0, \"ticks\": \"\"}, \"colorscale\": [[0.0, \"#0d0887\"], [0.1111111111111111, \"#46039f\"], [0.2222222222222222, \"#7201a8\"], [0.3333333333333333, \"#9c179e\"], [0.4444444444444444, \"#bd3786\"], [0.5555555555555556, \"#d8576b\"], [0.6666666666666666, \"#ed7953\"], [0.7777777777777778, \"#fb9f3a\"], [0.8888888888888888, \"#fdca26\"], [1.0, \"#f0f921\"]], \"type\": \"contour\"}], \"contourcarpet\": [{\"colorbar\": {\"outlinewidth\": 0, \"ticks\": \"\"}, \"type\": \"contourcarpet\"}], \"heatmap\": [{\"colorbar\": {\"outlinewidth\": 0, \"ticks\": \"\"}, \"colorscale\": [[0.0, \"#0d0887\"], [0.1111111111111111, \"#46039f\"], [0.2222222222222222, \"#7201a8\"], [0.3333333333333333, \"#9c179e\"], [0.4444444444444444, \"#bd3786\"], [0.5555555555555556, \"#d8576b\"], [0.6666666666666666, \"#ed7953\"], [0.7777777777777778, \"#fb9f3a\"], [0.8888888888888888, \"#fdca26\"], [1.0, \"#f0f921\"]], \"type\": \"heatmap\"}], \"heatmapgl\": [{\"colorbar\": {\"outlinewidth\": 0, \"ticks\": \"\"}, \"colorscale\": [[0.0, \"#0d0887\"], [0.1111111111111111, \"#46039f\"], [0.2222222222222222, \"#7201a8\"], [0.3333333333333333, \"#9c179e\"], [0.4444444444444444, \"#bd3786\"], [0.5555555555555556, \"#d8576b\"], [0.6666666666666666, \"#ed7953\"], [0.7777777777777778, \"#fb9f3a\"], [0.8888888888888888, \"#fdca26\"], [1.0, \"#f0f921\"]], \"type\": \"heatmapgl\"}], \"histogram\": [{\"marker\": {\"colorbar\": {\"outlinewidth\": 0, \"ticks\": \"\"}}, \"type\": \"histogram\"}], \"histogram2d\": [{\"colorbar\": {\"outlinewidth\": 0, \"ticks\": \"\"}, \"colorscale\": [[0.0, \"#0d0887\"], [0.1111111111111111, \"#46039f\"], [0.2222222222222222, \"#7201a8\"], [0.3333333333333333, \"#9c179e\"], [0.4444444444444444, \"#bd3786\"], [0.5555555555555556, \"#d8576b\"], [0.6666666666666666, \"#ed7953\"], [0.7777777777777778, \"#fb9f3a\"], [0.8888888888888888, \"#fdca26\"], [1.0, \"#f0f921\"]], \"type\": \"histogram2d\"}], \"histogram2dcontour\": [{\"colorbar\": {\"outlinewidth\": 0, \"ticks\": \"\"}, \"colorscale\": [[0.0, \"#0d0887\"], [0.1111111111111111, \"#46039f\"], [0.2222222222222222, \"#7201a8\"], [0.3333333333333333, \"#9c179e\"], [0.4444444444444444, \"#bd3786\"], [0.5555555555555556, \"#d8576b\"], [0.6666666666666666, \"#ed7953\"], [0.7777777777777778, \"#fb9f3a\"], [0.8888888888888888, \"#fdca26\"], [1.0, \"#f0f921\"]], \"type\": \"histogram2dcontour\"}], \"mesh3d\": [{\"colorbar\": {\"outlinewidth\": 0, \"ticks\": \"\"}, \"type\": \"mesh3d\"}], \"parcoords\": [{\"line\": {\"colorbar\": {\"outlinewidth\": 0, \"ticks\": \"\"}}, \"type\": \"parcoords\"}], \"pie\": [{\"automargin\": true, \"type\": \"pie\"}], \"scatter\": [{\"marker\": {\"colorbar\": {\"outlinewidth\": 0, \"ticks\": \"\"}}, \"type\": \"scatter\"}], \"scatter3d\": [{\"line\": {\"colorbar\": {\"outlinewidth\": 0, \"ticks\": \"\"}}, \"marker\": {\"colorbar\": {\"outlinewidth\": 0, \"ticks\": \"\"}}, \"type\": \"scatter3d\"}], \"scattercarpet\": [{\"marker\": {\"colorbar\": {\"outlinewidth\": 0, \"ticks\": \"\"}}, \"type\": \"scattercarpet\"}], \"scattergeo\": [{\"marker\": {\"colorbar\": {\"outlinewidth\": 0, \"ticks\": \"\"}}, \"type\": \"scattergeo\"}], \"scattergl\": [{\"marker\": {\"colorbar\": {\"outlinewidth\": 0, \"ticks\": \"\"}}, \"type\": \"scattergl\"}], \"scattermapbox\": [{\"marker\": {\"colorbar\": {\"outlinewidth\": 0, \"ticks\": \"\"}}, \"type\": \"scattermapbox\"}], \"scatterpolar\": [{\"marker\": {\"colorbar\": {\"outlinewidth\": 0, \"ticks\": \"\"}}, \"type\": \"scatterpolar\"}], \"scatterpolargl\": [{\"marker\": {\"colorbar\": {\"outlinewidth\": 0, \"ticks\": \"\"}}, \"type\": \"scatterpolargl\"}], \"scatterternary\": [{\"marker\": {\"colorbar\": {\"outlinewidth\": 0, \"ticks\": \"\"}}, \"type\": \"scatterternary\"}], \"surface\": [{\"colorbar\": {\"outlinewidth\": 0, \"ticks\": \"\"}, \"colorscale\": [[0.0, \"#0d0887\"], [0.1111111111111111, \"#46039f\"], [0.2222222222222222, \"#7201a8\"], [0.3333333333333333, \"#9c179e\"], [0.4444444444444444, \"#bd3786\"], [0.5555555555555556, \"#d8576b\"], [0.6666666666666666, \"#ed7953\"], [0.7777777777777778, \"#fb9f3a\"], [0.8888888888888888, \"#fdca26\"], [1.0, \"#f0f921\"]], \"type\": \"surface\"}], \"table\": [{\"cells\": {\"fill\": {\"color\": \"#EBF0F8\"}, \"line\": {\"color\": \"white\"}}, \"header\": {\"fill\": {\"color\": \"#C8D4E3\"}, \"line\": {\"color\": \"white\"}}, \"type\": \"table\"}]}, \"layout\": {\"annotationdefaults\": {\"arrowcolor\": \"#2a3f5f\", \"arrowhead\": 0, \"arrowwidth\": 1}, \"coloraxis\": {\"colorbar\": {\"outlinewidth\": 0, \"ticks\": \"\"}}, \"colorscale\": {\"diverging\": [[0, \"#8e0152\"], [0.1, \"#c51b7d\"], [0.2, \"#de77ae\"], [0.3, \"#f1b6da\"], [0.4, \"#fde0ef\"], [0.5, \"#f7f7f7\"], [0.6, \"#e6f5d0\"], [0.7, \"#b8e186\"], [0.8, \"#7fbc41\"], [0.9, \"#4d9221\"], [1, \"#276419\"]], \"sequential\": [[0.0, \"#0d0887\"], [0.1111111111111111, \"#46039f\"], [0.2222222222222222, \"#7201a8\"], [0.3333333333333333, \"#9c179e\"], [0.4444444444444444, \"#bd3786\"], [0.5555555555555556, \"#d8576b\"], [0.6666666666666666, \"#ed7953\"], [0.7777777777777778, \"#fb9f3a\"], [0.8888888888888888, \"#fdca26\"], [1.0, \"#f0f921\"]], \"sequentialminus\": [[0.0, \"#0d0887\"], [0.1111111111111111, \"#46039f\"], [0.2222222222222222, \"#7201a8\"], [0.3333333333333333, \"#9c179e\"], [0.4444444444444444, \"#bd3786\"], [0.5555555555555556, \"#d8576b\"], [0.6666666666666666, \"#ed7953\"], [0.7777777777777778, \"#fb9f3a\"], [0.8888888888888888, \"#fdca26\"], [1.0, \"#f0f921\"]]}, \"colorway\": [\"#636efa\", \"#EF553B\", \"#00cc96\", \"#ab63fa\", \"#FFA15A\", \"#19d3f3\", \"#FF6692\", \"#B6E880\", \"#FF97FF\", \"#FECB52\"], \"font\": {\"color\": \"#2a3f5f\"}, \"geo\": {\"bgcolor\": \"white\", \"lakecolor\": \"white\", \"landcolor\": \"#E5ECF6\", \"showlakes\": true, \"showland\": true, \"subunitcolor\": \"white\"}, \"hoverlabel\": {\"align\": \"left\"}, \"hovermode\": \"closest\", \"mapbox\": {\"style\": \"light\"}, \"paper_bgcolor\": \"white\", \"plot_bgcolor\": \"#E5ECF6\", \"polar\": {\"angularaxis\": {\"gridcolor\": \"white\", \"linecolor\": \"white\", \"ticks\": \"\"}, \"bgcolor\": \"#E5ECF6\", \"radialaxis\": {\"gridcolor\": \"white\", \"linecolor\": \"white\", \"ticks\": \"\"}}, \"scene\": {\"xaxis\": {\"backgroundcolor\": \"#E5ECF6\", \"gridcolor\": \"white\", \"gridwidth\": 2, \"linecolor\": \"white\", \"showbackground\": true, \"ticks\": \"\", \"zerolinecolor\": \"white\"}, \"yaxis\": {\"backgroundcolor\": \"#E5ECF6\", \"gridcolor\": \"white\", \"gridwidth\": 2, \"linecolor\": \"white\", \"showbackground\": true, \"ticks\": \"\", \"zerolinecolor\": \"white\"}, \"zaxis\": {\"backgroundcolor\": \"#E5ECF6\", \"gridcolor\": \"white\", \"gridwidth\": 2, \"linecolor\": \"white\", \"showbackground\": true, \"ticks\": \"\", \"zerolinecolor\": \"white\"}}, \"shapedefaults\": {\"line\": {\"color\": \"#2a3f5f\"}}, \"ternary\": {\"aaxis\": {\"gridcolor\": \"white\", \"linecolor\": \"white\", \"ticks\": \"\"}, \"baxis\": {\"gridcolor\": \"white\", \"linecolor\": \"white\", \"ticks\": \"\"}, \"bgcolor\": \"#E5ECF6\", \"caxis\": {\"gridcolor\": \"white\", \"linecolor\": \"white\", \"ticks\": \"\"}}, \"title\": {\"x\": 0.05}, \"xaxis\": {\"automargin\": true, \"gridcolor\": \"white\", \"linecolor\": \"white\", \"ticks\": \"\", \"title\": {\"standoff\": 15}, \"zerolinecolor\": \"white\", \"zerolinewidth\": 2}, \"yaxis\": {\"automargin\": true, \"gridcolor\": \"white\", \"linecolor\": \"white\", \"ticks\": \"\", \"title\": {\"standoff\": 15}, \"zerolinecolor\": \"white\", \"zerolinewidth\": 2}}}},\n",
       "                        {\"responsive\": true}\n",
       "                    ).then(function(){\n",
       "                            \n",
       "var gd = document.getElementById('ec45db1b-bb9b-42bb-b326-0634cd69e5c6');\n",
       "var x = new MutationObserver(function (mutations, observer) {{\n",
       "        var display = window.getComputedStyle(gd).display;\n",
       "        if (!display || display === 'none') {{\n",
       "            console.log([gd, 'removed!']);\n",
       "            Plotly.purge(gd);\n",
       "            observer.disconnect();\n",
       "        }}\n",
       "}});\n",
       "\n",
       "// Listen for the removal of the full notebook cells\n",
       "var notebookContainer = gd.closest('#notebook-container');\n",
       "if (notebookContainer) {{\n",
       "    x.observe(notebookContainer, {childList: true});\n",
       "}}\n",
       "\n",
       "// Listen for the clearing of the current output cell\n",
       "var outputEl = gd.closest('.output');\n",
       "if (outputEl) {{\n",
       "    x.observe(outputEl, {childList: true});\n",
       "}}\n",
       "\n",
       "                        })\n",
       "                };\n",
       "                });\n",
       "            </script>\n",
       "        </div>"
      ]
     },
     "metadata": {},
     "output_type": "display_data"
    }
   ],
   "source": [
    "eavex = [eave[i, 0] for i in range(kf_steps)]\n",
    "eavev = [eave[i, 1] for i in range(kf_steps)]\n",
    "eaveb = [eave[i, 2] for i in range(kf_steps)]\n",
    "\n",
    "\n",
    "figeavex = go.Figure()\n",
    "figeavex.add_trace(go.Scatter(x=t_kf, y=eavex, name=\"Error\", line=dict(width=4)))\n",
    "figeavex.show()\n",
    "\n",
    "figeavev = go.Figure()\n",
    "figeavev.add_trace(go.Scatter(x=t_kf, y=eavev, name=\"Error\", line=dict(width=4)))\n",
    "figeavev.show()"
   ]
  },
  {
   "cell_type": "code",
   "execution_count": 71,
   "metadata": {
    "collapsed": true
   },
   "outputs": [
    {
     "data": {
      "application/vnd.plotly.v1+json": {
       "config": {
        "plotlyServerURL": "https://plot.ly"
       },
       "data": [
        {
         "name": "Average",
         "type": "scatter",
         "x": [
          0,
          0.2,
          0.4,
          0.6000000000000001,
          0.8,
          1,
          1.2000000000000002,
          1.4000000000000001,
          1.6,
          1.8,
          2,
          2.2,
          2.4000000000000004,
          2.6,
          2.8000000000000003,
          3,
          3.2,
          3.4000000000000004,
          3.6,
          3.8000000000000003,
          4,
          4.2,
          4.4,
          4.6000000000000005,
          4.800000000000001,
          5,
          5.2,
          5.4,
          5.6000000000000005,
          5.800000000000001,
          6,
          6.2,
          6.4,
          6.6000000000000005,
          6.800000000000001,
          7,
          7.2,
          7.4,
          7.6000000000000005,
          7.800000000000001,
          8,
          8.200000000000001,
          8.4,
          8.6,
          8.8,
          9,
          9.200000000000001,
          9.4,
          9.600000000000001,
          9.8,
          10,
          10.200000000000001,
          10.4,
          10.600000000000001,
          10.8,
          11,
          11.200000000000001,
          11.4,
          11.600000000000001,
          11.8,
          12,
          12.200000000000001,
          12.4,
          12.600000000000001,
          12.8,
          13,
          13.200000000000001,
          13.4,
          13.600000000000001,
          13.8,
          14,
          14.200000000000001,
          14.4,
          14.600000000000001,
          14.8,
          15,
          15.200000000000001,
          15.4,
          15.600000000000001,
          15.8,
          16,
          16.2,
          16.400000000000002,
          16.6,
          16.8,
          17,
          17.2,
          17.400000000000002,
          17.6,
          17.8,
          18,
          18.2,
          18.400000000000002,
          18.6,
          18.8,
          19,
          19.200000000000003,
          19.400000000000002,
          19.6,
          19.8,
          20,
          20.200000000000003,
          20.400000000000002,
          20.6,
          20.8,
          21,
          21.200000000000003,
          21.400000000000002,
          21.6,
          21.8,
          22,
          22.200000000000003,
          22.400000000000002,
          22.6,
          22.8,
          23,
          23.200000000000003,
          23.400000000000002,
          23.6,
          23.8,
          24,
          24.200000000000003,
          24.400000000000002,
          24.6,
          24.8,
          25,
          25.200000000000003,
          25.400000000000002,
          25.6,
          25.8,
          26,
          26.200000000000003,
          26.400000000000002,
          26.6,
          26.8,
          27,
          27.200000000000003,
          27.400000000000002,
          27.6,
          27.8,
          28,
          28.200000000000003,
          28.400000000000002,
          28.6,
          28.8,
          29,
          29.200000000000003,
          29.400000000000002,
          29.6,
          29.8,
          30
         ],
         "y": [
          0.9382864418210336,
          0.7887864933892125,
          0.8818000269409464,
          0.7888287790593801,
          0.6261655999291726,
          0.46000884259984903,
          0.35295436307024586,
          0.26478300370502733,
          0.20484308869523166,
          0.16682310023189095,
          0.14641717009936003,
          0.12529666509324733,
          0.11486310714781321,
          0.10285486249584931,
          0.0876881726028399,
          0.07760273915466494,
          0.07083294480407877,
          0.06894737415820357,
          0.06497347562373185,
          0.060180292663164596,
          0.053425378020741224,
          0.05541375482657223,
          0.05346475378659832,
          0.050625336955269155,
          0.053023082771570224,
          0.0534475340446765,
          0.049211488128400226,
          0.046680257761240976,
          0.04495311113507639,
          0.039547800858819766,
          0.03902111955841861,
          0.038310286765268174,
          0.035031578167261934,
          0.033697290489611634,
          0.032351322646806235,
          0.03185659437324396,
          0.031654627821027605,
          0.031494443950235144,
          0.03233694393955494,
          0.03138318529573341,
          0.03122142187394657,
          0.03081445851912817,
          0.02937736414216795,
          0.028242671525691473,
          0.029031791996093435,
          0.028398095662893825,
          0.027448960681037235,
          0.027609952048516597,
          0.02628245622835587,
          0.0260493474145544,
          0.02570648830401583,
          0.024449329918837467,
          0.02369826494575876,
          0.02234809934594911,
          0.021173967210165404,
          0.020544957579390715,
          0.019839510415008452,
          0.019231514946057196,
          0.017462585808375616,
          0.01755380817884453,
          0.01804243560634179,
          0.018007047777333304,
          0.017804402183428273,
          0.01812758019098161,
          0.016721607399442374,
          0.016299469425899476,
          0.01681708936406219,
          0.017132904413013787,
          0.017497252606348546,
          0.017461951960693646,
          0.01780324191074418,
          0.016809737907345024,
          0.016151583899052625,
          0.015255143395385154,
          0.015179451539727317,
          0.014452033633132145,
          0.014087863899957547,
          0.014003459959769626,
          0.013681756173051372,
          0.01356572776224853,
          0.013234160045139732,
          0.013116111072460149,
          0.01299452440464465,
          0.01303865558180145,
          0.01269152931221967,
          0.012382320627061622,
          0.012191505507981155,
          0.011553596118880396,
          0.011404853784475354,
          0.011540335856391484,
          0.01199760781326786,
          0.012321456021582132,
          0.012286464738270093,
          0.012715754739484997,
          0.013083070586179923,
          0.012731458747599582,
          0.01261423588599514,
          0.012650033710344311,
          0.01230988588981315,
          0.012275513025356231,
          0.012147503929277043,
          0.012482334678159724,
          0.012148569113613488,
          0.01186710082869316,
          0.012067561197462306,
          0.011806850026066261,
          0.011976473932277486,
          0.012168815878973803,
          0.012510391983762269,
          0.012516420275393226,
          0.012621160574515266,
          0.013072286578006279,
          0.012501501104491743,
          0.012332301883790158,
          0.012557245254862886,
          0.01204785422028919,
          0.011633679018403632,
          0.011971731587446776,
          0.01177508934478005,
          0.011834149032628798,
          0.011928809026665592,
          0.011958760047291577,
          0.012293117123765945,
          0.012293670090062842,
          0.012569164688662017,
          0.012468915104644507,
          0.012596977822932202,
          0.012296217997381467,
          0.012296177183250058,
          0.011893629599042723,
          0.012304170406430476,
          0.012585186530022809,
          0.01277004486223997,
          0.01297653391494235,
          0.01292443909752836,
          0.013066103570307465,
          0.012898260330316118,
          0.0125794389505121,
          0.01223621455456618,
          0.012263031205112719,
          0.01237113127422895,
          0.012283219215579495,
          0.012161788308204934,
          0.011838816447918501,
          0.011621670266823156,
          0.011535903165808381,
          0.011697344665878903,
          0.011615388847844606,
          0.011813520568595477,
          0.011908629652610699,
          0.011973161293704796
         ]
        },
        {
         "name": "P",
         "type": "scatter",
         "x": [
          0,
          0.2,
          0.4,
          0.6000000000000001,
          0.8,
          1,
          1.2000000000000002,
          1.4000000000000001,
          1.6,
          1.8,
          2,
          2.2,
          2.4000000000000004,
          2.6,
          2.8000000000000003,
          3,
          3.2,
          3.4000000000000004,
          3.6,
          3.8000000000000003,
          4,
          4.2,
          4.4,
          4.6000000000000005,
          4.800000000000001,
          5,
          5.2,
          5.4,
          5.6000000000000005,
          5.800000000000001,
          6,
          6.2,
          6.4,
          6.6000000000000005,
          6.800000000000001,
          7,
          7.2,
          7.4,
          7.6000000000000005,
          7.800000000000001,
          8,
          8.200000000000001,
          8.4,
          8.6,
          8.8,
          9,
          9.200000000000001,
          9.4,
          9.600000000000001,
          9.8,
          10,
          10.200000000000001,
          10.4,
          10.600000000000001,
          10.8,
          11,
          11.200000000000001,
          11.4,
          11.600000000000001,
          11.8,
          12,
          12.200000000000001,
          12.4,
          12.600000000000001,
          12.8,
          13,
          13.200000000000001,
          13.4,
          13.600000000000001,
          13.8,
          14,
          14.200000000000001,
          14.4,
          14.600000000000001,
          14.8,
          15,
          15.200000000000001,
          15.4,
          15.600000000000001,
          15.8,
          16,
          16.2,
          16.400000000000002,
          16.6,
          16.8,
          17,
          17.2,
          17.400000000000002,
          17.6,
          17.8,
          18,
          18.2,
          18.400000000000002,
          18.6,
          18.8,
          19,
          19.200000000000003,
          19.400000000000002,
          19.6,
          19.8,
          20,
          20.200000000000003,
          20.400000000000002,
          20.6,
          20.8,
          21,
          21.200000000000003,
          21.400000000000002,
          21.6,
          21.8,
          22,
          22.200000000000003,
          22.400000000000002,
          22.6,
          22.8,
          23,
          23.200000000000003,
          23.400000000000002,
          23.6,
          23.8,
          24,
          24.200000000000003,
          24.400000000000002,
          24.6,
          24.8,
          25,
          25.200000000000003,
          25.400000000000002,
          25.6,
          25.8,
          26,
          26.200000000000003,
          26.400000000000002,
          26.6,
          26.8,
          27,
          27.200000000000003,
          27.400000000000002,
          27.6,
          27.8,
          28,
          28.200000000000003,
          28.400000000000002,
          28.6,
          28.8,
          29,
          29.200000000000003,
          29.400000000000002,
          29.6,
          29.8,
          30
         ],
         "y": [
          0.9900990165698914,
          0.4975206719500864,
          0.33224781188229,
          0.24941461754883737,
          0.19965685795735233,
          0.1664645793175523,
          0.1427484342553799,
          0.12495928632099011,
          0.11112364363486346,
          0.10005662789846796,
          0.09100383803005986,
          0.08346213262308314,
          0.07708306501764266,
          0.07161767412613408,
          0.06688334440904156,
          0.0627430857036061,
          0.059092121811976026,
          0.05584894710837918,
          0.052949205906457714,
          0.05034140710770722,
          0.047983862658168536,
          0.04584246059474706,
          0.04388901878490069,
          0.042100050060721005,
          0.040455823602691926,
          0.0389396428440717,
          0.03753728378160115,
          0.03623655360521812,
          0.035026940614243184,
          0.03389933412694541,
          0.03284579858362473,
          0.03185938999208324,
          0.030934005736490647,
          0.03006426088273343,
          0.029245385682468913,
          0.028473140155062592,
          0.02774374251733452,
          0.027053808910877306,
          0.026400302399699038,
          0.025780489616292576,
          0.02519190375062283,
          0.024632312825132775,
          0.024099692395455348,
          0.023592201972902866,
          0.02310816458992097,
          0.02264604903033471,
          0.022204454327588306,
          0.021782096200299146,
          0.02137779514842405,
          0.02099046597759911,
          0.02061910855566829,
          0.020262799635561466,
          0.01992068560371033,
          0.01959197603404748,
          0.019275937945078897,
          0.018971890672161523,
          0.018679201279447877,
          0.018397280446376882,
          0.018125578772418466,
          0.017863583451283912,
          0.017610815272211255,
          0.01736682591140396,
          0.017131195481388733,
          0.016903530310087032,
          0.01668346092486572,
          0.016470640219829864,
          0.01626474178721596,
          0.016065458395995196,
          0.015872500602754726,
          0.01568559548163086,
          0.015504485461558352,
          0.015328927260403667,
          0.015158690906693214,
          0.014993558840651606,
          0.014833325087148578,
          0.014677794493932276,
          0.014526782029214461,
          0.014380112133281792,
          0.01423761811934663,
          0.014099141619329424,
          0.013964532070689985,
          0.013833646240804003,
          0.013706347785718562,
          0.013582506840422,
          0.013461999638033115,
          0.013344708155556002,
          0.01323051978406322,
          0.013119327021364298,
          0.013011027185391197,
          0.012905522146689578,
          0.012802718078546186,
          0.012702525223410671,
          0.012604857674385368,
          0.012509633170661113,
          0.01241677290587143,
          0.012326201348423188,
          0.012237846072939604,
          0.012151637602021677,
          0.012067509257598651,
          0.011985397021196203,
          0.011905239402504344,
          0.011826977315675391,
          0.011750553962826775,
          0.011675914724263608,
          0.011603007054973122,
          0.011531780386976737,
          0.01146218603715657,
          0.011394177120201538,
          0.011327708466344226,
          0.01126273654358369,
          0.01119921938411128,
          0.011137116514676691,
          0.01107638889065029,
          0.011016998833554578,
          0.010958909971853729,
          0.010902087184804485,
          0.01084649654918531,
          0.010792105288732952,
          0.010738881726127232,
          0.01068679523737529,
          0.010635816208456564,
          0.010585915994098668,
          0.01053706687856294,
          0.010489242038326194,
          0.010442415506552413,
          0.010396562139255005,
          0.01035165758305633,
          0.01030767824445724,
          0.010264601260534556,
          0.01022240447098969,
          0.010181066391476073,
          0.010140566188137709,
          0.010100883653294953,
          0.010061999182217642,
          0.010023893750929207,
          0.009986548894988578,
          0.009949946689200056,
          0.009914069728203953,
          0.009878901107903668,
          0.00984442440768738,
          0.009810623673404904,
          0.009777483401062428,
          0.009744988521200013,
          0.009713124383918678,
          0.00968187674452562,
          0.009651231749768051,
          0.009621175924627476,
          0.009591696159647991,
          0.009562779698773494,
          0.009534414127670003,
          0.009506587362510652
         ]
        }
       ],
       "layout": {
        "template": {
         "data": {
          "bar": [
           {
            "error_x": {
             "color": "#2a3f5f"
            },
            "error_y": {
             "color": "#2a3f5f"
            },
            "marker": {
             "line": {
              "color": "#E5ECF6",
              "width": 0.5
             }
            },
            "type": "bar"
           }
          ],
          "barpolar": [
           {
            "marker": {
             "line": {
              "color": "#E5ECF6",
              "width": 0.5
             }
            },
            "type": "barpolar"
           }
          ],
          "carpet": [
           {
            "aaxis": {
             "endlinecolor": "#2a3f5f",
             "gridcolor": "white",
             "linecolor": "white",
             "minorgridcolor": "white",
             "startlinecolor": "#2a3f5f"
            },
            "baxis": {
             "endlinecolor": "#2a3f5f",
             "gridcolor": "white",
             "linecolor": "white",
             "minorgridcolor": "white",
             "startlinecolor": "#2a3f5f"
            },
            "type": "carpet"
           }
          ],
          "choropleth": [
           {
            "colorbar": {
             "outlinewidth": 0,
             "ticks": ""
            },
            "type": "choropleth"
           }
          ],
          "contour": [
           {
            "colorbar": {
             "outlinewidth": 0,
             "ticks": ""
            },
            "colorscale": [
             [
              0,
              "#0d0887"
             ],
             [
              0.1111111111111111,
              "#46039f"
             ],
             [
              0.2222222222222222,
              "#7201a8"
             ],
             [
              0.3333333333333333,
              "#9c179e"
             ],
             [
              0.4444444444444444,
              "#bd3786"
             ],
             [
              0.5555555555555556,
              "#d8576b"
             ],
             [
              0.6666666666666666,
              "#ed7953"
             ],
             [
              0.7777777777777778,
              "#fb9f3a"
             ],
             [
              0.8888888888888888,
              "#fdca26"
             ],
             [
              1,
              "#f0f921"
             ]
            ],
            "type": "contour"
           }
          ],
          "contourcarpet": [
           {
            "colorbar": {
             "outlinewidth": 0,
             "ticks": ""
            },
            "type": "contourcarpet"
           }
          ],
          "heatmap": [
           {
            "colorbar": {
             "outlinewidth": 0,
             "ticks": ""
            },
            "colorscale": [
             [
              0,
              "#0d0887"
             ],
             [
              0.1111111111111111,
              "#46039f"
             ],
             [
              0.2222222222222222,
              "#7201a8"
             ],
             [
              0.3333333333333333,
              "#9c179e"
             ],
             [
              0.4444444444444444,
              "#bd3786"
             ],
             [
              0.5555555555555556,
              "#d8576b"
             ],
             [
              0.6666666666666666,
              "#ed7953"
             ],
             [
              0.7777777777777778,
              "#fb9f3a"
             ],
             [
              0.8888888888888888,
              "#fdca26"
             ],
             [
              1,
              "#f0f921"
             ]
            ],
            "type": "heatmap"
           }
          ],
          "heatmapgl": [
           {
            "colorbar": {
             "outlinewidth": 0,
             "ticks": ""
            },
            "colorscale": [
             [
              0,
              "#0d0887"
             ],
             [
              0.1111111111111111,
              "#46039f"
             ],
             [
              0.2222222222222222,
              "#7201a8"
             ],
             [
              0.3333333333333333,
              "#9c179e"
             ],
             [
              0.4444444444444444,
              "#bd3786"
             ],
             [
              0.5555555555555556,
              "#d8576b"
             ],
             [
              0.6666666666666666,
              "#ed7953"
             ],
             [
              0.7777777777777778,
              "#fb9f3a"
             ],
             [
              0.8888888888888888,
              "#fdca26"
             ],
             [
              1,
              "#f0f921"
             ]
            ],
            "type": "heatmapgl"
           }
          ],
          "histogram": [
           {
            "marker": {
             "colorbar": {
              "outlinewidth": 0,
              "ticks": ""
             }
            },
            "type": "histogram"
           }
          ],
          "histogram2d": [
           {
            "colorbar": {
             "outlinewidth": 0,
             "ticks": ""
            },
            "colorscale": [
             [
              0,
              "#0d0887"
             ],
             [
              0.1111111111111111,
              "#46039f"
             ],
             [
              0.2222222222222222,
              "#7201a8"
             ],
             [
              0.3333333333333333,
              "#9c179e"
             ],
             [
              0.4444444444444444,
              "#bd3786"
             ],
             [
              0.5555555555555556,
              "#d8576b"
             ],
             [
              0.6666666666666666,
              "#ed7953"
             ],
             [
              0.7777777777777778,
              "#fb9f3a"
             ],
             [
              0.8888888888888888,
              "#fdca26"
             ],
             [
              1,
              "#f0f921"
             ]
            ],
            "type": "histogram2d"
           }
          ],
          "histogram2dcontour": [
           {
            "colorbar": {
             "outlinewidth": 0,
             "ticks": ""
            },
            "colorscale": [
             [
              0,
              "#0d0887"
             ],
             [
              0.1111111111111111,
              "#46039f"
             ],
             [
              0.2222222222222222,
              "#7201a8"
             ],
             [
              0.3333333333333333,
              "#9c179e"
             ],
             [
              0.4444444444444444,
              "#bd3786"
             ],
             [
              0.5555555555555556,
              "#d8576b"
             ],
             [
              0.6666666666666666,
              "#ed7953"
             ],
             [
              0.7777777777777778,
              "#fb9f3a"
             ],
             [
              0.8888888888888888,
              "#fdca26"
             ],
             [
              1,
              "#f0f921"
             ]
            ],
            "type": "histogram2dcontour"
           }
          ],
          "mesh3d": [
           {
            "colorbar": {
             "outlinewidth": 0,
             "ticks": ""
            },
            "type": "mesh3d"
           }
          ],
          "parcoords": [
           {
            "line": {
             "colorbar": {
              "outlinewidth": 0,
              "ticks": ""
             }
            },
            "type": "parcoords"
           }
          ],
          "pie": [
           {
            "automargin": true,
            "type": "pie"
           }
          ],
          "scatter": [
           {
            "marker": {
             "colorbar": {
              "outlinewidth": 0,
              "ticks": ""
             }
            },
            "type": "scatter"
           }
          ],
          "scatter3d": [
           {
            "line": {
             "colorbar": {
              "outlinewidth": 0,
              "ticks": ""
             }
            },
            "marker": {
             "colorbar": {
              "outlinewidth": 0,
              "ticks": ""
             }
            },
            "type": "scatter3d"
           }
          ],
          "scattercarpet": [
           {
            "marker": {
             "colorbar": {
              "outlinewidth": 0,
              "ticks": ""
             }
            },
            "type": "scattercarpet"
           }
          ],
          "scattergeo": [
           {
            "marker": {
             "colorbar": {
              "outlinewidth": 0,
              "ticks": ""
             }
            },
            "type": "scattergeo"
           }
          ],
          "scattergl": [
           {
            "marker": {
             "colorbar": {
              "outlinewidth": 0,
              "ticks": ""
             }
            },
            "type": "scattergl"
           }
          ],
          "scattermapbox": [
           {
            "marker": {
             "colorbar": {
              "outlinewidth": 0,
              "ticks": ""
             }
            },
            "type": "scattermapbox"
           }
          ],
          "scatterpolar": [
           {
            "marker": {
             "colorbar": {
              "outlinewidth": 0,
              "ticks": ""
             }
            },
            "type": "scatterpolar"
           }
          ],
          "scatterpolargl": [
           {
            "marker": {
             "colorbar": {
              "outlinewidth": 0,
              "ticks": ""
             }
            },
            "type": "scatterpolargl"
           }
          ],
          "scatterternary": [
           {
            "marker": {
             "colorbar": {
              "outlinewidth": 0,
              "ticks": ""
             }
            },
            "type": "scatterternary"
           }
          ],
          "surface": [
           {
            "colorbar": {
             "outlinewidth": 0,
             "ticks": ""
            },
            "colorscale": [
             [
              0,
              "#0d0887"
             ],
             [
              0.1111111111111111,
              "#46039f"
             ],
             [
              0.2222222222222222,
              "#7201a8"
             ],
             [
              0.3333333333333333,
              "#9c179e"
             ],
             [
              0.4444444444444444,
              "#bd3786"
             ],
             [
              0.5555555555555556,
              "#d8576b"
             ],
             [
              0.6666666666666666,
              "#ed7953"
             ],
             [
              0.7777777777777778,
              "#fb9f3a"
             ],
             [
              0.8888888888888888,
              "#fdca26"
             ],
             [
              1,
              "#f0f921"
             ]
            ],
            "type": "surface"
           }
          ],
          "table": [
           {
            "cells": {
             "fill": {
              "color": "#EBF0F8"
             },
             "line": {
              "color": "white"
             }
            },
            "header": {
             "fill": {
              "color": "#C8D4E3"
             },
             "line": {
              "color": "white"
             }
            },
            "type": "table"
           }
          ]
         },
         "layout": {
          "annotationdefaults": {
           "arrowcolor": "#2a3f5f",
           "arrowhead": 0,
           "arrowwidth": 1
          },
          "coloraxis": {
           "colorbar": {
            "outlinewidth": 0,
            "ticks": ""
           }
          },
          "colorscale": {
           "diverging": [
            [
             0,
             "#8e0152"
            ],
            [
             0.1,
             "#c51b7d"
            ],
            [
             0.2,
             "#de77ae"
            ],
            [
             0.3,
             "#f1b6da"
            ],
            [
             0.4,
             "#fde0ef"
            ],
            [
             0.5,
             "#f7f7f7"
            ],
            [
             0.6,
             "#e6f5d0"
            ],
            [
             0.7,
             "#b8e186"
            ],
            [
             0.8,
             "#7fbc41"
            ],
            [
             0.9,
             "#4d9221"
            ],
            [
             1,
             "#276419"
            ]
           ],
           "sequential": [
            [
             0,
             "#0d0887"
            ],
            [
             0.1111111111111111,
             "#46039f"
            ],
            [
             0.2222222222222222,
             "#7201a8"
            ],
            [
             0.3333333333333333,
             "#9c179e"
            ],
            [
             0.4444444444444444,
             "#bd3786"
            ],
            [
             0.5555555555555556,
             "#d8576b"
            ],
            [
             0.6666666666666666,
             "#ed7953"
            ],
            [
             0.7777777777777778,
             "#fb9f3a"
            ],
            [
             0.8888888888888888,
             "#fdca26"
            ],
            [
             1,
             "#f0f921"
            ]
           ],
           "sequentialminus": [
            [
             0,
             "#0d0887"
            ],
            [
             0.1111111111111111,
             "#46039f"
            ],
            [
             0.2222222222222222,
             "#7201a8"
            ],
            [
             0.3333333333333333,
             "#9c179e"
            ],
            [
             0.4444444444444444,
             "#bd3786"
            ],
            [
             0.5555555555555556,
             "#d8576b"
            ],
            [
             0.6666666666666666,
             "#ed7953"
            ],
            [
             0.7777777777777778,
             "#fb9f3a"
            ],
            [
             0.8888888888888888,
             "#fdca26"
            ],
            [
             1,
             "#f0f921"
            ]
           ]
          },
          "colorway": [
           "#636efa",
           "#EF553B",
           "#00cc96",
           "#ab63fa",
           "#FFA15A",
           "#19d3f3",
           "#FF6692",
           "#B6E880",
           "#FF97FF",
           "#FECB52"
          ],
          "font": {
           "color": "#2a3f5f"
          },
          "geo": {
           "bgcolor": "white",
           "lakecolor": "white",
           "landcolor": "#E5ECF6",
           "showlakes": true,
           "showland": true,
           "subunitcolor": "white"
          },
          "hoverlabel": {
           "align": "left"
          },
          "hovermode": "closest",
          "mapbox": {
           "style": "light"
          },
          "paper_bgcolor": "white",
          "plot_bgcolor": "#E5ECF6",
          "polar": {
           "angularaxis": {
            "gridcolor": "white",
            "linecolor": "white",
            "ticks": ""
           },
           "bgcolor": "#E5ECF6",
           "radialaxis": {
            "gridcolor": "white",
            "linecolor": "white",
            "ticks": ""
           }
          },
          "scene": {
           "xaxis": {
            "backgroundcolor": "#E5ECF6",
            "gridcolor": "white",
            "gridwidth": 2,
            "linecolor": "white",
            "showbackground": true,
            "ticks": "",
            "zerolinecolor": "white"
           },
           "yaxis": {
            "backgroundcolor": "#E5ECF6",
            "gridcolor": "white",
            "gridwidth": 2,
            "linecolor": "white",
            "showbackground": true,
            "ticks": "",
            "zerolinecolor": "white"
           },
           "zaxis": {
            "backgroundcolor": "#E5ECF6",
            "gridcolor": "white",
            "gridwidth": 2,
            "linecolor": "white",
            "showbackground": true,
            "ticks": "",
            "zerolinecolor": "white"
           }
          },
          "shapedefaults": {
           "line": {
            "color": "#2a3f5f"
           }
          },
          "ternary": {
           "aaxis": {
            "gridcolor": "white",
            "linecolor": "white",
            "ticks": ""
           },
           "baxis": {
            "gridcolor": "white",
            "linecolor": "white",
            "ticks": ""
           },
           "bgcolor": "#E5ECF6",
           "caxis": {
            "gridcolor": "white",
            "linecolor": "white",
            "ticks": ""
           }
          },
          "title": {
           "x": 0.05
          },
          "xaxis": {
           "automargin": true,
           "gridcolor": "white",
           "linecolor": "white",
           "ticks": "",
           "title": {
            "standoff": 15
           },
           "zerolinecolor": "white",
           "zerolinewidth": 2
          },
          "yaxis": {
           "automargin": true,
           "gridcolor": "white",
           "linecolor": "white",
           "ticks": "",
           "title": {
            "standoff": 15
           },
           "zerolinecolor": "white",
           "zerolinewidth": 2
          }
         }
        }
       }
      },
      "text/html": [
       "<div>\n",
       "        \n",
       "        \n",
       "            <div id=\"53d3f227-42c8-454a-a571-c5a646a469dd\" class=\"plotly-graph-div\" style=\"height:525px; width:100%;\"></div>\n",
       "            <script type=\"text/javascript\">\n",
       "                require([\"plotly\"], function(Plotly) {\n",
       "                    window.PLOTLYENV=window.PLOTLYENV || {};\n",
       "                    \n",
       "                if (document.getElementById(\"53d3f227-42c8-454a-a571-c5a646a469dd\")) {\n",
       "                    Plotly.newPlot(\n",
       "                        '53d3f227-42c8-454a-a571-c5a646a469dd',\n",
       "                        [{\"name\": \"Average\", \"type\": \"scatter\", \"x\": [0.0, 0.2, 0.4, 0.6000000000000001, 0.8, 1.0, 1.2000000000000002, 1.4000000000000001, 1.6, 1.8, 2.0, 2.2, 2.4000000000000004, 2.6, 2.8000000000000003, 3.0, 3.2, 3.4000000000000004, 3.6, 3.8000000000000003, 4.0, 4.2, 4.4, 4.6000000000000005, 4.800000000000001, 5.0, 5.2, 5.4, 5.6000000000000005, 5.800000000000001, 6.0, 6.2, 6.4, 6.6000000000000005, 6.800000000000001, 7.0, 7.2, 7.4, 7.6000000000000005, 7.800000000000001, 8.0, 8.200000000000001, 8.4, 8.6, 8.8, 9.0, 9.200000000000001, 9.4, 9.600000000000001, 9.8, 10.0, 10.200000000000001, 10.4, 10.600000000000001, 10.8, 11.0, 11.200000000000001, 11.4, 11.600000000000001, 11.8, 12.0, 12.200000000000001, 12.4, 12.600000000000001, 12.8, 13.0, 13.200000000000001, 13.4, 13.600000000000001, 13.8, 14.0, 14.200000000000001, 14.4, 14.600000000000001, 14.8, 15.0, 15.200000000000001, 15.4, 15.600000000000001, 15.8, 16.0, 16.2, 16.400000000000002, 16.6, 16.8, 17.0, 17.2, 17.400000000000002, 17.6, 17.8, 18.0, 18.2, 18.400000000000002, 18.6, 18.8, 19.0, 19.200000000000003, 19.400000000000002, 19.6, 19.8, 20.0, 20.200000000000003, 20.400000000000002, 20.6, 20.8, 21.0, 21.200000000000003, 21.400000000000002, 21.6, 21.8, 22.0, 22.200000000000003, 22.400000000000002, 22.6, 22.8, 23.0, 23.200000000000003, 23.400000000000002, 23.6, 23.8, 24.0, 24.200000000000003, 24.400000000000002, 24.6, 24.8, 25.0, 25.200000000000003, 25.400000000000002, 25.6, 25.8, 26.0, 26.200000000000003, 26.400000000000002, 26.6, 26.8, 27.0, 27.200000000000003, 27.400000000000002, 27.6, 27.8, 28.0, 28.200000000000003, 28.400000000000002, 28.6, 28.8, 29.0, 29.200000000000003, 29.400000000000002, 29.6, 29.8, 30.0], \"y\": [0.9382864418210336, 0.7887864933892125, 0.8818000269409464, 0.7888287790593801, 0.6261655999291726, 0.46000884259984903, 0.35295436307024586, 0.26478300370502733, 0.20484308869523166, 0.16682310023189095, 0.14641717009936003, 0.12529666509324733, 0.11486310714781321, 0.10285486249584931, 0.0876881726028399, 0.07760273915466494, 0.07083294480407877, 0.06894737415820357, 0.06497347562373185, 0.060180292663164596, 0.053425378020741224, 0.05541375482657223, 0.05346475378659832, 0.050625336955269155, 0.053023082771570224, 0.0534475340446765, 0.049211488128400226, 0.046680257761240976, 0.04495311113507639, 0.039547800858819766, 0.03902111955841861, 0.038310286765268174, 0.035031578167261934, 0.033697290489611634, 0.032351322646806235, 0.03185659437324396, 0.031654627821027605, 0.031494443950235144, 0.03233694393955494, 0.03138318529573341, 0.03122142187394657, 0.03081445851912817, 0.02937736414216795, 0.028242671525691473, 0.029031791996093435, 0.028398095662893825, 0.027448960681037235, 0.027609952048516597, 0.02628245622835587, 0.0260493474145544, 0.02570648830401583, 0.024449329918837467, 0.02369826494575876, 0.02234809934594911, 0.021173967210165404, 0.020544957579390715, 0.019839510415008452, 0.019231514946057196, 0.017462585808375616, 0.01755380817884453, 0.01804243560634179, 0.018007047777333304, 0.017804402183428273, 0.01812758019098161, 0.016721607399442374, 0.016299469425899476, 0.01681708936406219, 0.017132904413013787, 0.017497252606348546, 0.017461951960693646, 0.01780324191074418, 0.016809737907345024, 0.016151583899052625, 0.015255143395385154, 0.015179451539727317, 0.014452033633132145, 0.014087863899957547, 0.014003459959769626, 0.013681756173051372, 0.01356572776224853, 0.013234160045139732, 0.013116111072460149, 0.01299452440464465, 0.01303865558180145, 0.01269152931221967, 0.012382320627061622, 0.012191505507981155, 0.011553596118880396, 0.011404853784475354, 0.011540335856391484, 0.01199760781326786, 0.012321456021582132, 0.012286464738270093, 0.012715754739484997, 0.013083070586179923, 0.012731458747599582, 0.01261423588599514, 0.012650033710344311, 0.01230988588981315, 0.012275513025356231, 0.012147503929277043, 0.012482334678159724, 0.012148569113613488, 0.01186710082869316, 0.012067561197462306, 0.011806850026066261, 0.011976473932277486, 0.012168815878973803, 0.012510391983762269, 0.012516420275393226, 0.012621160574515266, 0.013072286578006279, 0.012501501104491743, 0.012332301883790158, 0.012557245254862886, 0.01204785422028919, 0.011633679018403632, 0.011971731587446776, 0.01177508934478005, 0.011834149032628798, 0.011928809026665592, 0.011958760047291577, 0.012293117123765945, 0.012293670090062842, 0.012569164688662017, 0.012468915104644507, 0.012596977822932202, 0.012296217997381467, 0.012296177183250058, 0.011893629599042723, 0.012304170406430476, 0.012585186530022809, 0.01277004486223997, 0.01297653391494235, 0.01292443909752836, 0.013066103570307465, 0.012898260330316118, 0.0125794389505121, 0.01223621455456618, 0.012263031205112719, 0.01237113127422895, 0.012283219215579495, 0.012161788308204934, 0.011838816447918501, 0.011621670266823156, 0.011535903165808381, 0.011697344665878903, 0.011615388847844606, 0.011813520568595477, 0.011908629652610699, 0.011973161293704796]}, {\"name\": \"P\", \"type\": \"scatter\", \"x\": [0.0, 0.2, 0.4, 0.6000000000000001, 0.8, 1.0, 1.2000000000000002, 1.4000000000000001, 1.6, 1.8, 2.0, 2.2, 2.4000000000000004, 2.6, 2.8000000000000003, 3.0, 3.2, 3.4000000000000004, 3.6, 3.8000000000000003, 4.0, 4.2, 4.4, 4.6000000000000005, 4.800000000000001, 5.0, 5.2, 5.4, 5.6000000000000005, 5.800000000000001, 6.0, 6.2, 6.4, 6.6000000000000005, 6.800000000000001, 7.0, 7.2, 7.4, 7.6000000000000005, 7.800000000000001, 8.0, 8.200000000000001, 8.4, 8.6, 8.8, 9.0, 9.200000000000001, 9.4, 9.600000000000001, 9.8, 10.0, 10.200000000000001, 10.4, 10.600000000000001, 10.8, 11.0, 11.200000000000001, 11.4, 11.600000000000001, 11.8, 12.0, 12.200000000000001, 12.4, 12.600000000000001, 12.8, 13.0, 13.200000000000001, 13.4, 13.600000000000001, 13.8, 14.0, 14.200000000000001, 14.4, 14.600000000000001, 14.8, 15.0, 15.200000000000001, 15.4, 15.600000000000001, 15.8, 16.0, 16.2, 16.400000000000002, 16.6, 16.8, 17.0, 17.2, 17.400000000000002, 17.6, 17.8, 18.0, 18.2, 18.400000000000002, 18.6, 18.8, 19.0, 19.200000000000003, 19.400000000000002, 19.6, 19.8, 20.0, 20.200000000000003, 20.400000000000002, 20.6, 20.8, 21.0, 21.200000000000003, 21.400000000000002, 21.6, 21.8, 22.0, 22.200000000000003, 22.400000000000002, 22.6, 22.8, 23.0, 23.200000000000003, 23.400000000000002, 23.6, 23.8, 24.0, 24.200000000000003, 24.400000000000002, 24.6, 24.8, 25.0, 25.200000000000003, 25.400000000000002, 25.6, 25.8, 26.0, 26.200000000000003, 26.400000000000002, 26.6, 26.8, 27.0, 27.200000000000003, 27.400000000000002, 27.6, 27.8, 28.0, 28.200000000000003, 28.400000000000002, 28.6, 28.8, 29.0, 29.200000000000003, 29.400000000000002, 29.6, 29.8, 30.0], \"y\": [0.9900990165698914, 0.4975206719500864, 0.33224781188229, 0.24941461754883737, 0.19965685795735233, 0.1664645793175523, 0.1427484342553799, 0.12495928632099011, 0.11112364363486346, 0.10005662789846796, 0.09100383803005986, 0.08346213262308314, 0.07708306501764266, 0.07161767412613408, 0.06688334440904156, 0.0627430857036061, 0.059092121811976026, 0.05584894710837918, 0.052949205906457714, 0.05034140710770722, 0.047983862658168536, 0.04584246059474706, 0.04388901878490069, 0.042100050060721005, 0.040455823602691926, 0.0389396428440717, 0.03753728378160115, 0.03623655360521812, 0.035026940614243184, 0.03389933412694541, 0.03284579858362473, 0.03185938999208324, 0.030934005736490647, 0.03006426088273343, 0.029245385682468913, 0.028473140155062592, 0.02774374251733452, 0.027053808910877306, 0.026400302399699038, 0.025780489616292576, 0.02519190375062283, 0.024632312825132775, 0.024099692395455348, 0.023592201972902866, 0.02310816458992097, 0.02264604903033471, 0.022204454327588306, 0.021782096200299146, 0.02137779514842405, 0.02099046597759911, 0.02061910855566829, 0.020262799635561466, 0.01992068560371033, 0.01959197603404748, 0.019275937945078897, 0.018971890672161523, 0.018679201279447877, 0.018397280446376882, 0.018125578772418466, 0.017863583451283912, 0.017610815272211255, 0.01736682591140396, 0.017131195481388733, 0.016903530310087032, 0.01668346092486572, 0.016470640219829864, 0.01626474178721596, 0.016065458395995196, 0.015872500602754726, 0.01568559548163086, 0.015504485461558352, 0.015328927260403667, 0.015158690906693214, 0.014993558840651606, 0.014833325087148578, 0.014677794493932276, 0.014526782029214461, 0.014380112133281792, 0.01423761811934663, 0.014099141619329424, 0.013964532070689985, 0.013833646240804003, 0.013706347785718562, 0.013582506840422, 0.013461999638033115, 0.013344708155556002, 0.01323051978406322, 0.013119327021364298, 0.013011027185391197, 0.012905522146689578, 0.012802718078546186, 0.012702525223410671, 0.012604857674385368, 0.012509633170661113, 0.01241677290587143, 0.012326201348423188, 0.012237846072939604, 0.012151637602021677, 0.012067509257598651, 0.011985397021196203, 0.011905239402504344, 0.011826977315675391, 0.011750553962826775, 0.011675914724263608, 0.011603007054973122, 0.011531780386976737, 0.01146218603715657, 0.011394177120201538, 0.011327708466344226, 0.01126273654358369, 0.01119921938411128, 0.011137116514676691, 0.01107638889065029, 0.011016998833554578, 0.010958909971853729, 0.010902087184804485, 0.01084649654918531, 0.010792105288732952, 0.010738881726127232, 0.01068679523737529, 0.010635816208456564, 0.010585915994098668, 0.01053706687856294, 0.010489242038326194, 0.010442415506552413, 0.010396562139255005, 0.01035165758305633, 0.01030767824445724, 0.010264601260534556, 0.01022240447098969, 0.010181066391476073, 0.010140566188137709, 0.010100883653294953, 0.010061999182217642, 0.010023893750929207, 0.009986548894988578, 0.009949946689200056, 0.009914069728203953, 0.009878901107903668, 0.00984442440768738, 0.009810623673404904, 0.009777483401062428, 0.009744988521200013, 0.009713124383918678, 0.00968187674452562, 0.009651231749768051, 0.009621175924627476, 0.009591696159647991, 0.009562779698773494, 0.009534414127670003, 0.009506587362510652]}],\n",
       "                        {\"template\": {\"data\": {\"bar\": [{\"error_x\": {\"color\": \"#2a3f5f\"}, \"error_y\": {\"color\": \"#2a3f5f\"}, \"marker\": {\"line\": {\"color\": \"#E5ECF6\", \"width\": 0.5}}, \"type\": \"bar\"}], \"barpolar\": [{\"marker\": {\"line\": {\"color\": \"#E5ECF6\", \"width\": 0.5}}, \"type\": \"barpolar\"}], \"carpet\": [{\"aaxis\": {\"endlinecolor\": \"#2a3f5f\", \"gridcolor\": \"white\", \"linecolor\": \"white\", \"minorgridcolor\": \"white\", \"startlinecolor\": \"#2a3f5f\"}, \"baxis\": {\"endlinecolor\": \"#2a3f5f\", \"gridcolor\": \"white\", \"linecolor\": \"white\", \"minorgridcolor\": \"white\", \"startlinecolor\": \"#2a3f5f\"}, \"type\": \"carpet\"}], \"choropleth\": [{\"colorbar\": {\"outlinewidth\": 0, \"ticks\": \"\"}, \"type\": \"choropleth\"}], \"contour\": [{\"colorbar\": {\"outlinewidth\": 0, \"ticks\": \"\"}, \"colorscale\": [[0.0, \"#0d0887\"], [0.1111111111111111, \"#46039f\"], [0.2222222222222222, \"#7201a8\"], [0.3333333333333333, \"#9c179e\"], [0.4444444444444444, \"#bd3786\"], [0.5555555555555556, \"#d8576b\"], [0.6666666666666666, \"#ed7953\"], [0.7777777777777778, \"#fb9f3a\"], [0.8888888888888888, \"#fdca26\"], [1.0, \"#f0f921\"]], \"type\": \"contour\"}], \"contourcarpet\": [{\"colorbar\": {\"outlinewidth\": 0, \"ticks\": \"\"}, \"type\": \"contourcarpet\"}], \"heatmap\": [{\"colorbar\": {\"outlinewidth\": 0, \"ticks\": \"\"}, \"colorscale\": [[0.0, \"#0d0887\"], [0.1111111111111111, \"#46039f\"], [0.2222222222222222, \"#7201a8\"], [0.3333333333333333, \"#9c179e\"], [0.4444444444444444, \"#bd3786\"], [0.5555555555555556, \"#d8576b\"], [0.6666666666666666, \"#ed7953\"], [0.7777777777777778, \"#fb9f3a\"], [0.8888888888888888, \"#fdca26\"], [1.0, \"#f0f921\"]], \"type\": \"heatmap\"}], \"heatmapgl\": [{\"colorbar\": {\"outlinewidth\": 0, \"ticks\": \"\"}, \"colorscale\": [[0.0, \"#0d0887\"], [0.1111111111111111, \"#46039f\"], [0.2222222222222222, \"#7201a8\"], [0.3333333333333333, \"#9c179e\"], [0.4444444444444444, \"#bd3786\"], [0.5555555555555556, \"#d8576b\"], [0.6666666666666666, \"#ed7953\"], [0.7777777777777778, \"#fb9f3a\"], [0.8888888888888888, \"#fdca26\"], [1.0, \"#f0f921\"]], \"type\": \"heatmapgl\"}], \"histogram\": [{\"marker\": {\"colorbar\": {\"outlinewidth\": 0, \"ticks\": \"\"}}, \"type\": \"histogram\"}], \"histogram2d\": [{\"colorbar\": {\"outlinewidth\": 0, \"ticks\": \"\"}, \"colorscale\": [[0.0, \"#0d0887\"], [0.1111111111111111, \"#46039f\"], [0.2222222222222222, \"#7201a8\"], [0.3333333333333333, \"#9c179e\"], [0.4444444444444444, \"#bd3786\"], [0.5555555555555556, \"#d8576b\"], [0.6666666666666666, \"#ed7953\"], [0.7777777777777778, \"#fb9f3a\"], [0.8888888888888888, \"#fdca26\"], [1.0, \"#f0f921\"]], \"type\": \"histogram2d\"}], \"histogram2dcontour\": [{\"colorbar\": {\"outlinewidth\": 0, \"ticks\": \"\"}, \"colorscale\": [[0.0, \"#0d0887\"], [0.1111111111111111, \"#46039f\"], [0.2222222222222222, \"#7201a8\"], [0.3333333333333333, \"#9c179e\"], [0.4444444444444444, \"#bd3786\"], [0.5555555555555556, \"#d8576b\"], [0.6666666666666666, \"#ed7953\"], [0.7777777777777778, \"#fb9f3a\"], [0.8888888888888888, \"#fdca26\"], [1.0, \"#f0f921\"]], \"type\": \"histogram2dcontour\"}], \"mesh3d\": [{\"colorbar\": {\"outlinewidth\": 0, \"ticks\": \"\"}, \"type\": \"mesh3d\"}], \"parcoords\": [{\"line\": {\"colorbar\": {\"outlinewidth\": 0, \"ticks\": \"\"}}, \"type\": \"parcoords\"}], \"pie\": [{\"automargin\": true, \"type\": \"pie\"}], \"scatter\": [{\"marker\": {\"colorbar\": {\"outlinewidth\": 0, \"ticks\": \"\"}}, \"type\": \"scatter\"}], \"scatter3d\": [{\"line\": {\"colorbar\": {\"outlinewidth\": 0, \"ticks\": \"\"}}, \"marker\": {\"colorbar\": {\"outlinewidth\": 0, \"ticks\": \"\"}}, \"type\": \"scatter3d\"}], \"scattercarpet\": [{\"marker\": {\"colorbar\": {\"outlinewidth\": 0, \"ticks\": \"\"}}, \"type\": \"scattercarpet\"}], \"scattergeo\": [{\"marker\": {\"colorbar\": {\"outlinewidth\": 0, \"ticks\": \"\"}}, \"type\": \"scattergeo\"}], \"scattergl\": [{\"marker\": {\"colorbar\": {\"outlinewidth\": 0, \"ticks\": \"\"}}, \"type\": \"scattergl\"}], \"scattermapbox\": [{\"marker\": {\"colorbar\": {\"outlinewidth\": 0, \"ticks\": \"\"}}, \"type\": \"scattermapbox\"}], \"scatterpolar\": [{\"marker\": {\"colorbar\": {\"outlinewidth\": 0, \"ticks\": \"\"}}, \"type\": \"scatterpolar\"}], \"scatterpolargl\": [{\"marker\": {\"colorbar\": {\"outlinewidth\": 0, \"ticks\": \"\"}}, \"type\": \"scatterpolargl\"}], \"scatterternary\": [{\"marker\": {\"colorbar\": {\"outlinewidth\": 0, \"ticks\": \"\"}}, \"type\": \"scatterternary\"}], \"surface\": [{\"colorbar\": {\"outlinewidth\": 0, \"ticks\": \"\"}, \"colorscale\": [[0.0, \"#0d0887\"], [0.1111111111111111, \"#46039f\"], [0.2222222222222222, \"#7201a8\"], [0.3333333333333333, \"#9c179e\"], [0.4444444444444444, \"#bd3786\"], [0.5555555555555556, \"#d8576b\"], [0.6666666666666666, \"#ed7953\"], [0.7777777777777778, \"#fb9f3a\"], [0.8888888888888888, \"#fdca26\"], [1.0, \"#f0f921\"]], \"type\": \"surface\"}], \"table\": [{\"cells\": {\"fill\": {\"color\": \"#EBF0F8\"}, \"line\": {\"color\": \"white\"}}, \"header\": {\"fill\": {\"color\": \"#C8D4E3\"}, \"line\": {\"color\": \"white\"}}, \"type\": \"table\"}]}, \"layout\": {\"annotationdefaults\": {\"arrowcolor\": \"#2a3f5f\", \"arrowhead\": 0, \"arrowwidth\": 1}, \"coloraxis\": {\"colorbar\": {\"outlinewidth\": 0, \"ticks\": \"\"}}, \"colorscale\": {\"diverging\": [[0, \"#8e0152\"], [0.1, \"#c51b7d\"], [0.2, \"#de77ae\"], [0.3, \"#f1b6da\"], [0.4, \"#fde0ef\"], [0.5, \"#f7f7f7\"], [0.6, \"#e6f5d0\"], [0.7, \"#b8e186\"], [0.8, \"#7fbc41\"], [0.9, \"#4d9221\"], [1, \"#276419\"]], \"sequential\": [[0.0, \"#0d0887\"], [0.1111111111111111, \"#46039f\"], [0.2222222222222222, \"#7201a8\"], [0.3333333333333333, \"#9c179e\"], [0.4444444444444444, \"#bd3786\"], [0.5555555555555556, \"#d8576b\"], [0.6666666666666666, \"#ed7953\"], [0.7777777777777778, \"#fb9f3a\"], [0.8888888888888888, \"#fdca26\"], [1.0, \"#f0f921\"]], \"sequentialminus\": [[0.0, \"#0d0887\"], [0.1111111111111111, \"#46039f\"], [0.2222222222222222, \"#7201a8\"], [0.3333333333333333, \"#9c179e\"], [0.4444444444444444, \"#bd3786\"], [0.5555555555555556, \"#d8576b\"], [0.6666666666666666, \"#ed7953\"], [0.7777777777777778, \"#fb9f3a\"], [0.8888888888888888, \"#fdca26\"], [1.0, \"#f0f921\"]]}, \"colorway\": [\"#636efa\", \"#EF553B\", \"#00cc96\", \"#ab63fa\", \"#FFA15A\", \"#19d3f3\", \"#FF6692\", \"#B6E880\", \"#FF97FF\", \"#FECB52\"], \"font\": {\"color\": \"#2a3f5f\"}, \"geo\": {\"bgcolor\": \"white\", \"lakecolor\": \"white\", \"landcolor\": \"#E5ECF6\", \"showlakes\": true, \"showland\": true, \"subunitcolor\": \"white\"}, \"hoverlabel\": {\"align\": \"left\"}, \"hovermode\": \"closest\", \"mapbox\": {\"style\": \"light\"}, \"paper_bgcolor\": \"white\", \"plot_bgcolor\": \"#E5ECF6\", \"polar\": {\"angularaxis\": {\"gridcolor\": \"white\", \"linecolor\": \"white\", \"ticks\": \"\"}, \"bgcolor\": \"#E5ECF6\", \"radialaxis\": {\"gridcolor\": \"white\", \"linecolor\": \"white\", \"ticks\": \"\"}}, \"scene\": {\"xaxis\": {\"backgroundcolor\": \"#E5ECF6\", \"gridcolor\": \"white\", \"gridwidth\": 2, \"linecolor\": \"white\", \"showbackground\": true, \"ticks\": \"\", \"zerolinecolor\": \"white\"}, \"yaxis\": {\"backgroundcolor\": \"#E5ECF6\", \"gridcolor\": \"white\", \"gridwidth\": 2, \"linecolor\": \"white\", \"showbackground\": true, \"ticks\": \"\", \"zerolinecolor\": \"white\"}, \"zaxis\": {\"backgroundcolor\": \"#E5ECF6\", \"gridcolor\": \"white\", \"gridwidth\": 2, \"linecolor\": \"white\", \"showbackground\": true, \"ticks\": \"\", \"zerolinecolor\": \"white\"}}, \"shapedefaults\": {\"line\": {\"color\": \"#2a3f5f\"}}, \"ternary\": {\"aaxis\": {\"gridcolor\": \"white\", \"linecolor\": \"white\", \"ticks\": \"\"}, \"baxis\": {\"gridcolor\": \"white\", \"linecolor\": \"white\", \"ticks\": \"\"}, \"bgcolor\": \"#E5ECF6\", \"caxis\": {\"gridcolor\": \"white\", \"linecolor\": \"white\", \"ticks\": \"\"}}, \"title\": {\"x\": 0.05}, \"xaxis\": {\"automargin\": true, \"gridcolor\": \"white\", \"linecolor\": \"white\", \"ticks\": \"\", \"title\": {\"standoff\": 15}, \"zerolinecolor\": \"white\", \"zerolinewidth\": 2}, \"yaxis\": {\"automargin\": true, \"gridcolor\": \"white\", \"linecolor\": \"white\", \"ticks\": \"\", \"title\": {\"standoff\": 15}, \"zerolinecolor\": \"white\", \"zerolinewidth\": 2}}}},\n",
       "                        {\"responsive\": true}\n",
       "                    ).then(function(){\n",
       "                            \n",
       "var gd = document.getElementById('53d3f227-42c8-454a-a571-c5a646a469dd');\n",
       "var x = new MutationObserver(function (mutations, observer) {{\n",
       "        var display = window.getComputedStyle(gd).display;\n",
       "        if (!display || display === 'none') {{\n",
       "            console.log([gd, 'removed!']);\n",
       "            Plotly.purge(gd);\n",
       "            observer.disconnect();\n",
       "        }}\n",
       "}});\n",
       "\n",
       "// Listen for the removal of the full notebook cells\n",
       "var notebookContainer = gd.closest('#notebook-container');\n",
       "if (notebookContainer) {{\n",
       "    x.observe(notebookContainer, {childList: true});\n",
       "}}\n",
       "\n",
       "// Listen for the clearing of the current output cell\n",
       "var outputEl = gd.closest('.output');\n",
       "if (outputEl) {{\n",
       "    x.observe(outputEl, {childList: true});\n",
       "}}\n",
       "\n",
       "                        })\n",
       "                };\n",
       "                });\n",
       "            </script>\n",
       "        </div>"
      ]
     },
     "metadata": {},
     "output_type": "display_data"
    }
   ],
   "source": [
    "pavea = [pave[i, 0, 0] for i in range(kf_steps)]\n",
    "pa = [Ps[i][0,0] for i in range(kf_steps)]\n",
    "figpavea = go.Figure()\n",
    "figpavea.add_trace(go.Scatter(x=t_kf, y=pavea, name=\"Average\"))\n",
    "figpavea.add_trace(go.Scatter(x=t_kf, y=pa, name=\"P\"))\n",
    "figpavea.show()"
   ]
  },
  {
   "cell_type": "code",
   "execution_count": 76,
   "metadata": {},
   "outputs": [
    {
     "data": {
      "application/vnd.plotly.v1+json": {
       "config": {
        "plotlyServerURL": "https://plot.ly"
       },
       "data": [
        {
         "name": "Norm",
         "type": "scatter",
         "x": [
          0,
          0.2,
          0.4,
          0.6000000000000001,
          0.8,
          1,
          1.2000000000000002,
          1.4000000000000001,
          1.6,
          1.8,
          2,
          2.2,
          2.4000000000000004,
          2.6,
          2.8000000000000003,
          3,
          3.2,
          3.4000000000000004,
          3.6,
          3.8000000000000003,
          4,
          4.2,
          4.4,
          4.6000000000000005,
          4.800000000000001,
          5,
          5.2,
          5.4,
          5.6000000000000005,
          5.800000000000001,
          6,
          6.2,
          6.4,
          6.6000000000000005,
          6.800000000000001,
          7,
          7.2,
          7.4,
          7.6000000000000005,
          7.800000000000001,
          8,
          8.200000000000001,
          8.4,
          8.6,
          8.8,
          9,
          9.200000000000001,
          9.4,
          9.600000000000001,
          9.8,
          10,
          10.200000000000001,
          10.4,
          10.600000000000001,
          10.8,
          11,
          11.200000000000001,
          11.4,
          11.600000000000001,
          11.8,
          12,
          12.200000000000001,
          12.4,
          12.600000000000001,
          12.8,
          13,
          13.200000000000001,
          13.4,
          13.600000000000001,
          13.8,
          14,
          14.200000000000001,
          14.4,
          14.600000000000001,
          14.8,
          15,
          15.200000000000001,
          15.4,
          15.600000000000001,
          15.8,
          16,
          16.2,
          16.400000000000002,
          16.6,
          16.8,
          17,
          17.2,
          17.400000000000002,
          17.6,
          17.8,
          18,
          18.2,
          18.400000000000002,
          18.6,
          18.8,
          19,
          19.200000000000003,
          19.400000000000002,
          19.6,
          19.8,
          20,
          20.200000000000003,
          20.400000000000002,
          20.6,
          20.8,
          21,
          21.200000000000003,
          21.400000000000002,
          21.6,
          21.8,
          22,
          22.200000000000003,
          22.400000000000002,
          22.6,
          22.8,
          23,
          23.200000000000003,
          23.400000000000002,
          23.6,
          23.8,
          24,
          24.200000000000003,
          24.400000000000002,
          24.6,
          24.8,
          25,
          25.200000000000003,
          25.400000000000002,
          25.6,
          25.8,
          26,
          26.200000000000003,
          26.400000000000002,
          26.6,
          26.8,
          27,
          27.200000000000003,
          27.400000000000002,
          27.6,
          27.8,
          28,
          28.200000000000003,
          28.400000000000002,
          28.6,
          28.8,
          29,
          29.200000000000003,
          29.400000000000002,
          29.6,
          29.8,
          30
         ],
         "y": [
          0.05702356254087752,
          1.165695608668151,
          2.8952504886929997,
          3.2816738305747335,
          3.2137858055591026,
          2.23153512571787,
          1.1324801863727292,
          1.5566746164301384,
          0.6376528882734553,
          0.5101829187426611,
          0.12188286505386324,
          0.11433841458657318,
          0.19517314876750336,
          0.2761453567269243,
          0.3245658959031434,
          0.43161625586468555,
          0.43466872799406847,
          0.469559450531024,
          0.5361948066707484,
          0.3469577223024563,
          0.23097799261192856,
          0.27446467698806776,
          0.286214357326322,
          0.45883719408654566,
          0.5676373552116447,
          0.6798378842054801,
          0.6285700806876382,
          0.7144962750579276,
          0.7400381715565952,
          0.7174178849233995,
          0.5655038399617841,
          0.6599203445503222,
          0.6625059963386283,
          0.5331543668100417,
          0.5055067928738874,
          0.43225222476085573,
          0.3987665799703721,
          0.3504105057156052,
          0.22976949289227108,
          0.3348021692857096,
          0.4319372242164928,
          0.5660593657137106,
          0.47360911833027175,
          0.48046307590928145,
          0.6019903487971192,
          0.5469544275439179,
          0.6339965943356428,
          0.6623074361813981,
          0.5895597302389681,
          0.5458990167373502,
          0.5419834327022527,
          0.3207172643808663,
          0.23961474825071563,
          0.30578816584048646,
          0.338549530292365,
          0.4279507250154134,
          0.5611618297156311,
          0.6950673165487625,
          0.764054627158586,
          0.8446318034411895,
          0.976738415170882,
          0.7940202741384916,
          0.6394089892049905,
          0.6973158226857491,
          0.5785339009168172,
          0.5487437514078025,
          0.6894873388326423,
          0.7332440566980581,
          0.6893732872549603,
          0.8029632427245689,
          0.6553820393294819,
          0.6169991406671593,
          0.6447786208720677,
          0.42475391683397684,
          0.4034784001776067,
          0.47192129492297447,
          0.49724114618373044,
          0.5456541044179288,
          0.5554056078927866,
          0.5629618114287026,
          0.636143382634418,
          0.831678873469873,
          0.8749164197941776,
          0.9401127392901721,
          1.0581753351090089,
          0.9512304393398089,
          0.8889305189617227,
          0.7099586451355737,
          0.5121092852952905,
          0.6883166489876207,
          0.6432507809341901,
          0.5749026529563606,
          0.7027357530954844,
          0.8048727584349746,
          0.9524402738275732,
          0.9260505443598551,
          1.0102599054203962,
          1.0681252866766124,
          0.9317242758809804,
          0.8943756520317345,
          0.9167325017796123,
          0.9016903086983871,
          0.8551161438920732,
          0.7629457754577187,
          0.7149132518286408,
          0.8631780512080585,
          0.9593704413531194,
          1.1314859321309336,
          1.1318955402655237,
          1.085572107233001,
          1.022912196271953,
          1.2560940890853922,
          1.176728002274944,
          1.0612645130003293,
          1.3101275952979248,
          1.2812558124282263,
          1.54143960987332,
          1.6409680199305279,
          1.6462774604890895,
          1.7938753055636323,
          2.0224374835243077,
          1.9518831699132653,
          1.7777121515812404,
          1.809365265046751,
          1.8818763397172686,
          1.701601587955118,
          1.5185444577283727,
          1.3484321091885627,
          1.1755207542496575,
          1.211880260585964,
          1.0564231960907107,
          1.0548251926794925,
          1.1652859060504748,
          1.092045899731901,
          1.2541289231398909,
          1.0262312745897175,
          1.003342932235396,
          0.7499685606640725,
          0.8421449118205607,
          1.1703133948854971,
          1.302921138970632,
          1.4178656359158297,
          1.7326551299790725,
          1.648100287519645,
          1.7928991696345382,
          2.1557754272462817,
          2.239689220805875,
          2.3705948226398563,
          2.2066937970581852,
          2.3868256304535698,
          2.437688284504966
         ]
        }
       ],
       "layout": {
        "template": {
         "data": {
          "bar": [
           {
            "error_x": {
             "color": "#2a3f5f"
            },
            "error_y": {
             "color": "#2a3f5f"
            },
            "marker": {
             "line": {
              "color": "#E5ECF6",
              "width": 0.5
             }
            },
            "type": "bar"
           }
          ],
          "barpolar": [
           {
            "marker": {
             "line": {
              "color": "#E5ECF6",
              "width": 0.5
             }
            },
            "type": "barpolar"
           }
          ],
          "carpet": [
           {
            "aaxis": {
             "endlinecolor": "#2a3f5f",
             "gridcolor": "white",
             "linecolor": "white",
             "minorgridcolor": "white",
             "startlinecolor": "#2a3f5f"
            },
            "baxis": {
             "endlinecolor": "#2a3f5f",
             "gridcolor": "white",
             "linecolor": "white",
             "minorgridcolor": "white",
             "startlinecolor": "#2a3f5f"
            },
            "type": "carpet"
           }
          ],
          "choropleth": [
           {
            "colorbar": {
             "outlinewidth": 0,
             "ticks": ""
            },
            "type": "choropleth"
           }
          ],
          "contour": [
           {
            "colorbar": {
             "outlinewidth": 0,
             "ticks": ""
            },
            "colorscale": [
             [
              0,
              "#0d0887"
             ],
             [
              0.1111111111111111,
              "#46039f"
             ],
             [
              0.2222222222222222,
              "#7201a8"
             ],
             [
              0.3333333333333333,
              "#9c179e"
             ],
             [
              0.4444444444444444,
              "#bd3786"
             ],
             [
              0.5555555555555556,
              "#d8576b"
             ],
             [
              0.6666666666666666,
              "#ed7953"
             ],
             [
              0.7777777777777778,
              "#fb9f3a"
             ],
             [
              0.8888888888888888,
              "#fdca26"
             ],
             [
              1,
              "#f0f921"
             ]
            ],
            "type": "contour"
           }
          ],
          "contourcarpet": [
           {
            "colorbar": {
             "outlinewidth": 0,
             "ticks": ""
            },
            "type": "contourcarpet"
           }
          ],
          "heatmap": [
           {
            "colorbar": {
             "outlinewidth": 0,
             "ticks": ""
            },
            "colorscale": [
             [
              0,
              "#0d0887"
             ],
             [
              0.1111111111111111,
              "#46039f"
             ],
             [
              0.2222222222222222,
              "#7201a8"
             ],
             [
              0.3333333333333333,
              "#9c179e"
             ],
             [
              0.4444444444444444,
              "#bd3786"
             ],
             [
              0.5555555555555556,
              "#d8576b"
             ],
             [
              0.6666666666666666,
              "#ed7953"
             ],
             [
              0.7777777777777778,
              "#fb9f3a"
             ],
             [
              0.8888888888888888,
              "#fdca26"
             ],
             [
              1,
              "#f0f921"
             ]
            ],
            "type": "heatmap"
           }
          ],
          "heatmapgl": [
           {
            "colorbar": {
             "outlinewidth": 0,
             "ticks": ""
            },
            "colorscale": [
             [
              0,
              "#0d0887"
             ],
             [
              0.1111111111111111,
              "#46039f"
             ],
             [
              0.2222222222222222,
              "#7201a8"
             ],
             [
              0.3333333333333333,
              "#9c179e"
             ],
             [
              0.4444444444444444,
              "#bd3786"
             ],
             [
              0.5555555555555556,
              "#d8576b"
             ],
             [
              0.6666666666666666,
              "#ed7953"
             ],
             [
              0.7777777777777778,
              "#fb9f3a"
             ],
             [
              0.8888888888888888,
              "#fdca26"
             ],
             [
              1,
              "#f0f921"
             ]
            ],
            "type": "heatmapgl"
           }
          ],
          "histogram": [
           {
            "marker": {
             "colorbar": {
              "outlinewidth": 0,
              "ticks": ""
             }
            },
            "type": "histogram"
           }
          ],
          "histogram2d": [
           {
            "colorbar": {
             "outlinewidth": 0,
             "ticks": ""
            },
            "colorscale": [
             [
              0,
              "#0d0887"
             ],
             [
              0.1111111111111111,
              "#46039f"
             ],
             [
              0.2222222222222222,
              "#7201a8"
             ],
             [
              0.3333333333333333,
              "#9c179e"
             ],
             [
              0.4444444444444444,
              "#bd3786"
             ],
             [
              0.5555555555555556,
              "#d8576b"
             ],
             [
              0.6666666666666666,
              "#ed7953"
             ],
             [
              0.7777777777777778,
              "#fb9f3a"
             ],
             [
              0.8888888888888888,
              "#fdca26"
             ],
             [
              1,
              "#f0f921"
             ]
            ],
            "type": "histogram2d"
           }
          ],
          "histogram2dcontour": [
           {
            "colorbar": {
             "outlinewidth": 0,
             "ticks": ""
            },
            "colorscale": [
             [
              0,
              "#0d0887"
             ],
             [
              0.1111111111111111,
              "#46039f"
             ],
             [
              0.2222222222222222,
              "#7201a8"
             ],
             [
              0.3333333333333333,
              "#9c179e"
             ],
             [
              0.4444444444444444,
              "#bd3786"
             ],
             [
              0.5555555555555556,
              "#d8576b"
             ],
             [
              0.6666666666666666,
              "#ed7953"
             ],
             [
              0.7777777777777778,
              "#fb9f3a"
             ],
             [
              0.8888888888888888,
              "#fdca26"
             ],
             [
              1,
              "#f0f921"
             ]
            ],
            "type": "histogram2dcontour"
           }
          ],
          "mesh3d": [
           {
            "colorbar": {
             "outlinewidth": 0,
             "ticks": ""
            },
            "type": "mesh3d"
           }
          ],
          "parcoords": [
           {
            "line": {
             "colorbar": {
              "outlinewidth": 0,
              "ticks": ""
             }
            },
            "type": "parcoords"
           }
          ],
          "pie": [
           {
            "automargin": true,
            "type": "pie"
           }
          ],
          "scatter": [
           {
            "marker": {
             "colorbar": {
              "outlinewidth": 0,
              "ticks": ""
             }
            },
            "type": "scatter"
           }
          ],
          "scatter3d": [
           {
            "line": {
             "colorbar": {
              "outlinewidth": 0,
              "ticks": ""
             }
            },
            "marker": {
             "colorbar": {
              "outlinewidth": 0,
              "ticks": ""
             }
            },
            "type": "scatter3d"
           }
          ],
          "scattercarpet": [
           {
            "marker": {
             "colorbar": {
              "outlinewidth": 0,
              "ticks": ""
             }
            },
            "type": "scattercarpet"
           }
          ],
          "scattergeo": [
           {
            "marker": {
             "colorbar": {
              "outlinewidth": 0,
              "ticks": ""
             }
            },
            "type": "scattergeo"
           }
          ],
          "scattergl": [
           {
            "marker": {
             "colorbar": {
              "outlinewidth": 0,
              "ticks": ""
             }
            },
            "type": "scattergl"
           }
          ],
          "scattermapbox": [
           {
            "marker": {
             "colorbar": {
              "outlinewidth": 0,
              "ticks": ""
             }
            },
            "type": "scattermapbox"
           }
          ],
          "scatterpolar": [
           {
            "marker": {
             "colorbar": {
              "outlinewidth": 0,
              "ticks": ""
             }
            },
            "type": "scatterpolar"
           }
          ],
          "scatterpolargl": [
           {
            "marker": {
             "colorbar": {
              "outlinewidth": 0,
              "ticks": ""
             }
            },
            "type": "scatterpolargl"
           }
          ],
          "scatterternary": [
           {
            "marker": {
             "colorbar": {
              "outlinewidth": 0,
              "ticks": ""
             }
            },
            "type": "scatterternary"
           }
          ],
          "surface": [
           {
            "colorbar": {
             "outlinewidth": 0,
             "ticks": ""
            },
            "colorscale": [
             [
              0,
              "#0d0887"
             ],
             [
              0.1111111111111111,
              "#46039f"
             ],
             [
              0.2222222222222222,
              "#7201a8"
             ],
             [
              0.3333333333333333,
              "#9c179e"
             ],
             [
              0.4444444444444444,
              "#bd3786"
             ],
             [
              0.5555555555555556,
              "#d8576b"
             ],
             [
              0.6666666666666666,
              "#ed7953"
             ],
             [
              0.7777777777777778,
              "#fb9f3a"
             ],
             [
              0.8888888888888888,
              "#fdca26"
             ],
             [
              1,
              "#f0f921"
             ]
            ],
            "type": "surface"
           }
          ],
          "table": [
           {
            "cells": {
             "fill": {
              "color": "#EBF0F8"
             },
             "line": {
              "color": "white"
             }
            },
            "header": {
             "fill": {
              "color": "#C8D4E3"
             },
             "line": {
              "color": "white"
             }
            },
            "type": "table"
           }
          ]
         },
         "layout": {
          "annotationdefaults": {
           "arrowcolor": "#2a3f5f",
           "arrowhead": 0,
           "arrowwidth": 1
          },
          "coloraxis": {
           "colorbar": {
            "outlinewidth": 0,
            "ticks": ""
           }
          },
          "colorscale": {
           "diverging": [
            [
             0,
             "#8e0152"
            ],
            [
             0.1,
             "#c51b7d"
            ],
            [
             0.2,
             "#de77ae"
            ],
            [
             0.3,
             "#f1b6da"
            ],
            [
             0.4,
             "#fde0ef"
            ],
            [
             0.5,
             "#f7f7f7"
            ],
            [
             0.6,
             "#e6f5d0"
            ],
            [
             0.7,
             "#b8e186"
            ],
            [
             0.8,
             "#7fbc41"
            ],
            [
             0.9,
             "#4d9221"
            ],
            [
             1,
             "#276419"
            ]
           ],
           "sequential": [
            [
             0,
             "#0d0887"
            ],
            [
             0.1111111111111111,
             "#46039f"
            ],
            [
             0.2222222222222222,
             "#7201a8"
            ],
            [
             0.3333333333333333,
             "#9c179e"
            ],
            [
             0.4444444444444444,
             "#bd3786"
            ],
            [
             0.5555555555555556,
             "#d8576b"
            ],
            [
             0.6666666666666666,
             "#ed7953"
            ],
            [
             0.7777777777777778,
             "#fb9f3a"
            ],
            [
             0.8888888888888888,
             "#fdca26"
            ],
            [
             1,
             "#f0f921"
            ]
           ],
           "sequentialminus": [
            [
             0,
             "#0d0887"
            ],
            [
             0.1111111111111111,
             "#46039f"
            ],
            [
             0.2222222222222222,
             "#7201a8"
            ],
            [
             0.3333333333333333,
             "#9c179e"
            ],
            [
             0.4444444444444444,
             "#bd3786"
            ],
            [
             0.5555555555555556,
             "#d8576b"
            ],
            [
             0.6666666666666666,
             "#ed7953"
            ],
            [
             0.7777777777777778,
             "#fb9f3a"
            ],
            [
             0.8888888888888888,
             "#fdca26"
            ],
            [
             1,
             "#f0f921"
            ]
           ]
          },
          "colorway": [
           "#636efa",
           "#EF553B",
           "#00cc96",
           "#ab63fa",
           "#FFA15A",
           "#19d3f3",
           "#FF6692",
           "#B6E880",
           "#FF97FF",
           "#FECB52"
          ],
          "font": {
           "color": "#2a3f5f"
          },
          "geo": {
           "bgcolor": "white",
           "lakecolor": "white",
           "landcolor": "#E5ECF6",
           "showlakes": true,
           "showland": true,
           "subunitcolor": "white"
          },
          "hoverlabel": {
           "align": "left"
          },
          "hovermode": "closest",
          "mapbox": {
           "style": "light"
          },
          "paper_bgcolor": "white",
          "plot_bgcolor": "#E5ECF6",
          "polar": {
           "angularaxis": {
            "gridcolor": "white",
            "linecolor": "white",
            "ticks": ""
           },
           "bgcolor": "#E5ECF6",
           "radialaxis": {
            "gridcolor": "white",
            "linecolor": "white",
            "ticks": ""
           }
          },
          "scene": {
           "xaxis": {
            "backgroundcolor": "#E5ECF6",
            "gridcolor": "white",
            "gridwidth": 2,
            "linecolor": "white",
            "showbackground": true,
            "ticks": "",
            "zerolinecolor": "white"
           },
           "yaxis": {
            "backgroundcolor": "#E5ECF6",
            "gridcolor": "white",
            "gridwidth": 2,
            "linecolor": "white",
            "showbackground": true,
            "ticks": "",
            "zerolinecolor": "white"
           },
           "zaxis": {
            "backgroundcolor": "#E5ECF6",
            "gridcolor": "white",
            "gridwidth": 2,
            "linecolor": "white",
            "showbackground": true,
            "ticks": "",
            "zerolinecolor": "white"
           }
          },
          "shapedefaults": {
           "line": {
            "color": "#2a3f5f"
           }
          },
          "ternary": {
           "aaxis": {
            "gridcolor": "white",
            "linecolor": "white",
            "ticks": ""
           },
           "baxis": {
            "gridcolor": "white",
            "linecolor": "white",
            "ticks": ""
           },
           "bgcolor": "#E5ECF6",
           "caxis": {
            "gridcolor": "white",
            "linecolor": "white",
            "ticks": ""
           }
          },
          "title": {
           "x": 0.05
          },
          "xaxis": {
           "automargin": true,
           "gridcolor": "white",
           "linecolor": "white",
           "ticks": "",
           "title": {
            "standoff": 15
           },
           "zerolinecolor": "white",
           "zerolinewidth": 2
          },
          "yaxis": {
           "automargin": true,
           "gridcolor": "white",
           "linecolor": "white",
           "ticks": "",
           "title": {
            "standoff": 15
           },
           "zerolinecolor": "white",
           "zerolinewidth": 2
          }
         }
        }
       }
      },
      "text/html": [
       "<div>\n",
       "        \n",
       "        \n",
       "            <div id=\"0db660f4-c8c4-4c58-9869-130d80caa404\" class=\"plotly-graph-div\" style=\"height:525px; width:100%;\"></div>\n",
       "            <script type=\"text/javascript\">\n",
       "                require([\"plotly\"], function(Plotly) {\n",
       "                    window.PLOTLYENV=window.PLOTLYENV || {};\n",
       "                    \n",
       "                if (document.getElementById(\"0db660f4-c8c4-4c58-9869-130d80caa404\")) {\n",
       "                    Plotly.newPlot(\n",
       "                        '0db660f4-c8c4-4c58-9869-130d80caa404',\n",
       "                        [{\"name\": \"Norm\", \"type\": \"scatter\", \"x\": [0.0, 0.2, 0.4, 0.6000000000000001, 0.8, 1.0, 1.2000000000000002, 1.4000000000000001, 1.6, 1.8, 2.0, 2.2, 2.4000000000000004, 2.6, 2.8000000000000003, 3.0, 3.2, 3.4000000000000004, 3.6, 3.8000000000000003, 4.0, 4.2, 4.4, 4.6000000000000005, 4.800000000000001, 5.0, 5.2, 5.4, 5.6000000000000005, 5.800000000000001, 6.0, 6.2, 6.4, 6.6000000000000005, 6.800000000000001, 7.0, 7.2, 7.4, 7.6000000000000005, 7.800000000000001, 8.0, 8.200000000000001, 8.4, 8.6, 8.8, 9.0, 9.200000000000001, 9.4, 9.600000000000001, 9.8, 10.0, 10.200000000000001, 10.4, 10.600000000000001, 10.8, 11.0, 11.200000000000001, 11.4, 11.600000000000001, 11.8, 12.0, 12.200000000000001, 12.4, 12.600000000000001, 12.8, 13.0, 13.200000000000001, 13.4, 13.600000000000001, 13.8, 14.0, 14.200000000000001, 14.4, 14.600000000000001, 14.8, 15.0, 15.200000000000001, 15.4, 15.600000000000001, 15.8, 16.0, 16.2, 16.400000000000002, 16.6, 16.8, 17.0, 17.2, 17.400000000000002, 17.6, 17.8, 18.0, 18.2, 18.400000000000002, 18.6, 18.8, 19.0, 19.200000000000003, 19.400000000000002, 19.6, 19.8, 20.0, 20.200000000000003, 20.400000000000002, 20.6, 20.8, 21.0, 21.200000000000003, 21.400000000000002, 21.6, 21.8, 22.0, 22.200000000000003, 22.400000000000002, 22.6, 22.8, 23.0, 23.200000000000003, 23.400000000000002, 23.6, 23.8, 24.0, 24.200000000000003, 24.400000000000002, 24.6, 24.8, 25.0, 25.200000000000003, 25.400000000000002, 25.6, 25.8, 26.0, 26.200000000000003, 26.400000000000002, 26.6, 26.8, 27.0, 27.200000000000003, 27.400000000000002, 27.6, 27.8, 28.0, 28.200000000000003, 28.400000000000002, 28.6, 28.8, 29.0, 29.200000000000003, 29.400000000000002, 29.6, 29.8, 30.0], \"y\": [0.05702356254087752, 1.165695608668151, 2.8952504886929997, 3.2816738305747335, 3.2137858055591026, 2.23153512571787, 1.1324801863727292, 1.5566746164301384, 0.6376528882734553, 0.5101829187426611, 0.12188286505386324, 0.11433841458657318, 0.19517314876750336, 0.2761453567269243, 0.3245658959031434, 0.43161625586468555, 0.43466872799406847, 0.469559450531024, 0.5361948066707484, 0.3469577223024563, 0.23097799261192856, 0.27446467698806776, 0.286214357326322, 0.45883719408654566, 0.5676373552116447, 0.6798378842054801, 0.6285700806876382, 0.7144962750579276, 0.7400381715565952, 0.7174178849233995, 0.5655038399617841, 0.6599203445503222, 0.6625059963386283, 0.5331543668100417, 0.5055067928738874, 0.43225222476085573, 0.3987665799703721, 0.3504105057156052, 0.22976949289227108, 0.3348021692857096, 0.4319372242164928, 0.5660593657137106, 0.47360911833027175, 0.48046307590928145, 0.6019903487971192, 0.5469544275439179, 0.6339965943356428, 0.6623074361813981, 0.5895597302389681, 0.5458990167373502, 0.5419834327022527, 0.3207172643808663, 0.23961474825071563, 0.30578816584048646, 0.338549530292365, 0.4279507250154134, 0.5611618297156311, 0.6950673165487625, 0.764054627158586, 0.8446318034411895, 0.976738415170882, 0.7940202741384916, 0.6394089892049905, 0.6973158226857491, 0.5785339009168172, 0.5487437514078025, 0.6894873388326423, 0.7332440566980581, 0.6893732872549603, 0.8029632427245689, 0.6553820393294819, 0.6169991406671593, 0.6447786208720677, 0.42475391683397684, 0.4034784001776067, 0.47192129492297447, 0.49724114618373044, 0.5456541044179288, 0.5554056078927866, 0.5629618114287026, 0.636143382634418, 0.831678873469873, 0.8749164197941776, 0.9401127392901721, 1.0581753351090089, 0.9512304393398089, 0.8889305189617227, 0.7099586451355737, 0.5121092852952905, 0.6883166489876207, 0.6432507809341901, 0.5749026529563606, 0.7027357530954844, 0.8048727584349746, 0.9524402738275732, 0.9260505443598551, 1.0102599054203962, 1.0681252866766124, 0.9317242758809804, 0.8943756520317345, 0.9167325017796123, 0.9016903086983871, 0.8551161438920732, 0.7629457754577187, 0.7149132518286408, 0.8631780512080585, 0.9593704413531194, 1.1314859321309336, 1.1318955402655237, 1.085572107233001, 1.022912196271953, 1.2560940890853922, 1.176728002274944, 1.0612645130003293, 1.3101275952979248, 1.2812558124282263, 1.54143960987332, 1.6409680199305279, 1.6462774604890895, 1.7938753055636323, 2.0224374835243077, 1.9518831699132653, 1.7777121515812404, 1.809365265046751, 1.8818763397172686, 1.701601587955118, 1.5185444577283727, 1.3484321091885627, 1.1755207542496575, 1.211880260585964, 1.0564231960907107, 1.0548251926794925, 1.1652859060504748, 1.092045899731901, 1.2541289231398909, 1.0262312745897175, 1.003342932235396, 0.7499685606640725, 0.8421449118205607, 1.1703133948854971, 1.302921138970632, 1.4178656359158297, 1.7326551299790725, 1.648100287519645, 1.7928991696345382, 2.1557754272462817, 2.239689220805875, 2.3705948226398563, 2.2066937970581852, 2.3868256304535698, 2.437688284504966]}],\n",
       "                        {\"template\": {\"data\": {\"bar\": [{\"error_x\": {\"color\": \"#2a3f5f\"}, \"error_y\": {\"color\": \"#2a3f5f\"}, \"marker\": {\"line\": {\"color\": \"#E5ECF6\", \"width\": 0.5}}, \"type\": \"bar\"}], \"barpolar\": [{\"marker\": {\"line\": {\"color\": \"#E5ECF6\", \"width\": 0.5}}, \"type\": \"barpolar\"}], \"carpet\": [{\"aaxis\": {\"endlinecolor\": \"#2a3f5f\", \"gridcolor\": \"white\", \"linecolor\": \"white\", \"minorgridcolor\": \"white\", \"startlinecolor\": \"#2a3f5f\"}, \"baxis\": {\"endlinecolor\": \"#2a3f5f\", \"gridcolor\": \"white\", \"linecolor\": \"white\", \"minorgridcolor\": \"white\", \"startlinecolor\": \"#2a3f5f\"}, \"type\": \"carpet\"}], \"choropleth\": [{\"colorbar\": {\"outlinewidth\": 0, \"ticks\": \"\"}, \"type\": \"choropleth\"}], \"contour\": [{\"colorbar\": {\"outlinewidth\": 0, \"ticks\": \"\"}, \"colorscale\": [[0.0, \"#0d0887\"], [0.1111111111111111, \"#46039f\"], [0.2222222222222222, \"#7201a8\"], [0.3333333333333333, \"#9c179e\"], [0.4444444444444444, \"#bd3786\"], [0.5555555555555556, \"#d8576b\"], [0.6666666666666666, \"#ed7953\"], [0.7777777777777778, \"#fb9f3a\"], [0.8888888888888888, \"#fdca26\"], [1.0, \"#f0f921\"]], \"type\": \"contour\"}], \"contourcarpet\": [{\"colorbar\": {\"outlinewidth\": 0, \"ticks\": \"\"}, \"type\": \"contourcarpet\"}], \"heatmap\": [{\"colorbar\": {\"outlinewidth\": 0, \"ticks\": \"\"}, \"colorscale\": [[0.0, \"#0d0887\"], [0.1111111111111111, \"#46039f\"], [0.2222222222222222, \"#7201a8\"], [0.3333333333333333, \"#9c179e\"], [0.4444444444444444, \"#bd3786\"], [0.5555555555555556, \"#d8576b\"], [0.6666666666666666, \"#ed7953\"], [0.7777777777777778, \"#fb9f3a\"], [0.8888888888888888, \"#fdca26\"], [1.0, \"#f0f921\"]], \"type\": \"heatmap\"}], \"heatmapgl\": [{\"colorbar\": {\"outlinewidth\": 0, \"ticks\": \"\"}, \"colorscale\": [[0.0, \"#0d0887\"], [0.1111111111111111, \"#46039f\"], [0.2222222222222222, \"#7201a8\"], [0.3333333333333333, \"#9c179e\"], [0.4444444444444444, \"#bd3786\"], [0.5555555555555556, \"#d8576b\"], [0.6666666666666666, \"#ed7953\"], [0.7777777777777778, \"#fb9f3a\"], [0.8888888888888888, \"#fdca26\"], [1.0, \"#f0f921\"]], \"type\": \"heatmapgl\"}], \"histogram\": [{\"marker\": {\"colorbar\": {\"outlinewidth\": 0, \"ticks\": \"\"}}, \"type\": \"histogram\"}], \"histogram2d\": [{\"colorbar\": {\"outlinewidth\": 0, \"ticks\": \"\"}, \"colorscale\": [[0.0, \"#0d0887\"], [0.1111111111111111, \"#46039f\"], [0.2222222222222222, \"#7201a8\"], [0.3333333333333333, \"#9c179e\"], [0.4444444444444444, \"#bd3786\"], [0.5555555555555556, \"#d8576b\"], [0.6666666666666666, \"#ed7953\"], [0.7777777777777778, \"#fb9f3a\"], [0.8888888888888888, \"#fdca26\"], [1.0, \"#f0f921\"]], \"type\": \"histogram2d\"}], \"histogram2dcontour\": [{\"colorbar\": {\"outlinewidth\": 0, \"ticks\": \"\"}, \"colorscale\": [[0.0, \"#0d0887\"], [0.1111111111111111, \"#46039f\"], [0.2222222222222222, \"#7201a8\"], [0.3333333333333333, \"#9c179e\"], [0.4444444444444444, \"#bd3786\"], [0.5555555555555556, \"#d8576b\"], [0.6666666666666666, \"#ed7953\"], [0.7777777777777778, \"#fb9f3a\"], [0.8888888888888888, \"#fdca26\"], [1.0, \"#f0f921\"]], \"type\": \"histogram2dcontour\"}], \"mesh3d\": [{\"colorbar\": {\"outlinewidth\": 0, \"ticks\": \"\"}, \"type\": \"mesh3d\"}], \"parcoords\": [{\"line\": {\"colorbar\": {\"outlinewidth\": 0, \"ticks\": \"\"}}, \"type\": \"parcoords\"}], \"pie\": [{\"automargin\": true, \"type\": \"pie\"}], \"scatter\": [{\"marker\": {\"colorbar\": {\"outlinewidth\": 0, \"ticks\": \"\"}}, \"type\": \"scatter\"}], \"scatter3d\": [{\"line\": {\"colorbar\": {\"outlinewidth\": 0, \"ticks\": \"\"}}, \"marker\": {\"colorbar\": {\"outlinewidth\": 0, \"ticks\": \"\"}}, \"type\": \"scatter3d\"}], \"scattercarpet\": [{\"marker\": {\"colorbar\": {\"outlinewidth\": 0, \"ticks\": \"\"}}, \"type\": \"scattercarpet\"}], \"scattergeo\": [{\"marker\": {\"colorbar\": {\"outlinewidth\": 0, \"ticks\": \"\"}}, \"type\": \"scattergeo\"}], \"scattergl\": [{\"marker\": {\"colorbar\": {\"outlinewidth\": 0, \"ticks\": \"\"}}, \"type\": \"scattergl\"}], \"scattermapbox\": [{\"marker\": {\"colorbar\": {\"outlinewidth\": 0, \"ticks\": \"\"}}, \"type\": \"scattermapbox\"}], \"scatterpolar\": [{\"marker\": {\"colorbar\": {\"outlinewidth\": 0, \"ticks\": \"\"}}, \"type\": \"scatterpolar\"}], \"scatterpolargl\": [{\"marker\": {\"colorbar\": {\"outlinewidth\": 0, \"ticks\": \"\"}}, \"type\": \"scatterpolargl\"}], \"scatterternary\": [{\"marker\": {\"colorbar\": {\"outlinewidth\": 0, \"ticks\": \"\"}}, \"type\": \"scatterternary\"}], \"surface\": [{\"colorbar\": {\"outlinewidth\": 0, \"ticks\": \"\"}, \"colorscale\": [[0.0, \"#0d0887\"], [0.1111111111111111, \"#46039f\"], [0.2222222222222222, \"#7201a8\"], [0.3333333333333333, \"#9c179e\"], [0.4444444444444444, \"#bd3786\"], [0.5555555555555556, \"#d8576b\"], [0.6666666666666666, \"#ed7953\"], [0.7777777777777778, \"#fb9f3a\"], [0.8888888888888888, \"#fdca26\"], [1.0, \"#f0f921\"]], \"type\": \"surface\"}], \"table\": [{\"cells\": {\"fill\": {\"color\": \"#EBF0F8\"}, \"line\": {\"color\": \"white\"}}, \"header\": {\"fill\": {\"color\": \"#C8D4E3\"}, \"line\": {\"color\": \"white\"}}, \"type\": \"table\"}]}, \"layout\": {\"annotationdefaults\": {\"arrowcolor\": \"#2a3f5f\", \"arrowhead\": 0, \"arrowwidth\": 1}, \"coloraxis\": {\"colorbar\": {\"outlinewidth\": 0, \"ticks\": \"\"}}, \"colorscale\": {\"diverging\": [[0, \"#8e0152\"], [0.1, \"#c51b7d\"], [0.2, \"#de77ae\"], [0.3, \"#f1b6da\"], [0.4, \"#fde0ef\"], [0.5, \"#f7f7f7\"], [0.6, \"#e6f5d0\"], [0.7, \"#b8e186\"], [0.8, \"#7fbc41\"], [0.9, \"#4d9221\"], [1, \"#276419\"]], \"sequential\": [[0.0, \"#0d0887\"], [0.1111111111111111, \"#46039f\"], [0.2222222222222222, \"#7201a8\"], [0.3333333333333333, \"#9c179e\"], [0.4444444444444444, \"#bd3786\"], [0.5555555555555556, \"#d8576b\"], [0.6666666666666666, \"#ed7953\"], [0.7777777777777778, \"#fb9f3a\"], [0.8888888888888888, \"#fdca26\"], [1.0, \"#f0f921\"]], \"sequentialminus\": [[0.0, \"#0d0887\"], [0.1111111111111111, \"#46039f\"], [0.2222222222222222, \"#7201a8\"], [0.3333333333333333, \"#9c179e\"], [0.4444444444444444, \"#bd3786\"], [0.5555555555555556, \"#d8576b\"], [0.6666666666666666, \"#ed7953\"], [0.7777777777777778, \"#fb9f3a\"], [0.8888888888888888, \"#fdca26\"], [1.0, \"#f0f921\"]]}, \"colorway\": [\"#636efa\", \"#EF553B\", \"#00cc96\", \"#ab63fa\", \"#FFA15A\", \"#19d3f3\", \"#FF6692\", \"#B6E880\", \"#FF97FF\", \"#FECB52\"], \"font\": {\"color\": \"#2a3f5f\"}, \"geo\": {\"bgcolor\": \"white\", \"lakecolor\": \"white\", \"landcolor\": \"#E5ECF6\", \"showlakes\": true, \"showland\": true, \"subunitcolor\": \"white\"}, \"hoverlabel\": {\"align\": \"left\"}, \"hovermode\": \"closest\", \"mapbox\": {\"style\": \"light\"}, \"paper_bgcolor\": \"white\", \"plot_bgcolor\": \"#E5ECF6\", \"polar\": {\"angularaxis\": {\"gridcolor\": \"white\", \"linecolor\": \"white\", \"ticks\": \"\"}, \"bgcolor\": \"#E5ECF6\", \"radialaxis\": {\"gridcolor\": \"white\", \"linecolor\": \"white\", \"ticks\": \"\"}}, \"scene\": {\"xaxis\": {\"backgroundcolor\": \"#E5ECF6\", \"gridcolor\": \"white\", \"gridwidth\": 2, \"linecolor\": \"white\", \"showbackground\": true, \"ticks\": \"\", \"zerolinecolor\": \"white\"}, \"yaxis\": {\"backgroundcolor\": \"#E5ECF6\", \"gridcolor\": \"white\", \"gridwidth\": 2, \"linecolor\": \"white\", \"showbackground\": true, \"ticks\": \"\", \"zerolinecolor\": \"white\"}, \"zaxis\": {\"backgroundcolor\": \"#E5ECF6\", \"gridcolor\": \"white\", \"gridwidth\": 2, \"linecolor\": \"white\", \"showbackground\": true, \"ticks\": \"\", \"zerolinecolor\": \"white\"}}, \"shapedefaults\": {\"line\": {\"color\": \"#2a3f5f\"}}, \"ternary\": {\"aaxis\": {\"gridcolor\": \"white\", \"linecolor\": \"white\", \"ticks\": \"\"}, \"baxis\": {\"gridcolor\": \"white\", \"linecolor\": \"white\", \"ticks\": \"\"}, \"bgcolor\": \"#E5ECF6\", \"caxis\": {\"gridcolor\": \"white\", \"linecolor\": \"white\", \"ticks\": \"\"}}, \"title\": {\"x\": 0.05}, \"xaxis\": {\"automargin\": true, \"gridcolor\": \"white\", \"linecolor\": \"white\", \"ticks\": \"\", \"title\": {\"standoff\": 15}, \"zerolinecolor\": \"white\", \"zerolinewidth\": 2}, \"yaxis\": {\"automargin\": true, \"gridcolor\": \"white\", \"linecolor\": \"white\", \"ticks\": \"\", \"title\": {\"standoff\": 15}, \"zerolinecolor\": \"white\", \"zerolinewidth\": 2}}}},\n",
       "                        {\"responsive\": true}\n",
       "                    ).then(function(){\n",
       "                            \n",
       "var gd = document.getElementById('0db660f4-c8c4-4c58-9869-130d80caa404');\n",
       "var x = new MutationObserver(function (mutations, observer) {{\n",
       "        var display = window.getComputedStyle(gd).display;\n",
       "        if (!display || display === 'none') {{\n",
       "            console.log([gd, 'removed!']);\n",
       "            Plotly.purge(gd);\n",
       "            observer.disconnect();\n",
       "        }}\n",
       "}});\n",
       "\n",
       "// Listen for the removal of the full notebook cells\n",
       "var notebookContainer = gd.closest('#notebook-container');\n",
       "if (notebookContainer) {{\n",
       "    x.observe(notebookContainer, {childList: true});\n",
       "}}\n",
       "\n",
       "// Listen for the clearing of the current output cell\n",
       "var outputEl = gd.closest('.output');\n",
       "if (outputEl) {{\n",
       "    x.observe(outputEl, {childList: true});\n",
       "}}\n",
       "\n",
       "                        })\n",
       "                };\n",
       "                });\n",
       "            </script>\n",
       "        </div>"
      ]
     },
     "metadata": {},
     "output_type": "display_data"
    },
    {
     "data": {
      "application/vnd.plotly.v1+json": {
       "config": {
        "plotlyServerURL": "https://plot.ly"
       },
       "data": [
        {
         "name": "Norm",
         "type": "scatter",
         "x": [
          0,
          0.2,
          0.4,
          0.6000000000000001,
          0.8,
          1,
          1.2000000000000002,
          1.4000000000000001,
          1.6,
          1.8,
          2,
          2.2,
          2.4000000000000004,
          2.6,
          2.8000000000000003,
          3,
          3.2,
          3.4000000000000004,
          3.6,
          3.8000000000000003,
          4,
          4.2,
          4.4,
          4.6000000000000005,
          4.800000000000001,
          5,
          5.2,
          5.4,
          5.6000000000000005,
          5.800000000000001,
          6,
          6.2,
          6.4,
          6.6000000000000005,
          6.800000000000001,
          7,
          7.2,
          7.4,
          7.6000000000000005,
          7.800000000000001,
          8,
          8.200000000000001,
          8.4,
          8.6,
          8.8,
          9,
          9.200000000000001,
          9.4,
          9.600000000000001,
          9.8,
          10,
          10.200000000000001,
          10.4,
          10.600000000000001,
          10.8,
          11,
          11.200000000000001,
          11.4,
          11.600000000000001,
          11.8,
          12,
          12.200000000000001,
          12.4,
          12.600000000000001,
          12.8,
          13,
          13.200000000000001,
          13.4,
          13.600000000000001,
          13.8,
          14,
          14.200000000000001,
          14.4,
          14.600000000000001,
          14.8,
          15,
          15.200000000000001,
          15.4,
          15.600000000000001,
          15.8,
          16,
          16.2,
          16.400000000000002,
          16.6,
          16.8,
          17,
          17.2,
          17.400000000000002,
          17.6,
          17.8,
          18,
          18.2,
          18.400000000000002,
          18.6,
          18.8,
          19,
          19.200000000000003,
          19.400000000000002,
          19.6,
          19.8,
          20,
          20.200000000000003,
          20.400000000000002,
          20.6,
          20.8,
          21,
          21.200000000000003,
          21.400000000000002,
          21.6,
          21.8,
          22,
          22.200000000000003,
          22.400000000000002,
          22.6,
          22.8,
          23,
          23.200000000000003,
          23.400000000000002,
          23.6,
          23.8,
          24,
          24.200000000000003,
          24.400000000000002,
          24.6,
          24.8,
          25,
          25.200000000000003,
          25.400000000000002,
          25.6,
          25.8,
          26,
          26.200000000000003,
          26.400000000000002,
          26.6,
          26.8,
          27,
          27.200000000000003,
          27.400000000000002,
          27.6,
          27.8,
          28,
          28.200000000000003,
          28.400000000000002,
          28.6,
          28.8,
          29,
          29.200000000000003,
          29.400000000000002,
          29.6,
          29.8,
          30
         ],
         "y": [
          -0.019007854180292508,
          -0.3885652028893836,
          -0.9650834962309999,
          -1.0938912768582445,
          -1.0712619351863675,
          -0.7438450419059567,
          -0.37749339545757643,
          -0.5188915388100461,
          -0.21255096275781846,
          -0.17006097291422034,
          0.040627621684621085,
          0.038112804862191055,
          0.06505771625583445,
          0.09204845224230811,
          0.10818863196771447,
          0.1438720852882285,
          0.14488957599802282,
          0.15651981684367466,
          0.1787316022235828,
          0.11565257410081876,
          0.07699266420397619,
          0.09148822566268926,
          0.09540478577544068,
          0.1529457313621819,
          0.18921245173721488,
          0.22661262806849336,
          0.20952336022921272,
          0.23816542501930918,
          0.2466793905188651,
          0.2391392949744665,
          0.18850127998726138,
          0.21997344818344075,
          0.22083533211287606,
          0.17771812227001388,
          0.16850226429129583,
          0.14408407492028524,
          0.13292219332345737,
          0.11680350190520175,
          0.07658983096409036,
          0.11160072309523654,
          0.14397907473883093,
          0.18868645523790353,
          0.15786970611009057,
          0.16015435863642716,
          0.20066344959903973,
          0.1823181425146393,
          0.21133219811188092,
          0.22076914539379938,
          0.19651991007965602,
          0.18196633891245007,
          0.18066114423408425,
          0.10690575479362209,
          0.07987158275023855,
          0.10192938861349549,
          0.11284984343078834,
          0.14265024167180448,
          0.1870539432385437,
          0.23168910551625416,
          0.25468487571952864,
          0.2815439344803965,
          0.32557947172362733,
          0.26467342471283056,
          0.2131363297349968,
          0.23243860756191637,
          0.19284463363893908,
          0.18291458380260084,
          0.22982911294421413,
          0.24441468556601936,
          0.22979109575165343,
          0.267654414241523,
          0.218460679776494,
          0.20566638022238645,
          0.21492620695735593,
          0.14158463894465895,
          0.13449280005920225,
          0.15730709830765816,
          0.16574704872791016,
          0.18188470147264293,
          0.18513520263092886,
          0.18765393714290088,
          0.21204779421147268,
          0.27722629115662434,
          0.2916388065980592,
          0.31337091309672405,
          0.3527251117030029,
          0.31707681311326963,
          0.29631017298724094,
          0.2366528817118579,
          0.17070309509843015,
          0.22943888299587356,
          0.21441692697806336,
          0.19163421765212021,
          0.23424525103182814,
          0.2682909194783249,
          0.31748009127585775,
          0.3086835147866184,
          0.33675330180679874,
          0.3560417622255375,
          0.31057475862699346,
          0.2981252173439115,
          0.3055775005932041,
          0.3005634362327957,
          0.2850387146306911,
          0.2543152584859062,
          0.23830441727621363,
          0.2877260170693528,
          0.3197901471177065,
          0.3771619773769779,
          0.3772985134218413,
          0.36185736907766697,
          0.340970732090651,
          0.41869802969513076,
          0.3922426674249813,
          0.35375483766677646,
          0.4367091984326416,
          0.4270852708094088,
          0.5138132032911067,
          0.5469893399768426,
          0.5487591534963632,
          0.5979584351878774,
          0.674145827841436,
          0.6506277233044218,
          0.5925707171937468,
          0.6031217550155837,
          0.6272921132390895,
          0.5672005293183726,
          0.5061814859094576,
          0.4494773697295209,
          0.3918402514165525,
          0.40396008686198803,
          0.3521410653635702,
          0.3516083975598308,
          0.38842863535015826,
          0.3640152999106337,
          0.4180429743799636,
          0.34207709152990584,
          0.3344476440784653,
          0.2499895202213575,
          0.2807149706068536,
          0.3901044649618324,
          0.43430704632354405,
          0.47262187863860994,
          0.5775517099930242,
          0.5493667625065484,
          0.5976330565448461,
          0.7185918090820939,
          0.7465630736019584,
          0.7901982742132855,
          0.7355645990193951,
          0.7956085434845233,
          0.8125627615016553
         ]
        }
       ],
       "layout": {
        "template": {
         "data": {
          "bar": [
           {
            "error_x": {
             "color": "#2a3f5f"
            },
            "error_y": {
             "color": "#2a3f5f"
            },
            "marker": {
             "line": {
              "color": "#E5ECF6",
              "width": 0.5
             }
            },
            "type": "bar"
           }
          ],
          "barpolar": [
           {
            "marker": {
             "line": {
              "color": "#E5ECF6",
              "width": 0.5
             }
            },
            "type": "barpolar"
           }
          ],
          "carpet": [
           {
            "aaxis": {
             "endlinecolor": "#2a3f5f",
             "gridcolor": "white",
             "linecolor": "white",
             "minorgridcolor": "white",
             "startlinecolor": "#2a3f5f"
            },
            "baxis": {
             "endlinecolor": "#2a3f5f",
             "gridcolor": "white",
             "linecolor": "white",
             "minorgridcolor": "white",
             "startlinecolor": "#2a3f5f"
            },
            "type": "carpet"
           }
          ],
          "choropleth": [
           {
            "colorbar": {
             "outlinewidth": 0,
             "ticks": ""
            },
            "type": "choropleth"
           }
          ],
          "contour": [
           {
            "colorbar": {
             "outlinewidth": 0,
             "ticks": ""
            },
            "colorscale": [
             [
              0,
              "#0d0887"
             ],
             [
              0.1111111111111111,
              "#46039f"
             ],
             [
              0.2222222222222222,
              "#7201a8"
             ],
             [
              0.3333333333333333,
              "#9c179e"
             ],
             [
              0.4444444444444444,
              "#bd3786"
             ],
             [
              0.5555555555555556,
              "#d8576b"
             ],
             [
              0.6666666666666666,
              "#ed7953"
             ],
             [
              0.7777777777777778,
              "#fb9f3a"
             ],
             [
              0.8888888888888888,
              "#fdca26"
             ],
             [
              1,
              "#f0f921"
             ]
            ],
            "type": "contour"
           }
          ],
          "contourcarpet": [
           {
            "colorbar": {
             "outlinewidth": 0,
             "ticks": ""
            },
            "type": "contourcarpet"
           }
          ],
          "heatmap": [
           {
            "colorbar": {
             "outlinewidth": 0,
             "ticks": ""
            },
            "colorscale": [
             [
              0,
              "#0d0887"
             ],
             [
              0.1111111111111111,
              "#46039f"
             ],
             [
              0.2222222222222222,
              "#7201a8"
             ],
             [
              0.3333333333333333,
              "#9c179e"
             ],
             [
              0.4444444444444444,
              "#bd3786"
             ],
             [
              0.5555555555555556,
              "#d8576b"
             ],
             [
              0.6666666666666666,
              "#ed7953"
             ],
             [
              0.7777777777777778,
              "#fb9f3a"
             ],
             [
              0.8888888888888888,
              "#fdca26"
             ],
             [
              1,
              "#f0f921"
             ]
            ],
            "type": "heatmap"
           }
          ],
          "heatmapgl": [
           {
            "colorbar": {
             "outlinewidth": 0,
             "ticks": ""
            },
            "colorscale": [
             [
              0,
              "#0d0887"
             ],
             [
              0.1111111111111111,
              "#46039f"
             ],
             [
              0.2222222222222222,
              "#7201a8"
             ],
             [
              0.3333333333333333,
              "#9c179e"
             ],
             [
              0.4444444444444444,
              "#bd3786"
             ],
             [
              0.5555555555555556,
              "#d8576b"
             ],
             [
              0.6666666666666666,
              "#ed7953"
             ],
             [
              0.7777777777777778,
              "#fb9f3a"
             ],
             [
              0.8888888888888888,
              "#fdca26"
             ],
             [
              1,
              "#f0f921"
             ]
            ],
            "type": "heatmapgl"
           }
          ],
          "histogram": [
           {
            "marker": {
             "colorbar": {
              "outlinewidth": 0,
              "ticks": ""
             }
            },
            "type": "histogram"
           }
          ],
          "histogram2d": [
           {
            "colorbar": {
             "outlinewidth": 0,
             "ticks": ""
            },
            "colorscale": [
             [
              0,
              "#0d0887"
             ],
             [
              0.1111111111111111,
              "#46039f"
             ],
             [
              0.2222222222222222,
              "#7201a8"
             ],
             [
              0.3333333333333333,
              "#9c179e"
             ],
             [
              0.4444444444444444,
              "#bd3786"
             ],
             [
              0.5555555555555556,
              "#d8576b"
             ],
             [
              0.6666666666666666,
              "#ed7953"
             ],
             [
              0.7777777777777778,
              "#fb9f3a"
             ],
             [
              0.8888888888888888,
              "#fdca26"
             ],
             [
              1,
              "#f0f921"
             ]
            ],
            "type": "histogram2d"
           }
          ],
          "histogram2dcontour": [
           {
            "colorbar": {
             "outlinewidth": 0,
             "ticks": ""
            },
            "colorscale": [
             [
              0,
              "#0d0887"
             ],
             [
              0.1111111111111111,
              "#46039f"
             ],
             [
              0.2222222222222222,
              "#7201a8"
             ],
             [
              0.3333333333333333,
              "#9c179e"
             ],
             [
              0.4444444444444444,
              "#bd3786"
             ],
             [
              0.5555555555555556,
              "#d8576b"
             ],
             [
              0.6666666666666666,
              "#ed7953"
             ],
             [
              0.7777777777777778,
              "#fb9f3a"
             ],
             [
              0.8888888888888888,
              "#fdca26"
             ],
             [
              1,
              "#f0f921"
             ]
            ],
            "type": "histogram2dcontour"
           }
          ],
          "mesh3d": [
           {
            "colorbar": {
             "outlinewidth": 0,
             "ticks": ""
            },
            "type": "mesh3d"
           }
          ],
          "parcoords": [
           {
            "line": {
             "colorbar": {
              "outlinewidth": 0,
              "ticks": ""
             }
            },
            "type": "parcoords"
           }
          ],
          "pie": [
           {
            "automargin": true,
            "type": "pie"
           }
          ],
          "scatter": [
           {
            "marker": {
             "colorbar": {
              "outlinewidth": 0,
              "ticks": ""
             }
            },
            "type": "scatter"
           }
          ],
          "scatter3d": [
           {
            "line": {
             "colorbar": {
              "outlinewidth": 0,
              "ticks": ""
             }
            },
            "marker": {
             "colorbar": {
              "outlinewidth": 0,
              "ticks": ""
             }
            },
            "type": "scatter3d"
           }
          ],
          "scattercarpet": [
           {
            "marker": {
             "colorbar": {
              "outlinewidth": 0,
              "ticks": ""
             }
            },
            "type": "scattercarpet"
           }
          ],
          "scattergeo": [
           {
            "marker": {
             "colorbar": {
              "outlinewidth": 0,
              "ticks": ""
             }
            },
            "type": "scattergeo"
           }
          ],
          "scattergl": [
           {
            "marker": {
             "colorbar": {
              "outlinewidth": 0,
              "ticks": ""
             }
            },
            "type": "scattergl"
           }
          ],
          "scattermapbox": [
           {
            "marker": {
             "colorbar": {
              "outlinewidth": 0,
              "ticks": ""
             }
            },
            "type": "scattermapbox"
           }
          ],
          "scatterpolar": [
           {
            "marker": {
             "colorbar": {
              "outlinewidth": 0,
              "ticks": ""
             }
            },
            "type": "scatterpolar"
           }
          ],
          "scatterpolargl": [
           {
            "marker": {
             "colorbar": {
              "outlinewidth": 0,
              "ticks": ""
             }
            },
            "type": "scatterpolargl"
           }
          ],
          "scatterternary": [
           {
            "marker": {
             "colorbar": {
              "outlinewidth": 0,
              "ticks": ""
             }
            },
            "type": "scatterternary"
           }
          ],
          "surface": [
           {
            "colorbar": {
             "outlinewidth": 0,
             "ticks": ""
            },
            "colorscale": [
             [
              0,
              "#0d0887"
             ],
             [
              0.1111111111111111,
              "#46039f"
             ],
             [
              0.2222222222222222,
              "#7201a8"
             ],
             [
              0.3333333333333333,
              "#9c179e"
             ],
             [
              0.4444444444444444,
              "#bd3786"
             ],
             [
              0.5555555555555556,
              "#d8576b"
             ],
             [
              0.6666666666666666,
              "#ed7953"
             ],
             [
              0.7777777777777778,
              "#fb9f3a"
             ],
             [
              0.8888888888888888,
              "#fdca26"
             ],
             [
              1,
              "#f0f921"
             ]
            ],
            "type": "surface"
           }
          ],
          "table": [
           {
            "cells": {
             "fill": {
              "color": "#EBF0F8"
             },
             "line": {
              "color": "white"
             }
            },
            "header": {
             "fill": {
              "color": "#C8D4E3"
             },
             "line": {
              "color": "white"
             }
            },
            "type": "table"
           }
          ]
         },
         "layout": {
          "annotationdefaults": {
           "arrowcolor": "#2a3f5f",
           "arrowhead": 0,
           "arrowwidth": 1
          },
          "coloraxis": {
           "colorbar": {
            "outlinewidth": 0,
            "ticks": ""
           }
          },
          "colorscale": {
           "diverging": [
            [
             0,
             "#8e0152"
            ],
            [
             0.1,
             "#c51b7d"
            ],
            [
             0.2,
             "#de77ae"
            ],
            [
             0.3,
             "#f1b6da"
            ],
            [
             0.4,
             "#fde0ef"
            ],
            [
             0.5,
             "#f7f7f7"
            ],
            [
             0.6,
             "#e6f5d0"
            ],
            [
             0.7,
             "#b8e186"
            ],
            [
             0.8,
             "#7fbc41"
            ],
            [
             0.9,
             "#4d9221"
            ],
            [
             1,
             "#276419"
            ]
           ],
           "sequential": [
            [
             0,
             "#0d0887"
            ],
            [
             0.1111111111111111,
             "#46039f"
            ],
            [
             0.2222222222222222,
             "#7201a8"
            ],
            [
             0.3333333333333333,
             "#9c179e"
            ],
            [
             0.4444444444444444,
             "#bd3786"
            ],
            [
             0.5555555555555556,
             "#d8576b"
            ],
            [
             0.6666666666666666,
             "#ed7953"
            ],
            [
             0.7777777777777778,
             "#fb9f3a"
            ],
            [
             0.8888888888888888,
             "#fdca26"
            ],
            [
             1,
             "#f0f921"
            ]
           ],
           "sequentialminus": [
            [
             0,
             "#0d0887"
            ],
            [
             0.1111111111111111,
             "#46039f"
            ],
            [
             0.2222222222222222,
             "#7201a8"
            ],
            [
             0.3333333333333333,
             "#9c179e"
            ],
            [
             0.4444444444444444,
             "#bd3786"
            ],
            [
             0.5555555555555556,
             "#d8576b"
            ],
            [
             0.6666666666666666,
             "#ed7953"
            ],
            [
             0.7777777777777778,
             "#fb9f3a"
            ],
            [
             0.8888888888888888,
             "#fdca26"
            ],
            [
             1,
             "#f0f921"
            ]
           ]
          },
          "colorway": [
           "#636efa",
           "#EF553B",
           "#00cc96",
           "#ab63fa",
           "#FFA15A",
           "#19d3f3",
           "#FF6692",
           "#B6E880",
           "#FF97FF",
           "#FECB52"
          ],
          "font": {
           "color": "#2a3f5f"
          },
          "geo": {
           "bgcolor": "white",
           "lakecolor": "white",
           "landcolor": "#E5ECF6",
           "showlakes": true,
           "showland": true,
           "subunitcolor": "white"
          },
          "hoverlabel": {
           "align": "left"
          },
          "hovermode": "closest",
          "mapbox": {
           "style": "light"
          },
          "paper_bgcolor": "white",
          "plot_bgcolor": "#E5ECF6",
          "polar": {
           "angularaxis": {
            "gridcolor": "white",
            "linecolor": "white",
            "ticks": ""
           },
           "bgcolor": "#E5ECF6",
           "radialaxis": {
            "gridcolor": "white",
            "linecolor": "white",
            "ticks": ""
           }
          },
          "scene": {
           "xaxis": {
            "backgroundcolor": "#E5ECF6",
            "gridcolor": "white",
            "gridwidth": 2,
            "linecolor": "white",
            "showbackground": true,
            "ticks": "",
            "zerolinecolor": "white"
           },
           "yaxis": {
            "backgroundcolor": "#E5ECF6",
            "gridcolor": "white",
            "gridwidth": 2,
            "linecolor": "white",
            "showbackground": true,
            "ticks": "",
            "zerolinecolor": "white"
           },
           "zaxis": {
            "backgroundcolor": "#E5ECF6",
            "gridcolor": "white",
            "gridwidth": 2,
            "linecolor": "white",
            "showbackground": true,
            "ticks": "",
            "zerolinecolor": "white"
           }
          },
          "shapedefaults": {
           "line": {
            "color": "#2a3f5f"
           }
          },
          "ternary": {
           "aaxis": {
            "gridcolor": "white",
            "linecolor": "white",
            "ticks": ""
           },
           "baxis": {
            "gridcolor": "white",
            "linecolor": "white",
            "ticks": ""
           },
           "bgcolor": "#E5ECF6",
           "caxis": {
            "gridcolor": "white",
            "linecolor": "white",
            "ticks": ""
           }
          },
          "title": {
           "x": 0.05
          },
          "xaxis": {
           "automargin": true,
           "gridcolor": "white",
           "linecolor": "white",
           "ticks": "",
           "title": {
            "standoff": 15
           },
           "zerolinecolor": "white",
           "zerolinewidth": 2
          },
          "yaxis": {
           "automargin": true,
           "gridcolor": "white",
           "linecolor": "white",
           "ticks": "",
           "title": {
            "standoff": 15
           },
           "zerolinecolor": "white",
           "zerolinewidth": 2
          }
         }
        }
       }
      },
      "text/html": [
       "<div>\n",
       "        \n",
       "        \n",
       "            <div id=\"9b14616b-2275-43ac-93f0-2dbe28742bab\" class=\"plotly-graph-div\" style=\"height:525px; width:100%;\"></div>\n",
       "            <script type=\"text/javascript\">\n",
       "                require([\"plotly\"], function(Plotly) {\n",
       "                    window.PLOTLYENV=window.PLOTLYENV || {};\n",
       "                    \n",
       "                if (document.getElementById(\"9b14616b-2275-43ac-93f0-2dbe28742bab\")) {\n",
       "                    Plotly.newPlot(\n",
       "                        '9b14616b-2275-43ac-93f0-2dbe28742bab',\n",
       "                        [{\"name\": \"Norm\", \"type\": \"scatter\", \"x\": [0.0, 0.2, 0.4, 0.6000000000000001, 0.8, 1.0, 1.2000000000000002, 1.4000000000000001, 1.6, 1.8, 2.0, 2.2, 2.4000000000000004, 2.6, 2.8000000000000003, 3.0, 3.2, 3.4000000000000004, 3.6, 3.8000000000000003, 4.0, 4.2, 4.4, 4.6000000000000005, 4.800000000000001, 5.0, 5.2, 5.4, 5.6000000000000005, 5.800000000000001, 6.0, 6.2, 6.4, 6.6000000000000005, 6.800000000000001, 7.0, 7.2, 7.4, 7.6000000000000005, 7.800000000000001, 8.0, 8.200000000000001, 8.4, 8.6, 8.8, 9.0, 9.200000000000001, 9.4, 9.600000000000001, 9.8, 10.0, 10.200000000000001, 10.4, 10.600000000000001, 10.8, 11.0, 11.200000000000001, 11.4, 11.600000000000001, 11.8, 12.0, 12.200000000000001, 12.4, 12.600000000000001, 12.8, 13.0, 13.200000000000001, 13.4, 13.600000000000001, 13.8, 14.0, 14.200000000000001, 14.4, 14.600000000000001, 14.8, 15.0, 15.200000000000001, 15.4, 15.600000000000001, 15.8, 16.0, 16.2, 16.400000000000002, 16.6, 16.8, 17.0, 17.2, 17.400000000000002, 17.6, 17.8, 18.0, 18.2, 18.400000000000002, 18.6, 18.8, 19.0, 19.200000000000003, 19.400000000000002, 19.6, 19.8, 20.0, 20.200000000000003, 20.400000000000002, 20.6, 20.8, 21.0, 21.200000000000003, 21.400000000000002, 21.6, 21.8, 22.0, 22.200000000000003, 22.400000000000002, 22.6, 22.8, 23.0, 23.200000000000003, 23.400000000000002, 23.6, 23.8, 24.0, 24.200000000000003, 24.400000000000002, 24.6, 24.8, 25.0, 25.200000000000003, 25.400000000000002, 25.6, 25.8, 26.0, 26.200000000000003, 26.400000000000002, 26.6, 26.8, 27.0, 27.200000000000003, 27.400000000000002, 27.6, 27.8, 28.0, 28.200000000000003, 28.400000000000002, 28.6, 28.8, 29.0, 29.200000000000003, 29.400000000000002, 29.6, 29.8, 30.0], \"y\": [-0.019007854180292508, -0.3885652028893836, -0.9650834962309999, -1.0938912768582445, -1.0712619351863675, -0.7438450419059567, -0.37749339545757643, -0.5188915388100461, -0.21255096275781846, -0.17006097291422034, 0.040627621684621085, 0.038112804862191055, 0.06505771625583445, 0.09204845224230811, 0.10818863196771447, 0.1438720852882285, 0.14488957599802282, 0.15651981684367466, 0.1787316022235828, 0.11565257410081876, 0.07699266420397619, 0.09148822566268926, 0.09540478577544068, 0.1529457313621819, 0.18921245173721488, 0.22661262806849336, 0.20952336022921272, 0.23816542501930918, 0.2466793905188651, 0.2391392949744665, 0.18850127998726138, 0.21997344818344075, 0.22083533211287606, 0.17771812227001388, 0.16850226429129583, 0.14408407492028524, 0.13292219332345737, 0.11680350190520175, 0.07658983096409036, 0.11160072309523654, 0.14397907473883093, 0.18868645523790353, 0.15786970611009057, 0.16015435863642716, 0.20066344959903973, 0.1823181425146393, 0.21133219811188092, 0.22076914539379938, 0.19651991007965602, 0.18196633891245007, 0.18066114423408425, 0.10690575479362209, 0.07987158275023855, 0.10192938861349549, 0.11284984343078834, 0.14265024167180448, 0.1870539432385437, 0.23168910551625416, 0.25468487571952864, 0.2815439344803965, 0.32557947172362733, 0.26467342471283056, 0.2131363297349968, 0.23243860756191637, 0.19284463363893908, 0.18291458380260084, 0.22982911294421413, 0.24441468556601936, 0.22979109575165343, 0.267654414241523, 0.218460679776494, 0.20566638022238645, 0.21492620695735593, 0.14158463894465895, 0.13449280005920225, 0.15730709830765816, 0.16574704872791016, 0.18188470147264293, 0.18513520263092886, 0.18765393714290088, 0.21204779421147268, 0.27722629115662434, 0.2916388065980592, 0.31337091309672405, 0.3527251117030029, 0.31707681311326963, 0.29631017298724094, 0.2366528817118579, 0.17070309509843015, 0.22943888299587356, 0.21441692697806336, 0.19163421765212021, 0.23424525103182814, 0.2682909194783249, 0.31748009127585775, 0.3086835147866184, 0.33675330180679874, 0.3560417622255375, 0.31057475862699346, 0.2981252173439115, 0.3055775005932041, 0.3005634362327957, 0.2850387146306911, 0.2543152584859062, 0.23830441727621363, 0.2877260170693528, 0.3197901471177065, 0.3771619773769779, 0.3772985134218413, 0.36185736907766697, 0.340970732090651, 0.41869802969513076, 0.3922426674249813, 0.35375483766677646, 0.4367091984326416, 0.4270852708094088, 0.5138132032911067, 0.5469893399768426, 0.5487591534963632, 0.5979584351878774, 0.674145827841436, 0.6506277233044218, 0.5925707171937468, 0.6031217550155837, 0.6272921132390895, 0.5672005293183726, 0.5061814859094576, 0.4494773697295209, 0.3918402514165525, 0.40396008686198803, 0.3521410653635702, 0.3516083975598308, 0.38842863535015826, 0.3640152999106337, 0.4180429743799636, 0.34207709152990584, 0.3344476440784653, 0.2499895202213575, 0.2807149706068536, 0.3901044649618324, 0.43430704632354405, 0.47262187863860994, 0.5775517099930242, 0.5493667625065484, 0.5976330565448461, 0.7185918090820939, 0.7465630736019584, 0.7901982742132855, 0.7355645990193951, 0.7956085434845233, 0.8125627615016553]}],\n",
       "                        {\"template\": {\"data\": {\"bar\": [{\"error_x\": {\"color\": \"#2a3f5f\"}, \"error_y\": {\"color\": \"#2a3f5f\"}, \"marker\": {\"line\": {\"color\": \"#E5ECF6\", \"width\": 0.5}}, \"type\": \"bar\"}], \"barpolar\": [{\"marker\": {\"line\": {\"color\": \"#E5ECF6\", \"width\": 0.5}}, \"type\": \"barpolar\"}], \"carpet\": [{\"aaxis\": {\"endlinecolor\": \"#2a3f5f\", \"gridcolor\": \"white\", \"linecolor\": \"white\", \"minorgridcolor\": \"white\", \"startlinecolor\": \"#2a3f5f\"}, \"baxis\": {\"endlinecolor\": \"#2a3f5f\", \"gridcolor\": \"white\", \"linecolor\": \"white\", \"minorgridcolor\": \"white\", \"startlinecolor\": \"#2a3f5f\"}, \"type\": \"carpet\"}], \"choropleth\": [{\"colorbar\": {\"outlinewidth\": 0, \"ticks\": \"\"}, \"type\": \"choropleth\"}], \"contour\": [{\"colorbar\": {\"outlinewidth\": 0, \"ticks\": \"\"}, \"colorscale\": [[0.0, \"#0d0887\"], [0.1111111111111111, \"#46039f\"], [0.2222222222222222, \"#7201a8\"], [0.3333333333333333, \"#9c179e\"], [0.4444444444444444, \"#bd3786\"], [0.5555555555555556, \"#d8576b\"], [0.6666666666666666, \"#ed7953\"], [0.7777777777777778, \"#fb9f3a\"], [0.8888888888888888, \"#fdca26\"], [1.0, \"#f0f921\"]], \"type\": \"contour\"}], \"contourcarpet\": [{\"colorbar\": {\"outlinewidth\": 0, \"ticks\": \"\"}, \"type\": \"contourcarpet\"}], \"heatmap\": [{\"colorbar\": {\"outlinewidth\": 0, \"ticks\": \"\"}, \"colorscale\": [[0.0, \"#0d0887\"], [0.1111111111111111, \"#46039f\"], [0.2222222222222222, \"#7201a8\"], [0.3333333333333333, \"#9c179e\"], [0.4444444444444444, \"#bd3786\"], [0.5555555555555556, \"#d8576b\"], [0.6666666666666666, \"#ed7953\"], [0.7777777777777778, \"#fb9f3a\"], [0.8888888888888888, \"#fdca26\"], [1.0, \"#f0f921\"]], \"type\": \"heatmap\"}], \"heatmapgl\": [{\"colorbar\": {\"outlinewidth\": 0, \"ticks\": \"\"}, \"colorscale\": [[0.0, \"#0d0887\"], [0.1111111111111111, \"#46039f\"], [0.2222222222222222, \"#7201a8\"], [0.3333333333333333, \"#9c179e\"], [0.4444444444444444, \"#bd3786\"], [0.5555555555555556, \"#d8576b\"], [0.6666666666666666, \"#ed7953\"], [0.7777777777777778, \"#fb9f3a\"], [0.8888888888888888, \"#fdca26\"], [1.0, \"#f0f921\"]], \"type\": \"heatmapgl\"}], \"histogram\": [{\"marker\": {\"colorbar\": {\"outlinewidth\": 0, \"ticks\": \"\"}}, \"type\": \"histogram\"}], \"histogram2d\": [{\"colorbar\": {\"outlinewidth\": 0, \"ticks\": \"\"}, \"colorscale\": [[0.0, \"#0d0887\"], [0.1111111111111111, \"#46039f\"], [0.2222222222222222, \"#7201a8\"], [0.3333333333333333, \"#9c179e\"], [0.4444444444444444, \"#bd3786\"], [0.5555555555555556, \"#d8576b\"], [0.6666666666666666, \"#ed7953\"], [0.7777777777777778, \"#fb9f3a\"], [0.8888888888888888, \"#fdca26\"], [1.0, \"#f0f921\"]], \"type\": \"histogram2d\"}], \"histogram2dcontour\": [{\"colorbar\": {\"outlinewidth\": 0, \"ticks\": \"\"}, \"colorscale\": [[0.0, \"#0d0887\"], [0.1111111111111111, \"#46039f\"], [0.2222222222222222, \"#7201a8\"], [0.3333333333333333, \"#9c179e\"], [0.4444444444444444, \"#bd3786\"], [0.5555555555555556, \"#d8576b\"], [0.6666666666666666, \"#ed7953\"], [0.7777777777777778, \"#fb9f3a\"], [0.8888888888888888, \"#fdca26\"], [1.0, \"#f0f921\"]], \"type\": \"histogram2dcontour\"}], \"mesh3d\": [{\"colorbar\": {\"outlinewidth\": 0, \"ticks\": \"\"}, \"type\": \"mesh3d\"}], \"parcoords\": [{\"line\": {\"colorbar\": {\"outlinewidth\": 0, \"ticks\": \"\"}}, \"type\": \"parcoords\"}], \"pie\": [{\"automargin\": true, \"type\": \"pie\"}], \"scatter\": [{\"marker\": {\"colorbar\": {\"outlinewidth\": 0, \"ticks\": \"\"}}, \"type\": \"scatter\"}], \"scatter3d\": [{\"line\": {\"colorbar\": {\"outlinewidth\": 0, \"ticks\": \"\"}}, \"marker\": {\"colorbar\": {\"outlinewidth\": 0, \"ticks\": \"\"}}, \"type\": \"scatter3d\"}], \"scattercarpet\": [{\"marker\": {\"colorbar\": {\"outlinewidth\": 0, \"ticks\": \"\"}}, \"type\": \"scattercarpet\"}], \"scattergeo\": [{\"marker\": {\"colorbar\": {\"outlinewidth\": 0, \"ticks\": \"\"}}, \"type\": \"scattergeo\"}], \"scattergl\": [{\"marker\": {\"colorbar\": {\"outlinewidth\": 0, \"ticks\": \"\"}}, \"type\": \"scattergl\"}], \"scattermapbox\": [{\"marker\": {\"colorbar\": {\"outlinewidth\": 0, \"ticks\": \"\"}}, \"type\": \"scattermapbox\"}], \"scatterpolar\": [{\"marker\": {\"colorbar\": {\"outlinewidth\": 0, \"ticks\": \"\"}}, \"type\": \"scatterpolar\"}], \"scatterpolargl\": [{\"marker\": {\"colorbar\": {\"outlinewidth\": 0, \"ticks\": \"\"}}, \"type\": \"scatterpolargl\"}], \"scatterternary\": [{\"marker\": {\"colorbar\": {\"outlinewidth\": 0, \"ticks\": \"\"}}, \"type\": \"scatterternary\"}], \"surface\": [{\"colorbar\": {\"outlinewidth\": 0, \"ticks\": \"\"}, \"colorscale\": [[0.0, \"#0d0887\"], [0.1111111111111111, \"#46039f\"], [0.2222222222222222, \"#7201a8\"], [0.3333333333333333, \"#9c179e\"], [0.4444444444444444, \"#bd3786\"], [0.5555555555555556, \"#d8576b\"], [0.6666666666666666, \"#ed7953\"], [0.7777777777777778, \"#fb9f3a\"], [0.8888888888888888, \"#fdca26\"], [1.0, \"#f0f921\"]], \"type\": \"surface\"}], \"table\": [{\"cells\": {\"fill\": {\"color\": \"#EBF0F8\"}, \"line\": {\"color\": \"white\"}}, \"header\": {\"fill\": {\"color\": \"#C8D4E3\"}, \"line\": {\"color\": \"white\"}}, \"type\": \"table\"}]}, \"layout\": {\"annotationdefaults\": {\"arrowcolor\": \"#2a3f5f\", \"arrowhead\": 0, \"arrowwidth\": 1}, \"coloraxis\": {\"colorbar\": {\"outlinewidth\": 0, \"ticks\": \"\"}}, \"colorscale\": {\"diverging\": [[0, \"#8e0152\"], [0.1, \"#c51b7d\"], [0.2, \"#de77ae\"], [0.3, \"#f1b6da\"], [0.4, \"#fde0ef\"], [0.5, \"#f7f7f7\"], [0.6, \"#e6f5d0\"], [0.7, \"#b8e186\"], [0.8, \"#7fbc41\"], [0.9, \"#4d9221\"], [1, \"#276419\"]], \"sequential\": [[0.0, \"#0d0887\"], [0.1111111111111111, \"#46039f\"], [0.2222222222222222, \"#7201a8\"], [0.3333333333333333, \"#9c179e\"], [0.4444444444444444, \"#bd3786\"], [0.5555555555555556, \"#d8576b\"], [0.6666666666666666, \"#ed7953\"], [0.7777777777777778, \"#fb9f3a\"], [0.8888888888888888, \"#fdca26\"], [1.0, \"#f0f921\"]], \"sequentialminus\": [[0.0, \"#0d0887\"], [0.1111111111111111, \"#46039f\"], [0.2222222222222222, \"#7201a8\"], [0.3333333333333333, \"#9c179e\"], [0.4444444444444444, \"#bd3786\"], [0.5555555555555556, \"#d8576b\"], [0.6666666666666666, \"#ed7953\"], [0.7777777777777778, \"#fb9f3a\"], [0.8888888888888888, \"#fdca26\"], [1.0, \"#f0f921\"]]}, \"colorway\": [\"#636efa\", \"#EF553B\", \"#00cc96\", \"#ab63fa\", \"#FFA15A\", \"#19d3f3\", \"#FF6692\", \"#B6E880\", \"#FF97FF\", \"#FECB52\"], \"font\": {\"color\": \"#2a3f5f\"}, \"geo\": {\"bgcolor\": \"white\", \"lakecolor\": \"white\", \"landcolor\": \"#E5ECF6\", \"showlakes\": true, \"showland\": true, \"subunitcolor\": \"white\"}, \"hoverlabel\": {\"align\": \"left\"}, \"hovermode\": \"closest\", \"mapbox\": {\"style\": \"light\"}, \"paper_bgcolor\": \"white\", \"plot_bgcolor\": \"#E5ECF6\", \"polar\": {\"angularaxis\": {\"gridcolor\": \"white\", \"linecolor\": \"white\", \"ticks\": \"\"}, \"bgcolor\": \"#E5ECF6\", \"radialaxis\": {\"gridcolor\": \"white\", \"linecolor\": \"white\", \"ticks\": \"\"}}, \"scene\": {\"xaxis\": {\"backgroundcolor\": \"#E5ECF6\", \"gridcolor\": \"white\", \"gridwidth\": 2, \"linecolor\": \"white\", \"showbackground\": true, \"ticks\": \"\", \"zerolinecolor\": \"white\"}, \"yaxis\": {\"backgroundcolor\": \"#E5ECF6\", \"gridcolor\": \"white\", \"gridwidth\": 2, \"linecolor\": \"white\", \"showbackground\": true, \"ticks\": \"\", \"zerolinecolor\": \"white\"}, \"zaxis\": {\"backgroundcolor\": \"#E5ECF6\", \"gridcolor\": \"white\", \"gridwidth\": 2, \"linecolor\": \"white\", \"showbackground\": true, \"ticks\": \"\", \"zerolinecolor\": \"white\"}}, \"shapedefaults\": {\"line\": {\"color\": \"#2a3f5f\"}}, \"ternary\": {\"aaxis\": {\"gridcolor\": \"white\", \"linecolor\": \"white\", \"ticks\": \"\"}, \"baxis\": {\"gridcolor\": \"white\", \"linecolor\": \"white\", \"ticks\": \"\"}, \"bgcolor\": \"#E5ECF6\", \"caxis\": {\"gridcolor\": \"white\", \"linecolor\": \"white\", \"ticks\": \"\"}}, \"title\": {\"x\": 0.05}, \"xaxis\": {\"automargin\": true, \"gridcolor\": \"white\", \"linecolor\": \"white\", \"ticks\": \"\", \"title\": {\"standoff\": 15}, \"zerolinecolor\": \"white\", \"zerolinewidth\": 2}, \"yaxis\": {\"automargin\": true, \"gridcolor\": \"white\", \"linecolor\": \"white\", \"ticks\": \"\", \"title\": {\"standoff\": 15}, \"zerolinecolor\": \"white\", \"zerolinewidth\": 2}}}},\n",
       "                        {\"responsive\": true}\n",
       "                    ).then(function(){\n",
       "                            \n",
       "var gd = document.getElementById('9b14616b-2275-43ac-93f0-2dbe28742bab');\n",
       "var x = new MutationObserver(function (mutations, observer) {{\n",
       "        var display = window.getComputedStyle(gd).display;\n",
       "        if (!display || display === 'none') {{\n",
       "            console.log([gd, 'removed!']);\n",
       "            Plotly.purge(gd);\n",
       "            observer.disconnect();\n",
       "        }}\n",
       "}});\n",
       "\n",
       "// Listen for the removal of the full notebook cells\n",
       "var notebookContainer = gd.closest('#notebook-container');\n",
       "if (notebookContainer) {{\n",
       "    x.observe(notebookContainer, {childList: true});\n",
       "}}\n",
       "\n",
       "// Listen for the clearing of the current output cell\n",
       "var outputEl = gd.closest('.output');\n",
       "if (outputEl) {{\n",
       "    x.observe(outputEl, {childList: true});\n",
       "}}\n",
       "\n",
       "                        })\n",
       "                };\n",
       "                });\n",
       "            </script>\n",
       "        </div>"
      ]
     },
     "metadata": {},
     "output_type": "display_data"
    }
   ],
   "source": [
    "onorm = [np.linalg.norm(omat[i,:,:]) for i in range(kf_steps)]\n",
    "\n",
    "figo = go.Figure()\n",
    "figo.add_trace(go.Scatter(x=t_kf, y=onorm, name=\"Norm\"))\n",
    "figo.show()\n",
    "\n",
    "oa = [omat[i,0,0] for i in range(kf_steps)]\n",
    "figoa = go.Figure()\n",
    "figoa.add_trace(go.Scatter(x=t_kf, y=oa, name=\"Norm\"))\n",
    "figoa.show()"
   ]
  },
  {
   "cell_type": "code",
   "execution_count": null,
   "metadata": {},
   "outputs": [],
   "source": []
  }
 ],
 "metadata": {
  "kernelspec": {
   "display_name": "Python 3",
   "language": "python",
   "name": "python3"
  },
  "language_info": {
   "codemirror_mode": {
    "name": "ipython",
    "version": 3
   },
   "file_extension": ".py",
   "mimetype": "text/x-python",
   "name": "python",
   "nbconvert_exporter": "python",
   "pygments_lexer": "ipython3",
   "version": "3.6.9"
  }
 },
 "nbformat": 4,
 "nbformat_minor": 4
}
