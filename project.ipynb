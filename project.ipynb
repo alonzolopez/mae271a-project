{
 "cells": [
  {
   "cell_type": "code",
   "execution_count": 1,
   "metadata": {},
   "outputs": [
    {
     "data": {
      "text/html": [
       "        <script type=\"text/javascript\">\n",
       "        window.PlotlyConfig = {MathJaxConfig: 'local'};\n",
       "        if (window.MathJax) {MathJax.Hub.Config({SVG: {font: \"STIX-Web\"}});}\n",
       "        if (typeof require !== 'undefined') {\n",
       "        require.undef(\"plotly\");\n",
       "        requirejs.config({\n",
       "            paths: {\n",
       "                'plotly': ['https://cdn.plot.ly/plotly-latest.min']\n",
       "            }\n",
       "        });\n",
       "        require(['plotly'], function(Plotly) {\n",
       "            window._Plotly = Plotly;\n",
       "        });\n",
       "        }\n",
       "        </script>\n",
       "        "
      ]
     },
     "metadata": {},
     "output_type": "display_data"
    }
   ],
   "source": [
    "import numpy as np\n",
    "import plotly.graph_objects as go\n",
    "import plotly.io as pio\n",
    "pio.renderers.default='notebook'\n",
    "from plotly.offline import download_plotlyjs, init_notebook_mode, plot, iplot\n",
    "init_notebook_mode(connected=True)\n",
    "import plotly.figure_factory as ff"
   ]
  },
  {
   "cell_type": "code",
   "execution_count": 2,
   "metadata": {},
   "outputs": [],
   "source": [
    "freq = 200 # Hz, the accelerometer frequency\n",
    "dt = 1.0/freq\n",
    "dt_kf = dt*40\n",
    "t_acc = np.linspace(0.0, 30.0, freq*30+1) # time vector with dt = 0.02 sec\n",
    "omega = 0.1 #rad/sec\n",
    "a = 10\n",
    "a_truth = [a * np.sin(omega*t_acc[i]) for i in range(t_acc.shape[0])] # uncorrupted true acceleration values\n"
   ]
  },
  {
   "cell_type": "code",
   "execution_count": 3,
   "metadata": {},
   "outputs": [],
   "source": [
    "# The process noise variance of the accelerometer with additive white Gaussian noise and zero mean:\n",
    "w_var = 0.0004 #(meters/sec^2)^2\n",
    "w_std = np.sqrt(w_var)\n",
    "w_mean = 0\n",
    "W = w_var # initial process noise covariance \n",
    "\n",
    "# The bias mean and std to draw from\n",
    "bbar_a = 0\n",
    "b_var = 0.01 # (meters/sec^2)^2\n",
    "b_std = np.sqrt(b_var)\n",
    "\n",
    "# The mean, std, and variance of the initial position to draw from\n",
    "Mp_0 = 10**2 # meters^2\n",
    "p_std = np.sqrt(Mp_0) # meters, the standard deviation\n",
    "pbar_0 = 0\n",
    "\n",
    "# The mean, std, and variance of the initial velocity to draw from\n",
    "Mv_0 = 1 # (meters/sec)^2\n",
    "v_std = np.sqrt(Mv_0) # meters/sec\n",
    "vbar_0 = 100 # m/s\n",
    "\n",
    "# measurement noise mean and variance\n",
    "etabar = np.zeros((2,1))\n",
    "etastd = np.array([[1, 0],[0, 0.04]]) # in units of meter^2 and (meters/sec)^2\n",
    "etavar = np.dot(etastd, etastd)\n",
    "\n",
    "H = np.array([\n",
    "    [1, 0, 0],\n",
    "    [0, 1, 0]\n",
    "])\n",
    "\n",
    "# initial covariance matrix\n",
    "P0 = np.array([\n",
    "    [Mp_0, 0, 0],\n",
    "    [0, Mv_0, 0],\n",
    "    [0, 0, b_var]\n",
    "])\n",
    "\n",
    "# state transition matrix\n",
    "Phi = np.array([\n",
    "    [1, dt_kf, -dt_kf**2/2],\n",
    "    [0, 1, -dt_kf],\n",
    "    [0, 0, 1]\n",
    "])\n",
    "\n",
    "Gamma = np.array([\n",
    "    [-dt_kf**2/2],\n",
    "    [-dt_kf],\n",
    "    [0]\n",
    "])\n",
    "\n",
    "# initial position, velocity, bias guesses\n",
    "vc_0 = vbar_0\n",
    "pc_0 = pbar_0\n",
    "ba_0 = 0\n",
    "\n",
    "\n",
    "\n"
   ]
  },
  {
   "cell_type": "markdown",
   "metadata": {},
   "source": [
    "# The Kalman Filter Algorithm"
   ]
  },
  {
   "cell_type": "code",
   "execution_count": 25,
   "metadata": {
    "scrolled": true
   },
   "outputs": [
    {
     "name": "stdout",
     "output_type": "stream",
     "text": [
      "Converged in  28790  iterations\n",
      "K\n",
      "[[ 7.94491235e-03  1.93210961e-01]\n",
      " [ 2.81108894e-04  9.48539758e-02]\n",
      " [-4.88381735e-08 -1.64793610e-05]]\n",
      "Mk\n",
      "[[ 8.06951317e-03  3.44289340e-04  9.98394914e-09]\n",
      " [ 3.13073579e-04  1.67777508e-04 -2.93555891e-08]\n",
      " [-5.43915263e-08 -2.91486581e-08  1.39038203e-08]]\n",
      "Pk\n",
      "[[ 7.94491235e-03  3.09137538e-04  1.55764491e-08]\n",
      " [ 2.81108894e-04  1.51766361e-04 -2.65739014e-08]\n",
      " [-4.88381735e-08 -2.63669775e-08  1.39033371e-08]]\n"
     ]
    }
   ],
   "source": [
    "Mk = np.zeros((3,3))\n",
    "# print(Phi * Pk * np.transpose(Phi))\n",
    "\n",
    "K_prev = np.zeros((3,2))\n",
    "Mk = np.dot(Phi, np.dot(P0, np.transpose(Phi)) + np.dot(Gamma, np.dot(W, np.transpose(Gamma))))\n",
    "Pk = np.linalg.inv(np.linalg.inv(Mk) + np.dot(np.transpose(H), np.dot(np.linalg.inv(etavar), H)))\n",
    "Kk = np.dot(Pk, np.dot(np.transpose(H), np.linalg.inv(etavar)))\n",
    "count = 1\n",
    "counts = [count]\n",
    "Ks = [Kk]\n",
    "Ms = [Mk]\n",
    "Ps = [Pk]\n",
    "\n",
    "while count < 2 or not np.allclose(Ks[-2], Ks[-1], rtol=1.0e-09, atol=1e-09):\n",
    "    Mk = np.dot(Phi, np.dot(Pk, np.transpose(Phi)) + np.dot(Gamma, np.dot(W, np.transpose(Gamma))))\n",
    "    Pk = np.linalg.inv(np.linalg.inv(Mk) + np.dot(np.transpose(H), np.dot(np.linalg.inv(etavar), H)))\n",
    "    Kk = np.dot(Pk, np.dot(np.transpose(H), np.linalg.inv(etavar)))\n",
    "    count+=1\n",
    "    counts.append(count)\n",
    "    Ks.append(Kk.copy())\n",
    "    Ms.append(Mk.copy())\n",
    "    Ps.append(Pk.copy())\n",
    "print(\"Converged in \", count, \" iterations\")\n",
    "print(\"K\")\n",
    "print(Ks[-1])\n",
    "print(\"Mk\")\n",
    "print(Ms[-1])\n",
    "print(\"Pk\")\n",
    "print(Ps[-1])"
   ]
  },
  {
   "cell_type": "code",
   "execution_count": 23,
   "metadata": {},
   "outputs": [
    {
     "name": "stdout",
     "output_type": "stream",
     "text": [
      "[[ 2.49414648e-01  9.26512031e-02]\n",
      " [ 1.46783255e-04  5.02695227e-01]\n",
      " [-8.72435575e-05 -8.26986081e-01]]\n",
      "[[ 1.19048525e-02  1.93064147e-01]\n",
      " [ 2.96418655e-04  1.05990291e-01]\n",
      " [-1.47853089e-05 -5.85428222e-03]]\n",
      "[[ 7.94491216e-03  1.93210897e-01]\n",
      " [ 2.81109216e-04  9.48540845e-02]\n",
      " [-4.90068097e-08 -1.65362635e-05]]\n"
     ]
    }
   ],
   "source": [
    "print(Ks[3])\n",
    "print(Ks[100])\n",
    "print(Ks[-100])"
   ]
  },
  {
   "cell_type": "markdown",
   "metadata": {},
   "source": [
    "count:  2181100\n",
    "Pk\n",
    "[[ 1.10524905e-01  3.33480898e-03 -7.64760480e-08]\n",
    " [ 3.33239880e-03  2.21112969e-04 -5.07511253e-09]\n",
    " [-7.64410148e-08 -5.07205193e-09  1.83626301e-10]]\n",
    "Mk\n",
    "[[ 1.10658338e-01  3.33923758e-03 -7.65776221e-08]\n",
    " [ 3.33682419e-03  2.21273173e-04 -5.07878738e-09]\n",
    " [-7.65425277e-08 -5.07572679e-09  1.83626385e-10]]"
   ]
  },
  {
   "cell_type": "markdown",
   "metadata": {},
   "source": [
    "# The Monte Carlo Simulation"
   ]
  },
  {
   "cell_type": "code",
   "execution_count": 18,
   "metadata": {},
   "outputs": [],
   "source": [
    "def monte_carlo_run():\n",
    "    # Phi, Gamma, W, Etavar, P0, H are already defined\n",
    "    \n",
    "    # initialize the true position, velocity, and bias for this Monte Carlo run\n",
    "    p_0_true = np.random.normal(pbar_0, p_std)\n",
    "    v_0_true = np.random.normal(vbar_0, v_std)\n",
    "    b_a_true = np.random.normal(bbar_a, b_std)\n",
    "    \n",
    "    # initialize the belief values for the position, velocity, bias, and state vector\n",
    "    pc_now = pbar_0\n",
    "    vc_now = vbar_0\n",
    "    \n",
    "    # variables to hold the true position and velocity\n",
    "    ptrue_now = p_0_true\n",
    "    vtrue_now = v_0_true\n",
    "    \n",
    "    # dxhat_0\n",
    "    dxhat = np.array([\n",
    "    [0],\n",
    "    [0],\n",
    "    [0]])\n",
    "    \n",
    "    # P0\n",
    "    Pk = P0.copy()\n",
    "    \n",
    "    # initialize Kalman gain\n",
    "#     K = np.zeros((3,2))\n",
    "    K = Ks[-1]\n",
    "\n",
    "\n",
    "    # record the dxhat, t, and Pk values for plotting\n",
    "    dxlist = [dxhat]\n",
    "    tlist = [0]\n",
    "    Pklist = [Pk]\n",
    "    Klist = [K]\n",
    "    ptruelist = [p_0_true]\n",
    "    vtruelist = [v_0_true]\n",
    "    pclist = [pc_now]\n",
    "    vclist = [vc_now]\n",
    "    \n",
    "    \n",
    "    # run the MC through the time vector\n",
    "    for i  in range(1, t_acc.shape[0]):\n",
    "        if i % 40 == 0:\n",
    "            pc_now, ptrue_now, vc_now, vtrue_now, dxhat, t = gps_timestep(i, b_a_true, pc_now, vc_now, p_0_true, v_0_true, dxhat, Pk, K)\n",
    "#             pc_now = dxhat[0,0] + pc_now\n",
    "#             vc_now = dxhat[1,0] + vc_now\n",
    "            dxlist.append(dxhat.copy())\n",
    "            tlist.append(t)\n",
    "#             Pklist.append(Pk.copy())\n",
    "#             Klist.append(K.copy())\n",
    "            ptruelist.append(ptrue_now)\n",
    "            vtruelist.append(vtrue_now)\n",
    "            pclist.append(pc_now)\n",
    "            vclist.append(vc_now)\n",
    "        else:\n",
    "            pc_now, vc_now = acc_timestep(i, b_a_true, pc_now, vc_now, dxhat[2,0])\n",
    "    \n",
    "    return b_a_true, dxlist, ptruelist, pclist, vtruelist, vclist, tlist\n",
    "\n",
    "def gps_timestep(i, ba_true, pc_prev, vc_prev, p0_true, v0_true, dxhat_i, Pk_prev, K):\n",
    "    # Generates the ith timestep computations of the KF update given both GPS and accelerometer updates\n",
    "    # i: an int representing the time vec to index into the true acceleration vector, a_truth\n",
    "    # ba_true: the true bias (a float) for this MC run to be used in the calculation of the noisy accelerometer reading\n",
    "    # pc_prev: a float representing pc at timestep i-1\n",
    "    # vc_prev: a float representing vc at timestep i-1\n",
    "    \n",
    "    ## A priori\n",
    "    xbar_next = np.dot(Phi, dxhat_i)\n",
    "#     Mk_next = np.dot(Phi, np.dot(Pk_prev, np.transpose(Phi)) + np.dot(Gamma, np.dot(W, np.transpose(Gamma))))\n",
    "    \n",
    "    ## A posteriori\n",
    "    # update the Kalman gain\n",
    "#     HMHT = np.dot(H, np.dot(Mk_next, np.transpose(H)))\n",
    "#     K = np.dot(Mk_next,np.dot(np.transpose(H), np.linalg.inv(HMHT + etavar)))\n",
    "#     print(K)\n",
    "    \n",
    "    # calculate the true position and velocity\n",
    "    vtrue_i = v0_true + a/omega - a/omega*np.cos(omega*t_acc[i])\n",
    "    ptrue_i = p0_true + (v0_true + a/omega)*t_acc[i] - a/omega**2 * np.sin(omega*t_acc[i])\n",
    "    \n",
    "    # generate a noisy GPS measurement for this timestep, i\n",
    "    eta_i = np.random.normal(etabar, etastd) # noise on the GPS\n",
    "    vgps_i = vtrue_i + eta_i[0,0]\n",
    "    pgps_i = ptrue_i + eta_i[1,1]\n",
    "    \n",
    "    # generate an accelerometer reading and position & velocity update\n",
    "    pc_i, vc_i = acc_timestep(i, ba_true, pc_prev, vc_prev, dxhat_i[2,0])\n",
    "    zk = np.array([\n",
    "        [pgps_i - pc_i],\n",
    "        [vgps_i - vc_i]\n",
    "    ])\n",
    "    \n",
    "    # calculate the residual\n",
    "    residual = zk - np.dot(H, xbar_next)\n",
    "#     print(residual)\n",
    "    \n",
    "    # update the state estimate, and covariance\n",
    "    dxhat = xbar_next + np.dot(K, residual)\n",
    "#     Pk_new = np.linalg.inv(np.linalg.inv(Mk_next) + np.dot(np.transpose(H), np.dot(np.linalg.inv(etavar), H)))\n",
    "    \n",
    "    return pc_i, ptrue_i, vc_i, vtrue_i, dxhat, t_acc[i]\n",
    "\n",
    "def acc_timestep(i, ba_true, pc_prev, vc_prev, b_est):\n",
    "    # Generates the ith timestep computations of position and velocity, pc and vc\n",
    "    # by sampling an accelerometer reading around the true value for this Monte Carlo run\n",
    "    # i: an int representing the time vec to index into the true acceleration vector, a_truth\n",
    "    # ba_true: the true bias (a float) for this MC run to be used in the calculation of the noisy accelerometer reading\n",
    "    # pc_prev: a float representing pc at timestep i-1\n",
    "    # vc_prev: a float representing vc at timestep i-1\n",
    "    \n",
    "    # draw a noise value for the accelerometer\n",
    "    w_t = np.random.normal(w_mean, w_std)\n",
    "    \n",
    "    # gather an accelerometer measurement for this timestep\n",
    "    ac_prev = a_truth[i-1] + ba_true + w_t - b_est\n",
    "    \n",
    "    # integrate the accelerometer measurment by the euler formula\n",
    "    vc_i = vc_prev + ac_prev * dt\n",
    "    pc_i = pc_prev + vc_prev * dt + ac_prev * dt**2/2\n",
    "    \n",
    "    return pc_i, vc_i\n",
    "    "
   ]
  },
  {
   "cell_type": "code",
   "execution_count": 21,
   "metadata": {},
   "outputs": [
    {
     "data": {
      "application/vnd.plotly.v1+json": {
       "config": {
        "plotlyServerURL": "https://plot.ly"
       },
       "data": [
        {
         "name": "Estimated bias",
         "type": "scatter",
         "x": [
          0,
          0.2,
          0.4,
          0.6,
          0.8,
          1,
          1.2,
          1.4000000000000001,
          1.6,
          1.8,
          2,
          2.2,
          2.4,
          2.6,
          2.8000000000000003,
          3,
          3.2,
          3.4,
          3.6,
          3.8000000000000003,
          4,
          4.2,
          4.4,
          4.6000000000000005,
          4.8,
          5,
          5.2,
          5.4,
          5.6000000000000005,
          5.8,
          6,
          6.2,
          6.4,
          6.6000000000000005,
          6.8,
          7,
          7.2,
          7.4,
          7.6000000000000005,
          7.8,
          8,
          8.2,
          8.4,
          8.6,
          8.8,
          9,
          9.200000000000001,
          9.4,
          9.6,
          9.8,
          10,
          10.200000000000001,
          10.4,
          10.6,
          10.8,
          11,
          11.200000000000001,
          11.4,
          11.6,
          11.8,
          12,
          12.200000000000001,
          12.4,
          12.6,
          12.8,
          13,
          13.200000000000001,
          13.4,
          13.6,
          13.8,
          14,
          14.200000000000001,
          14.4,
          14.6,
          14.8,
          15,
          15.200000000000001,
          15.4,
          15.6,
          15.8,
          16,
          16.2,
          16.4,
          16.6,
          16.8,
          17,
          17.2,
          17.400000000000002,
          17.6,
          17.8,
          18,
          18.2,
          18.400000000000002,
          18.6,
          18.8,
          19,
          19.2,
          19.400000000000002,
          19.6,
          19.8,
          20,
          20.2,
          20.400000000000002,
          20.6,
          20.8,
          21,
          21.2,
          21.400000000000002,
          21.6,
          21.8,
          22,
          22.2,
          22.400000000000002,
          22.6,
          22.8,
          23,
          23.2,
          23.400000000000002,
          23.6,
          23.8,
          24,
          24.2,
          24.400000000000002,
          24.6,
          24.8,
          25,
          25.2,
          25.400000000000002,
          25.6,
          25.8,
          26,
          26.2,
          26.400000000000002,
          26.6,
          26.8,
          27,
          27.2,
          27.400000000000002,
          27.6,
          27.8,
          28,
          28.2,
          28.400000000000002,
          28.6,
          28.8,
          29,
          29.2,
          29.400000000000002,
          29.6,
          29.8,
          30
         ],
         "y": [
          0,
          3.057581859189477e-05,
          3.358741253296464e-05,
          6.639421212583783e-05,
          9.828653229492046e-05,
          0.0001235880564873241,
          0.00011852848522457928,
          0.00013453787113545918,
          0.0001320089149825201,
          0.00011418253627130696,
          0.00010223762484064345,
          9.274783246758385e-05,
          7.897572643698822e-05,
          7.879425412038221e-05,
          0.00011121129025704617,
          9.586328949323501e-05,
          7.881942599070042e-05,
          8.84609083445443e-05,
          9.484222875992516e-05,
          8.49932884427044e-05,
          7.467590984202526e-05,
          6.373674142842655e-05,
          6.172629981326708e-05,
          7.090635486773593e-05,
          8.877473397255773e-05,
          3.366399770373872e-05,
          3.1767829402681506e-05,
          5.270804237956972e-05,
          3.8189800789847535e-05,
          1.1832060961736108e-05,
          1.832169425004562e-05,
          1.221234991661628e-05,
          1.6093493466336773e-05,
          2.138008857128487e-05,
          2.8622453157925445e-05,
          2.2566500537262338e-05,
          6.603802286336786e-06,
          4.821460371580688e-06,
          -7.578139208149355e-06,
          -9.483062711906827e-06,
          -1.5242983928660614e-05,
          1.5658466929044405e-05,
          2.1458247457414342e-05,
          2.5208746602668957e-05,
          1.4289471878383664e-05,
          -1.3499458898997875e-05,
          -1.0380841279432667e-05,
          -2.1482944275156475e-05,
          -1.9288417738262133e-05,
          -2.7518028080042926e-05,
          -3.957312045197697e-05,
          -3.890289520409579e-05,
          -2.0997452913007167e-05,
          -1.4580039547045527e-05,
          -2.969197129004743e-05,
          -3.28033954764844e-05,
          -4.247440979196589e-05,
          -3.050645624821384e-05,
          -4.5708482715442966e-05,
          -6.000264848819936e-05,
          -7.290032577977528e-05,
          -8.499746336969843e-05,
          -8.147611105870553e-05,
          -7.937544550223606e-05,
          -8.913187091765192e-05,
          -7.020729147969363e-05,
          -8.777047071108325e-05,
          -8.21556055681999e-05,
          -7.635396463653517e-05,
          -8.52915732627501e-05,
          -9.558763026758142e-05,
          -0.00011724768798333405,
          -0.00010971774367248734,
          -0.00011317261552943074,
          -0.00014323473667126978,
          -0.00016871126933269448,
          -0.00016804173669590045,
          -0.00015914673819849342,
          -0.00017100155934692126,
          -0.00016733877009102096,
          -0.00017311498070226488,
          -0.00017373531357942567,
          -0.00018660881642775724,
          -0.00019683634135794165,
          -0.00022638948167170859,
          -0.0002491803738178049,
          -0.0002771770505472494,
          -0.0002809345484940821,
          -0.0003079797252928863,
          -0.00028616349829177403,
          -0.00027804383450630044,
          -0.0002816102468574192,
          -0.0002634564279077372,
          -0.00027016817934326555,
          -0.0002885934703662604,
          -0.0002927873134883996,
          -0.0003151186811034102,
          -0.00032235931277853526,
          -0.0003300013351311519,
          -0.00030445482132636083,
          -0.00030232232293631647,
          -0.0002903470063093297,
          -0.00027555392745675717,
          -0.0002832641099266379,
          -0.0002840722495192569,
          -0.00028885925560860333,
          -0.0003002470063851482,
          -0.0002920608924515235,
          -0.00028904944001651757,
          -0.00031028351174421857,
          -0.00033259084128868505,
          -0.0003249068604050744,
          -0.00031891860843808633,
          -0.0003297794457370256,
          -0.00032313429645200497,
          -0.00034545457555668123,
          -0.00034004317641995796,
          -0.00035194578065868027,
          -0.0003620542394982234,
          -0.0003558682222060747,
          -0.00035703007483716765,
          -0.00035757948990278795,
          -0.00036219912677247967,
          -0.000370793788402539,
          -0.0003677255725918799,
          -0.0003717917207714364,
          -0.00037633996975529294,
          -0.0003785079273314834,
          -0.0003879338520927582,
          -0.00042423780470594305,
          -0.0004262308799570425,
          -0.00043660586400739044,
          -0.0004420258772197954,
          -0.00045524544241836736,
          -0.00048142870668758806,
          -0.00046878837052951927,
          -0.00043192657521107073,
          -0.00043304538254459297,
          -0.00046738870105982115,
          -0.0004789601479613285,
          -0.0005167932642115263,
          -0.0005098254983648146,
          -0.0005158160570594699,
          -0.000519224102603233,
          -0.0004936903529277338,
          -0.0005099123648185716,
          -0.0005209324754639905,
          -0.0005327376876408642,
          -0.0005370324019149852,
          -0.0005285185692803531,
          -0.000532369381116232
         ]
        },
        {
         "name": "True bias",
         "type": "scatter",
         "x": [
          0,
          0.2,
          0.4,
          0.6,
          0.8,
          1,
          1.2,
          1.4000000000000001,
          1.6,
          1.8,
          2,
          2.2,
          2.4,
          2.6,
          2.8000000000000003,
          3,
          3.2,
          3.4,
          3.6,
          3.8000000000000003,
          4,
          4.2,
          4.4,
          4.6000000000000005,
          4.8,
          5,
          5.2,
          5.4,
          5.6000000000000005,
          5.8,
          6,
          6.2,
          6.4,
          6.6000000000000005,
          6.8,
          7,
          7.2,
          7.4,
          7.6000000000000005,
          7.8,
          8,
          8.2,
          8.4,
          8.6,
          8.8,
          9,
          9.200000000000001,
          9.4,
          9.6,
          9.8,
          10,
          10.200000000000001,
          10.4,
          10.6,
          10.8,
          11,
          11.200000000000001,
          11.4,
          11.6,
          11.8,
          12,
          12.200000000000001,
          12.4,
          12.6,
          12.8,
          13,
          13.200000000000001,
          13.4,
          13.6,
          13.8,
          14,
          14.200000000000001,
          14.4,
          14.6,
          14.8,
          15,
          15.200000000000001,
          15.4,
          15.6,
          15.8,
          16,
          16.2,
          16.4,
          16.6,
          16.8,
          17,
          17.2,
          17.400000000000002,
          17.6,
          17.8,
          18,
          18.2,
          18.400000000000002,
          18.6,
          18.8,
          19,
          19.2,
          19.400000000000002,
          19.6,
          19.8,
          20,
          20.2,
          20.400000000000002,
          20.6,
          20.8,
          21,
          21.2,
          21.400000000000002,
          21.6,
          21.8,
          22,
          22.2,
          22.400000000000002,
          22.6,
          22.8,
          23,
          23.2,
          23.400000000000002,
          23.6,
          23.8,
          24,
          24.2,
          24.400000000000002,
          24.6,
          24.8,
          25,
          25.2,
          25.400000000000002,
          25.6,
          25.8,
          26,
          26.2,
          26.400000000000002,
          26.6,
          26.8,
          27,
          27.2,
          27.400000000000002,
          27.6,
          27.8,
          28,
          28.2,
          28.400000000000002,
          28.6,
          28.8,
          29,
          29.2,
          29.400000000000002,
          29.6,
          29.8,
          30
         ],
         "y": [
          -0.15286988643051042,
          -0.15286988643051042,
          -0.15286988643051042,
          -0.15286988643051042,
          -0.15286988643051042,
          -0.15286988643051042,
          -0.15286988643051042,
          -0.15286988643051042,
          -0.15286988643051042,
          -0.15286988643051042,
          -0.15286988643051042,
          -0.15286988643051042,
          -0.15286988643051042,
          -0.15286988643051042,
          -0.15286988643051042,
          -0.15286988643051042,
          -0.15286988643051042,
          -0.15286988643051042,
          -0.15286988643051042,
          -0.15286988643051042,
          -0.15286988643051042,
          -0.15286988643051042,
          -0.15286988643051042,
          -0.15286988643051042,
          -0.15286988643051042,
          -0.15286988643051042,
          -0.15286988643051042,
          -0.15286988643051042,
          -0.15286988643051042,
          -0.15286988643051042,
          -0.15286988643051042,
          -0.15286988643051042,
          -0.15286988643051042,
          -0.15286988643051042,
          -0.15286988643051042,
          -0.15286988643051042,
          -0.15286988643051042,
          -0.15286988643051042,
          -0.15286988643051042,
          -0.15286988643051042,
          -0.15286988643051042,
          -0.15286988643051042,
          -0.15286988643051042,
          -0.15286988643051042,
          -0.15286988643051042,
          -0.15286988643051042,
          -0.15286988643051042,
          -0.15286988643051042,
          -0.15286988643051042,
          -0.15286988643051042,
          -0.15286988643051042,
          -0.15286988643051042,
          -0.15286988643051042,
          -0.15286988643051042,
          -0.15286988643051042,
          -0.15286988643051042,
          -0.15286988643051042,
          -0.15286988643051042,
          -0.15286988643051042,
          -0.15286988643051042,
          -0.15286988643051042,
          -0.15286988643051042,
          -0.15286988643051042,
          -0.15286988643051042,
          -0.15286988643051042,
          -0.15286988643051042,
          -0.15286988643051042,
          -0.15286988643051042,
          -0.15286988643051042,
          -0.15286988643051042,
          -0.15286988643051042,
          -0.15286988643051042,
          -0.15286988643051042,
          -0.15286988643051042,
          -0.15286988643051042,
          -0.15286988643051042,
          -0.15286988643051042,
          -0.15286988643051042,
          -0.15286988643051042,
          -0.15286988643051042,
          -0.15286988643051042,
          -0.15286988643051042,
          -0.15286988643051042,
          -0.15286988643051042,
          -0.15286988643051042,
          -0.15286988643051042,
          -0.15286988643051042,
          -0.15286988643051042,
          -0.15286988643051042,
          -0.15286988643051042,
          -0.15286988643051042,
          -0.15286988643051042,
          -0.15286988643051042,
          -0.15286988643051042,
          -0.15286988643051042,
          -0.15286988643051042,
          -0.15286988643051042,
          -0.15286988643051042,
          -0.15286988643051042,
          -0.15286988643051042,
          -0.15286988643051042,
          -0.15286988643051042,
          -0.15286988643051042,
          -0.15286988643051042,
          -0.15286988643051042,
          -0.15286988643051042,
          -0.15286988643051042,
          -0.15286988643051042,
          -0.15286988643051042,
          -0.15286988643051042,
          -0.15286988643051042,
          -0.15286988643051042,
          -0.15286988643051042,
          -0.15286988643051042,
          -0.15286988643051042,
          -0.15286988643051042,
          -0.15286988643051042,
          -0.15286988643051042,
          -0.15286988643051042,
          -0.15286988643051042,
          -0.15286988643051042,
          -0.15286988643051042,
          -0.15286988643051042,
          -0.15286988643051042,
          -0.15286988643051042,
          -0.15286988643051042,
          -0.15286988643051042,
          -0.15286988643051042,
          -0.15286988643051042,
          -0.15286988643051042,
          -0.15286988643051042,
          -0.15286988643051042,
          -0.15286988643051042,
          -0.15286988643051042,
          -0.15286988643051042,
          -0.15286988643051042,
          -0.15286988643051042,
          -0.15286988643051042,
          -0.15286988643051042,
          -0.15286988643051042,
          -0.15286988643051042,
          -0.15286988643051042,
          -0.15286988643051042,
          -0.15286988643051042,
          -0.15286988643051042,
          -0.15286988643051042,
          -0.15286988643051042,
          -0.15286988643051042,
          -0.15286988643051042,
          -0.15286988643051042,
          -0.15286988643051042
         ]
        }
       ],
       "layout": {
        "template": {
         "data": {
          "bar": [
           {
            "error_x": {
             "color": "#2a3f5f"
            },
            "error_y": {
             "color": "#2a3f5f"
            },
            "marker": {
             "line": {
              "color": "#E5ECF6",
              "width": 0.5
             }
            },
            "type": "bar"
           }
          ],
          "barpolar": [
           {
            "marker": {
             "line": {
              "color": "#E5ECF6",
              "width": 0.5
             }
            },
            "type": "barpolar"
           }
          ],
          "carpet": [
           {
            "aaxis": {
             "endlinecolor": "#2a3f5f",
             "gridcolor": "white",
             "linecolor": "white",
             "minorgridcolor": "white",
             "startlinecolor": "#2a3f5f"
            },
            "baxis": {
             "endlinecolor": "#2a3f5f",
             "gridcolor": "white",
             "linecolor": "white",
             "minorgridcolor": "white",
             "startlinecolor": "#2a3f5f"
            },
            "type": "carpet"
           }
          ],
          "choropleth": [
           {
            "colorbar": {
             "outlinewidth": 0,
             "ticks": ""
            },
            "type": "choropleth"
           }
          ],
          "contour": [
           {
            "colorbar": {
             "outlinewidth": 0,
             "ticks": ""
            },
            "colorscale": [
             [
              0,
              "#0d0887"
             ],
             [
              0.1111111111111111,
              "#46039f"
             ],
             [
              0.2222222222222222,
              "#7201a8"
             ],
             [
              0.3333333333333333,
              "#9c179e"
             ],
             [
              0.4444444444444444,
              "#bd3786"
             ],
             [
              0.5555555555555556,
              "#d8576b"
             ],
             [
              0.6666666666666666,
              "#ed7953"
             ],
             [
              0.7777777777777778,
              "#fb9f3a"
             ],
             [
              0.8888888888888888,
              "#fdca26"
             ],
             [
              1,
              "#f0f921"
             ]
            ],
            "type": "contour"
           }
          ],
          "contourcarpet": [
           {
            "colorbar": {
             "outlinewidth": 0,
             "ticks": ""
            },
            "type": "contourcarpet"
           }
          ],
          "heatmap": [
           {
            "colorbar": {
             "outlinewidth": 0,
             "ticks": ""
            },
            "colorscale": [
             [
              0,
              "#0d0887"
             ],
             [
              0.1111111111111111,
              "#46039f"
             ],
             [
              0.2222222222222222,
              "#7201a8"
             ],
             [
              0.3333333333333333,
              "#9c179e"
             ],
             [
              0.4444444444444444,
              "#bd3786"
             ],
             [
              0.5555555555555556,
              "#d8576b"
             ],
             [
              0.6666666666666666,
              "#ed7953"
             ],
             [
              0.7777777777777778,
              "#fb9f3a"
             ],
             [
              0.8888888888888888,
              "#fdca26"
             ],
             [
              1,
              "#f0f921"
             ]
            ],
            "type": "heatmap"
           }
          ],
          "heatmapgl": [
           {
            "colorbar": {
             "outlinewidth": 0,
             "ticks": ""
            },
            "colorscale": [
             [
              0,
              "#0d0887"
             ],
             [
              0.1111111111111111,
              "#46039f"
             ],
             [
              0.2222222222222222,
              "#7201a8"
             ],
             [
              0.3333333333333333,
              "#9c179e"
             ],
             [
              0.4444444444444444,
              "#bd3786"
             ],
             [
              0.5555555555555556,
              "#d8576b"
             ],
             [
              0.6666666666666666,
              "#ed7953"
             ],
             [
              0.7777777777777778,
              "#fb9f3a"
             ],
             [
              0.8888888888888888,
              "#fdca26"
             ],
             [
              1,
              "#f0f921"
             ]
            ],
            "type": "heatmapgl"
           }
          ],
          "histogram": [
           {
            "marker": {
             "colorbar": {
              "outlinewidth": 0,
              "ticks": ""
             }
            },
            "type": "histogram"
           }
          ],
          "histogram2d": [
           {
            "colorbar": {
             "outlinewidth": 0,
             "ticks": ""
            },
            "colorscale": [
             [
              0,
              "#0d0887"
             ],
             [
              0.1111111111111111,
              "#46039f"
             ],
             [
              0.2222222222222222,
              "#7201a8"
             ],
             [
              0.3333333333333333,
              "#9c179e"
             ],
             [
              0.4444444444444444,
              "#bd3786"
             ],
             [
              0.5555555555555556,
              "#d8576b"
             ],
             [
              0.6666666666666666,
              "#ed7953"
             ],
             [
              0.7777777777777778,
              "#fb9f3a"
             ],
             [
              0.8888888888888888,
              "#fdca26"
             ],
             [
              1,
              "#f0f921"
             ]
            ],
            "type": "histogram2d"
           }
          ],
          "histogram2dcontour": [
           {
            "colorbar": {
             "outlinewidth": 0,
             "ticks": ""
            },
            "colorscale": [
             [
              0,
              "#0d0887"
             ],
             [
              0.1111111111111111,
              "#46039f"
             ],
             [
              0.2222222222222222,
              "#7201a8"
             ],
             [
              0.3333333333333333,
              "#9c179e"
             ],
             [
              0.4444444444444444,
              "#bd3786"
             ],
             [
              0.5555555555555556,
              "#d8576b"
             ],
             [
              0.6666666666666666,
              "#ed7953"
             ],
             [
              0.7777777777777778,
              "#fb9f3a"
             ],
             [
              0.8888888888888888,
              "#fdca26"
             ],
             [
              1,
              "#f0f921"
             ]
            ],
            "type": "histogram2dcontour"
           }
          ],
          "mesh3d": [
           {
            "colorbar": {
             "outlinewidth": 0,
             "ticks": ""
            },
            "type": "mesh3d"
           }
          ],
          "parcoords": [
           {
            "line": {
             "colorbar": {
              "outlinewidth": 0,
              "ticks": ""
             }
            },
            "type": "parcoords"
           }
          ],
          "pie": [
           {
            "automargin": true,
            "type": "pie"
           }
          ],
          "scatter": [
           {
            "marker": {
             "colorbar": {
              "outlinewidth": 0,
              "ticks": ""
             }
            },
            "type": "scatter"
           }
          ],
          "scatter3d": [
           {
            "line": {
             "colorbar": {
              "outlinewidth": 0,
              "ticks": ""
             }
            },
            "marker": {
             "colorbar": {
              "outlinewidth": 0,
              "ticks": ""
             }
            },
            "type": "scatter3d"
           }
          ],
          "scattercarpet": [
           {
            "marker": {
             "colorbar": {
              "outlinewidth": 0,
              "ticks": ""
             }
            },
            "type": "scattercarpet"
           }
          ],
          "scattergeo": [
           {
            "marker": {
             "colorbar": {
              "outlinewidth": 0,
              "ticks": ""
             }
            },
            "type": "scattergeo"
           }
          ],
          "scattergl": [
           {
            "marker": {
             "colorbar": {
              "outlinewidth": 0,
              "ticks": ""
             }
            },
            "type": "scattergl"
           }
          ],
          "scattermapbox": [
           {
            "marker": {
             "colorbar": {
              "outlinewidth": 0,
              "ticks": ""
             }
            },
            "type": "scattermapbox"
           }
          ],
          "scatterpolar": [
           {
            "marker": {
             "colorbar": {
              "outlinewidth": 0,
              "ticks": ""
             }
            },
            "type": "scatterpolar"
           }
          ],
          "scatterpolargl": [
           {
            "marker": {
             "colorbar": {
              "outlinewidth": 0,
              "ticks": ""
             }
            },
            "type": "scatterpolargl"
           }
          ],
          "scatterternary": [
           {
            "marker": {
             "colorbar": {
              "outlinewidth": 0,
              "ticks": ""
             }
            },
            "type": "scatterternary"
           }
          ],
          "surface": [
           {
            "colorbar": {
             "outlinewidth": 0,
             "ticks": ""
            },
            "colorscale": [
             [
              0,
              "#0d0887"
             ],
             [
              0.1111111111111111,
              "#46039f"
             ],
             [
              0.2222222222222222,
              "#7201a8"
             ],
             [
              0.3333333333333333,
              "#9c179e"
             ],
             [
              0.4444444444444444,
              "#bd3786"
             ],
             [
              0.5555555555555556,
              "#d8576b"
             ],
             [
              0.6666666666666666,
              "#ed7953"
             ],
             [
              0.7777777777777778,
              "#fb9f3a"
             ],
             [
              0.8888888888888888,
              "#fdca26"
             ],
             [
              1,
              "#f0f921"
             ]
            ],
            "type": "surface"
           }
          ],
          "table": [
           {
            "cells": {
             "fill": {
              "color": "#EBF0F8"
             },
             "line": {
              "color": "white"
             }
            },
            "header": {
             "fill": {
              "color": "#C8D4E3"
             },
             "line": {
              "color": "white"
             }
            },
            "type": "table"
           }
          ]
         },
         "layout": {
          "annotationdefaults": {
           "arrowcolor": "#2a3f5f",
           "arrowhead": 0,
           "arrowwidth": 1
          },
          "coloraxis": {
           "colorbar": {
            "outlinewidth": 0,
            "ticks": ""
           }
          },
          "colorscale": {
           "diverging": [
            [
             0,
             "#8e0152"
            ],
            [
             0.1,
             "#c51b7d"
            ],
            [
             0.2,
             "#de77ae"
            ],
            [
             0.3,
             "#f1b6da"
            ],
            [
             0.4,
             "#fde0ef"
            ],
            [
             0.5,
             "#f7f7f7"
            ],
            [
             0.6,
             "#e6f5d0"
            ],
            [
             0.7,
             "#b8e186"
            ],
            [
             0.8,
             "#7fbc41"
            ],
            [
             0.9,
             "#4d9221"
            ],
            [
             1,
             "#276419"
            ]
           ],
           "sequential": [
            [
             0,
             "#0d0887"
            ],
            [
             0.1111111111111111,
             "#46039f"
            ],
            [
             0.2222222222222222,
             "#7201a8"
            ],
            [
             0.3333333333333333,
             "#9c179e"
            ],
            [
             0.4444444444444444,
             "#bd3786"
            ],
            [
             0.5555555555555556,
             "#d8576b"
            ],
            [
             0.6666666666666666,
             "#ed7953"
            ],
            [
             0.7777777777777778,
             "#fb9f3a"
            ],
            [
             0.8888888888888888,
             "#fdca26"
            ],
            [
             1,
             "#f0f921"
            ]
           ],
           "sequentialminus": [
            [
             0,
             "#0d0887"
            ],
            [
             0.1111111111111111,
             "#46039f"
            ],
            [
             0.2222222222222222,
             "#7201a8"
            ],
            [
             0.3333333333333333,
             "#9c179e"
            ],
            [
             0.4444444444444444,
             "#bd3786"
            ],
            [
             0.5555555555555556,
             "#d8576b"
            ],
            [
             0.6666666666666666,
             "#ed7953"
            ],
            [
             0.7777777777777778,
             "#fb9f3a"
            ],
            [
             0.8888888888888888,
             "#fdca26"
            ],
            [
             1,
             "#f0f921"
            ]
           ]
          },
          "colorway": [
           "#636efa",
           "#EF553B",
           "#00cc96",
           "#ab63fa",
           "#FFA15A",
           "#19d3f3",
           "#FF6692",
           "#B6E880",
           "#FF97FF",
           "#FECB52"
          ],
          "font": {
           "color": "#2a3f5f"
          },
          "geo": {
           "bgcolor": "white",
           "lakecolor": "white",
           "landcolor": "#E5ECF6",
           "showlakes": true,
           "showland": true,
           "subunitcolor": "white"
          },
          "hoverlabel": {
           "align": "left"
          },
          "hovermode": "closest",
          "mapbox": {
           "style": "light"
          },
          "paper_bgcolor": "white",
          "plot_bgcolor": "#E5ECF6",
          "polar": {
           "angularaxis": {
            "gridcolor": "white",
            "linecolor": "white",
            "ticks": ""
           },
           "bgcolor": "#E5ECF6",
           "radialaxis": {
            "gridcolor": "white",
            "linecolor": "white",
            "ticks": ""
           }
          },
          "scene": {
           "xaxis": {
            "backgroundcolor": "#E5ECF6",
            "gridcolor": "white",
            "gridwidth": 2,
            "linecolor": "white",
            "showbackground": true,
            "ticks": "",
            "zerolinecolor": "white"
           },
           "yaxis": {
            "backgroundcolor": "#E5ECF6",
            "gridcolor": "white",
            "gridwidth": 2,
            "linecolor": "white",
            "showbackground": true,
            "ticks": "",
            "zerolinecolor": "white"
           },
           "zaxis": {
            "backgroundcolor": "#E5ECF6",
            "gridcolor": "white",
            "gridwidth": 2,
            "linecolor": "white",
            "showbackground": true,
            "ticks": "",
            "zerolinecolor": "white"
           }
          },
          "shapedefaults": {
           "line": {
            "color": "#2a3f5f"
           }
          },
          "ternary": {
           "aaxis": {
            "gridcolor": "white",
            "linecolor": "white",
            "ticks": ""
           },
           "baxis": {
            "gridcolor": "white",
            "linecolor": "white",
            "ticks": ""
           },
           "bgcolor": "#E5ECF6",
           "caxis": {
            "gridcolor": "white",
            "linecolor": "white",
            "ticks": ""
           }
          },
          "title": {
           "x": 0.05
          },
          "xaxis": {
           "automargin": true,
           "gridcolor": "white",
           "linecolor": "white",
           "ticks": "",
           "title": {
            "standoff": 15
           },
           "zerolinecolor": "white",
           "zerolinewidth": 2
          },
          "yaxis": {
           "automargin": true,
           "gridcolor": "white",
           "linecolor": "white",
           "ticks": "",
           "title": {
            "standoff": 15
           },
           "zerolinecolor": "white",
           "zerolinewidth": 2
          }
         }
        }
       }
      },
      "text/html": [
       "<div>\n",
       "        \n",
       "        \n",
       "            <div id=\"5e520f91-17f0-453f-82d9-059c3ddce75f\" class=\"plotly-graph-div\" style=\"height:525px; width:100%;\"></div>\n",
       "            <script type=\"text/javascript\">\n",
       "                require([\"plotly\"], function(Plotly) {\n",
       "                    window.PLOTLYENV=window.PLOTLYENV || {};\n",
       "                    \n",
       "                if (document.getElementById(\"5e520f91-17f0-453f-82d9-059c3ddce75f\")) {\n",
       "                    Plotly.newPlot(\n",
       "                        '5e520f91-17f0-453f-82d9-059c3ddce75f',\n",
       "                        [{\"name\": \"Estimated bias\", \"type\": \"scatter\", \"x\": [0, 0.2, 0.4, 0.6, 0.8, 1.0, 1.2, 1.4000000000000001, 1.6, 1.8, 2.0, 2.2, 2.4, 2.6, 2.8000000000000003, 3.0, 3.2, 3.4, 3.6, 3.8000000000000003, 4.0, 4.2, 4.4, 4.6000000000000005, 4.8, 5.0, 5.2, 5.4, 5.6000000000000005, 5.8, 6.0, 6.2, 6.4, 6.6000000000000005, 6.8, 7.0, 7.2, 7.4, 7.6000000000000005, 7.8, 8.0, 8.2, 8.4, 8.6, 8.8, 9.0, 9.200000000000001, 9.4, 9.6, 9.8, 10.0, 10.200000000000001, 10.4, 10.6, 10.8, 11.0, 11.200000000000001, 11.4, 11.6, 11.8, 12.0, 12.200000000000001, 12.4, 12.6, 12.8, 13.0, 13.200000000000001, 13.4, 13.6, 13.8, 14.0, 14.200000000000001, 14.4, 14.6, 14.8, 15.0, 15.200000000000001, 15.4, 15.6, 15.8, 16.0, 16.2, 16.4, 16.6, 16.8, 17.0, 17.2, 17.400000000000002, 17.6, 17.8, 18.0, 18.2, 18.400000000000002, 18.6, 18.8, 19.0, 19.2, 19.400000000000002, 19.6, 19.8, 20.0, 20.2, 20.400000000000002, 20.6, 20.8, 21.0, 21.2, 21.400000000000002, 21.6, 21.8, 22.0, 22.2, 22.400000000000002, 22.6, 22.8, 23.0, 23.2, 23.400000000000002, 23.6, 23.8, 24.0, 24.2, 24.400000000000002, 24.6, 24.8, 25.0, 25.2, 25.400000000000002, 25.6, 25.8, 26.0, 26.2, 26.400000000000002, 26.6, 26.8, 27.0, 27.2, 27.400000000000002, 27.6, 27.8, 28.0, 28.2, 28.400000000000002, 28.6, 28.8, 29.0, 29.2, 29.400000000000002, 29.6, 29.8, 30.0], \"y\": [0, 3.057581859189477e-05, 3.358741253296464e-05, 6.639421212583783e-05, 9.828653229492046e-05, 0.0001235880564873241, 0.00011852848522457928, 0.00013453787113545918, 0.0001320089149825201, 0.00011418253627130696, 0.00010223762484064345, 9.274783246758385e-05, 7.897572643698822e-05, 7.879425412038221e-05, 0.00011121129025704617, 9.586328949323501e-05, 7.881942599070042e-05, 8.84609083445443e-05, 9.484222875992516e-05, 8.49932884427044e-05, 7.467590984202526e-05, 6.373674142842655e-05, 6.172629981326708e-05, 7.090635486773593e-05, 8.877473397255773e-05, 3.366399770373872e-05, 3.1767829402681506e-05, 5.270804237956972e-05, 3.8189800789847535e-05, 1.1832060961736108e-05, 1.832169425004562e-05, 1.221234991661628e-05, 1.6093493466336773e-05, 2.138008857128487e-05, 2.8622453157925445e-05, 2.2566500537262338e-05, 6.603802286336786e-06, 4.821460371580688e-06, -7.578139208149355e-06, -9.483062711906827e-06, -1.5242983928660614e-05, 1.5658466929044405e-05, 2.1458247457414342e-05, 2.5208746602668957e-05, 1.4289471878383664e-05, -1.3499458898997875e-05, -1.0380841279432667e-05, -2.1482944275156475e-05, -1.9288417738262133e-05, -2.7518028080042926e-05, -3.957312045197697e-05, -3.890289520409579e-05, -2.0997452913007167e-05, -1.4580039547045527e-05, -2.969197129004743e-05, -3.28033954764844e-05, -4.247440979196589e-05, -3.050645624821384e-05, -4.5708482715442966e-05, -6.000264848819936e-05, -7.290032577977528e-05, -8.499746336969843e-05, -8.147611105870553e-05, -7.937544550223606e-05, -8.913187091765192e-05, -7.020729147969363e-05, -8.777047071108325e-05, -8.21556055681999e-05, -7.635396463653517e-05, -8.52915732627501e-05, -9.558763026758142e-05, -0.00011724768798333405, -0.00010971774367248734, -0.00011317261552943074, -0.00014323473667126978, -0.00016871126933269448, -0.00016804173669590045, -0.00015914673819849342, -0.00017100155934692126, -0.00016733877009102096, -0.00017311498070226488, -0.00017373531357942567, -0.00018660881642775724, -0.00019683634135794165, -0.00022638948167170859, -0.0002491803738178049, -0.0002771770505472494, -0.0002809345484940821, -0.0003079797252928863, -0.00028616349829177403, -0.00027804383450630044, -0.0002816102468574192, -0.0002634564279077372, -0.00027016817934326555, -0.0002885934703662604, -0.0002927873134883996, -0.0003151186811034102, -0.00032235931277853526, -0.0003300013351311519, -0.00030445482132636083, -0.00030232232293631647, -0.0002903470063093297, -0.00027555392745675717, -0.0002832641099266379, -0.0002840722495192569, -0.00028885925560860333, -0.0003002470063851482, -0.0002920608924515235, -0.00028904944001651757, -0.00031028351174421857, -0.00033259084128868505, -0.0003249068604050744, -0.00031891860843808633, -0.0003297794457370256, -0.00032313429645200497, -0.00034545457555668123, -0.00034004317641995796, -0.00035194578065868027, -0.0003620542394982234, -0.0003558682222060747, -0.00035703007483716765, -0.00035757948990278795, -0.00036219912677247967, -0.000370793788402539, -0.0003677255725918799, -0.0003717917207714364, -0.00037633996975529294, -0.0003785079273314834, -0.0003879338520927582, -0.00042423780470594305, -0.0004262308799570425, -0.00043660586400739044, -0.0004420258772197954, -0.00045524544241836736, -0.00048142870668758806, -0.00046878837052951927, -0.00043192657521107073, -0.00043304538254459297, -0.00046738870105982115, -0.0004789601479613285, -0.0005167932642115263, -0.0005098254983648146, -0.0005158160570594699, -0.000519224102603233, -0.0004936903529277338, -0.0005099123648185716, -0.0005209324754639905, -0.0005327376876408642, -0.0005370324019149852, -0.0005285185692803531, -0.000532369381116232]}, {\"name\": \"True bias\", \"type\": \"scatter\", \"x\": [0, 0.2, 0.4, 0.6, 0.8, 1.0, 1.2, 1.4000000000000001, 1.6, 1.8, 2.0, 2.2, 2.4, 2.6, 2.8000000000000003, 3.0, 3.2, 3.4, 3.6, 3.8000000000000003, 4.0, 4.2, 4.4, 4.6000000000000005, 4.8, 5.0, 5.2, 5.4, 5.6000000000000005, 5.8, 6.0, 6.2, 6.4, 6.6000000000000005, 6.8, 7.0, 7.2, 7.4, 7.6000000000000005, 7.8, 8.0, 8.2, 8.4, 8.6, 8.8, 9.0, 9.200000000000001, 9.4, 9.6, 9.8, 10.0, 10.200000000000001, 10.4, 10.6, 10.8, 11.0, 11.200000000000001, 11.4, 11.6, 11.8, 12.0, 12.200000000000001, 12.4, 12.6, 12.8, 13.0, 13.200000000000001, 13.4, 13.6, 13.8, 14.0, 14.200000000000001, 14.4, 14.6, 14.8, 15.0, 15.200000000000001, 15.4, 15.6, 15.8, 16.0, 16.2, 16.4, 16.6, 16.8, 17.0, 17.2, 17.400000000000002, 17.6, 17.8, 18.0, 18.2, 18.400000000000002, 18.6, 18.8, 19.0, 19.2, 19.400000000000002, 19.6, 19.8, 20.0, 20.2, 20.400000000000002, 20.6, 20.8, 21.0, 21.2, 21.400000000000002, 21.6, 21.8, 22.0, 22.2, 22.400000000000002, 22.6, 22.8, 23.0, 23.2, 23.400000000000002, 23.6, 23.8, 24.0, 24.2, 24.400000000000002, 24.6, 24.8, 25.0, 25.2, 25.400000000000002, 25.6, 25.8, 26.0, 26.2, 26.400000000000002, 26.6, 26.8, 27.0, 27.2, 27.400000000000002, 27.6, 27.8, 28.0, 28.2, 28.400000000000002, 28.6, 28.8, 29.0, 29.2, 29.400000000000002, 29.6, 29.8, 30.0], \"y\": [-0.15286988643051042, -0.15286988643051042, -0.15286988643051042, -0.15286988643051042, -0.15286988643051042, -0.15286988643051042, -0.15286988643051042, -0.15286988643051042, -0.15286988643051042, -0.15286988643051042, -0.15286988643051042, -0.15286988643051042, -0.15286988643051042, -0.15286988643051042, -0.15286988643051042, -0.15286988643051042, -0.15286988643051042, -0.15286988643051042, -0.15286988643051042, -0.15286988643051042, -0.15286988643051042, -0.15286988643051042, -0.15286988643051042, -0.15286988643051042, -0.15286988643051042, -0.15286988643051042, -0.15286988643051042, -0.15286988643051042, -0.15286988643051042, -0.15286988643051042, -0.15286988643051042, -0.15286988643051042, -0.15286988643051042, -0.15286988643051042, -0.15286988643051042, -0.15286988643051042, -0.15286988643051042, -0.15286988643051042, -0.15286988643051042, -0.15286988643051042, -0.15286988643051042, -0.15286988643051042, -0.15286988643051042, -0.15286988643051042, -0.15286988643051042, -0.15286988643051042, -0.15286988643051042, -0.15286988643051042, -0.15286988643051042, -0.15286988643051042, -0.15286988643051042, -0.15286988643051042, -0.15286988643051042, -0.15286988643051042, -0.15286988643051042, -0.15286988643051042, -0.15286988643051042, -0.15286988643051042, -0.15286988643051042, -0.15286988643051042, -0.15286988643051042, -0.15286988643051042, -0.15286988643051042, -0.15286988643051042, -0.15286988643051042, -0.15286988643051042, -0.15286988643051042, -0.15286988643051042, -0.15286988643051042, -0.15286988643051042, -0.15286988643051042, -0.15286988643051042, -0.15286988643051042, -0.15286988643051042, -0.15286988643051042, -0.15286988643051042, -0.15286988643051042, -0.15286988643051042, -0.15286988643051042, -0.15286988643051042, -0.15286988643051042, -0.15286988643051042, -0.15286988643051042, -0.15286988643051042, -0.15286988643051042, -0.15286988643051042, -0.15286988643051042, -0.15286988643051042, -0.15286988643051042, -0.15286988643051042, -0.15286988643051042, -0.15286988643051042, -0.15286988643051042, -0.15286988643051042, -0.15286988643051042, -0.15286988643051042, -0.15286988643051042, -0.15286988643051042, -0.15286988643051042, -0.15286988643051042, -0.15286988643051042, -0.15286988643051042, -0.15286988643051042, -0.15286988643051042, -0.15286988643051042, -0.15286988643051042, -0.15286988643051042, -0.15286988643051042, -0.15286988643051042, -0.15286988643051042, -0.15286988643051042, -0.15286988643051042, -0.15286988643051042, -0.15286988643051042, -0.15286988643051042, -0.15286988643051042, -0.15286988643051042, -0.15286988643051042, -0.15286988643051042, -0.15286988643051042, -0.15286988643051042, -0.15286988643051042, -0.15286988643051042, -0.15286988643051042, -0.15286988643051042, -0.15286988643051042, -0.15286988643051042, -0.15286988643051042, -0.15286988643051042, -0.15286988643051042, -0.15286988643051042, -0.15286988643051042, -0.15286988643051042, -0.15286988643051042, -0.15286988643051042, -0.15286988643051042, -0.15286988643051042, -0.15286988643051042, -0.15286988643051042, -0.15286988643051042, -0.15286988643051042, -0.15286988643051042, -0.15286988643051042, -0.15286988643051042, -0.15286988643051042, -0.15286988643051042, -0.15286988643051042, -0.15286988643051042, -0.15286988643051042, -0.15286988643051042, -0.15286988643051042]}],\n",
       "                        {\"template\": {\"data\": {\"bar\": [{\"error_x\": {\"color\": \"#2a3f5f\"}, \"error_y\": {\"color\": \"#2a3f5f\"}, \"marker\": {\"line\": {\"color\": \"#E5ECF6\", \"width\": 0.5}}, \"type\": \"bar\"}], \"barpolar\": [{\"marker\": {\"line\": {\"color\": \"#E5ECF6\", \"width\": 0.5}}, \"type\": \"barpolar\"}], \"carpet\": [{\"aaxis\": {\"endlinecolor\": \"#2a3f5f\", \"gridcolor\": \"white\", \"linecolor\": \"white\", \"minorgridcolor\": \"white\", \"startlinecolor\": \"#2a3f5f\"}, \"baxis\": {\"endlinecolor\": \"#2a3f5f\", \"gridcolor\": \"white\", \"linecolor\": \"white\", \"minorgridcolor\": \"white\", \"startlinecolor\": \"#2a3f5f\"}, \"type\": \"carpet\"}], \"choropleth\": [{\"colorbar\": {\"outlinewidth\": 0, \"ticks\": \"\"}, \"type\": \"choropleth\"}], \"contour\": [{\"colorbar\": {\"outlinewidth\": 0, \"ticks\": \"\"}, \"colorscale\": [[0.0, \"#0d0887\"], [0.1111111111111111, \"#46039f\"], [0.2222222222222222, \"#7201a8\"], [0.3333333333333333, \"#9c179e\"], [0.4444444444444444, \"#bd3786\"], [0.5555555555555556, \"#d8576b\"], [0.6666666666666666, \"#ed7953\"], [0.7777777777777778, \"#fb9f3a\"], [0.8888888888888888, \"#fdca26\"], [1.0, \"#f0f921\"]], \"type\": \"contour\"}], \"contourcarpet\": [{\"colorbar\": {\"outlinewidth\": 0, \"ticks\": \"\"}, \"type\": \"contourcarpet\"}], \"heatmap\": [{\"colorbar\": {\"outlinewidth\": 0, \"ticks\": \"\"}, \"colorscale\": [[0.0, \"#0d0887\"], [0.1111111111111111, \"#46039f\"], [0.2222222222222222, \"#7201a8\"], [0.3333333333333333, \"#9c179e\"], [0.4444444444444444, \"#bd3786\"], [0.5555555555555556, \"#d8576b\"], [0.6666666666666666, \"#ed7953\"], [0.7777777777777778, \"#fb9f3a\"], [0.8888888888888888, \"#fdca26\"], [1.0, \"#f0f921\"]], \"type\": \"heatmap\"}], \"heatmapgl\": [{\"colorbar\": {\"outlinewidth\": 0, \"ticks\": \"\"}, \"colorscale\": [[0.0, \"#0d0887\"], [0.1111111111111111, \"#46039f\"], [0.2222222222222222, \"#7201a8\"], [0.3333333333333333, \"#9c179e\"], [0.4444444444444444, \"#bd3786\"], [0.5555555555555556, \"#d8576b\"], [0.6666666666666666, \"#ed7953\"], [0.7777777777777778, \"#fb9f3a\"], [0.8888888888888888, \"#fdca26\"], [1.0, \"#f0f921\"]], \"type\": \"heatmapgl\"}], \"histogram\": [{\"marker\": {\"colorbar\": {\"outlinewidth\": 0, \"ticks\": \"\"}}, \"type\": \"histogram\"}], \"histogram2d\": [{\"colorbar\": {\"outlinewidth\": 0, \"ticks\": \"\"}, \"colorscale\": [[0.0, \"#0d0887\"], [0.1111111111111111, \"#46039f\"], [0.2222222222222222, \"#7201a8\"], [0.3333333333333333, \"#9c179e\"], [0.4444444444444444, \"#bd3786\"], [0.5555555555555556, \"#d8576b\"], [0.6666666666666666, \"#ed7953\"], [0.7777777777777778, \"#fb9f3a\"], [0.8888888888888888, \"#fdca26\"], [1.0, \"#f0f921\"]], \"type\": \"histogram2d\"}], \"histogram2dcontour\": [{\"colorbar\": {\"outlinewidth\": 0, \"ticks\": \"\"}, \"colorscale\": [[0.0, \"#0d0887\"], [0.1111111111111111, \"#46039f\"], [0.2222222222222222, \"#7201a8\"], [0.3333333333333333, \"#9c179e\"], [0.4444444444444444, \"#bd3786\"], [0.5555555555555556, \"#d8576b\"], [0.6666666666666666, \"#ed7953\"], [0.7777777777777778, \"#fb9f3a\"], [0.8888888888888888, \"#fdca26\"], [1.0, \"#f0f921\"]], \"type\": \"histogram2dcontour\"}], \"mesh3d\": [{\"colorbar\": {\"outlinewidth\": 0, \"ticks\": \"\"}, \"type\": \"mesh3d\"}], \"parcoords\": [{\"line\": {\"colorbar\": {\"outlinewidth\": 0, \"ticks\": \"\"}}, \"type\": \"parcoords\"}], \"pie\": [{\"automargin\": true, \"type\": \"pie\"}], \"scatter\": [{\"marker\": {\"colorbar\": {\"outlinewidth\": 0, \"ticks\": \"\"}}, \"type\": \"scatter\"}], \"scatter3d\": [{\"line\": {\"colorbar\": {\"outlinewidth\": 0, \"ticks\": \"\"}}, \"marker\": {\"colorbar\": {\"outlinewidth\": 0, \"ticks\": \"\"}}, \"type\": \"scatter3d\"}], \"scattercarpet\": [{\"marker\": {\"colorbar\": {\"outlinewidth\": 0, \"ticks\": \"\"}}, \"type\": \"scattercarpet\"}], \"scattergeo\": [{\"marker\": {\"colorbar\": {\"outlinewidth\": 0, \"ticks\": \"\"}}, \"type\": \"scattergeo\"}], \"scattergl\": [{\"marker\": {\"colorbar\": {\"outlinewidth\": 0, \"ticks\": \"\"}}, \"type\": \"scattergl\"}], \"scattermapbox\": [{\"marker\": {\"colorbar\": {\"outlinewidth\": 0, \"ticks\": \"\"}}, \"type\": \"scattermapbox\"}], \"scatterpolar\": [{\"marker\": {\"colorbar\": {\"outlinewidth\": 0, \"ticks\": \"\"}}, \"type\": \"scatterpolar\"}], \"scatterpolargl\": [{\"marker\": {\"colorbar\": {\"outlinewidth\": 0, \"ticks\": \"\"}}, \"type\": \"scatterpolargl\"}], \"scatterternary\": [{\"marker\": {\"colorbar\": {\"outlinewidth\": 0, \"ticks\": \"\"}}, \"type\": \"scatterternary\"}], \"surface\": [{\"colorbar\": {\"outlinewidth\": 0, \"ticks\": \"\"}, \"colorscale\": [[0.0, \"#0d0887\"], [0.1111111111111111, \"#46039f\"], [0.2222222222222222, \"#7201a8\"], [0.3333333333333333, \"#9c179e\"], [0.4444444444444444, \"#bd3786\"], [0.5555555555555556, \"#d8576b\"], [0.6666666666666666, \"#ed7953\"], [0.7777777777777778, \"#fb9f3a\"], [0.8888888888888888, \"#fdca26\"], [1.0, \"#f0f921\"]], \"type\": \"surface\"}], \"table\": [{\"cells\": {\"fill\": {\"color\": \"#EBF0F8\"}, \"line\": {\"color\": \"white\"}}, \"header\": {\"fill\": {\"color\": \"#C8D4E3\"}, \"line\": {\"color\": \"white\"}}, \"type\": \"table\"}]}, \"layout\": {\"annotationdefaults\": {\"arrowcolor\": \"#2a3f5f\", \"arrowhead\": 0, \"arrowwidth\": 1}, \"coloraxis\": {\"colorbar\": {\"outlinewidth\": 0, \"ticks\": \"\"}}, \"colorscale\": {\"diverging\": [[0, \"#8e0152\"], [0.1, \"#c51b7d\"], [0.2, \"#de77ae\"], [0.3, \"#f1b6da\"], [0.4, \"#fde0ef\"], [0.5, \"#f7f7f7\"], [0.6, \"#e6f5d0\"], [0.7, \"#b8e186\"], [0.8, \"#7fbc41\"], [0.9, \"#4d9221\"], [1, \"#276419\"]], \"sequential\": [[0.0, \"#0d0887\"], [0.1111111111111111, \"#46039f\"], [0.2222222222222222, \"#7201a8\"], [0.3333333333333333, \"#9c179e\"], [0.4444444444444444, \"#bd3786\"], [0.5555555555555556, \"#d8576b\"], [0.6666666666666666, \"#ed7953\"], [0.7777777777777778, \"#fb9f3a\"], [0.8888888888888888, \"#fdca26\"], [1.0, \"#f0f921\"]], \"sequentialminus\": [[0.0, \"#0d0887\"], [0.1111111111111111, \"#46039f\"], [0.2222222222222222, \"#7201a8\"], [0.3333333333333333, \"#9c179e\"], [0.4444444444444444, \"#bd3786\"], [0.5555555555555556, \"#d8576b\"], [0.6666666666666666, \"#ed7953\"], [0.7777777777777778, \"#fb9f3a\"], [0.8888888888888888, \"#fdca26\"], [1.0, \"#f0f921\"]]}, \"colorway\": [\"#636efa\", \"#EF553B\", \"#00cc96\", \"#ab63fa\", \"#FFA15A\", \"#19d3f3\", \"#FF6692\", \"#B6E880\", \"#FF97FF\", \"#FECB52\"], \"font\": {\"color\": \"#2a3f5f\"}, \"geo\": {\"bgcolor\": \"white\", \"lakecolor\": \"white\", \"landcolor\": \"#E5ECF6\", \"showlakes\": true, \"showland\": true, \"subunitcolor\": \"white\"}, \"hoverlabel\": {\"align\": \"left\"}, \"hovermode\": \"closest\", \"mapbox\": {\"style\": \"light\"}, \"paper_bgcolor\": \"white\", \"plot_bgcolor\": \"#E5ECF6\", \"polar\": {\"angularaxis\": {\"gridcolor\": \"white\", \"linecolor\": \"white\", \"ticks\": \"\"}, \"bgcolor\": \"#E5ECF6\", \"radialaxis\": {\"gridcolor\": \"white\", \"linecolor\": \"white\", \"ticks\": \"\"}}, \"scene\": {\"xaxis\": {\"backgroundcolor\": \"#E5ECF6\", \"gridcolor\": \"white\", \"gridwidth\": 2, \"linecolor\": \"white\", \"showbackground\": true, \"ticks\": \"\", \"zerolinecolor\": \"white\"}, \"yaxis\": {\"backgroundcolor\": \"#E5ECF6\", \"gridcolor\": \"white\", \"gridwidth\": 2, \"linecolor\": \"white\", \"showbackground\": true, \"ticks\": \"\", \"zerolinecolor\": \"white\"}, \"zaxis\": {\"backgroundcolor\": \"#E5ECF6\", \"gridcolor\": \"white\", \"gridwidth\": 2, \"linecolor\": \"white\", \"showbackground\": true, \"ticks\": \"\", \"zerolinecolor\": \"white\"}}, \"shapedefaults\": {\"line\": {\"color\": \"#2a3f5f\"}}, \"ternary\": {\"aaxis\": {\"gridcolor\": \"white\", \"linecolor\": \"white\", \"ticks\": \"\"}, \"baxis\": {\"gridcolor\": \"white\", \"linecolor\": \"white\", \"ticks\": \"\"}, \"bgcolor\": \"#E5ECF6\", \"caxis\": {\"gridcolor\": \"white\", \"linecolor\": \"white\", \"ticks\": \"\"}}, \"title\": {\"x\": 0.05}, \"xaxis\": {\"automargin\": true, \"gridcolor\": \"white\", \"linecolor\": \"white\", \"ticks\": \"\", \"title\": {\"standoff\": 15}, \"zerolinecolor\": \"white\", \"zerolinewidth\": 2}, \"yaxis\": {\"automargin\": true, \"gridcolor\": \"white\", \"linecolor\": \"white\", \"ticks\": \"\", \"title\": {\"standoff\": 15}, \"zerolinecolor\": \"white\", \"zerolinewidth\": 2}}}},\n",
       "                        {\"responsive\": true}\n",
       "                    ).then(function(){\n",
       "                            \n",
       "var gd = document.getElementById('5e520f91-17f0-453f-82d9-059c3ddce75f');\n",
       "var x = new MutationObserver(function (mutations, observer) {{\n",
       "        var display = window.getComputedStyle(gd).display;\n",
       "        if (!display || display === 'none') {{\n",
       "            console.log([gd, 'removed!']);\n",
       "            Plotly.purge(gd);\n",
       "            observer.disconnect();\n",
       "        }}\n",
       "}});\n",
       "\n",
       "// Listen for the removal of the full notebook cells\n",
       "var notebookContainer = gd.closest('#notebook-container');\n",
       "if (notebookContainer) {{\n",
       "    x.observe(notebookContainer, {childList: true});\n",
       "}}\n",
       "\n",
       "// Listen for the clearing of the current output cell\n",
       "var outputEl = gd.closest('.output');\n",
       "if (outputEl) {{\n",
       "    x.observe(outputEl, {childList: true});\n",
       "}}\n",
       "\n",
       "                        })\n",
       "                };\n",
       "                });\n",
       "            </script>\n",
       "        </div>"
      ]
     },
     "metadata": {},
     "output_type": "display_data"
    },
    {
     "data": {
      "application/vnd.plotly.v1+json": {
       "config": {
        "plotlyServerURL": "https://plot.ly"
       },
       "data": [
        {
         "name": "Delta Position",
         "type": "scatter",
         "x": [
          0,
          0.2,
          0.4,
          0.6,
          0.8,
          1,
          1.2,
          1.4000000000000001,
          1.6,
          1.8,
          2,
          2.2,
          2.4,
          2.6,
          2.8000000000000003,
          3,
          3.2,
          3.4,
          3.6,
          3.8000000000000003,
          4,
          4.2,
          4.4,
          4.6000000000000005,
          4.8,
          5,
          5.2,
          5.4,
          5.6000000000000005,
          5.8,
          6,
          6.2,
          6.4,
          6.6000000000000005,
          6.8,
          7,
          7.2,
          7.4,
          7.6000000000000005,
          7.8,
          8,
          8.2,
          8.4,
          8.6,
          8.8,
          9,
          9.200000000000001,
          9.4,
          9.6,
          9.8,
          10,
          10.200000000000001,
          10.4,
          10.6,
          10.8,
          11,
          11.200000000000001,
          11.4,
          11.6,
          11.8,
          12,
          12.200000000000001,
          12.4,
          12.6,
          12.8,
          13,
          13.200000000000001,
          13.4,
          13.6,
          13.8,
          14,
          14.200000000000001,
          14.4,
          14.6,
          14.8,
          15,
          15.200000000000001,
          15.4,
          15.6,
          15.8,
          16,
          16.2,
          16.4,
          16.6,
          16.8,
          17,
          17.2,
          17.400000000000002,
          17.6,
          17.8,
          18,
          18.2,
          18.400000000000002,
          18.6,
          18.8,
          19,
          19.2,
          19.400000000000002,
          19.6,
          19.8,
          20,
          20.2,
          20.400000000000002,
          20.6,
          20.8,
          21,
          21.2,
          21.400000000000002,
          21.6,
          21.8,
          22,
          22.2,
          22.400000000000002,
          22.6,
          22.8,
          23,
          23.2,
          23.400000000000002,
          23.6,
          23.8,
          24,
          24.2,
          24.400000000000002,
          24.6,
          24.8,
          25,
          25.2,
          25.400000000000002,
          25.6,
          25.8,
          26,
          26.2,
          26.400000000000002,
          26.6,
          26.8,
          27,
          27.2,
          27.400000000000002,
          27.6,
          27.8,
          28,
          28.2,
          28.400000000000002,
          28.6,
          28.8,
          29,
          29.2,
          29.400000000000002,
          29.6,
          29.8,
          30
         ],
         "y": [
          0,
          -0.35859520651563453,
          -0.42780315447972883,
          -0.8513889848004064,
          -1.2997083765091992,
          -1.7052344318383983,
          -1.7820992359525027,
          -2.101346928308347,
          -2.220328920331039,
          -2.1575936401888685,
          -2.1446307053311275,
          -2.1485259218416015,
          -2.092695999423848,
          -2.1816995958056733,
          -2.653479582750303,
          -2.59991586002858,
          -2.510541297520329,
          -2.7163496244847893,
          -2.89447158235763,
          -2.888148289667562,
          -2.8665909309260003,
          -2.826739597549242,
          -2.8802620728940385,
          -3.063255124591924,
          -3.357147452408246,
          -2.8145813189655824,
          -2.8372588579649345,
          -3.1261321558449344,
          -3.0217845446008456,
          -2.7637219709111576,
          -2.8620310978223538,
          -2.820222558560008,
          -2.888288185523169,
          -2.9776181533425383,
          -3.0953835656218103,
          -3.065400464233551,
          -2.9120536604934024,
          -2.907610375338263,
          -2.777262773987084,
          -2.756562464882617,
          -2.687923430804885,
          -3.043817829678171,
          -3.13809994020743,
          -3.2133887842463045,
          -3.120032883712577,
          -2.817118539381682,
          -2.846724640563279,
          -2.712024222597449,
          -2.721995134118191,
          -2.6110623063700698,
          -2.4461128854766536,
          -2.4173475191751286,
          -2.59120474248367,
          -2.6489510525571554,
          -2.4601258194261812,
          -2.3958581121376956,
          -2.25037127022752,
          -2.3479726925502877,
          -2.1388084774715628,
          -1.923280797655274,
          -1.7083599463357961,
          -1.488960242283829,
          -1.4396904196573823,
          -1.3769300601767944,
          -1.1767249225547611,
          -1.3020655890909447,
          -1.018606513406496,
          -0.9877743469083076,
          -0.9643368434159976,
          -0.7732579309883283,
          -0.5559437665386445,
          -0.19386148912454754,
          -0.1505093182921794,
          0.013983471839699484,
          0.494303945872553,
          0.9537627798509918,
          1.134369492078413,
          1.2184918956889248,
          1.5363250766894219,
          1.686061990109935,
          1.942787605960875,
          2.14590066466033,
          2.4935723467357955,
          2.8241645712353236,
          3.393110087079617,
          3.914696652877297,
          4.521435574397243,
          4.873759487795987,
          5.503158484522816,
          5.588289279487262,
          5.810627834542739,
          6.161572699501883,
          6.2619748007517275,
          6.63401354191946,
          7.151333301733811,
          7.521688905489829,
          8.109187295970209,
          8.543703465906477,
          8.990943263715545,
          9.057768226669781,
          9.371909804906979,
          9.568666883292895,
          9.720124164130484,
          10.120277139082248,
          10.448501040849328,
          10.824591972230369,
          11.283617126028565,
          11.525771699533374,
          11.82033705422255,
          12.397369305691837,
          13.010835056690185,
          13.296593994651017,
          13.594761370779338,
          14.084963627338515,
          14.382463110888375,
          15.012616960106227,
          15.342093321629855,
          15.869611586861916,
          16.389777127068246,
          16.729817074045116,
          17.150245912525367,
          17.566066769945255,
          18.03040169421368,
          18.546956779979993,
          18.93689525965408,
          19.407896946273926,
          19.88943231161424,
          20.349252285463887,
          20.89682557514736,
          21.77035847905361,
          22.280685980238957,
          22.89270237536622,
          23.458001845713685,
          24.121793653668057,
          24.950813509432365,
          25.35271576531801,
          25.457993990003587,
          25.97052867157237,
          26.875176978660274,
          27.549399935617014,
          28.544138440412734,
          29.054186632986426,
          29.709420098031107,
          30.341071081958177,
          30.637024314803245,
          31.395800219935932,
          32.111807949539504,
          32.84890675533383,
          33.51123892320638,
          34.02841159410363,
          34.681767803243126
         ]
        }
       ],
       "layout": {
        "template": {
         "data": {
          "bar": [
           {
            "error_x": {
             "color": "#2a3f5f"
            },
            "error_y": {
             "color": "#2a3f5f"
            },
            "marker": {
             "line": {
              "color": "#E5ECF6",
              "width": 0.5
             }
            },
            "type": "bar"
           }
          ],
          "barpolar": [
           {
            "marker": {
             "line": {
              "color": "#E5ECF6",
              "width": 0.5
             }
            },
            "type": "barpolar"
           }
          ],
          "carpet": [
           {
            "aaxis": {
             "endlinecolor": "#2a3f5f",
             "gridcolor": "white",
             "linecolor": "white",
             "minorgridcolor": "white",
             "startlinecolor": "#2a3f5f"
            },
            "baxis": {
             "endlinecolor": "#2a3f5f",
             "gridcolor": "white",
             "linecolor": "white",
             "minorgridcolor": "white",
             "startlinecolor": "#2a3f5f"
            },
            "type": "carpet"
           }
          ],
          "choropleth": [
           {
            "colorbar": {
             "outlinewidth": 0,
             "ticks": ""
            },
            "type": "choropleth"
           }
          ],
          "contour": [
           {
            "colorbar": {
             "outlinewidth": 0,
             "ticks": ""
            },
            "colorscale": [
             [
              0,
              "#0d0887"
             ],
             [
              0.1111111111111111,
              "#46039f"
             ],
             [
              0.2222222222222222,
              "#7201a8"
             ],
             [
              0.3333333333333333,
              "#9c179e"
             ],
             [
              0.4444444444444444,
              "#bd3786"
             ],
             [
              0.5555555555555556,
              "#d8576b"
             ],
             [
              0.6666666666666666,
              "#ed7953"
             ],
             [
              0.7777777777777778,
              "#fb9f3a"
             ],
             [
              0.8888888888888888,
              "#fdca26"
             ],
             [
              1,
              "#f0f921"
             ]
            ],
            "type": "contour"
           }
          ],
          "contourcarpet": [
           {
            "colorbar": {
             "outlinewidth": 0,
             "ticks": ""
            },
            "type": "contourcarpet"
           }
          ],
          "heatmap": [
           {
            "colorbar": {
             "outlinewidth": 0,
             "ticks": ""
            },
            "colorscale": [
             [
              0,
              "#0d0887"
             ],
             [
              0.1111111111111111,
              "#46039f"
             ],
             [
              0.2222222222222222,
              "#7201a8"
             ],
             [
              0.3333333333333333,
              "#9c179e"
             ],
             [
              0.4444444444444444,
              "#bd3786"
             ],
             [
              0.5555555555555556,
              "#d8576b"
             ],
             [
              0.6666666666666666,
              "#ed7953"
             ],
             [
              0.7777777777777778,
              "#fb9f3a"
             ],
             [
              0.8888888888888888,
              "#fdca26"
             ],
             [
              1,
              "#f0f921"
             ]
            ],
            "type": "heatmap"
           }
          ],
          "heatmapgl": [
           {
            "colorbar": {
             "outlinewidth": 0,
             "ticks": ""
            },
            "colorscale": [
             [
              0,
              "#0d0887"
             ],
             [
              0.1111111111111111,
              "#46039f"
             ],
             [
              0.2222222222222222,
              "#7201a8"
             ],
             [
              0.3333333333333333,
              "#9c179e"
             ],
             [
              0.4444444444444444,
              "#bd3786"
             ],
             [
              0.5555555555555556,
              "#d8576b"
             ],
             [
              0.6666666666666666,
              "#ed7953"
             ],
             [
              0.7777777777777778,
              "#fb9f3a"
             ],
             [
              0.8888888888888888,
              "#fdca26"
             ],
             [
              1,
              "#f0f921"
             ]
            ],
            "type": "heatmapgl"
           }
          ],
          "histogram": [
           {
            "marker": {
             "colorbar": {
              "outlinewidth": 0,
              "ticks": ""
             }
            },
            "type": "histogram"
           }
          ],
          "histogram2d": [
           {
            "colorbar": {
             "outlinewidth": 0,
             "ticks": ""
            },
            "colorscale": [
             [
              0,
              "#0d0887"
             ],
             [
              0.1111111111111111,
              "#46039f"
             ],
             [
              0.2222222222222222,
              "#7201a8"
             ],
             [
              0.3333333333333333,
              "#9c179e"
             ],
             [
              0.4444444444444444,
              "#bd3786"
             ],
             [
              0.5555555555555556,
              "#d8576b"
             ],
             [
              0.6666666666666666,
              "#ed7953"
             ],
             [
              0.7777777777777778,
              "#fb9f3a"
             ],
             [
              0.8888888888888888,
              "#fdca26"
             ],
             [
              1,
              "#f0f921"
             ]
            ],
            "type": "histogram2d"
           }
          ],
          "histogram2dcontour": [
           {
            "colorbar": {
             "outlinewidth": 0,
             "ticks": ""
            },
            "colorscale": [
             [
              0,
              "#0d0887"
             ],
             [
              0.1111111111111111,
              "#46039f"
             ],
             [
              0.2222222222222222,
              "#7201a8"
             ],
             [
              0.3333333333333333,
              "#9c179e"
             ],
             [
              0.4444444444444444,
              "#bd3786"
             ],
             [
              0.5555555555555556,
              "#d8576b"
             ],
             [
              0.6666666666666666,
              "#ed7953"
             ],
             [
              0.7777777777777778,
              "#fb9f3a"
             ],
             [
              0.8888888888888888,
              "#fdca26"
             ],
             [
              1,
              "#f0f921"
             ]
            ],
            "type": "histogram2dcontour"
           }
          ],
          "mesh3d": [
           {
            "colorbar": {
             "outlinewidth": 0,
             "ticks": ""
            },
            "type": "mesh3d"
           }
          ],
          "parcoords": [
           {
            "line": {
             "colorbar": {
              "outlinewidth": 0,
              "ticks": ""
             }
            },
            "type": "parcoords"
           }
          ],
          "pie": [
           {
            "automargin": true,
            "type": "pie"
           }
          ],
          "scatter": [
           {
            "marker": {
             "colorbar": {
              "outlinewidth": 0,
              "ticks": ""
             }
            },
            "type": "scatter"
           }
          ],
          "scatter3d": [
           {
            "line": {
             "colorbar": {
              "outlinewidth": 0,
              "ticks": ""
             }
            },
            "marker": {
             "colorbar": {
              "outlinewidth": 0,
              "ticks": ""
             }
            },
            "type": "scatter3d"
           }
          ],
          "scattercarpet": [
           {
            "marker": {
             "colorbar": {
              "outlinewidth": 0,
              "ticks": ""
             }
            },
            "type": "scattercarpet"
           }
          ],
          "scattergeo": [
           {
            "marker": {
             "colorbar": {
              "outlinewidth": 0,
              "ticks": ""
             }
            },
            "type": "scattergeo"
           }
          ],
          "scattergl": [
           {
            "marker": {
             "colorbar": {
              "outlinewidth": 0,
              "ticks": ""
             }
            },
            "type": "scattergl"
           }
          ],
          "scattermapbox": [
           {
            "marker": {
             "colorbar": {
              "outlinewidth": 0,
              "ticks": ""
             }
            },
            "type": "scattermapbox"
           }
          ],
          "scatterpolar": [
           {
            "marker": {
             "colorbar": {
              "outlinewidth": 0,
              "ticks": ""
             }
            },
            "type": "scatterpolar"
           }
          ],
          "scatterpolargl": [
           {
            "marker": {
             "colorbar": {
              "outlinewidth": 0,
              "ticks": ""
             }
            },
            "type": "scatterpolargl"
           }
          ],
          "scatterternary": [
           {
            "marker": {
             "colorbar": {
              "outlinewidth": 0,
              "ticks": ""
             }
            },
            "type": "scatterternary"
           }
          ],
          "surface": [
           {
            "colorbar": {
             "outlinewidth": 0,
             "ticks": ""
            },
            "colorscale": [
             [
              0,
              "#0d0887"
             ],
             [
              0.1111111111111111,
              "#46039f"
             ],
             [
              0.2222222222222222,
              "#7201a8"
             ],
             [
              0.3333333333333333,
              "#9c179e"
             ],
             [
              0.4444444444444444,
              "#bd3786"
             ],
             [
              0.5555555555555556,
              "#d8576b"
             ],
             [
              0.6666666666666666,
              "#ed7953"
             ],
             [
              0.7777777777777778,
              "#fb9f3a"
             ],
             [
              0.8888888888888888,
              "#fdca26"
             ],
             [
              1,
              "#f0f921"
             ]
            ],
            "type": "surface"
           }
          ],
          "table": [
           {
            "cells": {
             "fill": {
              "color": "#EBF0F8"
             },
             "line": {
              "color": "white"
             }
            },
            "header": {
             "fill": {
              "color": "#C8D4E3"
             },
             "line": {
              "color": "white"
             }
            },
            "type": "table"
           }
          ]
         },
         "layout": {
          "annotationdefaults": {
           "arrowcolor": "#2a3f5f",
           "arrowhead": 0,
           "arrowwidth": 1
          },
          "coloraxis": {
           "colorbar": {
            "outlinewidth": 0,
            "ticks": ""
           }
          },
          "colorscale": {
           "diverging": [
            [
             0,
             "#8e0152"
            ],
            [
             0.1,
             "#c51b7d"
            ],
            [
             0.2,
             "#de77ae"
            ],
            [
             0.3,
             "#f1b6da"
            ],
            [
             0.4,
             "#fde0ef"
            ],
            [
             0.5,
             "#f7f7f7"
            ],
            [
             0.6,
             "#e6f5d0"
            ],
            [
             0.7,
             "#b8e186"
            ],
            [
             0.8,
             "#7fbc41"
            ],
            [
             0.9,
             "#4d9221"
            ],
            [
             1,
             "#276419"
            ]
           ],
           "sequential": [
            [
             0,
             "#0d0887"
            ],
            [
             0.1111111111111111,
             "#46039f"
            ],
            [
             0.2222222222222222,
             "#7201a8"
            ],
            [
             0.3333333333333333,
             "#9c179e"
            ],
            [
             0.4444444444444444,
             "#bd3786"
            ],
            [
             0.5555555555555556,
             "#d8576b"
            ],
            [
             0.6666666666666666,
             "#ed7953"
            ],
            [
             0.7777777777777778,
             "#fb9f3a"
            ],
            [
             0.8888888888888888,
             "#fdca26"
            ],
            [
             1,
             "#f0f921"
            ]
           ],
           "sequentialminus": [
            [
             0,
             "#0d0887"
            ],
            [
             0.1111111111111111,
             "#46039f"
            ],
            [
             0.2222222222222222,
             "#7201a8"
            ],
            [
             0.3333333333333333,
             "#9c179e"
            ],
            [
             0.4444444444444444,
             "#bd3786"
            ],
            [
             0.5555555555555556,
             "#d8576b"
            ],
            [
             0.6666666666666666,
             "#ed7953"
            ],
            [
             0.7777777777777778,
             "#fb9f3a"
            ],
            [
             0.8888888888888888,
             "#fdca26"
            ],
            [
             1,
             "#f0f921"
            ]
           ]
          },
          "colorway": [
           "#636efa",
           "#EF553B",
           "#00cc96",
           "#ab63fa",
           "#FFA15A",
           "#19d3f3",
           "#FF6692",
           "#B6E880",
           "#FF97FF",
           "#FECB52"
          ],
          "font": {
           "color": "#2a3f5f"
          },
          "geo": {
           "bgcolor": "white",
           "lakecolor": "white",
           "landcolor": "#E5ECF6",
           "showlakes": true,
           "showland": true,
           "subunitcolor": "white"
          },
          "hoverlabel": {
           "align": "left"
          },
          "hovermode": "closest",
          "mapbox": {
           "style": "light"
          },
          "paper_bgcolor": "white",
          "plot_bgcolor": "#E5ECF6",
          "polar": {
           "angularaxis": {
            "gridcolor": "white",
            "linecolor": "white",
            "ticks": ""
           },
           "bgcolor": "#E5ECF6",
           "radialaxis": {
            "gridcolor": "white",
            "linecolor": "white",
            "ticks": ""
           }
          },
          "scene": {
           "xaxis": {
            "backgroundcolor": "#E5ECF6",
            "gridcolor": "white",
            "gridwidth": 2,
            "linecolor": "white",
            "showbackground": true,
            "ticks": "",
            "zerolinecolor": "white"
           },
           "yaxis": {
            "backgroundcolor": "#E5ECF6",
            "gridcolor": "white",
            "gridwidth": 2,
            "linecolor": "white",
            "showbackground": true,
            "ticks": "",
            "zerolinecolor": "white"
           },
           "zaxis": {
            "backgroundcolor": "#E5ECF6",
            "gridcolor": "white",
            "gridwidth": 2,
            "linecolor": "white",
            "showbackground": true,
            "ticks": "",
            "zerolinecolor": "white"
           }
          },
          "shapedefaults": {
           "line": {
            "color": "#2a3f5f"
           }
          },
          "ternary": {
           "aaxis": {
            "gridcolor": "white",
            "linecolor": "white",
            "ticks": ""
           },
           "baxis": {
            "gridcolor": "white",
            "linecolor": "white",
            "ticks": ""
           },
           "bgcolor": "#E5ECF6",
           "caxis": {
            "gridcolor": "white",
            "linecolor": "white",
            "ticks": ""
           }
          },
          "title": {
           "x": 0.05
          },
          "xaxis": {
           "automargin": true,
           "gridcolor": "white",
           "linecolor": "white",
           "ticks": "",
           "title": {
            "standoff": 15
           },
           "zerolinecolor": "white",
           "zerolinewidth": 2
          },
          "yaxis": {
           "automargin": true,
           "gridcolor": "white",
           "linecolor": "white",
           "ticks": "",
           "title": {
            "standoff": 15
           },
           "zerolinecolor": "white",
           "zerolinewidth": 2
          }
         }
        }
       }
      },
      "text/html": [
       "<div>\n",
       "        \n",
       "        \n",
       "            <div id=\"8ba8986b-dad7-47b1-988a-a30cde2754d7\" class=\"plotly-graph-div\" style=\"height:525px; width:100%;\"></div>\n",
       "            <script type=\"text/javascript\">\n",
       "                require([\"plotly\"], function(Plotly) {\n",
       "                    window.PLOTLYENV=window.PLOTLYENV || {};\n",
       "                    \n",
       "                if (document.getElementById(\"8ba8986b-dad7-47b1-988a-a30cde2754d7\")) {\n",
       "                    Plotly.newPlot(\n",
       "                        '8ba8986b-dad7-47b1-988a-a30cde2754d7',\n",
       "                        [{\"name\": \"Delta Position\", \"type\": \"scatter\", \"x\": [0, 0.2, 0.4, 0.6, 0.8, 1.0, 1.2, 1.4000000000000001, 1.6, 1.8, 2.0, 2.2, 2.4, 2.6, 2.8000000000000003, 3.0, 3.2, 3.4, 3.6, 3.8000000000000003, 4.0, 4.2, 4.4, 4.6000000000000005, 4.8, 5.0, 5.2, 5.4, 5.6000000000000005, 5.8, 6.0, 6.2, 6.4, 6.6000000000000005, 6.8, 7.0, 7.2, 7.4, 7.6000000000000005, 7.8, 8.0, 8.2, 8.4, 8.6, 8.8, 9.0, 9.200000000000001, 9.4, 9.6, 9.8, 10.0, 10.200000000000001, 10.4, 10.6, 10.8, 11.0, 11.200000000000001, 11.4, 11.6, 11.8, 12.0, 12.200000000000001, 12.4, 12.6, 12.8, 13.0, 13.200000000000001, 13.4, 13.6, 13.8, 14.0, 14.200000000000001, 14.4, 14.6, 14.8, 15.0, 15.200000000000001, 15.4, 15.6, 15.8, 16.0, 16.2, 16.4, 16.6, 16.8, 17.0, 17.2, 17.400000000000002, 17.6, 17.8, 18.0, 18.2, 18.400000000000002, 18.6, 18.8, 19.0, 19.2, 19.400000000000002, 19.6, 19.8, 20.0, 20.2, 20.400000000000002, 20.6, 20.8, 21.0, 21.2, 21.400000000000002, 21.6, 21.8, 22.0, 22.2, 22.400000000000002, 22.6, 22.8, 23.0, 23.2, 23.400000000000002, 23.6, 23.8, 24.0, 24.2, 24.400000000000002, 24.6, 24.8, 25.0, 25.2, 25.400000000000002, 25.6, 25.8, 26.0, 26.2, 26.400000000000002, 26.6, 26.8, 27.0, 27.2, 27.400000000000002, 27.6, 27.8, 28.0, 28.2, 28.400000000000002, 28.6, 28.8, 29.0, 29.2, 29.400000000000002, 29.6, 29.8, 30.0], \"y\": [0, -0.35859520651563453, -0.42780315447972883, -0.8513889848004064, -1.2997083765091992, -1.7052344318383983, -1.7820992359525027, -2.101346928308347, -2.220328920331039, -2.1575936401888685, -2.1446307053311275, -2.1485259218416015, -2.092695999423848, -2.1816995958056733, -2.653479582750303, -2.59991586002858, -2.510541297520329, -2.7163496244847893, -2.89447158235763, -2.888148289667562, -2.8665909309260003, -2.826739597549242, -2.8802620728940385, -3.063255124591924, -3.357147452408246, -2.8145813189655824, -2.8372588579649345, -3.1261321558449344, -3.0217845446008456, -2.7637219709111576, -2.8620310978223538, -2.820222558560008, -2.888288185523169, -2.9776181533425383, -3.0953835656218103, -3.065400464233551, -2.9120536604934024, -2.907610375338263, -2.777262773987084, -2.756562464882617, -2.687923430804885, -3.043817829678171, -3.13809994020743, -3.2133887842463045, -3.120032883712577, -2.817118539381682, -2.846724640563279, -2.712024222597449, -2.721995134118191, -2.6110623063700698, -2.4461128854766536, -2.4173475191751286, -2.59120474248367, -2.6489510525571554, -2.4601258194261812, -2.3958581121376956, -2.25037127022752, -2.3479726925502877, -2.1388084774715628, -1.923280797655274, -1.7083599463357961, -1.488960242283829, -1.4396904196573823, -1.3769300601767944, -1.1767249225547611, -1.3020655890909447, -1.018606513406496, -0.9877743469083076, -0.9643368434159976, -0.7732579309883283, -0.5559437665386445, -0.19386148912454754, -0.1505093182921794, 0.013983471839699484, 0.494303945872553, 0.9537627798509918, 1.134369492078413, 1.2184918956889248, 1.5363250766894219, 1.686061990109935, 1.942787605960875, 2.14590066466033, 2.4935723467357955, 2.8241645712353236, 3.393110087079617, 3.914696652877297, 4.521435574397243, 4.873759487795987, 5.503158484522816, 5.588289279487262, 5.810627834542739, 6.161572699501883, 6.2619748007517275, 6.63401354191946, 7.151333301733811, 7.521688905489829, 8.109187295970209, 8.543703465906477, 8.990943263715545, 9.057768226669781, 9.371909804906979, 9.568666883292895, 9.720124164130484, 10.120277139082248, 10.448501040849328, 10.824591972230369, 11.283617126028565, 11.525771699533374, 11.82033705422255, 12.397369305691837, 13.010835056690185, 13.296593994651017, 13.594761370779338, 14.084963627338515, 14.382463110888375, 15.012616960106227, 15.342093321629855, 15.869611586861916, 16.389777127068246, 16.729817074045116, 17.150245912525367, 17.566066769945255, 18.03040169421368, 18.546956779979993, 18.93689525965408, 19.407896946273926, 19.88943231161424, 20.349252285463887, 20.89682557514736, 21.77035847905361, 22.280685980238957, 22.89270237536622, 23.458001845713685, 24.121793653668057, 24.950813509432365, 25.35271576531801, 25.457993990003587, 25.97052867157237, 26.875176978660274, 27.549399935617014, 28.544138440412734, 29.054186632986426, 29.709420098031107, 30.341071081958177, 30.637024314803245, 31.395800219935932, 32.111807949539504, 32.84890675533383, 33.51123892320638, 34.02841159410363, 34.681767803243126]}],\n",
       "                        {\"template\": {\"data\": {\"bar\": [{\"error_x\": {\"color\": \"#2a3f5f\"}, \"error_y\": {\"color\": \"#2a3f5f\"}, \"marker\": {\"line\": {\"color\": \"#E5ECF6\", \"width\": 0.5}}, \"type\": \"bar\"}], \"barpolar\": [{\"marker\": {\"line\": {\"color\": \"#E5ECF6\", \"width\": 0.5}}, \"type\": \"barpolar\"}], \"carpet\": [{\"aaxis\": {\"endlinecolor\": \"#2a3f5f\", \"gridcolor\": \"white\", \"linecolor\": \"white\", \"minorgridcolor\": \"white\", \"startlinecolor\": \"#2a3f5f\"}, \"baxis\": {\"endlinecolor\": \"#2a3f5f\", \"gridcolor\": \"white\", \"linecolor\": \"white\", \"minorgridcolor\": \"white\", \"startlinecolor\": \"#2a3f5f\"}, \"type\": \"carpet\"}], \"choropleth\": [{\"colorbar\": {\"outlinewidth\": 0, \"ticks\": \"\"}, \"type\": \"choropleth\"}], \"contour\": [{\"colorbar\": {\"outlinewidth\": 0, \"ticks\": \"\"}, \"colorscale\": [[0.0, \"#0d0887\"], [0.1111111111111111, \"#46039f\"], [0.2222222222222222, \"#7201a8\"], [0.3333333333333333, \"#9c179e\"], [0.4444444444444444, \"#bd3786\"], [0.5555555555555556, \"#d8576b\"], [0.6666666666666666, \"#ed7953\"], [0.7777777777777778, \"#fb9f3a\"], [0.8888888888888888, \"#fdca26\"], [1.0, \"#f0f921\"]], \"type\": \"contour\"}], \"contourcarpet\": [{\"colorbar\": {\"outlinewidth\": 0, \"ticks\": \"\"}, \"type\": \"contourcarpet\"}], \"heatmap\": [{\"colorbar\": {\"outlinewidth\": 0, \"ticks\": \"\"}, \"colorscale\": [[0.0, \"#0d0887\"], [0.1111111111111111, \"#46039f\"], [0.2222222222222222, \"#7201a8\"], [0.3333333333333333, \"#9c179e\"], [0.4444444444444444, \"#bd3786\"], [0.5555555555555556, \"#d8576b\"], [0.6666666666666666, \"#ed7953\"], [0.7777777777777778, \"#fb9f3a\"], [0.8888888888888888, \"#fdca26\"], [1.0, \"#f0f921\"]], \"type\": \"heatmap\"}], \"heatmapgl\": [{\"colorbar\": {\"outlinewidth\": 0, \"ticks\": \"\"}, \"colorscale\": [[0.0, \"#0d0887\"], [0.1111111111111111, \"#46039f\"], [0.2222222222222222, \"#7201a8\"], [0.3333333333333333, \"#9c179e\"], [0.4444444444444444, \"#bd3786\"], [0.5555555555555556, \"#d8576b\"], [0.6666666666666666, \"#ed7953\"], [0.7777777777777778, \"#fb9f3a\"], [0.8888888888888888, \"#fdca26\"], [1.0, \"#f0f921\"]], \"type\": \"heatmapgl\"}], \"histogram\": [{\"marker\": {\"colorbar\": {\"outlinewidth\": 0, \"ticks\": \"\"}}, \"type\": \"histogram\"}], \"histogram2d\": [{\"colorbar\": {\"outlinewidth\": 0, \"ticks\": \"\"}, \"colorscale\": [[0.0, \"#0d0887\"], [0.1111111111111111, \"#46039f\"], [0.2222222222222222, \"#7201a8\"], [0.3333333333333333, \"#9c179e\"], [0.4444444444444444, \"#bd3786\"], [0.5555555555555556, \"#d8576b\"], [0.6666666666666666, \"#ed7953\"], [0.7777777777777778, \"#fb9f3a\"], [0.8888888888888888, \"#fdca26\"], [1.0, \"#f0f921\"]], \"type\": \"histogram2d\"}], \"histogram2dcontour\": [{\"colorbar\": {\"outlinewidth\": 0, \"ticks\": \"\"}, \"colorscale\": [[0.0, \"#0d0887\"], [0.1111111111111111, \"#46039f\"], [0.2222222222222222, \"#7201a8\"], [0.3333333333333333, \"#9c179e\"], [0.4444444444444444, \"#bd3786\"], [0.5555555555555556, \"#d8576b\"], [0.6666666666666666, \"#ed7953\"], [0.7777777777777778, \"#fb9f3a\"], [0.8888888888888888, \"#fdca26\"], [1.0, \"#f0f921\"]], \"type\": \"histogram2dcontour\"}], \"mesh3d\": [{\"colorbar\": {\"outlinewidth\": 0, \"ticks\": \"\"}, \"type\": \"mesh3d\"}], \"parcoords\": [{\"line\": {\"colorbar\": {\"outlinewidth\": 0, \"ticks\": \"\"}}, \"type\": \"parcoords\"}], \"pie\": [{\"automargin\": true, \"type\": \"pie\"}], \"scatter\": [{\"marker\": {\"colorbar\": {\"outlinewidth\": 0, \"ticks\": \"\"}}, \"type\": \"scatter\"}], \"scatter3d\": [{\"line\": {\"colorbar\": {\"outlinewidth\": 0, \"ticks\": \"\"}}, \"marker\": {\"colorbar\": {\"outlinewidth\": 0, \"ticks\": \"\"}}, \"type\": \"scatter3d\"}], \"scattercarpet\": [{\"marker\": {\"colorbar\": {\"outlinewidth\": 0, \"ticks\": \"\"}}, \"type\": \"scattercarpet\"}], \"scattergeo\": [{\"marker\": {\"colorbar\": {\"outlinewidth\": 0, \"ticks\": \"\"}}, \"type\": \"scattergeo\"}], \"scattergl\": [{\"marker\": {\"colorbar\": {\"outlinewidth\": 0, \"ticks\": \"\"}}, \"type\": \"scattergl\"}], \"scattermapbox\": [{\"marker\": {\"colorbar\": {\"outlinewidth\": 0, \"ticks\": \"\"}}, \"type\": \"scattermapbox\"}], \"scatterpolar\": [{\"marker\": {\"colorbar\": {\"outlinewidth\": 0, \"ticks\": \"\"}}, \"type\": \"scatterpolar\"}], \"scatterpolargl\": [{\"marker\": {\"colorbar\": {\"outlinewidth\": 0, \"ticks\": \"\"}}, \"type\": \"scatterpolargl\"}], \"scatterternary\": [{\"marker\": {\"colorbar\": {\"outlinewidth\": 0, \"ticks\": \"\"}}, \"type\": \"scatterternary\"}], \"surface\": [{\"colorbar\": {\"outlinewidth\": 0, \"ticks\": \"\"}, \"colorscale\": [[0.0, \"#0d0887\"], [0.1111111111111111, \"#46039f\"], [0.2222222222222222, \"#7201a8\"], [0.3333333333333333, \"#9c179e\"], [0.4444444444444444, \"#bd3786\"], [0.5555555555555556, \"#d8576b\"], [0.6666666666666666, \"#ed7953\"], [0.7777777777777778, \"#fb9f3a\"], [0.8888888888888888, \"#fdca26\"], [1.0, \"#f0f921\"]], \"type\": \"surface\"}], \"table\": [{\"cells\": {\"fill\": {\"color\": \"#EBF0F8\"}, \"line\": {\"color\": \"white\"}}, \"header\": {\"fill\": {\"color\": \"#C8D4E3\"}, \"line\": {\"color\": \"white\"}}, \"type\": \"table\"}]}, \"layout\": {\"annotationdefaults\": {\"arrowcolor\": \"#2a3f5f\", \"arrowhead\": 0, \"arrowwidth\": 1}, \"coloraxis\": {\"colorbar\": {\"outlinewidth\": 0, \"ticks\": \"\"}}, \"colorscale\": {\"diverging\": [[0, \"#8e0152\"], [0.1, \"#c51b7d\"], [0.2, \"#de77ae\"], [0.3, \"#f1b6da\"], [0.4, \"#fde0ef\"], [0.5, \"#f7f7f7\"], [0.6, \"#e6f5d0\"], [0.7, \"#b8e186\"], [0.8, \"#7fbc41\"], [0.9, \"#4d9221\"], [1, \"#276419\"]], \"sequential\": [[0.0, \"#0d0887\"], [0.1111111111111111, \"#46039f\"], [0.2222222222222222, \"#7201a8\"], [0.3333333333333333, \"#9c179e\"], [0.4444444444444444, \"#bd3786\"], [0.5555555555555556, \"#d8576b\"], [0.6666666666666666, \"#ed7953\"], [0.7777777777777778, \"#fb9f3a\"], [0.8888888888888888, \"#fdca26\"], [1.0, \"#f0f921\"]], \"sequentialminus\": [[0.0, \"#0d0887\"], [0.1111111111111111, \"#46039f\"], [0.2222222222222222, \"#7201a8\"], [0.3333333333333333, \"#9c179e\"], [0.4444444444444444, \"#bd3786\"], [0.5555555555555556, \"#d8576b\"], [0.6666666666666666, \"#ed7953\"], [0.7777777777777778, \"#fb9f3a\"], [0.8888888888888888, \"#fdca26\"], [1.0, \"#f0f921\"]]}, \"colorway\": [\"#636efa\", \"#EF553B\", \"#00cc96\", \"#ab63fa\", \"#FFA15A\", \"#19d3f3\", \"#FF6692\", \"#B6E880\", \"#FF97FF\", \"#FECB52\"], \"font\": {\"color\": \"#2a3f5f\"}, \"geo\": {\"bgcolor\": \"white\", \"lakecolor\": \"white\", \"landcolor\": \"#E5ECF6\", \"showlakes\": true, \"showland\": true, \"subunitcolor\": \"white\"}, \"hoverlabel\": {\"align\": \"left\"}, \"hovermode\": \"closest\", \"mapbox\": {\"style\": \"light\"}, \"paper_bgcolor\": \"white\", \"plot_bgcolor\": \"#E5ECF6\", \"polar\": {\"angularaxis\": {\"gridcolor\": \"white\", \"linecolor\": \"white\", \"ticks\": \"\"}, \"bgcolor\": \"#E5ECF6\", \"radialaxis\": {\"gridcolor\": \"white\", \"linecolor\": \"white\", \"ticks\": \"\"}}, \"scene\": {\"xaxis\": {\"backgroundcolor\": \"#E5ECF6\", \"gridcolor\": \"white\", \"gridwidth\": 2, \"linecolor\": \"white\", \"showbackground\": true, \"ticks\": \"\", \"zerolinecolor\": \"white\"}, \"yaxis\": {\"backgroundcolor\": \"#E5ECF6\", \"gridcolor\": \"white\", \"gridwidth\": 2, \"linecolor\": \"white\", \"showbackground\": true, \"ticks\": \"\", \"zerolinecolor\": \"white\"}, \"zaxis\": {\"backgroundcolor\": \"#E5ECF6\", \"gridcolor\": \"white\", \"gridwidth\": 2, \"linecolor\": \"white\", \"showbackground\": true, \"ticks\": \"\", \"zerolinecolor\": \"white\"}}, \"shapedefaults\": {\"line\": {\"color\": \"#2a3f5f\"}}, \"ternary\": {\"aaxis\": {\"gridcolor\": \"white\", \"linecolor\": \"white\", \"ticks\": \"\"}, \"baxis\": {\"gridcolor\": \"white\", \"linecolor\": \"white\", \"ticks\": \"\"}, \"bgcolor\": \"#E5ECF6\", \"caxis\": {\"gridcolor\": \"white\", \"linecolor\": \"white\", \"ticks\": \"\"}}, \"title\": {\"x\": 0.05}, \"xaxis\": {\"automargin\": true, \"gridcolor\": \"white\", \"linecolor\": \"white\", \"ticks\": \"\", \"title\": {\"standoff\": 15}, \"zerolinecolor\": \"white\", \"zerolinewidth\": 2}, \"yaxis\": {\"automargin\": true, \"gridcolor\": \"white\", \"linecolor\": \"white\", \"ticks\": \"\", \"title\": {\"standoff\": 15}, \"zerolinecolor\": \"white\", \"zerolinewidth\": 2}}}},\n",
       "                        {\"responsive\": true}\n",
       "                    ).then(function(){\n",
       "                            \n",
       "var gd = document.getElementById('8ba8986b-dad7-47b1-988a-a30cde2754d7');\n",
       "var x = new MutationObserver(function (mutations, observer) {{\n",
       "        var display = window.getComputedStyle(gd).display;\n",
       "        if (!display || display === 'none') {{\n",
       "            console.log([gd, 'removed!']);\n",
       "            Plotly.purge(gd);\n",
       "            observer.disconnect();\n",
       "        }}\n",
       "}});\n",
       "\n",
       "// Listen for the removal of the full notebook cells\n",
       "var notebookContainer = gd.closest('#notebook-container');\n",
       "if (notebookContainer) {{\n",
       "    x.observe(notebookContainer, {childList: true});\n",
       "}}\n",
       "\n",
       "// Listen for the clearing of the current output cell\n",
       "var outputEl = gd.closest('.output');\n",
       "if (outputEl) {{\n",
       "    x.observe(outputEl, {childList: true});\n",
       "}}\n",
       "\n",
       "                        })\n",
       "                };\n",
       "                });\n",
       "            </script>\n",
       "        </div>"
      ]
     },
     "metadata": {},
     "output_type": "display_data"
    }
   ],
   "source": [
    "b_true, dxlist, plist, pclist, vlist, vclist, tlist = monte_carlo_run()\n",
    "# print(b_true)\n",
    "# print(tlist)\n",
    "y = [dxlist[i][2,0] for i in range(len(dxlist))]\n",
    "dp = [dxlist[i][0,0] for i in range(len(dxlist))]\n",
    "dv = [dxlist[i][1,0] for i in range(len(dxlist))]\n",
    "# print(y)\n",
    "fig = go.Figure()\n",
    "fig.add_trace(go.Scatter(x=tlist, y=y, name=\"Estimated bias\"))\n",
    "fig.add_trace(go.Scatter(x=tlist, y=[b_true for i in range(len(dxlist))], name=\"True bias\"))\n",
    "fig.show()\n",
    "fig2 = go.Figure()\n",
    "fig2.add_trace(go.Scatter(x=tlist, y=dp, name=\"Delta Position\"))\n",
    "# fig2.add_trace(go.Scatter(x=tlist, y=plist, name=\"True Position\"))\n",
    "# fig2.add_trace(go.Scatter(x=tlist, y=plist, name=\"True Position\"))\n",
    "# fig2.add_trace(go.Scatter(x=tlist, y=pclist, name=\"Computed Position\"))\n",
    "fig2.show()"
   ]
  },
  {
   "cell_type": "code",
   "execution_count": 167,
   "metadata": {},
   "outputs": [
    {
     "data": {
      "text/plain": [
       "0.02"
      ]
     },
     "execution_count": 167,
     "metadata": {},
     "output_type": "execute_result"
    }
   ],
   "source": [
    "w_std"
   ]
  },
  {
   "cell_type": "code",
   "execution_count": 239,
   "metadata": {},
   "outputs": [
    {
     "data": {
      "text/plain": [
       "array([[ 1.10048246e-02,  3.33380840e-02],\n",
       "       [ 3.30985730e-04,  2.20212271e-03],\n",
       "       [-2.48660161e-08, -1.65439214e-07]])"
      ]
     },
     "execution_count": 239,
     "metadata": {},
     "output_type": "execute_result"
    }
   ],
   "source": [
    "Ks[-1]"
   ]
  },
  {
   "cell_type": "code",
   "execution_count": null,
   "metadata": {},
   "outputs": [],
   "source": []
  }
 ],
 "metadata": {
  "kernelspec": {
   "display_name": "Python 3",
   "language": "python",
   "name": "python3"
  },
  "language_info": {
   "codemirror_mode": {
    "name": "ipython",
    "version": 3
   },
   "file_extension": ".py",
   "mimetype": "text/x-python",
   "name": "python",
   "nbconvert_exporter": "python",
   "pygments_lexer": "ipython3",
   "version": "3.6.8"
  }
 },
 "nbformat": 4,
 "nbformat_minor": 4
}
