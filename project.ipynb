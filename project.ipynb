{
 "cells": [
  {
   "cell_type": "code",
   "execution_count": 1,
   "metadata": {},
   "outputs": [
    {
     "data": {
      "text/html": [
       "        <script type=\"text/javascript\">\n",
       "        window.PlotlyConfig = {MathJaxConfig: 'local'};\n",
       "        if (window.MathJax) {MathJax.Hub.Config({SVG: {font: \"STIX-Web\"}});}\n",
       "        if (typeof require !== 'undefined') {\n",
       "        require.undef(\"plotly\");\n",
       "        requirejs.config({\n",
       "            paths: {\n",
       "                'plotly': ['https://cdn.plot.ly/plotly-latest.min']\n",
       "            }\n",
       "        });\n",
       "        require(['plotly'], function(Plotly) {\n",
       "            window._Plotly = Plotly;\n",
       "        });\n",
       "        }\n",
       "        </script>\n",
       "        "
      ]
     },
     "metadata": {},
     "output_type": "display_data"
    }
   ],
   "source": [
    "import numpy as np\n",
    "import plotly.graph_objects as go\n",
    "import plotly.io as pio\n",
    "pio.renderers.default='notebook'\n",
    "from plotly.offline import download_plotlyjs, init_notebook_mode, plot, iplot\n",
    "init_notebook_mode(connected=True)\n",
    "import plotly.figure_factory as ff\n",
    "import sys"
   ]
  },
  {
   "cell_type": "code",
   "execution_count": 2,
   "metadata": {},
   "outputs": [],
   "source": [
    "freq = 200.0 # Hz, the accelerometer frequency\n",
    "dt = 1.0/freq\n",
    "dt_kf = dt*40\n",
    "acc_steps = int(freq*30+1)\n",
    "kf_freq = 1.0/dt_kf\n",
    "kf_steps = int(kf_freq*30+1)\n",
    "t_acc = np.linspace(0.0, 30.0, acc_steps) # acceleration time vector with dt = 0.02 sec\n",
    "t_kf = np.linspace(0.0, 30.0, kf_steps) # acceleration time vector with dt = 0.02 sec\n",
    "omega = 0.1 #rad/sec\n",
    "a = 10\n",
    "a_truth = [a * np.sin(omega*t_acc[i]) for i in range(t_acc.shape[0])] # uncorrupted true acceleration values\n"
   ]
  },
  {
   "cell_type": "code",
   "execution_count": 3,
   "metadata": {},
   "outputs": [
    {
     "name": "stdout",
     "output_type": "stream",
     "text": [
      "Phi\n",
      " [[ 1.    0.2  -0.02]\n",
      " [ 0.    1.   -0.2 ]\n",
      " [ 0.    0.    1.  ]]\n",
      "Gamma\n",
      " [[-0.02]\n",
      " [-0.2 ]\n",
      " [ 0.  ]]\n",
      "Process noise\n",
      " 0.0004\n",
      "H matrix\n",
      " [[1 0 0]\n",
      " [0 1 0]]\n",
      "Sensor Noise\n",
      " [[1.     0.    ]\n",
      " [0.     0.0016]]\n",
      "P0\n",
      " [[1.e+02 0.e+00 0.e+00]\n",
      " [0.e+00 1.e+00 0.e+00]\n",
      " [0.e+00 0.e+00 1.e-02]]\n",
      "b0 std\n",
      " 0.1\n"
     ]
    }
   ],
   "source": [
    "##### System definition #####\n",
    "# state transition matrix\n",
    "Phi = np.array([\n",
    "    [1, dt_kf, -dt_kf**2/2],\n",
    "    [0, 1, -dt_kf],\n",
    "    [0, 0, 1]\n",
    "])\n",
    "\n",
    "# Gamma (B) matrix\n",
    "Gamma = np.array([\n",
    "    [-dt_kf**2/2],\n",
    "    [-dt_kf],\n",
    "    [0]\n",
    "])\n",
    "\n",
    "# The process noise variance of the accelerometer with additive white Gaussian noise and zero mean:\n",
    "w_var = 0.0004 #(meters/sec^2)^2\n",
    "w_std = np.sqrt(w_var)\n",
    "w_mean = 0\n",
    "W = w_var\n",
    "\n",
    "# H matrix used in z = Hx + eta\n",
    "H = np.array([\n",
    "    [1, 0, 0],\n",
    "    [0, 1, 0]\n",
    "])\n",
    "\n",
    "# measurement noise mean and variance\n",
    "etabar = np.zeros((2,1))\n",
    "etastd = np.array([[1, 0],[0, 0.04]]) # in units of meter^2 and (meters/sec)^2\n",
    "etavar = np.dot(etastd, etastd)\n",
    "\n",
    "##### Mean and variance to use for initializing the Monte Carlo sim #####\n",
    "# The bias mean and std to draw from\n",
    "bbar_a = 0\n",
    "b_var = 0.01 # (meters/sec^2)^2\n",
    "b0_std = np.sqrt(b_var)\n",
    "\n",
    "# The mean, std, and variance of the initial position to draw from\n",
    "Mp_0 = 10**2 # meters^2\n",
    "p0_std = np.sqrt(Mp_0) # meters, the standard deviation\n",
    "pbar_0 = 0\n",
    "\n",
    "# The mean, std, and variance of the initial velocity to draw from\n",
    "Mv_0 = 1 # (meters/sec)^2\n",
    "v0_std = np.sqrt(Mv_0) # meters/sec\n",
    "vbar_0 = 100 # m/s\n",
    "\n",
    "\n",
    "\n",
    "##### Initial values for KF algo #####\n",
    "# initial covariance matrix\n",
    "P0 = np.array([\n",
    "    [Mp_0, 0, 0],\n",
    "    [0, Mv_0, 0],\n",
    "    [0, 0, b_var]\n",
    "])\n",
    "\n",
    "# initial position, velocity, bias guesses\n",
    "vc_0 = vbar_0\n",
    "pc_0 = pbar_0\n",
    "ba_0 = 0\n",
    "\n",
    "\n",
    "\n",
    "print(\"Phi\\n\", Phi)\n",
    "print(\"Gamma\\n\", Gamma)\n",
    "print(\"Process noise\\n\", w_var)\n",
    "print(\"H matrix\\n\", H)\n",
    "print(\"Sensor Noise\\n\", etavar)\n",
    "print(\"P0\\n\", P0)\n",
    "print(\"b0 std\\n\", b0_std)\n"
   ]
  },
  {
   "cell_type": "markdown",
   "metadata": {},
   "source": [
    "# The Kalman Filter Algorithm"
   ]
  },
  {
   "cell_type": "code",
   "execution_count": 4,
   "metadata": {
    "scrolled": true
   },
   "outputs": [
    {
     "name": "stdout",
     "output_type": "stream",
     "text": [
      "Converged in  37668  iterations\n",
      "K\n",
      "[[ 7.92042100e-03  1.75727322e-01]\n",
      " [ 2.81163715e-04  9.48738003e-02]\n",
      " [-3.73316458e-08 -1.25969139e-05]]\n",
      "Mk\n",
      "[[ 8.03912007e-03  3.13132051e-04 -4.15762569e-08]\n",
      " [ 3.13132051e-04  1.67806569e-04 -2.22805969e-08]\n",
      " [-4.15762569e-08 -2.22805969e-08  1.06249963e-08]]\n",
      "Pk\n",
      "[[ 7.92042100e-03  2.81163715e-04 -3.73316458e-08]\n",
      " [ 2.81163715e-04  1.51798080e-04 -2.01550623e-08]\n",
      " [-3.73316458e-08 -2.01550623e-08  1.06247141e-08]]\n"
     ]
    }
   ],
   "source": [
    "Mk = np.dot(Phi, np.dot(P0, np.transpose(Phi))) + np.dot(Gamma, np.dot(W, np.transpose(Gamma)))\n",
    "Pk = np.linalg.inv(np.linalg.inv(Mk) + np.dot(np.transpose(H), np.dot(np.linalg.inv(etavar), H)))\n",
    "# ikh = np.eye(3) - np.dot(Kk, H)\n",
    "# Pk = np.dot(ikh, np.dot(Mk, np.transpose(ikh))) + np.dot(Kk, np.dot(etavar, np.transpose(Kk)))\n",
    "Kk = np.dot(Pk, np.dot(np.transpose(H), np.linalg.inv(etavar)))\n",
    "count = 1\n",
    "counts = [count]\n",
    "Ks = [Kk]\n",
    "Ms = [Mk]\n",
    "Ps = [Pk]\n",
    "\n",
    "while count < 2 or not np.allclose(Ks[-2], Ks[-1], rtol=1.0e-09, atol=1e-09):\n",
    "    Mk = np.dot(Phi, np.dot(Pk, np.transpose(Phi))) + np.dot(Gamma, np.dot(W, np.transpose(Gamma)))\n",
    "    Pk = np.linalg.inv(np.linalg.inv(Mk) + np.dot(np.transpose(H), np.dot(np.linalg.inv(etavar), H)))\n",
    "#     ikh = np.eye(3) - np.dot(Kk, H)\n",
    "#     Pk = np.dot(ikh, np.dot(Mk, np.transpose(ikh))) + np.dot(Kk, np.dot(etavar, np.transpose(Kk)))\n",
    "    Kk = np.dot(Pk, np.dot(np.transpose(H), np.linalg.inv(etavar)))\n",
    "    count+=1\n",
    "#     sys.stdout.write(\"\\rCount %i\" % count)\n",
    "#     sys.stdout.write(\"K00 %f\" %Kk[0,0])\n",
    "#     sys.stdout.write(\"\\rK01 %f\" %Kk[0,1])\n",
    "#     sys.stdout.write(\"\\rK10 %f\" %Kk[1,0])\n",
    "#     sys.stdout.write(\"\\rK11 %f\" %Kk[1,1])\n",
    "#     sys.stdout.write(\"\\rK20 %f\" %Kk[2,0])\n",
    "#     sys.stdout.write(\"\\rK21 %f\" %Kk[2,1])\n",
    "#     sys.stdout.flush()\n",
    "    counts.append(count)\n",
    "    Ks.append(Kk.copy())\n",
    "    Ms.append(Mk.copy())\n",
    "    Ps.append(Pk.copy())\n",
    "print(\"Converged in \", count, \" iterations\")\n",
    "print(\"K\")\n",
    "print(Ks[-1])\n",
    "print(\"Mk\")\n",
    "print(Ms[-1])\n",
    "print(\"Pk\")\n",
    "print(Ps[-1])"
   ]
  },
  {
   "cell_type": "code",
   "execution_count": 5,
   "metadata": {},
   "outputs": [
    {
     "name": "stdout",
     "output_type": "stream",
     "text": [
      "[[ 2.49414618e-01  9.17395446e-02]\n",
      " [ 1.46783271e-04  5.02695426e-01]\n",
      " [-8.72435431e-05 -8.26986168e-01]]\n",
      "[[ 1.19052394e-02  1.85262764e-01]\n",
      " [ 2.96420423e-04  1.05992270e-01]\n",
      " [-1.47853386e-05 -5.85546685e-03]]\n",
      "[[ 7.92042135e-03  1.75727438e-01]\n",
      " [ 2.81163901e-04  9.48738633e-02]\n",
      " [-3.74300725e-08 -1.26301263e-05]]\n"
     ]
    }
   ],
   "source": [
    "print(Ks[3])\n",
    "print(Ks[100])\n",
    "print(Ks[-100])"
   ]
  },
  {
   "cell_type": "markdown",
   "metadata": {},
   "source": [
    "count:  2181100\n",
    "K\n",
    "[[ 7.92042100e-03  1.75727322e-01]\n",
    " [ 2.81163715e-04  9.48738003e-02]\n",
    " [-3.73316458e-08 -1.25969139e-05]]\n",
    "Mk\n",
    "[[ 8.03912007e-03  3.13132051e-04 -4.15762569e-08]\n",
    " [ 3.13132051e-04  1.67806569e-04 -2.22805969e-08]\n",
    " [-4.15762569e-08 -2.22805969e-08  1.06249963e-08]]\n",
    "Pk\n",
    "[[ 7.92042100e-03  2.81163715e-04 -3.73316458e-08]\n",
    " [ 2.81163715e-04  1.51798080e-04 -2.01550623e-08]\n",
    " [-3.73316458e-08 -2.01550623e-08  1.06247141e-08]]"
   ]
  },
  {
   "cell_type": "markdown",
   "metadata": {},
   "source": [
    "# The Monte Carlo Simulation"
   ]
  },
  {
   "cell_type": "code",
   "execution_count": 6,
   "metadata": {},
   "outputs": [],
   "source": [
    "def monte_carlo_run(verbose = False):\n",
    "    # Phi, Gamma, W, Etavar, P0, H are already defined\n",
    "    \n",
    "    # initialize the true position, velocity, and bias for this Monte Carlo run\n",
    "    p_0_true = np.random.normal(pbar_0, p0_std)\n",
    "    v_0_true = np.random.normal(vbar_0, v0_std)\n",
    "    b_a_true = np.random.normal(bbar_a, b0_std)\n",
    "    if verbose == True:\n",
    "        print(\"p0\\n\", p_0_true)\n",
    "        print(\"v0\\n\", v_0_true)\n",
    "        print(\"b0\\n\", b_a_true)\n",
    "    \n",
    "    # initialize the belief values for the position, velocity, bias, and state vector\n",
    "    pc_now = pbar_0\n",
    "    vc_now = vbar_0\n",
    "    \n",
    "    # variables to hold the true position and velocity\n",
    "    ptrue_now = p_0_true\n",
    "    vtrue_now = v_0_true\n",
    "    \n",
    "    ##### A PRIORI #####\n",
    "    # dxhat_0\n",
    "    dxhat = np.array([\n",
    "    [0],\n",
    "    [0],\n",
    "    [0]])\n",
    "    \n",
    "    # P0\n",
    "    Pk = np.copy(P0) # this is basically Mk\n",
    "    if verbose == True:\n",
    "        print(\"Pk\\n\", Pk)\n",
    "    \n",
    "    ##### A POSTERIORI #####\n",
    "    # simulate GPS measurement\n",
    "    eta_i = np.random.normal(etabar, etastd) # noise on the GPS\n",
    "    vgps_i = vtrue_now + eta_i[0,0]\n",
    "    pgps_i = ptrue_now + eta_i[1,1]\n",
    "    \n",
    "    \n",
    "    # initialize Kalman gain\n",
    "    invterm = np.linalg.inv(np.dot(H, np.dot(P0, np.transpose(H)))+ etavar)\n",
    "    K = np.dot(P0, np.dot(np.transpose(H), invterm))\n",
    "    if verbose == True:\n",
    "        print(\"K\\n\", K)\n",
    "    \n",
    "    # update the intial belief using the gps measurement\n",
    "    z = np.array([\n",
    "        [pgps_i-pc_now],\n",
    "        [vgps_i-vc_now]\n",
    "    ])\n",
    "    residual = z - np.dot(H, dxhat)\n",
    "    dxhat = dxhat + np.dot(K, residual)\n",
    "    \n",
    "    # update Pk\n",
    "    ikh = np.eye(3) - np.dot(K, H)\n",
    "    Pk = np.dot(ikh, np.dot(P0, np.transpose(ikh))) + np.dot(K, np.dot(etavar, np.transpose(K)))\n",
    "    \n",
    "    # record time-series data for plotting\n",
    "    dxlist = [dxhat]\n",
    "    dxtruelist = [np.array([[p_0_true - pc_now], [v_0_true - vc_now], [b_a_true]])]\n",
    "    ptruelist = [p_0_true] # true position at each dt_kf\n",
    "    vtruelist = [v_0_true] # true velocity at each dt_kf\n",
    "    pclist = [pc_now] # computed position at each dt_kf\n",
    "    vclist = [vc_now] # computed position at each dt_kf\n",
    "    Pklist = [np.copy(Pk)]\n",
    "    Klist = [np.copy(K)]\n",
    "    residuals = [residual]\n",
    "\n",
    "    \n",
    "    # run the MC through the time vector\n",
    "    for i  in range(1, t_acc.shape[0]):\n",
    "        if i % 40 == 0:\n",
    "            pc_now, vc_now, ptrue_now, vtrue_now, dxhat, Pk, K, res = gps_timestep(i, b_a_true, pc_now, vc_now, ptrue_now, vtrue_now, dxhat, Pk, K)\n",
    "            dxlist.append(dxhat.copy())\n",
    "            dxtruelist.append(np.array([[ptrue_now - pc_now], [vtrue_now - vc_now], [b_a_true]]))\n",
    "            ptruelist.append(ptrue_now)\n",
    "            vtruelist.append(vtrue_now)\n",
    "            pclist.append(pc_now)\n",
    "            vclist.append(vc_now)\n",
    "            Pklist.append(np.copy(Pk))\n",
    "            Klist.append(np.copy(K))\n",
    "            residuals.append(np.copy(res))\n",
    "        else:\n",
    "            pc_now, vc_now, ptrue_now, vtrue_now = acc_timestep(i, b_a_true, pc_now, vc_now, ptrue_now, vtrue_now, dxhat[2,0])\n",
    "    \n",
    "    return pclist, vclist, ptruelist, vtruelist, b_a_true, dxlist, Pklist, Klist, residuals, dxtruelist\n",
    "\n",
    "def gps_timestep(j, ba_true, pc_prev, vc_prev, ptrue_prev, vtrue_prev, dxhat_i, Pk_prev, K):\n",
    "    # Generates the ith timestep computations of the KF update given both GPS and accelerometer updates\n",
    "    # i: an int representing the time vec to index into the true acceleration vector, a_truth\n",
    "    # ba_true: the true bias (a float) for this MC run to be used in the calculation of the noisy accelerometer reading\n",
    "    # pc_prev: a float representing pc at timestep i-1\n",
    "    # vc_prev: a float representing vc at timestep i-1\n",
    "    \n",
    "    ##### A PRIORI #####\n",
    "    xbar_next = np.dot(Phi, dxhat_i)\n",
    "    Mk_next = np.dot(Phi, np.dot(Pk_prev, np.transpose(Phi))) + np.dot(Gamma, np.dot(W, np.transpose(Gamma)))\n",
    "    \n",
    "    ##### A POSTERIORI #####\n",
    "    # update the gain matrix K\n",
    "    invterm = np.linalg.inv(np.dot(H, np.dot(Mk_next, np.transpose(H)))+ etavar)\n",
    "    K = np.dot(Mk_next, np.dot(np.transpose(H), invterm))\n",
    "    \n",
    "    # calculate the true position and velocity\n",
    "    # generate an accelerometer reading and computed position & velocity update and true position and velocity\n",
    "    pc_i, vc_i, ptrue_i, vtrue_i = acc_timestep(j, ba_true, pc_prev, vc_prev, ptrue_prev, vtrue_prev, dxhat_i[2,0])\n",
    "    \n",
    "    # generate a noisy GPS measurement for this timestep, i\n",
    "    eta_i = np.random.normal(etabar, etastd) # noise on the GPS\n",
    "    pgps_i = ptrue_i + eta_i[0,0]\n",
    "    vgps_i = vtrue_i + eta_i[1,1]\n",
    "\n",
    "    # create the measurement vector\n",
    "    zk = np.array([\n",
    "        [pgps_i - pc_i],\n",
    "        [vgps_i - vc_i]\n",
    "    ])\n",
    "    \n",
    "    # calculate the residual\n",
    "    residual = zk - np.dot(H, xbar_next)\n",
    "#     print(\"residual\\n\", residual)\n",
    "    \n",
    "    # update the state estimate\n",
    "    dxhat = xbar_next + np.dot(K, residual)\n",
    "    \n",
    "    # update Pk\n",
    "#     ikh = np.eye(3) - np.dot(K, H)\n",
    "#     Pk_new = np.dot(ikh, np.dot(Mk_next, np.transpose(ikh))) + np.dot(K, np.dot(etavar, np.transpose(K)))\n",
    "    hvh = np.dot(np.transpose(H), np.dot(np.linalg.inv(etavar), H))\n",
    "    Pk_new = np.linalg.inv(np.linalg.inv(Mk_next) + hvh)\n",
    "    \n",
    "    return pc_i, vc_i, ptrue_i, vtrue_i, dxhat, Pk_new, K, residual\n",
    "\n",
    "def acc_timestep(j, ba_true, pc_prev, vc_prev, ptrue_prev, vtrue_prev, b_est):\n",
    "    # Generates the ith timestep computations of position and velocity, pc and vc\n",
    "    # by sampling an accelerometer reading around the true value for this Monte Carlo run\n",
    "    # i: an int representing the time vec to index into the true acceleration vector, a_truth\n",
    "    # ba_true: the true bias (a float) for this MC run to be used in the calculation of the noisy accelerometer reading\n",
    "    # pc_prev: a float representing pc at timestep i-1\n",
    "    # vc_prev: a float representing vc at timestep i-1\n",
    "    \n",
    "    # draw a noise value for the accelerometer\n",
    "    w_t = np.random.normal(w_mean, w_std)\n",
    "    \n",
    "    # gather an accelerometer measurement for this timestep\n",
    "    ac_prev = a_truth[j-1] + ba_true + w_t #- b_est\n",
    "    \n",
    "    # integrate the accelerometer measurment by the euler formula\n",
    "    vc_i = vc_prev + ac_prev * dt\n",
    "    pc_i = pc_prev + vc_prev * dt + ac_prev * dt**2/2\n",
    "    \n",
    "    # integrate the true acceleration by the euler formula\n",
    "    vtrue_i = vtrue_prev + a_truth[j-1] * dt\n",
    "    ptrue_i = ptrue_prev + vtrue_prev * dt + a_truth[j-1] * dt**2/2\n",
    "    \n",
    "    return pc_i, vc_i, ptrue_i, vtrue_i\n",
    "    "
   ]
  },
  {
   "cell_type": "code",
   "execution_count": 165,
   "metadata": {
    "scrolled": false
   },
   "outputs": [
    {
     "name": "stdout",
     "output_type": "stream",
     "text": [
      "p0\n",
      " -9.3017935862743\n",
      "v0\n",
      " 100.52303329849963\n",
      "b0\n",
      " 0.16476564292292006\n",
      "Pk\n",
      " [[1.e+02 0.e+00 0.e+00]\n",
      " [0.e+00 1.e+00 0.e+00]\n",
      " [0.e+00 0.e+00 1.e-02]]\n",
      "K\n",
      " [[0.99009901 0.        ]\n",
      " [0.         0.99840256]\n",
      " [0.         0.        ]]\n"
     ]
    },
    {
     "data": {
      "application/vnd.plotly.v1+json": {
       "config": {
        "plotlyServerURL": "https://plot.ly"
       },
       "data": [
        {
         "name": "Estimated bias",
         "type": "scatter",
         "x": [
          0,
          0.2,
          0.4,
          0.6000000000000001,
          0.8,
          1,
          1.2000000000000002,
          1.4000000000000001,
          1.6,
          1.8,
          2,
          2.2,
          2.4000000000000004,
          2.6,
          2.8000000000000003,
          3,
          3.2,
          3.4000000000000004,
          3.6,
          3.8000000000000003,
          4,
          4.2,
          4.4,
          4.6000000000000005,
          4.800000000000001,
          5,
          5.2,
          5.4,
          5.6000000000000005,
          5.800000000000001,
          6,
          6.2,
          6.4,
          6.6000000000000005,
          6.800000000000001,
          7,
          7.2,
          7.4,
          7.6000000000000005,
          7.800000000000001,
          8,
          8.200000000000001,
          8.4,
          8.6,
          8.8,
          9,
          9.200000000000001,
          9.4,
          9.600000000000001,
          9.8,
          10,
          10.200000000000001,
          10.4,
          10.600000000000001,
          10.8,
          11,
          11.200000000000001,
          11.4,
          11.600000000000001,
          11.8,
          12,
          12.200000000000001,
          12.4,
          12.600000000000001,
          12.8,
          13,
          13.200000000000001,
          13.4,
          13.600000000000001,
          13.8,
          14,
          14.200000000000001,
          14.4,
          14.600000000000001,
          14.8,
          15,
          15.200000000000001,
          15.4,
          15.600000000000001,
          15.8,
          16,
          16.2,
          16.400000000000002,
          16.6,
          16.8,
          17,
          17.2,
          17.400000000000002,
          17.6,
          17.8,
          18,
          18.2,
          18.400000000000002,
          18.6,
          18.8,
          19,
          19.200000000000003,
          19.400000000000002,
          19.6,
          19.8,
          20,
          20.200000000000003,
          20.400000000000002,
          20.6,
          20.8,
          21,
          21.200000000000003,
          21.400000000000002,
          21.6,
          21.8,
          22,
          22.200000000000003,
          22.400000000000002,
          22.6,
          22.8,
          23,
          23.200000000000003,
          23.400000000000002,
          23.6,
          23.8,
          24,
          24.200000000000003,
          24.400000000000002,
          24.6,
          24.8,
          25,
          25.200000000000003,
          25.400000000000002,
          25.6,
          25.8,
          26,
          26.200000000000003,
          26.400000000000002,
          26.6,
          26.8,
          27,
          27.200000000000003,
          27.400000000000002,
          27.6,
          27.8,
          28,
          28.200000000000003,
          28.400000000000002,
          28.6,
          28.8,
          29,
          29.200000000000003,
          29.400000000000002,
          29.6,
          29.8,
          30
         ],
         "y": [
          0,
          0.0832660399554742,
          0.21267554777312597,
          0.25715004280616,
          0.27256463556143146,
          0.2615908717372175,
          0.26355573257901405,
          0.24222398943277668,
          0.21856166674711658,
          0.20769774472056765,
          0.20002276259390456,
          0.19138042485246978,
          0.2002355277453474,
          0.19402496498878558,
          0.18622945654182094,
          0.19017865367924955,
          0.18976503493829322,
          0.18432613084829946,
          0.18346037531143897,
          0.18020623098359065,
          0.17412499884493396,
          0.17391221509814403,
          0.17213755843391512,
          0.17260478998236115,
          0.17003418615410396,
          0.17124575088086694,
          0.16969908375393322,
          0.16784625786604518,
          0.16878625715001824,
          0.17046724700790283,
          0.16922411580807886,
          0.17021431136707724,
          0.16996667593013595,
          0.16973703540578877,
          0.16933024003566088,
          0.1675091041288842,
          0.16529688835947712,
          0.16624319487981748,
          0.16673221790317122,
          0.1655796705761929,
          0.16483527636193976,
          0.16596463304769535,
          0.16643747304137166,
          0.16666597181336013,
          0.16718781705015243,
          0.16733150054717774,
          0.16835683427614204,
          0.16718505592177174,
          0.16707739677076733,
          0.16657554113593867,
          0.1664883719890606,
          0.1659149261831442,
          0.16581898972242934,
          0.1650321424709467,
          0.16477921510784732,
          0.16519351792309836,
          0.165153658263584,
          0.16526096419593844,
          0.16573471729838365,
          0.16565329464030096,
          0.16483207320481152,
          0.16434436641527836,
          0.1647219164745906,
          0.1648376221005343,
          0.1651911676196132,
          0.16524461944888452,
          0.1654026862053587,
          0.16485554492922927,
          0.16493151753754381,
          0.1647769886539692,
          0.1651215404569444,
          0.16515430068867246,
          0.1646590144661376,
          0.164723692277422,
          0.16472646826075524,
          0.16474913905032235,
          0.1646965481179959,
          0.16477640894108353,
          0.16490105458019627,
          0.16522584526096323,
          0.16513050858460251,
          0.16501373982406953,
          0.16524026393774383,
          0.16483734624974813,
          0.1650048594051929,
          0.16561037644447155,
          0.16587678084893517,
          0.16583106245721538,
          0.16571974031408995,
          0.16639433593785286,
          0.16623467425143873,
          0.16594494002794555,
          0.16606911872985783,
          0.16604336619768348,
          0.1656990502430136,
          0.16599253892913382,
          0.16593657001839848,
          0.1660882132016732,
          0.16610099687194652,
          0.16655275078946982,
          0.16643755813872255,
          0.16647783830826948,
          0.16644422802616365,
          0.16653075952564117,
          0.16661333940851597,
          0.16664848599776372,
          0.1662258549568802,
          0.16600159760362723,
          0.16596173631720895,
          0.16605375638627223,
          0.16600894153757406,
          0.16557991682216935,
          0.1657135693408476,
          0.1660285311444605,
          0.16599718335351468,
          0.16621065936922672,
          0.16608652192193155,
          0.16604118952755384,
          0.1662121482629359,
          0.16618578576784684,
          0.16603501001641366,
          0.16563572039268137,
          0.1653542436859507,
          0.165641488511396,
          0.16547887709118858,
          0.16508055581713346,
          0.16539136442543936,
          0.16533198779518615,
          0.16539500671570465,
          0.16540671151485828,
          0.16534354586970573,
          0.1652819186783713,
          0.16526612156376158,
          0.16544612132709166,
          0.16546922260503283,
          0.1659472625996816,
          0.1657109891703301,
          0.16573230784790313,
          0.16577891033424835,
          0.1657476709441155,
          0.16558981255845634,
          0.1656138988716166,
          0.16541480619880028,
          0.16533449002413175,
          0.16526173465710925,
          0.16532875258696533,
          0.16494954459689162,
          0.16463220911683515,
          0.1647413107576919,
          0.1648042037749541,
          0.16482114554782304
         ]
        },
        {
         "line": {
          "color": "green",
          "dash": "dash",
          "width": 1
         },
         "name": "$+ \\sigma$",
         "type": "scatter",
         "x": [
          0,
          0.2,
          0.4,
          0.6000000000000001,
          0.8,
          1,
          1.2000000000000002,
          1.4000000000000001,
          1.6,
          1.8,
          2,
          2.2,
          2.4000000000000004,
          2.6,
          2.8000000000000003,
          3,
          3.2,
          3.4000000000000004,
          3.6,
          3.8000000000000003,
          4,
          4.2,
          4.4,
          4.6000000000000005,
          4.800000000000001,
          5,
          5.2,
          5.4,
          5.6000000000000005,
          5.800000000000001,
          6,
          6.2,
          6.4,
          6.6000000000000005,
          6.800000000000001,
          7,
          7.2,
          7.4,
          7.6000000000000005,
          7.800000000000001,
          8,
          8.200000000000001,
          8.4,
          8.6,
          8.8,
          9,
          9.200000000000001,
          9.4,
          9.600000000000001,
          9.8,
          10,
          10.200000000000001,
          10.4,
          10.600000000000001,
          10.8,
          11,
          11.200000000000001,
          11.4,
          11.600000000000001,
          11.8,
          12,
          12.200000000000001,
          12.4,
          12.600000000000001,
          12.8,
          13,
          13.200000000000001,
          13.4,
          13.600000000000001,
          13.8,
          14,
          14.200000000000001,
          14.4,
          14.600000000000001,
          14.8,
          15,
          15.200000000000001,
          15.4,
          15.600000000000001,
          15.8,
          16,
          16.2,
          16.400000000000002,
          16.6,
          16.8,
          17,
          17.2,
          17.400000000000002,
          17.6,
          17.8,
          18,
          18.2,
          18.400000000000002,
          18.6,
          18.8,
          19,
          19.200000000000003,
          19.400000000000002,
          19.6,
          19.8,
          20,
          20.200000000000003,
          20.400000000000002,
          20.6,
          20.8,
          21,
          21.200000000000003,
          21.400000000000002,
          21.6,
          21.8,
          22,
          22.200000000000003,
          22.400000000000002,
          22.6,
          22.8,
          23,
          23.200000000000003,
          23.400000000000002,
          23.6,
          23.8,
          24,
          24.200000000000003,
          24.400000000000002,
          24.6,
          24.8,
          25,
          25.200000000000003,
          25.400000000000002,
          25.6,
          25.8,
          26,
          26.200000000000003,
          26.400000000000002,
          26.6,
          26.8,
          27,
          27.200000000000003,
          27.400000000000002,
          27.6,
          27.8,
          28,
          28.200000000000003,
          28.400000000000002,
          28.6,
          28.8,
          29,
          29.200000000000003,
          29.400000000000002,
          29.6,
          29.8,
          30
         ],
         "y": [
          0.1,
          0.17756886526316595,
          0.29444948686441014,
          0.3241151115631749,
          0.32649488023077655,
          0.3053537538941151,
          0.2996627171034732,
          0.27256260612786476,
          0.24449361612919462,
          0.23020334955988428,
          0.2198164058233947,
          0.20899155829800856,
          0.21606358870949074,
          0.20837651498853488,
          0.19934355298148415,
          0.20224444520188195,
          0.20093416825677912,
          0.1947216461849969,
          0.19318318746682614,
          0.18933992334358776,
          0.18273941988008816,
          0.18206621202773401,
          0.1798810803642364,
          0.17998052415667606,
          0.1770788441972042,
          0.1779910896303626,
          0.17617272266176395,
          0.17407233891724808,
          0.17478598173045912,
          0.17625931578749376,
          0.17482509156249332,
          0.17563892010244742,
          0.17522805825982382,
          0.1748469575459231,
          0.17429927181667346,
          0.17234676990601575,
          0.17001179553197304,
          0.1708431438128728,
          0.17122429632713274,
          0.16997033496838915,
          0.16913042236355647,
          0.1701696566055097,
          0.1705573236722619,
          0.17070519915328192,
          0.17115061165713802,
          0.17122172977088673,
          0.17217807387757003,
          0.1709406180204123,
          0.17077035460848977,
          0.17020875107365796,
          0.17006449309119612,
          0.16943643769370514,
          0.16928820669356195,
          0.16845122976851123,
          0.1681501999879068,
          0.16851830134715695,
          0.16843402509824157,
          0.16849859242370033,
          0.16893118635016025,
          0.1688100929462231,
          0.16795060504801684,
          0.16742595816299743,
          0.16776782225193007,
          0.16784902896461326,
          0.16816920028498344,
          0.16819034460930915,
          0.16831711649191541,
          0.16773964254023743,
          0.16778619757190144,
          0.16760312217605244,
          0.1679199573182016,
          0.16792579212838507,
          0.16740433551147252,
          0.16744356396082483,
          0.1674215796708964,
          0.1674201492311786,
          0.16734408782920174,
          0.16740108229139994,
          0.16750344054479605,
          0.16780649909220907,
          0.16768996312507858,
          0.16755250672980931,
          0.167758834818863,
          0.16733619373503386,
          0.1674844381366093,
          0.16807112400700971,
          0.16831911864075738,
          0.1682553965046109,
          0.1681264620353709,
          0.1687838228599657,
          0.1686072906827486,
          0.16830103769036195,
          0.16840903735320842,
          0.16836743407900523,
          0.16800758477321462,
          0.1682858470892826,
          0.16821494884771906,
          0.1683519502391613,
          0.16835037057337332,
          0.1687880309214042,
          0.1686590061510788,
          0.1686857076867737,
          0.1686387646260285,
          0.1687122018876432,
          0.16878191905858236,
          0.16880442773109575,
          0.16836937710756603,
          0.16813291230063002,
          0.16808104972755314,
          0.16816126894619426,
          0.16810484817235005,
          0.1676644071552842,
          0.16778682789312474,
          0.16809073752372977,
          0.16804851243535768,
          0.16825128146930307,
          0.16811660296035716,
          0.16806089118577108,
          0.16822162813348793,
          0.16818519749744176,
          0.16802450344264017,
          0.16761544167471462,
          0.16732433542956626,
          0.16760208988859063,
          0.16743012395468745,
          0.16702258081004778,
          0.16732429708632143,
          0.1672559546587149,
          0.1673101314092209,
          0.1673131148509559,
          0.1672413459350732,
          0.1671712309190669,
          0.1671470588670952,
          0.16731879410027586,
          0.16733373885075778,
          0.16780372798875848,
          0.16755950711154105,
          0.1675729795551871,
          0.16761183489134596,
          0.16757294536678893,
          0.1674075318543945,
          0.16742415609812947,
          0.16721769251840135,
          0.1671300947581019,
          0.16705014533713103,
          0.1671100550049117,
          0.16672382285284876,
          0.1663995456654356,
          0.16650178645282981,
          0.1665578979129509,
          0.16656813590910877
         ]
        },
        {
         "line": {
          "color": "firebrick",
          "dash": "dash",
          "width": 1
         },
         "name": "$-\\sigma$",
         "type": "scatter",
         "x": [
          0,
          0.2,
          0.4,
          0.6000000000000001,
          0.8,
          1,
          1.2000000000000002,
          1.4000000000000001,
          1.6,
          1.8,
          2,
          2.2,
          2.4000000000000004,
          2.6,
          2.8000000000000003,
          3,
          3.2,
          3.4000000000000004,
          3.6,
          3.8000000000000003,
          4,
          4.2,
          4.4,
          4.6000000000000005,
          4.800000000000001,
          5,
          5.2,
          5.4,
          5.6000000000000005,
          5.800000000000001,
          6,
          6.2,
          6.4,
          6.6000000000000005,
          6.800000000000001,
          7,
          7.2,
          7.4,
          7.6000000000000005,
          7.800000000000001,
          8,
          8.200000000000001,
          8.4,
          8.6,
          8.8,
          9,
          9.200000000000001,
          9.4,
          9.600000000000001,
          9.8,
          10,
          10.200000000000001,
          10.4,
          10.600000000000001,
          10.8,
          11,
          11.200000000000001,
          11.4,
          11.600000000000001,
          11.8,
          12,
          12.200000000000001,
          12.4,
          12.600000000000001,
          12.8,
          13,
          13.200000000000001,
          13.4,
          13.600000000000001,
          13.8,
          14,
          14.200000000000001,
          14.4,
          14.600000000000001,
          14.8,
          15,
          15.200000000000001,
          15.4,
          15.600000000000001,
          15.8,
          16,
          16.2,
          16.400000000000002,
          16.6,
          16.8,
          17,
          17.2,
          17.400000000000002,
          17.6,
          17.8,
          18,
          18.2,
          18.400000000000002,
          18.6,
          18.8,
          19,
          19.200000000000003,
          19.400000000000002,
          19.6,
          19.8,
          20,
          20.200000000000003,
          20.400000000000002,
          20.6,
          20.8,
          21,
          21.200000000000003,
          21.400000000000002,
          21.6,
          21.8,
          22,
          22.200000000000003,
          22.400000000000002,
          22.6,
          22.8,
          23,
          23.200000000000003,
          23.400000000000002,
          23.6,
          23.8,
          24,
          24.200000000000003,
          24.400000000000002,
          24.6,
          24.8,
          25,
          25.200000000000003,
          25.400000000000002,
          25.6,
          25.8,
          26,
          26.200000000000003,
          26.400000000000002,
          26.6,
          26.8,
          27,
          27.200000000000003,
          27.400000000000002,
          27.6,
          27.8,
          28,
          28.200000000000003,
          28.400000000000002,
          28.6,
          28.8,
          29,
          29.200000000000003,
          29.400000000000002,
          29.6,
          29.8,
          30
         ],
         "y": [
          -0.1,
          -0.011036785352217568,
          0.1309016086818418,
          0.19018497404914508,
          0.21863439089208636,
          0.2178279895803199,
          0.22744874805455487,
          0.2118853727376886,
          0.19262971736503853,
          0.18519213988125102,
          0.1802291193644144,
          0.173769291406931,
          0.18440746678120404,
          0.17967341498903627,
          0.17311536010215772,
          0.17811286215661715,
          0.17859590161980732,
          0.17393061551160202,
          0.1737375631560518,
          0.17107253862359353,
          0.16551057780977976,
          0.16575821816855404,
          0.16439403650359385,
          0.16522905580804623,
          0.1629895281110037,
          0.1645004121313713,
          0.1632254448461025,
          0.16162017681484228,
          0.16278653256957737,
          0.1646751782283119,
          0.1636231400536644,
          0.16478970263170706,
          0.16470529360044808,
          0.16462711326565443,
          0.1643612082546483,
          0.16267143835175266,
          0.1605819811869812,
          0.16164324594676216,
          0.1622401394792097,
          0.16118900618399667,
          0.16054013036032305,
          0.161759609489881,
          0.16231762241048142,
          0.16262674447343833,
          0.16322502244316683,
          0.16344127132346875,
          0.16453559467471404,
          0.16342949382313118,
          0.16338443893304488,
          0.16294233119821938,
          0.1629122508869251,
          0.16239341467258328,
          0.16234977275129672,
          0.16161305517338215,
          0.16140823022778783,
          0.16186873449903977,
          0.16187329142892642,
          0.16202333596817656,
          0.16253824824660706,
          0.16249649633437882,
          0.1617135413616062,
          0.16126277466755928,
          0.16167601069725115,
          0.16182621523645532,
          0.16221313495424294,
          0.1622988942884599,
          0.16248825591880198,
          0.1619714473182211,
          0.1620768375031862,
          0.16195085513188595,
          0.1623231235956872,
          0.16238280924895984,
          0.16191369342080267,
          0.1620038205940192,
          0.16203135685061407,
          0.1620781288694661,
          0.16204900840679004,
          0.16215173559076712,
          0.1622986686155965,
          0.1626451914297174,
          0.16257105404412645,
          0.16247497291832974,
          0.16272169305662465,
          0.1623384987644624,
          0.16252528067377653,
          0.16314962888193338,
          0.16343444305711297,
          0.16340672840981985,
          0.163313018592809,
          0.16400484901574,
          0.16386205782012886,
          0.16358884236552915,
          0.16372920010650724,
          0.16371929831636173,
          0.16339051571281257,
          0.16369923076898504,
          0.1636581911890779,
          0.16382447616418508,
          0.1638516231705197,
          0.16431747065753544,
          0.1642161101263663,
          0.16426996892976525,
          0.1642496914262988,
          0.16434931716363915,
          0.16444475975844958,
          0.1644925442644317,
          0.16408233280619436,
          0.16387028290662445,
          0.16384242290686477,
          0.1639462438263502,
          0.16391303490279807,
          0.16349542648905452,
          0.16364031078857047,
          0.16396632476519124,
          0.1639458542716717,
          0.16417003726915036,
          0.16405644088350593,
          0.1640214878693366,
          0.16420266839238387,
          0.16418637403825193,
          0.16404551659018715,
          0.16365599911064813,
          0.16338415194233513,
          0.1636808871342014,
          0.1635276302276897,
          0.16313853082421914,
          0.1634584317645573,
          0.1634080209316574,
          0.16347988202218838,
          0.16350030817876066,
          0.16344574580433827,
          0.1633926064376757,
          0.16338518426042797,
          0.16357344855390746,
          0.16360470635930788,
          0.1640907972106047,
          0.16386247122911912,
          0.16389163614061916,
          0.16394598577715075,
          0.16392239652144205,
          0.16377209326251818,
          0.16380364164510372,
          0.1636119198791992,
          0.1635388852901616,
          0.16347332397708747,
          0.16354745016901898,
          0.1631752663409345,
          0.1628648725682347,
          0.162980835062554,
          0.16305050963695733,
          0.1630741551865373
         ]
        },
        {
         "name": "True bias",
         "type": "scatter",
         "x": [
          0,
          0.2,
          0.4,
          0.6000000000000001,
          0.8,
          1,
          1.2000000000000002,
          1.4000000000000001,
          1.6,
          1.8,
          2,
          2.2,
          2.4000000000000004,
          2.6,
          2.8000000000000003,
          3,
          3.2,
          3.4000000000000004,
          3.6,
          3.8000000000000003,
          4,
          4.2,
          4.4,
          4.6000000000000005,
          4.800000000000001,
          5,
          5.2,
          5.4,
          5.6000000000000005,
          5.800000000000001,
          6,
          6.2,
          6.4,
          6.6000000000000005,
          6.800000000000001,
          7,
          7.2,
          7.4,
          7.6000000000000005,
          7.800000000000001,
          8,
          8.200000000000001,
          8.4,
          8.6,
          8.8,
          9,
          9.200000000000001,
          9.4,
          9.600000000000001,
          9.8,
          10,
          10.200000000000001,
          10.4,
          10.600000000000001,
          10.8,
          11,
          11.200000000000001,
          11.4,
          11.600000000000001,
          11.8,
          12,
          12.200000000000001,
          12.4,
          12.600000000000001,
          12.8,
          13,
          13.200000000000001,
          13.4,
          13.600000000000001,
          13.8,
          14,
          14.200000000000001,
          14.4,
          14.600000000000001,
          14.8,
          15,
          15.200000000000001,
          15.4,
          15.600000000000001,
          15.8,
          16,
          16.2,
          16.400000000000002,
          16.6,
          16.8,
          17,
          17.2,
          17.400000000000002,
          17.6,
          17.8,
          18,
          18.2,
          18.400000000000002,
          18.6,
          18.8,
          19,
          19.200000000000003,
          19.400000000000002,
          19.6,
          19.8,
          20,
          20.200000000000003,
          20.400000000000002,
          20.6,
          20.8,
          21,
          21.200000000000003,
          21.400000000000002,
          21.6,
          21.8,
          22,
          22.200000000000003,
          22.400000000000002,
          22.6,
          22.8,
          23,
          23.200000000000003,
          23.400000000000002,
          23.6,
          23.8,
          24,
          24.200000000000003,
          24.400000000000002,
          24.6,
          24.8,
          25,
          25.200000000000003,
          25.400000000000002,
          25.6,
          25.8,
          26,
          26.200000000000003,
          26.400000000000002,
          26.6,
          26.8,
          27,
          27.200000000000003,
          27.400000000000002,
          27.6,
          27.8,
          28,
          28.200000000000003,
          28.400000000000002,
          28.6,
          28.8,
          29,
          29.200000000000003,
          29.400000000000002,
          29.6,
          29.8,
          30
         ],
         "y": [
          0.16476564292292006,
          0.16476564292292006,
          0.16476564292292006,
          0.16476564292292006,
          0.16476564292292006,
          0.16476564292292006,
          0.16476564292292006,
          0.16476564292292006,
          0.16476564292292006,
          0.16476564292292006,
          0.16476564292292006,
          0.16476564292292006,
          0.16476564292292006,
          0.16476564292292006,
          0.16476564292292006,
          0.16476564292292006,
          0.16476564292292006,
          0.16476564292292006,
          0.16476564292292006,
          0.16476564292292006,
          0.16476564292292006,
          0.16476564292292006,
          0.16476564292292006,
          0.16476564292292006,
          0.16476564292292006,
          0.16476564292292006,
          0.16476564292292006,
          0.16476564292292006,
          0.16476564292292006,
          0.16476564292292006,
          0.16476564292292006,
          0.16476564292292006,
          0.16476564292292006,
          0.16476564292292006,
          0.16476564292292006,
          0.16476564292292006,
          0.16476564292292006,
          0.16476564292292006,
          0.16476564292292006,
          0.16476564292292006,
          0.16476564292292006,
          0.16476564292292006,
          0.16476564292292006,
          0.16476564292292006,
          0.16476564292292006,
          0.16476564292292006,
          0.16476564292292006,
          0.16476564292292006,
          0.16476564292292006,
          0.16476564292292006,
          0.16476564292292006,
          0.16476564292292006,
          0.16476564292292006,
          0.16476564292292006,
          0.16476564292292006,
          0.16476564292292006,
          0.16476564292292006,
          0.16476564292292006,
          0.16476564292292006,
          0.16476564292292006,
          0.16476564292292006,
          0.16476564292292006,
          0.16476564292292006,
          0.16476564292292006,
          0.16476564292292006,
          0.16476564292292006,
          0.16476564292292006,
          0.16476564292292006,
          0.16476564292292006,
          0.16476564292292006,
          0.16476564292292006,
          0.16476564292292006,
          0.16476564292292006,
          0.16476564292292006,
          0.16476564292292006,
          0.16476564292292006,
          0.16476564292292006,
          0.16476564292292006,
          0.16476564292292006,
          0.16476564292292006,
          0.16476564292292006,
          0.16476564292292006,
          0.16476564292292006,
          0.16476564292292006,
          0.16476564292292006,
          0.16476564292292006,
          0.16476564292292006,
          0.16476564292292006,
          0.16476564292292006,
          0.16476564292292006,
          0.16476564292292006,
          0.16476564292292006,
          0.16476564292292006,
          0.16476564292292006,
          0.16476564292292006,
          0.16476564292292006,
          0.16476564292292006,
          0.16476564292292006,
          0.16476564292292006,
          0.16476564292292006,
          0.16476564292292006,
          0.16476564292292006,
          0.16476564292292006,
          0.16476564292292006,
          0.16476564292292006,
          0.16476564292292006,
          0.16476564292292006,
          0.16476564292292006,
          0.16476564292292006,
          0.16476564292292006,
          0.16476564292292006,
          0.16476564292292006,
          0.16476564292292006,
          0.16476564292292006,
          0.16476564292292006,
          0.16476564292292006,
          0.16476564292292006,
          0.16476564292292006,
          0.16476564292292006,
          0.16476564292292006,
          0.16476564292292006,
          0.16476564292292006,
          0.16476564292292006,
          0.16476564292292006,
          0.16476564292292006,
          0.16476564292292006,
          0.16476564292292006,
          0.16476564292292006,
          0.16476564292292006,
          0.16476564292292006,
          0.16476564292292006,
          0.16476564292292006,
          0.16476564292292006,
          0.16476564292292006,
          0.16476564292292006,
          0.16476564292292006,
          0.16476564292292006,
          0.16476564292292006,
          0.16476564292292006,
          0.16476564292292006,
          0.16476564292292006,
          0.16476564292292006,
          0.16476564292292006,
          0.16476564292292006,
          0.16476564292292006,
          0.16476564292292006,
          0.16476564292292006,
          0.16476564292292006,
          0.16476564292292006,
          0.16476564292292006,
          0.16476564292292006
         ]
        }
       ],
       "layout": {
        "template": {
         "data": {
          "bar": [
           {
            "error_x": {
             "color": "#2a3f5f"
            },
            "error_y": {
             "color": "#2a3f5f"
            },
            "marker": {
             "line": {
              "color": "#E5ECF6",
              "width": 0.5
             }
            },
            "type": "bar"
           }
          ],
          "barpolar": [
           {
            "marker": {
             "line": {
              "color": "#E5ECF6",
              "width": 0.5
             }
            },
            "type": "barpolar"
           }
          ],
          "carpet": [
           {
            "aaxis": {
             "endlinecolor": "#2a3f5f",
             "gridcolor": "white",
             "linecolor": "white",
             "minorgridcolor": "white",
             "startlinecolor": "#2a3f5f"
            },
            "baxis": {
             "endlinecolor": "#2a3f5f",
             "gridcolor": "white",
             "linecolor": "white",
             "minorgridcolor": "white",
             "startlinecolor": "#2a3f5f"
            },
            "type": "carpet"
           }
          ],
          "choropleth": [
           {
            "colorbar": {
             "outlinewidth": 0,
             "ticks": ""
            },
            "type": "choropleth"
           }
          ],
          "contour": [
           {
            "colorbar": {
             "outlinewidth": 0,
             "ticks": ""
            },
            "colorscale": [
             [
              0,
              "#0d0887"
             ],
             [
              0.1111111111111111,
              "#46039f"
             ],
             [
              0.2222222222222222,
              "#7201a8"
             ],
             [
              0.3333333333333333,
              "#9c179e"
             ],
             [
              0.4444444444444444,
              "#bd3786"
             ],
             [
              0.5555555555555556,
              "#d8576b"
             ],
             [
              0.6666666666666666,
              "#ed7953"
             ],
             [
              0.7777777777777778,
              "#fb9f3a"
             ],
             [
              0.8888888888888888,
              "#fdca26"
             ],
             [
              1,
              "#f0f921"
             ]
            ],
            "type": "contour"
           }
          ],
          "contourcarpet": [
           {
            "colorbar": {
             "outlinewidth": 0,
             "ticks": ""
            },
            "type": "contourcarpet"
           }
          ],
          "heatmap": [
           {
            "colorbar": {
             "outlinewidth": 0,
             "ticks": ""
            },
            "colorscale": [
             [
              0,
              "#0d0887"
             ],
             [
              0.1111111111111111,
              "#46039f"
             ],
             [
              0.2222222222222222,
              "#7201a8"
             ],
             [
              0.3333333333333333,
              "#9c179e"
             ],
             [
              0.4444444444444444,
              "#bd3786"
             ],
             [
              0.5555555555555556,
              "#d8576b"
             ],
             [
              0.6666666666666666,
              "#ed7953"
             ],
             [
              0.7777777777777778,
              "#fb9f3a"
             ],
             [
              0.8888888888888888,
              "#fdca26"
             ],
             [
              1,
              "#f0f921"
             ]
            ],
            "type": "heatmap"
           }
          ],
          "heatmapgl": [
           {
            "colorbar": {
             "outlinewidth": 0,
             "ticks": ""
            },
            "colorscale": [
             [
              0,
              "#0d0887"
             ],
             [
              0.1111111111111111,
              "#46039f"
             ],
             [
              0.2222222222222222,
              "#7201a8"
             ],
             [
              0.3333333333333333,
              "#9c179e"
             ],
             [
              0.4444444444444444,
              "#bd3786"
             ],
             [
              0.5555555555555556,
              "#d8576b"
             ],
             [
              0.6666666666666666,
              "#ed7953"
             ],
             [
              0.7777777777777778,
              "#fb9f3a"
             ],
             [
              0.8888888888888888,
              "#fdca26"
             ],
             [
              1,
              "#f0f921"
             ]
            ],
            "type": "heatmapgl"
           }
          ],
          "histogram": [
           {
            "marker": {
             "colorbar": {
              "outlinewidth": 0,
              "ticks": ""
             }
            },
            "type": "histogram"
           }
          ],
          "histogram2d": [
           {
            "colorbar": {
             "outlinewidth": 0,
             "ticks": ""
            },
            "colorscale": [
             [
              0,
              "#0d0887"
             ],
             [
              0.1111111111111111,
              "#46039f"
             ],
             [
              0.2222222222222222,
              "#7201a8"
             ],
             [
              0.3333333333333333,
              "#9c179e"
             ],
             [
              0.4444444444444444,
              "#bd3786"
             ],
             [
              0.5555555555555556,
              "#d8576b"
             ],
             [
              0.6666666666666666,
              "#ed7953"
             ],
             [
              0.7777777777777778,
              "#fb9f3a"
             ],
             [
              0.8888888888888888,
              "#fdca26"
             ],
             [
              1,
              "#f0f921"
             ]
            ],
            "type": "histogram2d"
           }
          ],
          "histogram2dcontour": [
           {
            "colorbar": {
             "outlinewidth": 0,
             "ticks": ""
            },
            "colorscale": [
             [
              0,
              "#0d0887"
             ],
             [
              0.1111111111111111,
              "#46039f"
             ],
             [
              0.2222222222222222,
              "#7201a8"
             ],
             [
              0.3333333333333333,
              "#9c179e"
             ],
             [
              0.4444444444444444,
              "#bd3786"
             ],
             [
              0.5555555555555556,
              "#d8576b"
             ],
             [
              0.6666666666666666,
              "#ed7953"
             ],
             [
              0.7777777777777778,
              "#fb9f3a"
             ],
             [
              0.8888888888888888,
              "#fdca26"
             ],
             [
              1,
              "#f0f921"
             ]
            ],
            "type": "histogram2dcontour"
           }
          ],
          "mesh3d": [
           {
            "colorbar": {
             "outlinewidth": 0,
             "ticks": ""
            },
            "type": "mesh3d"
           }
          ],
          "parcoords": [
           {
            "line": {
             "colorbar": {
              "outlinewidth": 0,
              "ticks": ""
             }
            },
            "type": "parcoords"
           }
          ],
          "pie": [
           {
            "automargin": true,
            "type": "pie"
           }
          ],
          "scatter": [
           {
            "marker": {
             "colorbar": {
              "outlinewidth": 0,
              "ticks": ""
             }
            },
            "type": "scatter"
           }
          ],
          "scatter3d": [
           {
            "line": {
             "colorbar": {
              "outlinewidth": 0,
              "ticks": ""
             }
            },
            "marker": {
             "colorbar": {
              "outlinewidth": 0,
              "ticks": ""
             }
            },
            "type": "scatter3d"
           }
          ],
          "scattercarpet": [
           {
            "marker": {
             "colorbar": {
              "outlinewidth": 0,
              "ticks": ""
             }
            },
            "type": "scattercarpet"
           }
          ],
          "scattergeo": [
           {
            "marker": {
             "colorbar": {
              "outlinewidth": 0,
              "ticks": ""
             }
            },
            "type": "scattergeo"
           }
          ],
          "scattergl": [
           {
            "marker": {
             "colorbar": {
              "outlinewidth": 0,
              "ticks": ""
             }
            },
            "type": "scattergl"
           }
          ],
          "scattermapbox": [
           {
            "marker": {
             "colorbar": {
              "outlinewidth": 0,
              "ticks": ""
             }
            },
            "type": "scattermapbox"
           }
          ],
          "scatterpolar": [
           {
            "marker": {
             "colorbar": {
              "outlinewidth": 0,
              "ticks": ""
             }
            },
            "type": "scatterpolar"
           }
          ],
          "scatterpolargl": [
           {
            "marker": {
             "colorbar": {
              "outlinewidth": 0,
              "ticks": ""
             }
            },
            "type": "scatterpolargl"
           }
          ],
          "scatterternary": [
           {
            "marker": {
             "colorbar": {
              "outlinewidth": 0,
              "ticks": ""
             }
            },
            "type": "scatterternary"
           }
          ],
          "surface": [
           {
            "colorbar": {
             "outlinewidth": 0,
             "ticks": ""
            },
            "colorscale": [
             [
              0,
              "#0d0887"
             ],
             [
              0.1111111111111111,
              "#46039f"
             ],
             [
              0.2222222222222222,
              "#7201a8"
             ],
             [
              0.3333333333333333,
              "#9c179e"
             ],
             [
              0.4444444444444444,
              "#bd3786"
             ],
             [
              0.5555555555555556,
              "#d8576b"
             ],
             [
              0.6666666666666666,
              "#ed7953"
             ],
             [
              0.7777777777777778,
              "#fb9f3a"
             ],
             [
              0.8888888888888888,
              "#fdca26"
             ],
             [
              1,
              "#f0f921"
             ]
            ],
            "type": "surface"
           }
          ],
          "table": [
           {
            "cells": {
             "fill": {
              "color": "#EBF0F8"
             },
             "line": {
              "color": "white"
             }
            },
            "header": {
             "fill": {
              "color": "#C8D4E3"
             },
             "line": {
              "color": "white"
             }
            },
            "type": "table"
           }
          ]
         },
         "layout": {
          "annotationdefaults": {
           "arrowcolor": "#2a3f5f",
           "arrowhead": 0,
           "arrowwidth": 1
          },
          "coloraxis": {
           "colorbar": {
            "outlinewidth": 0,
            "ticks": ""
           }
          },
          "colorscale": {
           "diverging": [
            [
             0,
             "#8e0152"
            ],
            [
             0.1,
             "#c51b7d"
            ],
            [
             0.2,
             "#de77ae"
            ],
            [
             0.3,
             "#f1b6da"
            ],
            [
             0.4,
             "#fde0ef"
            ],
            [
             0.5,
             "#f7f7f7"
            ],
            [
             0.6,
             "#e6f5d0"
            ],
            [
             0.7,
             "#b8e186"
            ],
            [
             0.8,
             "#7fbc41"
            ],
            [
             0.9,
             "#4d9221"
            ],
            [
             1,
             "#276419"
            ]
           ],
           "sequential": [
            [
             0,
             "#0d0887"
            ],
            [
             0.1111111111111111,
             "#46039f"
            ],
            [
             0.2222222222222222,
             "#7201a8"
            ],
            [
             0.3333333333333333,
             "#9c179e"
            ],
            [
             0.4444444444444444,
             "#bd3786"
            ],
            [
             0.5555555555555556,
             "#d8576b"
            ],
            [
             0.6666666666666666,
             "#ed7953"
            ],
            [
             0.7777777777777778,
             "#fb9f3a"
            ],
            [
             0.8888888888888888,
             "#fdca26"
            ],
            [
             1,
             "#f0f921"
            ]
           ],
           "sequentialminus": [
            [
             0,
             "#0d0887"
            ],
            [
             0.1111111111111111,
             "#46039f"
            ],
            [
             0.2222222222222222,
             "#7201a8"
            ],
            [
             0.3333333333333333,
             "#9c179e"
            ],
            [
             0.4444444444444444,
             "#bd3786"
            ],
            [
             0.5555555555555556,
             "#d8576b"
            ],
            [
             0.6666666666666666,
             "#ed7953"
            ],
            [
             0.7777777777777778,
             "#fb9f3a"
            ],
            [
             0.8888888888888888,
             "#fdca26"
            ],
            [
             1,
             "#f0f921"
            ]
           ]
          },
          "colorway": [
           "#636efa",
           "#EF553B",
           "#00cc96",
           "#ab63fa",
           "#FFA15A",
           "#19d3f3",
           "#FF6692",
           "#B6E880",
           "#FF97FF",
           "#FECB52"
          ],
          "font": {
           "color": "#2a3f5f"
          },
          "geo": {
           "bgcolor": "white",
           "lakecolor": "white",
           "landcolor": "#E5ECF6",
           "showlakes": true,
           "showland": true,
           "subunitcolor": "white"
          },
          "hoverlabel": {
           "align": "left"
          },
          "hovermode": "closest",
          "mapbox": {
           "style": "light"
          },
          "paper_bgcolor": "white",
          "plot_bgcolor": "#E5ECF6",
          "polar": {
           "angularaxis": {
            "gridcolor": "white",
            "linecolor": "white",
            "ticks": ""
           },
           "bgcolor": "#E5ECF6",
           "radialaxis": {
            "gridcolor": "white",
            "linecolor": "white",
            "ticks": ""
           }
          },
          "scene": {
           "xaxis": {
            "backgroundcolor": "#E5ECF6",
            "gridcolor": "white",
            "gridwidth": 2,
            "linecolor": "white",
            "showbackground": true,
            "ticks": "",
            "zerolinecolor": "white"
           },
           "yaxis": {
            "backgroundcolor": "#E5ECF6",
            "gridcolor": "white",
            "gridwidth": 2,
            "linecolor": "white",
            "showbackground": true,
            "ticks": "",
            "zerolinecolor": "white"
           },
           "zaxis": {
            "backgroundcolor": "#E5ECF6",
            "gridcolor": "white",
            "gridwidth": 2,
            "linecolor": "white",
            "showbackground": true,
            "ticks": "",
            "zerolinecolor": "white"
           }
          },
          "shapedefaults": {
           "line": {
            "color": "#2a3f5f"
           }
          },
          "ternary": {
           "aaxis": {
            "gridcolor": "white",
            "linecolor": "white",
            "ticks": ""
           },
           "baxis": {
            "gridcolor": "white",
            "linecolor": "white",
            "ticks": ""
           },
           "bgcolor": "#E5ECF6",
           "caxis": {
            "gridcolor": "white",
            "linecolor": "white",
            "ticks": ""
           }
          },
          "title": {
           "x": 0.05
          },
          "xaxis": {
           "automargin": true,
           "gridcolor": "white",
           "linecolor": "white",
           "ticks": "",
           "title": {
            "standoff": 15
           },
           "zerolinecolor": "white",
           "zerolinewidth": 2
          },
          "yaxis": {
           "automargin": true,
           "gridcolor": "white",
           "linecolor": "white",
           "ticks": "",
           "title": {
            "standoff": 15
           },
           "zerolinecolor": "white",
           "zerolinewidth": 2
          }
         }
        },
        "title": {
         "text": "$\\text{True Bias vs. Estimated Bias}$",
         "x": 0.48,
         "xanchor": "center",
         "y": 0.9,
         "yanchor": "top"
        },
        "xaxis": {
         "title": {
          "text": "$\\text{Time (} s \\text{)}$"
         }
        },
        "yaxis": {
         "title": {
          "text": "$\\text{Bias (}m/s^2 \\text{)}$)"
         }
        }
       }
      },
      "text/html": [
       "<div>\n",
       "        \n",
       "        \n",
       "            <div id=\"002e0334-1cf5-4f42-bc73-83d0c20adc27\" class=\"plotly-graph-div\" style=\"height:525px; width:100%;\"></div>\n",
       "            <script type=\"text/javascript\">\n",
       "                require([\"plotly\"], function(Plotly) {\n",
       "                    window.PLOTLYENV=window.PLOTLYENV || {};\n",
       "                    \n",
       "                if (document.getElementById(\"002e0334-1cf5-4f42-bc73-83d0c20adc27\")) {\n",
       "                    Plotly.newPlot(\n",
       "                        '002e0334-1cf5-4f42-bc73-83d0c20adc27',\n",
       "                        [{\"name\": \"Estimated bias\", \"type\": \"scatter\", \"x\": [0.0, 0.2, 0.4, 0.6000000000000001, 0.8, 1.0, 1.2000000000000002, 1.4000000000000001, 1.6, 1.8, 2.0, 2.2, 2.4000000000000004, 2.6, 2.8000000000000003, 3.0, 3.2, 3.4000000000000004, 3.6, 3.8000000000000003, 4.0, 4.2, 4.4, 4.6000000000000005, 4.800000000000001, 5.0, 5.2, 5.4, 5.6000000000000005, 5.800000000000001, 6.0, 6.2, 6.4, 6.6000000000000005, 6.800000000000001, 7.0, 7.2, 7.4, 7.6000000000000005, 7.800000000000001, 8.0, 8.200000000000001, 8.4, 8.6, 8.8, 9.0, 9.200000000000001, 9.4, 9.600000000000001, 9.8, 10.0, 10.200000000000001, 10.4, 10.600000000000001, 10.8, 11.0, 11.200000000000001, 11.4, 11.600000000000001, 11.8, 12.0, 12.200000000000001, 12.4, 12.600000000000001, 12.8, 13.0, 13.200000000000001, 13.4, 13.600000000000001, 13.8, 14.0, 14.200000000000001, 14.4, 14.600000000000001, 14.8, 15.0, 15.200000000000001, 15.4, 15.600000000000001, 15.8, 16.0, 16.2, 16.400000000000002, 16.6, 16.8, 17.0, 17.2, 17.400000000000002, 17.6, 17.8, 18.0, 18.2, 18.400000000000002, 18.6, 18.8, 19.0, 19.200000000000003, 19.400000000000002, 19.6, 19.8, 20.0, 20.200000000000003, 20.400000000000002, 20.6, 20.8, 21.0, 21.200000000000003, 21.400000000000002, 21.6, 21.8, 22.0, 22.200000000000003, 22.400000000000002, 22.6, 22.8, 23.0, 23.200000000000003, 23.400000000000002, 23.6, 23.8, 24.0, 24.200000000000003, 24.400000000000002, 24.6, 24.8, 25.0, 25.200000000000003, 25.400000000000002, 25.6, 25.8, 26.0, 26.200000000000003, 26.400000000000002, 26.6, 26.8, 27.0, 27.200000000000003, 27.400000000000002, 27.6, 27.8, 28.0, 28.200000000000003, 28.400000000000002, 28.6, 28.8, 29.0, 29.200000000000003, 29.400000000000002, 29.6, 29.8, 30.0], \"y\": [0.0, 0.0832660399554742, 0.21267554777312597, 0.25715004280616, 0.27256463556143146, 0.2615908717372175, 0.26355573257901405, 0.24222398943277668, 0.21856166674711658, 0.20769774472056765, 0.20002276259390456, 0.19138042485246978, 0.2002355277453474, 0.19402496498878558, 0.18622945654182094, 0.19017865367924955, 0.18976503493829322, 0.18432613084829946, 0.18346037531143897, 0.18020623098359065, 0.17412499884493396, 0.17391221509814403, 0.17213755843391512, 0.17260478998236115, 0.17003418615410396, 0.17124575088086694, 0.16969908375393322, 0.16784625786604518, 0.16878625715001824, 0.17046724700790283, 0.16922411580807886, 0.17021431136707724, 0.16996667593013595, 0.16973703540578877, 0.16933024003566088, 0.1675091041288842, 0.16529688835947712, 0.16624319487981748, 0.16673221790317122, 0.1655796705761929, 0.16483527636193976, 0.16596463304769535, 0.16643747304137166, 0.16666597181336013, 0.16718781705015243, 0.16733150054717774, 0.16835683427614204, 0.16718505592177174, 0.16707739677076733, 0.16657554113593867, 0.1664883719890606, 0.1659149261831442, 0.16581898972242934, 0.1650321424709467, 0.16477921510784732, 0.16519351792309836, 0.165153658263584, 0.16526096419593844, 0.16573471729838365, 0.16565329464030096, 0.16483207320481152, 0.16434436641527836, 0.1647219164745906, 0.1648376221005343, 0.1651911676196132, 0.16524461944888452, 0.1654026862053587, 0.16485554492922927, 0.16493151753754381, 0.1647769886539692, 0.1651215404569444, 0.16515430068867246, 0.1646590144661376, 0.164723692277422, 0.16472646826075524, 0.16474913905032235, 0.1646965481179959, 0.16477640894108353, 0.16490105458019627, 0.16522584526096323, 0.16513050858460251, 0.16501373982406953, 0.16524026393774383, 0.16483734624974813, 0.1650048594051929, 0.16561037644447155, 0.16587678084893517, 0.16583106245721538, 0.16571974031408995, 0.16639433593785286, 0.16623467425143873, 0.16594494002794555, 0.16606911872985783, 0.16604336619768348, 0.1656990502430136, 0.16599253892913382, 0.16593657001839848, 0.1660882132016732, 0.16610099687194652, 0.16655275078946982, 0.16643755813872255, 0.16647783830826948, 0.16644422802616365, 0.16653075952564117, 0.16661333940851597, 0.16664848599776372, 0.1662258549568802, 0.16600159760362723, 0.16596173631720895, 0.16605375638627223, 0.16600894153757406, 0.16557991682216935, 0.1657135693408476, 0.1660285311444605, 0.16599718335351468, 0.16621065936922672, 0.16608652192193155, 0.16604118952755384, 0.1662121482629359, 0.16618578576784684, 0.16603501001641366, 0.16563572039268137, 0.1653542436859507, 0.165641488511396, 0.16547887709118858, 0.16508055581713346, 0.16539136442543936, 0.16533198779518615, 0.16539500671570465, 0.16540671151485828, 0.16534354586970573, 0.1652819186783713, 0.16526612156376158, 0.16544612132709166, 0.16546922260503283, 0.1659472625996816, 0.1657109891703301, 0.16573230784790313, 0.16577891033424835, 0.1657476709441155, 0.16558981255845634, 0.1656138988716166, 0.16541480619880028, 0.16533449002413175, 0.16526173465710925, 0.16532875258696533, 0.16494954459689162, 0.16463220911683515, 0.1647413107576919, 0.1648042037749541, 0.16482114554782304]}, {\"line\": {\"color\": \"green\", \"dash\": \"dash\", \"width\": 1}, \"name\": \"$+ \\\\sigma$\", \"type\": \"scatter\", \"x\": [0.0, 0.2, 0.4, 0.6000000000000001, 0.8, 1.0, 1.2000000000000002, 1.4000000000000001, 1.6, 1.8, 2.0, 2.2, 2.4000000000000004, 2.6, 2.8000000000000003, 3.0, 3.2, 3.4000000000000004, 3.6, 3.8000000000000003, 4.0, 4.2, 4.4, 4.6000000000000005, 4.800000000000001, 5.0, 5.2, 5.4, 5.6000000000000005, 5.800000000000001, 6.0, 6.2, 6.4, 6.6000000000000005, 6.800000000000001, 7.0, 7.2, 7.4, 7.6000000000000005, 7.800000000000001, 8.0, 8.200000000000001, 8.4, 8.6, 8.8, 9.0, 9.200000000000001, 9.4, 9.600000000000001, 9.8, 10.0, 10.200000000000001, 10.4, 10.600000000000001, 10.8, 11.0, 11.200000000000001, 11.4, 11.600000000000001, 11.8, 12.0, 12.200000000000001, 12.4, 12.600000000000001, 12.8, 13.0, 13.200000000000001, 13.4, 13.600000000000001, 13.8, 14.0, 14.200000000000001, 14.4, 14.600000000000001, 14.8, 15.0, 15.200000000000001, 15.4, 15.600000000000001, 15.8, 16.0, 16.2, 16.400000000000002, 16.6, 16.8, 17.0, 17.2, 17.400000000000002, 17.6, 17.8, 18.0, 18.2, 18.400000000000002, 18.6, 18.8, 19.0, 19.200000000000003, 19.400000000000002, 19.6, 19.8, 20.0, 20.200000000000003, 20.400000000000002, 20.6, 20.8, 21.0, 21.200000000000003, 21.400000000000002, 21.6, 21.8, 22.0, 22.200000000000003, 22.400000000000002, 22.6, 22.8, 23.0, 23.200000000000003, 23.400000000000002, 23.6, 23.8, 24.0, 24.200000000000003, 24.400000000000002, 24.6, 24.8, 25.0, 25.200000000000003, 25.400000000000002, 25.6, 25.8, 26.0, 26.200000000000003, 26.400000000000002, 26.6, 26.8, 27.0, 27.200000000000003, 27.400000000000002, 27.6, 27.8, 28.0, 28.200000000000003, 28.400000000000002, 28.6, 28.8, 29.0, 29.200000000000003, 29.400000000000002, 29.6, 29.8, 30.0], \"y\": [0.1, 0.17756886526316595, 0.29444948686441014, 0.3241151115631749, 0.32649488023077655, 0.3053537538941151, 0.2996627171034732, 0.27256260612786476, 0.24449361612919462, 0.23020334955988428, 0.2198164058233947, 0.20899155829800856, 0.21606358870949074, 0.20837651498853488, 0.19934355298148415, 0.20224444520188195, 0.20093416825677912, 0.1947216461849969, 0.19318318746682614, 0.18933992334358776, 0.18273941988008816, 0.18206621202773401, 0.1798810803642364, 0.17998052415667606, 0.1770788441972042, 0.1779910896303626, 0.17617272266176395, 0.17407233891724808, 0.17478598173045912, 0.17625931578749376, 0.17482509156249332, 0.17563892010244742, 0.17522805825982382, 0.1748469575459231, 0.17429927181667346, 0.17234676990601575, 0.17001179553197304, 0.1708431438128728, 0.17122429632713274, 0.16997033496838915, 0.16913042236355647, 0.1701696566055097, 0.1705573236722619, 0.17070519915328192, 0.17115061165713802, 0.17122172977088673, 0.17217807387757003, 0.1709406180204123, 0.17077035460848977, 0.17020875107365796, 0.17006449309119612, 0.16943643769370514, 0.16928820669356195, 0.16845122976851123, 0.1681501999879068, 0.16851830134715695, 0.16843402509824157, 0.16849859242370033, 0.16893118635016025, 0.1688100929462231, 0.16795060504801684, 0.16742595816299743, 0.16776782225193007, 0.16784902896461326, 0.16816920028498344, 0.16819034460930915, 0.16831711649191541, 0.16773964254023743, 0.16778619757190144, 0.16760312217605244, 0.1679199573182016, 0.16792579212838507, 0.16740433551147252, 0.16744356396082483, 0.1674215796708964, 0.1674201492311786, 0.16734408782920174, 0.16740108229139994, 0.16750344054479605, 0.16780649909220907, 0.16768996312507858, 0.16755250672980931, 0.167758834818863, 0.16733619373503386, 0.1674844381366093, 0.16807112400700971, 0.16831911864075738, 0.1682553965046109, 0.1681264620353709, 0.1687838228599657, 0.1686072906827486, 0.16830103769036195, 0.16840903735320842, 0.16836743407900523, 0.16800758477321462, 0.1682858470892826, 0.16821494884771906, 0.1683519502391613, 0.16835037057337332, 0.1687880309214042, 0.1686590061510788, 0.1686857076867737, 0.1686387646260285, 0.1687122018876432, 0.16878191905858236, 0.16880442773109575, 0.16836937710756603, 0.16813291230063002, 0.16808104972755314, 0.16816126894619426, 0.16810484817235005, 0.1676644071552842, 0.16778682789312474, 0.16809073752372977, 0.16804851243535768, 0.16825128146930307, 0.16811660296035716, 0.16806089118577108, 0.16822162813348793, 0.16818519749744176, 0.16802450344264017, 0.16761544167471462, 0.16732433542956626, 0.16760208988859063, 0.16743012395468745, 0.16702258081004778, 0.16732429708632143, 0.1672559546587149, 0.1673101314092209, 0.1673131148509559, 0.1672413459350732, 0.1671712309190669, 0.1671470588670952, 0.16731879410027586, 0.16733373885075778, 0.16780372798875848, 0.16755950711154105, 0.1675729795551871, 0.16761183489134596, 0.16757294536678893, 0.1674075318543945, 0.16742415609812947, 0.16721769251840135, 0.1671300947581019, 0.16705014533713103, 0.1671100550049117, 0.16672382285284876, 0.1663995456654356, 0.16650178645282981, 0.1665578979129509, 0.16656813590910877]}, {\"line\": {\"color\": \"firebrick\", \"dash\": \"dash\", \"width\": 1}, \"name\": \"$-\\\\sigma$\", \"type\": \"scatter\", \"x\": [0.0, 0.2, 0.4, 0.6000000000000001, 0.8, 1.0, 1.2000000000000002, 1.4000000000000001, 1.6, 1.8, 2.0, 2.2, 2.4000000000000004, 2.6, 2.8000000000000003, 3.0, 3.2, 3.4000000000000004, 3.6, 3.8000000000000003, 4.0, 4.2, 4.4, 4.6000000000000005, 4.800000000000001, 5.0, 5.2, 5.4, 5.6000000000000005, 5.800000000000001, 6.0, 6.2, 6.4, 6.6000000000000005, 6.800000000000001, 7.0, 7.2, 7.4, 7.6000000000000005, 7.800000000000001, 8.0, 8.200000000000001, 8.4, 8.6, 8.8, 9.0, 9.200000000000001, 9.4, 9.600000000000001, 9.8, 10.0, 10.200000000000001, 10.4, 10.600000000000001, 10.8, 11.0, 11.200000000000001, 11.4, 11.600000000000001, 11.8, 12.0, 12.200000000000001, 12.4, 12.600000000000001, 12.8, 13.0, 13.200000000000001, 13.4, 13.600000000000001, 13.8, 14.0, 14.200000000000001, 14.4, 14.600000000000001, 14.8, 15.0, 15.200000000000001, 15.4, 15.600000000000001, 15.8, 16.0, 16.2, 16.400000000000002, 16.6, 16.8, 17.0, 17.2, 17.400000000000002, 17.6, 17.8, 18.0, 18.2, 18.400000000000002, 18.6, 18.8, 19.0, 19.200000000000003, 19.400000000000002, 19.6, 19.8, 20.0, 20.200000000000003, 20.400000000000002, 20.6, 20.8, 21.0, 21.200000000000003, 21.400000000000002, 21.6, 21.8, 22.0, 22.200000000000003, 22.400000000000002, 22.6, 22.8, 23.0, 23.200000000000003, 23.400000000000002, 23.6, 23.8, 24.0, 24.200000000000003, 24.400000000000002, 24.6, 24.8, 25.0, 25.200000000000003, 25.400000000000002, 25.6, 25.8, 26.0, 26.200000000000003, 26.400000000000002, 26.6, 26.8, 27.0, 27.200000000000003, 27.400000000000002, 27.6, 27.8, 28.0, 28.200000000000003, 28.400000000000002, 28.6, 28.8, 29.0, 29.200000000000003, 29.400000000000002, 29.6, 29.8, 30.0], \"y\": [-0.1, -0.011036785352217568, 0.1309016086818418, 0.19018497404914508, 0.21863439089208636, 0.2178279895803199, 0.22744874805455487, 0.2118853727376886, 0.19262971736503853, 0.18519213988125102, 0.1802291193644144, 0.173769291406931, 0.18440746678120404, 0.17967341498903627, 0.17311536010215772, 0.17811286215661715, 0.17859590161980732, 0.17393061551160202, 0.1737375631560518, 0.17107253862359353, 0.16551057780977976, 0.16575821816855404, 0.16439403650359385, 0.16522905580804623, 0.1629895281110037, 0.1645004121313713, 0.1632254448461025, 0.16162017681484228, 0.16278653256957737, 0.1646751782283119, 0.1636231400536644, 0.16478970263170706, 0.16470529360044808, 0.16462711326565443, 0.1643612082546483, 0.16267143835175266, 0.1605819811869812, 0.16164324594676216, 0.1622401394792097, 0.16118900618399667, 0.16054013036032305, 0.161759609489881, 0.16231762241048142, 0.16262674447343833, 0.16322502244316683, 0.16344127132346875, 0.16453559467471404, 0.16342949382313118, 0.16338443893304488, 0.16294233119821938, 0.1629122508869251, 0.16239341467258328, 0.16234977275129672, 0.16161305517338215, 0.16140823022778783, 0.16186873449903977, 0.16187329142892642, 0.16202333596817656, 0.16253824824660706, 0.16249649633437882, 0.1617135413616062, 0.16126277466755928, 0.16167601069725115, 0.16182621523645532, 0.16221313495424294, 0.1622988942884599, 0.16248825591880198, 0.1619714473182211, 0.1620768375031862, 0.16195085513188595, 0.1623231235956872, 0.16238280924895984, 0.16191369342080267, 0.1620038205940192, 0.16203135685061407, 0.1620781288694661, 0.16204900840679004, 0.16215173559076712, 0.1622986686155965, 0.1626451914297174, 0.16257105404412645, 0.16247497291832974, 0.16272169305662465, 0.1623384987644624, 0.16252528067377653, 0.16314962888193338, 0.16343444305711297, 0.16340672840981985, 0.163313018592809, 0.16400484901574, 0.16386205782012886, 0.16358884236552915, 0.16372920010650724, 0.16371929831636173, 0.16339051571281257, 0.16369923076898504, 0.1636581911890779, 0.16382447616418508, 0.1638516231705197, 0.16431747065753544, 0.1642161101263663, 0.16426996892976525, 0.1642496914262988, 0.16434931716363915, 0.16444475975844958, 0.1644925442644317, 0.16408233280619436, 0.16387028290662445, 0.16384242290686477, 0.1639462438263502, 0.16391303490279807, 0.16349542648905452, 0.16364031078857047, 0.16396632476519124, 0.1639458542716717, 0.16417003726915036, 0.16405644088350593, 0.1640214878693366, 0.16420266839238387, 0.16418637403825193, 0.16404551659018715, 0.16365599911064813, 0.16338415194233513, 0.1636808871342014, 0.1635276302276897, 0.16313853082421914, 0.1634584317645573, 0.1634080209316574, 0.16347988202218838, 0.16350030817876066, 0.16344574580433827, 0.1633926064376757, 0.16338518426042797, 0.16357344855390746, 0.16360470635930788, 0.1640907972106047, 0.16386247122911912, 0.16389163614061916, 0.16394598577715075, 0.16392239652144205, 0.16377209326251818, 0.16380364164510372, 0.1636119198791992, 0.1635388852901616, 0.16347332397708747, 0.16354745016901898, 0.1631752663409345, 0.1628648725682347, 0.162980835062554, 0.16305050963695733, 0.1630741551865373]}, {\"name\": \"True bias\", \"type\": \"scatter\", \"x\": [0.0, 0.2, 0.4, 0.6000000000000001, 0.8, 1.0, 1.2000000000000002, 1.4000000000000001, 1.6, 1.8, 2.0, 2.2, 2.4000000000000004, 2.6, 2.8000000000000003, 3.0, 3.2, 3.4000000000000004, 3.6, 3.8000000000000003, 4.0, 4.2, 4.4, 4.6000000000000005, 4.800000000000001, 5.0, 5.2, 5.4, 5.6000000000000005, 5.800000000000001, 6.0, 6.2, 6.4, 6.6000000000000005, 6.800000000000001, 7.0, 7.2, 7.4, 7.6000000000000005, 7.800000000000001, 8.0, 8.200000000000001, 8.4, 8.6, 8.8, 9.0, 9.200000000000001, 9.4, 9.600000000000001, 9.8, 10.0, 10.200000000000001, 10.4, 10.600000000000001, 10.8, 11.0, 11.200000000000001, 11.4, 11.600000000000001, 11.8, 12.0, 12.200000000000001, 12.4, 12.600000000000001, 12.8, 13.0, 13.200000000000001, 13.4, 13.600000000000001, 13.8, 14.0, 14.200000000000001, 14.4, 14.600000000000001, 14.8, 15.0, 15.200000000000001, 15.4, 15.600000000000001, 15.8, 16.0, 16.2, 16.400000000000002, 16.6, 16.8, 17.0, 17.2, 17.400000000000002, 17.6, 17.8, 18.0, 18.2, 18.400000000000002, 18.6, 18.8, 19.0, 19.200000000000003, 19.400000000000002, 19.6, 19.8, 20.0, 20.200000000000003, 20.400000000000002, 20.6, 20.8, 21.0, 21.200000000000003, 21.400000000000002, 21.6, 21.8, 22.0, 22.200000000000003, 22.400000000000002, 22.6, 22.8, 23.0, 23.200000000000003, 23.400000000000002, 23.6, 23.8, 24.0, 24.200000000000003, 24.400000000000002, 24.6, 24.8, 25.0, 25.200000000000003, 25.400000000000002, 25.6, 25.8, 26.0, 26.200000000000003, 26.400000000000002, 26.6, 26.8, 27.0, 27.200000000000003, 27.400000000000002, 27.6, 27.8, 28.0, 28.200000000000003, 28.400000000000002, 28.6, 28.8, 29.0, 29.200000000000003, 29.400000000000002, 29.6, 29.8, 30.0], \"y\": [0.16476564292292006, 0.16476564292292006, 0.16476564292292006, 0.16476564292292006, 0.16476564292292006, 0.16476564292292006, 0.16476564292292006, 0.16476564292292006, 0.16476564292292006, 0.16476564292292006, 0.16476564292292006, 0.16476564292292006, 0.16476564292292006, 0.16476564292292006, 0.16476564292292006, 0.16476564292292006, 0.16476564292292006, 0.16476564292292006, 0.16476564292292006, 0.16476564292292006, 0.16476564292292006, 0.16476564292292006, 0.16476564292292006, 0.16476564292292006, 0.16476564292292006, 0.16476564292292006, 0.16476564292292006, 0.16476564292292006, 0.16476564292292006, 0.16476564292292006, 0.16476564292292006, 0.16476564292292006, 0.16476564292292006, 0.16476564292292006, 0.16476564292292006, 0.16476564292292006, 0.16476564292292006, 0.16476564292292006, 0.16476564292292006, 0.16476564292292006, 0.16476564292292006, 0.16476564292292006, 0.16476564292292006, 0.16476564292292006, 0.16476564292292006, 0.16476564292292006, 0.16476564292292006, 0.16476564292292006, 0.16476564292292006, 0.16476564292292006, 0.16476564292292006, 0.16476564292292006, 0.16476564292292006, 0.16476564292292006, 0.16476564292292006, 0.16476564292292006, 0.16476564292292006, 0.16476564292292006, 0.16476564292292006, 0.16476564292292006, 0.16476564292292006, 0.16476564292292006, 0.16476564292292006, 0.16476564292292006, 0.16476564292292006, 0.16476564292292006, 0.16476564292292006, 0.16476564292292006, 0.16476564292292006, 0.16476564292292006, 0.16476564292292006, 0.16476564292292006, 0.16476564292292006, 0.16476564292292006, 0.16476564292292006, 0.16476564292292006, 0.16476564292292006, 0.16476564292292006, 0.16476564292292006, 0.16476564292292006, 0.16476564292292006, 0.16476564292292006, 0.16476564292292006, 0.16476564292292006, 0.16476564292292006, 0.16476564292292006, 0.16476564292292006, 0.16476564292292006, 0.16476564292292006, 0.16476564292292006, 0.16476564292292006, 0.16476564292292006, 0.16476564292292006, 0.16476564292292006, 0.16476564292292006, 0.16476564292292006, 0.16476564292292006, 0.16476564292292006, 0.16476564292292006, 0.16476564292292006, 0.16476564292292006, 0.16476564292292006, 0.16476564292292006, 0.16476564292292006, 0.16476564292292006, 0.16476564292292006, 0.16476564292292006, 0.16476564292292006, 0.16476564292292006, 0.16476564292292006, 0.16476564292292006, 0.16476564292292006, 0.16476564292292006, 0.16476564292292006, 0.16476564292292006, 0.16476564292292006, 0.16476564292292006, 0.16476564292292006, 0.16476564292292006, 0.16476564292292006, 0.16476564292292006, 0.16476564292292006, 0.16476564292292006, 0.16476564292292006, 0.16476564292292006, 0.16476564292292006, 0.16476564292292006, 0.16476564292292006, 0.16476564292292006, 0.16476564292292006, 0.16476564292292006, 0.16476564292292006, 0.16476564292292006, 0.16476564292292006, 0.16476564292292006, 0.16476564292292006, 0.16476564292292006, 0.16476564292292006, 0.16476564292292006, 0.16476564292292006, 0.16476564292292006, 0.16476564292292006, 0.16476564292292006, 0.16476564292292006, 0.16476564292292006, 0.16476564292292006, 0.16476564292292006, 0.16476564292292006, 0.16476564292292006, 0.16476564292292006, 0.16476564292292006]}],\n",
       "                        {\"template\": {\"data\": {\"bar\": [{\"error_x\": {\"color\": \"#2a3f5f\"}, \"error_y\": {\"color\": \"#2a3f5f\"}, \"marker\": {\"line\": {\"color\": \"#E5ECF6\", \"width\": 0.5}}, \"type\": \"bar\"}], \"barpolar\": [{\"marker\": {\"line\": {\"color\": \"#E5ECF6\", \"width\": 0.5}}, \"type\": \"barpolar\"}], \"carpet\": [{\"aaxis\": {\"endlinecolor\": \"#2a3f5f\", \"gridcolor\": \"white\", \"linecolor\": \"white\", \"minorgridcolor\": \"white\", \"startlinecolor\": \"#2a3f5f\"}, \"baxis\": {\"endlinecolor\": \"#2a3f5f\", \"gridcolor\": \"white\", \"linecolor\": \"white\", \"minorgridcolor\": \"white\", \"startlinecolor\": \"#2a3f5f\"}, \"type\": \"carpet\"}], \"choropleth\": [{\"colorbar\": {\"outlinewidth\": 0, \"ticks\": \"\"}, \"type\": \"choropleth\"}], \"contour\": [{\"colorbar\": {\"outlinewidth\": 0, \"ticks\": \"\"}, \"colorscale\": [[0.0, \"#0d0887\"], [0.1111111111111111, \"#46039f\"], [0.2222222222222222, \"#7201a8\"], [0.3333333333333333, \"#9c179e\"], [0.4444444444444444, \"#bd3786\"], [0.5555555555555556, \"#d8576b\"], [0.6666666666666666, \"#ed7953\"], [0.7777777777777778, \"#fb9f3a\"], [0.8888888888888888, \"#fdca26\"], [1.0, \"#f0f921\"]], \"type\": \"contour\"}], \"contourcarpet\": [{\"colorbar\": {\"outlinewidth\": 0, \"ticks\": \"\"}, \"type\": \"contourcarpet\"}], \"heatmap\": [{\"colorbar\": {\"outlinewidth\": 0, \"ticks\": \"\"}, \"colorscale\": [[0.0, \"#0d0887\"], [0.1111111111111111, \"#46039f\"], [0.2222222222222222, \"#7201a8\"], [0.3333333333333333, \"#9c179e\"], [0.4444444444444444, \"#bd3786\"], [0.5555555555555556, \"#d8576b\"], [0.6666666666666666, \"#ed7953\"], [0.7777777777777778, \"#fb9f3a\"], [0.8888888888888888, \"#fdca26\"], [1.0, \"#f0f921\"]], \"type\": \"heatmap\"}], \"heatmapgl\": [{\"colorbar\": {\"outlinewidth\": 0, \"ticks\": \"\"}, \"colorscale\": [[0.0, \"#0d0887\"], [0.1111111111111111, \"#46039f\"], [0.2222222222222222, \"#7201a8\"], [0.3333333333333333, \"#9c179e\"], [0.4444444444444444, \"#bd3786\"], [0.5555555555555556, \"#d8576b\"], [0.6666666666666666, \"#ed7953\"], [0.7777777777777778, \"#fb9f3a\"], [0.8888888888888888, \"#fdca26\"], [1.0, \"#f0f921\"]], \"type\": \"heatmapgl\"}], \"histogram\": [{\"marker\": {\"colorbar\": {\"outlinewidth\": 0, \"ticks\": \"\"}}, \"type\": \"histogram\"}], \"histogram2d\": [{\"colorbar\": {\"outlinewidth\": 0, \"ticks\": \"\"}, \"colorscale\": [[0.0, \"#0d0887\"], [0.1111111111111111, \"#46039f\"], [0.2222222222222222, \"#7201a8\"], [0.3333333333333333, \"#9c179e\"], [0.4444444444444444, \"#bd3786\"], [0.5555555555555556, \"#d8576b\"], [0.6666666666666666, \"#ed7953\"], [0.7777777777777778, \"#fb9f3a\"], [0.8888888888888888, \"#fdca26\"], [1.0, \"#f0f921\"]], \"type\": \"histogram2d\"}], \"histogram2dcontour\": [{\"colorbar\": {\"outlinewidth\": 0, \"ticks\": \"\"}, \"colorscale\": [[0.0, \"#0d0887\"], [0.1111111111111111, \"#46039f\"], [0.2222222222222222, \"#7201a8\"], [0.3333333333333333, \"#9c179e\"], [0.4444444444444444, \"#bd3786\"], [0.5555555555555556, \"#d8576b\"], [0.6666666666666666, \"#ed7953\"], [0.7777777777777778, \"#fb9f3a\"], [0.8888888888888888, \"#fdca26\"], [1.0, \"#f0f921\"]], \"type\": \"histogram2dcontour\"}], \"mesh3d\": [{\"colorbar\": {\"outlinewidth\": 0, \"ticks\": \"\"}, \"type\": \"mesh3d\"}], \"parcoords\": [{\"line\": {\"colorbar\": {\"outlinewidth\": 0, \"ticks\": \"\"}}, \"type\": \"parcoords\"}], \"pie\": [{\"automargin\": true, \"type\": \"pie\"}], \"scatter\": [{\"marker\": {\"colorbar\": {\"outlinewidth\": 0, \"ticks\": \"\"}}, \"type\": \"scatter\"}], \"scatter3d\": [{\"line\": {\"colorbar\": {\"outlinewidth\": 0, \"ticks\": \"\"}}, \"marker\": {\"colorbar\": {\"outlinewidth\": 0, \"ticks\": \"\"}}, \"type\": \"scatter3d\"}], \"scattercarpet\": [{\"marker\": {\"colorbar\": {\"outlinewidth\": 0, \"ticks\": \"\"}}, \"type\": \"scattercarpet\"}], \"scattergeo\": [{\"marker\": {\"colorbar\": {\"outlinewidth\": 0, \"ticks\": \"\"}}, \"type\": \"scattergeo\"}], \"scattergl\": [{\"marker\": {\"colorbar\": {\"outlinewidth\": 0, \"ticks\": \"\"}}, \"type\": \"scattergl\"}], \"scattermapbox\": [{\"marker\": {\"colorbar\": {\"outlinewidth\": 0, \"ticks\": \"\"}}, \"type\": \"scattermapbox\"}], \"scatterpolar\": [{\"marker\": {\"colorbar\": {\"outlinewidth\": 0, \"ticks\": \"\"}}, \"type\": \"scatterpolar\"}], \"scatterpolargl\": [{\"marker\": {\"colorbar\": {\"outlinewidth\": 0, \"ticks\": \"\"}}, \"type\": \"scatterpolargl\"}], \"scatterternary\": [{\"marker\": {\"colorbar\": {\"outlinewidth\": 0, \"ticks\": \"\"}}, \"type\": \"scatterternary\"}], \"surface\": [{\"colorbar\": {\"outlinewidth\": 0, \"ticks\": \"\"}, \"colorscale\": [[0.0, \"#0d0887\"], [0.1111111111111111, \"#46039f\"], [0.2222222222222222, \"#7201a8\"], [0.3333333333333333, \"#9c179e\"], [0.4444444444444444, \"#bd3786\"], [0.5555555555555556, \"#d8576b\"], [0.6666666666666666, \"#ed7953\"], [0.7777777777777778, \"#fb9f3a\"], [0.8888888888888888, \"#fdca26\"], [1.0, \"#f0f921\"]], \"type\": \"surface\"}], \"table\": [{\"cells\": {\"fill\": {\"color\": \"#EBF0F8\"}, \"line\": {\"color\": \"white\"}}, \"header\": {\"fill\": {\"color\": \"#C8D4E3\"}, \"line\": {\"color\": \"white\"}}, \"type\": \"table\"}]}, \"layout\": {\"annotationdefaults\": {\"arrowcolor\": \"#2a3f5f\", \"arrowhead\": 0, \"arrowwidth\": 1}, \"coloraxis\": {\"colorbar\": {\"outlinewidth\": 0, \"ticks\": \"\"}}, \"colorscale\": {\"diverging\": [[0, \"#8e0152\"], [0.1, \"#c51b7d\"], [0.2, \"#de77ae\"], [0.3, \"#f1b6da\"], [0.4, \"#fde0ef\"], [0.5, \"#f7f7f7\"], [0.6, \"#e6f5d0\"], [0.7, \"#b8e186\"], [0.8, \"#7fbc41\"], [0.9, \"#4d9221\"], [1, \"#276419\"]], \"sequential\": [[0.0, \"#0d0887\"], [0.1111111111111111, \"#46039f\"], [0.2222222222222222, \"#7201a8\"], [0.3333333333333333, \"#9c179e\"], [0.4444444444444444, \"#bd3786\"], [0.5555555555555556, \"#d8576b\"], [0.6666666666666666, \"#ed7953\"], [0.7777777777777778, \"#fb9f3a\"], [0.8888888888888888, \"#fdca26\"], [1.0, \"#f0f921\"]], \"sequentialminus\": [[0.0, \"#0d0887\"], [0.1111111111111111, \"#46039f\"], [0.2222222222222222, \"#7201a8\"], [0.3333333333333333, \"#9c179e\"], [0.4444444444444444, \"#bd3786\"], [0.5555555555555556, \"#d8576b\"], [0.6666666666666666, \"#ed7953\"], [0.7777777777777778, \"#fb9f3a\"], [0.8888888888888888, \"#fdca26\"], [1.0, \"#f0f921\"]]}, \"colorway\": [\"#636efa\", \"#EF553B\", \"#00cc96\", \"#ab63fa\", \"#FFA15A\", \"#19d3f3\", \"#FF6692\", \"#B6E880\", \"#FF97FF\", \"#FECB52\"], \"font\": {\"color\": \"#2a3f5f\"}, \"geo\": {\"bgcolor\": \"white\", \"lakecolor\": \"white\", \"landcolor\": \"#E5ECF6\", \"showlakes\": true, \"showland\": true, \"subunitcolor\": \"white\"}, \"hoverlabel\": {\"align\": \"left\"}, \"hovermode\": \"closest\", \"mapbox\": {\"style\": \"light\"}, \"paper_bgcolor\": \"white\", \"plot_bgcolor\": \"#E5ECF6\", \"polar\": {\"angularaxis\": {\"gridcolor\": \"white\", \"linecolor\": \"white\", \"ticks\": \"\"}, \"bgcolor\": \"#E5ECF6\", \"radialaxis\": {\"gridcolor\": \"white\", \"linecolor\": \"white\", \"ticks\": \"\"}}, \"scene\": {\"xaxis\": {\"backgroundcolor\": \"#E5ECF6\", \"gridcolor\": \"white\", \"gridwidth\": 2, \"linecolor\": \"white\", \"showbackground\": true, \"ticks\": \"\", \"zerolinecolor\": \"white\"}, \"yaxis\": {\"backgroundcolor\": \"#E5ECF6\", \"gridcolor\": \"white\", \"gridwidth\": 2, \"linecolor\": \"white\", \"showbackground\": true, \"ticks\": \"\", \"zerolinecolor\": \"white\"}, \"zaxis\": {\"backgroundcolor\": \"#E5ECF6\", \"gridcolor\": \"white\", \"gridwidth\": 2, \"linecolor\": \"white\", \"showbackground\": true, \"ticks\": \"\", \"zerolinecolor\": \"white\"}}, \"shapedefaults\": {\"line\": {\"color\": \"#2a3f5f\"}}, \"ternary\": {\"aaxis\": {\"gridcolor\": \"white\", \"linecolor\": \"white\", \"ticks\": \"\"}, \"baxis\": {\"gridcolor\": \"white\", \"linecolor\": \"white\", \"ticks\": \"\"}, \"bgcolor\": \"#E5ECF6\", \"caxis\": {\"gridcolor\": \"white\", \"linecolor\": \"white\", \"ticks\": \"\"}}, \"title\": {\"x\": 0.05}, \"xaxis\": {\"automargin\": true, \"gridcolor\": \"white\", \"linecolor\": \"white\", \"ticks\": \"\", \"title\": {\"standoff\": 15}, \"zerolinecolor\": \"white\", \"zerolinewidth\": 2}, \"yaxis\": {\"automargin\": true, \"gridcolor\": \"white\", \"linecolor\": \"white\", \"ticks\": \"\", \"title\": {\"standoff\": 15}, \"zerolinecolor\": \"white\", \"zerolinewidth\": 2}}}, \"title\": {\"text\": \"$\\\\text{True Bias vs. Estimated Bias}$\", \"x\": 0.48, \"xanchor\": \"center\", \"y\": 0.9, \"yanchor\": \"top\"}, \"xaxis\": {\"title\": {\"text\": \"$\\\\text{Time (} s \\\\text{)}$\"}}, \"yaxis\": {\"title\": {\"text\": \"$\\\\text{Bias (}m/s^2 \\\\text{)}$)\"}}},\n",
       "                        {\"responsive\": true}\n",
       "                    ).then(function(){\n",
       "                            \n",
       "var gd = document.getElementById('002e0334-1cf5-4f42-bc73-83d0c20adc27');\n",
       "var x = new MutationObserver(function (mutations, observer) {{\n",
       "        var display = window.getComputedStyle(gd).display;\n",
       "        if (!display || display === 'none') {{\n",
       "            console.log([gd, 'removed!']);\n",
       "            Plotly.purge(gd);\n",
       "            observer.disconnect();\n",
       "        }}\n",
       "}});\n",
       "\n",
       "// Listen for the removal of the full notebook cells\n",
       "var notebookContainer = gd.closest('#notebook-container');\n",
       "if (notebookContainer) {{\n",
       "    x.observe(notebookContainer, {childList: true});\n",
       "}}\n",
       "\n",
       "// Listen for the clearing of the current output cell\n",
       "var outputEl = gd.closest('.output');\n",
       "if (outputEl) {{\n",
       "    x.observe(outputEl, {childList: true});\n",
       "}}\n",
       "\n",
       "                        })\n",
       "                };\n",
       "                });\n",
       "            </script>\n",
       "        </div>"
      ]
     },
     "metadata": {},
     "output_type": "display_data"
    },
    {
     "data": {
      "application/vnd.plotly.v1+json": {
       "config": {
        "plotlyServerURL": "https://plot.ly"
       },
       "data": [
        {
         "name": "Bias Error",
         "type": "scatter",
         "x": [
          0,
          0.2,
          0.4,
          0.6000000000000001,
          0.8,
          1,
          1.2000000000000002,
          1.4000000000000001,
          1.6,
          1.8,
          2,
          2.2,
          2.4000000000000004,
          2.6,
          2.8000000000000003,
          3,
          3.2,
          3.4000000000000004,
          3.6,
          3.8000000000000003,
          4,
          4.2,
          4.4,
          4.6000000000000005,
          4.800000000000001,
          5,
          5.2,
          5.4,
          5.6000000000000005,
          5.800000000000001,
          6,
          6.2,
          6.4,
          6.6000000000000005,
          6.800000000000001,
          7,
          7.2,
          7.4,
          7.6000000000000005,
          7.800000000000001,
          8,
          8.200000000000001,
          8.4,
          8.6,
          8.8,
          9,
          9.200000000000001,
          9.4,
          9.600000000000001,
          9.8,
          10,
          10.200000000000001,
          10.4,
          10.600000000000001,
          10.8,
          11,
          11.200000000000001,
          11.4,
          11.600000000000001,
          11.8,
          12,
          12.200000000000001,
          12.4,
          12.600000000000001,
          12.8,
          13,
          13.200000000000001,
          13.4,
          13.600000000000001,
          13.8,
          14,
          14.200000000000001,
          14.4,
          14.600000000000001,
          14.8,
          15,
          15.200000000000001,
          15.4,
          15.600000000000001,
          15.8,
          16,
          16.2,
          16.400000000000002,
          16.6,
          16.8,
          17,
          17.2,
          17.400000000000002,
          17.6,
          17.8,
          18,
          18.2,
          18.400000000000002,
          18.6,
          18.8,
          19,
          19.200000000000003,
          19.400000000000002,
          19.6,
          19.8,
          20,
          20.200000000000003,
          20.400000000000002,
          20.6,
          20.8,
          21,
          21.200000000000003,
          21.400000000000002,
          21.6,
          21.8,
          22,
          22.200000000000003,
          22.400000000000002,
          22.6,
          22.8,
          23,
          23.200000000000003,
          23.400000000000002,
          23.6,
          23.8,
          24,
          24.200000000000003,
          24.400000000000002,
          24.6,
          24.8,
          25,
          25.200000000000003,
          25.400000000000002,
          25.6,
          25.8,
          26,
          26.200000000000003,
          26.400000000000002,
          26.6,
          26.8,
          27,
          27.200000000000003,
          27.400000000000002,
          27.6,
          27.8,
          28,
          28.200000000000003,
          28.400000000000002,
          28.6,
          28.8,
          29,
          29.200000000000003,
          29.400000000000002,
          29.6,
          29.8,
          30
         ],
         "y": [
          -0.16476564292292006,
          -0.08149960296744586,
          0.04790990485020591,
          0.09238439988323993,
          0.10779899263851139,
          0.09682522881429745,
          0.09879008965609398,
          0.07745834650985661,
          0.053796023824196515,
          0.04293210179764759,
          0.035257119670984494,
          0.02661478192954972,
          0.03546988482242733,
          0.029259322065865512,
          0.021463813618900873,
          0.025413010756329485,
          0.024999392015373156,
          0.0195604879253794,
          0.018694732388518903,
          0.015440588060670585,
          0.009359355922013896,
          0.009146572175223966,
          0.0073719155109950585,
          0.007839147059441082,
          0.005268543231183892,
          0.0064801079579468734,
          0.004933440831013158,
          0.003080614943125115,
          0.004020614227098179,
          0.00570160408498277,
          0.0044584728851587985,
          0.005448668444157173,
          0.005201033007215888,
          0.004971392482868708,
          0.00456459711274082,
          0.0027434612059641372,
          0.000531245436557054,
          0.001477551956897416,
          0.0019665749802511567,
          0.0008140276532728474,
          6.96334390196951e-05,
          0.0011989901247752843,
          0.001671830118451595,
          0.0019003288904400617,
          0.0024221741272323627,
          0.002565857624257678,
          0.003591191353221973,
          0.0024194129988516777,
          0.0023117538478472643,
          0.001809898213018607,
          0.0017227290661405437,
          0.0011492832602241487,
          0.001053346799509275,
          0.00026649954802662745,
          1.3572184927257425e-05,
          0.00042787500017829605,
          0.00038801534066393306,
          0.0004953212730183787,
          0.0009690743754635911,
          0.000887651717380894,
          6.643028189146083e-05,
          -0.00042127650764170466,
          -4.372644832945083e-05,
          7.197917761422867e-05,
          0.0004255246966931303,
          0.0004789765259644585,
          0.0006370432824386318,
          8.990200630920597e-05,
          0.00016587461462375108,
          1.1345731049133834e-05,
          0.00035589753402434643,
          0.00038865776575239264,
          -0.00010662845678247046,
          -4.1950645498056716e-05,
          -3.91746621648259e-05,
          -1.650387259771735e-05,
          -6.909480492417464e-05,
          1.0766018163466118e-05,
          0.00013541165727620763,
          0.0004602023380431697,
          0.0003648656616824508,
          0.0002480969011494638,
          0.00047462101482376173,
          7.17033268280709e-05,
          0.00023921648227284709,
          0.0008447335215514828,
          0.00111113792601511,
          0.0010654195342953143,
          0.0009540973911698891,
          0.0016286930149327916,
          0.0014690313285186662,
          0.0011792971050254841,
          0.001303475806937765,
          0.0012777232747634149,
          0.0009334073200935322,
          0.0012268960062137568,
          0.001170927095478419,
          0.0013225702787531268,
          0.001335353949026452,
          0.0017871078665497586,
          0.001671915215802483,
          0.0017121953853494187,
          0.0016785851032435906,
          0.0017651166027211063,
          0.0018476964855959066,
          0.0018828430748436542,
          0.0014602120339601288,
          0.0012359546807071686,
          0.0011960933942888885,
          0.0012881134633521696,
          0.0012432986146539982,
          0.0008142738992492904,
          0.0009479264179275415,
          0.0012628882215404424,
          0.0012315404305946187,
          0.0014450164463066517,
          0.0013208789990114822,
          0.001275546604633776,
          0.0014465053400158356,
          0.0014201428449267806,
          0.0012693670934935952,
          0.0008700774697613101,
          0.0005886007630306334,
          0.0008758455884759486,
          0.0007132341682685173,
          0.0003149128942133983,
          0.0006257215025192997,
          0.0005663448722660891,
          0.0006293637927845819,
          0.0006410685919382153,
          0.0005779029467856689,
          0.0005162757554512398,
          0.0005004786408415174,
          0.0006804784041715972,
          0.0007035796821127649,
          0.0011816196767615306,
          0.0009453462474100227,
          0.0009666649249830683,
          0.0010132674113282891,
          0.0009820280211954302,
          0.000824169635536276,
          0.0008482559486965302,
          0.0006491632758802157,
          0.0005688471012116891,
          0.0004960917341891857,
          0.0005631096640452693,
          0.00018390167397155932,
          -0.0001334338060849094,
          -2.4332165228152514e-05,
          3.8560852034047466e-05,
          5.550262490297553e-05
         ]
        }
       ],
       "layout": {
        "template": {
         "data": {
          "bar": [
           {
            "error_x": {
             "color": "#2a3f5f"
            },
            "error_y": {
             "color": "#2a3f5f"
            },
            "marker": {
             "line": {
              "color": "#E5ECF6",
              "width": 0.5
             }
            },
            "type": "bar"
           }
          ],
          "barpolar": [
           {
            "marker": {
             "line": {
              "color": "#E5ECF6",
              "width": 0.5
             }
            },
            "type": "barpolar"
           }
          ],
          "carpet": [
           {
            "aaxis": {
             "endlinecolor": "#2a3f5f",
             "gridcolor": "white",
             "linecolor": "white",
             "minorgridcolor": "white",
             "startlinecolor": "#2a3f5f"
            },
            "baxis": {
             "endlinecolor": "#2a3f5f",
             "gridcolor": "white",
             "linecolor": "white",
             "minorgridcolor": "white",
             "startlinecolor": "#2a3f5f"
            },
            "type": "carpet"
           }
          ],
          "choropleth": [
           {
            "colorbar": {
             "outlinewidth": 0,
             "ticks": ""
            },
            "type": "choropleth"
           }
          ],
          "contour": [
           {
            "colorbar": {
             "outlinewidth": 0,
             "ticks": ""
            },
            "colorscale": [
             [
              0,
              "#0d0887"
             ],
             [
              0.1111111111111111,
              "#46039f"
             ],
             [
              0.2222222222222222,
              "#7201a8"
             ],
             [
              0.3333333333333333,
              "#9c179e"
             ],
             [
              0.4444444444444444,
              "#bd3786"
             ],
             [
              0.5555555555555556,
              "#d8576b"
             ],
             [
              0.6666666666666666,
              "#ed7953"
             ],
             [
              0.7777777777777778,
              "#fb9f3a"
             ],
             [
              0.8888888888888888,
              "#fdca26"
             ],
             [
              1,
              "#f0f921"
             ]
            ],
            "type": "contour"
           }
          ],
          "contourcarpet": [
           {
            "colorbar": {
             "outlinewidth": 0,
             "ticks": ""
            },
            "type": "contourcarpet"
           }
          ],
          "heatmap": [
           {
            "colorbar": {
             "outlinewidth": 0,
             "ticks": ""
            },
            "colorscale": [
             [
              0,
              "#0d0887"
             ],
             [
              0.1111111111111111,
              "#46039f"
             ],
             [
              0.2222222222222222,
              "#7201a8"
             ],
             [
              0.3333333333333333,
              "#9c179e"
             ],
             [
              0.4444444444444444,
              "#bd3786"
             ],
             [
              0.5555555555555556,
              "#d8576b"
             ],
             [
              0.6666666666666666,
              "#ed7953"
             ],
             [
              0.7777777777777778,
              "#fb9f3a"
             ],
             [
              0.8888888888888888,
              "#fdca26"
             ],
             [
              1,
              "#f0f921"
             ]
            ],
            "type": "heatmap"
           }
          ],
          "heatmapgl": [
           {
            "colorbar": {
             "outlinewidth": 0,
             "ticks": ""
            },
            "colorscale": [
             [
              0,
              "#0d0887"
             ],
             [
              0.1111111111111111,
              "#46039f"
             ],
             [
              0.2222222222222222,
              "#7201a8"
             ],
             [
              0.3333333333333333,
              "#9c179e"
             ],
             [
              0.4444444444444444,
              "#bd3786"
             ],
             [
              0.5555555555555556,
              "#d8576b"
             ],
             [
              0.6666666666666666,
              "#ed7953"
             ],
             [
              0.7777777777777778,
              "#fb9f3a"
             ],
             [
              0.8888888888888888,
              "#fdca26"
             ],
             [
              1,
              "#f0f921"
             ]
            ],
            "type": "heatmapgl"
           }
          ],
          "histogram": [
           {
            "marker": {
             "colorbar": {
              "outlinewidth": 0,
              "ticks": ""
             }
            },
            "type": "histogram"
           }
          ],
          "histogram2d": [
           {
            "colorbar": {
             "outlinewidth": 0,
             "ticks": ""
            },
            "colorscale": [
             [
              0,
              "#0d0887"
             ],
             [
              0.1111111111111111,
              "#46039f"
             ],
             [
              0.2222222222222222,
              "#7201a8"
             ],
             [
              0.3333333333333333,
              "#9c179e"
             ],
             [
              0.4444444444444444,
              "#bd3786"
             ],
             [
              0.5555555555555556,
              "#d8576b"
             ],
             [
              0.6666666666666666,
              "#ed7953"
             ],
             [
              0.7777777777777778,
              "#fb9f3a"
             ],
             [
              0.8888888888888888,
              "#fdca26"
             ],
             [
              1,
              "#f0f921"
             ]
            ],
            "type": "histogram2d"
           }
          ],
          "histogram2dcontour": [
           {
            "colorbar": {
             "outlinewidth": 0,
             "ticks": ""
            },
            "colorscale": [
             [
              0,
              "#0d0887"
             ],
             [
              0.1111111111111111,
              "#46039f"
             ],
             [
              0.2222222222222222,
              "#7201a8"
             ],
             [
              0.3333333333333333,
              "#9c179e"
             ],
             [
              0.4444444444444444,
              "#bd3786"
             ],
             [
              0.5555555555555556,
              "#d8576b"
             ],
             [
              0.6666666666666666,
              "#ed7953"
             ],
             [
              0.7777777777777778,
              "#fb9f3a"
             ],
             [
              0.8888888888888888,
              "#fdca26"
             ],
             [
              1,
              "#f0f921"
             ]
            ],
            "type": "histogram2dcontour"
           }
          ],
          "mesh3d": [
           {
            "colorbar": {
             "outlinewidth": 0,
             "ticks": ""
            },
            "type": "mesh3d"
           }
          ],
          "parcoords": [
           {
            "line": {
             "colorbar": {
              "outlinewidth": 0,
              "ticks": ""
             }
            },
            "type": "parcoords"
           }
          ],
          "pie": [
           {
            "automargin": true,
            "type": "pie"
           }
          ],
          "scatter": [
           {
            "marker": {
             "colorbar": {
              "outlinewidth": 0,
              "ticks": ""
             }
            },
            "type": "scatter"
           }
          ],
          "scatter3d": [
           {
            "line": {
             "colorbar": {
              "outlinewidth": 0,
              "ticks": ""
             }
            },
            "marker": {
             "colorbar": {
              "outlinewidth": 0,
              "ticks": ""
             }
            },
            "type": "scatter3d"
           }
          ],
          "scattercarpet": [
           {
            "marker": {
             "colorbar": {
              "outlinewidth": 0,
              "ticks": ""
             }
            },
            "type": "scattercarpet"
           }
          ],
          "scattergeo": [
           {
            "marker": {
             "colorbar": {
              "outlinewidth": 0,
              "ticks": ""
             }
            },
            "type": "scattergeo"
           }
          ],
          "scattergl": [
           {
            "marker": {
             "colorbar": {
              "outlinewidth": 0,
              "ticks": ""
             }
            },
            "type": "scattergl"
           }
          ],
          "scattermapbox": [
           {
            "marker": {
             "colorbar": {
              "outlinewidth": 0,
              "ticks": ""
             }
            },
            "type": "scattermapbox"
           }
          ],
          "scatterpolar": [
           {
            "marker": {
             "colorbar": {
              "outlinewidth": 0,
              "ticks": ""
             }
            },
            "type": "scatterpolar"
           }
          ],
          "scatterpolargl": [
           {
            "marker": {
             "colorbar": {
              "outlinewidth": 0,
              "ticks": ""
             }
            },
            "type": "scatterpolargl"
           }
          ],
          "scatterternary": [
           {
            "marker": {
             "colorbar": {
              "outlinewidth": 0,
              "ticks": ""
             }
            },
            "type": "scatterternary"
           }
          ],
          "surface": [
           {
            "colorbar": {
             "outlinewidth": 0,
             "ticks": ""
            },
            "colorscale": [
             [
              0,
              "#0d0887"
             ],
             [
              0.1111111111111111,
              "#46039f"
             ],
             [
              0.2222222222222222,
              "#7201a8"
             ],
             [
              0.3333333333333333,
              "#9c179e"
             ],
             [
              0.4444444444444444,
              "#bd3786"
             ],
             [
              0.5555555555555556,
              "#d8576b"
             ],
             [
              0.6666666666666666,
              "#ed7953"
             ],
             [
              0.7777777777777778,
              "#fb9f3a"
             ],
             [
              0.8888888888888888,
              "#fdca26"
             ],
             [
              1,
              "#f0f921"
             ]
            ],
            "type": "surface"
           }
          ],
          "table": [
           {
            "cells": {
             "fill": {
              "color": "#EBF0F8"
             },
             "line": {
              "color": "white"
             }
            },
            "header": {
             "fill": {
              "color": "#C8D4E3"
             },
             "line": {
              "color": "white"
             }
            },
            "type": "table"
           }
          ]
         },
         "layout": {
          "annotationdefaults": {
           "arrowcolor": "#2a3f5f",
           "arrowhead": 0,
           "arrowwidth": 1
          },
          "coloraxis": {
           "colorbar": {
            "outlinewidth": 0,
            "ticks": ""
           }
          },
          "colorscale": {
           "diverging": [
            [
             0,
             "#8e0152"
            ],
            [
             0.1,
             "#c51b7d"
            ],
            [
             0.2,
             "#de77ae"
            ],
            [
             0.3,
             "#f1b6da"
            ],
            [
             0.4,
             "#fde0ef"
            ],
            [
             0.5,
             "#f7f7f7"
            ],
            [
             0.6,
             "#e6f5d0"
            ],
            [
             0.7,
             "#b8e186"
            ],
            [
             0.8,
             "#7fbc41"
            ],
            [
             0.9,
             "#4d9221"
            ],
            [
             1,
             "#276419"
            ]
           ],
           "sequential": [
            [
             0,
             "#0d0887"
            ],
            [
             0.1111111111111111,
             "#46039f"
            ],
            [
             0.2222222222222222,
             "#7201a8"
            ],
            [
             0.3333333333333333,
             "#9c179e"
            ],
            [
             0.4444444444444444,
             "#bd3786"
            ],
            [
             0.5555555555555556,
             "#d8576b"
            ],
            [
             0.6666666666666666,
             "#ed7953"
            ],
            [
             0.7777777777777778,
             "#fb9f3a"
            ],
            [
             0.8888888888888888,
             "#fdca26"
            ],
            [
             1,
             "#f0f921"
            ]
           ],
           "sequentialminus": [
            [
             0,
             "#0d0887"
            ],
            [
             0.1111111111111111,
             "#46039f"
            ],
            [
             0.2222222222222222,
             "#7201a8"
            ],
            [
             0.3333333333333333,
             "#9c179e"
            ],
            [
             0.4444444444444444,
             "#bd3786"
            ],
            [
             0.5555555555555556,
             "#d8576b"
            ],
            [
             0.6666666666666666,
             "#ed7953"
            ],
            [
             0.7777777777777778,
             "#fb9f3a"
            ],
            [
             0.8888888888888888,
             "#fdca26"
            ],
            [
             1,
             "#f0f921"
            ]
           ]
          },
          "colorway": [
           "#636efa",
           "#EF553B",
           "#00cc96",
           "#ab63fa",
           "#FFA15A",
           "#19d3f3",
           "#FF6692",
           "#B6E880",
           "#FF97FF",
           "#FECB52"
          ],
          "font": {
           "color": "#2a3f5f"
          },
          "geo": {
           "bgcolor": "white",
           "lakecolor": "white",
           "landcolor": "#E5ECF6",
           "showlakes": true,
           "showland": true,
           "subunitcolor": "white"
          },
          "hoverlabel": {
           "align": "left"
          },
          "hovermode": "closest",
          "mapbox": {
           "style": "light"
          },
          "paper_bgcolor": "white",
          "plot_bgcolor": "#E5ECF6",
          "polar": {
           "angularaxis": {
            "gridcolor": "white",
            "linecolor": "white",
            "ticks": ""
           },
           "bgcolor": "#E5ECF6",
           "radialaxis": {
            "gridcolor": "white",
            "linecolor": "white",
            "ticks": ""
           }
          },
          "scene": {
           "xaxis": {
            "backgroundcolor": "#E5ECF6",
            "gridcolor": "white",
            "gridwidth": 2,
            "linecolor": "white",
            "showbackground": true,
            "ticks": "",
            "zerolinecolor": "white"
           },
           "yaxis": {
            "backgroundcolor": "#E5ECF6",
            "gridcolor": "white",
            "gridwidth": 2,
            "linecolor": "white",
            "showbackground": true,
            "ticks": "",
            "zerolinecolor": "white"
           },
           "zaxis": {
            "backgroundcolor": "#E5ECF6",
            "gridcolor": "white",
            "gridwidth": 2,
            "linecolor": "white",
            "showbackground": true,
            "ticks": "",
            "zerolinecolor": "white"
           }
          },
          "shapedefaults": {
           "line": {
            "color": "#2a3f5f"
           }
          },
          "ternary": {
           "aaxis": {
            "gridcolor": "white",
            "linecolor": "white",
            "ticks": ""
           },
           "baxis": {
            "gridcolor": "white",
            "linecolor": "white",
            "ticks": ""
           },
           "bgcolor": "#E5ECF6",
           "caxis": {
            "gridcolor": "white",
            "linecolor": "white",
            "ticks": ""
           }
          },
          "title": {
           "x": 0.05
          },
          "xaxis": {
           "automargin": true,
           "gridcolor": "white",
           "linecolor": "white",
           "ticks": "",
           "title": {
            "standoff": 15
           },
           "zerolinecolor": "white",
           "zerolinewidth": 2
          },
          "yaxis": {
           "automargin": true,
           "gridcolor": "white",
           "linecolor": "white",
           "ticks": "",
           "title": {
            "standoff": 15
           },
           "zerolinecolor": "white",
           "zerolinewidth": 2
          }
         }
        },
        "title": {
         "text": "$\\text{Bias Error}$",
         "x": 0.48,
         "xanchor": "center",
         "y": 0.9,
         "yanchor": "top"
        },
        "xaxis": {
         "title": {
          "text": "$\\text{Time (} s \\text{)}$"
         }
        },
        "yaxis": {
         "title": {
          "text": "$\\text{Bias Error (} m/s^2 \\text)$"
         }
        }
       }
      },
      "text/html": [
       "<div>\n",
       "        \n",
       "        \n",
       "            <div id=\"b2650f4d-4e15-433c-8378-80ee9ca2e337\" class=\"plotly-graph-div\" style=\"height:525px; width:100%;\"></div>\n",
       "            <script type=\"text/javascript\">\n",
       "                require([\"plotly\"], function(Plotly) {\n",
       "                    window.PLOTLYENV=window.PLOTLYENV || {};\n",
       "                    \n",
       "                if (document.getElementById(\"b2650f4d-4e15-433c-8378-80ee9ca2e337\")) {\n",
       "                    Plotly.newPlot(\n",
       "                        'b2650f4d-4e15-433c-8378-80ee9ca2e337',\n",
       "                        [{\"name\": \"Bias Error\", \"type\": \"scatter\", \"x\": [0.0, 0.2, 0.4, 0.6000000000000001, 0.8, 1.0, 1.2000000000000002, 1.4000000000000001, 1.6, 1.8, 2.0, 2.2, 2.4000000000000004, 2.6, 2.8000000000000003, 3.0, 3.2, 3.4000000000000004, 3.6, 3.8000000000000003, 4.0, 4.2, 4.4, 4.6000000000000005, 4.800000000000001, 5.0, 5.2, 5.4, 5.6000000000000005, 5.800000000000001, 6.0, 6.2, 6.4, 6.6000000000000005, 6.800000000000001, 7.0, 7.2, 7.4, 7.6000000000000005, 7.800000000000001, 8.0, 8.200000000000001, 8.4, 8.6, 8.8, 9.0, 9.200000000000001, 9.4, 9.600000000000001, 9.8, 10.0, 10.200000000000001, 10.4, 10.600000000000001, 10.8, 11.0, 11.200000000000001, 11.4, 11.600000000000001, 11.8, 12.0, 12.200000000000001, 12.4, 12.600000000000001, 12.8, 13.0, 13.200000000000001, 13.4, 13.600000000000001, 13.8, 14.0, 14.200000000000001, 14.4, 14.600000000000001, 14.8, 15.0, 15.200000000000001, 15.4, 15.600000000000001, 15.8, 16.0, 16.2, 16.400000000000002, 16.6, 16.8, 17.0, 17.2, 17.400000000000002, 17.6, 17.8, 18.0, 18.2, 18.400000000000002, 18.6, 18.8, 19.0, 19.200000000000003, 19.400000000000002, 19.6, 19.8, 20.0, 20.200000000000003, 20.400000000000002, 20.6, 20.8, 21.0, 21.200000000000003, 21.400000000000002, 21.6, 21.8, 22.0, 22.200000000000003, 22.400000000000002, 22.6, 22.8, 23.0, 23.200000000000003, 23.400000000000002, 23.6, 23.8, 24.0, 24.200000000000003, 24.400000000000002, 24.6, 24.8, 25.0, 25.200000000000003, 25.400000000000002, 25.6, 25.8, 26.0, 26.200000000000003, 26.400000000000002, 26.6, 26.8, 27.0, 27.200000000000003, 27.400000000000002, 27.6, 27.8, 28.0, 28.200000000000003, 28.400000000000002, 28.6, 28.8, 29.0, 29.200000000000003, 29.400000000000002, 29.6, 29.8, 30.0], \"y\": [-0.16476564292292006, -0.08149960296744586, 0.04790990485020591, 0.09238439988323993, 0.10779899263851139, 0.09682522881429745, 0.09879008965609398, 0.07745834650985661, 0.053796023824196515, 0.04293210179764759, 0.035257119670984494, 0.02661478192954972, 0.03546988482242733, 0.029259322065865512, 0.021463813618900873, 0.025413010756329485, 0.024999392015373156, 0.0195604879253794, 0.018694732388518903, 0.015440588060670585, 0.009359355922013896, 0.009146572175223966, 0.0073719155109950585, 0.007839147059441082, 0.005268543231183892, 0.0064801079579468734, 0.004933440831013158, 0.003080614943125115, 0.004020614227098179, 0.00570160408498277, 0.0044584728851587985, 0.005448668444157173, 0.005201033007215888, 0.004971392482868708, 0.00456459711274082, 0.0027434612059641372, 0.000531245436557054, 0.001477551956897416, 0.0019665749802511567, 0.0008140276532728474, 6.96334390196951e-05, 0.0011989901247752843, 0.001671830118451595, 0.0019003288904400617, 0.0024221741272323627, 0.002565857624257678, 0.003591191353221973, 0.0024194129988516777, 0.0023117538478472643, 0.001809898213018607, 0.0017227290661405437, 0.0011492832602241487, 0.001053346799509275, 0.00026649954802662745, 1.3572184927257425e-05, 0.00042787500017829605, 0.00038801534066393306, 0.0004953212730183787, 0.0009690743754635911, 0.000887651717380894, 6.643028189146083e-05, -0.00042127650764170466, -4.372644832945083e-05, 7.197917761422867e-05, 0.0004255246966931303, 0.0004789765259644585, 0.0006370432824386318, 8.990200630920597e-05, 0.00016587461462375108, 1.1345731049133834e-05, 0.00035589753402434643, 0.00038865776575239264, -0.00010662845678247046, -4.1950645498056716e-05, -3.91746621648259e-05, -1.650387259771735e-05, -6.909480492417464e-05, 1.0766018163466118e-05, 0.00013541165727620763, 0.0004602023380431697, 0.0003648656616824508, 0.0002480969011494638, 0.00047462101482376173, 7.17033268280709e-05, 0.00023921648227284709, 0.0008447335215514828, 0.00111113792601511, 0.0010654195342953143, 0.0009540973911698891, 0.0016286930149327916, 0.0014690313285186662, 0.0011792971050254841, 0.001303475806937765, 0.0012777232747634149, 0.0009334073200935322, 0.0012268960062137568, 0.001170927095478419, 0.0013225702787531268, 0.001335353949026452, 0.0017871078665497586, 0.001671915215802483, 0.0017121953853494187, 0.0016785851032435906, 0.0017651166027211063, 0.0018476964855959066, 0.0018828430748436542, 0.0014602120339601288, 0.0012359546807071686, 0.0011960933942888885, 0.0012881134633521696, 0.0012432986146539982, 0.0008142738992492904, 0.0009479264179275415, 0.0012628882215404424, 0.0012315404305946187, 0.0014450164463066517, 0.0013208789990114822, 0.001275546604633776, 0.0014465053400158356, 0.0014201428449267806, 0.0012693670934935952, 0.0008700774697613101, 0.0005886007630306334, 0.0008758455884759486, 0.0007132341682685173, 0.0003149128942133983, 0.0006257215025192997, 0.0005663448722660891, 0.0006293637927845819, 0.0006410685919382153, 0.0005779029467856689, 0.0005162757554512398, 0.0005004786408415174, 0.0006804784041715972, 0.0007035796821127649, 0.0011816196767615306, 0.0009453462474100227, 0.0009666649249830683, 0.0010132674113282891, 0.0009820280211954302, 0.000824169635536276, 0.0008482559486965302, 0.0006491632758802157, 0.0005688471012116891, 0.0004960917341891857, 0.0005631096640452693, 0.00018390167397155932, -0.0001334338060849094, -2.4332165228152514e-05, 3.8560852034047466e-05, 5.550262490297553e-05]}],\n",
       "                        {\"template\": {\"data\": {\"bar\": [{\"error_x\": {\"color\": \"#2a3f5f\"}, \"error_y\": {\"color\": \"#2a3f5f\"}, \"marker\": {\"line\": {\"color\": \"#E5ECF6\", \"width\": 0.5}}, \"type\": \"bar\"}], \"barpolar\": [{\"marker\": {\"line\": {\"color\": \"#E5ECF6\", \"width\": 0.5}}, \"type\": \"barpolar\"}], \"carpet\": [{\"aaxis\": {\"endlinecolor\": \"#2a3f5f\", \"gridcolor\": \"white\", \"linecolor\": \"white\", \"minorgridcolor\": \"white\", \"startlinecolor\": \"#2a3f5f\"}, \"baxis\": {\"endlinecolor\": \"#2a3f5f\", \"gridcolor\": \"white\", \"linecolor\": \"white\", \"minorgridcolor\": \"white\", \"startlinecolor\": \"#2a3f5f\"}, \"type\": \"carpet\"}], \"choropleth\": [{\"colorbar\": {\"outlinewidth\": 0, \"ticks\": \"\"}, \"type\": \"choropleth\"}], \"contour\": [{\"colorbar\": {\"outlinewidth\": 0, \"ticks\": \"\"}, \"colorscale\": [[0.0, \"#0d0887\"], [0.1111111111111111, \"#46039f\"], [0.2222222222222222, \"#7201a8\"], [0.3333333333333333, \"#9c179e\"], [0.4444444444444444, \"#bd3786\"], [0.5555555555555556, \"#d8576b\"], [0.6666666666666666, \"#ed7953\"], [0.7777777777777778, \"#fb9f3a\"], [0.8888888888888888, \"#fdca26\"], [1.0, \"#f0f921\"]], \"type\": \"contour\"}], \"contourcarpet\": [{\"colorbar\": {\"outlinewidth\": 0, \"ticks\": \"\"}, \"type\": \"contourcarpet\"}], \"heatmap\": [{\"colorbar\": {\"outlinewidth\": 0, \"ticks\": \"\"}, \"colorscale\": [[0.0, \"#0d0887\"], [0.1111111111111111, \"#46039f\"], [0.2222222222222222, \"#7201a8\"], [0.3333333333333333, \"#9c179e\"], [0.4444444444444444, \"#bd3786\"], [0.5555555555555556, \"#d8576b\"], [0.6666666666666666, \"#ed7953\"], [0.7777777777777778, \"#fb9f3a\"], [0.8888888888888888, \"#fdca26\"], [1.0, \"#f0f921\"]], \"type\": \"heatmap\"}], \"heatmapgl\": [{\"colorbar\": {\"outlinewidth\": 0, \"ticks\": \"\"}, \"colorscale\": [[0.0, \"#0d0887\"], [0.1111111111111111, \"#46039f\"], [0.2222222222222222, \"#7201a8\"], [0.3333333333333333, \"#9c179e\"], [0.4444444444444444, \"#bd3786\"], [0.5555555555555556, \"#d8576b\"], [0.6666666666666666, \"#ed7953\"], [0.7777777777777778, \"#fb9f3a\"], [0.8888888888888888, \"#fdca26\"], [1.0, \"#f0f921\"]], \"type\": \"heatmapgl\"}], \"histogram\": [{\"marker\": {\"colorbar\": {\"outlinewidth\": 0, \"ticks\": \"\"}}, \"type\": \"histogram\"}], \"histogram2d\": [{\"colorbar\": {\"outlinewidth\": 0, \"ticks\": \"\"}, \"colorscale\": [[0.0, \"#0d0887\"], [0.1111111111111111, \"#46039f\"], [0.2222222222222222, \"#7201a8\"], [0.3333333333333333, \"#9c179e\"], [0.4444444444444444, \"#bd3786\"], [0.5555555555555556, \"#d8576b\"], [0.6666666666666666, \"#ed7953\"], [0.7777777777777778, \"#fb9f3a\"], [0.8888888888888888, \"#fdca26\"], [1.0, \"#f0f921\"]], \"type\": \"histogram2d\"}], \"histogram2dcontour\": [{\"colorbar\": {\"outlinewidth\": 0, \"ticks\": \"\"}, \"colorscale\": [[0.0, \"#0d0887\"], [0.1111111111111111, \"#46039f\"], [0.2222222222222222, \"#7201a8\"], [0.3333333333333333, \"#9c179e\"], [0.4444444444444444, \"#bd3786\"], [0.5555555555555556, \"#d8576b\"], [0.6666666666666666, \"#ed7953\"], [0.7777777777777778, \"#fb9f3a\"], [0.8888888888888888, \"#fdca26\"], [1.0, \"#f0f921\"]], \"type\": \"histogram2dcontour\"}], \"mesh3d\": [{\"colorbar\": {\"outlinewidth\": 0, \"ticks\": \"\"}, \"type\": \"mesh3d\"}], \"parcoords\": [{\"line\": {\"colorbar\": {\"outlinewidth\": 0, \"ticks\": \"\"}}, \"type\": \"parcoords\"}], \"pie\": [{\"automargin\": true, \"type\": \"pie\"}], \"scatter\": [{\"marker\": {\"colorbar\": {\"outlinewidth\": 0, \"ticks\": \"\"}}, \"type\": \"scatter\"}], \"scatter3d\": [{\"line\": {\"colorbar\": {\"outlinewidth\": 0, \"ticks\": \"\"}}, \"marker\": {\"colorbar\": {\"outlinewidth\": 0, \"ticks\": \"\"}}, \"type\": \"scatter3d\"}], \"scattercarpet\": [{\"marker\": {\"colorbar\": {\"outlinewidth\": 0, \"ticks\": \"\"}}, \"type\": \"scattercarpet\"}], \"scattergeo\": [{\"marker\": {\"colorbar\": {\"outlinewidth\": 0, \"ticks\": \"\"}}, \"type\": \"scattergeo\"}], \"scattergl\": [{\"marker\": {\"colorbar\": {\"outlinewidth\": 0, \"ticks\": \"\"}}, \"type\": \"scattergl\"}], \"scattermapbox\": [{\"marker\": {\"colorbar\": {\"outlinewidth\": 0, \"ticks\": \"\"}}, \"type\": \"scattermapbox\"}], \"scatterpolar\": [{\"marker\": {\"colorbar\": {\"outlinewidth\": 0, \"ticks\": \"\"}}, \"type\": \"scatterpolar\"}], \"scatterpolargl\": [{\"marker\": {\"colorbar\": {\"outlinewidth\": 0, \"ticks\": \"\"}}, \"type\": \"scatterpolargl\"}], \"scatterternary\": [{\"marker\": {\"colorbar\": {\"outlinewidth\": 0, \"ticks\": \"\"}}, \"type\": \"scatterternary\"}], \"surface\": [{\"colorbar\": {\"outlinewidth\": 0, \"ticks\": \"\"}, \"colorscale\": [[0.0, \"#0d0887\"], [0.1111111111111111, \"#46039f\"], [0.2222222222222222, \"#7201a8\"], [0.3333333333333333, \"#9c179e\"], [0.4444444444444444, \"#bd3786\"], [0.5555555555555556, \"#d8576b\"], [0.6666666666666666, \"#ed7953\"], [0.7777777777777778, \"#fb9f3a\"], [0.8888888888888888, \"#fdca26\"], [1.0, \"#f0f921\"]], \"type\": \"surface\"}], \"table\": [{\"cells\": {\"fill\": {\"color\": \"#EBF0F8\"}, \"line\": {\"color\": \"white\"}}, \"header\": {\"fill\": {\"color\": \"#C8D4E3\"}, \"line\": {\"color\": \"white\"}}, \"type\": \"table\"}]}, \"layout\": {\"annotationdefaults\": {\"arrowcolor\": \"#2a3f5f\", \"arrowhead\": 0, \"arrowwidth\": 1}, \"coloraxis\": {\"colorbar\": {\"outlinewidth\": 0, \"ticks\": \"\"}}, \"colorscale\": {\"diverging\": [[0, \"#8e0152\"], [0.1, \"#c51b7d\"], [0.2, \"#de77ae\"], [0.3, \"#f1b6da\"], [0.4, \"#fde0ef\"], [0.5, \"#f7f7f7\"], [0.6, \"#e6f5d0\"], [0.7, \"#b8e186\"], [0.8, \"#7fbc41\"], [0.9, \"#4d9221\"], [1, \"#276419\"]], \"sequential\": [[0.0, \"#0d0887\"], [0.1111111111111111, \"#46039f\"], [0.2222222222222222, \"#7201a8\"], [0.3333333333333333, \"#9c179e\"], [0.4444444444444444, \"#bd3786\"], [0.5555555555555556, \"#d8576b\"], [0.6666666666666666, \"#ed7953\"], [0.7777777777777778, \"#fb9f3a\"], [0.8888888888888888, \"#fdca26\"], [1.0, \"#f0f921\"]], \"sequentialminus\": [[0.0, \"#0d0887\"], [0.1111111111111111, \"#46039f\"], [0.2222222222222222, \"#7201a8\"], [0.3333333333333333, \"#9c179e\"], [0.4444444444444444, \"#bd3786\"], [0.5555555555555556, \"#d8576b\"], [0.6666666666666666, \"#ed7953\"], [0.7777777777777778, \"#fb9f3a\"], [0.8888888888888888, \"#fdca26\"], [1.0, \"#f0f921\"]]}, \"colorway\": [\"#636efa\", \"#EF553B\", \"#00cc96\", \"#ab63fa\", \"#FFA15A\", \"#19d3f3\", \"#FF6692\", \"#B6E880\", \"#FF97FF\", \"#FECB52\"], \"font\": {\"color\": \"#2a3f5f\"}, \"geo\": {\"bgcolor\": \"white\", \"lakecolor\": \"white\", \"landcolor\": \"#E5ECF6\", \"showlakes\": true, \"showland\": true, \"subunitcolor\": \"white\"}, \"hoverlabel\": {\"align\": \"left\"}, \"hovermode\": \"closest\", \"mapbox\": {\"style\": \"light\"}, \"paper_bgcolor\": \"white\", \"plot_bgcolor\": \"#E5ECF6\", \"polar\": {\"angularaxis\": {\"gridcolor\": \"white\", \"linecolor\": \"white\", \"ticks\": \"\"}, \"bgcolor\": \"#E5ECF6\", \"radialaxis\": {\"gridcolor\": \"white\", \"linecolor\": \"white\", \"ticks\": \"\"}}, \"scene\": {\"xaxis\": {\"backgroundcolor\": \"#E5ECF6\", \"gridcolor\": \"white\", \"gridwidth\": 2, \"linecolor\": \"white\", \"showbackground\": true, \"ticks\": \"\", \"zerolinecolor\": \"white\"}, \"yaxis\": {\"backgroundcolor\": \"#E5ECF6\", \"gridcolor\": \"white\", \"gridwidth\": 2, \"linecolor\": \"white\", \"showbackground\": true, \"ticks\": \"\", \"zerolinecolor\": \"white\"}, \"zaxis\": {\"backgroundcolor\": \"#E5ECF6\", \"gridcolor\": \"white\", \"gridwidth\": 2, \"linecolor\": \"white\", \"showbackground\": true, \"ticks\": \"\", \"zerolinecolor\": \"white\"}}, \"shapedefaults\": {\"line\": {\"color\": \"#2a3f5f\"}}, \"ternary\": {\"aaxis\": {\"gridcolor\": \"white\", \"linecolor\": \"white\", \"ticks\": \"\"}, \"baxis\": {\"gridcolor\": \"white\", \"linecolor\": \"white\", \"ticks\": \"\"}, \"bgcolor\": \"#E5ECF6\", \"caxis\": {\"gridcolor\": \"white\", \"linecolor\": \"white\", \"ticks\": \"\"}}, \"title\": {\"x\": 0.05}, \"xaxis\": {\"automargin\": true, \"gridcolor\": \"white\", \"linecolor\": \"white\", \"ticks\": \"\", \"title\": {\"standoff\": 15}, \"zerolinecolor\": \"white\", \"zerolinewidth\": 2}, \"yaxis\": {\"automargin\": true, \"gridcolor\": \"white\", \"linecolor\": \"white\", \"ticks\": \"\", \"title\": {\"standoff\": 15}, \"zerolinecolor\": \"white\", \"zerolinewidth\": 2}}}, \"title\": {\"text\": \"$\\\\text{Bias Error}$\", \"x\": 0.48, \"xanchor\": \"center\", \"y\": 0.9, \"yanchor\": \"top\"}, \"xaxis\": {\"title\": {\"text\": \"$\\\\text{Time (} s \\\\text{)}$\"}}, \"yaxis\": {\"title\": {\"text\": \"$\\\\text{Bias Error (} m/s^2 \\\\text)$\"}}},\n",
       "                        {\"responsive\": true}\n",
       "                    ).then(function(){\n",
       "                            \n",
       "var gd = document.getElementById('b2650f4d-4e15-433c-8378-80ee9ca2e337');\n",
       "var x = new MutationObserver(function (mutations, observer) {{\n",
       "        var display = window.getComputedStyle(gd).display;\n",
       "        if (!display || display === 'none') {{\n",
       "            console.log([gd, 'removed!']);\n",
       "            Plotly.purge(gd);\n",
       "            observer.disconnect();\n",
       "        }}\n",
       "}});\n",
       "\n",
       "// Listen for the removal of the full notebook cells\n",
       "var notebookContainer = gd.closest('#notebook-container');\n",
       "if (notebookContainer) {{\n",
       "    x.observe(notebookContainer, {childList: true});\n",
       "}}\n",
       "\n",
       "// Listen for the clearing of the current output cell\n",
       "var outputEl = gd.closest('.output');\n",
       "if (outputEl) {{\n",
       "    x.observe(outputEl, {childList: true});\n",
       "}}\n",
       "\n",
       "                        })\n",
       "                };\n",
       "                });\n",
       "            </script>\n",
       "        </div>"
      ]
     },
     "metadata": {},
     "output_type": "display_data"
    },
    {
     "data": {
      "application/vnd.plotly.v1+json": {
       "config": {
        "plotlyServerURL": "https://plot.ly"
       },
       "data": [
        {
         "line": {
          "width": 4
         },
         "name": "True Position",
         "type": "scatter",
         "x": [
          0,
          0.2,
          0.4,
          0.6000000000000001,
          0.8,
          1,
          1.2000000000000002,
          1.4000000000000001,
          1.6,
          1.8,
          2,
          2.2,
          2.4000000000000004,
          2.6,
          2.8000000000000003,
          3,
          3.2,
          3.4000000000000004,
          3.6,
          3.8000000000000003,
          4,
          4.2,
          4.4,
          4.6000000000000005,
          4.800000000000001,
          5,
          5.2,
          5.4,
          5.6000000000000005,
          5.800000000000001,
          6,
          6.2,
          6.4,
          6.6000000000000005,
          6.800000000000001,
          7,
          7.2,
          7.4,
          7.6000000000000005,
          7.800000000000001,
          8,
          8.200000000000001,
          8.4,
          8.6,
          8.8,
          9,
          9.200000000000001,
          9.4,
          9.600000000000001,
          9.8,
          10,
          10.200000000000001,
          10.4,
          10.600000000000001,
          10.8,
          11,
          11.200000000000001,
          11.4,
          11.600000000000001,
          11.8,
          12,
          12.200000000000001,
          12.4,
          12.600000000000001,
          12.8,
          13,
          13.200000000000001,
          13.4,
          13.600000000000001,
          13.8,
          14,
          14.200000000000001,
          14.4,
          14.600000000000001,
          14.8,
          15,
          15.200000000000001,
          15.4,
          15.600000000000001,
          15.8,
          16,
          16.2,
          16.400000000000002,
          16.6,
          16.8,
          17,
          17.2,
          17.400000000000002,
          17.6,
          17.8,
          18,
          18.2,
          18.400000000000002,
          18.6,
          18.8,
          19,
          19.200000000000003,
          19.400000000000002,
          19.6,
          19.8,
          20,
          20.200000000000003,
          20.400000000000002,
          20.6,
          20.8,
          21,
          21.200000000000003,
          21.400000000000002,
          21.6,
          21.8,
          22,
          22.200000000000003,
          22.400000000000002,
          22.6,
          22.8,
          23,
          23.200000000000003,
          23.400000000000002,
          23.6,
          23.8,
          24,
          24.200000000000003,
          24.400000000000002,
          24.6,
          24.8,
          25,
          25.200000000000003,
          25.400000000000002,
          25.6,
          25.8,
          26,
          26.200000000000003,
          26.400000000000002,
          26.6,
          26.8,
          27,
          27.200000000000003,
          27.400000000000002,
          27.6,
          27.8,
          28,
          28.200000000000003,
          28.400000000000002,
          28.6,
          28.8,
          29,
          29.200000000000003,
          29.400000000000002,
          29.6,
          29.8,
          30
         ],
         "y": [
          -9.3017935862743,
          10.804096798371347,
          30.91788640604973,
          51.047571296874345,
          71.20114117305732,
          91.38657618313512,
          111.61184373001548,
          131.88489528412262,
          152.21366320291492,
          172.60605755804764,
          193.06996297145005,
          213.61323546158155,
          234.2436993011288,
          254.96914388740151,
          275.79732062667676,
          296.73593983374104,
          317.7926676478654,
          338.9751229664529,
          360.2908743975813,
          381.74743723266096,
          403.35227044041744,
          425.1127736834049,
          447.03628435823805,
          469.13007466073265,
          491.4013486771247,
          513.8572395025296,
          536.5048063878016,
          559.3510319159268,
          582.4028192090818,
          605.6669891674785,
          629.1502777410956,
          652.8593332353857,
          676.8007136520438,
          700.9808840658943,
          725.4062140389444,
          750.082975072649,
          775.0173380993899,
          800.2153710141858,
          825.6830362476173,
          851.4261883809309,
          877.4505718042873,
          903.7618184190801,
          930.3654453852525,
          957.2668529145031,
          984.4713221102792,
          1011.9840128553984,
          1039.8099617481705,
          1067.9540800878228,
          1096.4211519100445,
          1125.2158320734393,
          1154.342644397643,
          1183.8059798538548,
          1213.6100948085066,
          1243.759109320774,
          1274.2570054946132,
          1305.1076258859619,
          1336.3146719657775,
          1367.881702639491,
          1399.8121328234981,
          1432.1092320792354,
          1464.7761233053984,
          1497.8157814888245,
          1531.231032514542,
          1565.0245520354463,
          1599.1988644020807,
          1633.756341652924,
          1668.6992025656134,
          1704.0295117694602,
          1739.749178919622,
          1775.859957933272,
          1812.3634462880486,
          1849.2610843830962,
          1886.554154962913,
          1924.2437826042787,
          1962.330933266435,
          2000.8164139047144,
          2039.7008721477719,
          2078.984796038536,
          2118.6685138390085,
          2158.752193898952,
          2199.2358445885657,
          2240.1193142951192,
          2281.402291483616,
          2323.084304821388,
          2365.1647233666263,
          2407.6427568207578,
          2450.5174558445406,
          2493.787712437796,
          2537.452260382596,
          2581.5096757497213,
          2625.958377468228,
          2670.7966279578445,
          2716.0225338239884,
          2761.6340466150896,
          2807.628963641959,
          2854.004928858817,
          2900.7594338056897,
          2947.8898186117626,
          2995.393273059284,
          3043.2668377076216,
          3091.507405077,
          3140.111720891445,
          3189.076385380459,
          3238.397854638872,
          3288.072442044371,
          3338.096319732086,
          3388.4655201256983,
          3439.1759375244037,
          3490.2233297451517,
          3541.603319819452,
          3593.3113977441058,
          3645.342922285152,
          3697.6931228342964,
          3750.3571013170895,
          3803.3298341520895,
          3856.606174260235,
          3910.1808531236,
          3964.048482892736,
          4018.203558541735,
          4072.640460070174,
          4127.353454751028,
          4182.336699423704,
          4237.584242831205,
          4293.09002800057,
          4348.847894665576,
          4404.851581730759,
          4461.094729775782,
          4517.570883599093,
          4574.273494799943,
          4631.1959243976635,
          4688.331445487137,
          4745.673245929507,
          4803.214431076919,
          4860.948026530294,
          4918.866980928999,
          4976.964168771287,
          5035.232393264427,
          5093.664389203293,
          5152.252825876366,
          5210.990309997926,
          5269.869388665257,
          5328.882552339708,
          5388.0222378504195,
          5447.2808314194845,
          5506.65067170735,
          5566.124052877267,
          5625.693227677512,
          5685.350410540185,
          5745.087780695338,
          5804.897485299169,
          5864.771642575066
         ]
        },
        {
         "name": "Estimated Position",
         "type": "scatter",
         "x": [
          0,
          0.2,
          0.4,
          0.6000000000000001,
          0.8,
          1,
          1.2000000000000002,
          1.4000000000000001,
          1.6,
          1.8,
          2,
          2.2,
          2.4000000000000004,
          2.6,
          2.8000000000000003,
          3,
          3.2,
          3.4000000000000004,
          3.6,
          3.8000000000000003,
          4,
          4.2,
          4.4,
          4.6000000000000005,
          4.800000000000001,
          5,
          5.2,
          5.4,
          5.6000000000000005,
          5.800000000000001,
          6,
          6.2,
          6.4,
          6.6000000000000005,
          6.800000000000001,
          7,
          7.2,
          7.4,
          7.6000000000000005,
          7.800000000000001,
          8,
          8.200000000000001,
          8.4,
          8.6,
          8.8,
          9,
          9.200000000000001,
          9.4,
          9.600000000000001,
          9.8,
          10,
          10.200000000000001,
          10.4,
          10.600000000000001,
          10.8,
          11,
          11.200000000000001,
          11.4,
          11.600000000000001,
          11.8,
          12,
          12.200000000000001,
          12.4,
          12.600000000000001,
          12.8,
          13,
          13.200000000000001,
          13.4,
          13.600000000000001,
          13.8,
          14,
          14.200000000000001,
          14.4,
          14.600000000000001,
          14.8,
          15,
          15.200000000000001,
          15.4,
          15.600000000000001,
          15.8,
          16,
          16.2,
          16.400000000000002,
          16.6,
          16.8,
          17,
          17.2,
          17.400000000000002,
          17.6,
          17.8,
          18,
          18.2,
          18.400000000000002,
          18.6,
          18.8,
          19,
          19.200000000000003,
          19.400000000000002,
          19.6,
          19.8,
          20,
          20.200000000000003,
          20.400000000000002,
          20.6,
          20.8,
          21,
          21.200000000000003,
          21.400000000000002,
          21.6,
          21.8,
          22,
          22.200000000000003,
          22.400000000000002,
          22.6,
          22.8,
          23,
          23.200000000000003,
          23.400000000000002,
          23.6,
          23.8,
          24,
          24.200000000000003,
          24.400000000000002,
          24.6,
          24.8,
          25,
          25.200000000000003,
          25.400000000000002,
          25.6,
          25.8,
          26,
          26.200000000000003,
          26.400000000000002,
          26.6,
          26.8,
          27,
          27.200000000000003,
          27.400000000000002,
          27.6,
          27.8,
          28,
          28.200000000000003,
          28.400000000000002,
          28.6,
          28.8,
          29,
          29.200000000000003,
          29.400000000000002,
          29.6,
          29.8,
          30
         ],
         "y": [
          -9.224041671528635,
          11.3058563595211,
          31.133676161109285,
          51.38486842003269,
          71.47271208545669,
          91.79854688086196,
          112.08318062320691,
          132.23554790456646,
          152.47820572952486,
          172.94719513331628,
          193.23227522895584,
          213.69681687487517,
          234.33817924255246,
          255.11031490426592,
          275.9767589821588,
          296.9093802388046,
          317.95220449304225,
          339.13620040214784,
          360.43384526560095,
          381.8562699594578,
          403.46363256478844,
          425.2066608531924,
          447.1111640130376,
          469.159131270709,
          491.43173509482494,
          513.9370644480547,
          536.562873602088,
          559.4346091204427,
          582.4902817699376,
          605.7832239242834,
          629.2276755923282,
          652.8444855527256,
          676.7776138625675,
          701.0002536370065,
          725.3826774008246,
          750.0588688717604,
          775.0649472868641,
          800.2503132413606,
          825.6839275376946,
          851.4328048507842,
          877.4594812819307,
          903.7732091814876,
          930.3863889602734,
          957.2470978170406,
          984.4371789698814,
          1011.9538834747901,
          1039.7688810297789,
          1067.9282607229,
          1096.403694479689,
          1125.215657637602,
          1154.3355268920386,
          1183.8212996351886,
          1213.6262344780591,
          1243.7837585950651,
          1274.310015349981,
          1305.1919053679337,
          1336.4165306811628,
          1367.9732567801825,
          1399.8865466370587,
          1432.1975177407635,
          1464.882710139518,
          1497.9253614212723,
          1531.357949424891,
          1565.1529652091708,
          1599.3303640583242,
          1633.888780320139,
          1668.8532772405897,
          1704.218481367228,
          1739.936202841899,
          1776.0708177385065,
          1812.6028686555815,
          1849.4960671907802,
          1886.8080013674585,
          1924.4966851731822,
          1962.5792791174874,
          2001.0917127504747,
          2039.9700014391392,
          2079.2410088188794,
          2118.936053684418,
          2159.0353271368945,
          2199.5006324140704,
          2240.3761818689627,
          2281.65540710129,
          2323.3327965027584,
          2365.421316946206,
          2407.868578576972,
          2450.72917325693,
          2494.0081892147728,
          2537.6724599525446,
          2581.7374992783416,
          2626.2010649135614,
          2671.049597995959,
          2716.2707446047057,
          2761.8746186926164,
          2807.8835318602246,
          2854.2387352882843,
          2900.9959517519405,
          2948.132735663261,
          2995.622931550477,
          3043.5064651143207,
          3091.749373831485,
          3140.3527563575367,
          3189.324858422783,
          3238.6452775024404,
          3288.3218973147154,
          3338.340796775438,
          3388.7153616313226,
          3439.427758355999,
          3490.4782803896014,
          3541.846302754882,
          3593.5409477404532,
          3645.582275177676,
          3697.924567248178,
          3750.575701044058,
          3803.53287720845,
          3856.8011303803437,
          3910.3765669916374,
          3964.2455896128554,
          4018.390049275652,
          4072.815425589766,
          4127.53395842622,
          4182.517515821666,
          4237.757297292019,
          4293.267234275376,
          4349.026632151705,
          4405.046471491338,
          4461.282375124386,
          4517.753067169725,
          4574.452773106376,
          4631.361886152427,
          4688.502964295111,
          4745.850496526994,
          4803.3958870977485,
          4861.098178447223,
          4919.015983984907,
          4977.091224250321,
          5035.39650931006,
          5093.82119891151,
          5152.399019325445,
          5211.130552970287,
          5270.014106315185,
          5329.028911658224,
          5388.175279900466,
          5447.44163105671,
          5506.818573863251,
          5566.297494462707,
          5625.89221832064,
          5685.568594432496,
          5745.293187996066,
          5805.096756015356,
          5864.972633590157
         ]
        },
        {
         "line": {
          "color": "green",
          "dash": "dash",
          "width": 1
         },
         "name": "$+ \\sigma$",
         "type": "scatter",
         "x": [
          0,
          0.2,
          0.4,
          0.6000000000000001,
          0.8,
          1,
          1.2000000000000002,
          1.4000000000000001,
          1.6,
          1.8,
          2,
          2.2,
          2.4000000000000004,
          2.6,
          2.8000000000000003,
          3,
          3.2,
          3.4000000000000004,
          3.6,
          3.8000000000000003,
          4,
          4.2,
          4.4,
          4.6000000000000005,
          4.800000000000001,
          5,
          5.2,
          5.4,
          5.6000000000000005,
          5.800000000000001,
          6,
          6.2,
          6.4,
          6.6000000000000005,
          6.800000000000001,
          7,
          7.2,
          7.4,
          7.6000000000000005,
          7.800000000000001,
          8,
          8.200000000000001,
          8.4,
          8.6,
          8.8,
          9,
          9.200000000000001,
          9.4,
          9.600000000000001,
          9.8,
          10,
          10.200000000000001,
          10.4,
          10.600000000000001,
          10.8,
          11,
          11.200000000000001,
          11.4,
          11.600000000000001,
          11.8,
          12,
          12.200000000000001,
          12.4,
          12.600000000000001,
          12.8,
          13,
          13.200000000000001,
          13.4,
          13.600000000000001,
          13.8,
          14,
          14.200000000000001,
          14.4,
          14.600000000000001,
          14.8,
          15,
          15.200000000000001,
          15.4,
          15.600000000000001,
          15.8,
          16,
          16.2,
          16.400000000000002,
          16.6,
          16.8,
          17,
          17.2,
          17.400000000000002,
          17.6,
          17.8,
          18,
          18.2,
          18.400000000000002,
          18.6,
          18.8,
          19,
          19.200000000000003,
          19.400000000000002,
          19.6,
          19.8,
          20,
          20.200000000000003,
          20.400000000000002,
          20.6,
          20.8,
          21,
          21.200000000000003,
          21.400000000000002,
          21.6,
          21.8,
          22,
          22.200000000000003,
          22.400000000000002,
          22.6,
          22.8,
          23,
          23.200000000000003,
          23.400000000000002,
          23.6,
          23.8,
          24,
          24.200000000000003,
          24.400000000000002,
          24.6,
          24.8,
          25,
          25.200000000000003,
          25.400000000000002,
          25.6,
          25.8,
          26,
          26.200000000000003,
          26.400000000000002,
          26.6,
          26.8,
          27,
          27.200000000000003,
          27.400000000000002,
          27.6,
          27.8,
          28,
          28.200000000000003,
          28.400000000000002,
          28.6,
          28.8,
          29,
          29.200000000000003,
          29.400000000000002,
          29.6,
          29.8,
          30
         ],
         "y": [
          -8.229004481318645,
          12.011207698233347,
          31.710085464971307,
          51.88428260691848,
          71.91954180474015,
          92.20654753913514,
          112.46100122014701,
          132.58904367970428,
          152.8115578338858,
          173.2635124002771,
          193.5339436332776,
          213.9857149931761,
          234.61581759849915,
          255.37792967779936,
          276.23537711429043,
          297.15986592772083,
          318.1952931951897,
          339.3725242116803,
          360.66395220206454,
          382.08063886060137,
          403.682684749635,
          425.4207693722021,
          447.32066106875703,
          469.3643142326043,
          491.632871420706,
          514.1343957456302,
          536.7566190074369,
          559.6249681287785,
          582.6774366234323,
          605.9673416388305,
          629.4089096878143,
          653.022977538164,
          676.9534945172526,
          701.1736441209257,
          725.5536902213439,
          750.2276087286921,
          775.2315118141116,
          800.4147936602063,
          825.8464092342676,
          851.5933678881961,
          877.6182008558934,
          903.9301560268589,
          930.5416297148391,
          957.4006953479089,
          984.5891926670828,
          1012.1043695160234,
          1039.917892619698,
          1068.0758483098716,
          1096.549905952562,
          1125.3605385046994,
          1154.4791204442952,
          1183.96364709512,
          1213.7673751360398,
          1243.9237299342124,
          1274.4488531607885,
          1305.3296438536668,
          1336.5532025549103,
          1368.1088933543579,
          1400.0211779060596,
          1432.3311724574169,
          1465.0154158858743,
          1498.0571446742522,
          1531.4888356172346,
          1565.2829787860946,
          1599.4595285302523,
          1634.0171183118332,
          1668.9808105369784,
          1704.3452309561992,
          1740.0621889543027,
          1776.196059885584,
          1812.727385664023,
          1849.6198772355926,
          1886.931122002808,
          1924.6191333613626,
          1962.701071256153,
          2001.2128646982626,
          2040.0905285397976,
          2079.360925924006,
          2119.0553751749076,
          2159.1540669431815,
          2199.6188040352517,
          2240.493798390875,
          2281.7724812136103,
          2323.449340515191,
          2365.5373428038197,
          2407.984097874736,
          2450.844197253503,
          2494.122728845591,
          2537.786525842253,
          2581.8511017526066,
          2626.314214010304,
          2671.1623034760437,
          2716.383015962115,
          2761.986465164144,
          2807.9949624347128,
          2854.3497587154316,
          2901.106576550707,
          2948.242970129891,
          2995.732783766161,
          3043.615942952517,
          3091.858484964919,
          3140.461508264895,
          3189.4332583951214,
          3238.7533326493144,
          3288.429614570056,
          3338.4481829031806,
          3388.822423230802,
          3439.5345018671246,
          3490.584712097823,
          3541.952428795953,
          3593.646774105009,
          3645.687807715629,
          3698.0298116729414,
          3750.6806629366083,
          3803.637562021231,
          3856.9055434410257,
          3910.4807135067317,
          3964.349474671197,
          4018.4936778517535,
          4072.9188025470485,
          4127.637088520125,
          4182.620403702658,
          4237.859947508484,
          4293.369651276409,
          4349.12882028981,
          4405.148435025029,
          4461.384118220698,
          4517.854593906643,
          4574.554087475179,
          4631.462992059954,
          4688.603865565954,
          4745.951196905617,
          4803.496390250537,
          4861.198487964467,
          4919.116103382721,
          4977.191156972505,
          5035.496258729896,
          5093.920768333508,
          5152.4984119870305,
          5211.229772043439,
          5270.113154908023,
          5329.127792816546,
          5388.273996609241,
          5447.540186241527,
          5506.916970391721,
          5566.39573514583,
          5625.990305914124,
          5685.666531638045,
          5745.390977462625,
          5805.194400340327,
          5865.070135320572
         ]
        },
        {
         "line": {
          "color": "firebrick",
          "dash": "dash",
          "width": 1
         },
         "name": "$-\\sigma$",
         "type": "scatter",
         "x": [
          0,
          0.2,
          0.4,
          0.6000000000000001,
          0.8,
          1,
          1.2000000000000002,
          1.4000000000000001,
          1.6,
          1.8,
          2,
          2.2,
          2.4000000000000004,
          2.6,
          2.8000000000000003,
          3,
          3.2,
          3.4000000000000004,
          3.6,
          3.8000000000000003,
          4,
          4.2,
          4.4,
          4.6000000000000005,
          4.800000000000001,
          5,
          5.2,
          5.4,
          5.6000000000000005,
          5.800000000000001,
          6,
          6.2,
          6.4,
          6.6000000000000005,
          6.800000000000001,
          7,
          7.2,
          7.4,
          7.6000000000000005,
          7.800000000000001,
          8,
          8.200000000000001,
          8.4,
          8.6,
          8.8,
          9,
          9.200000000000001,
          9.4,
          9.600000000000001,
          9.8,
          10,
          10.200000000000001,
          10.4,
          10.600000000000001,
          10.8,
          11,
          11.200000000000001,
          11.4,
          11.600000000000001,
          11.8,
          12,
          12.200000000000001,
          12.4,
          12.600000000000001,
          12.8,
          13,
          13.200000000000001,
          13.4,
          13.600000000000001,
          13.8,
          14,
          14.200000000000001,
          14.4,
          14.600000000000001,
          14.8,
          15,
          15.200000000000001,
          15.4,
          15.600000000000001,
          15.8,
          16,
          16.2,
          16.400000000000002,
          16.6,
          16.8,
          17,
          17.2,
          17.400000000000002,
          17.6,
          17.8,
          18,
          18.2,
          18.400000000000002,
          18.6,
          18.8,
          19,
          19.200000000000003,
          19.400000000000002,
          19.6,
          19.8,
          20,
          20.200000000000003,
          20.400000000000002,
          20.6,
          20.8,
          21,
          21.200000000000003,
          21.400000000000002,
          21.6,
          21.8,
          22,
          22.200000000000003,
          22.400000000000002,
          22.6,
          22.8,
          23,
          23.200000000000003,
          23.400000000000002,
          23.6,
          23.8,
          24,
          24.200000000000003,
          24.400000000000002,
          24.6,
          24.8,
          25,
          25.200000000000003,
          25.400000000000002,
          25.6,
          25.8,
          26,
          26.200000000000003,
          26.400000000000002,
          26.6,
          26.8,
          27,
          27.200000000000003,
          27.400000000000002,
          27.6,
          27.8,
          28,
          28.200000000000003,
          28.400000000000002,
          28.6,
          28.8,
          29,
          29.200000000000003,
          29.400000000000002,
          29.6,
          29.8,
          30
         ],
         "y": [
          -10.219078861738625,
          10.600505020808852,
          30.557266857247264,
          50.885454233146895,
          71.02588236617324,
          91.39054622258878,
          111.70536002626682,
          131.88205212942864,
          152.14485362516393,
          172.63087786635546,
          192.93060682463408,
          213.40791875657425,
          234.06054088660576,
          254.84270013073248,
          275.71814085002717,
          296.6588945498884,
          317.70911579089477,
          338.8998765926154,
          360.20373832913737,
          381.6319010583142,
          403.2445803799419,
          424.9925523341827,
          446.9016669573181,
          468.9539483088137,
          491.2305987689439,
          513.7397331504792,
          536.369128196739,
          559.2442501121069,
          582.3031269164429,
          605.5991062097364,
          629.046441496842,
          652.6659935672872,
          676.6017332078824,
          700.8268631530873,
          725.2116645803053,
          749.8901290148287,
          774.8983827596167,
          800.0858328225148,
          825.5214458411215,
          851.2722418133724,
          877.300761707968,
          903.6162623361163,
          930.2311482057077,
          957.0935002861723,
          984.28516527268,
          1011.8033974335568,
          1039.6198694398597,
          1067.7806731359283,
          1096.2574830068158,
          1125.0707767705044,
          1154.191933339782,
          1183.678952175257,
          1213.4850938200784,
          1243.643787255918,
          1274.1711775391736,
          1305.0541668822007,
          1336.2798588074154,
          1367.8376202060072,
          1399.7519153680578,
          1432.06386302411,
          1464.7500043931616,
          1497.7935781682925,
          1531.2270632325476,
          1565.022951632247,
          1599.2011995863961,
          1633.7604423284447,
          1668.725743944201,
          1704.0917317782566,
          1739.8102167294956,
          1775.9455755914291,
          1812.47835164714,
          1849.3722571459678,
          1886.684880732109,
          1924.3742369850017,
          1962.4574869788219,
          2000.9705608026868,
          2039.8494743384808,
          2079.121091713753,
          2118.816732193928,
          2158.9165873306074,
          2199.382460792889,
          2240.2585653470505,
          2281.53833298897,
          2323.2162524903256,
          2365.305291088592,
          2407.753059279208,
          2450.6141492603574,
          2493.8936495839544,
          2537.558394062836,
          2581.6238968040766,
          2626.0879158168186,
          2670.9368925158747,
          2716.158473247296,
          2761.7627722210887,
          2807.7721012857364,
          2854.127711861137,
          2900.885326953174,
          2948.022501196631,
          2995.513079334793,
          3043.3969872761245,
          3091.640262698051,
          3140.244004450178,
          3189.216458450445,
          3238.5372223555664,
          3288.214180059375,
          3338.233410647695,
          3388.608300031843,
          3439.321014844873,
          3490.37184868138,
          3541.740176713811,
          3593.4351213758973,
          3645.476742639723,
          3697.8193228234145,
          3750.4707391515076,
          3803.4281923956687,
          3856.6967173196617,
          3910.272420476543,
          3964.1417045545136,
          4018.2864206995505,
          4072.712048632484,
          4127.430828332315,
          4182.414627940674,
          4237.654647075554,
          4293.164817274343,
          4348.924444013599,
          4404.944507957646,
          4461.180632028074,
          4517.651540432807,
          4574.351458737574,
          4631.260780244901,
          4688.4020630242685,
          4745.749796148371,
          4803.29538394496,
          4860.99786892998,
          4918.915864587092,
          4976.991291528137,
          5035.296759890223,
          5093.7216294895115,
          5152.299626663859,
          5211.031333897135,
          5269.915057722347,
          5328.930030499902,
          5388.076563191691,
          5447.343075871893,
          5506.720177334781,
          5566.199253779583,
          5625.794130727155,
          5685.470657226947,
          5745.195398529507,
          5804.999111690385,
          5864.8751318597415
         ]
        }
       ],
       "layout": {
        "template": {
         "data": {
          "bar": [
           {
            "error_x": {
             "color": "#2a3f5f"
            },
            "error_y": {
             "color": "#2a3f5f"
            },
            "marker": {
             "line": {
              "color": "#E5ECF6",
              "width": 0.5
             }
            },
            "type": "bar"
           }
          ],
          "barpolar": [
           {
            "marker": {
             "line": {
              "color": "#E5ECF6",
              "width": 0.5
             }
            },
            "type": "barpolar"
           }
          ],
          "carpet": [
           {
            "aaxis": {
             "endlinecolor": "#2a3f5f",
             "gridcolor": "white",
             "linecolor": "white",
             "minorgridcolor": "white",
             "startlinecolor": "#2a3f5f"
            },
            "baxis": {
             "endlinecolor": "#2a3f5f",
             "gridcolor": "white",
             "linecolor": "white",
             "minorgridcolor": "white",
             "startlinecolor": "#2a3f5f"
            },
            "type": "carpet"
           }
          ],
          "choropleth": [
           {
            "colorbar": {
             "outlinewidth": 0,
             "ticks": ""
            },
            "type": "choropleth"
           }
          ],
          "contour": [
           {
            "colorbar": {
             "outlinewidth": 0,
             "ticks": ""
            },
            "colorscale": [
             [
              0,
              "#0d0887"
             ],
             [
              0.1111111111111111,
              "#46039f"
             ],
             [
              0.2222222222222222,
              "#7201a8"
             ],
             [
              0.3333333333333333,
              "#9c179e"
             ],
             [
              0.4444444444444444,
              "#bd3786"
             ],
             [
              0.5555555555555556,
              "#d8576b"
             ],
             [
              0.6666666666666666,
              "#ed7953"
             ],
             [
              0.7777777777777778,
              "#fb9f3a"
             ],
             [
              0.8888888888888888,
              "#fdca26"
             ],
             [
              1,
              "#f0f921"
             ]
            ],
            "type": "contour"
           }
          ],
          "contourcarpet": [
           {
            "colorbar": {
             "outlinewidth": 0,
             "ticks": ""
            },
            "type": "contourcarpet"
           }
          ],
          "heatmap": [
           {
            "colorbar": {
             "outlinewidth": 0,
             "ticks": ""
            },
            "colorscale": [
             [
              0,
              "#0d0887"
             ],
             [
              0.1111111111111111,
              "#46039f"
             ],
             [
              0.2222222222222222,
              "#7201a8"
             ],
             [
              0.3333333333333333,
              "#9c179e"
             ],
             [
              0.4444444444444444,
              "#bd3786"
             ],
             [
              0.5555555555555556,
              "#d8576b"
             ],
             [
              0.6666666666666666,
              "#ed7953"
             ],
             [
              0.7777777777777778,
              "#fb9f3a"
             ],
             [
              0.8888888888888888,
              "#fdca26"
             ],
             [
              1,
              "#f0f921"
             ]
            ],
            "type": "heatmap"
           }
          ],
          "heatmapgl": [
           {
            "colorbar": {
             "outlinewidth": 0,
             "ticks": ""
            },
            "colorscale": [
             [
              0,
              "#0d0887"
             ],
             [
              0.1111111111111111,
              "#46039f"
             ],
             [
              0.2222222222222222,
              "#7201a8"
             ],
             [
              0.3333333333333333,
              "#9c179e"
             ],
             [
              0.4444444444444444,
              "#bd3786"
             ],
             [
              0.5555555555555556,
              "#d8576b"
             ],
             [
              0.6666666666666666,
              "#ed7953"
             ],
             [
              0.7777777777777778,
              "#fb9f3a"
             ],
             [
              0.8888888888888888,
              "#fdca26"
             ],
             [
              1,
              "#f0f921"
             ]
            ],
            "type": "heatmapgl"
           }
          ],
          "histogram": [
           {
            "marker": {
             "colorbar": {
              "outlinewidth": 0,
              "ticks": ""
             }
            },
            "type": "histogram"
           }
          ],
          "histogram2d": [
           {
            "colorbar": {
             "outlinewidth": 0,
             "ticks": ""
            },
            "colorscale": [
             [
              0,
              "#0d0887"
             ],
             [
              0.1111111111111111,
              "#46039f"
             ],
             [
              0.2222222222222222,
              "#7201a8"
             ],
             [
              0.3333333333333333,
              "#9c179e"
             ],
             [
              0.4444444444444444,
              "#bd3786"
             ],
             [
              0.5555555555555556,
              "#d8576b"
             ],
             [
              0.6666666666666666,
              "#ed7953"
             ],
             [
              0.7777777777777778,
              "#fb9f3a"
             ],
             [
              0.8888888888888888,
              "#fdca26"
             ],
             [
              1,
              "#f0f921"
             ]
            ],
            "type": "histogram2d"
           }
          ],
          "histogram2dcontour": [
           {
            "colorbar": {
             "outlinewidth": 0,
             "ticks": ""
            },
            "colorscale": [
             [
              0,
              "#0d0887"
             ],
             [
              0.1111111111111111,
              "#46039f"
             ],
             [
              0.2222222222222222,
              "#7201a8"
             ],
             [
              0.3333333333333333,
              "#9c179e"
             ],
             [
              0.4444444444444444,
              "#bd3786"
             ],
             [
              0.5555555555555556,
              "#d8576b"
             ],
             [
              0.6666666666666666,
              "#ed7953"
             ],
             [
              0.7777777777777778,
              "#fb9f3a"
             ],
             [
              0.8888888888888888,
              "#fdca26"
             ],
             [
              1,
              "#f0f921"
             ]
            ],
            "type": "histogram2dcontour"
           }
          ],
          "mesh3d": [
           {
            "colorbar": {
             "outlinewidth": 0,
             "ticks": ""
            },
            "type": "mesh3d"
           }
          ],
          "parcoords": [
           {
            "line": {
             "colorbar": {
              "outlinewidth": 0,
              "ticks": ""
             }
            },
            "type": "parcoords"
           }
          ],
          "pie": [
           {
            "automargin": true,
            "type": "pie"
           }
          ],
          "scatter": [
           {
            "marker": {
             "colorbar": {
              "outlinewidth": 0,
              "ticks": ""
             }
            },
            "type": "scatter"
           }
          ],
          "scatter3d": [
           {
            "line": {
             "colorbar": {
              "outlinewidth": 0,
              "ticks": ""
             }
            },
            "marker": {
             "colorbar": {
              "outlinewidth": 0,
              "ticks": ""
             }
            },
            "type": "scatter3d"
           }
          ],
          "scattercarpet": [
           {
            "marker": {
             "colorbar": {
              "outlinewidth": 0,
              "ticks": ""
             }
            },
            "type": "scattercarpet"
           }
          ],
          "scattergeo": [
           {
            "marker": {
             "colorbar": {
              "outlinewidth": 0,
              "ticks": ""
             }
            },
            "type": "scattergeo"
           }
          ],
          "scattergl": [
           {
            "marker": {
             "colorbar": {
              "outlinewidth": 0,
              "ticks": ""
             }
            },
            "type": "scattergl"
           }
          ],
          "scattermapbox": [
           {
            "marker": {
             "colorbar": {
              "outlinewidth": 0,
              "ticks": ""
             }
            },
            "type": "scattermapbox"
           }
          ],
          "scatterpolar": [
           {
            "marker": {
             "colorbar": {
              "outlinewidth": 0,
              "ticks": ""
             }
            },
            "type": "scatterpolar"
           }
          ],
          "scatterpolargl": [
           {
            "marker": {
             "colorbar": {
              "outlinewidth": 0,
              "ticks": ""
             }
            },
            "type": "scatterpolargl"
           }
          ],
          "scatterternary": [
           {
            "marker": {
             "colorbar": {
              "outlinewidth": 0,
              "ticks": ""
             }
            },
            "type": "scatterternary"
           }
          ],
          "surface": [
           {
            "colorbar": {
             "outlinewidth": 0,
             "ticks": ""
            },
            "colorscale": [
             [
              0,
              "#0d0887"
             ],
             [
              0.1111111111111111,
              "#46039f"
             ],
             [
              0.2222222222222222,
              "#7201a8"
             ],
             [
              0.3333333333333333,
              "#9c179e"
             ],
             [
              0.4444444444444444,
              "#bd3786"
             ],
             [
              0.5555555555555556,
              "#d8576b"
             ],
             [
              0.6666666666666666,
              "#ed7953"
             ],
             [
              0.7777777777777778,
              "#fb9f3a"
             ],
             [
              0.8888888888888888,
              "#fdca26"
             ],
             [
              1,
              "#f0f921"
             ]
            ],
            "type": "surface"
           }
          ],
          "table": [
           {
            "cells": {
             "fill": {
              "color": "#EBF0F8"
             },
             "line": {
              "color": "white"
             }
            },
            "header": {
             "fill": {
              "color": "#C8D4E3"
             },
             "line": {
              "color": "white"
             }
            },
            "type": "table"
           }
          ]
         },
         "layout": {
          "annotationdefaults": {
           "arrowcolor": "#2a3f5f",
           "arrowhead": 0,
           "arrowwidth": 1
          },
          "coloraxis": {
           "colorbar": {
            "outlinewidth": 0,
            "ticks": ""
           }
          },
          "colorscale": {
           "diverging": [
            [
             0,
             "#8e0152"
            ],
            [
             0.1,
             "#c51b7d"
            ],
            [
             0.2,
             "#de77ae"
            ],
            [
             0.3,
             "#f1b6da"
            ],
            [
             0.4,
             "#fde0ef"
            ],
            [
             0.5,
             "#f7f7f7"
            ],
            [
             0.6,
             "#e6f5d0"
            ],
            [
             0.7,
             "#b8e186"
            ],
            [
             0.8,
             "#7fbc41"
            ],
            [
             0.9,
             "#4d9221"
            ],
            [
             1,
             "#276419"
            ]
           ],
           "sequential": [
            [
             0,
             "#0d0887"
            ],
            [
             0.1111111111111111,
             "#46039f"
            ],
            [
             0.2222222222222222,
             "#7201a8"
            ],
            [
             0.3333333333333333,
             "#9c179e"
            ],
            [
             0.4444444444444444,
             "#bd3786"
            ],
            [
             0.5555555555555556,
             "#d8576b"
            ],
            [
             0.6666666666666666,
             "#ed7953"
            ],
            [
             0.7777777777777778,
             "#fb9f3a"
            ],
            [
             0.8888888888888888,
             "#fdca26"
            ],
            [
             1,
             "#f0f921"
            ]
           ],
           "sequentialminus": [
            [
             0,
             "#0d0887"
            ],
            [
             0.1111111111111111,
             "#46039f"
            ],
            [
             0.2222222222222222,
             "#7201a8"
            ],
            [
             0.3333333333333333,
             "#9c179e"
            ],
            [
             0.4444444444444444,
             "#bd3786"
            ],
            [
             0.5555555555555556,
             "#d8576b"
            ],
            [
             0.6666666666666666,
             "#ed7953"
            ],
            [
             0.7777777777777778,
             "#fb9f3a"
            ],
            [
             0.8888888888888888,
             "#fdca26"
            ],
            [
             1,
             "#f0f921"
            ]
           ]
          },
          "colorway": [
           "#636efa",
           "#EF553B",
           "#00cc96",
           "#ab63fa",
           "#FFA15A",
           "#19d3f3",
           "#FF6692",
           "#B6E880",
           "#FF97FF",
           "#FECB52"
          ],
          "font": {
           "color": "#2a3f5f"
          },
          "geo": {
           "bgcolor": "white",
           "lakecolor": "white",
           "landcolor": "#E5ECF6",
           "showlakes": true,
           "showland": true,
           "subunitcolor": "white"
          },
          "hoverlabel": {
           "align": "left"
          },
          "hovermode": "closest",
          "mapbox": {
           "style": "light"
          },
          "paper_bgcolor": "white",
          "plot_bgcolor": "#E5ECF6",
          "polar": {
           "angularaxis": {
            "gridcolor": "white",
            "linecolor": "white",
            "ticks": ""
           },
           "bgcolor": "#E5ECF6",
           "radialaxis": {
            "gridcolor": "white",
            "linecolor": "white",
            "ticks": ""
           }
          },
          "scene": {
           "xaxis": {
            "backgroundcolor": "#E5ECF6",
            "gridcolor": "white",
            "gridwidth": 2,
            "linecolor": "white",
            "showbackground": true,
            "ticks": "",
            "zerolinecolor": "white"
           },
           "yaxis": {
            "backgroundcolor": "#E5ECF6",
            "gridcolor": "white",
            "gridwidth": 2,
            "linecolor": "white",
            "showbackground": true,
            "ticks": "",
            "zerolinecolor": "white"
           },
           "zaxis": {
            "backgroundcolor": "#E5ECF6",
            "gridcolor": "white",
            "gridwidth": 2,
            "linecolor": "white",
            "showbackground": true,
            "ticks": "",
            "zerolinecolor": "white"
           }
          },
          "shapedefaults": {
           "line": {
            "color": "#2a3f5f"
           }
          },
          "ternary": {
           "aaxis": {
            "gridcolor": "white",
            "linecolor": "white",
            "ticks": ""
           },
           "baxis": {
            "gridcolor": "white",
            "linecolor": "white",
            "ticks": ""
           },
           "bgcolor": "#E5ECF6",
           "caxis": {
            "gridcolor": "white",
            "linecolor": "white",
            "ticks": ""
           }
          },
          "title": {
           "x": 0.05
          },
          "xaxis": {
           "automargin": true,
           "gridcolor": "white",
           "linecolor": "white",
           "ticks": "",
           "title": {
            "standoff": 15
           },
           "zerolinecolor": "white",
           "zerolinewidth": 2
          },
          "yaxis": {
           "automargin": true,
           "gridcolor": "white",
           "linecolor": "white",
           "ticks": "",
           "title": {
            "standoff": 15
           },
           "zerolinecolor": "white",
           "zerolinewidth": 2
          }
         }
        },
        "title": {
         "text": "$\\text{True Position vs. Estimated Position}$",
         "x": 0.48,
         "xanchor": "center",
         "y": 0.9,
         "yanchor": "top"
        },
        "xaxis": {
         "title": {
          "text": "$\\text{Time (} s \\text{)}$"
         }
        },
        "yaxis": {
         "title": {
          "text": "$\\text{Position (} m \\text{)}$"
         }
        }
       }
      },
      "text/html": [
       "<div>\n",
       "        \n",
       "        \n",
       "            <div id=\"81804260-e6c7-4f19-ad25-b6f3a4bf153a\" class=\"plotly-graph-div\" style=\"height:525px; width:100%;\"></div>\n",
       "            <script type=\"text/javascript\">\n",
       "                require([\"plotly\"], function(Plotly) {\n",
       "                    window.PLOTLYENV=window.PLOTLYENV || {};\n",
       "                    \n",
       "                if (document.getElementById(\"81804260-e6c7-4f19-ad25-b6f3a4bf153a\")) {\n",
       "                    Plotly.newPlot(\n",
       "                        '81804260-e6c7-4f19-ad25-b6f3a4bf153a',\n",
       "                        [{\"line\": {\"width\": 4}, \"name\": \"True Position\", \"type\": \"scatter\", \"x\": [0.0, 0.2, 0.4, 0.6000000000000001, 0.8, 1.0, 1.2000000000000002, 1.4000000000000001, 1.6, 1.8, 2.0, 2.2, 2.4000000000000004, 2.6, 2.8000000000000003, 3.0, 3.2, 3.4000000000000004, 3.6, 3.8000000000000003, 4.0, 4.2, 4.4, 4.6000000000000005, 4.800000000000001, 5.0, 5.2, 5.4, 5.6000000000000005, 5.800000000000001, 6.0, 6.2, 6.4, 6.6000000000000005, 6.800000000000001, 7.0, 7.2, 7.4, 7.6000000000000005, 7.800000000000001, 8.0, 8.200000000000001, 8.4, 8.6, 8.8, 9.0, 9.200000000000001, 9.4, 9.600000000000001, 9.8, 10.0, 10.200000000000001, 10.4, 10.600000000000001, 10.8, 11.0, 11.200000000000001, 11.4, 11.600000000000001, 11.8, 12.0, 12.200000000000001, 12.4, 12.600000000000001, 12.8, 13.0, 13.200000000000001, 13.4, 13.600000000000001, 13.8, 14.0, 14.200000000000001, 14.4, 14.600000000000001, 14.8, 15.0, 15.200000000000001, 15.4, 15.600000000000001, 15.8, 16.0, 16.2, 16.400000000000002, 16.6, 16.8, 17.0, 17.2, 17.400000000000002, 17.6, 17.8, 18.0, 18.2, 18.400000000000002, 18.6, 18.8, 19.0, 19.200000000000003, 19.400000000000002, 19.6, 19.8, 20.0, 20.200000000000003, 20.400000000000002, 20.6, 20.8, 21.0, 21.200000000000003, 21.400000000000002, 21.6, 21.8, 22.0, 22.200000000000003, 22.400000000000002, 22.6, 22.8, 23.0, 23.200000000000003, 23.400000000000002, 23.6, 23.8, 24.0, 24.200000000000003, 24.400000000000002, 24.6, 24.8, 25.0, 25.200000000000003, 25.400000000000002, 25.6, 25.8, 26.0, 26.200000000000003, 26.400000000000002, 26.6, 26.8, 27.0, 27.200000000000003, 27.400000000000002, 27.6, 27.8, 28.0, 28.200000000000003, 28.400000000000002, 28.6, 28.8, 29.0, 29.200000000000003, 29.400000000000002, 29.6, 29.8, 30.0], \"y\": [-9.3017935862743, 10.804096798371347, 30.91788640604973, 51.047571296874345, 71.20114117305732, 91.38657618313512, 111.61184373001548, 131.88489528412262, 152.21366320291492, 172.60605755804764, 193.06996297145005, 213.61323546158155, 234.2436993011288, 254.96914388740151, 275.79732062667676, 296.73593983374104, 317.7926676478654, 338.9751229664529, 360.2908743975813, 381.74743723266096, 403.35227044041744, 425.1127736834049, 447.03628435823805, 469.13007466073265, 491.4013486771247, 513.8572395025296, 536.5048063878016, 559.3510319159268, 582.4028192090818, 605.6669891674785, 629.1502777410956, 652.8593332353857, 676.8007136520438, 700.9808840658943, 725.4062140389444, 750.082975072649, 775.0173380993899, 800.2153710141858, 825.6830362476173, 851.4261883809309, 877.4505718042873, 903.7618184190801, 930.3654453852525, 957.2668529145031, 984.4713221102792, 1011.9840128553984, 1039.8099617481705, 1067.9540800878228, 1096.4211519100445, 1125.2158320734393, 1154.342644397643, 1183.8059798538548, 1213.6100948085066, 1243.759109320774, 1274.2570054946132, 1305.1076258859619, 1336.3146719657775, 1367.881702639491, 1399.8121328234981, 1432.1092320792354, 1464.7761233053984, 1497.8157814888245, 1531.231032514542, 1565.0245520354463, 1599.1988644020807, 1633.756341652924, 1668.6992025656134, 1704.0295117694602, 1739.749178919622, 1775.859957933272, 1812.3634462880486, 1849.2610843830962, 1886.554154962913, 1924.2437826042787, 1962.330933266435, 2000.8164139047144, 2039.7008721477719, 2078.984796038536, 2118.6685138390085, 2158.752193898952, 2199.2358445885657, 2240.1193142951192, 2281.402291483616, 2323.084304821388, 2365.1647233666263, 2407.6427568207578, 2450.5174558445406, 2493.787712437796, 2537.452260382596, 2581.5096757497213, 2625.958377468228, 2670.7966279578445, 2716.0225338239884, 2761.6340466150896, 2807.628963641959, 2854.004928858817, 2900.7594338056897, 2947.8898186117626, 2995.393273059284, 3043.2668377076216, 3091.507405077, 3140.111720891445, 3189.076385380459, 3238.397854638872, 3288.072442044371, 3338.096319732086, 3388.4655201256983, 3439.1759375244037, 3490.2233297451517, 3541.603319819452, 3593.3113977441058, 3645.342922285152, 3697.6931228342964, 3750.3571013170895, 3803.3298341520895, 3856.606174260235, 3910.1808531236, 3964.048482892736, 4018.203558541735, 4072.640460070174, 4127.353454751028, 4182.336699423704, 4237.584242831205, 4293.09002800057, 4348.847894665576, 4404.851581730759, 4461.094729775782, 4517.570883599093, 4574.273494799943, 4631.1959243976635, 4688.331445487137, 4745.673245929507, 4803.214431076919, 4860.948026530294, 4918.866980928999, 4976.964168771287, 5035.232393264427, 5093.664389203293, 5152.252825876366, 5210.990309997926, 5269.869388665257, 5328.882552339708, 5388.0222378504195, 5447.2808314194845, 5506.65067170735, 5566.124052877267, 5625.693227677512, 5685.350410540185, 5745.087780695338, 5804.897485299169, 5864.771642575066]}, {\"name\": \"Estimated Position\", \"type\": \"scatter\", \"x\": [0.0, 0.2, 0.4, 0.6000000000000001, 0.8, 1.0, 1.2000000000000002, 1.4000000000000001, 1.6, 1.8, 2.0, 2.2, 2.4000000000000004, 2.6, 2.8000000000000003, 3.0, 3.2, 3.4000000000000004, 3.6, 3.8000000000000003, 4.0, 4.2, 4.4, 4.6000000000000005, 4.800000000000001, 5.0, 5.2, 5.4, 5.6000000000000005, 5.800000000000001, 6.0, 6.2, 6.4, 6.6000000000000005, 6.800000000000001, 7.0, 7.2, 7.4, 7.6000000000000005, 7.800000000000001, 8.0, 8.200000000000001, 8.4, 8.6, 8.8, 9.0, 9.200000000000001, 9.4, 9.600000000000001, 9.8, 10.0, 10.200000000000001, 10.4, 10.600000000000001, 10.8, 11.0, 11.200000000000001, 11.4, 11.600000000000001, 11.8, 12.0, 12.200000000000001, 12.4, 12.600000000000001, 12.8, 13.0, 13.200000000000001, 13.4, 13.600000000000001, 13.8, 14.0, 14.200000000000001, 14.4, 14.600000000000001, 14.8, 15.0, 15.200000000000001, 15.4, 15.600000000000001, 15.8, 16.0, 16.2, 16.400000000000002, 16.6, 16.8, 17.0, 17.2, 17.400000000000002, 17.6, 17.8, 18.0, 18.2, 18.400000000000002, 18.6, 18.8, 19.0, 19.200000000000003, 19.400000000000002, 19.6, 19.8, 20.0, 20.200000000000003, 20.400000000000002, 20.6, 20.8, 21.0, 21.200000000000003, 21.400000000000002, 21.6, 21.8, 22.0, 22.200000000000003, 22.400000000000002, 22.6, 22.8, 23.0, 23.200000000000003, 23.400000000000002, 23.6, 23.8, 24.0, 24.200000000000003, 24.400000000000002, 24.6, 24.8, 25.0, 25.200000000000003, 25.400000000000002, 25.6, 25.8, 26.0, 26.200000000000003, 26.400000000000002, 26.6, 26.8, 27.0, 27.200000000000003, 27.400000000000002, 27.6, 27.8, 28.0, 28.200000000000003, 28.400000000000002, 28.6, 28.8, 29.0, 29.200000000000003, 29.400000000000002, 29.6, 29.8, 30.0], \"y\": [-9.224041671528635, 11.3058563595211, 31.133676161109285, 51.38486842003269, 71.47271208545669, 91.79854688086196, 112.08318062320691, 132.23554790456646, 152.47820572952486, 172.94719513331628, 193.23227522895584, 213.69681687487517, 234.33817924255246, 255.11031490426592, 275.9767589821588, 296.9093802388046, 317.95220449304225, 339.13620040214784, 360.43384526560095, 381.8562699594578, 403.46363256478844, 425.2066608531924, 447.1111640130376, 469.159131270709, 491.43173509482494, 513.9370644480547, 536.562873602088, 559.4346091204427, 582.4902817699376, 605.7832239242834, 629.2276755923282, 652.8444855527256, 676.7776138625675, 701.0002536370065, 725.3826774008246, 750.0588688717604, 775.0649472868641, 800.2503132413606, 825.6839275376946, 851.4328048507842, 877.4594812819307, 903.7732091814876, 930.3863889602734, 957.2470978170406, 984.4371789698814, 1011.9538834747901, 1039.7688810297789, 1067.9282607229, 1096.403694479689, 1125.215657637602, 1154.3355268920386, 1183.8212996351886, 1213.6262344780591, 1243.7837585950651, 1274.310015349981, 1305.1919053679337, 1336.4165306811628, 1367.9732567801825, 1399.8865466370587, 1432.1975177407635, 1464.882710139518, 1497.9253614212723, 1531.357949424891, 1565.1529652091708, 1599.3303640583242, 1633.888780320139, 1668.8532772405897, 1704.218481367228, 1739.936202841899, 1776.0708177385065, 1812.6028686555815, 1849.4960671907802, 1886.8080013674585, 1924.4966851731822, 1962.5792791174874, 2001.0917127504747, 2039.9700014391392, 2079.2410088188794, 2118.936053684418, 2159.0353271368945, 2199.5006324140704, 2240.3761818689627, 2281.65540710129, 2323.3327965027584, 2365.421316946206, 2407.868578576972, 2450.72917325693, 2494.0081892147728, 2537.6724599525446, 2581.7374992783416, 2626.2010649135614, 2671.049597995959, 2716.2707446047057, 2761.8746186926164, 2807.8835318602246, 2854.2387352882843, 2900.9959517519405, 2948.132735663261, 2995.622931550477, 3043.5064651143207, 3091.749373831485, 3140.3527563575367, 3189.324858422783, 3238.6452775024404, 3288.3218973147154, 3338.340796775438, 3388.7153616313226, 3439.427758355999, 3490.4782803896014, 3541.846302754882, 3593.5409477404532, 3645.582275177676, 3697.924567248178, 3750.575701044058, 3803.53287720845, 3856.8011303803437, 3910.3765669916374, 3964.2455896128554, 4018.390049275652, 4072.815425589766, 4127.53395842622, 4182.517515821666, 4237.757297292019, 4293.267234275376, 4349.026632151705, 4405.046471491338, 4461.282375124386, 4517.753067169725, 4574.452773106376, 4631.361886152427, 4688.502964295111, 4745.850496526994, 4803.3958870977485, 4861.098178447223, 4919.015983984907, 4977.091224250321, 5035.39650931006, 5093.82119891151, 5152.399019325445, 5211.130552970287, 5270.014106315185, 5329.028911658224, 5388.175279900466, 5447.44163105671, 5506.818573863251, 5566.297494462707, 5625.89221832064, 5685.568594432496, 5745.293187996066, 5805.096756015356, 5864.972633590157]}, {\"line\": {\"color\": \"green\", \"dash\": \"dash\", \"width\": 1}, \"name\": \"$+ \\\\sigma$\", \"type\": \"scatter\", \"x\": [0.0, 0.2, 0.4, 0.6000000000000001, 0.8, 1.0, 1.2000000000000002, 1.4000000000000001, 1.6, 1.8, 2.0, 2.2, 2.4000000000000004, 2.6, 2.8000000000000003, 3.0, 3.2, 3.4000000000000004, 3.6, 3.8000000000000003, 4.0, 4.2, 4.4, 4.6000000000000005, 4.800000000000001, 5.0, 5.2, 5.4, 5.6000000000000005, 5.800000000000001, 6.0, 6.2, 6.4, 6.6000000000000005, 6.800000000000001, 7.0, 7.2, 7.4, 7.6000000000000005, 7.800000000000001, 8.0, 8.200000000000001, 8.4, 8.6, 8.8, 9.0, 9.200000000000001, 9.4, 9.600000000000001, 9.8, 10.0, 10.200000000000001, 10.4, 10.600000000000001, 10.8, 11.0, 11.200000000000001, 11.4, 11.600000000000001, 11.8, 12.0, 12.200000000000001, 12.4, 12.600000000000001, 12.8, 13.0, 13.200000000000001, 13.4, 13.600000000000001, 13.8, 14.0, 14.200000000000001, 14.4, 14.600000000000001, 14.8, 15.0, 15.200000000000001, 15.4, 15.600000000000001, 15.8, 16.0, 16.2, 16.400000000000002, 16.6, 16.8, 17.0, 17.2, 17.400000000000002, 17.6, 17.8, 18.0, 18.2, 18.400000000000002, 18.6, 18.8, 19.0, 19.200000000000003, 19.400000000000002, 19.6, 19.8, 20.0, 20.200000000000003, 20.400000000000002, 20.6, 20.8, 21.0, 21.200000000000003, 21.400000000000002, 21.6, 21.8, 22.0, 22.200000000000003, 22.400000000000002, 22.6, 22.8, 23.0, 23.200000000000003, 23.400000000000002, 23.6, 23.8, 24.0, 24.200000000000003, 24.400000000000002, 24.6, 24.8, 25.0, 25.200000000000003, 25.400000000000002, 25.6, 25.8, 26.0, 26.200000000000003, 26.400000000000002, 26.6, 26.8, 27.0, 27.200000000000003, 27.400000000000002, 27.6, 27.8, 28.0, 28.200000000000003, 28.400000000000002, 28.6, 28.8, 29.0, 29.200000000000003, 29.400000000000002, 29.6, 29.8, 30.0], \"y\": [-8.229004481318645, 12.011207698233347, 31.710085464971307, 51.88428260691848, 71.91954180474015, 92.20654753913514, 112.46100122014701, 132.58904367970428, 152.8115578338858, 173.2635124002771, 193.5339436332776, 213.9857149931761, 234.61581759849915, 255.37792967779936, 276.23537711429043, 297.15986592772083, 318.1952931951897, 339.3725242116803, 360.66395220206454, 382.08063886060137, 403.682684749635, 425.4207693722021, 447.32066106875703, 469.3643142326043, 491.632871420706, 514.1343957456302, 536.7566190074369, 559.6249681287785, 582.6774366234323, 605.9673416388305, 629.4089096878143, 653.022977538164, 676.9534945172526, 701.1736441209257, 725.5536902213439, 750.2276087286921, 775.2315118141116, 800.4147936602063, 825.8464092342676, 851.5933678881961, 877.6182008558934, 903.9301560268589, 930.5416297148391, 957.4006953479089, 984.5891926670828, 1012.1043695160234, 1039.917892619698, 1068.0758483098716, 1096.549905952562, 1125.3605385046994, 1154.4791204442952, 1183.96364709512, 1213.7673751360398, 1243.9237299342124, 1274.4488531607885, 1305.3296438536668, 1336.5532025549103, 1368.1088933543579, 1400.0211779060596, 1432.3311724574169, 1465.0154158858743, 1498.0571446742522, 1531.4888356172346, 1565.2829787860946, 1599.4595285302523, 1634.0171183118332, 1668.9808105369784, 1704.3452309561992, 1740.0621889543027, 1776.196059885584, 1812.727385664023, 1849.6198772355926, 1886.931122002808, 1924.6191333613626, 1962.701071256153, 2001.2128646982626, 2040.0905285397976, 2079.360925924006, 2119.0553751749076, 2159.1540669431815, 2199.6188040352517, 2240.493798390875, 2281.7724812136103, 2323.449340515191, 2365.5373428038197, 2407.984097874736, 2450.844197253503, 2494.122728845591, 2537.786525842253, 2581.8511017526066, 2626.314214010304, 2671.1623034760437, 2716.383015962115, 2761.986465164144, 2807.9949624347128, 2854.3497587154316, 2901.106576550707, 2948.242970129891, 2995.732783766161, 3043.615942952517, 3091.858484964919, 3140.461508264895, 3189.4332583951214, 3238.7533326493144, 3288.429614570056, 3338.4481829031806, 3388.822423230802, 3439.5345018671246, 3490.584712097823, 3541.952428795953, 3593.646774105009, 3645.687807715629, 3698.0298116729414, 3750.6806629366083, 3803.637562021231, 3856.9055434410257, 3910.4807135067317, 3964.349474671197, 4018.4936778517535, 4072.9188025470485, 4127.637088520125, 4182.620403702658, 4237.859947508484, 4293.369651276409, 4349.12882028981, 4405.148435025029, 4461.384118220698, 4517.854593906643, 4574.554087475179, 4631.462992059954, 4688.603865565954, 4745.951196905617, 4803.496390250537, 4861.198487964467, 4919.116103382721, 4977.191156972505, 5035.496258729896, 5093.920768333508, 5152.4984119870305, 5211.229772043439, 5270.113154908023, 5329.127792816546, 5388.273996609241, 5447.540186241527, 5506.916970391721, 5566.39573514583, 5625.990305914124, 5685.666531638045, 5745.390977462625, 5805.194400340327, 5865.070135320572]}, {\"line\": {\"color\": \"firebrick\", \"dash\": \"dash\", \"width\": 1}, \"name\": \"$-\\\\sigma$\", \"type\": \"scatter\", \"x\": [0.0, 0.2, 0.4, 0.6000000000000001, 0.8, 1.0, 1.2000000000000002, 1.4000000000000001, 1.6, 1.8, 2.0, 2.2, 2.4000000000000004, 2.6, 2.8000000000000003, 3.0, 3.2, 3.4000000000000004, 3.6, 3.8000000000000003, 4.0, 4.2, 4.4, 4.6000000000000005, 4.800000000000001, 5.0, 5.2, 5.4, 5.6000000000000005, 5.800000000000001, 6.0, 6.2, 6.4, 6.6000000000000005, 6.800000000000001, 7.0, 7.2, 7.4, 7.6000000000000005, 7.800000000000001, 8.0, 8.200000000000001, 8.4, 8.6, 8.8, 9.0, 9.200000000000001, 9.4, 9.600000000000001, 9.8, 10.0, 10.200000000000001, 10.4, 10.600000000000001, 10.8, 11.0, 11.200000000000001, 11.4, 11.600000000000001, 11.8, 12.0, 12.200000000000001, 12.4, 12.600000000000001, 12.8, 13.0, 13.200000000000001, 13.4, 13.600000000000001, 13.8, 14.0, 14.200000000000001, 14.4, 14.600000000000001, 14.8, 15.0, 15.200000000000001, 15.4, 15.600000000000001, 15.8, 16.0, 16.2, 16.400000000000002, 16.6, 16.8, 17.0, 17.2, 17.400000000000002, 17.6, 17.8, 18.0, 18.2, 18.400000000000002, 18.6, 18.8, 19.0, 19.200000000000003, 19.400000000000002, 19.6, 19.8, 20.0, 20.200000000000003, 20.400000000000002, 20.6, 20.8, 21.0, 21.200000000000003, 21.400000000000002, 21.6, 21.8, 22.0, 22.200000000000003, 22.400000000000002, 22.6, 22.8, 23.0, 23.200000000000003, 23.400000000000002, 23.6, 23.8, 24.0, 24.200000000000003, 24.400000000000002, 24.6, 24.8, 25.0, 25.200000000000003, 25.400000000000002, 25.6, 25.8, 26.0, 26.200000000000003, 26.400000000000002, 26.6, 26.8, 27.0, 27.200000000000003, 27.400000000000002, 27.6, 27.8, 28.0, 28.200000000000003, 28.400000000000002, 28.6, 28.8, 29.0, 29.200000000000003, 29.400000000000002, 29.6, 29.8, 30.0], \"y\": [-10.219078861738625, 10.600505020808852, 30.557266857247264, 50.885454233146895, 71.02588236617324, 91.39054622258878, 111.70536002626682, 131.88205212942864, 152.14485362516393, 172.63087786635546, 192.93060682463408, 213.40791875657425, 234.06054088660576, 254.84270013073248, 275.71814085002717, 296.6588945498884, 317.70911579089477, 338.8998765926154, 360.20373832913737, 381.6319010583142, 403.2445803799419, 424.9925523341827, 446.9016669573181, 468.9539483088137, 491.2305987689439, 513.7397331504792, 536.369128196739, 559.2442501121069, 582.3031269164429, 605.5991062097364, 629.046441496842, 652.6659935672872, 676.6017332078824, 700.8268631530873, 725.2116645803053, 749.8901290148287, 774.8983827596167, 800.0858328225148, 825.5214458411215, 851.2722418133724, 877.300761707968, 903.6162623361163, 930.2311482057077, 957.0935002861723, 984.28516527268, 1011.8033974335568, 1039.6198694398597, 1067.7806731359283, 1096.2574830068158, 1125.0707767705044, 1154.191933339782, 1183.678952175257, 1213.4850938200784, 1243.643787255918, 1274.1711775391736, 1305.0541668822007, 1336.2798588074154, 1367.8376202060072, 1399.7519153680578, 1432.06386302411, 1464.7500043931616, 1497.7935781682925, 1531.2270632325476, 1565.022951632247, 1599.2011995863961, 1633.7604423284447, 1668.725743944201, 1704.0917317782566, 1739.8102167294956, 1775.9455755914291, 1812.47835164714, 1849.3722571459678, 1886.684880732109, 1924.3742369850017, 1962.4574869788219, 2000.9705608026868, 2039.8494743384808, 2079.121091713753, 2118.816732193928, 2158.9165873306074, 2199.382460792889, 2240.2585653470505, 2281.53833298897, 2323.2162524903256, 2365.305291088592, 2407.753059279208, 2450.6141492603574, 2493.8936495839544, 2537.558394062836, 2581.6238968040766, 2626.0879158168186, 2670.9368925158747, 2716.158473247296, 2761.7627722210887, 2807.7721012857364, 2854.127711861137, 2900.885326953174, 2948.022501196631, 2995.513079334793, 3043.3969872761245, 3091.640262698051, 3140.244004450178, 3189.216458450445, 3238.5372223555664, 3288.214180059375, 3338.233410647695, 3388.608300031843, 3439.321014844873, 3490.37184868138, 3541.740176713811, 3593.4351213758973, 3645.476742639723, 3697.8193228234145, 3750.4707391515076, 3803.4281923956687, 3856.6967173196617, 3910.272420476543, 3964.1417045545136, 4018.2864206995505, 4072.712048632484, 4127.430828332315, 4182.414627940674, 4237.654647075554, 4293.164817274343, 4348.924444013599, 4404.944507957646, 4461.180632028074, 4517.651540432807, 4574.351458737574, 4631.260780244901, 4688.4020630242685, 4745.749796148371, 4803.29538394496, 4860.99786892998, 4918.915864587092, 4976.991291528137, 5035.296759890223, 5093.7216294895115, 5152.299626663859, 5211.031333897135, 5269.915057722347, 5328.930030499902, 5388.076563191691, 5447.343075871893, 5506.720177334781, 5566.199253779583, 5625.794130727155, 5685.470657226947, 5745.195398529507, 5804.999111690385, 5864.8751318597415]}],\n",
       "                        {\"template\": {\"data\": {\"bar\": [{\"error_x\": {\"color\": \"#2a3f5f\"}, \"error_y\": {\"color\": \"#2a3f5f\"}, \"marker\": {\"line\": {\"color\": \"#E5ECF6\", \"width\": 0.5}}, \"type\": \"bar\"}], \"barpolar\": [{\"marker\": {\"line\": {\"color\": \"#E5ECF6\", \"width\": 0.5}}, \"type\": \"barpolar\"}], \"carpet\": [{\"aaxis\": {\"endlinecolor\": \"#2a3f5f\", \"gridcolor\": \"white\", \"linecolor\": \"white\", \"minorgridcolor\": \"white\", \"startlinecolor\": \"#2a3f5f\"}, \"baxis\": {\"endlinecolor\": \"#2a3f5f\", \"gridcolor\": \"white\", \"linecolor\": \"white\", \"minorgridcolor\": \"white\", \"startlinecolor\": \"#2a3f5f\"}, \"type\": \"carpet\"}], \"choropleth\": [{\"colorbar\": {\"outlinewidth\": 0, \"ticks\": \"\"}, \"type\": \"choropleth\"}], \"contour\": [{\"colorbar\": {\"outlinewidth\": 0, \"ticks\": \"\"}, \"colorscale\": [[0.0, \"#0d0887\"], [0.1111111111111111, \"#46039f\"], [0.2222222222222222, \"#7201a8\"], [0.3333333333333333, \"#9c179e\"], [0.4444444444444444, \"#bd3786\"], [0.5555555555555556, \"#d8576b\"], [0.6666666666666666, \"#ed7953\"], [0.7777777777777778, \"#fb9f3a\"], [0.8888888888888888, \"#fdca26\"], [1.0, \"#f0f921\"]], \"type\": \"contour\"}], \"contourcarpet\": [{\"colorbar\": {\"outlinewidth\": 0, \"ticks\": \"\"}, \"type\": \"contourcarpet\"}], \"heatmap\": [{\"colorbar\": {\"outlinewidth\": 0, \"ticks\": \"\"}, \"colorscale\": [[0.0, \"#0d0887\"], [0.1111111111111111, \"#46039f\"], [0.2222222222222222, \"#7201a8\"], [0.3333333333333333, \"#9c179e\"], [0.4444444444444444, \"#bd3786\"], [0.5555555555555556, \"#d8576b\"], [0.6666666666666666, \"#ed7953\"], [0.7777777777777778, \"#fb9f3a\"], [0.8888888888888888, \"#fdca26\"], [1.0, \"#f0f921\"]], \"type\": \"heatmap\"}], \"heatmapgl\": [{\"colorbar\": {\"outlinewidth\": 0, \"ticks\": \"\"}, \"colorscale\": [[0.0, \"#0d0887\"], [0.1111111111111111, \"#46039f\"], [0.2222222222222222, \"#7201a8\"], [0.3333333333333333, \"#9c179e\"], [0.4444444444444444, \"#bd3786\"], [0.5555555555555556, \"#d8576b\"], [0.6666666666666666, \"#ed7953\"], [0.7777777777777778, \"#fb9f3a\"], [0.8888888888888888, \"#fdca26\"], [1.0, \"#f0f921\"]], \"type\": \"heatmapgl\"}], \"histogram\": [{\"marker\": {\"colorbar\": {\"outlinewidth\": 0, \"ticks\": \"\"}}, \"type\": \"histogram\"}], \"histogram2d\": [{\"colorbar\": {\"outlinewidth\": 0, \"ticks\": \"\"}, \"colorscale\": [[0.0, \"#0d0887\"], [0.1111111111111111, \"#46039f\"], [0.2222222222222222, \"#7201a8\"], [0.3333333333333333, \"#9c179e\"], [0.4444444444444444, \"#bd3786\"], [0.5555555555555556, \"#d8576b\"], [0.6666666666666666, \"#ed7953\"], [0.7777777777777778, \"#fb9f3a\"], [0.8888888888888888, \"#fdca26\"], [1.0, \"#f0f921\"]], \"type\": \"histogram2d\"}], \"histogram2dcontour\": [{\"colorbar\": {\"outlinewidth\": 0, \"ticks\": \"\"}, \"colorscale\": [[0.0, \"#0d0887\"], [0.1111111111111111, \"#46039f\"], [0.2222222222222222, \"#7201a8\"], [0.3333333333333333, \"#9c179e\"], [0.4444444444444444, \"#bd3786\"], [0.5555555555555556, \"#d8576b\"], [0.6666666666666666, \"#ed7953\"], [0.7777777777777778, \"#fb9f3a\"], [0.8888888888888888, \"#fdca26\"], [1.0, \"#f0f921\"]], \"type\": \"histogram2dcontour\"}], \"mesh3d\": [{\"colorbar\": {\"outlinewidth\": 0, \"ticks\": \"\"}, \"type\": \"mesh3d\"}], \"parcoords\": [{\"line\": {\"colorbar\": {\"outlinewidth\": 0, \"ticks\": \"\"}}, \"type\": \"parcoords\"}], \"pie\": [{\"automargin\": true, \"type\": \"pie\"}], \"scatter\": [{\"marker\": {\"colorbar\": {\"outlinewidth\": 0, \"ticks\": \"\"}}, \"type\": \"scatter\"}], \"scatter3d\": [{\"line\": {\"colorbar\": {\"outlinewidth\": 0, \"ticks\": \"\"}}, \"marker\": {\"colorbar\": {\"outlinewidth\": 0, \"ticks\": \"\"}}, \"type\": \"scatter3d\"}], \"scattercarpet\": [{\"marker\": {\"colorbar\": {\"outlinewidth\": 0, \"ticks\": \"\"}}, \"type\": \"scattercarpet\"}], \"scattergeo\": [{\"marker\": {\"colorbar\": {\"outlinewidth\": 0, \"ticks\": \"\"}}, \"type\": \"scattergeo\"}], \"scattergl\": [{\"marker\": {\"colorbar\": {\"outlinewidth\": 0, \"ticks\": \"\"}}, \"type\": \"scattergl\"}], \"scattermapbox\": [{\"marker\": {\"colorbar\": {\"outlinewidth\": 0, \"ticks\": \"\"}}, \"type\": \"scattermapbox\"}], \"scatterpolar\": [{\"marker\": {\"colorbar\": {\"outlinewidth\": 0, \"ticks\": \"\"}}, \"type\": \"scatterpolar\"}], \"scatterpolargl\": [{\"marker\": {\"colorbar\": {\"outlinewidth\": 0, \"ticks\": \"\"}}, \"type\": \"scatterpolargl\"}], \"scatterternary\": [{\"marker\": {\"colorbar\": {\"outlinewidth\": 0, \"ticks\": \"\"}}, \"type\": \"scatterternary\"}], \"surface\": [{\"colorbar\": {\"outlinewidth\": 0, \"ticks\": \"\"}, \"colorscale\": [[0.0, \"#0d0887\"], [0.1111111111111111, \"#46039f\"], [0.2222222222222222, \"#7201a8\"], [0.3333333333333333, \"#9c179e\"], [0.4444444444444444, \"#bd3786\"], [0.5555555555555556, \"#d8576b\"], [0.6666666666666666, \"#ed7953\"], [0.7777777777777778, \"#fb9f3a\"], [0.8888888888888888, \"#fdca26\"], [1.0, \"#f0f921\"]], \"type\": \"surface\"}], \"table\": [{\"cells\": {\"fill\": {\"color\": \"#EBF0F8\"}, \"line\": {\"color\": \"white\"}}, \"header\": {\"fill\": {\"color\": \"#C8D4E3\"}, \"line\": {\"color\": \"white\"}}, \"type\": \"table\"}]}, \"layout\": {\"annotationdefaults\": {\"arrowcolor\": \"#2a3f5f\", \"arrowhead\": 0, \"arrowwidth\": 1}, \"coloraxis\": {\"colorbar\": {\"outlinewidth\": 0, \"ticks\": \"\"}}, \"colorscale\": {\"diverging\": [[0, \"#8e0152\"], [0.1, \"#c51b7d\"], [0.2, \"#de77ae\"], [0.3, \"#f1b6da\"], [0.4, \"#fde0ef\"], [0.5, \"#f7f7f7\"], [0.6, \"#e6f5d0\"], [0.7, \"#b8e186\"], [0.8, \"#7fbc41\"], [0.9, \"#4d9221\"], [1, \"#276419\"]], \"sequential\": [[0.0, \"#0d0887\"], [0.1111111111111111, \"#46039f\"], [0.2222222222222222, \"#7201a8\"], [0.3333333333333333, \"#9c179e\"], [0.4444444444444444, \"#bd3786\"], [0.5555555555555556, \"#d8576b\"], [0.6666666666666666, \"#ed7953\"], [0.7777777777777778, \"#fb9f3a\"], [0.8888888888888888, \"#fdca26\"], [1.0, \"#f0f921\"]], \"sequentialminus\": [[0.0, \"#0d0887\"], [0.1111111111111111, \"#46039f\"], [0.2222222222222222, \"#7201a8\"], [0.3333333333333333, \"#9c179e\"], [0.4444444444444444, \"#bd3786\"], [0.5555555555555556, \"#d8576b\"], [0.6666666666666666, \"#ed7953\"], [0.7777777777777778, \"#fb9f3a\"], [0.8888888888888888, \"#fdca26\"], [1.0, \"#f0f921\"]]}, \"colorway\": [\"#636efa\", \"#EF553B\", \"#00cc96\", \"#ab63fa\", \"#FFA15A\", \"#19d3f3\", \"#FF6692\", \"#B6E880\", \"#FF97FF\", \"#FECB52\"], \"font\": {\"color\": \"#2a3f5f\"}, \"geo\": {\"bgcolor\": \"white\", \"lakecolor\": \"white\", \"landcolor\": \"#E5ECF6\", \"showlakes\": true, \"showland\": true, \"subunitcolor\": \"white\"}, \"hoverlabel\": {\"align\": \"left\"}, \"hovermode\": \"closest\", \"mapbox\": {\"style\": \"light\"}, \"paper_bgcolor\": \"white\", \"plot_bgcolor\": \"#E5ECF6\", \"polar\": {\"angularaxis\": {\"gridcolor\": \"white\", \"linecolor\": \"white\", \"ticks\": \"\"}, \"bgcolor\": \"#E5ECF6\", \"radialaxis\": {\"gridcolor\": \"white\", \"linecolor\": \"white\", \"ticks\": \"\"}}, \"scene\": {\"xaxis\": {\"backgroundcolor\": \"#E5ECF6\", \"gridcolor\": \"white\", \"gridwidth\": 2, \"linecolor\": \"white\", \"showbackground\": true, \"ticks\": \"\", \"zerolinecolor\": \"white\"}, \"yaxis\": {\"backgroundcolor\": \"#E5ECF6\", \"gridcolor\": \"white\", \"gridwidth\": 2, \"linecolor\": \"white\", \"showbackground\": true, \"ticks\": \"\", \"zerolinecolor\": \"white\"}, \"zaxis\": {\"backgroundcolor\": \"#E5ECF6\", \"gridcolor\": \"white\", \"gridwidth\": 2, \"linecolor\": \"white\", \"showbackground\": true, \"ticks\": \"\", \"zerolinecolor\": \"white\"}}, \"shapedefaults\": {\"line\": {\"color\": \"#2a3f5f\"}}, \"ternary\": {\"aaxis\": {\"gridcolor\": \"white\", \"linecolor\": \"white\", \"ticks\": \"\"}, \"baxis\": {\"gridcolor\": \"white\", \"linecolor\": \"white\", \"ticks\": \"\"}, \"bgcolor\": \"#E5ECF6\", \"caxis\": {\"gridcolor\": \"white\", \"linecolor\": \"white\", \"ticks\": \"\"}}, \"title\": {\"x\": 0.05}, \"xaxis\": {\"automargin\": true, \"gridcolor\": \"white\", \"linecolor\": \"white\", \"ticks\": \"\", \"title\": {\"standoff\": 15}, \"zerolinecolor\": \"white\", \"zerolinewidth\": 2}, \"yaxis\": {\"automargin\": true, \"gridcolor\": \"white\", \"linecolor\": \"white\", \"ticks\": \"\", \"title\": {\"standoff\": 15}, \"zerolinecolor\": \"white\", \"zerolinewidth\": 2}}}, \"title\": {\"text\": \"$\\\\text{True Position vs. Estimated Position}$\", \"x\": 0.48, \"xanchor\": \"center\", \"y\": 0.9, \"yanchor\": \"top\"}, \"xaxis\": {\"title\": {\"text\": \"$\\\\text{Time (} s \\\\text{)}$\"}}, \"yaxis\": {\"title\": {\"text\": \"$\\\\text{Position (} m \\\\text{)}$\"}}},\n",
       "                        {\"responsive\": true}\n",
       "                    ).then(function(){\n",
       "                            \n",
       "var gd = document.getElementById('81804260-e6c7-4f19-ad25-b6f3a4bf153a');\n",
       "var x = new MutationObserver(function (mutations, observer) {{\n",
       "        var display = window.getComputedStyle(gd).display;\n",
       "        if (!display || display === 'none') {{\n",
       "            console.log([gd, 'removed!']);\n",
       "            Plotly.purge(gd);\n",
       "            observer.disconnect();\n",
       "        }}\n",
       "}});\n",
       "\n",
       "// Listen for the removal of the full notebook cells\n",
       "var notebookContainer = gd.closest('#notebook-container');\n",
       "if (notebookContainer) {{\n",
       "    x.observe(notebookContainer, {childList: true});\n",
       "}}\n",
       "\n",
       "// Listen for the clearing of the current output cell\n",
       "var outputEl = gd.closest('.output');\n",
       "if (outputEl) {{\n",
       "    x.observe(outputEl, {childList: true});\n",
       "}}\n",
       "\n",
       "                        })\n",
       "                };\n",
       "                });\n",
       "            </script>\n",
       "        </div>"
      ]
     },
     "metadata": {},
     "output_type": "display_data"
    },
    {
     "data": {
      "application/vnd.plotly.v1+json": {
       "config": {
        "plotlyServerURL": "https://plot.ly"
       },
       "data": [
        {
         "name": "Position Estimate Error",
         "type": "scatter",
         "x": [
          0,
          0.2,
          0.4,
          0.6000000000000001,
          0.8,
          1,
          1.2000000000000002,
          1.4000000000000001,
          1.6,
          1.8,
          2,
          2.2,
          2.4000000000000004,
          2.6,
          2.8000000000000003,
          3,
          3.2,
          3.4000000000000004,
          3.6,
          3.8000000000000003,
          4,
          4.2,
          4.4,
          4.6000000000000005,
          4.800000000000001,
          5,
          5.2,
          5.4,
          5.6000000000000005,
          5.800000000000001,
          6,
          6.2,
          6.4,
          6.6000000000000005,
          6.800000000000001,
          7,
          7.2,
          7.4,
          7.6000000000000005,
          7.800000000000001,
          8,
          8.200000000000001,
          8.4,
          8.6,
          8.8,
          9,
          9.200000000000001,
          9.4,
          9.600000000000001,
          9.8,
          10,
          10.200000000000001,
          10.4,
          10.600000000000001,
          10.8,
          11,
          11.200000000000001,
          11.4,
          11.600000000000001,
          11.8,
          12,
          12.200000000000001,
          12.4,
          12.600000000000001,
          12.8,
          13,
          13.200000000000001,
          13.4,
          13.600000000000001,
          13.8,
          14,
          14.200000000000001,
          14.4,
          14.600000000000001,
          14.8,
          15,
          15.200000000000001,
          15.4,
          15.600000000000001,
          15.8,
          16,
          16.2,
          16.400000000000002,
          16.6,
          16.8,
          17,
          17.2,
          17.400000000000002,
          17.6,
          17.8,
          18,
          18.2,
          18.400000000000002,
          18.6,
          18.8,
          19,
          19.200000000000003,
          19.400000000000002,
          19.6,
          19.8,
          20,
          20.200000000000003,
          20.400000000000002,
          20.6,
          20.8,
          21,
          21.200000000000003,
          21.400000000000002,
          21.6,
          21.8,
          22,
          22.200000000000003,
          22.400000000000002,
          22.6,
          22.8,
          23,
          23.200000000000003,
          23.400000000000002,
          23.6,
          23.8,
          24,
          24.200000000000003,
          24.400000000000002,
          24.6,
          24.8,
          25,
          25.200000000000003,
          25.400000000000002,
          25.6,
          25.8,
          26,
          26.200000000000003,
          26.400000000000002,
          26.6,
          26.8,
          27,
          27.200000000000003,
          27.400000000000002,
          27.6,
          27.8,
          28,
          28.200000000000003,
          28.400000000000002,
          28.6,
          28.8,
          29,
          29.200000000000003,
          29.400000000000002,
          29.6,
          29.8,
          30
         ],
         "y": [
          -0.07775191474566512,
          -0.5017595611497523,
          -0.2157897550595571,
          -0.3372971231583435,
          -0.27157091239936904,
          -0.4119706977268436,
          -0.47133689319143457,
          -0.3506526204438387,
          -0.2645425266099437,
          -0.34113757526864674,
          -0.16231225750578915,
          -0.08358141329361501,
          -0.09447994142365701,
          -0.14117101686440492,
          -0.17943835548203424,
          -0.17344040506355896,
          -0.15953684517683087,
          -0.16107743569494914,
          -0.14297086801963133,
          -0.10883272679683387,
          -0.11136212437099857,
          -0.0938871697874788,
          -0.07487965479953118,
          -0.029056609976350956,
          -0.03038641770024242,
          -0.07982494552504704,
          -0.058067214286325,
          -0.08357720451590467,
          -0.08746256085578352,
          -0.11623475680494266,
          -0.0773978512326039,
          0.014847682660160899,
          0.023099789476304977,
          -0.019369571112179074,
          0.023536638119821873,
          0.024106200888581952,
          -0.04760918747422238,
          -0.034942227174724394,
          -0.0008912900772202192,
          -0.006616469853383933,
          -0.008909477643442187,
          -0.011390762407472721,
          -0.020943575020851313,
          0.019755097462507365,
          0.03414314039775945,
          0.030129380608286738,
          0.0410807183916404,
          0.025819364922881505,
          0.017457430355534598,
          0.00017443583737986046,
          0.007117505604355756,
          -0.015319781333801075,
          -0.01613966955255819,
          -0.02464927429105046,
          -0.053009855367918135,
          -0.08427948197186197,
          -0.1018587153853332,
          -0.09155414069141443,
          -0.07441381356056809,
          -0.08828566152806161,
          -0.10658683411952552,
          -0.10957993244778663,
          -0.12691691034910946,
          -0.12841317372453886,
          -0.13149965624347715,
          -0.13243866721495579,
          -0.15407467497630023,
          -0.18896959776770927,
          -0.1870239222771488,
          -0.21085980523457692,
          -0.23942236753282486,
          -0.23498280768399127,
          -0.25384640454558394,
          -0.252902568903437,
          -0.2483458510523633,
          -0.2752988457602896,
          -0.2691292913673351,
          -0.25621278034350325,
          -0.2675398454093738,
          -0.28313323794236567,
          -0.26478782550475444,
          -0.2568675738434649,
          -0.25311561767421153,
          -0.24849168137052402,
          -0.25659357957965767,
          -0.22582175621437273,
          -0.2117174123895893,
          -0.22047677697673862,
          -0.22019956994881795,
          -0.22782352862031985,
          -0.24268744533355857,
          -0.252970038114654,
          -0.24821078071727243,
          -0.24057207752684917,
          -0.25456821826537634,
          -0.2338064294672222,
          -0.23651794625084221,
          -0.24291705149835252,
          -0.2296584911928221,
          -0.2396274066991282,
          -0.24196875448524224,
          -0.24103546609148907,
          -0.24847304232389433,
          -0.24742286356831755,
          -0.2494552703442423,
          -0.24447704335170783,
          -0.2498415056243175,
          -0.25182083159506874,
          -0.2549506444497638,
          -0.24298293543006366,
          -0.22954999634748674,
          -0.2393528925240389,
          -0.23144441388149062,
          -0.21859972696847763,
          -0.20304305636045683,
          -0.19495612010859986,
          -0.19571386803727364,
          -0.1971067201193364,
          -0.1864907339167985,
          -0.17496551959220596,
          -0.1805036751920852,
          -0.1808163979621895,
          -0.17305446081354603,
          -0.17720627480593976,
          -0.17873748612873896,
          -0.19488976057891705,
          -0.1876453486038372,
          -0.1821835706323327,
          -0.1792783064329342,
          -0.16596175476388453,
          -0.1715188079742802,
          -0.17725059748681815,
          -0.18145602082950063,
          -0.15015191692964436,
          -0.1490030559079969,
          -0.12705547903351544,
          -0.16411604563290894,
          -0.1568097082172244,
          -0.14619344907896448,
          -0.1402429723611931,
          -0.14471764992777025,
          -0.14635931851626083,
          -0.15304205004667892,
          -0.160799637225864,
          -0.1679021559011744,
          -0.17344158543983212,
          -0.19899064312721748,
          -0.2181838923106625,
          -0.2054073007284387,
          -0.19927071618712944,
          -0.20099101509094908
         ]
        }
       ],
       "layout": {
        "template": {
         "data": {
          "bar": [
           {
            "error_x": {
             "color": "#2a3f5f"
            },
            "error_y": {
             "color": "#2a3f5f"
            },
            "marker": {
             "line": {
              "color": "#E5ECF6",
              "width": 0.5
             }
            },
            "type": "bar"
           }
          ],
          "barpolar": [
           {
            "marker": {
             "line": {
              "color": "#E5ECF6",
              "width": 0.5
             }
            },
            "type": "barpolar"
           }
          ],
          "carpet": [
           {
            "aaxis": {
             "endlinecolor": "#2a3f5f",
             "gridcolor": "white",
             "linecolor": "white",
             "minorgridcolor": "white",
             "startlinecolor": "#2a3f5f"
            },
            "baxis": {
             "endlinecolor": "#2a3f5f",
             "gridcolor": "white",
             "linecolor": "white",
             "minorgridcolor": "white",
             "startlinecolor": "#2a3f5f"
            },
            "type": "carpet"
           }
          ],
          "choropleth": [
           {
            "colorbar": {
             "outlinewidth": 0,
             "ticks": ""
            },
            "type": "choropleth"
           }
          ],
          "contour": [
           {
            "colorbar": {
             "outlinewidth": 0,
             "ticks": ""
            },
            "colorscale": [
             [
              0,
              "#0d0887"
             ],
             [
              0.1111111111111111,
              "#46039f"
             ],
             [
              0.2222222222222222,
              "#7201a8"
             ],
             [
              0.3333333333333333,
              "#9c179e"
             ],
             [
              0.4444444444444444,
              "#bd3786"
             ],
             [
              0.5555555555555556,
              "#d8576b"
             ],
             [
              0.6666666666666666,
              "#ed7953"
             ],
             [
              0.7777777777777778,
              "#fb9f3a"
             ],
             [
              0.8888888888888888,
              "#fdca26"
             ],
             [
              1,
              "#f0f921"
             ]
            ],
            "type": "contour"
           }
          ],
          "contourcarpet": [
           {
            "colorbar": {
             "outlinewidth": 0,
             "ticks": ""
            },
            "type": "contourcarpet"
           }
          ],
          "heatmap": [
           {
            "colorbar": {
             "outlinewidth": 0,
             "ticks": ""
            },
            "colorscale": [
             [
              0,
              "#0d0887"
             ],
             [
              0.1111111111111111,
              "#46039f"
             ],
             [
              0.2222222222222222,
              "#7201a8"
             ],
             [
              0.3333333333333333,
              "#9c179e"
             ],
             [
              0.4444444444444444,
              "#bd3786"
             ],
             [
              0.5555555555555556,
              "#d8576b"
             ],
             [
              0.6666666666666666,
              "#ed7953"
             ],
             [
              0.7777777777777778,
              "#fb9f3a"
             ],
             [
              0.8888888888888888,
              "#fdca26"
             ],
             [
              1,
              "#f0f921"
             ]
            ],
            "type": "heatmap"
           }
          ],
          "heatmapgl": [
           {
            "colorbar": {
             "outlinewidth": 0,
             "ticks": ""
            },
            "colorscale": [
             [
              0,
              "#0d0887"
             ],
             [
              0.1111111111111111,
              "#46039f"
             ],
             [
              0.2222222222222222,
              "#7201a8"
             ],
             [
              0.3333333333333333,
              "#9c179e"
             ],
             [
              0.4444444444444444,
              "#bd3786"
             ],
             [
              0.5555555555555556,
              "#d8576b"
             ],
             [
              0.6666666666666666,
              "#ed7953"
             ],
             [
              0.7777777777777778,
              "#fb9f3a"
             ],
             [
              0.8888888888888888,
              "#fdca26"
             ],
             [
              1,
              "#f0f921"
             ]
            ],
            "type": "heatmapgl"
           }
          ],
          "histogram": [
           {
            "marker": {
             "colorbar": {
              "outlinewidth": 0,
              "ticks": ""
             }
            },
            "type": "histogram"
           }
          ],
          "histogram2d": [
           {
            "colorbar": {
             "outlinewidth": 0,
             "ticks": ""
            },
            "colorscale": [
             [
              0,
              "#0d0887"
             ],
             [
              0.1111111111111111,
              "#46039f"
             ],
             [
              0.2222222222222222,
              "#7201a8"
             ],
             [
              0.3333333333333333,
              "#9c179e"
             ],
             [
              0.4444444444444444,
              "#bd3786"
             ],
             [
              0.5555555555555556,
              "#d8576b"
             ],
             [
              0.6666666666666666,
              "#ed7953"
             ],
             [
              0.7777777777777778,
              "#fb9f3a"
             ],
             [
              0.8888888888888888,
              "#fdca26"
             ],
             [
              1,
              "#f0f921"
             ]
            ],
            "type": "histogram2d"
           }
          ],
          "histogram2dcontour": [
           {
            "colorbar": {
             "outlinewidth": 0,
             "ticks": ""
            },
            "colorscale": [
             [
              0,
              "#0d0887"
             ],
             [
              0.1111111111111111,
              "#46039f"
             ],
             [
              0.2222222222222222,
              "#7201a8"
             ],
             [
              0.3333333333333333,
              "#9c179e"
             ],
             [
              0.4444444444444444,
              "#bd3786"
             ],
             [
              0.5555555555555556,
              "#d8576b"
             ],
             [
              0.6666666666666666,
              "#ed7953"
             ],
             [
              0.7777777777777778,
              "#fb9f3a"
             ],
             [
              0.8888888888888888,
              "#fdca26"
             ],
             [
              1,
              "#f0f921"
             ]
            ],
            "type": "histogram2dcontour"
           }
          ],
          "mesh3d": [
           {
            "colorbar": {
             "outlinewidth": 0,
             "ticks": ""
            },
            "type": "mesh3d"
           }
          ],
          "parcoords": [
           {
            "line": {
             "colorbar": {
              "outlinewidth": 0,
              "ticks": ""
             }
            },
            "type": "parcoords"
           }
          ],
          "pie": [
           {
            "automargin": true,
            "type": "pie"
           }
          ],
          "scatter": [
           {
            "marker": {
             "colorbar": {
              "outlinewidth": 0,
              "ticks": ""
             }
            },
            "type": "scatter"
           }
          ],
          "scatter3d": [
           {
            "line": {
             "colorbar": {
              "outlinewidth": 0,
              "ticks": ""
             }
            },
            "marker": {
             "colorbar": {
              "outlinewidth": 0,
              "ticks": ""
             }
            },
            "type": "scatter3d"
           }
          ],
          "scattercarpet": [
           {
            "marker": {
             "colorbar": {
              "outlinewidth": 0,
              "ticks": ""
             }
            },
            "type": "scattercarpet"
           }
          ],
          "scattergeo": [
           {
            "marker": {
             "colorbar": {
              "outlinewidth": 0,
              "ticks": ""
             }
            },
            "type": "scattergeo"
           }
          ],
          "scattergl": [
           {
            "marker": {
             "colorbar": {
              "outlinewidth": 0,
              "ticks": ""
             }
            },
            "type": "scattergl"
           }
          ],
          "scattermapbox": [
           {
            "marker": {
             "colorbar": {
              "outlinewidth": 0,
              "ticks": ""
             }
            },
            "type": "scattermapbox"
           }
          ],
          "scatterpolar": [
           {
            "marker": {
             "colorbar": {
              "outlinewidth": 0,
              "ticks": ""
             }
            },
            "type": "scatterpolar"
           }
          ],
          "scatterpolargl": [
           {
            "marker": {
             "colorbar": {
              "outlinewidth": 0,
              "ticks": ""
             }
            },
            "type": "scatterpolargl"
           }
          ],
          "scatterternary": [
           {
            "marker": {
             "colorbar": {
              "outlinewidth": 0,
              "ticks": ""
             }
            },
            "type": "scatterternary"
           }
          ],
          "surface": [
           {
            "colorbar": {
             "outlinewidth": 0,
             "ticks": ""
            },
            "colorscale": [
             [
              0,
              "#0d0887"
             ],
             [
              0.1111111111111111,
              "#46039f"
             ],
             [
              0.2222222222222222,
              "#7201a8"
             ],
             [
              0.3333333333333333,
              "#9c179e"
             ],
             [
              0.4444444444444444,
              "#bd3786"
             ],
             [
              0.5555555555555556,
              "#d8576b"
             ],
             [
              0.6666666666666666,
              "#ed7953"
             ],
             [
              0.7777777777777778,
              "#fb9f3a"
             ],
             [
              0.8888888888888888,
              "#fdca26"
             ],
             [
              1,
              "#f0f921"
             ]
            ],
            "type": "surface"
           }
          ],
          "table": [
           {
            "cells": {
             "fill": {
              "color": "#EBF0F8"
             },
             "line": {
              "color": "white"
             }
            },
            "header": {
             "fill": {
              "color": "#C8D4E3"
             },
             "line": {
              "color": "white"
             }
            },
            "type": "table"
           }
          ]
         },
         "layout": {
          "annotationdefaults": {
           "arrowcolor": "#2a3f5f",
           "arrowhead": 0,
           "arrowwidth": 1
          },
          "coloraxis": {
           "colorbar": {
            "outlinewidth": 0,
            "ticks": ""
           }
          },
          "colorscale": {
           "diverging": [
            [
             0,
             "#8e0152"
            ],
            [
             0.1,
             "#c51b7d"
            ],
            [
             0.2,
             "#de77ae"
            ],
            [
             0.3,
             "#f1b6da"
            ],
            [
             0.4,
             "#fde0ef"
            ],
            [
             0.5,
             "#f7f7f7"
            ],
            [
             0.6,
             "#e6f5d0"
            ],
            [
             0.7,
             "#b8e186"
            ],
            [
             0.8,
             "#7fbc41"
            ],
            [
             0.9,
             "#4d9221"
            ],
            [
             1,
             "#276419"
            ]
           ],
           "sequential": [
            [
             0,
             "#0d0887"
            ],
            [
             0.1111111111111111,
             "#46039f"
            ],
            [
             0.2222222222222222,
             "#7201a8"
            ],
            [
             0.3333333333333333,
             "#9c179e"
            ],
            [
             0.4444444444444444,
             "#bd3786"
            ],
            [
             0.5555555555555556,
             "#d8576b"
            ],
            [
             0.6666666666666666,
             "#ed7953"
            ],
            [
             0.7777777777777778,
             "#fb9f3a"
            ],
            [
             0.8888888888888888,
             "#fdca26"
            ],
            [
             1,
             "#f0f921"
            ]
           ],
           "sequentialminus": [
            [
             0,
             "#0d0887"
            ],
            [
             0.1111111111111111,
             "#46039f"
            ],
            [
             0.2222222222222222,
             "#7201a8"
            ],
            [
             0.3333333333333333,
             "#9c179e"
            ],
            [
             0.4444444444444444,
             "#bd3786"
            ],
            [
             0.5555555555555556,
             "#d8576b"
            ],
            [
             0.6666666666666666,
             "#ed7953"
            ],
            [
             0.7777777777777778,
             "#fb9f3a"
            ],
            [
             0.8888888888888888,
             "#fdca26"
            ],
            [
             1,
             "#f0f921"
            ]
           ]
          },
          "colorway": [
           "#636efa",
           "#EF553B",
           "#00cc96",
           "#ab63fa",
           "#FFA15A",
           "#19d3f3",
           "#FF6692",
           "#B6E880",
           "#FF97FF",
           "#FECB52"
          ],
          "font": {
           "color": "#2a3f5f"
          },
          "geo": {
           "bgcolor": "white",
           "lakecolor": "white",
           "landcolor": "#E5ECF6",
           "showlakes": true,
           "showland": true,
           "subunitcolor": "white"
          },
          "hoverlabel": {
           "align": "left"
          },
          "hovermode": "closest",
          "mapbox": {
           "style": "light"
          },
          "paper_bgcolor": "white",
          "plot_bgcolor": "#E5ECF6",
          "polar": {
           "angularaxis": {
            "gridcolor": "white",
            "linecolor": "white",
            "ticks": ""
           },
           "bgcolor": "#E5ECF6",
           "radialaxis": {
            "gridcolor": "white",
            "linecolor": "white",
            "ticks": ""
           }
          },
          "scene": {
           "xaxis": {
            "backgroundcolor": "#E5ECF6",
            "gridcolor": "white",
            "gridwidth": 2,
            "linecolor": "white",
            "showbackground": true,
            "ticks": "",
            "zerolinecolor": "white"
           },
           "yaxis": {
            "backgroundcolor": "#E5ECF6",
            "gridcolor": "white",
            "gridwidth": 2,
            "linecolor": "white",
            "showbackground": true,
            "ticks": "",
            "zerolinecolor": "white"
           },
           "zaxis": {
            "backgroundcolor": "#E5ECF6",
            "gridcolor": "white",
            "gridwidth": 2,
            "linecolor": "white",
            "showbackground": true,
            "ticks": "",
            "zerolinecolor": "white"
           }
          },
          "shapedefaults": {
           "line": {
            "color": "#2a3f5f"
           }
          },
          "ternary": {
           "aaxis": {
            "gridcolor": "white",
            "linecolor": "white",
            "ticks": ""
           },
           "baxis": {
            "gridcolor": "white",
            "linecolor": "white",
            "ticks": ""
           },
           "bgcolor": "#E5ECF6",
           "caxis": {
            "gridcolor": "white",
            "linecolor": "white",
            "ticks": ""
           }
          },
          "title": {
           "x": 0.05
          },
          "xaxis": {
           "automargin": true,
           "gridcolor": "white",
           "linecolor": "white",
           "ticks": "",
           "title": {
            "standoff": 15
           },
           "zerolinecolor": "white",
           "zerolinewidth": 2
          },
          "yaxis": {
           "automargin": true,
           "gridcolor": "white",
           "linecolor": "white",
           "ticks": "",
           "title": {
            "standoff": 15
           },
           "zerolinecolor": "white",
           "zerolinewidth": 2
          }
         }
        },
        "title": {
         "text": "$\\text{Position Estimate Error}$",
         "x": 0.48,
         "xanchor": "center",
         "y": 0.9,
         "yanchor": "top"
        },
        "xaxis": {
         "title": {
          "text": "$\\text{Time (} s \\text{)}$"
         }
        },
        "yaxis": {
         "title": {
          "text": "$\\text{Position Error (} m \\text{)}$"
         }
        }
       }
      },
      "text/html": [
       "<div>\n",
       "        \n",
       "        \n",
       "            <div id=\"9f31e17c-5f20-4b07-a61a-2dcecc3c3ebd\" class=\"plotly-graph-div\" style=\"height:525px; width:100%;\"></div>\n",
       "            <script type=\"text/javascript\">\n",
       "                require([\"plotly\"], function(Plotly) {\n",
       "                    window.PLOTLYENV=window.PLOTLYENV || {};\n",
       "                    \n",
       "                if (document.getElementById(\"9f31e17c-5f20-4b07-a61a-2dcecc3c3ebd\")) {\n",
       "                    Plotly.newPlot(\n",
       "                        '9f31e17c-5f20-4b07-a61a-2dcecc3c3ebd',\n",
       "                        [{\"name\": \"Position Estimate Error\", \"type\": \"scatter\", \"x\": [0.0, 0.2, 0.4, 0.6000000000000001, 0.8, 1.0, 1.2000000000000002, 1.4000000000000001, 1.6, 1.8, 2.0, 2.2, 2.4000000000000004, 2.6, 2.8000000000000003, 3.0, 3.2, 3.4000000000000004, 3.6, 3.8000000000000003, 4.0, 4.2, 4.4, 4.6000000000000005, 4.800000000000001, 5.0, 5.2, 5.4, 5.6000000000000005, 5.800000000000001, 6.0, 6.2, 6.4, 6.6000000000000005, 6.800000000000001, 7.0, 7.2, 7.4, 7.6000000000000005, 7.800000000000001, 8.0, 8.200000000000001, 8.4, 8.6, 8.8, 9.0, 9.200000000000001, 9.4, 9.600000000000001, 9.8, 10.0, 10.200000000000001, 10.4, 10.600000000000001, 10.8, 11.0, 11.200000000000001, 11.4, 11.600000000000001, 11.8, 12.0, 12.200000000000001, 12.4, 12.600000000000001, 12.8, 13.0, 13.200000000000001, 13.4, 13.600000000000001, 13.8, 14.0, 14.200000000000001, 14.4, 14.600000000000001, 14.8, 15.0, 15.200000000000001, 15.4, 15.600000000000001, 15.8, 16.0, 16.2, 16.400000000000002, 16.6, 16.8, 17.0, 17.2, 17.400000000000002, 17.6, 17.8, 18.0, 18.2, 18.400000000000002, 18.6, 18.8, 19.0, 19.200000000000003, 19.400000000000002, 19.6, 19.8, 20.0, 20.200000000000003, 20.400000000000002, 20.6, 20.8, 21.0, 21.200000000000003, 21.400000000000002, 21.6, 21.8, 22.0, 22.200000000000003, 22.400000000000002, 22.6, 22.8, 23.0, 23.200000000000003, 23.400000000000002, 23.6, 23.8, 24.0, 24.200000000000003, 24.400000000000002, 24.6, 24.8, 25.0, 25.200000000000003, 25.400000000000002, 25.6, 25.8, 26.0, 26.200000000000003, 26.400000000000002, 26.6, 26.8, 27.0, 27.200000000000003, 27.400000000000002, 27.6, 27.8, 28.0, 28.200000000000003, 28.400000000000002, 28.6, 28.8, 29.0, 29.200000000000003, 29.400000000000002, 29.6, 29.8, 30.0], \"y\": [-0.07775191474566512, -0.5017595611497523, -0.2157897550595571, -0.3372971231583435, -0.27157091239936904, -0.4119706977268436, -0.47133689319143457, -0.3506526204438387, -0.2645425266099437, -0.34113757526864674, -0.16231225750578915, -0.08358141329361501, -0.09447994142365701, -0.14117101686440492, -0.17943835548203424, -0.17344040506355896, -0.15953684517683087, -0.16107743569494914, -0.14297086801963133, -0.10883272679683387, -0.11136212437099857, -0.0938871697874788, -0.07487965479953118, -0.029056609976350956, -0.03038641770024242, -0.07982494552504704, -0.058067214286325, -0.08357720451590467, -0.08746256085578352, -0.11623475680494266, -0.0773978512326039, 0.014847682660160899, 0.023099789476304977, -0.019369571112179074, 0.023536638119821873, 0.024106200888581952, -0.04760918747422238, -0.034942227174724394, -0.0008912900772202192, -0.006616469853383933, -0.008909477643442187, -0.011390762407472721, -0.020943575020851313, 0.019755097462507365, 0.03414314039775945, 0.030129380608286738, 0.0410807183916404, 0.025819364922881505, 0.017457430355534598, 0.00017443583737986046, 0.007117505604355756, -0.015319781333801075, -0.01613966955255819, -0.02464927429105046, -0.053009855367918135, -0.08427948197186197, -0.1018587153853332, -0.09155414069141443, -0.07441381356056809, -0.08828566152806161, -0.10658683411952552, -0.10957993244778663, -0.12691691034910946, -0.12841317372453886, -0.13149965624347715, -0.13243866721495579, -0.15407467497630023, -0.18896959776770927, -0.1870239222771488, -0.21085980523457692, -0.23942236753282486, -0.23498280768399127, -0.25384640454558394, -0.252902568903437, -0.2483458510523633, -0.2752988457602896, -0.2691292913673351, -0.25621278034350325, -0.2675398454093738, -0.28313323794236567, -0.26478782550475444, -0.2568675738434649, -0.25311561767421153, -0.24849168137052402, -0.25659357957965767, -0.22582175621437273, -0.2117174123895893, -0.22047677697673862, -0.22019956994881795, -0.22782352862031985, -0.24268744533355857, -0.252970038114654, -0.24821078071727243, -0.24057207752684917, -0.25456821826537634, -0.2338064294672222, -0.23651794625084221, -0.24291705149835252, -0.2296584911928221, -0.2396274066991282, -0.24196875448524224, -0.24103546609148907, -0.24847304232389433, -0.24742286356831755, -0.2494552703442423, -0.24447704335170783, -0.2498415056243175, -0.25182083159506874, -0.2549506444497638, -0.24298293543006366, -0.22954999634748674, -0.2393528925240389, -0.23144441388149062, -0.21859972696847763, -0.20304305636045683, -0.19495612010859986, -0.19571386803727364, -0.1971067201193364, -0.1864907339167985, -0.17496551959220596, -0.1805036751920852, -0.1808163979621895, -0.17305446081354603, -0.17720627480593976, -0.17873748612873896, -0.19488976057891705, -0.1876453486038372, -0.1821835706323327, -0.1792783064329342, -0.16596175476388453, -0.1715188079742802, -0.17725059748681815, -0.18145602082950063, -0.15015191692964436, -0.1490030559079969, -0.12705547903351544, -0.16411604563290894, -0.1568097082172244, -0.14619344907896448, -0.1402429723611931, -0.14471764992777025, -0.14635931851626083, -0.15304205004667892, -0.160799637225864, -0.1679021559011744, -0.17344158543983212, -0.19899064312721748, -0.2181838923106625, -0.2054073007284387, -0.19927071618712944, -0.20099101509094908]}],\n",
       "                        {\"template\": {\"data\": {\"bar\": [{\"error_x\": {\"color\": \"#2a3f5f\"}, \"error_y\": {\"color\": \"#2a3f5f\"}, \"marker\": {\"line\": {\"color\": \"#E5ECF6\", \"width\": 0.5}}, \"type\": \"bar\"}], \"barpolar\": [{\"marker\": {\"line\": {\"color\": \"#E5ECF6\", \"width\": 0.5}}, \"type\": \"barpolar\"}], \"carpet\": [{\"aaxis\": {\"endlinecolor\": \"#2a3f5f\", \"gridcolor\": \"white\", \"linecolor\": \"white\", \"minorgridcolor\": \"white\", \"startlinecolor\": \"#2a3f5f\"}, \"baxis\": {\"endlinecolor\": \"#2a3f5f\", \"gridcolor\": \"white\", \"linecolor\": \"white\", \"minorgridcolor\": \"white\", \"startlinecolor\": \"#2a3f5f\"}, \"type\": \"carpet\"}], \"choropleth\": [{\"colorbar\": {\"outlinewidth\": 0, \"ticks\": \"\"}, \"type\": \"choropleth\"}], \"contour\": [{\"colorbar\": {\"outlinewidth\": 0, \"ticks\": \"\"}, \"colorscale\": [[0.0, \"#0d0887\"], [0.1111111111111111, \"#46039f\"], [0.2222222222222222, \"#7201a8\"], [0.3333333333333333, \"#9c179e\"], [0.4444444444444444, \"#bd3786\"], [0.5555555555555556, \"#d8576b\"], [0.6666666666666666, \"#ed7953\"], [0.7777777777777778, \"#fb9f3a\"], [0.8888888888888888, \"#fdca26\"], [1.0, \"#f0f921\"]], \"type\": \"contour\"}], \"contourcarpet\": [{\"colorbar\": {\"outlinewidth\": 0, \"ticks\": \"\"}, \"type\": \"contourcarpet\"}], \"heatmap\": [{\"colorbar\": {\"outlinewidth\": 0, \"ticks\": \"\"}, \"colorscale\": [[0.0, \"#0d0887\"], [0.1111111111111111, \"#46039f\"], [0.2222222222222222, \"#7201a8\"], [0.3333333333333333, \"#9c179e\"], [0.4444444444444444, \"#bd3786\"], [0.5555555555555556, \"#d8576b\"], [0.6666666666666666, \"#ed7953\"], [0.7777777777777778, \"#fb9f3a\"], [0.8888888888888888, \"#fdca26\"], [1.0, \"#f0f921\"]], \"type\": \"heatmap\"}], \"heatmapgl\": [{\"colorbar\": {\"outlinewidth\": 0, \"ticks\": \"\"}, \"colorscale\": [[0.0, \"#0d0887\"], [0.1111111111111111, \"#46039f\"], [0.2222222222222222, \"#7201a8\"], [0.3333333333333333, \"#9c179e\"], [0.4444444444444444, \"#bd3786\"], [0.5555555555555556, \"#d8576b\"], [0.6666666666666666, \"#ed7953\"], [0.7777777777777778, \"#fb9f3a\"], [0.8888888888888888, \"#fdca26\"], [1.0, \"#f0f921\"]], \"type\": \"heatmapgl\"}], \"histogram\": [{\"marker\": {\"colorbar\": {\"outlinewidth\": 0, \"ticks\": \"\"}}, \"type\": \"histogram\"}], \"histogram2d\": [{\"colorbar\": {\"outlinewidth\": 0, \"ticks\": \"\"}, \"colorscale\": [[0.0, \"#0d0887\"], [0.1111111111111111, \"#46039f\"], [0.2222222222222222, \"#7201a8\"], [0.3333333333333333, \"#9c179e\"], [0.4444444444444444, \"#bd3786\"], [0.5555555555555556, \"#d8576b\"], [0.6666666666666666, \"#ed7953\"], [0.7777777777777778, \"#fb9f3a\"], [0.8888888888888888, \"#fdca26\"], [1.0, \"#f0f921\"]], \"type\": \"histogram2d\"}], \"histogram2dcontour\": [{\"colorbar\": {\"outlinewidth\": 0, \"ticks\": \"\"}, \"colorscale\": [[0.0, \"#0d0887\"], [0.1111111111111111, \"#46039f\"], [0.2222222222222222, \"#7201a8\"], [0.3333333333333333, \"#9c179e\"], [0.4444444444444444, \"#bd3786\"], [0.5555555555555556, \"#d8576b\"], [0.6666666666666666, \"#ed7953\"], [0.7777777777777778, \"#fb9f3a\"], [0.8888888888888888, \"#fdca26\"], [1.0, \"#f0f921\"]], \"type\": \"histogram2dcontour\"}], \"mesh3d\": [{\"colorbar\": {\"outlinewidth\": 0, \"ticks\": \"\"}, \"type\": \"mesh3d\"}], \"parcoords\": [{\"line\": {\"colorbar\": {\"outlinewidth\": 0, \"ticks\": \"\"}}, \"type\": \"parcoords\"}], \"pie\": [{\"automargin\": true, \"type\": \"pie\"}], \"scatter\": [{\"marker\": {\"colorbar\": {\"outlinewidth\": 0, \"ticks\": \"\"}}, \"type\": \"scatter\"}], \"scatter3d\": [{\"line\": {\"colorbar\": {\"outlinewidth\": 0, \"ticks\": \"\"}}, \"marker\": {\"colorbar\": {\"outlinewidth\": 0, \"ticks\": \"\"}}, \"type\": \"scatter3d\"}], \"scattercarpet\": [{\"marker\": {\"colorbar\": {\"outlinewidth\": 0, \"ticks\": \"\"}}, \"type\": \"scattercarpet\"}], \"scattergeo\": [{\"marker\": {\"colorbar\": {\"outlinewidth\": 0, \"ticks\": \"\"}}, \"type\": \"scattergeo\"}], \"scattergl\": [{\"marker\": {\"colorbar\": {\"outlinewidth\": 0, \"ticks\": \"\"}}, \"type\": \"scattergl\"}], \"scattermapbox\": [{\"marker\": {\"colorbar\": {\"outlinewidth\": 0, \"ticks\": \"\"}}, \"type\": \"scattermapbox\"}], \"scatterpolar\": [{\"marker\": {\"colorbar\": {\"outlinewidth\": 0, \"ticks\": \"\"}}, \"type\": \"scatterpolar\"}], \"scatterpolargl\": [{\"marker\": {\"colorbar\": {\"outlinewidth\": 0, \"ticks\": \"\"}}, \"type\": \"scatterpolargl\"}], \"scatterternary\": [{\"marker\": {\"colorbar\": {\"outlinewidth\": 0, \"ticks\": \"\"}}, \"type\": \"scatterternary\"}], \"surface\": [{\"colorbar\": {\"outlinewidth\": 0, \"ticks\": \"\"}, \"colorscale\": [[0.0, \"#0d0887\"], [0.1111111111111111, \"#46039f\"], [0.2222222222222222, \"#7201a8\"], [0.3333333333333333, \"#9c179e\"], [0.4444444444444444, \"#bd3786\"], [0.5555555555555556, \"#d8576b\"], [0.6666666666666666, \"#ed7953\"], [0.7777777777777778, \"#fb9f3a\"], [0.8888888888888888, \"#fdca26\"], [1.0, \"#f0f921\"]], \"type\": \"surface\"}], \"table\": [{\"cells\": {\"fill\": {\"color\": \"#EBF0F8\"}, \"line\": {\"color\": \"white\"}}, \"header\": {\"fill\": {\"color\": \"#C8D4E3\"}, \"line\": {\"color\": \"white\"}}, \"type\": \"table\"}]}, \"layout\": {\"annotationdefaults\": {\"arrowcolor\": \"#2a3f5f\", \"arrowhead\": 0, \"arrowwidth\": 1}, \"coloraxis\": {\"colorbar\": {\"outlinewidth\": 0, \"ticks\": \"\"}}, \"colorscale\": {\"diverging\": [[0, \"#8e0152\"], [0.1, \"#c51b7d\"], [0.2, \"#de77ae\"], [0.3, \"#f1b6da\"], [0.4, \"#fde0ef\"], [0.5, \"#f7f7f7\"], [0.6, \"#e6f5d0\"], [0.7, \"#b8e186\"], [0.8, \"#7fbc41\"], [0.9, \"#4d9221\"], [1, \"#276419\"]], \"sequential\": [[0.0, \"#0d0887\"], [0.1111111111111111, \"#46039f\"], [0.2222222222222222, \"#7201a8\"], [0.3333333333333333, \"#9c179e\"], [0.4444444444444444, \"#bd3786\"], [0.5555555555555556, \"#d8576b\"], [0.6666666666666666, \"#ed7953\"], [0.7777777777777778, \"#fb9f3a\"], [0.8888888888888888, \"#fdca26\"], [1.0, \"#f0f921\"]], \"sequentialminus\": [[0.0, \"#0d0887\"], [0.1111111111111111, \"#46039f\"], [0.2222222222222222, \"#7201a8\"], [0.3333333333333333, \"#9c179e\"], [0.4444444444444444, \"#bd3786\"], [0.5555555555555556, \"#d8576b\"], [0.6666666666666666, \"#ed7953\"], [0.7777777777777778, \"#fb9f3a\"], [0.8888888888888888, \"#fdca26\"], [1.0, \"#f0f921\"]]}, \"colorway\": [\"#636efa\", \"#EF553B\", \"#00cc96\", \"#ab63fa\", \"#FFA15A\", \"#19d3f3\", \"#FF6692\", \"#B6E880\", \"#FF97FF\", \"#FECB52\"], \"font\": {\"color\": \"#2a3f5f\"}, \"geo\": {\"bgcolor\": \"white\", \"lakecolor\": \"white\", \"landcolor\": \"#E5ECF6\", \"showlakes\": true, \"showland\": true, \"subunitcolor\": \"white\"}, \"hoverlabel\": {\"align\": \"left\"}, \"hovermode\": \"closest\", \"mapbox\": {\"style\": \"light\"}, \"paper_bgcolor\": \"white\", \"plot_bgcolor\": \"#E5ECF6\", \"polar\": {\"angularaxis\": {\"gridcolor\": \"white\", \"linecolor\": \"white\", \"ticks\": \"\"}, \"bgcolor\": \"#E5ECF6\", \"radialaxis\": {\"gridcolor\": \"white\", \"linecolor\": \"white\", \"ticks\": \"\"}}, \"scene\": {\"xaxis\": {\"backgroundcolor\": \"#E5ECF6\", \"gridcolor\": \"white\", \"gridwidth\": 2, \"linecolor\": \"white\", \"showbackground\": true, \"ticks\": \"\", \"zerolinecolor\": \"white\"}, \"yaxis\": {\"backgroundcolor\": \"#E5ECF6\", \"gridcolor\": \"white\", \"gridwidth\": 2, \"linecolor\": \"white\", \"showbackground\": true, \"ticks\": \"\", \"zerolinecolor\": \"white\"}, \"zaxis\": {\"backgroundcolor\": \"#E5ECF6\", \"gridcolor\": \"white\", \"gridwidth\": 2, \"linecolor\": \"white\", \"showbackground\": true, \"ticks\": \"\", \"zerolinecolor\": \"white\"}}, \"shapedefaults\": {\"line\": {\"color\": \"#2a3f5f\"}}, \"ternary\": {\"aaxis\": {\"gridcolor\": \"white\", \"linecolor\": \"white\", \"ticks\": \"\"}, \"baxis\": {\"gridcolor\": \"white\", \"linecolor\": \"white\", \"ticks\": \"\"}, \"bgcolor\": \"#E5ECF6\", \"caxis\": {\"gridcolor\": \"white\", \"linecolor\": \"white\", \"ticks\": \"\"}}, \"title\": {\"x\": 0.05}, \"xaxis\": {\"automargin\": true, \"gridcolor\": \"white\", \"linecolor\": \"white\", \"ticks\": \"\", \"title\": {\"standoff\": 15}, \"zerolinecolor\": \"white\", \"zerolinewidth\": 2}, \"yaxis\": {\"automargin\": true, \"gridcolor\": \"white\", \"linecolor\": \"white\", \"ticks\": \"\", \"title\": {\"standoff\": 15}, \"zerolinecolor\": \"white\", \"zerolinewidth\": 2}}}, \"title\": {\"text\": \"$\\\\text{Position Estimate Error}$\", \"x\": 0.48, \"xanchor\": \"center\", \"y\": 0.9, \"yanchor\": \"top\"}, \"xaxis\": {\"title\": {\"text\": \"$\\\\text{Time (} s \\\\text{)}$\"}}, \"yaxis\": {\"title\": {\"text\": \"$\\\\text{Position Error (} m \\\\text{)}$\"}}},\n",
       "                        {\"responsive\": true}\n",
       "                    ).then(function(){\n",
       "                            \n",
       "var gd = document.getElementById('9f31e17c-5f20-4b07-a61a-2dcecc3c3ebd');\n",
       "var x = new MutationObserver(function (mutations, observer) {{\n",
       "        var display = window.getComputedStyle(gd).display;\n",
       "        if (!display || display === 'none') {{\n",
       "            console.log([gd, 'removed!']);\n",
       "            Plotly.purge(gd);\n",
       "            observer.disconnect();\n",
       "        }}\n",
       "}});\n",
       "\n",
       "// Listen for the removal of the full notebook cells\n",
       "var notebookContainer = gd.closest('#notebook-container');\n",
       "if (notebookContainer) {{\n",
       "    x.observe(notebookContainer, {childList: true});\n",
       "}}\n",
       "\n",
       "// Listen for the clearing of the current output cell\n",
       "var outputEl = gd.closest('.output');\n",
       "if (outputEl) {{\n",
       "    x.observe(outputEl, {childList: true});\n",
       "}}\n",
       "\n",
       "                        })\n",
       "                };\n",
       "                });\n",
       "            </script>\n",
       "        </div>"
      ]
     },
     "metadata": {},
     "output_type": "display_data"
    },
    {
     "data": {
      "application/vnd.plotly.v1+json": {
       "config": {
        "plotlyServerURL": "https://plot.ly"
       },
       "data": [
        {
         "line": {
          "width": 4
         },
         "name": "Estimated Velocity",
         "type": "scatter",
         "x": [
          0,
          0.2,
          0.4,
          0.6000000000000001,
          0.8,
          1,
          1.2000000000000002,
          1.4000000000000001,
          1.6,
          1.8,
          2,
          2.2,
          2.4000000000000004,
          2.6,
          2.8000000000000003,
          3,
          3.2,
          3.4000000000000004,
          3.6,
          3.8000000000000003,
          4,
          4.2,
          4.4,
          4.6000000000000005,
          4.800000000000001,
          5,
          5.2,
          5.4,
          5.6000000000000005,
          5.800000000000001,
          6,
          6.2,
          6.4,
          6.6000000000000005,
          6.800000000000001,
          7,
          7.2,
          7.4,
          7.6000000000000005,
          7.800000000000001,
          8,
          8.200000000000001,
          8.4,
          8.6,
          8.8,
          9,
          9.200000000000001,
          9.4,
          9.600000000000001,
          9.8,
          10,
          10.200000000000001,
          10.4,
          10.600000000000001,
          10.8,
          11,
          11.200000000000001,
          11.4,
          11.600000000000001,
          11.8,
          12,
          12.200000000000001,
          12.4,
          12.600000000000001,
          12.8,
          13,
          13.200000000000001,
          13.4,
          13.600000000000001,
          13.8,
          14,
          14.200000000000001,
          14.4,
          14.600000000000001,
          14.8,
          15,
          15.200000000000001,
          15.4,
          15.600000000000001,
          15.8,
          16,
          16.2,
          16.400000000000002,
          16.6,
          16.8,
          17,
          17.2,
          17.400000000000002,
          17.6,
          17.8,
          18,
          18.2,
          18.400000000000002,
          18.6,
          18.8,
          19,
          19.200000000000003,
          19.400000000000002,
          19.6,
          19.8,
          20,
          20.200000000000003,
          20.400000000000002,
          20.6,
          20.8,
          21,
          21.200000000000003,
          21.400000000000002,
          21.6,
          21.8,
          22,
          22.200000000000003,
          22.400000000000002,
          22.6,
          22.8,
          23,
          23.200000000000003,
          23.400000000000002,
          23.6,
          23.8,
          24,
          24.200000000000003,
          24.400000000000002,
          24.6,
          24.8,
          25,
          25.200000000000003,
          25.400000000000002,
          25.6,
          25.8,
          26,
          26.200000000000003,
          26.400000000000002,
          26.6,
          26.8,
          27,
          27.200000000000003,
          27.400000000000002,
          27.6,
          27.8,
          28,
          28.200000000000003,
          28.400000000000002,
          28.6,
          28.8,
          29,
          29.200000000000003,
          29.400000000000002,
          29.6,
          29.8,
          30
         ],
         "y": [
          100.7036788760178,
          100.6724072498046,
          100.67019581280715,
          100.73292348558228,
          100.84286825070897,
          101.00868603121198,
          101.20689501539736,
          101.46760528121922,
          101.7771067189097,
          102.11971490709084,
          102.50002553294739,
          102.92319613399059,
          103.35760348659453,
          103.85644159138099,
          104.39835027356554,
          104.95688700311142,
          105.56215830013149,
          106.21772781894842,
          106.90093403908948,
          107.6285300891137,
          108.40240771031105,
          109.19732283928685,
          110.0336140096653,
          110.89968032312646,
          111.81263417429349,
          112.74691361632487,
          113.72709382784478,
          114.74360956121342,
          115.7838038290949,
          116.85399435513133,
          117.9708150167679,
          119.11047723777897,
          120.28904513541814,
          121.49987066762874,
          122.74334951044113,
          124.02429512005152,
          125.33965200527273,
          126.66683770587406,
          128.02703785377486,
          129.42414397121797,
          130.84981209955325,
          132.2915418078687,
          133.76448138428603,
          135.26474847139497,
          136.78891127912368,
          138.34169847732122,
          139.9127044942285,
          141.52334592786156,
          143.1491270233103,
          144.80192726384598,
          146.4741438536565,
          148.17210926156815,
          149.88720018362903,
          151.62869171061678,
          153.38557236249807,
          155.15584796853184,
          156.9480467942573,
          158.75569197125478,
          160.5767914161727,
          162.4184374418155,
          164.28314725803148,
          166.15761167151032,
          168.0384224627536,
          169.93562427643195,
          171.84038334390246,
          173.76172368883212,
          175.69130161396964,
          177.6396101827025,
          179.5905501324756,
          181.55302086445192,
          183.515657785876,
          185.4881576495918,
          187.47383678385813,
          189.45888811417967,
          191.4477668467033,
          193.44153465120377,
          195.4381340623566,
          197.43543871169547,
          199.432350393053,
          201.4277462873575,
          203.4278879669799,
          205.42734373415317,
          207.42080791447734,
          209.4205647974202,
          211.4085981613941,
          213.3851626514023,
          215.3615805543846,
          217.33628452250193,
          219.30569136120812,
          221.25626792531168,
          223.2118015421652,
          225.16052994073937,
          227.09175924304714,
          229.01364255991322,
          230.92938364898728,
          232.8233696859851,
          234.71007829306177,
          236.5798812121757,
          238.43828129454423,
          240.27162036019638,
          242.10006232604732,
          243.9090271045159,
          245.7013626113026,
          247.47427330471308,
          249.2284523767952,
          250.9641888297976,
          252.68816179164924,
          254.38872430816758,
          256.06301549237554,
          257.7112302247992,
          259.34087115563216,
          260.9551938449523,
          262.5342128339798,
          264.0853929595646,
          265.61673005750185,
          267.11785621514923,
          268.59844081895295,
          270.04998083730396,
          271.4704931027816,
          272.866086481811,
          274.23580450916245,
          275.58071942510617,
          276.8939799850512,
          278.16205914825525,
          279.4093704823425,
          280.63113027942745,
          281.8064921929401,
          282.95588596337205,
          284.07073272755895,
          285.153357128171,
          286.2037212487221,
          287.21999164341173,
          288.1984205303778,
          289.13755126265596,
          290.0446864526523,
          290.9062586163998,
          291.7497292256069,
          292.54938049145835,
          293.31056991886754,
          294.03759276014995,
          294.73029770015205,
          295.3813500338952,
          295.999454943692,
          296.57712596600874,
          297.1155125688089,
          297.6115869312605,
          298.08094041338813,
          298.50998596253015,
          298.8883280254474,
          299.2285410038969,
          299.5304696559498
         ]
        },
        {
         "name": "True Velocity",
         "type": "scatter",
         "x": [
          0,
          0.2,
          0.4,
          0.6000000000000001,
          0.8,
          1,
          1.2000000000000002,
          1.4000000000000001,
          1.6,
          1.8,
          2,
          2.2,
          2.4000000000000004,
          2.6,
          2.8000000000000003,
          3,
          3.2,
          3.4000000000000004,
          3.6,
          3.8000000000000003,
          4,
          4.2,
          4.4,
          4.6000000000000005,
          4.800000000000001,
          5,
          5.2,
          5.4,
          5.6000000000000005,
          5.800000000000001,
          6,
          6.2,
          6.4,
          6.6000000000000005,
          6.800000000000001,
          7,
          7.2,
          7.4,
          7.6000000000000005,
          7.800000000000001,
          8,
          8.200000000000001,
          8.4,
          8.6,
          8.8,
          9,
          9.200000000000001,
          9.4,
          9.600000000000001,
          9.8,
          10,
          10.200000000000001,
          10.4,
          10.600000000000001,
          10.8,
          11,
          11.200000000000001,
          11.4,
          11.600000000000001,
          11.8,
          12,
          12.200000000000001,
          12.4,
          12.600000000000001,
          12.8,
          13,
          13.200000000000001,
          13.4,
          13.600000000000001,
          13.8,
          14,
          14.200000000000001,
          14.4,
          14.600000000000001,
          14.8,
          15,
          15.200000000000001,
          15.4,
          15.600000000000001,
          15.8,
          16,
          16.2,
          16.400000000000002,
          16.6,
          16.8,
          17,
          17.2,
          17.400000000000002,
          17.6,
          17.8,
          18,
          18.2,
          18.400000000000002,
          18.6,
          18.8,
          19,
          19.200000000000003,
          19.400000000000002,
          19.6,
          19.8,
          20,
          20.200000000000003,
          20.400000000000002,
          20.6,
          20.8,
          21,
          21.200000000000003,
          21.400000000000002,
          21.6,
          21.8,
          22,
          22.200000000000003,
          22.400000000000002,
          22.6,
          22.8,
          23,
          23.200000000000003,
          23.400000000000002,
          23.6,
          23.8,
          24,
          24.200000000000003,
          24.400000000000002,
          24.6,
          24.8,
          25,
          25.200000000000003,
          25.400000000000002,
          25.6,
          25.8,
          26,
          26.200000000000003,
          26.400000000000002,
          26.6,
          26.8,
          27,
          27.200000000000003,
          27.400000000000002,
          27.6,
          27.8,
          28,
          28.200000000000003,
          28.400000000000002,
          28.6,
          28.8,
          29,
          29.200000000000003,
          29.400000000000002,
          29.6,
          29.8,
          30
         ],
         "y": [
          100.52303329849963,
          100.54253266475791,
          100.6020228973808,
          100.7014802010684,
          100.84086479422544,
          101.020120924873,
          101.23917689294886,
          101.49794507898653,
          101.79632197916182,
          102.1341882466929,
          102.51140873957767,
          102.92783257464849,
          103.38329318792346,
          103.87760840123012,
          104.41058049507394,
          104.9819962877235,
          105.5916272204806,
          106.23922944910038,
          106.92454394132601,
          107.64729658049797,
          108.40719827519715,
          109.20394507487762,
          110.03721829144264,
          110.9066846267157,
          111.81199630575543,
          112.7527912159609,
          113.72869305191182,
          114.73931146588559,
          115.78424222399143,
          116.86306736785825,
          117.9753553818127,
          119.12066136547952,
          120.29852721173573,
          121.50848178994751,
          122.75004113441612,
          124.02270863795763,
          125.32597525053934,
          126.65931968289287,
          128.02220861502295,
          129.41409690952833,
          130.83442782964948,
          132.28263326195597,
          133.7581339435838,
          135.2603396939335,
          136.78864965073407,
          138.34245251037993,
          139.92112677244444,
          141.5240409882714,
          143.15055401354647,
          144.80001526474592,
          146.47176497936195,
          148.1651344797984,
          149.87944644083302,
          151.61401516053857,
          153.36814683455455,
          155.14113983359925,
          156.9322849841127,
          158.74086585191634,
          160.5661590287773,
          162.40743442176154,
          164.26395554526198,
          166.13497981558254,
          168.01975884796158,
          169.9175387559164,
          171.82756045278714,
          173.74905995536164,
          175.68126868945856,
          177.62341379734661,
          179.57471844687774,
          181.53440214220907,
          183.50168103599106,
          185.47576824289658,
          187.45587415436339,
          189.4412067544281,
          191.43097193652153,
          193.42437382110055,
          195.42061507398964,
          197.41889722530385,
          199.41842098882614,
          201.4183865817111,
          203.41799404438734,
          205.41644356053084,
          207.4129357769808,
          209.40667212347017,
          211.39685513204316,
          213.38268875603185,
          215.36337868846402,
          217.33813267977555,
          219.30616085469958,
          221.2666760282062,
          223.2188940203658,
          225.1620339700108,
          227.09531864706955,
          229.01797476344797,
          230.92923328233454,
          232.8283297258049,
          234.71450448060256,
          236.58700310197432,
          238.4450766154379,
          240.28798181636188,
          242.11498156723763,
          243.92534509252454,
          245.7183482709502,
          247.49327392514994,
          249.2494121085271,
          250.98606038922333,
          252.70252413108147,
          254.3981167714905,
          256.0721600960019,
          257.7239845096061,
          259.3529293045617,
          260.9583429246697,
          262.5395832258873,
          264.0960177331771,
          265.6270238934882,
          267.1319893247695,
          268.6103120609145,
          270.0614007925398,
          271.48467510349974,
          272.87956570304715,
          274.24551465354045,
          275.5819755936116,
          276.8884139567038,
          278.16430718489124,
          279.40914493789376,
          280.622429297208,
          281.80367496526713,
          282.9524094595538,
          284.0681733015865,
          285.1505202007051,
          286.1990172325808,
          287.21324501238064,
          288.1927978625156,
          289.1372839749065,
          290.046325567701,
          290.91955903638257,
          291.7566350992067,
          292.5572189369089,
          293.3209903266286,
          294.04764376999344,
          294.7368886153147,
          295.38844917384375,
          296.00206483004484,
          296.5774901458367,
          297.11449495876525,
          297.61286447406536,
          298.07239935057595,
          298.4929157804732,
          298.874245562792,
          299.2162361707037,
          299.5187508125251
         ]
        },
        {
         "line": {
          "color": "green",
          "dash": "dash",
          "width": 1
         },
         "name": "$+ \\sigma$",
         "type": "scatter",
         "x": [
          0,
          0.2,
          0.4,
          0.6000000000000001,
          0.8,
          1,
          1.2000000000000002,
          1.4000000000000001,
          1.6,
          1.8,
          2,
          2.2,
          2.4000000000000004,
          2.6,
          2.8000000000000003,
          3,
          3.2,
          3.4000000000000004,
          3.6,
          3.8000000000000003,
          4,
          4.2,
          4.4,
          4.6000000000000005,
          4.800000000000001,
          5,
          5.2,
          5.4,
          5.6000000000000005,
          5.800000000000001,
          6,
          6.2,
          6.4,
          6.6000000000000005,
          6.800000000000001,
          7,
          7.2,
          7.4,
          7.6000000000000005,
          7.800000000000001,
          8,
          8.200000000000001,
          8.4,
          8.6,
          8.8,
          9,
          9.200000000000001,
          9.4,
          9.600000000000001,
          9.8,
          10,
          10.200000000000001,
          10.4,
          10.600000000000001,
          10.8,
          11,
          11.200000000000001,
          11.4,
          11.600000000000001,
          11.8,
          12,
          12.200000000000001,
          12.4,
          12.600000000000001,
          12.8,
          13,
          13.200000000000001,
          13.4,
          13.600000000000001,
          13.8,
          14,
          14.200000000000001,
          14.4,
          14.600000000000001,
          14.8,
          15,
          15.200000000000001,
          15.4,
          15.600000000000001,
          15.8,
          16,
          16.2,
          16.400000000000002,
          16.6,
          16.8,
          17,
          17.2,
          17.400000000000002,
          17.6,
          17.8,
          18,
          18.2,
          18.400000000000002,
          18.6,
          18.8,
          19,
          19.200000000000003,
          19.400000000000002,
          19.6,
          19.8,
          20,
          20.200000000000003,
          20.400000000000002,
          20.6,
          20.8,
          21,
          21.200000000000003,
          21.400000000000002,
          21.6,
          21.8,
          22,
          22.200000000000003,
          22.400000000000002,
          22.6,
          22.8,
          23,
          23.200000000000003,
          23.400000000000002,
          23.6,
          23.8,
          24,
          24.200000000000003,
          24.400000000000002,
          24.6,
          24.8,
          25,
          25.200000000000003,
          25.400000000000002,
          25.6,
          25.8,
          26,
          26.200000000000003,
          26.400000000000002,
          26.6,
          26.8,
          27,
          27.200000000000003,
          27.400000000000002,
          27.6,
          27.8,
          28,
          28.200000000000003,
          28.400000000000002,
          28.6,
          28.8,
          29,
          29.200000000000003,
          29.400000000000002,
          29.6,
          29.8,
          30
         ],
         "y": [
          100.74364691436668,
          100.70226561187908,
          100.69855643704477,
          100.76128512997951,
          100.8708303323335,
          101.03584351532164,
          101.2330822799401,
          101.49280420581401,
          101.80136571753623,
          102.1431066404064,
          102.5226276130513,
          102.94508299250364,
          103.37884335249264,
          103.87709573838315,
          104.41847323315362,
          104.97652714859807,
          105.5813585339975,
          106.23652624706385,
          106.91936458570159,
          107.64662303877145,
          108.42019017723041,
          109.214819170493,
          110.05084613009778,
          110.91666803094061,
          111.8293953938891,
          112.76346461568154,
          113.7434494057735,
          114.75978320924393,
          115.79980787194152,
          116.86984007302077,
          117.98651275236084,
          119.12603648996085,
          120.30447464185691,
          121.51517847768709,
          122.75854304977494,
          124.03938124801563,
          125.35463706608056,
          126.68172757431394,
          128.04183797616605,
          129.43885940218965,
          130.86444753514667,
          132.30610161539275,
          133.77896962929765,
          135.27916894212657,
          136.80326750863748,
          138.35599376363464,
          139.92694191862455,
          141.53752837157163,
          143.163257182735,
          144.81600766445936,
          146.48817686272338,
          148.18609709978873,
          149.90114493581308,
          151.6425953354783,
          153.3994367016516,
          155.16967475476343,
          156.96183765913526,
          158.76944845213907,
          160.5905149626757,
          162.43212942176208,
          164.29680896296117,
          166.17124432176075,
          168.05202721216037,
          169.94920221667712,
          171.85393550854042,
          173.7752510570196,
          175.70480511392378,
          177.65309069490877,
          179.60400849266563,
          181.56645786636955,
          183.52907418384817,
          185.50155416091945,
          187.48721409104087,
          189.47224686698752,
          191.46110766410658,
          193.45485812317213,
          195.45144075153726,
          197.4487291549791,
          199.44562510303624,
          201.4410057537091,
          203.4411326577181,
          205.44057409684027,
          207.43402437733772,
          209.43376777038725,
          211.42178803709086,
          213.39833980606087,
          215.37474534870833,
          217.34943730247446,
          219.31883245885294,
          221.26939765940568,
          223.22492021890923,
          225.1736378543887,
          227.10485667650474,
          229.02672978528815,
          230.94246092812045,
          232.83643727094474,
          234.72313642661052,
          236.59293012821112,
          238.45132121851438,
          240.28465150949233,
          242.11308491037374,
          243.92204132624133,
          245.7143686657906,
          247.4872713806354,
          249.2414426564283,
          250.97717148930317,
          252.70113700134004,
          254.40169223275933,
          256.07597629122574,
          257.7241840521335,
          259.35381816075966,
          260.9681341724691,
          262.54714662396304,
          264.09832034775667,
          265.62965117548515,
          267.13077119051286,
          268.6113497754509,
          270.0628838950058,
          271.48339037821603,
          272.8789780881026,
          274.24869055616176,
          275.5936000195139,
          276.9068552305366,
          278.1749291455693,
          279.42223532942546,
          280.6439900715119,
          281.81934702264925,
          282.9687359208138,
          284.08357790041543,
          285.16619760178475,
          286.21655710617785,
          287.23282296561536,
          288.2112473961312,
          289.1503737487295,
          290.0575046338534,
          290.9190725656393,
          291.7625390139623,
          292.56218618823465,
          293.32337159165553,
          294.05039047488214,
          294.7430915211562,
          295.3941400239461,
          296.0122411640606,
          296.5899084765101,
          297.1282914278476,
          297.62436219587454,
          298.09371213929137,
          298.52275420415265,
          298.9010928359747,
          299.24130243530755,
          299.5432277590515
         ]
        },
        {
         "line": {
          "color": "firebrick",
          "dash": "dash",
          "width": 1
         },
         "name": "$-\\sigma$",
         "type": "scatter",
         "x": [
          0,
          0.2,
          0.4,
          0.6000000000000001,
          0.8,
          1,
          1.2000000000000002,
          1.4000000000000001,
          1.6,
          1.8,
          2,
          2.2,
          2.4000000000000004,
          2.6,
          2.8000000000000003,
          3,
          3.2,
          3.4000000000000004,
          3.6,
          3.8000000000000003,
          4,
          4.2,
          4.4,
          4.6000000000000005,
          4.800000000000001,
          5,
          5.2,
          5.4,
          5.6000000000000005,
          5.800000000000001,
          6,
          6.2,
          6.4,
          6.6000000000000005,
          6.800000000000001,
          7,
          7.2,
          7.4,
          7.6000000000000005,
          7.800000000000001,
          8,
          8.200000000000001,
          8.4,
          8.6,
          8.8,
          9,
          9.200000000000001,
          9.4,
          9.600000000000001,
          9.8,
          10,
          10.200000000000001,
          10.4,
          10.600000000000001,
          10.8,
          11,
          11.200000000000001,
          11.4,
          11.600000000000001,
          11.8,
          12,
          12.200000000000001,
          12.4,
          12.600000000000001,
          12.8,
          13,
          13.200000000000001,
          13.4,
          13.600000000000001,
          13.8,
          14,
          14.200000000000001,
          14.4,
          14.600000000000001,
          14.8,
          15,
          15.200000000000001,
          15.4,
          15.600000000000001,
          15.8,
          16,
          16.2,
          16.400000000000002,
          16.6,
          16.8,
          17,
          17.2,
          17.400000000000002,
          17.6,
          17.8,
          18,
          18.2,
          18.400000000000002,
          18.6,
          18.8,
          19,
          19.200000000000003,
          19.400000000000002,
          19.6,
          19.8,
          20,
          20.200000000000003,
          20.400000000000002,
          20.6,
          20.8,
          21,
          21.200000000000003,
          21.400000000000002,
          21.6,
          21.8,
          22,
          22.200000000000003,
          22.400000000000002,
          22.6,
          22.8,
          23,
          23.200000000000003,
          23.400000000000002,
          23.6,
          23.8,
          24,
          24.200000000000003,
          24.400000000000002,
          24.6,
          24.8,
          25,
          25.200000000000003,
          25.400000000000002,
          25.6,
          25.8,
          26,
          26.200000000000003,
          26.400000000000002,
          26.6,
          26.8,
          27,
          27.200000000000003,
          27.400000000000002,
          27.6,
          27.8,
          28,
          28.200000000000003,
          28.400000000000002,
          28.6,
          28.8,
          29,
          29.200000000000003,
          29.400000000000002,
          29.6,
          29.8,
          30
         ],
         "y": [
          100.66371083766893,
          100.64254888773013,
          100.64183518856953,
          100.70456184118504,
          100.81490616908445,
          100.98152854710231,
          101.18070775085462,
          101.44240635662443,
          101.75284772028319,
          102.09632317377527,
          102.47742345284348,
          102.90130927547753,
          103.33636362069642,
          103.83578744437882,
          104.37822731397746,
          104.93724685762477,
          105.54295806626547,
          106.19892939083299,
          106.88250349247737,
          107.61043713945594,
          108.3846252433917,
          109.17982650808071,
          110.01638188923282,
          110.88269261531231,
          111.79587295469788,
          112.73036261696821,
          113.71073824991606,
          114.7274359131829,
          115.76779978624826,
          116.8381486372419,
          117.95511728117496,
          119.09491798559708,
          120.27361562897936,
          121.4845628575704,
          122.72815597110733,
          124.00920899208741,
          125.3246669444649,
          126.65194783743418,
          128.01223773138366,
          129.4094285402463,
          130.83517666395983,
          132.27698200034465,
          133.7499931392744,
          135.25032800066336,
          136.7745550496099,
          138.3274031910078,
          139.89846706983246,
          141.5091634841515,
          143.13499686388562,
          144.7878468632326,
          146.46011084458962,
          148.15812142334758,
          149.873255431445,
          151.61478808575527,
          153.37170802334452,
          155.14202118230025,
          156.93425592937933,
          158.74193549037048,
          160.5630678696697,
          162.40474546186894,
          164.2694855531018,
          166.1439790212599,
          168.02481771334683,
          169.92204633618678,
          171.8268311792645,
          173.74819632064464,
          175.6777981140155,
          177.62612967049625,
          179.5770917722856,
          181.5395838625343,
          183.5022413879038,
          185.47476113826417,
          187.4604594766754,
          189.44552936137183,
          191.43442602930003,
          193.4282111792354,
          195.42482737317593,
          197.42214826841183,
          199.4190756830698,
          201.4144868210059,
          203.41464327624172,
          205.41411337146607,
          207.40759145161695,
          209.40736182445318,
          211.39540828569736,
          213.37198549674375,
          215.34841576006087,
          217.3231317425294,
          219.2925502635633,
          221.24313819121767,
          223.19868286542118,
          225.14742202709004,
          227.07866180958953,
          229.0005553345383,
          230.9163063698541,
          232.81030210102548,
          234.69702015951302,
          236.5668322961403,
          238.42524137057407,
          240.25858921090042,
          242.0870397417209,
          243.89601288279047,
          245.68835655681463,
          247.46127522879075,
          249.2154620971621,
          250.951206170292,
          252.67518658195843,
          254.37575638357583,
          256.05005469352534,
          257.69827639746484,
          259.32792415050466,
          260.9422535174355,
          262.5212790439965,
          264.07246557137256,
          265.60380893951856,
          267.1049412397856,
          268.585531862455,
          270.0370777796021,
          271.4575958273471,
          272.8531948755194,
          274.22291846216314,
          275.56783883069846,
          276.8811047395658,
          278.1491891509412,
          279.3965056352596,
          280.618270487343,
          281.7936373632309,
          282.9430360059303,
          284.05788755470246,
          285.1405166545573,
          286.19088539126636,
          287.2071603212081,
          288.1855936646244,
          289.1247287765824,
          290.0318682714512,
          290.8934446671603,
          291.7369194372516,
          292.53657479468205,
          293.29776824607956,
          294.02479504541776,
          294.7175038791479,
          295.36856004384435,
          295.9866687233234,
          296.56434345550736,
          297.10273370977023,
          297.59881166664644,
          298.0681686874849,
          298.49721772090766,
          298.8755632149201,
          299.21577957248627,
          299.5177115528481
         ]
        }
       ],
       "layout": {
        "template": {
         "data": {
          "bar": [
           {
            "error_x": {
             "color": "#2a3f5f"
            },
            "error_y": {
             "color": "#2a3f5f"
            },
            "marker": {
             "line": {
              "color": "#E5ECF6",
              "width": 0.5
             }
            },
            "type": "bar"
           }
          ],
          "barpolar": [
           {
            "marker": {
             "line": {
              "color": "#E5ECF6",
              "width": 0.5
             }
            },
            "type": "barpolar"
           }
          ],
          "carpet": [
           {
            "aaxis": {
             "endlinecolor": "#2a3f5f",
             "gridcolor": "white",
             "linecolor": "white",
             "minorgridcolor": "white",
             "startlinecolor": "#2a3f5f"
            },
            "baxis": {
             "endlinecolor": "#2a3f5f",
             "gridcolor": "white",
             "linecolor": "white",
             "minorgridcolor": "white",
             "startlinecolor": "#2a3f5f"
            },
            "type": "carpet"
           }
          ],
          "choropleth": [
           {
            "colorbar": {
             "outlinewidth": 0,
             "ticks": ""
            },
            "type": "choropleth"
           }
          ],
          "contour": [
           {
            "colorbar": {
             "outlinewidth": 0,
             "ticks": ""
            },
            "colorscale": [
             [
              0,
              "#0d0887"
             ],
             [
              0.1111111111111111,
              "#46039f"
             ],
             [
              0.2222222222222222,
              "#7201a8"
             ],
             [
              0.3333333333333333,
              "#9c179e"
             ],
             [
              0.4444444444444444,
              "#bd3786"
             ],
             [
              0.5555555555555556,
              "#d8576b"
             ],
             [
              0.6666666666666666,
              "#ed7953"
             ],
             [
              0.7777777777777778,
              "#fb9f3a"
             ],
             [
              0.8888888888888888,
              "#fdca26"
             ],
             [
              1,
              "#f0f921"
             ]
            ],
            "type": "contour"
           }
          ],
          "contourcarpet": [
           {
            "colorbar": {
             "outlinewidth": 0,
             "ticks": ""
            },
            "type": "contourcarpet"
           }
          ],
          "heatmap": [
           {
            "colorbar": {
             "outlinewidth": 0,
             "ticks": ""
            },
            "colorscale": [
             [
              0,
              "#0d0887"
             ],
             [
              0.1111111111111111,
              "#46039f"
             ],
             [
              0.2222222222222222,
              "#7201a8"
             ],
             [
              0.3333333333333333,
              "#9c179e"
             ],
             [
              0.4444444444444444,
              "#bd3786"
             ],
             [
              0.5555555555555556,
              "#d8576b"
             ],
             [
              0.6666666666666666,
              "#ed7953"
             ],
             [
              0.7777777777777778,
              "#fb9f3a"
             ],
             [
              0.8888888888888888,
              "#fdca26"
             ],
             [
              1,
              "#f0f921"
             ]
            ],
            "type": "heatmap"
           }
          ],
          "heatmapgl": [
           {
            "colorbar": {
             "outlinewidth": 0,
             "ticks": ""
            },
            "colorscale": [
             [
              0,
              "#0d0887"
             ],
             [
              0.1111111111111111,
              "#46039f"
             ],
             [
              0.2222222222222222,
              "#7201a8"
             ],
             [
              0.3333333333333333,
              "#9c179e"
             ],
             [
              0.4444444444444444,
              "#bd3786"
             ],
             [
              0.5555555555555556,
              "#d8576b"
             ],
             [
              0.6666666666666666,
              "#ed7953"
             ],
             [
              0.7777777777777778,
              "#fb9f3a"
             ],
             [
              0.8888888888888888,
              "#fdca26"
             ],
             [
              1,
              "#f0f921"
             ]
            ],
            "type": "heatmapgl"
           }
          ],
          "histogram": [
           {
            "marker": {
             "colorbar": {
              "outlinewidth": 0,
              "ticks": ""
             }
            },
            "type": "histogram"
           }
          ],
          "histogram2d": [
           {
            "colorbar": {
             "outlinewidth": 0,
             "ticks": ""
            },
            "colorscale": [
             [
              0,
              "#0d0887"
             ],
             [
              0.1111111111111111,
              "#46039f"
             ],
             [
              0.2222222222222222,
              "#7201a8"
             ],
             [
              0.3333333333333333,
              "#9c179e"
             ],
             [
              0.4444444444444444,
              "#bd3786"
             ],
             [
              0.5555555555555556,
              "#d8576b"
             ],
             [
              0.6666666666666666,
              "#ed7953"
             ],
             [
              0.7777777777777778,
              "#fb9f3a"
             ],
             [
              0.8888888888888888,
              "#fdca26"
             ],
             [
              1,
              "#f0f921"
             ]
            ],
            "type": "histogram2d"
           }
          ],
          "histogram2dcontour": [
           {
            "colorbar": {
             "outlinewidth": 0,
             "ticks": ""
            },
            "colorscale": [
             [
              0,
              "#0d0887"
             ],
             [
              0.1111111111111111,
              "#46039f"
             ],
             [
              0.2222222222222222,
              "#7201a8"
             ],
             [
              0.3333333333333333,
              "#9c179e"
             ],
             [
              0.4444444444444444,
              "#bd3786"
             ],
             [
              0.5555555555555556,
              "#d8576b"
             ],
             [
              0.6666666666666666,
              "#ed7953"
             ],
             [
              0.7777777777777778,
              "#fb9f3a"
             ],
             [
              0.8888888888888888,
              "#fdca26"
             ],
             [
              1,
              "#f0f921"
             ]
            ],
            "type": "histogram2dcontour"
           }
          ],
          "mesh3d": [
           {
            "colorbar": {
             "outlinewidth": 0,
             "ticks": ""
            },
            "type": "mesh3d"
           }
          ],
          "parcoords": [
           {
            "line": {
             "colorbar": {
              "outlinewidth": 0,
              "ticks": ""
             }
            },
            "type": "parcoords"
           }
          ],
          "pie": [
           {
            "automargin": true,
            "type": "pie"
           }
          ],
          "scatter": [
           {
            "marker": {
             "colorbar": {
              "outlinewidth": 0,
              "ticks": ""
             }
            },
            "type": "scatter"
           }
          ],
          "scatter3d": [
           {
            "line": {
             "colorbar": {
              "outlinewidth": 0,
              "ticks": ""
             }
            },
            "marker": {
             "colorbar": {
              "outlinewidth": 0,
              "ticks": ""
             }
            },
            "type": "scatter3d"
           }
          ],
          "scattercarpet": [
           {
            "marker": {
             "colorbar": {
              "outlinewidth": 0,
              "ticks": ""
             }
            },
            "type": "scattercarpet"
           }
          ],
          "scattergeo": [
           {
            "marker": {
             "colorbar": {
              "outlinewidth": 0,
              "ticks": ""
             }
            },
            "type": "scattergeo"
           }
          ],
          "scattergl": [
           {
            "marker": {
             "colorbar": {
              "outlinewidth": 0,
              "ticks": ""
             }
            },
            "type": "scattergl"
           }
          ],
          "scattermapbox": [
           {
            "marker": {
             "colorbar": {
              "outlinewidth": 0,
              "ticks": ""
             }
            },
            "type": "scattermapbox"
           }
          ],
          "scatterpolar": [
           {
            "marker": {
             "colorbar": {
              "outlinewidth": 0,
              "ticks": ""
             }
            },
            "type": "scatterpolar"
           }
          ],
          "scatterpolargl": [
           {
            "marker": {
             "colorbar": {
              "outlinewidth": 0,
              "ticks": ""
             }
            },
            "type": "scatterpolargl"
           }
          ],
          "scatterternary": [
           {
            "marker": {
             "colorbar": {
              "outlinewidth": 0,
              "ticks": ""
             }
            },
            "type": "scatterternary"
           }
          ],
          "surface": [
           {
            "colorbar": {
             "outlinewidth": 0,
             "ticks": ""
            },
            "colorscale": [
             [
              0,
              "#0d0887"
             ],
             [
              0.1111111111111111,
              "#46039f"
             ],
             [
              0.2222222222222222,
              "#7201a8"
             ],
             [
              0.3333333333333333,
              "#9c179e"
             ],
             [
              0.4444444444444444,
              "#bd3786"
             ],
             [
              0.5555555555555556,
              "#d8576b"
             ],
             [
              0.6666666666666666,
              "#ed7953"
             ],
             [
              0.7777777777777778,
              "#fb9f3a"
             ],
             [
              0.8888888888888888,
              "#fdca26"
             ],
             [
              1,
              "#f0f921"
             ]
            ],
            "type": "surface"
           }
          ],
          "table": [
           {
            "cells": {
             "fill": {
              "color": "#EBF0F8"
             },
             "line": {
              "color": "white"
             }
            },
            "header": {
             "fill": {
              "color": "#C8D4E3"
             },
             "line": {
              "color": "white"
             }
            },
            "type": "table"
           }
          ]
         },
         "layout": {
          "annotationdefaults": {
           "arrowcolor": "#2a3f5f",
           "arrowhead": 0,
           "arrowwidth": 1
          },
          "coloraxis": {
           "colorbar": {
            "outlinewidth": 0,
            "ticks": ""
           }
          },
          "colorscale": {
           "diverging": [
            [
             0,
             "#8e0152"
            ],
            [
             0.1,
             "#c51b7d"
            ],
            [
             0.2,
             "#de77ae"
            ],
            [
             0.3,
             "#f1b6da"
            ],
            [
             0.4,
             "#fde0ef"
            ],
            [
             0.5,
             "#f7f7f7"
            ],
            [
             0.6,
             "#e6f5d0"
            ],
            [
             0.7,
             "#b8e186"
            ],
            [
             0.8,
             "#7fbc41"
            ],
            [
             0.9,
             "#4d9221"
            ],
            [
             1,
             "#276419"
            ]
           ],
           "sequential": [
            [
             0,
             "#0d0887"
            ],
            [
             0.1111111111111111,
             "#46039f"
            ],
            [
             0.2222222222222222,
             "#7201a8"
            ],
            [
             0.3333333333333333,
             "#9c179e"
            ],
            [
             0.4444444444444444,
             "#bd3786"
            ],
            [
             0.5555555555555556,
             "#d8576b"
            ],
            [
             0.6666666666666666,
             "#ed7953"
            ],
            [
             0.7777777777777778,
             "#fb9f3a"
            ],
            [
             0.8888888888888888,
             "#fdca26"
            ],
            [
             1,
             "#f0f921"
            ]
           ],
           "sequentialminus": [
            [
             0,
             "#0d0887"
            ],
            [
             0.1111111111111111,
             "#46039f"
            ],
            [
             0.2222222222222222,
             "#7201a8"
            ],
            [
             0.3333333333333333,
             "#9c179e"
            ],
            [
             0.4444444444444444,
             "#bd3786"
            ],
            [
             0.5555555555555556,
             "#d8576b"
            ],
            [
             0.6666666666666666,
             "#ed7953"
            ],
            [
             0.7777777777777778,
             "#fb9f3a"
            ],
            [
             0.8888888888888888,
             "#fdca26"
            ],
            [
             1,
             "#f0f921"
            ]
           ]
          },
          "colorway": [
           "#636efa",
           "#EF553B",
           "#00cc96",
           "#ab63fa",
           "#FFA15A",
           "#19d3f3",
           "#FF6692",
           "#B6E880",
           "#FF97FF",
           "#FECB52"
          ],
          "font": {
           "color": "#2a3f5f"
          },
          "geo": {
           "bgcolor": "white",
           "lakecolor": "white",
           "landcolor": "#E5ECF6",
           "showlakes": true,
           "showland": true,
           "subunitcolor": "white"
          },
          "hoverlabel": {
           "align": "left"
          },
          "hovermode": "closest",
          "mapbox": {
           "style": "light"
          },
          "paper_bgcolor": "white",
          "plot_bgcolor": "#E5ECF6",
          "polar": {
           "angularaxis": {
            "gridcolor": "white",
            "linecolor": "white",
            "ticks": ""
           },
           "bgcolor": "#E5ECF6",
           "radialaxis": {
            "gridcolor": "white",
            "linecolor": "white",
            "ticks": ""
           }
          },
          "scene": {
           "xaxis": {
            "backgroundcolor": "#E5ECF6",
            "gridcolor": "white",
            "gridwidth": 2,
            "linecolor": "white",
            "showbackground": true,
            "ticks": "",
            "zerolinecolor": "white"
           },
           "yaxis": {
            "backgroundcolor": "#E5ECF6",
            "gridcolor": "white",
            "gridwidth": 2,
            "linecolor": "white",
            "showbackground": true,
            "ticks": "",
            "zerolinecolor": "white"
           },
           "zaxis": {
            "backgroundcolor": "#E5ECF6",
            "gridcolor": "white",
            "gridwidth": 2,
            "linecolor": "white",
            "showbackground": true,
            "ticks": "",
            "zerolinecolor": "white"
           }
          },
          "shapedefaults": {
           "line": {
            "color": "#2a3f5f"
           }
          },
          "ternary": {
           "aaxis": {
            "gridcolor": "white",
            "linecolor": "white",
            "ticks": ""
           },
           "baxis": {
            "gridcolor": "white",
            "linecolor": "white",
            "ticks": ""
           },
           "bgcolor": "#E5ECF6",
           "caxis": {
            "gridcolor": "white",
            "linecolor": "white",
            "ticks": ""
           }
          },
          "title": {
           "x": 0.05
          },
          "xaxis": {
           "automargin": true,
           "gridcolor": "white",
           "linecolor": "white",
           "ticks": "",
           "title": {
            "standoff": 15
           },
           "zerolinecolor": "white",
           "zerolinewidth": 2
          },
          "yaxis": {
           "automargin": true,
           "gridcolor": "white",
           "linecolor": "white",
           "ticks": "",
           "title": {
            "standoff": 15
           },
           "zerolinecolor": "white",
           "zerolinewidth": 2
          }
         }
        },
        "title": {
         "text": "$\\text{True Velocity vs. Estimated Velocity}$",
         "x": 0.48,
         "xanchor": "center",
         "y": 0.9,
         "yanchor": "top"
        },
        "xaxis": {
         "title": {
          "text": "$\\text{Time (} s \\text{)}$"
         }
        },
        "yaxis": {
         "title": {
          "text": "$\\text{Velocity Error (} m/s \\text{)}$"
         }
        }
       }
      },
      "text/html": [
       "<div>\n",
       "        \n",
       "        \n",
       "            <div id=\"d8cabc45-f55d-476e-a3cb-60a8dbd66bf4\" class=\"plotly-graph-div\" style=\"height:525px; width:100%;\"></div>\n",
       "            <script type=\"text/javascript\">\n",
       "                require([\"plotly\"], function(Plotly) {\n",
       "                    window.PLOTLYENV=window.PLOTLYENV || {};\n",
       "                    \n",
       "                if (document.getElementById(\"d8cabc45-f55d-476e-a3cb-60a8dbd66bf4\")) {\n",
       "                    Plotly.newPlot(\n",
       "                        'd8cabc45-f55d-476e-a3cb-60a8dbd66bf4',\n",
       "                        [{\"line\": {\"width\": 4}, \"name\": \"Estimated Velocity\", \"type\": \"scatter\", \"x\": [0.0, 0.2, 0.4, 0.6000000000000001, 0.8, 1.0, 1.2000000000000002, 1.4000000000000001, 1.6, 1.8, 2.0, 2.2, 2.4000000000000004, 2.6, 2.8000000000000003, 3.0, 3.2, 3.4000000000000004, 3.6, 3.8000000000000003, 4.0, 4.2, 4.4, 4.6000000000000005, 4.800000000000001, 5.0, 5.2, 5.4, 5.6000000000000005, 5.800000000000001, 6.0, 6.2, 6.4, 6.6000000000000005, 6.800000000000001, 7.0, 7.2, 7.4, 7.6000000000000005, 7.800000000000001, 8.0, 8.200000000000001, 8.4, 8.6, 8.8, 9.0, 9.200000000000001, 9.4, 9.600000000000001, 9.8, 10.0, 10.200000000000001, 10.4, 10.600000000000001, 10.8, 11.0, 11.200000000000001, 11.4, 11.600000000000001, 11.8, 12.0, 12.200000000000001, 12.4, 12.600000000000001, 12.8, 13.0, 13.200000000000001, 13.4, 13.600000000000001, 13.8, 14.0, 14.200000000000001, 14.4, 14.600000000000001, 14.8, 15.0, 15.200000000000001, 15.4, 15.600000000000001, 15.8, 16.0, 16.2, 16.400000000000002, 16.6, 16.8, 17.0, 17.2, 17.400000000000002, 17.6, 17.8, 18.0, 18.2, 18.400000000000002, 18.6, 18.8, 19.0, 19.200000000000003, 19.400000000000002, 19.6, 19.8, 20.0, 20.200000000000003, 20.400000000000002, 20.6, 20.8, 21.0, 21.200000000000003, 21.400000000000002, 21.6, 21.8, 22.0, 22.200000000000003, 22.400000000000002, 22.6, 22.8, 23.0, 23.200000000000003, 23.400000000000002, 23.6, 23.8, 24.0, 24.200000000000003, 24.400000000000002, 24.6, 24.8, 25.0, 25.200000000000003, 25.400000000000002, 25.6, 25.8, 26.0, 26.200000000000003, 26.400000000000002, 26.6, 26.8, 27.0, 27.200000000000003, 27.400000000000002, 27.6, 27.8, 28.0, 28.200000000000003, 28.400000000000002, 28.6, 28.8, 29.0, 29.200000000000003, 29.400000000000002, 29.6, 29.8, 30.0], \"y\": [100.7036788760178, 100.6724072498046, 100.67019581280715, 100.73292348558228, 100.84286825070897, 101.00868603121198, 101.20689501539736, 101.46760528121922, 101.7771067189097, 102.11971490709084, 102.50002553294739, 102.92319613399059, 103.35760348659453, 103.85644159138099, 104.39835027356554, 104.95688700311142, 105.56215830013149, 106.21772781894842, 106.90093403908948, 107.6285300891137, 108.40240771031105, 109.19732283928685, 110.0336140096653, 110.89968032312646, 111.81263417429349, 112.74691361632487, 113.72709382784478, 114.74360956121342, 115.7838038290949, 116.85399435513133, 117.9708150167679, 119.11047723777897, 120.28904513541814, 121.49987066762874, 122.74334951044113, 124.02429512005152, 125.33965200527273, 126.66683770587406, 128.02703785377486, 129.42414397121797, 130.84981209955325, 132.2915418078687, 133.76448138428603, 135.26474847139497, 136.78891127912368, 138.34169847732122, 139.9127044942285, 141.52334592786156, 143.1491270233103, 144.80192726384598, 146.4741438536565, 148.17210926156815, 149.88720018362903, 151.62869171061678, 153.38557236249807, 155.15584796853184, 156.9480467942573, 158.75569197125478, 160.5767914161727, 162.4184374418155, 164.28314725803148, 166.15761167151032, 168.0384224627536, 169.93562427643195, 171.84038334390246, 173.76172368883212, 175.69130161396964, 177.6396101827025, 179.5905501324756, 181.55302086445192, 183.515657785876, 185.4881576495918, 187.47383678385813, 189.45888811417967, 191.4477668467033, 193.44153465120377, 195.4381340623566, 197.43543871169547, 199.432350393053, 201.4277462873575, 203.4278879669799, 205.42734373415317, 207.42080791447734, 209.4205647974202, 211.4085981613941, 213.3851626514023, 215.3615805543846, 217.33628452250193, 219.30569136120812, 221.25626792531168, 223.2118015421652, 225.16052994073937, 227.09175924304714, 229.01364255991322, 230.92938364898728, 232.8233696859851, 234.71007829306177, 236.5798812121757, 238.43828129454423, 240.27162036019638, 242.10006232604732, 243.9090271045159, 245.7013626113026, 247.47427330471308, 249.2284523767952, 250.9641888297976, 252.68816179164924, 254.38872430816758, 256.06301549237554, 257.7112302247992, 259.34087115563216, 260.9551938449523, 262.5342128339798, 264.0853929595646, 265.61673005750185, 267.11785621514923, 268.59844081895295, 270.04998083730396, 271.4704931027816, 272.866086481811, 274.23580450916245, 275.58071942510617, 276.8939799850512, 278.16205914825525, 279.4093704823425, 280.63113027942745, 281.8064921929401, 282.95588596337205, 284.07073272755895, 285.153357128171, 286.2037212487221, 287.21999164341173, 288.1984205303778, 289.13755126265596, 290.0446864526523, 290.9062586163998, 291.7497292256069, 292.54938049145835, 293.31056991886754, 294.03759276014995, 294.73029770015205, 295.3813500338952, 295.999454943692, 296.57712596600874, 297.1155125688089, 297.6115869312605, 298.08094041338813, 298.50998596253015, 298.8883280254474, 299.2285410038969, 299.5304696559498]}, {\"name\": \"True Velocity\", \"type\": \"scatter\", \"x\": [0.0, 0.2, 0.4, 0.6000000000000001, 0.8, 1.0, 1.2000000000000002, 1.4000000000000001, 1.6, 1.8, 2.0, 2.2, 2.4000000000000004, 2.6, 2.8000000000000003, 3.0, 3.2, 3.4000000000000004, 3.6, 3.8000000000000003, 4.0, 4.2, 4.4, 4.6000000000000005, 4.800000000000001, 5.0, 5.2, 5.4, 5.6000000000000005, 5.800000000000001, 6.0, 6.2, 6.4, 6.6000000000000005, 6.800000000000001, 7.0, 7.2, 7.4, 7.6000000000000005, 7.800000000000001, 8.0, 8.200000000000001, 8.4, 8.6, 8.8, 9.0, 9.200000000000001, 9.4, 9.600000000000001, 9.8, 10.0, 10.200000000000001, 10.4, 10.600000000000001, 10.8, 11.0, 11.200000000000001, 11.4, 11.600000000000001, 11.8, 12.0, 12.200000000000001, 12.4, 12.600000000000001, 12.8, 13.0, 13.200000000000001, 13.4, 13.600000000000001, 13.8, 14.0, 14.200000000000001, 14.4, 14.600000000000001, 14.8, 15.0, 15.200000000000001, 15.4, 15.600000000000001, 15.8, 16.0, 16.2, 16.400000000000002, 16.6, 16.8, 17.0, 17.2, 17.400000000000002, 17.6, 17.8, 18.0, 18.2, 18.400000000000002, 18.6, 18.8, 19.0, 19.200000000000003, 19.400000000000002, 19.6, 19.8, 20.0, 20.200000000000003, 20.400000000000002, 20.6, 20.8, 21.0, 21.200000000000003, 21.400000000000002, 21.6, 21.8, 22.0, 22.200000000000003, 22.400000000000002, 22.6, 22.8, 23.0, 23.200000000000003, 23.400000000000002, 23.6, 23.8, 24.0, 24.200000000000003, 24.400000000000002, 24.6, 24.8, 25.0, 25.200000000000003, 25.400000000000002, 25.6, 25.8, 26.0, 26.200000000000003, 26.400000000000002, 26.6, 26.8, 27.0, 27.200000000000003, 27.400000000000002, 27.6, 27.8, 28.0, 28.200000000000003, 28.400000000000002, 28.6, 28.8, 29.0, 29.200000000000003, 29.400000000000002, 29.6, 29.8, 30.0], \"y\": [100.52303329849963, 100.54253266475791, 100.6020228973808, 100.7014802010684, 100.84086479422544, 101.020120924873, 101.23917689294886, 101.49794507898653, 101.79632197916182, 102.1341882466929, 102.51140873957767, 102.92783257464849, 103.38329318792346, 103.87760840123012, 104.41058049507394, 104.9819962877235, 105.5916272204806, 106.23922944910038, 106.92454394132601, 107.64729658049797, 108.40719827519715, 109.20394507487762, 110.03721829144264, 110.9066846267157, 111.81199630575543, 112.7527912159609, 113.72869305191182, 114.73931146588559, 115.78424222399143, 116.86306736785825, 117.9753553818127, 119.12066136547952, 120.29852721173573, 121.50848178994751, 122.75004113441612, 124.02270863795763, 125.32597525053934, 126.65931968289287, 128.02220861502295, 129.41409690952833, 130.83442782964948, 132.28263326195597, 133.7581339435838, 135.2603396939335, 136.78864965073407, 138.34245251037993, 139.92112677244444, 141.5240409882714, 143.15055401354647, 144.80001526474592, 146.47176497936195, 148.1651344797984, 149.87944644083302, 151.61401516053857, 153.36814683455455, 155.14113983359925, 156.9322849841127, 158.74086585191634, 160.5661590287773, 162.40743442176154, 164.26395554526198, 166.13497981558254, 168.01975884796158, 169.9175387559164, 171.82756045278714, 173.74905995536164, 175.68126868945856, 177.62341379734661, 179.57471844687774, 181.53440214220907, 183.50168103599106, 185.47576824289658, 187.45587415436339, 189.4412067544281, 191.43097193652153, 193.42437382110055, 195.42061507398964, 197.41889722530385, 199.41842098882614, 201.4183865817111, 203.41799404438734, 205.41644356053084, 207.4129357769808, 209.40667212347017, 211.39685513204316, 213.38268875603185, 215.36337868846402, 217.33813267977555, 219.30616085469958, 221.2666760282062, 223.2188940203658, 225.1620339700108, 227.09531864706955, 229.01797476344797, 230.92923328233454, 232.8283297258049, 234.71450448060256, 236.58700310197432, 238.4450766154379, 240.28798181636188, 242.11498156723763, 243.92534509252454, 245.7183482709502, 247.49327392514994, 249.2494121085271, 250.98606038922333, 252.70252413108147, 254.3981167714905, 256.0721600960019, 257.7239845096061, 259.3529293045617, 260.9583429246697, 262.5395832258873, 264.0960177331771, 265.6270238934882, 267.1319893247695, 268.6103120609145, 270.0614007925398, 271.48467510349974, 272.87956570304715, 274.24551465354045, 275.5819755936116, 276.8884139567038, 278.16430718489124, 279.40914493789376, 280.622429297208, 281.80367496526713, 282.9524094595538, 284.0681733015865, 285.1505202007051, 286.1990172325808, 287.21324501238064, 288.1927978625156, 289.1372839749065, 290.046325567701, 290.91955903638257, 291.7566350992067, 292.5572189369089, 293.3209903266286, 294.04764376999344, 294.7368886153147, 295.38844917384375, 296.00206483004484, 296.5774901458367, 297.11449495876525, 297.61286447406536, 298.07239935057595, 298.4929157804732, 298.874245562792, 299.2162361707037, 299.5187508125251]}, {\"line\": {\"color\": \"green\", \"dash\": \"dash\", \"width\": 1}, \"name\": \"$+ \\\\sigma$\", \"type\": \"scatter\", \"x\": [0.0, 0.2, 0.4, 0.6000000000000001, 0.8, 1.0, 1.2000000000000002, 1.4000000000000001, 1.6, 1.8, 2.0, 2.2, 2.4000000000000004, 2.6, 2.8000000000000003, 3.0, 3.2, 3.4000000000000004, 3.6, 3.8000000000000003, 4.0, 4.2, 4.4, 4.6000000000000005, 4.800000000000001, 5.0, 5.2, 5.4, 5.6000000000000005, 5.800000000000001, 6.0, 6.2, 6.4, 6.6000000000000005, 6.800000000000001, 7.0, 7.2, 7.4, 7.6000000000000005, 7.800000000000001, 8.0, 8.200000000000001, 8.4, 8.6, 8.8, 9.0, 9.200000000000001, 9.4, 9.600000000000001, 9.8, 10.0, 10.200000000000001, 10.4, 10.600000000000001, 10.8, 11.0, 11.200000000000001, 11.4, 11.600000000000001, 11.8, 12.0, 12.200000000000001, 12.4, 12.600000000000001, 12.8, 13.0, 13.200000000000001, 13.4, 13.600000000000001, 13.8, 14.0, 14.200000000000001, 14.4, 14.600000000000001, 14.8, 15.0, 15.200000000000001, 15.4, 15.600000000000001, 15.8, 16.0, 16.2, 16.400000000000002, 16.6, 16.8, 17.0, 17.2, 17.400000000000002, 17.6, 17.8, 18.0, 18.2, 18.400000000000002, 18.6, 18.8, 19.0, 19.200000000000003, 19.400000000000002, 19.6, 19.8, 20.0, 20.200000000000003, 20.400000000000002, 20.6, 20.8, 21.0, 21.200000000000003, 21.400000000000002, 21.6, 21.8, 22.0, 22.200000000000003, 22.400000000000002, 22.6, 22.8, 23.0, 23.200000000000003, 23.400000000000002, 23.6, 23.8, 24.0, 24.200000000000003, 24.400000000000002, 24.6, 24.8, 25.0, 25.200000000000003, 25.400000000000002, 25.6, 25.8, 26.0, 26.200000000000003, 26.400000000000002, 26.6, 26.8, 27.0, 27.200000000000003, 27.400000000000002, 27.6, 27.8, 28.0, 28.200000000000003, 28.400000000000002, 28.6, 28.8, 29.0, 29.200000000000003, 29.400000000000002, 29.6, 29.8, 30.0], \"y\": [100.74364691436668, 100.70226561187908, 100.69855643704477, 100.76128512997951, 100.8708303323335, 101.03584351532164, 101.2330822799401, 101.49280420581401, 101.80136571753623, 102.1431066404064, 102.5226276130513, 102.94508299250364, 103.37884335249264, 103.87709573838315, 104.41847323315362, 104.97652714859807, 105.5813585339975, 106.23652624706385, 106.91936458570159, 107.64662303877145, 108.42019017723041, 109.214819170493, 110.05084613009778, 110.91666803094061, 111.8293953938891, 112.76346461568154, 113.7434494057735, 114.75978320924393, 115.79980787194152, 116.86984007302077, 117.98651275236084, 119.12603648996085, 120.30447464185691, 121.51517847768709, 122.75854304977494, 124.03938124801563, 125.35463706608056, 126.68172757431394, 128.04183797616605, 129.43885940218965, 130.86444753514667, 132.30610161539275, 133.77896962929765, 135.27916894212657, 136.80326750863748, 138.35599376363464, 139.92694191862455, 141.53752837157163, 143.163257182735, 144.81600766445936, 146.48817686272338, 148.18609709978873, 149.90114493581308, 151.6425953354783, 153.3994367016516, 155.16967475476343, 156.96183765913526, 158.76944845213907, 160.5905149626757, 162.43212942176208, 164.29680896296117, 166.17124432176075, 168.05202721216037, 169.94920221667712, 171.85393550854042, 173.7752510570196, 175.70480511392378, 177.65309069490877, 179.60400849266563, 181.56645786636955, 183.52907418384817, 185.50155416091945, 187.48721409104087, 189.47224686698752, 191.46110766410658, 193.45485812317213, 195.45144075153726, 197.4487291549791, 199.44562510303624, 201.4410057537091, 203.4411326577181, 205.44057409684027, 207.43402437733772, 209.43376777038725, 211.42178803709086, 213.39833980606087, 215.37474534870833, 217.34943730247446, 219.31883245885294, 221.26939765940568, 223.22492021890923, 225.1736378543887, 227.10485667650474, 229.02672978528815, 230.94246092812045, 232.83643727094474, 234.72313642661052, 236.59293012821112, 238.45132121851438, 240.28465150949233, 242.11308491037374, 243.92204132624133, 245.7143686657906, 247.4872713806354, 249.2414426564283, 250.97717148930317, 252.70113700134004, 254.40169223275933, 256.07597629122574, 257.7241840521335, 259.35381816075966, 260.9681341724691, 262.54714662396304, 264.09832034775667, 265.62965117548515, 267.13077119051286, 268.6113497754509, 270.0628838950058, 271.48339037821603, 272.8789780881026, 274.24869055616176, 275.5936000195139, 276.9068552305366, 278.1749291455693, 279.42223532942546, 280.6439900715119, 281.81934702264925, 282.9687359208138, 284.08357790041543, 285.16619760178475, 286.21655710617785, 287.23282296561536, 288.2112473961312, 289.1503737487295, 290.0575046338534, 290.9190725656393, 291.7625390139623, 292.56218618823465, 293.32337159165553, 294.05039047488214, 294.7430915211562, 295.3941400239461, 296.0122411640606, 296.5899084765101, 297.1282914278476, 297.62436219587454, 298.09371213929137, 298.52275420415265, 298.9010928359747, 299.24130243530755, 299.5432277590515]}, {\"line\": {\"color\": \"firebrick\", \"dash\": \"dash\", \"width\": 1}, \"name\": \"$-\\\\sigma$\", \"type\": \"scatter\", \"x\": [0.0, 0.2, 0.4, 0.6000000000000001, 0.8, 1.0, 1.2000000000000002, 1.4000000000000001, 1.6, 1.8, 2.0, 2.2, 2.4000000000000004, 2.6, 2.8000000000000003, 3.0, 3.2, 3.4000000000000004, 3.6, 3.8000000000000003, 4.0, 4.2, 4.4, 4.6000000000000005, 4.800000000000001, 5.0, 5.2, 5.4, 5.6000000000000005, 5.800000000000001, 6.0, 6.2, 6.4, 6.6000000000000005, 6.800000000000001, 7.0, 7.2, 7.4, 7.6000000000000005, 7.800000000000001, 8.0, 8.200000000000001, 8.4, 8.6, 8.8, 9.0, 9.200000000000001, 9.4, 9.600000000000001, 9.8, 10.0, 10.200000000000001, 10.4, 10.600000000000001, 10.8, 11.0, 11.200000000000001, 11.4, 11.600000000000001, 11.8, 12.0, 12.200000000000001, 12.4, 12.600000000000001, 12.8, 13.0, 13.200000000000001, 13.4, 13.600000000000001, 13.8, 14.0, 14.200000000000001, 14.4, 14.600000000000001, 14.8, 15.0, 15.200000000000001, 15.4, 15.600000000000001, 15.8, 16.0, 16.2, 16.400000000000002, 16.6, 16.8, 17.0, 17.2, 17.400000000000002, 17.6, 17.8, 18.0, 18.2, 18.400000000000002, 18.6, 18.8, 19.0, 19.200000000000003, 19.400000000000002, 19.6, 19.8, 20.0, 20.200000000000003, 20.400000000000002, 20.6, 20.8, 21.0, 21.200000000000003, 21.400000000000002, 21.6, 21.8, 22.0, 22.200000000000003, 22.400000000000002, 22.6, 22.8, 23.0, 23.200000000000003, 23.400000000000002, 23.6, 23.8, 24.0, 24.200000000000003, 24.400000000000002, 24.6, 24.8, 25.0, 25.200000000000003, 25.400000000000002, 25.6, 25.8, 26.0, 26.200000000000003, 26.400000000000002, 26.6, 26.8, 27.0, 27.200000000000003, 27.400000000000002, 27.6, 27.8, 28.0, 28.200000000000003, 28.400000000000002, 28.6, 28.8, 29.0, 29.200000000000003, 29.400000000000002, 29.6, 29.8, 30.0], \"y\": [100.66371083766893, 100.64254888773013, 100.64183518856953, 100.70456184118504, 100.81490616908445, 100.98152854710231, 101.18070775085462, 101.44240635662443, 101.75284772028319, 102.09632317377527, 102.47742345284348, 102.90130927547753, 103.33636362069642, 103.83578744437882, 104.37822731397746, 104.93724685762477, 105.54295806626547, 106.19892939083299, 106.88250349247737, 107.61043713945594, 108.3846252433917, 109.17982650808071, 110.01638188923282, 110.88269261531231, 111.79587295469788, 112.73036261696821, 113.71073824991606, 114.7274359131829, 115.76779978624826, 116.8381486372419, 117.95511728117496, 119.09491798559708, 120.27361562897936, 121.4845628575704, 122.72815597110733, 124.00920899208741, 125.3246669444649, 126.65194783743418, 128.01223773138366, 129.4094285402463, 130.83517666395983, 132.27698200034465, 133.7499931392744, 135.25032800066336, 136.7745550496099, 138.3274031910078, 139.89846706983246, 141.5091634841515, 143.13499686388562, 144.7878468632326, 146.46011084458962, 148.15812142334758, 149.873255431445, 151.61478808575527, 153.37170802334452, 155.14202118230025, 156.93425592937933, 158.74193549037048, 160.5630678696697, 162.40474546186894, 164.2694855531018, 166.1439790212599, 168.02481771334683, 169.92204633618678, 171.8268311792645, 173.74819632064464, 175.6777981140155, 177.62612967049625, 179.5770917722856, 181.5395838625343, 183.5022413879038, 185.47476113826417, 187.4604594766754, 189.44552936137183, 191.43442602930003, 193.4282111792354, 195.42482737317593, 197.42214826841183, 199.4190756830698, 201.4144868210059, 203.41464327624172, 205.41411337146607, 207.40759145161695, 209.40736182445318, 211.39540828569736, 213.37198549674375, 215.34841576006087, 217.3231317425294, 219.2925502635633, 221.24313819121767, 223.19868286542118, 225.14742202709004, 227.07866180958953, 229.0005553345383, 230.9163063698541, 232.81030210102548, 234.69702015951302, 236.5668322961403, 238.42524137057407, 240.25858921090042, 242.0870397417209, 243.89601288279047, 245.68835655681463, 247.46127522879075, 249.2154620971621, 250.951206170292, 252.67518658195843, 254.37575638357583, 256.05005469352534, 257.69827639746484, 259.32792415050466, 260.9422535174355, 262.5212790439965, 264.07246557137256, 265.60380893951856, 267.1049412397856, 268.585531862455, 270.0370777796021, 271.4575958273471, 272.8531948755194, 274.22291846216314, 275.56783883069846, 276.8811047395658, 278.1491891509412, 279.3965056352596, 280.618270487343, 281.7936373632309, 282.9430360059303, 284.05788755470246, 285.1405166545573, 286.19088539126636, 287.2071603212081, 288.1855936646244, 289.1247287765824, 290.0318682714512, 290.8934446671603, 291.7369194372516, 292.53657479468205, 293.29776824607956, 294.02479504541776, 294.7175038791479, 295.36856004384435, 295.9866687233234, 296.56434345550736, 297.10273370977023, 297.59881166664644, 298.0681686874849, 298.49721772090766, 298.8755632149201, 299.21577957248627, 299.5177115528481]}],\n",
       "                        {\"template\": {\"data\": {\"bar\": [{\"error_x\": {\"color\": \"#2a3f5f\"}, \"error_y\": {\"color\": \"#2a3f5f\"}, \"marker\": {\"line\": {\"color\": \"#E5ECF6\", \"width\": 0.5}}, \"type\": \"bar\"}], \"barpolar\": [{\"marker\": {\"line\": {\"color\": \"#E5ECF6\", \"width\": 0.5}}, \"type\": \"barpolar\"}], \"carpet\": [{\"aaxis\": {\"endlinecolor\": \"#2a3f5f\", \"gridcolor\": \"white\", \"linecolor\": \"white\", \"minorgridcolor\": \"white\", \"startlinecolor\": \"#2a3f5f\"}, \"baxis\": {\"endlinecolor\": \"#2a3f5f\", \"gridcolor\": \"white\", \"linecolor\": \"white\", \"minorgridcolor\": \"white\", \"startlinecolor\": \"#2a3f5f\"}, \"type\": \"carpet\"}], \"choropleth\": [{\"colorbar\": {\"outlinewidth\": 0, \"ticks\": \"\"}, \"type\": \"choropleth\"}], \"contour\": [{\"colorbar\": {\"outlinewidth\": 0, \"ticks\": \"\"}, \"colorscale\": [[0.0, \"#0d0887\"], [0.1111111111111111, \"#46039f\"], [0.2222222222222222, \"#7201a8\"], [0.3333333333333333, \"#9c179e\"], [0.4444444444444444, \"#bd3786\"], [0.5555555555555556, \"#d8576b\"], [0.6666666666666666, \"#ed7953\"], [0.7777777777777778, \"#fb9f3a\"], [0.8888888888888888, \"#fdca26\"], [1.0, \"#f0f921\"]], \"type\": \"contour\"}], \"contourcarpet\": [{\"colorbar\": {\"outlinewidth\": 0, \"ticks\": \"\"}, \"type\": \"contourcarpet\"}], \"heatmap\": [{\"colorbar\": {\"outlinewidth\": 0, \"ticks\": \"\"}, \"colorscale\": [[0.0, \"#0d0887\"], [0.1111111111111111, \"#46039f\"], [0.2222222222222222, \"#7201a8\"], [0.3333333333333333, \"#9c179e\"], [0.4444444444444444, \"#bd3786\"], [0.5555555555555556, \"#d8576b\"], [0.6666666666666666, \"#ed7953\"], [0.7777777777777778, \"#fb9f3a\"], [0.8888888888888888, \"#fdca26\"], [1.0, \"#f0f921\"]], \"type\": \"heatmap\"}], \"heatmapgl\": [{\"colorbar\": {\"outlinewidth\": 0, \"ticks\": \"\"}, \"colorscale\": [[0.0, \"#0d0887\"], [0.1111111111111111, \"#46039f\"], [0.2222222222222222, \"#7201a8\"], [0.3333333333333333, \"#9c179e\"], [0.4444444444444444, \"#bd3786\"], [0.5555555555555556, \"#d8576b\"], [0.6666666666666666, \"#ed7953\"], [0.7777777777777778, \"#fb9f3a\"], [0.8888888888888888, \"#fdca26\"], [1.0, \"#f0f921\"]], \"type\": \"heatmapgl\"}], \"histogram\": [{\"marker\": {\"colorbar\": {\"outlinewidth\": 0, \"ticks\": \"\"}}, \"type\": \"histogram\"}], \"histogram2d\": [{\"colorbar\": {\"outlinewidth\": 0, \"ticks\": \"\"}, \"colorscale\": [[0.0, \"#0d0887\"], [0.1111111111111111, \"#46039f\"], [0.2222222222222222, \"#7201a8\"], [0.3333333333333333, \"#9c179e\"], [0.4444444444444444, \"#bd3786\"], [0.5555555555555556, \"#d8576b\"], [0.6666666666666666, \"#ed7953\"], [0.7777777777777778, \"#fb9f3a\"], [0.8888888888888888, \"#fdca26\"], [1.0, \"#f0f921\"]], \"type\": \"histogram2d\"}], \"histogram2dcontour\": [{\"colorbar\": {\"outlinewidth\": 0, \"ticks\": \"\"}, \"colorscale\": [[0.0, \"#0d0887\"], [0.1111111111111111, \"#46039f\"], [0.2222222222222222, \"#7201a8\"], [0.3333333333333333, \"#9c179e\"], [0.4444444444444444, \"#bd3786\"], [0.5555555555555556, \"#d8576b\"], [0.6666666666666666, \"#ed7953\"], [0.7777777777777778, \"#fb9f3a\"], [0.8888888888888888, \"#fdca26\"], [1.0, \"#f0f921\"]], \"type\": \"histogram2dcontour\"}], \"mesh3d\": [{\"colorbar\": {\"outlinewidth\": 0, \"ticks\": \"\"}, \"type\": \"mesh3d\"}], \"parcoords\": [{\"line\": {\"colorbar\": {\"outlinewidth\": 0, \"ticks\": \"\"}}, \"type\": \"parcoords\"}], \"pie\": [{\"automargin\": true, \"type\": \"pie\"}], \"scatter\": [{\"marker\": {\"colorbar\": {\"outlinewidth\": 0, \"ticks\": \"\"}}, \"type\": \"scatter\"}], \"scatter3d\": [{\"line\": {\"colorbar\": {\"outlinewidth\": 0, \"ticks\": \"\"}}, \"marker\": {\"colorbar\": {\"outlinewidth\": 0, \"ticks\": \"\"}}, \"type\": \"scatter3d\"}], \"scattercarpet\": [{\"marker\": {\"colorbar\": {\"outlinewidth\": 0, \"ticks\": \"\"}}, \"type\": \"scattercarpet\"}], \"scattergeo\": [{\"marker\": {\"colorbar\": {\"outlinewidth\": 0, \"ticks\": \"\"}}, \"type\": \"scattergeo\"}], \"scattergl\": [{\"marker\": {\"colorbar\": {\"outlinewidth\": 0, \"ticks\": \"\"}}, \"type\": \"scattergl\"}], \"scattermapbox\": [{\"marker\": {\"colorbar\": {\"outlinewidth\": 0, \"ticks\": \"\"}}, \"type\": \"scattermapbox\"}], \"scatterpolar\": [{\"marker\": {\"colorbar\": {\"outlinewidth\": 0, \"ticks\": \"\"}}, \"type\": \"scatterpolar\"}], \"scatterpolargl\": [{\"marker\": {\"colorbar\": {\"outlinewidth\": 0, \"ticks\": \"\"}}, \"type\": \"scatterpolargl\"}], \"scatterternary\": [{\"marker\": {\"colorbar\": {\"outlinewidth\": 0, \"ticks\": \"\"}}, \"type\": \"scatterternary\"}], \"surface\": [{\"colorbar\": {\"outlinewidth\": 0, \"ticks\": \"\"}, \"colorscale\": [[0.0, \"#0d0887\"], [0.1111111111111111, \"#46039f\"], [0.2222222222222222, \"#7201a8\"], [0.3333333333333333, \"#9c179e\"], [0.4444444444444444, \"#bd3786\"], [0.5555555555555556, \"#d8576b\"], [0.6666666666666666, \"#ed7953\"], [0.7777777777777778, \"#fb9f3a\"], [0.8888888888888888, \"#fdca26\"], [1.0, \"#f0f921\"]], \"type\": \"surface\"}], \"table\": [{\"cells\": {\"fill\": {\"color\": \"#EBF0F8\"}, \"line\": {\"color\": \"white\"}}, \"header\": {\"fill\": {\"color\": \"#C8D4E3\"}, \"line\": {\"color\": \"white\"}}, \"type\": \"table\"}]}, \"layout\": {\"annotationdefaults\": {\"arrowcolor\": \"#2a3f5f\", \"arrowhead\": 0, \"arrowwidth\": 1}, \"coloraxis\": {\"colorbar\": {\"outlinewidth\": 0, \"ticks\": \"\"}}, \"colorscale\": {\"diverging\": [[0, \"#8e0152\"], [0.1, \"#c51b7d\"], [0.2, \"#de77ae\"], [0.3, \"#f1b6da\"], [0.4, \"#fde0ef\"], [0.5, \"#f7f7f7\"], [0.6, \"#e6f5d0\"], [0.7, \"#b8e186\"], [0.8, \"#7fbc41\"], [0.9, \"#4d9221\"], [1, \"#276419\"]], \"sequential\": [[0.0, \"#0d0887\"], [0.1111111111111111, \"#46039f\"], [0.2222222222222222, \"#7201a8\"], [0.3333333333333333, \"#9c179e\"], [0.4444444444444444, \"#bd3786\"], [0.5555555555555556, \"#d8576b\"], [0.6666666666666666, \"#ed7953\"], [0.7777777777777778, \"#fb9f3a\"], [0.8888888888888888, \"#fdca26\"], [1.0, \"#f0f921\"]], \"sequentialminus\": [[0.0, \"#0d0887\"], [0.1111111111111111, \"#46039f\"], [0.2222222222222222, \"#7201a8\"], [0.3333333333333333, \"#9c179e\"], [0.4444444444444444, \"#bd3786\"], [0.5555555555555556, \"#d8576b\"], [0.6666666666666666, \"#ed7953\"], [0.7777777777777778, \"#fb9f3a\"], [0.8888888888888888, \"#fdca26\"], [1.0, \"#f0f921\"]]}, \"colorway\": [\"#636efa\", \"#EF553B\", \"#00cc96\", \"#ab63fa\", \"#FFA15A\", \"#19d3f3\", \"#FF6692\", \"#B6E880\", \"#FF97FF\", \"#FECB52\"], \"font\": {\"color\": \"#2a3f5f\"}, \"geo\": {\"bgcolor\": \"white\", \"lakecolor\": \"white\", \"landcolor\": \"#E5ECF6\", \"showlakes\": true, \"showland\": true, \"subunitcolor\": \"white\"}, \"hoverlabel\": {\"align\": \"left\"}, \"hovermode\": \"closest\", \"mapbox\": {\"style\": \"light\"}, \"paper_bgcolor\": \"white\", \"plot_bgcolor\": \"#E5ECF6\", \"polar\": {\"angularaxis\": {\"gridcolor\": \"white\", \"linecolor\": \"white\", \"ticks\": \"\"}, \"bgcolor\": \"#E5ECF6\", \"radialaxis\": {\"gridcolor\": \"white\", \"linecolor\": \"white\", \"ticks\": \"\"}}, \"scene\": {\"xaxis\": {\"backgroundcolor\": \"#E5ECF6\", \"gridcolor\": \"white\", \"gridwidth\": 2, \"linecolor\": \"white\", \"showbackground\": true, \"ticks\": \"\", \"zerolinecolor\": \"white\"}, \"yaxis\": {\"backgroundcolor\": \"#E5ECF6\", \"gridcolor\": \"white\", \"gridwidth\": 2, \"linecolor\": \"white\", \"showbackground\": true, \"ticks\": \"\", \"zerolinecolor\": \"white\"}, \"zaxis\": {\"backgroundcolor\": \"#E5ECF6\", \"gridcolor\": \"white\", \"gridwidth\": 2, \"linecolor\": \"white\", \"showbackground\": true, \"ticks\": \"\", \"zerolinecolor\": \"white\"}}, \"shapedefaults\": {\"line\": {\"color\": \"#2a3f5f\"}}, \"ternary\": {\"aaxis\": {\"gridcolor\": \"white\", \"linecolor\": \"white\", \"ticks\": \"\"}, \"baxis\": {\"gridcolor\": \"white\", \"linecolor\": \"white\", \"ticks\": \"\"}, \"bgcolor\": \"#E5ECF6\", \"caxis\": {\"gridcolor\": \"white\", \"linecolor\": \"white\", \"ticks\": \"\"}}, \"title\": {\"x\": 0.05}, \"xaxis\": {\"automargin\": true, \"gridcolor\": \"white\", \"linecolor\": \"white\", \"ticks\": \"\", \"title\": {\"standoff\": 15}, \"zerolinecolor\": \"white\", \"zerolinewidth\": 2}, \"yaxis\": {\"automargin\": true, \"gridcolor\": \"white\", \"linecolor\": \"white\", \"ticks\": \"\", \"title\": {\"standoff\": 15}, \"zerolinecolor\": \"white\", \"zerolinewidth\": 2}}}, \"title\": {\"text\": \"$\\\\text{True Velocity vs. Estimated Velocity}$\", \"x\": 0.48, \"xanchor\": \"center\", \"y\": 0.9, \"yanchor\": \"top\"}, \"xaxis\": {\"title\": {\"text\": \"$\\\\text{Time (} s \\\\text{)}$\"}}, \"yaxis\": {\"title\": {\"text\": \"$\\\\text{Velocity Error (} m/s \\\\text{)}$\"}}},\n",
       "                        {\"responsive\": true}\n",
       "                    ).then(function(){\n",
       "                            \n",
       "var gd = document.getElementById('d8cabc45-f55d-476e-a3cb-60a8dbd66bf4');\n",
       "var x = new MutationObserver(function (mutations, observer) {{\n",
       "        var display = window.getComputedStyle(gd).display;\n",
       "        if (!display || display === 'none') {{\n",
       "            console.log([gd, 'removed!']);\n",
       "            Plotly.purge(gd);\n",
       "            observer.disconnect();\n",
       "        }}\n",
       "}});\n",
       "\n",
       "// Listen for the removal of the full notebook cells\n",
       "var notebookContainer = gd.closest('#notebook-container');\n",
       "if (notebookContainer) {{\n",
       "    x.observe(notebookContainer, {childList: true});\n",
       "}}\n",
       "\n",
       "// Listen for the clearing of the current output cell\n",
       "var outputEl = gd.closest('.output');\n",
       "if (outputEl) {{\n",
       "    x.observe(outputEl, {childList: true});\n",
       "}}\n",
       "\n",
       "                        })\n",
       "                };\n",
       "                });\n",
       "            </script>\n",
       "        </div>"
      ]
     },
     "metadata": {},
     "output_type": "display_data"
    },
    {
     "data": {
      "application/vnd.plotly.v1+json": {
       "config": {
        "plotlyServerURL": "https://plot.ly"
       },
       "data": [
        {
         "name": "Velocity Estimate Error",
         "type": "scatter",
         "x": [
          0,
          0.2,
          0.4,
          0.6000000000000001,
          0.8,
          1,
          1.2000000000000002,
          1.4000000000000001,
          1.6,
          1.8,
          2,
          2.2,
          2.4000000000000004,
          2.6,
          2.8000000000000003,
          3,
          3.2,
          3.4000000000000004,
          3.6,
          3.8000000000000003,
          4,
          4.2,
          4.4,
          4.6000000000000005,
          4.800000000000001,
          5,
          5.2,
          5.4,
          5.6000000000000005,
          5.800000000000001,
          6,
          6.2,
          6.4,
          6.6000000000000005,
          6.800000000000001,
          7,
          7.2,
          7.4,
          7.6000000000000005,
          7.800000000000001,
          8,
          8.200000000000001,
          8.4,
          8.6,
          8.8,
          9,
          9.200000000000001,
          9.4,
          9.600000000000001,
          9.8,
          10,
          10.200000000000001,
          10.4,
          10.600000000000001,
          10.8,
          11,
          11.200000000000001,
          11.4,
          11.600000000000001,
          11.8,
          12,
          12.200000000000001,
          12.4,
          12.600000000000001,
          12.8,
          13,
          13.200000000000001,
          13.4,
          13.600000000000001,
          13.8,
          14,
          14.200000000000001,
          14.4,
          14.600000000000001,
          14.8,
          15,
          15.200000000000001,
          15.4,
          15.600000000000001,
          15.8,
          16,
          16.2,
          16.400000000000002,
          16.6,
          16.8,
          17,
          17.2,
          17.400000000000002,
          17.6,
          17.8,
          18,
          18.2,
          18.400000000000002,
          18.6,
          18.8,
          19,
          19.200000000000003,
          19.400000000000002,
          19.6,
          19.8,
          20,
          20.200000000000003,
          20.400000000000002,
          20.6,
          20.8,
          21,
          21.200000000000003,
          21.400000000000002,
          21.6,
          21.8,
          22,
          22.200000000000003,
          22.400000000000002,
          22.6,
          22.8,
          23,
          23.200000000000003,
          23.400000000000002,
          23.6,
          23.8,
          24,
          24.200000000000003,
          24.400000000000002,
          24.6,
          24.8,
          25,
          25.200000000000003,
          25.400000000000002,
          25.6,
          25.8,
          26,
          26.200000000000003,
          26.400000000000002,
          26.6,
          26.8,
          27,
          27.200000000000003,
          27.400000000000002,
          27.6,
          27.8,
          28,
          28.200000000000003,
          28.400000000000002,
          28.6,
          28.8,
          29,
          29.200000000000003,
          29.400000000000002,
          29.6,
          29.8,
          30
         ],
         "y": [
          -0.18064557751817745,
          -0.12987458504669291,
          -0.06817291542634507,
          -0.031443284513869685,
          -0.002003456483535615,
          0.011434893661018464,
          0.03228187755149747,
          0.03033979776731144,
          0.01921526025211051,
          0.014473339602062651,
          0.011383206630284803,
          0.004636440657904473,
          0.025689701328929004,
          0.021166809849134438,
          0.01223022150840336,
          0.025109284612085503,
          0.02946892034911741,
          0.021501630151959716,
          0.02360990223652948,
          0.018766491384269557,
          0.004790564886093307,
          0.006622235590768355,
          0.0036042817773420666,
          0.00700430358924109,
          -0.0006378685380639126,
          0.0058775996360225236,
          0.0015992240670357205,
          -0.00429809532782599,
          0.0004383948965340778,
          0.009073012726915408,
          0.004540365044803707,
          0.010184127700554768,
          0.009482076317596011,
          0.008611122318768594,
          0.0066916239749872375,
          -0.001586482093884456,
          -0.013676754733381813,
          -0.007518022981187755,
          -0.00482923875190977,
          -0.010047061689647308,
          -0.015384269903762515,
          -0.008908545912731825,
          -0.0063474407022283685,
          -0.004408777461463842,
          -0.0002616283896088589,
          0.0007540330587119115,
          0.008422278215931556,
          0.0006950604098392432,
          0.0014269902361547793,
          -0.0019119991000593473,
          -0.0023788742945498598,
          -0.006974781769741867,
          -0.007753742796012375,
          -0.014676550078206674,
          -0.017425527943515817,
          -0.014708134932590156,
          -0.01576181014459621,
          -0.014826119338437138,
          -0.010632387395418164,
          -0.011003020053976797,
          -0.019191712769497826,
          -0.022631855927784272,
          -0.01866361479201828,
          -0.01808552051554102,
          -0.01282289111532009,
          -0.012663733470475336,
          -0.010032924511079955,
          -0.01619638535589729,
          -0.015831685597873957,
          -0.018618722242848662,
          -0.01397674988493236,
          -0.012389406695234584,
          -0.017962629494746807,
          -0.017681359751577475,
          -0.016794910181772593,
          -0.017160830103222224,
          -0.017518988366958865,
          -0.0165414863916169,
          -0.013929404226871611,
          -0.009359705646403427,
          -0.009893922592567606,
          -0.010900173622331977,
          -0.007872137496548248,
          -0.013892673950039125,
          -0.011743029350952838,
          -0.0024738953704570577,
          0.0017981340794221978,
          0.0018481572736277485,
          0.0004694934914653004,
          0.010408102894530202,
          0.007092478200604546,
          0.0015040292714445513,
          0.0035594040224111723,
          0.004332203534744394,
          -0.00015036665274692496,
          0.004960039819792428,
          0.004426187540786941,
          0.007121889798611392,
          0.0067953208936728515,
          0.01636145616549811,
          0.01491924119031296,
          0.016317988008637485,
          0.016985659647588136,
          0.019000620436855797,
          0.020959731731920783,
          0.021871559425733267,
          0.014362339432238969,
          0.009392463322910771,
          0.009144603626339176,
          0.012754284806931082,
          0.01205814892955459,
          0.0031490797173887586,
          0.0053703919075474005,
          0.010624773612505578,
          0.01029383598631739,
          0.014133109620274809,
          0.011871241961557644,
          0.011419955235851376,
          0.014182000718165,
          0.013479221236138983,
          0.00971014437800477,
          0.0012561685054492955,
          -0.005566028347402607,
          0.002248036635990047,
          -0.00022554444876732305,
          -0.008700982219465914,
          -0.0028172276729492296,
          -0.0034765038182626995,
          -0.002559425972435747,
          -0.002836927465921235,
          -0.004704016141317879,
          -0.006746631031091965,
          -0.005622667862212438,
          -0.0002672877494660497,
          0.001639115048703843,
          0.013300419982783751,
          0.006905873599748702,
          0.00783844545054535,
          0.010420407761046135,
          0.01005100984349383,
          0.006590915162632882,
          0.007099139948536504,
          0.002609886352843205,
          0.0003641798279545583,
          -0.0010176100436751767,
          0.0012775428048712456,
          -0.008541062812184919,
          -0.017070182056954764,
          -0.014082462655380823,
          -0.012304833193184095,
          -0.011718843424660008
         ]
        }
       ],
       "layout": {
        "template": {
         "data": {
          "bar": [
           {
            "error_x": {
             "color": "#2a3f5f"
            },
            "error_y": {
             "color": "#2a3f5f"
            },
            "marker": {
             "line": {
              "color": "#E5ECF6",
              "width": 0.5
             }
            },
            "type": "bar"
           }
          ],
          "barpolar": [
           {
            "marker": {
             "line": {
              "color": "#E5ECF6",
              "width": 0.5
             }
            },
            "type": "barpolar"
           }
          ],
          "carpet": [
           {
            "aaxis": {
             "endlinecolor": "#2a3f5f",
             "gridcolor": "white",
             "linecolor": "white",
             "minorgridcolor": "white",
             "startlinecolor": "#2a3f5f"
            },
            "baxis": {
             "endlinecolor": "#2a3f5f",
             "gridcolor": "white",
             "linecolor": "white",
             "minorgridcolor": "white",
             "startlinecolor": "#2a3f5f"
            },
            "type": "carpet"
           }
          ],
          "choropleth": [
           {
            "colorbar": {
             "outlinewidth": 0,
             "ticks": ""
            },
            "type": "choropleth"
           }
          ],
          "contour": [
           {
            "colorbar": {
             "outlinewidth": 0,
             "ticks": ""
            },
            "colorscale": [
             [
              0,
              "#0d0887"
             ],
             [
              0.1111111111111111,
              "#46039f"
             ],
             [
              0.2222222222222222,
              "#7201a8"
             ],
             [
              0.3333333333333333,
              "#9c179e"
             ],
             [
              0.4444444444444444,
              "#bd3786"
             ],
             [
              0.5555555555555556,
              "#d8576b"
             ],
             [
              0.6666666666666666,
              "#ed7953"
             ],
             [
              0.7777777777777778,
              "#fb9f3a"
             ],
             [
              0.8888888888888888,
              "#fdca26"
             ],
             [
              1,
              "#f0f921"
             ]
            ],
            "type": "contour"
           }
          ],
          "contourcarpet": [
           {
            "colorbar": {
             "outlinewidth": 0,
             "ticks": ""
            },
            "type": "contourcarpet"
           }
          ],
          "heatmap": [
           {
            "colorbar": {
             "outlinewidth": 0,
             "ticks": ""
            },
            "colorscale": [
             [
              0,
              "#0d0887"
             ],
             [
              0.1111111111111111,
              "#46039f"
             ],
             [
              0.2222222222222222,
              "#7201a8"
             ],
             [
              0.3333333333333333,
              "#9c179e"
             ],
             [
              0.4444444444444444,
              "#bd3786"
             ],
             [
              0.5555555555555556,
              "#d8576b"
             ],
             [
              0.6666666666666666,
              "#ed7953"
             ],
             [
              0.7777777777777778,
              "#fb9f3a"
             ],
             [
              0.8888888888888888,
              "#fdca26"
             ],
             [
              1,
              "#f0f921"
             ]
            ],
            "type": "heatmap"
           }
          ],
          "heatmapgl": [
           {
            "colorbar": {
             "outlinewidth": 0,
             "ticks": ""
            },
            "colorscale": [
             [
              0,
              "#0d0887"
             ],
             [
              0.1111111111111111,
              "#46039f"
             ],
             [
              0.2222222222222222,
              "#7201a8"
             ],
             [
              0.3333333333333333,
              "#9c179e"
             ],
             [
              0.4444444444444444,
              "#bd3786"
             ],
             [
              0.5555555555555556,
              "#d8576b"
             ],
             [
              0.6666666666666666,
              "#ed7953"
             ],
             [
              0.7777777777777778,
              "#fb9f3a"
             ],
             [
              0.8888888888888888,
              "#fdca26"
             ],
             [
              1,
              "#f0f921"
             ]
            ],
            "type": "heatmapgl"
           }
          ],
          "histogram": [
           {
            "marker": {
             "colorbar": {
              "outlinewidth": 0,
              "ticks": ""
             }
            },
            "type": "histogram"
           }
          ],
          "histogram2d": [
           {
            "colorbar": {
             "outlinewidth": 0,
             "ticks": ""
            },
            "colorscale": [
             [
              0,
              "#0d0887"
             ],
             [
              0.1111111111111111,
              "#46039f"
             ],
             [
              0.2222222222222222,
              "#7201a8"
             ],
             [
              0.3333333333333333,
              "#9c179e"
             ],
             [
              0.4444444444444444,
              "#bd3786"
             ],
             [
              0.5555555555555556,
              "#d8576b"
             ],
             [
              0.6666666666666666,
              "#ed7953"
             ],
             [
              0.7777777777777778,
              "#fb9f3a"
             ],
             [
              0.8888888888888888,
              "#fdca26"
             ],
             [
              1,
              "#f0f921"
             ]
            ],
            "type": "histogram2d"
           }
          ],
          "histogram2dcontour": [
           {
            "colorbar": {
             "outlinewidth": 0,
             "ticks": ""
            },
            "colorscale": [
             [
              0,
              "#0d0887"
             ],
             [
              0.1111111111111111,
              "#46039f"
             ],
             [
              0.2222222222222222,
              "#7201a8"
             ],
             [
              0.3333333333333333,
              "#9c179e"
             ],
             [
              0.4444444444444444,
              "#bd3786"
             ],
             [
              0.5555555555555556,
              "#d8576b"
             ],
             [
              0.6666666666666666,
              "#ed7953"
             ],
             [
              0.7777777777777778,
              "#fb9f3a"
             ],
             [
              0.8888888888888888,
              "#fdca26"
             ],
             [
              1,
              "#f0f921"
             ]
            ],
            "type": "histogram2dcontour"
           }
          ],
          "mesh3d": [
           {
            "colorbar": {
             "outlinewidth": 0,
             "ticks": ""
            },
            "type": "mesh3d"
           }
          ],
          "parcoords": [
           {
            "line": {
             "colorbar": {
              "outlinewidth": 0,
              "ticks": ""
             }
            },
            "type": "parcoords"
           }
          ],
          "pie": [
           {
            "automargin": true,
            "type": "pie"
           }
          ],
          "scatter": [
           {
            "marker": {
             "colorbar": {
              "outlinewidth": 0,
              "ticks": ""
             }
            },
            "type": "scatter"
           }
          ],
          "scatter3d": [
           {
            "line": {
             "colorbar": {
              "outlinewidth": 0,
              "ticks": ""
             }
            },
            "marker": {
             "colorbar": {
              "outlinewidth": 0,
              "ticks": ""
             }
            },
            "type": "scatter3d"
           }
          ],
          "scattercarpet": [
           {
            "marker": {
             "colorbar": {
              "outlinewidth": 0,
              "ticks": ""
             }
            },
            "type": "scattercarpet"
           }
          ],
          "scattergeo": [
           {
            "marker": {
             "colorbar": {
              "outlinewidth": 0,
              "ticks": ""
             }
            },
            "type": "scattergeo"
           }
          ],
          "scattergl": [
           {
            "marker": {
             "colorbar": {
              "outlinewidth": 0,
              "ticks": ""
             }
            },
            "type": "scattergl"
           }
          ],
          "scattermapbox": [
           {
            "marker": {
             "colorbar": {
              "outlinewidth": 0,
              "ticks": ""
             }
            },
            "type": "scattermapbox"
           }
          ],
          "scatterpolar": [
           {
            "marker": {
             "colorbar": {
              "outlinewidth": 0,
              "ticks": ""
             }
            },
            "type": "scatterpolar"
           }
          ],
          "scatterpolargl": [
           {
            "marker": {
             "colorbar": {
              "outlinewidth": 0,
              "ticks": ""
             }
            },
            "type": "scatterpolargl"
           }
          ],
          "scatterternary": [
           {
            "marker": {
             "colorbar": {
              "outlinewidth": 0,
              "ticks": ""
             }
            },
            "type": "scatterternary"
           }
          ],
          "surface": [
           {
            "colorbar": {
             "outlinewidth": 0,
             "ticks": ""
            },
            "colorscale": [
             [
              0,
              "#0d0887"
             ],
             [
              0.1111111111111111,
              "#46039f"
             ],
             [
              0.2222222222222222,
              "#7201a8"
             ],
             [
              0.3333333333333333,
              "#9c179e"
             ],
             [
              0.4444444444444444,
              "#bd3786"
             ],
             [
              0.5555555555555556,
              "#d8576b"
             ],
             [
              0.6666666666666666,
              "#ed7953"
             ],
             [
              0.7777777777777778,
              "#fb9f3a"
             ],
             [
              0.8888888888888888,
              "#fdca26"
             ],
             [
              1,
              "#f0f921"
             ]
            ],
            "type": "surface"
           }
          ],
          "table": [
           {
            "cells": {
             "fill": {
              "color": "#EBF0F8"
             },
             "line": {
              "color": "white"
             }
            },
            "header": {
             "fill": {
              "color": "#C8D4E3"
             },
             "line": {
              "color": "white"
             }
            },
            "type": "table"
           }
          ]
         },
         "layout": {
          "annotationdefaults": {
           "arrowcolor": "#2a3f5f",
           "arrowhead": 0,
           "arrowwidth": 1
          },
          "coloraxis": {
           "colorbar": {
            "outlinewidth": 0,
            "ticks": ""
           }
          },
          "colorscale": {
           "diverging": [
            [
             0,
             "#8e0152"
            ],
            [
             0.1,
             "#c51b7d"
            ],
            [
             0.2,
             "#de77ae"
            ],
            [
             0.3,
             "#f1b6da"
            ],
            [
             0.4,
             "#fde0ef"
            ],
            [
             0.5,
             "#f7f7f7"
            ],
            [
             0.6,
             "#e6f5d0"
            ],
            [
             0.7,
             "#b8e186"
            ],
            [
             0.8,
             "#7fbc41"
            ],
            [
             0.9,
             "#4d9221"
            ],
            [
             1,
             "#276419"
            ]
           ],
           "sequential": [
            [
             0,
             "#0d0887"
            ],
            [
             0.1111111111111111,
             "#46039f"
            ],
            [
             0.2222222222222222,
             "#7201a8"
            ],
            [
             0.3333333333333333,
             "#9c179e"
            ],
            [
             0.4444444444444444,
             "#bd3786"
            ],
            [
             0.5555555555555556,
             "#d8576b"
            ],
            [
             0.6666666666666666,
             "#ed7953"
            ],
            [
             0.7777777777777778,
             "#fb9f3a"
            ],
            [
             0.8888888888888888,
             "#fdca26"
            ],
            [
             1,
             "#f0f921"
            ]
           ],
           "sequentialminus": [
            [
             0,
             "#0d0887"
            ],
            [
             0.1111111111111111,
             "#46039f"
            ],
            [
             0.2222222222222222,
             "#7201a8"
            ],
            [
             0.3333333333333333,
             "#9c179e"
            ],
            [
             0.4444444444444444,
             "#bd3786"
            ],
            [
             0.5555555555555556,
             "#d8576b"
            ],
            [
             0.6666666666666666,
             "#ed7953"
            ],
            [
             0.7777777777777778,
             "#fb9f3a"
            ],
            [
             0.8888888888888888,
             "#fdca26"
            ],
            [
             1,
             "#f0f921"
            ]
           ]
          },
          "colorway": [
           "#636efa",
           "#EF553B",
           "#00cc96",
           "#ab63fa",
           "#FFA15A",
           "#19d3f3",
           "#FF6692",
           "#B6E880",
           "#FF97FF",
           "#FECB52"
          ],
          "font": {
           "color": "#2a3f5f"
          },
          "geo": {
           "bgcolor": "white",
           "lakecolor": "white",
           "landcolor": "#E5ECF6",
           "showlakes": true,
           "showland": true,
           "subunitcolor": "white"
          },
          "hoverlabel": {
           "align": "left"
          },
          "hovermode": "closest",
          "mapbox": {
           "style": "light"
          },
          "paper_bgcolor": "white",
          "plot_bgcolor": "#E5ECF6",
          "polar": {
           "angularaxis": {
            "gridcolor": "white",
            "linecolor": "white",
            "ticks": ""
           },
           "bgcolor": "#E5ECF6",
           "radialaxis": {
            "gridcolor": "white",
            "linecolor": "white",
            "ticks": ""
           }
          },
          "scene": {
           "xaxis": {
            "backgroundcolor": "#E5ECF6",
            "gridcolor": "white",
            "gridwidth": 2,
            "linecolor": "white",
            "showbackground": true,
            "ticks": "",
            "zerolinecolor": "white"
           },
           "yaxis": {
            "backgroundcolor": "#E5ECF6",
            "gridcolor": "white",
            "gridwidth": 2,
            "linecolor": "white",
            "showbackground": true,
            "ticks": "",
            "zerolinecolor": "white"
           },
           "zaxis": {
            "backgroundcolor": "#E5ECF6",
            "gridcolor": "white",
            "gridwidth": 2,
            "linecolor": "white",
            "showbackground": true,
            "ticks": "",
            "zerolinecolor": "white"
           }
          },
          "shapedefaults": {
           "line": {
            "color": "#2a3f5f"
           }
          },
          "ternary": {
           "aaxis": {
            "gridcolor": "white",
            "linecolor": "white",
            "ticks": ""
           },
           "baxis": {
            "gridcolor": "white",
            "linecolor": "white",
            "ticks": ""
           },
           "bgcolor": "#E5ECF6",
           "caxis": {
            "gridcolor": "white",
            "linecolor": "white",
            "ticks": ""
           }
          },
          "title": {
           "x": 0.05
          },
          "xaxis": {
           "automargin": true,
           "gridcolor": "white",
           "linecolor": "white",
           "ticks": "",
           "title": {
            "standoff": 15
           },
           "zerolinecolor": "white",
           "zerolinewidth": 2
          },
          "yaxis": {
           "automargin": true,
           "gridcolor": "white",
           "linecolor": "white",
           "ticks": "",
           "title": {
            "standoff": 15
           },
           "zerolinecolor": "white",
           "zerolinewidth": 2
          }
         }
        },
        "title": {
         "text": "$\\text{Velocity Estimate Error}$",
         "x": 0.48,
         "xanchor": "center",
         "y": 0.9,
         "yanchor": "top"
        },
        "xaxis": {
         "title": {
          "text": "$\\text{Time (} s \\text{)}$"
         }
        },
        "yaxis": {
         "title": {
          "text": "$\\text{Velocity Error (} m/s \\text{)}$"
         }
        }
       }
      },
      "text/html": [
       "<div>\n",
       "        \n",
       "        \n",
       "            <div id=\"509c3584-7d60-4b7a-b665-8f342c24ca45\" class=\"plotly-graph-div\" style=\"height:525px; width:100%;\"></div>\n",
       "            <script type=\"text/javascript\">\n",
       "                require([\"plotly\"], function(Plotly) {\n",
       "                    window.PLOTLYENV=window.PLOTLYENV || {};\n",
       "                    \n",
       "                if (document.getElementById(\"509c3584-7d60-4b7a-b665-8f342c24ca45\")) {\n",
       "                    Plotly.newPlot(\n",
       "                        '509c3584-7d60-4b7a-b665-8f342c24ca45',\n",
       "                        [{\"name\": \"Velocity Estimate Error\", \"type\": \"scatter\", \"x\": [0.0, 0.2, 0.4, 0.6000000000000001, 0.8, 1.0, 1.2000000000000002, 1.4000000000000001, 1.6, 1.8, 2.0, 2.2, 2.4000000000000004, 2.6, 2.8000000000000003, 3.0, 3.2, 3.4000000000000004, 3.6, 3.8000000000000003, 4.0, 4.2, 4.4, 4.6000000000000005, 4.800000000000001, 5.0, 5.2, 5.4, 5.6000000000000005, 5.800000000000001, 6.0, 6.2, 6.4, 6.6000000000000005, 6.800000000000001, 7.0, 7.2, 7.4, 7.6000000000000005, 7.800000000000001, 8.0, 8.200000000000001, 8.4, 8.6, 8.8, 9.0, 9.200000000000001, 9.4, 9.600000000000001, 9.8, 10.0, 10.200000000000001, 10.4, 10.600000000000001, 10.8, 11.0, 11.200000000000001, 11.4, 11.600000000000001, 11.8, 12.0, 12.200000000000001, 12.4, 12.600000000000001, 12.8, 13.0, 13.200000000000001, 13.4, 13.600000000000001, 13.8, 14.0, 14.200000000000001, 14.4, 14.600000000000001, 14.8, 15.0, 15.200000000000001, 15.4, 15.600000000000001, 15.8, 16.0, 16.2, 16.400000000000002, 16.6, 16.8, 17.0, 17.2, 17.400000000000002, 17.6, 17.8, 18.0, 18.2, 18.400000000000002, 18.6, 18.8, 19.0, 19.200000000000003, 19.400000000000002, 19.6, 19.8, 20.0, 20.200000000000003, 20.400000000000002, 20.6, 20.8, 21.0, 21.200000000000003, 21.400000000000002, 21.6, 21.8, 22.0, 22.200000000000003, 22.400000000000002, 22.6, 22.8, 23.0, 23.200000000000003, 23.400000000000002, 23.6, 23.8, 24.0, 24.200000000000003, 24.400000000000002, 24.6, 24.8, 25.0, 25.200000000000003, 25.400000000000002, 25.6, 25.8, 26.0, 26.200000000000003, 26.400000000000002, 26.6, 26.8, 27.0, 27.200000000000003, 27.400000000000002, 27.6, 27.8, 28.0, 28.200000000000003, 28.400000000000002, 28.6, 28.8, 29.0, 29.200000000000003, 29.400000000000002, 29.6, 29.8, 30.0], \"y\": [-0.18064557751817745, -0.12987458504669291, -0.06817291542634507, -0.031443284513869685, -0.002003456483535615, 0.011434893661018464, 0.03228187755149747, 0.03033979776731144, 0.01921526025211051, 0.014473339602062651, 0.011383206630284803, 0.004636440657904473, 0.025689701328929004, 0.021166809849134438, 0.01223022150840336, 0.025109284612085503, 0.02946892034911741, 0.021501630151959716, 0.02360990223652948, 0.018766491384269557, 0.004790564886093307, 0.006622235590768355, 0.0036042817773420666, 0.00700430358924109, -0.0006378685380639126, 0.0058775996360225236, 0.0015992240670357205, -0.00429809532782599, 0.0004383948965340778, 0.009073012726915408, 0.004540365044803707, 0.010184127700554768, 0.009482076317596011, 0.008611122318768594, 0.0066916239749872375, -0.001586482093884456, -0.013676754733381813, -0.007518022981187755, -0.00482923875190977, -0.010047061689647308, -0.015384269903762515, -0.008908545912731825, -0.0063474407022283685, -0.004408777461463842, -0.0002616283896088589, 0.0007540330587119115, 0.008422278215931556, 0.0006950604098392432, 0.0014269902361547793, -0.0019119991000593473, -0.0023788742945498598, -0.006974781769741867, -0.007753742796012375, -0.014676550078206674, -0.017425527943515817, -0.014708134932590156, -0.01576181014459621, -0.014826119338437138, -0.010632387395418164, -0.011003020053976797, -0.019191712769497826, -0.022631855927784272, -0.01866361479201828, -0.01808552051554102, -0.01282289111532009, -0.012663733470475336, -0.010032924511079955, -0.01619638535589729, -0.015831685597873957, -0.018618722242848662, -0.01397674988493236, -0.012389406695234584, -0.017962629494746807, -0.017681359751577475, -0.016794910181772593, -0.017160830103222224, -0.017518988366958865, -0.0165414863916169, -0.013929404226871611, -0.009359705646403427, -0.009893922592567606, -0.010900173622331977, -0.007872137496548248, -0.013892673950039125, -0.011743029350952838, -0.0024738953704570577, 0.0017981340794221978, 0.0018481572736277485, 0.0004694934914653004, 0.010408102894530202, 0.007092478200604546, 0.0015040292714445513, 0.0035594040224111723, 0.004332203534744394, -0.00015036665274692496, 0.004960039819792428, 0.004426187540786941, 0.007121889798611392, 0.0067953208936728515, 0.01636145616549811, 0.01491924119031296, 0.016317988008637485, 0.016985659647588136, 0.019000620436855797, 0.020959731731920783, 0.021871559425733267, 0.014362339432238969, 0.009392463322910771, 0.009144603626339176, 0.012754284806931082, 0.01205814892955459, 0.0031490797173887586, 0.0053703919075474005, 0.010624773612505578, 0.01029383598631739, 0.014133109620274809, 0.011871241961557644, 0.011419955235851376, 0.014182000718165, 0.013479221236138983, 0.00971014437800477, 0.0012561685054492955, -0.005566028347402607, 0.002248036635990047, -0.00022554444876732305, -0.008700982219465914, -0.0028172276729492296, -0.0034765038182626995, -0.002559425972435747, -0.002836927465921235, -0.004704016141317879, -0.006746631031091965, -0.005622667862212438, -0.0002672877494660497, 0.001639115048703843, 0.013300419982783751, 0.006905873599748702, 0.00783844545054535, 0.010420407761046135, 0.01005100984349383, 0.006590915162632882, 0.007099139948536504, 0.002609886352843205, 0.0003641798279545583, -0.0010176100436751767, 0.0012775428048712456, -0.008541062812184919, -0.017070182056954764, -0.014082462655380823, -0.012304833193184095, -0.011718843424660008]}],\n",
       "                        {\"template\": {\"data\": {\"bar\": [{\"error_x\": {\"color\": \"#2a3f5f\"}, \"error_y\": {\"color\": \"#2a3f5f\"}, \"marker\": {\"line\": {\"color\": \"#E5ECF6\", \"width\": 0.5}}, \"type\": \"bar\"}], \"barpolar\": [{\"marker\": {\"line\": {\"color\": \"#E5ECF6\", \"width\": 0.5}}, \"type\": \"barpolar\"}], \"carpet\": [{\"aaxis\": {\"endlinecolor\": \"#2a3f5f\", \"gridcolor\": \"white\", \"linecolor\": \"white\", \"minorgridcolor\": \"white\", \"startlinecolor\": \"#2a3f5f\"}, \"baxis\": {\"endlinecolor\": \"#2a3f5f\", \"gridcolor\": \"white\", \"linecolor\": \"white\", \"minorgridcolor\": \"white\", \"startlinecolor\": \"#2a3f5f\"}, \"type\": \"carpet\"}], \"choropleth\": [{\"colorbar\": {\"outlinewidth\": 0, \"ticks\": \"\"}, \"type\": \"choropleth\"}], \"contour\": [{\"colorbar\": {\"outlinewidth\": 0, \"ticks\": \"\"}, \"colorscale\": [[0.0, \"#0d0887\"], [0.1111111111111111, \"#46039f\"], [0.2222222222222222, \"#7201a8\"], [0.3333333333333333, \"#9c179e\"], [0.4444444444444444, \"#bd3786\"], [0.5555555555555556, \"#d8576b\"], [0.6666666666666666, \"#ed7953\"], [0.7777777777777778, \"#fb9f3a\"], [0.8888888888888888, \"#fdca26\"], [1.0, \"#f0f921\"]], \"type\": \"contour\"}], \"contourcarpet\": [{\"colorbar\": {\"outlinewidth\": 0, \"ticks\": \"\"}, \"type\": \"contourcarpet\"}], \"heatmap\": [{\"colorbar\": {\"outlinewidth\": 0, \"ticks\": \"\"}, \"colorscale\": [[0.0, \"#0d0887\"], [0.1111111111111111, \"#46039f\"], [0.2222222222222222, \"#7201a8\"], [0.3333333333333333, \"#9c179e\"], [0.4444444444444444, \"#bd3786\"], [0.5555555555555556, \"#d8576b\"], [0.6666666666666666, \"#ed7953\"], [0.7777777777777778, \"#fb9f3a\"], [0.8888888888888888, \"#fdca26\"], [1.0, \"#f0f921\"]], \"type\": \"heatmap\"}], \"heatmapgl\": [{\"colorbar\": {\"outlinewidth\": 0, \"ticks\": \"\"}, \"colorscale\": [[0.0, \"#0d0887\"], [0.1111111111111111, \"#46039f\"], [0.2222222222222222, \"#7201a8\"], [0.3333333333333333, \"#9c179e\"], [0.4444444444444444, \"#bd3786\"], [0.5555555555555556, \"#d8576b\"], [0.6666666666666666, \"#ed7953\"], [0.7777777777777778, \"#fb9f3a\"], [0.8888888888888888, \"#fdca26\"], [1.0, \"#f0f921\"]], \"type\": \"heatmapgl\"}], \"histogram\": [{\"marker\": {\"colorbar\": {\"outlinewidth\": 0, \"ticks\": \"\"}}, \"type\": \"histogram\"}], \"histogram2d\": [{\"colorbar\": {\"outlinewidth\": 0, \"ticks\": \"\"}, \"colorscale\": [[0.0, \"#0d0887\"], [0.1111111111111111, \"#46039f\"], [0.2222222222222222, \"#7201a8\"], [0.3333333333333333, \"#9c179e\"], [0.4444444444444444, \"#bd3786\"], [0.5555555555555556, \"#d8576b\"], [0.6666666666666666, \"#ed7953\"], [0.7777777777777778, \"#fb9f3a\"], [0.8888888888888888, \"#fdca26\"], [1.0, \"#f0f921\"]], \"type\": \"histogram2d\"}], \"histogram2dcontour\": [{\"colorbar\": {\"outlinewidth\": 0, \"ticks\": \"\"}, \"colorscale\": [[0.0, \"#0d0887\"], [0.1111111111111111, \"#46039f\"], [0.2222222222222222, \"#7201a8\"], [0.3333333333333333, \"#9c179e\"], [0.4444444444444444, \"#bd3786\"], [0.5555555555555556, \"#d8576b\"], [0.6666666666666666, \"#ed7953\"], [0.7777777777777778, \"#fb9f3a\"], [0.8888888888888888, \"#fdca26\"], [1.0, \"#f0f921\"]], \"type\": \"histogram2dcontour\"}], \"mesh3d\": [{\"colorbar\": {\"outlinewidth\": 0, \"ticks\": \"\"}, \"type\": \"mesh3d\"}], \"parcoords\": [{\"line\": {\"colorbar\": {\"outlinewidth\": 0, \"ticks\": \"\"}}, \"type\": \"parcoords\"}], \"pie\": [{\"automargin\": true, \"type\": \"pie\"}], \"scatter\": [{\"marker\": {\"colorbar\": {\"outlinewidth\": 0, \"ticks\": \"\"}}, \"type\": \"scatter\"}], \"scatter3d\": [{\"line\": {\"colorbar\": {\"outlinewidth\": 0, \"ticks\": \"\"}}, \"marker\": {\"colorbar\": {\"outlinewidth\": 0, \"ticks\": \"\"}}, \"type\": \"scatter3d\"}], \"scattercarpet\": [{\"marker\": {\"colorbar\": {\"outlinewidth\": 0, \"ticks\": \"\"}}, \"type\": \"scattercarpet\"}], \"scattergeo\": [{\"marker\": {\"colorbar\": {\"outlinewidth\": 0, \"ticks\": \"\"}}, \"type\": \"scattergeo\"}], \"scattergl\": [{\"marker\": {\"colorbar\": {\"outlinewidth\": 0, \"ticks\": \"\"}}, \"type\": \"scattergl\"}], \"scattermapbox\": [{\"marker\": {\"colorbar\": {\"outlinewidth\": 0, \"ticks\": \"\"}}, \"type\": \"scattermapbox\"}], \"scatterpolar\": [{\"marker\": {\"colorbar\": {\"outlinewidth\": 0, \"ticks\": \"\"}}, \"type\": \"scatterpolar\"}], \"scatterpolargl\": [{\"marker\": {\"colorbar\": {\"outlinewidth\": 0, \"ticks\": \"\"}}, \"type\": \"scatterpolargl\"}], \"scatterternary\": [{\"marker\": {\"colorbar\": {\"outlinewidth\": 0, \"ticks\": \"\"}}, \"type\": \"scatterternary\"}], \"surface\": [{\"colorbar\": {\"outlinewidth\": 0, \"ticks\": \"\"}, \"colorscale\": [[0.0, \"#0d0887\"], [0.1111111111111111, \"#46039f\"], [0.2222222222222222, \"#7201a8\"], [0.3333333333333333, \"#9c179e\"], [0.4444444444444444, \"#bd3786\"], [0.5555555555555556, \"#d8576b\"], [0.6666666666666666, \"#ed7953\"], [0.7777777777777778, \"#fb9f3a\"], [0.8888888888888888, \"#fdca26\"], [1.0, \"#f0f921\"]], \"type\": \"surface\"}], \"table\": [{\"cells\": {\"fill\": {\"color\": \"#EBF0F8\"}, \"line\": {\"color\": \"white\"}}, \"header\": {\"fill\": {\"color\": \"#C8D4E3\"}, \"line\": {\"color\": \"white\"}}, \"type\": \"table\"}]}, \"layout\": {\"annotationdefaults\": {\"arrowcolor\": \"#2a3f5f\", \"arrowhead\": 0, \"arrowwidth\": 1}, \"coloraxis\": {\"colorbar\": {\"outlinewidth\": 0, \"ticks\": \"\"}}, \"colorscale\": {\"diverging\": [[0, \"#8e0152\"], [0.1, \"#c51b7d\"], [0.2, \"#de77ae\"], [0.3, \"#f1b6da\"], [0.4, \"#fde0ef\"], [0.5, \"#f7f7f7\"], [0.6, \"#e6f5d0\"], [0.7, \"#b8e186\"], [0.8, \"#7fbc41\"], [0.9, \"#4d9221\"], [1, \"#276419\"]], \"sequential\": [[0.0, \"#0d0887\"], [0.1111111111111111, \"#46039f\"], [0.2222222222222222, \"#7201a8\"], [0.3333333333333333, \"#9c179e\"], [0.4444444444444444, \"#bd3786\"], [0.5555555555555556, \"#d8576b\"], [0.6666666666666666, \"#ed7953\"], [0.7777777777777778, \"#fb9f3a\"], [0.8888888888888888, \"#fdca26\"], [1.0, \"#f0f921\"]], \"sequentialminus\": [[0.0, \"#0d0887\"], [0.1111111111111111, \"#46039f\"], [0.2222222222222222, \"#7201a8\"], [0.3333333333333333, \"#9c179e\"], [0.4444444444444444, \"#bd3786\"], [0.5555555555555556, \"#d8576b\"], [0.6666666666666666, \"#ed7953\"], [0.7777777777777778, \"#fb9f3a\"], [0.8888888888888888, \"#fdca26\"], [1.0, \"#f0f921\"]]}, \"colorway\": [\"#636efa\", \"#EF553B\", \"#00cc96\", \"#ab63fa\", \"#FFA15A\", \"#19d3f3\", \"#FF6692\", \"#B6E880\", \"#FF97FF\", \"#FECB52\"], \"font\": {\"color\": \"#2a3f5f\"}, \"geo\": {\"bgcolor\": \"white\", \"lakecolor\": \"white\", \"landcolor\": \"#E5ECF6\", \"showlakes\": true, \"showland\": true, \"subunitcolor\": \"white\"}, \"hoverlabel\": {\"align\": \"left\"}, \"hovermode\": \"closest\", \"mapbox\": {\"style\": \"light\"}, \"paper_bgcolor\": \"white\", \"plot_bgcolor\": \"#E5ECF6\", \"polar\": {\"angularaxis\": {\"gridcolor\": \"white\", \"linecolor\": \"white\", \"ticks\": \"\"}, \"bgcolor\": \"#E5ECF6\", \"radialaxis\": {\"gridcolor\": \"white\", \"linecolor\": \"white\", \"ticks\": \"\"}}, \"scene\": {\"xaxis\": {\"backgroundcolor\": \"#E5ECF6\", \"gridcolor\": \"white\", \"gridwidth\": 2, \"linecolor\": \"white\", \"showbackground\": true, \"ticks\": \"\", \"zerolinecolor\": \"white\"}, \"yaxis\": {\"backgroundcolor\": \"#E5ECF6\", \"gridcolor\": \"white\", \"gridwidth\": 2, \"linecolor\": \"white\", \"showbackground\": true, \"ticks\": \"\", \"zerolinecolor\": \"white\"}, \"zaxis\": {\"backgroundcolor\": \"#E5ECF6\", \"gridcolor\": \"white\", \"gridwidth\": 2, \"linecolor\": \"white\", \"showbackground\": true, \"ticks\": \"\", \"zerolinecolor\": \"white\"}}, \"shapedefaults\": {\"line\": {\"color\": \"#2a3f5f\"}}, \"ternary\": {\"aaxis\": {\"gridcolor\": \"white\", \"linecolor\": \"white\", \"ticks\": \"\"}, \"baxis\": {\"gridcolor\": \"white\", \"linecolor\": \"white\", \"ticks\": \"\"}, \"bgcolor\": \"#E5ECF6\", \"caxis\": {\"gridcolor\": \"white\", \"linecolor\": \"white\", \"ticks\": \"\"}}, \"title\": {\"x\": 0.05}, \"xaxis\": {\"automargin\": true, \"gridcolor\": \"white\", \"linecolor\": \"white\", \"ticks\": \"\", \"title\": {\"standoff\": 15}, \"zerolinecolor\": \"white\", \"zerolinewidth\": 2}, \"yaxis\": {\"automargin\": true, \"gridcolor\": \"white\", \"linecolor\": \"white\", \"ticks\": \"\", \"title\": {\"standoff\": 15}, \"zerolinecolor\": \"white\", \"zerolinewidth\": 2}}}, \"title\": {\"text\": \"$\\\\text{Velocity Estimate Error}$\", \"x\": 0.48, \"xanchor\": \"center\", \"y\": 0.9, \"yanchor\": \"top\"}, \"xaxis\": {\"title\": {\"text\": \"$\\\\text{Time (} s \\\\text{)}$\"}}, \"yaxis\": {\"title\": {\"text\": \"$\\\\text{Velocity Error (} m/s \\\\text{)}$\"}}},\n",
       "                        {\"responsive\": true}\n",
       "                    ).then(function(){\n",
       "                            \n",
       "var gd = document.getElementById('509c3584-7d60-4b7a-b665-8f342c24ca45');\n",
       "var x = new MutationObserver(function (mutations, observer) {{\n",
       "        var display = window.getComputedStyle(gd).display;\n",
       "        if (!display || display === 'none') {{\n",
       "            console.log([gd, 'removed!']);\n",
       "            Plotly.purge(gd);\n",
       "            observer.disconnect();\n",
       "        }}\n",
       "}});\n",
       "\n",
       "// Listen for the removal of the full notebook cells\n",
       "var notebookContainer = gd.closest('#notebook-container');\n",
       "if (notebookContainer) {{\n",
       "    x.observe(notebookContainer, {childList: true});\n",
       "}}\n",
       "\n",
       "// Listen for the clearing of the current output cell\n",
       "var outputEl = gd.closest('.output');\n",
       "if (outputEl) {{\n",
       "    x.observe(outputEl, {childList: true});\n",
       "}}\n",
       "\n",
       "                        })\n",
       "                };\n",
       "                });\n",
       "            </script>\n",
       "        </div>"
      ]
     },
     "metadata": {},
     "output_type": "display_data"
    }
   ],
   "source": [
    "pclist, vclist, ptruelist, vtruelist, b_a_true, dxlist, Pklist, Klist, resvec, dxtruelist = monte_carlo_run(verbose=True)\n",
    "\n",
    "# position vectors\n",
    "posest = [dxlist[i][0,0] + pclist[i] for i in range(len(dxlist))]\n",
    "pos_error = [ptruelist[i] - posest[i] for i in range(len(pclist))]\n",
    "pos_std = [np.sqrt(Pklist[i][0,0]) for i in range(len(Pklist))]\n",
    "pos_sigma_plus = [posest[i] + pos_std[i] for i in range(len(posest))]\n",
    "pos_sigma_minus = [posest[i] - pos_std[i] for i in range(len(posest))]\n",
    "\n",
    "# velocity vectors\n",
    "velest = [dxlist[i][1,0] + vclist[i] for i in range(len(dxlist))]\n",
    "vel_error = [vtruelist[i] - velest[i] for i in range(len(vclist))]\n",
    "vel_std = [np.sqrt(Pklist[i][1,1]) for i in range(len(Pklist))]\n",
    "vel_sigma_plus = [velest[i] + vel_std[i] for i in range(len(velest))]\n",
    "vel_sigma_minus = [velest[i] - vel_std[i] for i in range(len(velest))]\n",
    "\n",
    "# bias vectors\n",
    "biasest = [dxlist[i][2,0] for i in range(len(dxlist))]\n",
    "bias_error = [biasest[i] - b_a_true for i in range(len(dxlist))]\n",
    "bias_std = [np.sqrt(Pklist[i][2,2]) for i in range(len(Pklist))]\n",
    "bias_sigma_plus = [biasest[i] + bias_std[i] for i in range(len(biasest))]\n",
    "bias_sigma_minus = [biasest[i] - bias_std[i] for i in range(len(biasest))]\n",
    "\n",
    "\n",
    "# Bias plot\n",
    "fig = go.Figure()\n",
    "fig.add_trace(go.Scatter(x=t_kf, y=biasest, name=\"Estimated bias\"))\n",
    "fig.add_trace(go.Scatter(x=t_kf, y=bias_sigma_plus, name=\"$+ \\sigma$\", line=dict(color='green', width=1, dash='dash')))\n",
    "fig.add_trace(go.Scatter(x=t_kf, y=bias_sigma_minus, name=\"$-\\sigma$\", line=dict(color='firebrick', width=1, dash='dash')))\n",
    "fig.add_trace(go.Scatter(x=t_kf, y=[b_a_true for i in range(len(dxlist))], name=\"True bias\"))\n",
    "fig.update_layout(title={'text':r\"$\\text{True Bias vs. Estimated Bias}$\",'xanchor':'center','yanchor':'top','y':0.9,'x':0.48}, xaxis_title=r\"$\\text{Time (} s \\text{)}$\", yaxis_title=r\"$\\text{Bias (}m/s^2 \\text{)}$)\")\n",
    "fig.show()\n",
    "\n",
    "# Bias error plot\n",
    "figb = go.Figure()\n",
    "figb.add_trace(go.Scatter(x=t_kf, y=bias_error, name=\"Bias Error\"))\n",
    "figb.update_layout(title={'text':r\"$\\text{Bias Error}$\",'xanchor':'center','yanchor':'top','y':0.9,'x':0.48}, xaxis_title=r\"$\\text{Time (} s \\text{)}$\", yaxis_title=r\"$\\text{Bias Error (} m/s^2 \\text)$\")\n",
    "figb.show()\n",
    "\n",
    "\n",
    "# fig2 = go.Figure()\n",
    "# fig2.add_trace(go.Scatter(x=t_kf, y=ptruelist, name=\"True Position\"))\n",
    "# # fig2.add_trace(go.Scatter(x=tlist, y=ptruelist, name=\"True Position\"))\n",
    "# fig2.add_trace(go.Scatter(x=t_kf, y=pclist, name=\"Computed Position\"))\n",
    "# fig2.update_layout(title={'text':\"True Position vs. Computed Position\",'xanchor':'center','yanchor':'top','y':0.9,'x':0.48}, xaxis_title=\"Time (sec)\", yaxis_title=\"Position (m)\")\n",
    "# fig2.show()\n",
    "\n",
    "fig2b = go.Figure()\n",
    "fig2b.add_trace(go.Scatter(x=t_kf, y=ptruelist, name=\"True Position\", line=dict(width=4)))\n",
    "fig2b.add_trace(go.Scatter(x=t_kf, y=posest, name=\"Estimated Position\"))\n",
    "fig2b.add_trace(go.Scatter(x=t_kf, y=pos_sigma_plus, name=\"$+ \\sigma$\", line=dict(color='green', width=1, dash='dash')))\n",
    "fig2b.add_trace(go.Scatter(x=t_kf, y=pos_sigma_minus, name=\"$-\\sigma$\", line=dict(color='firebrick', width=1, dash='dash')))\n",
    "fig2b.update_layout(title={'text':r\"$\\text{True Position vs. Estimated Position}$\",'xanchor':'center','yanchor':'top','y':0.9,'x':0.48}, xaxis_title=r\"$\\text{Time (} s \\text{)}$\", yaxis_title=r\"$\\text{Position (} m \\text{)}$\")\n",
    "fig2b.show()\n",
    "\n",
    "fig3 = go.Figure()\n",
    "fig3.add_trace(go.Scatter(x=t_kf, y=pos_error, name=\"Position Estimate Error\"))\n",
    "fig3.update_layout(title={'text':r\"$\\text{Position Estimate Error}$\",'xanchor':'center','yanchor':'top','y':0.9,'x':0.48}, xaxis_title=r\"$\\text{Time (} s \\text{)}$\", yaxis_title=r\"$\\text{Position Error (} m \\text{)}$\")\n",
    "fig3.show()\n",
    "\n",
    "fig4a = go.Figure()\n",
    "fig4a.add_trace(go.Scatter(x=t_kf, y=velest, name=\"Estimated Velocity\", line=dict(width=4)))\n",
    "fig4a.add_trace(go.Scatter(x=t_kf, y=vtruelist, name=\"True Velocity\"))\n",
    "fig4a.add_trace(go.Scatter(x=t_kf, y=vel_sigma_plus, name=\"$+ \\sigma$\", line=dict(color='green', width=1, dash='dash')))\n",
    "fig4a.add_trace(go.Scatter(x=t_kf, y=vel_sigma_minus, name=\"$-\\sigma$\", line=dict(color='firebrick', width=1, dash='dash')))\n",
    "fig4a.update_layout(title={'text':r\"$\\text{True Velocity vs. Estimated Velocity}$\",'xanchor':'center','yanchor':'top','y':0.9,'x':0.48}, xaxis_title=r\"$\\text{Time (} s \\text{)}$\", yaxis_title=r\"$\\text{Velocity Error (} m/s \\text{)}$\")\n",
    "fig4a.show()\n",
    "\n",
    "fig4 = go.Figure()\n",
    "fig4.add_trace(go.Scatter(x=t_kf, y=vel_error, name=\"Velocity Estimate Error\"))\n",
    "fig4.update_layout(title={'text':r\"$\\text{Velocity Estimate Error}$\",'xanchor':'center','yanchor':'top','y':0.9,'x':0.48}, xaxis_title=r\"$\\text{Time (} s \\text{)}$\", yaxis_title=r\"$\\text{Velocity Error (} m/s \\text{)}$\")\n",
    "fig4.show()"
   ]
  },
  {
   "cell_type": "code",
   "execution_count": null,
   "metadata": {},
   "outputs": [],
   "source": [
    "Pklist[-1]"
   ]
  },
  {
   "cell_type": "code",
   "execution_count": null,
   "metadata": {},
   "outputs": [],
   "source": [
    "Klist[-1]"
   ]
  },
  {
   "cell_type": "code",
   "execution_count": 138,
   "metadata": {},
   "outputs": [],
   "source": [
    "def MonteCarloSim(l):\n",
    "    # initialize vector of errors\n",
    "    e = np.zeros((l, kf_steps, 3))\n",
    "    # initialize vector of average errors\n",
    "    eave = np.zeros((kf_steps, 3))\n",
    "    # initialize the actual error variance\n",
    "    Pave = np.zeros((kf_steps, 3, 3))\n",
    "    # initialize the orthogonaltiy check matrix\n",
    "    omat = np.zeros((kf_steps, 3, 3))\n",
    "    # initialize the matrix of residuals\n",
    "    resmat = np.zeros((l, kf_steps, 2))\n",
    "    # initialize the matrix of residual correlation\n",
    "    rescor = np.zeros((2, 2))\n",
    "    # initialize m and q, the residual indices to check\n",
    "    m = 100\n",
    "    q = 101\n",
    "    # initialize the matrix of states\n",
    "    states = np.zeros((l, kf_steps, 3))\n",
    "    # initialize the matrix of predicted pos, vel, bias\n",
    "    xhat = np.zeros((l, kf_steps, 3))\n",
    "    \n",
    "    # run the MC sim to collect the errors, states, residuals\n",
    "    for i in range(l):\n",
    "        pclist, vclist, ptruelist, vtruelist, b_a_true, dxlist, Pklist, Klist, resvec, dxtruelist  = monte_carlo_run(verbose=False)\n",
    "        e[i,:,:] = (np.array(dxtruelist) - np.array(dxlist)).squeeze()\n",
    "        states[i,:,:] = np.array(dxlist).squeeze()\n",
    "        resmat[i,:,:] = np.array(resvec).squeeze()\n",
    "        xhat[i,:,0] = np.array([dxlist[j][0,0] + pclist[j] for j in range(kf_steps)])\n",
    "        xhat[i,:,1] = np.array([dxlist[j][1,0] + vclist[j] for j in range(kf_steps)])\n",
    "        xhat[i,:,2] = np.array([dxlist[j][2,0] for j in range(kf_steps)])\n",
    "    \n",
    "    # calculate the average error\n",
    "    eave = np.sum(e, axis=0) * 1.0/l\n",
    "    \n",
    "    # calculate the average covariance and orthogonality check matrices\n",
    "    for t in range(kf_steps):\n",
    "        for i in range(l):\n",
    "            # covariance\n",
    "            diffvec = np.reshape(e[i,t,:]-eave[t], (3,1))\n",
    "            Pave[t,:,:] += np.dot(diffvec,np.transpose(diffvec))\n",
    "            \n",
    "            # orthogonality\n",
    "            omat[t,:,:] += np.dot(diffvec, np.reshape(xhat[i,t,:], (1,3)))\n",
    "            \n",
    "    # scale the covariance data\n",
    "    Pave[:,:,:] *= 1.0/(l-1)\n",
    "    omat *= 1.0/l\n",
    "    \n",
    "    # calculate the ensemble average correlation of the residuals\n",
    "\n",
    "    \n",
    "    for i in range(l):\n",
    "        rescor += np.dot(np.reshape(resmat[i,m,:], (2,1)),np.reshape(resmat[i,q,:], (1,2)))\n",
    "    rescor *= 1.0/l\n",
    "    \n",
    "    # return the average error vector, \n",
    "    # average covariance Pave, \n",
    "    # and orthogonality matrix omat\n",
    "    return eave, Pave, omat, xhat, rescor\n",
    "    \n",
    "        "
   ]
  },
  {
   "cell_type": "code",
   "execution_count": 140,
   "metadata": {
    "scrolled": true
   },
   "outputs": [],
   "source": [
    "eave, pave, omat, xhat, rescor = MonteCarloSim(10000)\n"
   ]
  },
  {
   "cell_type": "markdown",
   "metadata": {},
   "source": [
    "## Error Plots"
   ]
  },
  {
   "cell_type": "code",
   "execution_count": 166,
   "metadata": {},
   "outputs": [
    {
     "data": {
      "application/vnd.plotly.v1+json": {
       "config": {
        "plotlyServerURL": "https://plot.ly"
       },
       "data": [
        {
         "line": {
          "width": 4
         },
         "name": "X Error",
         "type": "scatter",
         "x": [
          0,
          0.2,
          0.4,
          0.6000000000000001,
          0.8,
          1,
          1.2000000000000002,
          1.4000000000000001,
          1.6,
          1.8,
          2,
          2.2,
          2.4000000000000004,
          2.6,
          2.8000000000000003,
          3,
          3.2,
          3.4000000000000004,
          3.6,
          3.8000000000000003,
          4,
          4.2,
          4.4,
          4.6000000000000005,
          4.800000000000001,
          5,
          5.2,
          5.4,
          5.6000000000000005,
          5.800000000000001,
          6,
          6.2,
          6.4,
          6.6000000000000005,
          6.800000000000001,
          7,
          7.2,
          7.4,
          7.6000000000000005,
          7.800000000000001,
          8,
          8.200000000000001,
          8.4,
          8.6,
          8.8,
          9,
          9.200000000000001,
          9.4,
          9.600000000000001,
          9.8,
          10,
          10.200000000000001,
          10.4,
          10.600000000000001,
          10.8,
          11,
          11.200000000000001,
          11.4,
          11.600000000000001,
          11.8,
          12,
          12.200000000000001,
          12.4,
          12.600000000000001,
          12.8,
          13,
          13.200000000000001,
          13.4,
          13.600000000000001,
          13.8,
          14,
          14.200000000000001,
          14.4,
          14.600000000000001,
          14.8,
          15,
          15.200000000000001,
          15.4,
          15.600000000000001,
          15.8,
          16,
          16.2,
          16.400000000000002,
          16.6,
          16.8,
          17,
          17.2,
          17.400000000000002,
          17.6,
          17.8,
          18,
          18.2,
          18.400000000000002,
          18.6,
          18.8,
          19,
          19.200000000000003,
          19.400000000000002,
          19.6,
          19.8,
          20,
          20.200000000000003,
          20.400000000000002,
          20.6,
          20.8,
          21,
          21.200000000000003,
          21.400000000000002,
          21.6,
          21.8,
          22,
          22.200000000000003,
          22.400000000000002,
          22.6,
          22.8,
          23,
          23.200000000000003,
          23.400000000000002,
          23.6,
          23.8,
          24,
          24.200000000000003,
          24.400000000000002,
          24.6,
          24.8,
          25,
          25.200000000000003,
          25.400000000000002,
          25.6,
          25.8,
          26,
          26.200000000000003,
          26.400000000000002,
          26.6,
          26.8,
          27,
          27.200000000000003,
          27.400000000000002,
          27.6,
          27.8,
          28,
          28.200000000000003,
          28.400000000000002,
          28.6,
          28.8,
          29,
          29.200000000000003,
          29.400000000000002,
          29.6,
          29.8,
          30
         ],
         "y": [
          -0.0004720637898197785,
          0.007475402651604781,
          0.00388788935622849,
          0.0028895470871877324,
          0.001557300633412009,
          0.0010438482518035019,
          0.001780856273382911,
          0.004049469737199998,
          0.0007017085517682823,
          -0.0005188975537864993,
          -0.000594666483537229,
          -0.0002835057388431122,
          0.00034659399804811076,
          0.000779785196534259,
          -0.00019735868312268718,
          0.000776358432445781,
          -0.00012856255329594796,
          0.000568759255638084,
          0.001067973309011066,
          0.0014125718676731719,
          0.0010573181293691398,
          0.0008721063013229727,
          0.0012761095254060606,
          0.001617756647970274,
          0.0018500646661950891,
          0.002284697699225601,
          0.0025692238511754893,
          0.0020840571567957177,
          0.002444259874906616,
          0.002021207520894866,
          0.002485719913602292,
          0.002028960276248325,
          0.002132602209532377,
          0.001936477864832613,
          0.0022600207206814253,
          0.0019731833186216216,
          0.0017689312520111535,
          0.0017999096254645878,
          0.0019644307622066017,
          0.0017425735481494294,
          0.0016872258426514385,
          0.0012699567341770775,
          0.0014984596063421978,
          0.0016125571539973556,
          0.0018072341617897919,
          0.001783170115286731,
          0.0019414754669703045,
          0.0018737797326394982,
          0.0019262684321492039,
          0.002246557334336247,
          0.001990744909920119,
          0.0020154633774334494,
          0.0023753519578446187,
          0.0025428303634863723,
          0.0024368450408260834,
          0.0025467461094135823,
          0.002272187152366577,
          0.00221175812897082,
          0.0022986036005037524,
          0.0021660756044162765,
          0.0023365533933752134,
          0.002518128693990851,
          0.0024595939291178885,
          0.002375457854351468,
          0.00225402732387514,
          0.001880994953850756,
          0.001806272348640869,
          0.0018291384127008886,
          0.0015429931272621451,
          0.001607929599871307,
          0.001616104712511835,
          0.001521334605904146,
          0.0011247978699617475,
          0.0012886071000320382,
          0.0008288282315163441,
          0.001203825493836167,
          0.0011801239653459088,
          0.0009395846901455295,
          0.0009780594533577928,
          0.0010855542603592418,
          0.0010603461451023659,
          0.0009886682626348926,
          0.0009073013226739822,
          0.0008012549788468414,
          0.0006428362513907499,
          0.0008220201288460334,
          0.0007922725127093692,
          0.0006043499447463764,
          0.0006100492680256299,
          0.0007656522092224845,
          0.0009748532345658299,
          0.0011847502296293082,
          0.001216904276259683,
          0.0012608626653132654,
          0.0013667444822578073,
          0.0015228971319685735,
          0.0012959977773344224,
          0.0011859056526251541,
          0.000972076583526559,
          0.0010574929260889585,
          0.0011258959923461243,
          0.0013244070560609706,
          0.0012650353266172715,
          0.0011361835878996552,
          0.0011067091519260735,
          0.00122780914320646,
          0.0010732117553547947,
          0.0011360770318724882,
          0.0014832000469165805,
          0.0016360631847121667,
          0.0017130033295310145,
          0.0017401599675203798,
          0.001618945996418968,
          0.0016110969018672623,
          0.0016480302333168925,
          0.0016309042333888474,
          0.0015656786528158054,
          0.0014450949755152023,
          0.0015469095194076588,
          0.0014151566329290268,
          0.0013164602782692767,
          0.0013732191048394628,
          0.0015355333280622462,
          0.0015758811484904787,
          0.0015404687212716927,
          0.0018128212121090667,
          0.0017433659051748433,
          0.0018122893556482187,
          0.0018791099463026718,
          0.001967778695463919,
          0.0017654047134823532,
          0.0017037593012236257,
          0.0015988292590614758,
          0.0015669711277919408,
          0.0013314786226208337,
          0.0011798977457218595,
          0.000849421866534496,
          0.0008880771011391536,
          0.0008470679356669128,
          0.0008912258820483968,
          0.0008747383689633507,
          0.0005882013468217493,
          0.0005805780787477378,
          0.000882713636283019,
          0.0007853632950658845,
          0.0007852479924842493,
          0.0007547924815872913,
          0.0008174884976415198,
          0.0007083204591455774,
          0.0009346775294423706,
          0.001002764392505686
         ]
        }
       ],
       "layout": {
        "template": {
         "data": {
          "bar": [
           {
            "error_x": {
             "color": "#2a3f5f"
            },
            "error_y": {
             "color": "#2a3f5f"
            },
            "marker": {
             "line": {
              "color": "#E5ECF6",
              "width": 0.5
             }
            },
            "type": "bar"
           }
          ],
          "barpolar": [
           {
            "marker": {
             "line": {
              "color": "#E5ECF6",
              "width": 0.5
             }
            },
            "type": "barpolar"
           }
          ],
          "carpet": [
           {
            "aaxis": {
             "endlinecolor": "#2a3f5f",
             "gridcolor": "white",
             "linecolor": "white",
             "minorgridcolor": "white",
             "startlinecolor": "#2a3f5f"
            },
            "baxis": {
             "endlinecolor": "#2a3f5f",
             "gridcolor": "white",
             "linecolor": "white",
             "minorgridcolor": "white",
             "startlinecolor": "#2a3f5f"
            },
            "type": "carpet"
           }
          ],
          "choropleth": [
           {
            "colorbar": {
             "outlinewidth": 0,
             "ticks": ""
            },
            "type": "choropleth"
           }
          ],
          "contour": [
           {
            "colorbar": {
             "outlinewidth": 0,
             "ticks": ""
            },
            "colorscale": [
             [
              0,
              "#0d0887"
             ],
             [
              0.1111111111111111,
              "#46039f"
             ],
             [
              0.2222222222222222,
              "#7201a8"
             ],
             [
              0.3333333333333333,
              "#9c179e"
             ],
             [
              0.4444444444444444,
              "#bd3786"
             ],
             [
              0.5555555555555556,
              "#d8576b"
             ],
             [
              0.6666666666666666,
              "#ed7953"
             ],
             [
              0.7777777777777778,
              "#fb9f3a"
             ],
             [
              0.8888888888888888,
              "#fdca26"
             ],
             [
              1,
              "#f0f921"
             ]
            ],
            "type": "contour"
           }
          ],
          "contourcarpet": [
           {
            "colorbar": {
             "outlinewidth": 0,
             "ticks": ""
            },
            "type": "contourcarpet"
           }
          ],
          "heatmap": [
           {
            "colorbar": {
             "outlinewidth": 0,
             "ticks": ""
            },
            "colorscale": [
             [
              0,
              "#0d0887"
             ],
             [
              0.1111111111111111,
              "#46039f"
             ],
             [
              0.2222222222222222,
              "#7201a8"
             ],
             [
              0.3333333333333333,
              "#9c179e"
             ],
             [
              0.4444444444444444,
              "#bd3786"
             ],
             [
              0.5555555555555556,
              "#d8576b"
             ],
             [
              0.6666666666666666,
              "#ed7953"
             ],
             [
              0.7777777777777778,
              "#fb9f3a"
             ],
             [
              0.8888888888888888,
              "#fdca26"
             ],
             [
              1,
              "#f0f921"
             ]
            ],
            "type": "heatmap"
           }
          ],
          "heatmapgl": [
           {
            "colorbar": {
             "outlinewidth": 0,
             "ticks": ""
            },
            "colorscale": [
             [
              0,
              "#0d0887"
             ],
             [
              0.1111111111111111,
              "#46039f"
             ],
             [
              0.2222222222222222,
              "#7201a8"
             ],
             [
              0.3333333333333333,
              "#9c179e"
             ],
             [
              0.4444444444444444,
              "#bd3786"
             ],
             [
              0.5555555555555556,
              "#d8576b"
             ],
             [
              0.6666666666666666,
              "#ed7953"
             ],
             [
              0.7777777777777778,
              "#fb9f3a"
             ],
             [
              0.8888888888888888,
              "#fdca26"
             ],
             [
              1,
              "#f0f921"
             ]
            ],
            "type": "heatmapgl"
           }
          ],
          "histogram": [
           {
            "marker": {
             "colorbar": {
              "outlinewidth": 0,
              "ticks": ""
             }
            },
            "type": "histogram"
           }
          ],
          "histogram2d": [
           {
            "colorbar": {
             "outlinewidth": 0,
             "ticks": ""
            },
            "colorscale": [
             [
              0,
              "#0d0887"
             ],
             [
              0.1111111111111111,
              "#46039f"
             ],
             [
              0.2222222222222222,
              "#7201a8"
             ],
             [
              0.3333333333333333,
              "#9c179e"
             ],
             [
              0.4444444444444444,
              "#bd3786"
             ],
             [
              0.5555555555555556,
              "#d8576b"
             ],
             [
              0.6666666666666666,
              "#ed7953"
             ],
             [
              0.7777777777777778,
              "#fb9f3a"
             ],
             [
              0.8888888888888888,
              "#fdca26"
             ],
             [
              1,
              "#f0f921"
             ]
            ],
            "type": "histogram2d"
           }
          ],
          "histogram2dcontour": [
           {
            "colorbar": {
             "outlinewidth": 0,
             "ticks": ""
            },
            "colorscale": [
             [
              0,
              "#0d0887"
             ],
             [
              0.1111111111111111,
              "#46039f"
             ],
             [
              0.2222222222222222,
              "#7201a8"
             ],
             [
              0.3333333333333333,
              "#9c179e"
             ],
             [
              0.4444444444444444,
              "#bd3786"
             ],
             [
              0.5555555555555556,
              "#d8576b"
             ],
             [
              0.6666666666666666,
              "#ed7953"
             ],
             [
              0.7777777777777778,
              "#fb9f3a"
             ],
             [
              0.8888888888888888,
              "#fdca26"
             ],
             [
              1,
              "#f0f921"
             ]
            ],
            "type": "histogram2dcontour"
           }
          ],
          "mesh3d": [
           {
            "colorbar": {
             "outlinewidth": 0,
             "ticks": ""
            },
            "type": "mesh3d"
           }
          ],
          "parcoords": [
           {
            "line": {
             "colorbar": {
              "outlinewidth": 0,
              "ticks": ""
             }
            },
            "type": "parcoords"
           }
          ],
          "pie": [
           {
            "automargin": true,
            "type": "pie"
           }
          ],
          "scatter": [
           {
            "marker": {
             "colorbar": {
              "outlinewidth": 0,
              "ticks": ""
             }
            },
            "type": "scatter"
           }
          ],
          "scatter3d": [
           {
            "line": {
             "colorbar": {
              "outlinewidth": 0,
              "ticks": ""
             }
            },
            "marker": {
             "colorbar": {
              "outlinewidth": 0,
              "ticks": ""
             }
            },
            "type": "scatter3d"
           }
          ],
          "scattercarpet": [
           {
            "marker": {
             "colorbar": {
              "outlinewidth": 0,
              "ticks": ""
             }
            },
            "type": "scattercarpet"
           }
          ],
          "scattergeo": [
           {
            "marker": {
             "colorbar": {
              "outlinewidth": 0,
              "ticks": ""
             }
            },
            "type": "scattergeo"
           }
          ],
          "scattergl": [
           {
            "marker": {
             "colorbar": {
              "outlinewidth": 0,
              "ticks": ""
             }
            },
            "type": "scattergl"
           }
          ],
          "scattermapbox": [
           {
            "marker": {
             "colorbar": {
              "outlinewidth": 0,
              "ticks": ""
             }
            },
            "type": "scattermapbox"
           }
          ],
          "scatterpolar": [
           {
            "marker": {
             "colorbar": {
              "outlinewidth": 0,
              "ticks": ""
             }
            },
            "type": "scatterpolar"
           }
          ],
          "scatterpolargl": [
           {
            "marker": {
             "colorbar": {
              "outlinewidth": 0,
              "ticks": ""
             }
            },
            "type": "scatterpolargl"
           }
          ],
          "scatterternary": [
           {
            "marker": {
             "colorbar": {
              "outlinewidth": 0,
              "ticks": ""
             }
            },
            "type": "scatterternary"
           }
          ],
          "surface": [
           {
            "colorbar": {
             "outlinewidth": 0,
             "ticks": ""
            },
            "colorscale": [
             [
              0,
              "#0d0887"
             ],
             [
              0.1111111111111111,
              "#46039f"
             ],
             [
              0.2222222222222222,
              "#7201a8"
             ],
             [
              0.3333333333333333,
              "#9c179e"
             ],
             [
              0.4444444444444444,
              "#bd3786"
             ],
             [
              0.5555555555555556,
              "#d8576b"
             ],
             [
              0.6666666666666666,
              "#ed7953"
             ],
             [
              0.7777777777777778,
              "#fb9f3a"
             ],
             [
              0.8888888888888888,
              "#fdca26"
             ],
             [
              1,
              "#f0f921"
             ]
            ],
            "type": "surface"
           }
          ],
          "table": [
           {
            "cells": {
             "fill": {
              "color": "#EBF0F8"
             },
             "line": {
              "color": "white"
             }
            },
            "header": {
             "fill": {
              "color": "#C8D4E3"
             },
             "line": {
              "color": "white"
             }
            },
            "type": "table"
           }
          ]
         },
         "layout": {
          "annotationdefaults": {
           "arrowcolor": "#2a3f5f",
           "arrowhead": 0,
           "arrowwidth": 1
          },
          "coloraxis": {
           "colorbar": {
            "outlinewidth": 0,
            "ticks": ""
           }
          },
          "colorscale": {
           "diverging": [
            [
             0,
             "#8e0152"
            ],
            [
             0.1,
             "#c51b7d"
            ],
            [
             0.2,
             "#de77ae"
            ],
            [
             0.3,
             "#f1b6da"
            ],
            [
             0.4,
             "#fde0ef"
            ],
            [
             0.5,
             "#f7f7f7"
            ],
            [
             0.6,
             "#e6f5d0"
            ],
            [
             0.7,
             "#b8e186"
            ],
            [
             0.8,
             "#7fbc41"
            ],
            [
             0.9,
             "#4d9221"
            ],
            [
             1,
             "#276419"
            ]
           ],
           "sequential": [
            [
             0,
             "#0d0887"
            ],
            [
             0.1111111111111111,
             "#46039f"
            ],
            [
             0.2222222222222222,
             "#7201a8"
            ],
            [
             0.3333333333333333,
             "#9c179e"
            ],
            [
             0.4444444444444444,
             "#bd3786"
            ],
            [
             0.5555555555555556,
             "#d8576b"
            ],
            [
             0.6666666666666666,
             "#ed7953"
            ],
            [
             0.7777777777777778,
             "#fb9f3a"
            ],
            [
             0.8888888888888888,
             "#fdca26"
            ],
            [
             1,
             "#f0f921"
            ]
           ],
           "sequentialminus": [
            [
             0,
             "#0d0887"
            ],
            [
             0.1111111111111111,
             "#46039f"
            ],
            [
             0.2222222222222222,
             "#7201a8"
            ],
            [
             0.3333333333333333,
             "#9c179e"
            ],
            [
             0.4444444444444444,
             "#bd3786"
            ],
            [
             0.5555555555555556,
             "#d8576b"
            ],
            [
             0.6666666666666666,
             "#ed7953"
            ],
            [
             0.7777777777777778,
             "#fb9f3a"
            ],
            [
             0.8888888888888888,
             "#fdca26"
            ],
            [
             1,
             "#f0f921"
            ]
           ]
          },
          "colorway": [
           "#636efa",
           "#EF553B",
           "#00cc96",
           "#ab63fa",
           "#FFA15A",
           "#19d3f3",
           "#FF6692",
           "#B6E880",
           "#FF97FF",
           "#FECB52"
          ],
          "font": {
           "color": "#2a3f5f"
          },
          "geo": {
           "bgcolor": "white",
           "lakecolor": "white",
           "landcolor": "#E5ECF6",
           "showlakes": true,
           "showland": true,
           "subunitcolor": "white"
          },
          "hoverlabel": {
           "align": "left"
          },
          "hovermode": "closest",
          "mapbox": {
           "style": "light"
          },
          "paper_bgcolor": "white",
          "plot_bgcolor": "#E5ECF6",
          "polar": {
           "angularaxis": {
            "gridcolor": "white",
            "linecolor": "white",
            "ticks": ""
           },
           "bgcolor": "#E5ECF6",
           "radialaxis": {
            "gridcolor": "white",
            "linecolor": "white",
            "ticks": ""
           }
          },
          "scene": {
           "xaxis": {
            "backgroundcolor": "#E5ECF6",
            "gridcolor": "white",
            "gridwidth": 2,
            "linecolor": "white",
            "showbackground": true,
            "ticks": "",
            "zerolinecolor": "white"
           },
           "yaxis": {
            "backgroundcolor": "#E5ECF6",
            "gridcolor": "white",
            "gridwidth": 2,
            "linecolor": "white",
            "showbackground": true,
            "ticks": "",
            "zerolinecolor": "white"
           },
           "zaxis": {
            "backgroundcolor": "#E5ECF6",
            "gridcolor": "white",
            "gridwidth": 2,
            "linecolor": "white",
            "showbackground": true,
            "ticks": "",
            "zerolinecolor": "white"
           }
          },
          "shapedefaults": {
           "line": {
            "color": "#2a3f5f"
           }
          },
          "ternary": {
           "aaxis": {
            "gridcolor": "white",
            "linecolor": "white",
            "ticks": ""
           },
           "baxis": {
            "gridcolor": "white",
            "linecolor": "white",
            "ticks": ""
           },
           "bgcolor": "#E5ECF6",
           "caxis": {
            "gridcolor": "white",
            "linecolor": "white",
            "ticks": ""
           }
          },
          "title": {
           "x": 0.05
          },
          "xaxis": {
           "automargin": true,
           "gridcolor": "white",
           "linecolor": "white",
           "ticks": "",
           "title": {
            "standoff": 15
           },
           "zerolinecolor": "white",
           "zerolinewidth": 2
          },
          "yaxis": {
           "automargin": true,
           "gridcolor": "white",
           "linecolor": "white",
           "ticks": "",
           "title": {
            "standoff": 15
           },
           "zerolinecolor": "white",
           "zerolinewidth": 2
          }
         }
        },
        "title": {
         "text": "$\\text{Average Position Estimate Error over the Monte Carlo Realizations}$",
         "x": 0.48,
         "xanchor": "center",
         "y": 0.9,
         "yanchor": "top"
        },
        "xaxis": {
         "title": {
          "text": "$\\text{Time (} s\\text{)}$"
         }
        },
        "yaxis": {
         "title": {
          "text": "$\\text{Error}$"
         }
        }
       }
      },
      "text/html": [
       "<div>\n",
       "        \n",
       "        \n",
       "            <div id=\"32523f2b-0382-442c-8fbc-dc18f6943cea\" class=\"plotly-graph-div\" style=\"height:525px; width:100%;\"></div>\n",
       "            <script type=\"text/javascript\">\n",
       "                require([\"plotly\"], function(Plotly) {\n",
       "                    window.PLOTLYENV=window.PLOTLYENV || {};\n",
       "                    \n",
       "                if (document.getElementById(\"32523f2b-0382-442c-8fbc-dc18f6943cea\")) {\n",
       "                    Plotly.newPlot(\n",
       "                        '32523f2b-0382-442c-8fbc-dc18f6943cea',\n",
       "                        [{\"line\": {\"width\": 4}, \"name\": \"X Error\", \"type\": \"scatter\", \"x\": [0.0, 0.2, 0.4, 0.6000000000000001, 0.8, 1.0, 1.2000000000000002, 1.4000000000000001, 1.6, 1.8, 2.0, 2.2, 2.4000000000000004, 2.6, 2.8000000000000003, 3.0, 3.2, 3.4000000000000004, 3.6, 3.8000000000000003, 4.0, 4.2, 4.4, 4.6000000000000005, 4.800000000000001, 5.0, 5.2, 5.4, 5.6000000000000005, 5.800000000000001, 6.0, 6.2, 6.4, 6.6000000000000005, 6.800000000000001, 7.0, 7.2, 7.4, 7.6000000000000005, 7.800000000000001, 8.0, 8.200000000000001, 8.4, 8.6, 8.8, 9.0, 9.200000000000001, 9.4, 9.600000000000001, 9.8, 10.0, 10.200000000000001, 10.4, 10.600000000000001, 10.8, 11.0, 11.200000000000001, 11.4, 11.600000000000001, 11.8, 12.0, 12.200000000000001, 12.4, 12.600000000000001, 12.8, 13.0, 13.200000000000001, 13.4, 13.600000000000001, 13.8, 14.0, 14.200000000000001, 14.4, 14.600000000000001, 14.8, 15.0, 15.200000000000001, 15.4, 15.600000000000001, 15.8, 16.0, 16.2, 16.400000000000002, 16.6, 16.8, 17.0, 17.2, 17.400000000000002, 17.6, 17.8, 18.0, 18.2, 18.400000000000002, 18.6, 18.8, 19.0, 19.200000000000003, 19.400000000000002, 19.6, 19.8, 20.0, 20.200000000000003, 20.400000000000002, 20.6, 20.8, 21.0, 21.200000000000003, 21.400000000000002, 21.6, 21.8, 22.0, 22.200000000000003, 22.400000000000002, 22.6, 22.8, 23.0, 23.200000000000003, 23.400000000000002, 23.6, 23.8, 24.0, 24.200000000000003, 24.400000000000002, 24.6, 24.8, 25.0, 25.200000000000003, 25.400000000000002, 25.6, 25.8, 26.0, 26.200000000000003, 26.400000000000002, 26.6, 26.8, 27.0, 27.200000000000003, 27.400000000000002, 27.6, 27.8, 28.0, 28.200000000000003, 28.400000000000002, 28.6, 28.8, 29.0, 29.200000000000003, 29.400000000000002, 29.6, 29.8, 30.0], \"y\": [-0.0004720637898197785, 0.007475402651604781, 0.00388788935622849, 0.0028895470871877324, 0.001557300633412009, 0.0010438482518035019, 0.001780856273382911, 0.004049469737199998, 0.0007017085517682823, -0.0005188975537864993, -0.000594666483537229, -0.0002835057388431122, 0.00034659399804811076, 0.000779785196534259, -0.00019735868312268718, 0.000776358432445781, -0.00012856255329594796, 0.000568759255638084, 0.001067973309011066, 0.0014125718676731719, 0.0010573181293691398, 0.0008721063013229727, 0.0012761095254060606, 0.001617756647970274, 0.0018500646661950891, 0.002284697699225601, 0.0025692238511754893, 0.0020840571567957177, 0.002444259874906616, 0.002021207520894866, 0.002485719913602292, 0.002028960276248325, 0.002132602209532377, 0.001936477864832613, 0.0022600207206814253, 0.0019731833186216216, 0.0017689312520111535, 0.0017999096254645878, 0.0019644307622066017, 0.0017425735481494294, 0.0016872258426514385, 0.0012699567341770775, 0.0014984596063421978, 0.0016125571539973556, 0.0018072341617897919, 0.001783170115286731, 0.0019414754669703045, 0.0018737797326394982, 0.0019262684321492039, 0.002246557334336247, 0.001990744909920119, 0.0020154633774334494, 0.0023753519578446187, 0.0025428303634863723, 0.0024368450408260834, 0.0025467461094135823, 0.002272187152366577, 0.00221175812897082, 0.0022986036005037524, 0.0021660756044162765, 0.0023365533933752134, 0.002518128693990851, 0.0024595939291178885, 0.002375457854351468, 0.00225402732387514, 0.001880994953850756, 0.001806272348640869, 0.0018291384127008886, 0.0015429931272621451, 0.001607929599871307, 0.001616104712511835, 0.001521334605904146, 0.0011247978699617475, 0.0012886071000320382, 0.0008288282315163441, 0.001203825493836167, 0.0011801239653459088, 0.0009395846901455295, 0.0009780594533577928, 0.0010855542603592418, 0.0010603461451023659, 0.0009886682626348926, 0.0009073013226739822, 0.0008012549788468414, 0.0006428362513907499, 0.0008220201288460334, 0.0007922725127093692, 0.0006043499447463764, 0.0006100492680256299, 0.0007656522092224845, 0.0009748532345658299, 0.0011847502296293082, 0.001216904276259683, 0.0012608626653132654, 0.0013667444822578073, 0.0015228971319685735, 0.0012959977773344224, 0.0011859056526251541, 0.000972076583526559, 0.0010574929260889585, 0.0011258959923461243, 0.0013244070560609706, 0.0012650353266172715, 0.0011361835878996552, 0.0011067091519260735, 0.00122780914320646, 0.0010732117553547947, 0.0011360770318724882, 0.0014832000469165805, 0.0016360631847121667, 0.0017130033295310145, 0.0017401599675203798, 0.001618945996418968, 0.0016110969018672623, 0.0016480302333168925, 0.0016309042333888474, 0.0015656786528158054, 0.0014450949755152023, 0.0015469095194076588, 0.0014151566329290268, 0.0013164602782692767, 0.0013732191048394628, 0.0015355333280622462, 0.0015758811484904787, 0.0015404687212716927, 0.0018128212121090667, 0.0017433659051748433, 0.0018122893556482187, 0.0018791099463026718, 0.001967778695463919, 0.0017654047134823532, 0.0017037593012236257, 0.0015988292590614758, 0.0015669711277919408, 0.0013314786226208337, 0.0011798977457218595, 0.000849421866534496, 0.0008880771011391536, 0.0008470679356669128, 0.0008912258820483968, 0.0008747383689633507, 0.0005882013468217493, 0.0005805780787477378, 0.000882713636283019, 0.0007853632950658845, 0.0007852479924842493, 0.0007547924815872913, 0.0008174884976415198, 0.0007083204591455774, 0.0009346775294423706, 0.001002764392505686]}],\n",
       "                        {\"template\": {\"data\": {\"bar\": [{\"error_x\": {\"color\": \"#2a3f5f\"}, \"error_y\": {\"color\": \"#2a3f5f\"}, \"marker\": {\"line\": {\"color\": \"#E5ECF6\", \"width\": 0.5}}, \"type\": \"bar\"}], \"barpolar\": [{\"marker\": {\"line\": {\"color\": \"#E5ECF6\", \"width\": 0.5}}, \"type\": \"barpolar\"}], \"carpet\": [{\"aaxis\": {\"endlinecolor\": \"#2a3f5f\", \"gridcolor\": \"white\", \"linecolor\": \"white\", \"minorgridcolor\": \"white\", \"startlinecolor\": \"#2a3f5f\"}, \"baxis\": {\"endlinecolor\": \"#2a3f5f\", \"gridcolor\": \"white\", \"linecolor\": \"white\", \"minorgridcolor\": \"white\", \"startlinecolor\": \"#2a3f5f\"}, \"type\": \"carpet\"}], \"choropleth\": [{\"colorbar\": {\"outlinewidth\": 0, \"ticks\": \"\"}, \"type\": \"choropleth\"}], \"contour\": [{\"colorbar\": {\"outlinewidth\": 0, \"ticks\": \"\"}, \"colorscale\": [[0.0, \"#0d0887\"], [0.1111111111111111, \"#46039f\"], [0.2222222222222222, \"#7201a8\"], [0.3333333333333333, \"#9c179e\"], [0.4444444444444444, \"#bd3786\"], [0.5555555555555556, \"#d8576b\"], [0.6666666666666666, \"#ed7953\"], [0.7777777777777778, \"#fb9f3a\"], [0.8888888888888888, \"#fdca26\"], [1.0, \"#f0f921\"]], \"type\": \"contour\"}], \"contourcarpet\": [{\"colorbar\": {\"outlinewidth\": 0, \"ticks\": \"\"}, \"type\": \"contourcarpet\"}], \"heatmap\": [{\"colorbar\": {\"outlinewidth\": 0, \"ticks\": \"\"}, \"colorscale\": [[0.0, \"#0d0887\"], [0.1111111111111111, \"#46039f\"], [0.2222222222222222, \"#7201a8\"], [0.3333333333333333, \"#9c179e\"], [0.4444444444444444, \"#bd3786\"], [0.5555555555555556, \"#d8576b\"], [0.6666666666666666, \"#ed7953\"], [0.7777777777777778, \"#fb9f3a\"], [0.8888888888888888, \"#fdca26\"], [1.0, \"#f0f921\"]], \"type\": \"heatmap\"}], \"heatmapgl\": [{\"colorbar\": {\"outlinewidth\": 0, \"ticks\": \"\"}, \"colorscale\": [[0.0, \"#0d0887\"], [0.1111111111111111, \"#46039f\"], [0.2222222222222222, \"#7201a8\"], [0.3333333333333333, \"#9c179e\"], [0.4444444444444444, \"#bd3786\"], [0.5555555555555556, \"#d8576b\"], [0.6666666666666666, \"#ed7953\"], [0.7777777777777778, \"#fb9f3a\"], [0.8888888888888888, \"#fdca26\"], [1.0, \"#f0f921\"]], \"type\": \"heatmapgl\"}], \"histogram\": [{\"marker\": {\"colorbar\": {\"outlinewidth\": 0, \"ticks\": \"\"}}, \"type\": \"histogram\"}], \"histogram2d\": [{\"colorbar\": {\"outlinewidth\": 0, \"ticks\": \"\"}, \"colorscale\": [[0.0, \"#0d0887\"], [0.1111111111111111, \"#46039f\"], [0.2222222222222222, \"#7201a8\"], [0.3333333333333333, \"#9c179e\"], [0.4444444444444444, \"#bd3786\"], [0.5555555555555556, \"#d8576b\"], [0.6666666666666666, \"#ed7953\"], [0.7777777777777778, \"#fb9f3a\"], [0.8888888888888888, \"#fdca26\"], [1.0, \"#f0f921\"]], \"type\": \"histogram2d\"}], \"histogram2dcontour\": [{\"colorbar\": {\"outlinewidth\": 0, \"ticks\": \"\"}, \"colorscale\": [[0.0, \"#0d0887\"], [0.1111111111111111, \"#46039f\"], [0.2222222222222222, \"#7201a8\"], [0.3333333333333333, \"#9c179e\"], [0.4444444444444444, \"#bd3786\"], [0.5555555555555556, \"#d8576b\"], [0.6666666666666666, \"#ed7953\"], [0.7777777777777778, \"#fb9f3a\"], [0.8888888888888888, \"#fdca26\"], [1.0, \"#f0f921\"]], \"type\": \"histogram2dcontour\"}], \"mesh3d\": [{\"colorbar\": {\"outlinewidth\": 0, \"ticks\": \"\"}, \"type\": \"mesh3d\"}], \"parcoords\": [{\"line\": {\"colorbar\": {\"outlinewidth\": 0, \"ticks\": \"\"}}, \"type\": \"parcoords\"}], \"pie\": [{\"automargin\": true, \"type\": \"pie\"}], \"scatter\": [{\"marker\": {\"colorbar\": {\"outlinewidth\": 0, \"ticks\": \"\"}}, \"type\": \"scatter\"}], \"scatter3d\": [{\"line\": {\"colorbar\": {\"outlinewidth\": 0, \"ticks\": \"\"}}, \"marker\": {\"colorbar\": {\"outlinewidth\": 0, \"ticks\": \"\"}}, \"type\": \"scatter3d\"}], \"scattercarpet\": [{\"marker\": {\"colorbar\": {\"outlinewidth\": 0, \"ticks\": \"\"}}, \"type\": \"scattercarpet\"}], \"scattergeo\": [{\"marker\": {\"colorbar\": {\"outlinewidth\": 0, \"ticks\": \"\"}}, \"type\": \"scattergeo\"}], \"scattergl\": [{\"marker\": {\"colorbar\": {\"outlinewidth\": 0, \"ticks\": \"\"}}, \"type\": \"scattergl\"}], \"scattermapbox\": [{\"marker\": {\"colorbar\": {\"outlinewidth\": 0, \"ticks\": \"\"}}, \"type\": \"scattermapbox\"}], \"scatterpolar\": [{\"marker\": {\"colorbar\": {\"outlinewidth\": 0, \"ticks\": \"\"}}, \"type\": \"scatterpolar\"}], \"scatterpolargl\": [{\"marker\": {\"colorbar\": {\"outlinewidth\": 0, \"ticks\": \"\"}}, \"type\": \"scatterpolargl\"}], \"scatterternary\": [{\"marker\": {\"colorbar\": {\"outlinewidth\": 0, \"ticks\": \"\"}}, \"type\": \"scatterternary\"}], \"surface\": [{\"colorbar\": {\"outlinewidth\": 0, \"ticks\": \"\"}, \"colorscale\": [[0.0, \"#0d0887\"], [0.1111111111111111, \"#46039f\"], [0.2222222222222222, \"#7201a8\"], [0.3333333333333333, \"#9c179e\"], [0.4444444444444444, \"#bd3786\"], [0.5555555555555556, \"#d8576b\"], [0.6666666666666666, \"#ed7953\"], [0.7777777777777778, \"#fb9f3a\"], [0.8888888888888888, \"#fdca26\"], [1.0, \"#f0f921\"]], \"type\": \"surface\"}], \"table\": [{\"cells\": {\"fill\": {\"color\": \"#EBF0F8\"}, \"line\": {\"color\": \"white\"}}, \"header\": {\"fill\": {\"color\": \"#C8D4E3\"}, \"line\": {\"color\": \"white\"}}, \"type\": \"table\"}]}, \"layout\": {\"annotationdefaults\": {\"arrowcolor\": \"#2a3f5f\", \"arrowhead\": 0, \"arrowwidth\": 1}, \"coloraxis\": {\"colorbar\": {\"outlinewidth\": 0, \"ticks\": \"\"}}, \"colorscale\": {\"diverging\": [[0, \"#8e0152\"], [0.1, \"#c51b7d\"], [0.2, \"#de77ae\"], [0.3, \"#f1b6da\"], [0.4, \"#fde0ef\"], [0.5, \"#f7f7f7\"], [0.6, \"#e6f5d0\"], [0.7, \"#b8e186\"], [0.8, \"#7fbc41\"], [0.9, \"#4d9221\"], [1, \"#276419\"]], \"sequential\": [[0.0, \"#0d0887\"], [0.1111111111111111, \"#46039f\"], [0.2222222222222222, \"#7201a8\"], [0.3333333333333333, \"#9c179e\"], [0.4444444444444444, \"#bd3786\"], [0.5555555555555556, \"#d8576b\"], [0.6666666666666666, \"#ed7953\"], [0.7777777777777778, \"#fb9f3a\"], [0.8888888888888888, \"#fdca26\"], [1.0, \"#f0f921\"]], \"sequentialminus\": [[0.0, \"#0d0887\"], [0.1111111111111111, \"#46039f\"], [0.2222222222222222, \"#7201a8\"], [0.3333333333333333, \"#9c179e\"], [0.4444444444444444, \"#bd3786\"], [0.5555555555555556, \"#d8576b\"], [0.6666666666666666, \"#ed7953\"], [0.7777777777777778, \"#fb9f3a\"], [0.8888888888888888, \"#fdca26\"], [1.0, \"#f0f921\"]]}, \"colorway\": [\"#636efa\", \"#EF553B\", \"#00cc96\", \"#ab63fa\", \"#FFA15A\", \"#19d3f3\", \"#FF6692\", \"#B6E880\", \"#FF97FF\", \"#FECB52\"], \"font\": {\"color\": \"#2a3f5f\"}, \"geo\": {\"bgcolor\": \"white\", \"lakecolor\": \"white\", \"landcolor\": \"#E5ECF6\", \"showlakes\": true, \"showland\": true, \"subunitcolor\": \"white\"}, \"hoverlabel\": {\"align\": \"left\"}, \"hovermode\": \"closest\", \"mapbox\": {\"style\": \"light\"}, \"paper_bgcolor\": \"white\", \"plot_bgcolor\": \"#E5ECF6\", \"polar\": {\"angularaxis\": {\"gridcolor\": \"white\", \"linecolor\": \"white\", \"ticks\": \"\"}, \"bgcolor\": \"#E5ECF6\", \"radialaxis\": {\"gridcolor\": \"white\", \"linecolor\": \"white\", \"ticks\": \"\"}}, \"scene\": {\"xaxis\": {\"backgroundcolor\": \"#E5ECF6\", \"gridcolor\": \"white\", \"gridwidth\": 2, \"linecolor\": \"white\", \"showbackground\": true, \"ticks\": \"\", \"zerolinecolor\": \"white\"}, \"yaxis\": {\"backgroundcolor\": \"#E5ECF6\", \"gridcolor\": \"white\", \"gridwidth\": 2, \"linecolor\": \"white\", \"showbackground\": true, \"ticks\": \"\", \"zerolinecolor\": \"white\"}, \"zaxis\": {\"backgroundcolor\": \"#E5ECF6\", \"gridcolor\": \"white\", \"gridwidth\": 2, \"linecolor\": \"white\", \"showbackground\": true, \"ticks\": \"\", \"zerolinecolor\": \"white\"}}, \"shapedefaults\": {\"line\": {\"color\": \"#2a3f5f\"}}, \"ternary\": {\"aaxis\": {\"gridcolor\": \"white\", \"linecolor\": \"white\", \"ticks\": \"\"}, \"baxis\": {\"gridcolor\": \"white\", \"linecolor\": \"white\", \"ticks\": \"\"}, \"bgcolor\": \"#E5ECF6\", \"caxis\": {\"gridcolor\": \"white\", \"linecolor\": \"white\", \"ticks\": \"\"}}, \"title\": {\"x\": 0.05}, \"xaxis\": {\"automargin\": true, \"gridcolor\": \"white\", \"linecolor\": \"white\", \"ticks\": \"\", \"title\": {\"standoff\": 15}, \"zerolinecolor\": \"white\", \"zerolinewidth\": 2}, \"yaxis\": {\"automargin\": true, \"gridcolor\": \"white\", \"linecolor\": \"white\", \"ticks\": \"\", \"title\": {\"standoff\": 15}, \"zerolinecolor\": \"white\", \"zerolinewidth\": 2}}}, \"title\": {\"text\": \"$\\\\text{Average Position Estimate Error over the Monte Carlo Realizations}$\", \"x\": 0.48, \"xanchor\": \"center\", \"y\": 0.9, \"yanchor\": \"top\"}, \"xaxis\": {\"title\": {\"text\": \"$\\\\text{Time (} s\\\\text{)}$\"}}, \"yaxis\": {\"title\": {\"text\": \"$\\\\text{Error}$\"}}},\n",
       "                        {\"responsive\": true}\n",
       "                    ).then(function(){\n",
       "                            \n",
       "var gd = document.getElementById('32523f2b-0382-442c-8fbc-dc18f6943cea');\n",
       "var x = new MutationObserver(function (mutations, observer) {{\n",
       "        var display = window.getComputedStyle(gd).display;\n",
       "        if (!display || display === 'none') {{\n",
       "            console.log([gd, 'removed!']);\n",
       "            Plotly.purge(gd);\n",
       "            observer.disconnect();\n",
       "        }}\n",
       "}});\n",
       "\n",
       "// Listen for the removal of the full notebook cells\n",
       "var notebookContainer = gd.closest('#notebook-container');\n",
       "if (notebookContainer) {{\n",
       "    x.observe(notebookContainer, {childList: true});\n",
       "}}\n",
       "\n",
       "// Listen for the clearing of the current output cell\n",
       "var outputEl = gd.closest('.output');\n",
       "if (outputEl) {{\n",
       "    x.observe(outputEl, {childList: true});\n",
       "}}\n",
       "\n",
       "                        })\n",
       "                };\n",
       "                });\n",
       "            </script>\n",
       "        </div>"
      ]
     },
     "metadata": {},
     "output_type": "display_data"
    },
    {
     "data": {
      "application/vnd.plotly.v1+json": {
       "config": {
        "plotlyServerURL": "https://plot.ly"
       },
       "data": [
        {
         "line": {
          "width": 4
         },
         "name": "Error",
         "type": "scatter",
         "x": [
          0,
          0.2,
          0.4,
          0.6000000000000001,
          0.8,
          1,
          1.2000000000000002,
          1.4000000000000001,
          1.6,
          1.8,
          2,
          2.2,
          2.4000000000000004,
          2.6,
          2.8000000000000003,
          3,
          3.2,
          3.4000000000000004,
          3.6,
          3.8000000000000003,
          4,
          4.2,
          4.4,
          4.6000000000000005,
          4.800000000000001,
          5,
          5.2,
          5.4,
          5.6000000000000005,
          5.800000000000001,
          6,
          6.2,
          6.4,
          6.6000000000000005,
          6.800000000000001,
          7,
          7.2,
          7.4,
          7.6000000000000005,
          7.800000000000001,
          8,
          8.200000000000001,
          8.4,
          8.6,
          8.8,
          9,
          9.200000000000001,
          9.4,
          9.600000000000001,
          9.8,
          10,
          10.200000000000001,
          10.4,
          10.600000000000001,
          10.8,
          11,
          11.200000000000001,
          11.4,
          11.600000000000001,
          11.8,
          12,
          12.200000000000001,
          12.4,
          12.600000000000001,
          12.8,
          13,
          13.200000000000001,
          13.4,
          13.600000000000001,
          13.8,
          14,
          14.200000000000001,
          14.4,
          14.600000000000001,
          14.8,
          15,
          15.200000000000001,
          15.4,
          15.600000000000001,
          15.8,
          16,
          16.2,
          16.400000000000002,
          16.6,
          16.8,
          17,
          17.2,
          17.400000000000002,
          17.6,
          17.8,
          18,
          18.2,
          18.400000000000002,
          18.6,
          18.8,
          19,
          19.200000000000003,
          19.400000000000002,
          19.6,
          19.8,
          20,
          20.200000000000003,
          20.400000000000002,
          20.6,
          20.8,
          21,
          21.200000000000003,
          21.400000000000002,
          21.6,
          21.8,
          22,
          22.200000000000003,
          22.400000000000002,
          22.6,
          22.8,
          23,
          23.200000000000003,
          23.400000000000002,
          23.6,
          23.8,
          24,
          24.200000000000003,
          24.400000000000002,
          24.6,
          24.8,
          25,
          25.200000000000003,
          25.400000000000002,
          25.6,
          25.8,
          26,
          26.200000000000003,
          26.400000000000002,
          26.6,
          26.8,
          27,
          27.200000000000003,
          27.400000000000002,
          27.6,
          27.8,
          28,
          28.200000000000003,
          28.400000000000002,
          28.6,
          28.8,
          29,
          29.200000000000003,
          29.400000000000002,
          29.6,
          29.8,
          30
         ],
         "y": [
          0.014204638105872476,
          0.006295683799324367,
          0.0019954393329738532,
          -0.00026153896374933545,
          -0.0016960446893501953,
          -0.0020475139441211957,
          -0.0020901615668588803,
          -0.0018569090746194743,
          -0.00201672043675979,
          -0.0020904781249219055,
          -0.0018292411946559267,
          -0.0016380957609626054,
          -0.00145453826105697,
          -0.0012992865474864379,
          -0.0012716605981448652,
          -0.001333363981205791,
          -0.0012214719067059016,
          -0.001151400833103317,
          -0.0010407034503600156,
          -0.0008889339986932077,
          -0.0007161351576565512,
          -0.0005905420474568865,
          -0.0006373478125789366,
          -0.0006433792134110449,
          -0.0006278939836728276,
          -0.0005758859925416609,
          -0.00047793839070652135,
          -0.0005774278898833284,
          -0.00048735644599523964,
          -0.0005379983940307868,
          -0.0005402698641816442,
          -0.0004987154752533466,
          -0.00047460070897101676,
          -0.0005460776730763029,
          -0.0004298891404187664,
          -0.000443639960658158,
          -0.00035848852631343615,
          -0.0003032030739102179,
          -0.0002715334163572118,
          -0.00025570368073753993,
          -0.00028949054034122917,
          -0.00034719426074591086,
          -0.0002928790564093728,
          -0.0002526952301422794,
          -0.0003318889747922991,
          -0.0003849128105753085,
          -0.000356194338493294,
          -0.00034608710602681376,
          -0.0003833889672786083,
          -0.0003709307741928656,
          -0.00035123608465020324,
          -0.00027601334469818897,
          -0.00027528471303353157,
          -0.0002174369793698469,
          -0.0002590393170155089,
          -0.0002220185229586291,
          -0.000282427533981264,
          -0.00030195799428346133,
          -0.0003226257966824428,
          -0.0003164816519924609,
          -0.00020884099690196027,
          -0.00012949718745255102,
          -0.0001619536511139485,
          -0.00016881298531271015,
          -0.00018697504903479614,
          -0.00023803282175457978,
          -0.00023893444328427585,
          -0.0002534426041453851,
          -0.0003105355857396875,
          -0.0002526007088880576,
          -0.00024940711622626043,
          -0.0002996566784109349,
          -0.00034882585856686266,
          -0.0003067029729870688,
          -0.00035114467827634466,
          -0.00028678147718572806,
          -0.0003022027344650862,
          -0.00022900111790303073,
          -0.00024982821467214975,
          -0.0001939080476741967,
          -0.00019920502773305288,
          -0.00017269818899259078,
          -0.0001902877924932831,
          -0.0001940384941442817,
          -0.00021287363705195256,
          -0.00018539905637434128,
          -0.00021412954744013063,
          -0.0002547433789875922,
          -0.0002168849231258668,
          -0.00012792747160700194,
          -0.00010397979829520299,
          -5.046336823261618e-05,
          -2.9420860270034892e-05,
          -5.178437427015399e-05,
          -2.8858831107701554e-05,
          -2.604004323337617e-05,
          -8.38841552154309e-05,
          -0.00012957387980094508,
          -0.00019546851300462833,
          -0.0001711114237122463,
          -0.00011791125695535767,
          -0.00012102366211477418,
          -0.00015229988547602605,
          -0.00016932672389533593,
          -0.00016679528905112255,
          -0.00011952104773314455,
          -9.938220401917314e-05,
          -0.00014612864899588208,
          -0.00011195223545166988,
          -5.940788205714439e-05,
          -8.856035574554196e-05,
          -5.7634077795603575e-05,
          -8.001100691974011e-05,
          -4.254332154186704e-05,
          -1.4393143636661498e-07,
          -4.96351567742863e-05,
          -7.635801449254391e-05,
          -0.00011898738678252032,
          -8.407279136801835e-05,
          -0.00014001952066252396,
          -0.00019921660688826878,
          -7.949655565794807e-05,
          3.920343999653304e-05,
          1.5140250397230867e-06,
          3.7647627946644024e-05,
          8.476370650827875e-05,
          4.801018819548312e-05,
          4.2285673559805634e-05,
          4.320376091361452e-05,
          9.725981620504669e-05,
          3.40911354263127e-05,
          -4.455885894871786e-05,
          -9.819865051567334e-05,
          -9.383353765354863e-05,
          -0.0001298775697150406,
          -0.00015879121694362312,
          -0.00018405078831516271,
          -0.0001824996554157335,
          -0.0001385329277487872,
          -0.000165677910539808,
          -0.00015942186673545934,
          -0.00020975430980857936,
          -0.00016858647634313237,
          -0.00013735664167090824,
          -0.00012872195840507315,
          -0.0001629436640103081,
          -0.00018979216354427552,
          -0.00013255101799614666,
          -0.00013217086972473627,
          -0.00012673742148101866,
          -6.752407930242435e-05
         ]
        }
       ],
       "layout": {
        "template": {
         "data": {
          "bar": [
           {
            "error_x": {
             "color": "#2a3f5f"
            },
            "error_y": {
             "color": "#2a3f5f"
            },
            "marker": {
             "line": {
              "color": "#E5ECF6",
              "width": 0.5
             }
            },
            "type": "bar"
           }
          ],
          "barpolar": [
           {
            "marker": {
             "line": {
              "color": "#E5ECF6",
              "width": 0.5
             }
            },
            "type": "barpolar"
           }
          ],
          "carpet": [
           {
            "aaxis": {
             "endlinecolor": "#2a3f5f",
             "gridcolor": "white",
             "linecolor": "white",
             "minorgridcolor": "white",
             "startlinecolor": "#2a3f5f"
            },
            "baxis": {
             "endlinecolor": "#2a3f5f",
             "gridcolor": "white",
             "linecolor": "white",
             "minorgridcolor": "white",
             "startlinecolor": "#2a3f5f"
            },
            "type": "carpet"
           }
          ],
          "choropleth": [
           {
            "colorbar": {
             "outlinewidth": 0,
             "ticks": ""
            },
            "type": "choropleth"
           }
          ],
          "contour": [
           {
            "colorbar": {
             "outlinewidth": 0,
             "ticks": ""
            },
            "colorscale": [
             [
              0,
              "#0d0887"
             ],
             [
              0.1111111111111111,
              "#46039f"
             ],
             [
              0.2222222222222222,
              "#7201a8"
             ],
             [
              0.3333333333333333,
              "#9c179e"
             ],
             [
              0.4444444444444444,
              "#bd3786"
             ],
             [
              0.5555555555555556,
              "#d8576b"
             ],
             [
              0.6666666666666666,
              "#ed7953"
             ],
             [
              0.7777777777777778,
              "#fb9f3a"
             ],
             [
              0.8888888888888888,
              "#fdca26"
             ],
             [
              1,
              "#f0f921"
             ]
            ],
            "type": "contour"
           }
          ],
          "contourcarpet": [
           {
            "colorbar": {
             "outlinewidth": 0,
             "ticks": ""
            },
            "type": "contourcarpet"
           }
          ],
          "heatmap": [
           {
            "colorbar": {
             "outlinewidth": 0,
             "ticks": ""
            },
            "colorscale": [
             [
              0,
              "#0d0887"
             ],
             [
              0.1111111111111111,
              "#46039f"
             ],
             [
              0.2222222222222222,
              "#7201a8"
             ],
             [
              0.3333333333333333,
              "#9c179e"
             ],
             [
              0.4444444444444444,
              "#bd3786"
             ],
             [
              0.5555555555555556,
              "#d8576b"
             ],
             [
              0.6666666666666666,
              "#ed7953"
             ],
             [
              0.7777777777777778,
              "#fb9f3a"
             ],
             [
              0.8888888888888888,
              "#fdca26"
             ],
             [
              1,
              "#f0f921"
             ]
            ],
            "type": "heatmap"
           }
          ],
          "heatmapgl": [
           {
            "colorbar": {
             "outlinewidth": 0,
             "ticks": ""
            },
            "colorscale": [
             [
              0,
              "#0d0887"
             ],
             [
              0.1111111111111111,
              "#46039f"
             ],
             [
              0.2222222222222222,
              "#7201a8"
             ],
             [
              0.3333333333333333,
              "#9c179e"
             ],
             [
              0.4444444444444444,
              "#bd3786"
             ],
             [
              0.5555555555555556,
              "#d8576b"
             ],
             [
              0.6666666666666666,
              "#ed7953"
             ],
             [
              0.7777777777777778,
              "#fb9f3a"
             ],
             [
              0.8888888888888888,
              "#fdca26"
             ],
             [
              1,
              "#f0f921"
             ]
            ],
            "type": "heatmapgl"
           }
          ],
          "histogram": [
           {
            "marker": {
             "colorbar": {
              "outlinewidth": 0,
              "ticks": ""
             }
            },
            "type": "histogram"
           }
          ],
          "histogram2d": [
           {
            "colorbar": {
             "outlinewidth": 0,
             "ticks": ""
            },
            "colorscale": [
             [
              0,
              "#0d0887"
             ],
             [
              0.1111111111111111,
              "#46039f"
             ],
             [
              0.2222222222222222,
              "#7201a8"
             ],
             [
              0.3333333333333333,
              "#9c179e"
             ],
             [
              0.4444444444444444,
              "#bd3786"
             ],
             [
              0.5555555555555556,
              "#d8576b"
             ],
             [
              0.6666666666666666,
              "#ed7953"
             ],
             [
              0.7777777777777778,
              "#fb9f3a"
             ],
             [
              0.8888888888888888,
              "#fdca26"
             ],
             [
              1,
              "#f0f921"
             ]
            ],
            "type": "histogram2d"
           }
          ],
          "histogram2dcontour": [
           {
            "colorbar": {
             "outlinewidth": 0,
             "ticks": ""
            },
            "colorscale": [
             [
              0,
              "#0d0887"
             ],
             [
              0.1111111111111111,
              "#46039f"
             ],
             [
              0.2222222222222222,
              "#7201a8"
             ],
             [
              0.3333333333333333,
              "#9c179e"
             ],
             [
              0.4444444444444444,
              "#bd3786"
             ],
             [
              0.5555555555555556,
              "#d8576b"
             ],
             [
              0.6666666666666666,
              "#ed7953"
             ],
             [
              0.7777777777777778,
              "#fb9f3a"
             ],
             [
              0.8888888888888888,
              "#fdca26"
             ],
             [
              1,
              "#f0f921"
             ]
            ],
            "type": "histogram2dcontour"
           }
          ],
          "mesh3d": [
           {
            "colorbar": {
             "outlinewidth": 0,
             "ticks": ""
            },
            "type": "mesh3d"
           }
          ],
          "parcoords": [
           {
            "line": {
             "colorbar": {
              "outlinewidth": 0,
              "ticks": ""
             }
            },
            "type": "parcoords"
           }
          ],
          "pie": [
           {
            "automargin": true,
            "type": "pie"
           }
          ],
          "scatter": [
           {
            "marker": {
             "colorbar": {
              "outlinewidth": 0,
              "ticks": ""
             }
            },
            "type": "scatter"
           }
          ],
          "scatter3d": [
           {
            "line": {
             "colorbar": {
              "outlinewidth": 0,
              "ticks": ""
             }
            },
            "marker": {
             "colorbar": {
              "outlinewidth": 0,
              "ticks": ""
             }
            },
            "type": "scatter3d"
           }
          ],
          "scattercarpet": [
           {
            "marker": {
             "colorbar": {
              "outlinewidth": 0,
              "ticks": ""
             }
            },
            "type": "scattercarpet"
           }
          ],
          "scattergeo": [
           {
            "marker": {
             "colorbar": {
              "outlinewidth": 0,
              "ticks": ""
             }
            },
            "type": "scattergeo"
           }
          ],
          "scattergl": [
           {
            "marker": {
             "colorbar": {
              "outlinewidth": 0,
              "ticks": ""
             }
            },
            "type": "scattergl"
           }
          ],
          "scattermapbox": [
           {
            "marker": {
             "colorbar": {
              "outlinewidth": 0,
              "ticks": ""
             }
            },
            "type": "scattermapbox"
           }
          ],
          "scatterpolar": [
           {
            "marker": {
             "colorbar": {
              "outlinewidth": 0,
              "ticks": ""
             }
            },
            "type": "scatterpolar"
           }
          ],
          "scatterpolargl": [
           {
            "marker": {
             "colorbar": {
              "outlinewidth": 0,
              "ticks": ""
             }
            },
            "type": "scatterpolargl"
           }
          ],
          "scatterternary": [
           {
            "marker": {
             "colorbar": {
              "outlinewidth": 0,
              "ticks": ""
             }
            },
            "type": "scatterternary"
           }
          ],
          "surface": [
           {
            "colorbar": {
             "outlinewidth": 0,
             "ticks": ""
            },
            "colorscale": [
             [
              0,
              "#0d0887"
             ],
             [
              0.1111111111111111,
              "#46039f"
             ],
             [
              0.2222222222222222,
              "#7201a8"
             ],
             [
              0.3333333333333333,
              "#9c179e"
             ],
             [
              0.4444444444444444,
              "#bd3786"
             ],
             [
              0.5555555555555556,
              "#d8576b"
             ],
             [
              0.6666666666666666,
              "#ed7953"
             ],
             [
              0.7777777777777778,
              "#fb9f3a"
             ],
             [
              0.8888888888888888,
              "#fdca26"
             ],
             [
              1,
              "#f0f921"
             ]
            ],
            "type": "surface"
           }
          ],
          "table": [
           {
            "cells": {
             "fill": {
              "color": "#EBF0F8"
             },
             "line": {
              "color": "white"
             }
            },
            "header": {
             "fill": {
              "color": "#C8D4E3"
             },
             "line": {
              "color": "white"
             }
            },
            "type": "table"
           }
          ]
         },
         "layout": {
          "annotationdefaults": {
           "arrowcolor": "#2a3f5f",
           "arrowhead": 0,
           "arrowwidth": 1
          },
          "coloraxis": {
           "colorbar": {
            "outlinewidth": 0,
            "ticks": ""
           }
          },
          "colorscale": {
           "diverging": [
            [
             0,
             "#8e0152"
            ],
            [
             0.1,
             "#c51b7d"
            ],
            [
             0.2,
             "#de77ae"
            ],
            [
             0.3,
             "#f1b6da"
            ],
            [
             0.4,
             "#fde0ef"
            ],
            [
             0.5,
             "#f7f7f7"
            ],
            [
             0.6,
             "#e6f5d0"
            ],
            [
             0.7,
             "#b8e186"
            ],
            [
             0.8,
             "#7fbc41"
            ],
            [
             0.9,
             "#4d9221"
            ],
            [
             1,
             "#276419"
            ]
           ],
           "sequential": [
            [
             0,
             "#0d0887"
            ],
            [
             0.1111111111111111,
             "#46039f"
            ],
            [
             0.2222222222222222,
             "#7201a8"
            ],
            [
             0.3333333333333333,
             "#9c179e"
            ],
            [
             0.4444444444444444,
             "#bd3786"
            ],
            [
             0.5555555555555556,
             "#d8576b"
            ],
            [
             0.6666666666666666,
             "#ed7953"
            ],
            [
             0.7777777777777778,
             "#fb9f3a"
            ],
            [
             0.8888888888888888,
             "#fdca26"
            ],
            [
             1,
             "#f0f921"
            ]
           ],
           "sequentialminus": [
            [
             0,
             "#0d0887"
            ],
            [
             0.1111111111111111,
             "#46039f"
            ],
            [
             0.2222222222222222,
             "#7201a8"
            ],
            [
             0.3333333333333333,
             "#9c179e"
            ],
            [
             0.4444444444444444,
             "#bd3786"
            ],
            [
             0.5555555555555556,
             "#d8576b"
            ],
            [
             0.6666666666666666,
             "#ed7953"
            ],
            [
             0.7777777777777778,
             "#fb9f3a"
            ],
            [
             0.8888888888888888,
             "#fdca26"
            ],
            [
             1,
             "#f0f921"
            ]
           ]
          },
          "colorway": [
           "#636efa",
           "#EF553B",
           "#00cc96",
           "#ab63fa",
           "#FFA15A",
           "#19d3f3",
           "#FF6692",
           "#B6E880",
           "#FF97FF",
           "#FECB52"
          ],
          "font": {
           "color": "#2a3f5f"
          },
          "geo": {
           "bgcolor": "white",
           "lakecolor": "white",
           "landcolor": "#E5ECF6",
           "showlakes": true,
           "showland": true,
           "subunitcolor": "white"
          },
          "hoverlabel": {
           "align": "left"
          },
          "hovermode": "closest",
          "mapbox": {
           "style": "light"
          },
          "paper_bgcolor": "white",
          "plot_bgcolor": "#E5ECF6",
          "polar": {
           "angularaxis": {
            "gridcolor": "white",
            "linecolor": "white",
            "ticks": ""
           },
           "bgcolor": "#E5ECF6",
           "radialaxis": {
            "gridcolor": "white",
            "linecolor": "white",
            "ticks": ""
           }
          },
          "scene": {
           "xaxis": {
            "backgroundcolor": "#E5ECF6",
            "gridcolor": "white",
            "gridwidth": 2,
            "linecolor": "white",
            "showbackground": true,
            "ticks": "",
            "zerolinecolor": "white"
           },
           "yaxis": {
            "backgroundcolor": "#E5ECF6",
            "gridcolor": "white",
            "gridwidth": 2,
            "linecolor": "white",
            "showbackground": true,
            "ticks": "",
            "zerolinecolor": "white"
           },
           "zaxis": {
            "backgroundcolor": "#E5ECF6",
            "gridcolor": "white",
            "gridwidth": 2,
            "linecolor": "white",
            "showbackground": true,
            "ticks": "",
            "zerolinecolor": "white"
           }
          },
          "shapedefaults": {
           "line": {
            "color": "#2a3f5f"
           }
          },
          "ternary": {
           "aaxis": {
            "gridcolor": "white",
            "linecolor": "white",
            "ticks": ""
           },
           "baxis": {
            "gridcolor": "white",
            "linecolor": "white",
            "ticks": ""
           },
           "bgcolor": "#E5ECF6",
           "caxis": {
            "gridcolor": "white",
            "linecolor": "white",
            "ticks": ""
           }
          },
          "title": {
           "x": 0.05
          },
          "xaxis": {
           "automargin": true,
           "gridcolor": "white",
           "linecolor": "white",
           "ticks": "",
           "title": {
            "standoff": 15
           },
           "zerolinecolor": "white",
           "zerolinewidth": 2
          },
          "yaxis": {
           "automargin": true,
           "gridcolor": "white",
           "linecolor": "white",
           "ticks": "",
           "title": {
            "standoff": 15
           },
           "zerolinecolor": "white",
           "zerolinewidth": 2
          }
         }
        },
        "title": {
         "text": "$\\text{Average Velocity Estimate Error over the Monte Carlo Realizations}$",
         "x": 0.48,
         "xanchor": "center",
         "y": 0.9,
         "yanchor": "top"
        },
        "xaxis": {
         "title": {
          "text": "$\\text{Time (} s\\text{)}$"
         }
        },
        "yaxis": {
         "title": {
          "text": "$\\text{Error}$"
         }
        }
       }
      },
      "text/html": [
       "<div>\n",
       "        \n",
       "        \n",
       "            <div id=\"ae40c48d-32f9-4847-9b06-ed0eb005a3f2\" class=\"plotly-graph-div\" style=\"height:525px; width:100%;\"></div>\n",
       "            <script type=\"text/javascript\">\n",
       "                require([\"plotly\"], function(Plotly) {\n",
       "                    window.PLOTLYENV=window.PLOTLYENV || {};\n",
       "                    \n",
       "                if (document.getElementById(\"ae40c48d-32f9-4847-9b06-ed0eb005a3f2\")) {\n",
       "                    Plotly.newPlot(\n",
       "                        'ae40c48d-32f9-4847-9b06-ed0eb005a3f2',\n",
       "                        [{\"line\": {\"width\": 4}, \"name\": \"Error\", \"type\": \"scatter\", \"x\": [0.0, 0.2, 0.4, 0.6000000000000001, 0.8, 1.0, 1.2000000000000002, 1.4000000000000001, 1.6, 1.8, 2.0, 2.2, 2.4000000000000004, 2.6, 2.8000000000000003, 3.0, 3.2, 3.4000000000000004, 3.6, 3.8000000000000003, 4.0, 4.2, 4.4, 4.6000000000000005, 4.800000000000001, 5.0, 5.2, 5.4, 5.6000000000000005, 5.800000000000001, 6.0, 6.2, 6.4, 6.6000000000000005, 6.800000000000001, 7.0, 7.2, 7.4, 7.6000000000000005, 7.800000000000001, 8.0, 8.200000000000001, 8.4, 8.6, 8.8, 9.0, 9.200000000000001, 9.4, 9.600000000000001, 9.8, 10.0, 10.200000000000001, 10.4, 10.600000000000001, 10.8, 11.0, 11.200000000000001, 11.4, 11.600000000000001, 11.8, 12.0, 12.200000000000001, 12.4, 12.600000000000001, 12.8, 13.0, 13.200000000000001, 13.4, 13.600000000000001, 13.8, 14.0, 14.200000000000001, 14.4, 14.600000000000001, 14.8, 15.0, 15.200000000000001, 15.4, 15.600000000000001, 15.8, 16.0, 16.2, 16.400000000000002, 16.6, 16.8, 17.0, 17.2, 17.400000000000002, 17.6, 17.8, 18.0, 18.2, 18.400000000000002, 18.6, 18.8, 19.0, 19.200000000000003, 19.400000000000002, 19.6, 19.8, 20.0, 20.200000000000003, 20.400000000000002, 20.6, 20.8, 21.0, 21.200000000000003, 21.400000000000002, 21.6, 21.8, 22.0, 22.200000000000003, 22.400000000000002, 22.6, 22.8, 23.0, 23.200000000000003, 23.400000000000002, 23.6, 23.8, 24.0, 24.200000000000003, 24.400000000000002, 24.6, 24.8, 25.0, 25.200000000000003, 25.400000000000002, 25.6, 25.8, 26.0, 26.200000000000003, 26.400000000000002, 26.6, 26.8, 27.0, 27.200000000000003, 27.400000000000002, 27.6, 27.8, 28.0, 28.200000000000003, 28.400000000000002, 28.6, 28.8, 29.0, 29.200000000000003, 29.400000000000002, 29.6, 29.8, 30.0], \"y\": [0.014204638105872476, 0.006295683799324367, 0.0019954393329738532, -0.00026153896374933545, -0.0016960446893501953, -0.0020475139441211957, -0.0020901615668588803, -0.0018569090746194743, -0.00201672043675979, -0.0020904781249219055, -0.0018292411946559267, -0.0016380957609626054, -0.00145453826105697, -0.0012992865474864379, -0.0012716605981448652, -0.001333363981205791, -0.0012214719067059016, -0.001151400833103317, -0.0010407034503600156, -0.0008889339986932077, -0.0007161351576565512, -0.0005905420474568865, -0.0006373478125789366, -0.0006433792134110449, -0.0006278939836728276, -0.0005758859925416609, -0.00047793839070652135, -0.0005774278898833284, -0.00048735644599523964, -0.0005379983940307868, -0.0005402698641816442, -0.0004987154752533466, -0.00047460070897101676, -0.0005460776730763029, -0.0004298891404187664, -0.000443639960658158, -0.00035848852631343615, -0.0003032030739102179, -0.0002715334163572118, -0.00025570368073753993, -0.00028949054034122917, -0.00034719426074591086, -0.0002928790564093728, -0.0002526952301422794, -0.0003318889747922991, -0.0003849128105753085, -0.000356194338493294, -0.00034608710602681376, -0.0003833889672786083, -0.0003709307741928656, -0.00035123608465020324, -0.00027601334469818897, -0.00027528471303353157, -0.0002174369793698469, -0.0002590393170155089, -0.0002220185229586291, -0.000282427533981264, -0.00030195799428346133, -0.0003226257966824428, -0.0003164816519924609, -0.00020884099690196027, -0.00012949718745255102, -0.0001619536511139485, -0.00016881298531271015, -0.00018697504903479614, -0.00023803282175457978, -0.00023893444328427585, -0.0002534426041453851, -0.0003105355857396875, -0.0002526007088880576, -0.00024940711622626043, -0.0002996566784109349, -0.00034882585856686266, -0.0003067029729870688, -0.00035114467827634466, -0.00028678147718572806, -0.0003022027344650862, -0.00022900111790303073, -0.00024982821467214975, -0.0001939080476741967, -0.00019920502773305288, -0.00017269818899259078, -0.0001902877924932831, -0.0001940384941442817, -0.00021287363705195256, -0.00018539905637434128, -0.00021412954744013063, -0.0002547433789875922, -0.0002168849231258668, -0.00012792747160700194, -0.00010397979829520299, -5.046336823261618e-05, -2.9420860270034892e-05, -5.178437427015399e-05, -2.8858831107701554e-05, -2.604004323337617e-05, -8.38841552154309e-05, -0.00012957387980094508, -0.00019546851300462833, -0.0001711114237122463, -0.00011791125695535767, -0.00012102366211477418, -0.00015229988547602605, -0.00016932672389533593, -0.00016679528905112255, -0.00011952104773314455, -9.938220401917314e-05, -0.00014612864899588208, -0.00011195223545166988, -5.940788205714439e-05, -8.856035574554196e-05, -5.7634077795603575e-05, -8.001100691974011e-05, -4.254332154186704e-05, -1.4393143636661498e-07, -4.96351567742863e-05, -7.635801449254391e-05, -0.00011898738678252032, -8.407279136801835e-05, -0.00014001952066252396, -0.00019921660688826878, -7.949655565794807e-05, 3.920343999653304e-05, 1.5140250397230867e-06, 3.7647627946644024e-05, 8.476370650827875e-05, 4.801018819548312e-05, 4.2285673559805634e-05, 4.320376091361452e-05, 9.725981620504669e-05, 3.40911354263127e-05, -4.455885894871786e-05, -9.819865051567334e-05, -9.383353765354863e-05, -0.0001298775697150406, -0.00015879121694362312, -0.00018405078831516271, -0.0001824996554157335, -0.0001385329277487872, -0.000165677910539808, -0.00015942186673545934, -0.00020975430980857936, -0.00016858647634313237, -0.00013735664167090824, -0.00012872195840507315, -0.0001629436640103081, -0.00018979216354427552, -0.00013255101799614666, -0.00013217086972473627, -0.00012673742148101866, -6.752407930242435e-05]}],\n",
       "                        {\"template\": {\"data\": {\"bar\": [{\"error_x\": {\"color\": \"#2a3f5f\"}, \"error_y\": {\"color\": \"#2a3f5f\"}, \"marker\": {\"line\": {\"color\": \"#E5ECF6\", \"width\": 0.5}}, \"type\": \"bar\"}], \"barpolar\": [{\"marker\": {\"line\": {\"color\": \"#E5ECF6\", \"width\": 0.5}}, \"type\": \"barpolar\"}], \"carpet\": [{\"aaxis\": {\"endlinecolor\": \"#2a3f5f\", \"gridcolor\": \"white\", \"linecolor\": \"white\", \"minorgridcolor\": \"white\", \"startlinecolor\": \"#2a3f5f\"}, \"baxis\": {\"endlinecolor\": \"#2a3f5f\", \"gridcolor\": \"white\", \"linecolor\": \"white\", \"minorgridcolor\": \"white\", \"startlinecolor\": \"#2a3f5f\"}, \"type\": \"carpet\"}], \"choropleth\": [{\"colorbar\": {\"outlinewidth\": 0, \"ticks\": \"\"}, \"type\": \"choropleth\"}], \"contour\": [{\"colorbar\": {\"outlinewidth\": 0, \"ticks\": \"\"}, \"colorscale\": [[0.0, \"#0d0887\"], [0.1111111111111111, \"#46039f\"], [0.2222222222222222, \"#7201a8\"], [0.3333333333333333, \"#9c179e\"], [0.4444444444444444, \"#bd3786\"], [0.5555555555555556, \"#d8576b\"], [0.6666666666666666, \"#ed7953\"], [0.7777777777777778, \"#fb9f3a\"], [0.8888888888888888, \"#fdca26\"], [1.0, \"#f0f921\"]], \"type\": \"contour\"}], \"contourcarpet\": [{\"colorbar\": {\"outlinewidth\": 0, \"ticks\": \"\"}, \"type\": \"contourcarpet\"}], \"heatmap\": [{\"colorbar\": {\"outlinewidth\": 0, \"ticks\": \"\"}, \"colorscale\": [[0.0, \"#0d0887\"], [0.1111111111111111, \"#46039f\"], [0.2222222222222222, \"#7201a8\"], [0.3333333333333333, \"#9c179e\"], [0.4444444444444444, \"#bd3786\"], [0.5555555555555556, \"#d8576b\"], [0.6666666666666666, \"#ed7953\"], [0.7777777777777778, \"#fb9f3a\"], [0.8888888888888888, \"#fdca26\"], [1.0, \"#f0f921\"]], \"type\": \"heatmap\"}], \"heatmapgl\": [{\"colorbar\": {\"outlinewidth\": 0, \"ticks\": \"\"}, \"colorscale\": [[0.0, \"#0d0887\"], [0.1111111111111111, \"#46039f\"], [0.2222222222222222, \"#7201a8\"], [0.3333333333333333, \"#9c179e\"], [0.4444444444444444, \"#bd3786\"], [0.5555555555555556, \"#d8576b\"], [0.6666666666666666, \"#ed7953\"], [0.7777777777777778, \"#fb9f3a\"], [0.8888888888888888, \"#fdca26\"], [1.0, \"#f0f921\"]], \"type\": \"heatmapgl\"}], \"histogram\": [{\"marker\": {\"colorbar\": {\"outlinewidth\": 0, \"ticks\": \"\"}}, \"type\": \"histogram\"}], \"histogram2d\": [{\"colorbar\": {\"outlinewidth\": 0, \"ticks\": \"\"}, \"colorscale\": [[0.0, \"#0d0887\"], [0.1111111111111111, \"#46039f\"], [0.2222222222222222, \"#7201a8\"], [0.3333333333333333, \"#9c179e\"], [0.4444444444444444, \"#bd3786\"], [0.5555555555555556, \"#d8576b\"], [0.6666666666666666, \"#ed7953\"], [0.7777777777777778, \"#fb9f3a\"], [0.8888888888888888, \"#fdca26\"], [1.0, \"#f0f921\"]], \"type\": \"histogram2d\"}], \"histogram2dcontour\": [{\"colorbar\": {\"outlinewidth\": 0, \"ticks\": \"\"}, \"colorscale\": [[0.0, \"#0d0887\"], [0.1111111111111111, \"#46039f\"], [0.2222222222222222, \"#7201a8\"], [0.3333333333333333, \"#9c179e\"], [0.4444444444444444, \"#bd3786\"], [0.5555555555555556, \"#d8576b\"], [0.6666666666666666, \"#ed7953\"], [0.7777777777777778, \"#fb9f3a\"], [0.8888888888888888, \"#fdca26\"], [1.0, \"#f0f921\"]], \"type\": \"histogram2dcontour\"}], \"mesh3d\": [{\"colorbar\": {\"outlinewidth\": 0, \"ticks\": \"\"}, \"type\": \"mesh3d\"}], \"parcoords\": [{\"line\": {\"colorbar\": {\"outlinewidth\": 0, \"ticks\": \"\"}}, \"type\": \"parcoords\"}], \"pie\": [{\"automargin\": true, \"type\": \"pie\"}], \"scatter\": [{\"marker\": {\"colorbar\": {\"outlinewidth\": 0, \"ticks\": \"\"}}, \"type\": \"scatter\"}], \"scatter3d\": [{\"line\": {\"colorbar\": {\"outlinewidth\": 0, \"ticks\": \"\"}}, \"marker\": {\"colorbar\": {\"outlinewidth\": 0, \"ticks\": \"\"}}, \"type\": \"scatter3d\"}], \"scattercarpet\": [{\"marker\": {\"colorbar\": {\"outlinewidth\": 0, \"ticks\": \"\"}}, \"type\": \"scattercarpet\"}], \"scattergeo\": [{\"marker\": {\"colorbar\": {\"outlinewidth\": 0, \"ticks\": \"\"}}, \"type\": \"scattergeo\"}], \"scattergl\": [{\"marker\": {\"colorbar\": {\"outlinewidth\": 0, \"ticks\": \"\"}}, \"type\": \"scattergl\"}], \"scattermapbox\": [{\"marker\": {\"colorbar\": {\"outlinewidth\": 0, \"ticks\": \"\"}}, \"type\": \"scattermapbox\"}], \"scatterpolar\": [{\"marker\": {\"colorbar\": {\"outlinewidth\": 0, \"ticks\": \"\"}}, \"type\": \"scatterpolar\"}], \"scatterpolargl\": [{\"marker\": {\"colorbar\": {\"outlinewidth\": 0, \"ticks\": \"\"}}, \"type\": \"scatterpolargl\"}], \"scatterternary\": [{\"marker\": {\"colorbar\": {\"outlinewidth\": 0, \"ticks\": \"\"}}, \"type\": \"scatterternary\"}], \"surface\": [{\"colorbar\": {\"outlinewidth\": 0, \"ticks\": \"\"}, \"colorscale\": [[0.0, \"#0d0887\"], [0.1111111111111111, \"#46039f\"], [0.2222222222222222, \"#7201a8\"], [0.3333333333333333, \"#9c179e\"], [0.4444444444444444, \"#bd3786\"], [0.5555555555555556, \"#d8576b\"], [0.6666666666666666, \"#ed7953\"], [0.7777777777777778, \"#fb9f3a\"], [0.8888888888888888, \"#fdca26\"], [1.0, \"#f0f921\"]], \"type\": \"surface\"}], \"table\": [{\"cells\": {\"fill\": {\"color\": \"#EBF0F8\"}, \"line\": {\"color\": \"white\"}}, \"header\": {\"fill\": {\"color\": \"#C8D4E3\"}, \"line\": {\"color\": \"white\"}}, \"type\": \"table\"}]}, \"layout\": {\"annotationdefaults\": {\"arrowcolor\": \"#2a3f5f\", \"arrowhead\": 0, \"arrowwidth\": 1}, \"coloraxis\": {\"colorbar\": {\"outlinewidth\": 0, \"ticks\": \"\"}}, \"colorscale\": {\"diverging\": [[0, \"#8e0152\"], [0.1, \"#c51b7d\"], [0.2, \"#de77ae\"], [0.3, \"#f1b6da\"], [0.4, \"#fde0ef\"], [0.5, \"#f7f7f7\"], [0.6, \"#e6f5d0\"], [0.7, \"#b8e186\"], [0.8, \"#7fbc41\"], [0.9, \"#4d9221\"], [1, \"#276419\"]], \"sequential\": [[0.0, \"#0d0887\"], [0.1111111111111111, \"#46039f\"], [0.2222222222222222, \"#7201a8\"], [0.3333333333333333, \"#9c179e\"], [0.4444444444444444, \"#bd3786\"], [0.5555555555555556, \"#d8576b\"], [0.6666666666666666, \"#ed7953\"], [0.7777777777777778, \"#fb9f3a\"], [0.8888888888888888, \"#fdca26\"], [1.0, \"#f0f921\"]], \"sequentialminus\": [[0.0, \"#0d0887\"], [0.1111111111111111, \"#46039f\"], [0.2222222222222222, \"#7201a8\"], [0.3333333333333333, \"#9c179e\"], [0.4444444444444444, \"#bd3786\"], [0.5555555555555556, \"#d8576b\"], [0.6666666666666666, \"#ed7953\"], [0.7777777777777778, \"#fb9f3a\"], [0.8888888888888888, \"#fdca26\"], [1.0, \"#f0f921\"]]}, \"colorway\": [\"#636efa\", \"#EF553B\", \"#00cc96\", \"#ab63fa\", \"#FFA15A\", \"#19d3f3\", \"#FF6692\", \"#B6E880\", \"#FF97FF\", \"#FECB52\"], \"font\": {\"color\": \"#2a3f5f\"}, \"geo\": {\"bgcolor\": \"white\", \"lakecolor\": \"white\", \"landcolor\": \"#E5ECF6\", \"showlakes\": true, \"showland\": true, \"subunitcolor\": \"white\"}, \"hoverlabel\": {\"align\": \"left\"}, \"hovermode\": \"closest\", \"mapbox\": {\"style\": \"light\"}, \"paper_bgcolor\": \"white\", \"plot_bgcolor\": \"#E5ECF6\", \"polar\": {\"angularaxis\": {\"gridcolor\": \"white\", \"linecolor\": \"white\", \"ticks\": \"\"}, \"bgcolor\": \"#E5ECF6\", \"radialaxis\": {\"gridcolor\": \"white\", \"linecolor\": \"white\", \"ticks\": \"\"}}, \"scene\": {\"xaxis\": {\"backgroundcolor\": \"#E5ECF6\", \"gridcolor\": \"white\", \"gridwidth\": 2, \"linecolor\": \"white\", \"showbackground\": true, \"ticks\": \"\", \"zerolinecolor\": \"white\"}, \"yaxis\": {\"backgroundcolor\": \"#E5ECF6\", \"gridcolor\": \"white\", \"gridwidth\": 2, \"linecolor\": \"white\", \"showbackground\": true, \"ticks\": \"\", \"zerolinecolor\": \"white\"}, \"zaxis\": {\"backgroundcolor\": \"#E5ECF6\", \"gridcolor\": \"white\", \"gridwidth\": 2, \"linecolor\": \"white\", \"showbackground\": true, \"ticks\": \"\", \"zerolinecolor\": \"white\"}}, \"shapedefaults\": {\"line\": {\"color\": \"#2a3f5f\"}}, \"ternary\": {\"aaxis\": {\"gridcolor\": \"white\", \"linecolor\": \"white\", \"ticks\": \"\"}, \"baxis\": {\"gridcolor\": \"white\", \"linecolor\": \"white\", \"ticks\": \"\"}, \"bgcolor\": \"#E5ECF6\", \"caxis\": {\"gridcolor\": \"white\", \"linecolor\": \"white\", \"ticks\": \"\"}}, \"title\": {\"x\": 0.05}, \"xaxis\": {\"automargin\": true, \"gridcolor\": \"white\", \"linecolor\": \"white\", \"ticks\": \"\", \"title\": {\"standoff\": 15}, \"zerolinecolor\": \"white\", \"zerolinewidth\": 2}, \"yaxis\": {\"automargin\": true, \"gridcolor\": \"white\", \"linecolor\": \"white\", \"ticks\": \"\", \"title\": {\"standoff\": 15}, \"zerolinecolor\": \"white\", \"zerolinewidth\": 2}}}, \"title\": {\"text\": \"$\\\\text{Average Velocity Estimate Error over the Monte Carlo Realizations}$\", \"x\": 0.48, \"xanchor\": \"center\", \"y\": 0.9, \"yanchor\": \"top\"}, \"xaxis\": {\"title\": {\"text\": \"$\\\\text{Time (} s\\\\text{)}$\"}}, \"yaxis\": {\"title\": {\"text\": \"$\\\\text{Error}$\"}}},\n",
       "                        {\"responsive\": true}\n",
       "                    ).then(function(){\n",
       "                            \n",
       "var gd = document.getElementById('ae40c48d-32f9-4847-9b06-ed0eb005a3f2');\n",
       "var x = new MutationObserver(function (mutations, observer) {{\n",
       "        var display = window.getComputedStyle(gd).display;\n",
       "        if (!display || display === 'none') {{\n",
       "            console.log([gd, 'removed!']);\n",
       "            Plotly.purge(gd);\n",
       "            observer.disconnect();\n",
       "        }}\n",
       "}});\n",
       "\n",
       "// Listen for the removal of the full notebook cells\n",
       "var notebookContainer = gd.closest('#notebook-container');\n",
       "if (notebookContainer) {{\n",
       "    x.observe(notebookContainer, {childList: true});\n",
       "}}\n",
       "\n",
       "// Listen for the clearing of the current output cell\n",
       "var outputEl = gd.closest('.output');\n",
       "if (outputEl) {{\n",
       "    x.observe(outputEl, {childList: true});\n",
       "}}\n",
       "\n",
       "                        })\n",
       "                };\n",
       "                });\n",
       "            </script>\n",
       "        </div>"
      ]
     },
     "metadata": {},
     "output_type": "display_data"
    }
   ],
   "source": [
    "eavex = [eave[i, 0] for i in range(kf_steps)]\n",
    "eavev = [eave[i, 1] for i in range(kf_steps)]\n",
    "eaveb = [eave[i, 2] for i in range(kf_steps)]\n",
    "\n",
    "\n",
    "figeavex = go.Figure()\n",
    "figeavex.add_trace(go.Scatter(x=t_kf, y=eavex, name=\"X Error\", line=dict(width=4)))\n",
    "figeavex.update_layout(title={'text':r\"$\\text{Average Position Estimate Error over the Monte Carlo Realizations}$\",'xanchor':'center','yanchor':'top','y':0.9,'x':0.48}, xaxis_title=r\"$\\text{Time (} s\\text{)}$\", yaxis_title=r\"$\\text{Error}$\")\n",
    "figeavex.show()\n",
    "\n",
    "figeavev = go.Figure()\n",
    "figeavev.add_trace(go.Scatter(x=t_kf, y=eavev, name=\"Error\", line=dict(width=4)))\n",
    "figeavev.update_layout(title={'text':r\"$\\text{Average Velocity Estimate Error over the Monte Carlo Realizations}$\",'xanchor':'center','yanchor':'top','y':0.9,'x':0.48}, xaxis_title=r\"$\\text{Time (} s\\text{)}$\", yaxis_title=r\"$\\text{Error}$\")\n",
    "figeavev.show()"
   ]
  },
  {
   "cell_type": "markdown",
   "metadata": {},
   "source": [
    "## Covariance Error"
   ]
  },
  {
   "cell_type": "code",
   "execution_count": 158,
   "metadata": {},
   "outputs": [
    {
     "data": {
      "application/vnd.plotly.v1+json": {
       "config": {
        "plotlyServerURL": "https://plot.ly"
       },
       "data": [
        {
         "name": "Norm of the Difference",
         "type": "scatter",
         "x": [
          0,
          0.2,
          0.4,
          0.6000000000000001,
          0.8,
          1,
          1.2000000000000002,
          1.4000000000000001,
          1.6,
          1.8,
          2,
          2.2,
          2.4000000000000004,
          2.6,
          2.8000000000000003,
          3,
          3.2,
          3.4000000000000004,
          3.6,
          3.8000000000000003,
          4,
          4.2,
          4.4,
          4.6000000000000005,
          4.800000000000001,
          5,
          5.2,
          5.4,
          5.6000000000000005,
          5.800000000000001,
          6,
          6.2,
          6.4,
          6.6000000000000005,
          6.800000000000001,
          7,
          7.2,
          7.4,
          7.6000000000000005,
          7.800000000000001,
          8,
          8.200000000000001,
          8.4,
          8.6,
          8.8,
          9,
          9.200000000000001,
          9.4,
          9.600000000000001,
          9.8,
          10,
          10.200000000000001,
          10.4,
          10.600000000000001,
          10.8,
          11,
          11.200000000000001,
          11.4,
          11.600000000000001,
          11.8,
          12,
          12.200000000000001,
          12.4,
          12.600000000000001,
          12.8,
          13,
          13.200000000000001,
          13.4,
          13.600000000000001,
          13.8,
          14,
          14.200000000000001,
          14.4,
          14.600000000000001,
          14.8,
          15,
          15.200000000000001,
          15.4,
          15.600000000000001,
          15.8,
          16,
          16.2,
          16.400000000000002,
          16.6,
          16.8,
          17,
          17.2,
          17.400000000000002,
          17.6,
          17.8,
          18,
          18.2,
          18.400000000000002,
          18.6,
          18.8,
          19,
          19.200000000000003,
          19.400000000000002,
          19.6,
          19.8,
          20,
          20.200000000000003,
          20.400000000000002,
          20.6,
          20.8,
          21,
          21.200000000000003,
          21.400000000000002,
          21.6,
          21.8,
          22,
          22.200000000000003,
          22.400000000000002,
          22.6,
          22.8,
          23,
          23.200000000000003,
          23.400000000000002,
          23.6,
          23.8,
          24,
          24.200000000000003,
          24.400000000000002,
          24.6,
          24.8,
          25,
          25.200000000000003,
          25.400000000000002,
          25.6,
          25.8,
          26,
          26.200000000000003,
          26.400000000000002,
          26.6,
          26.8,
          27,
          27.200000000000003,
          27.400000000000002,
          27.6,
          27.8,
          28,
          28.200000000000003,
          28.400000000000002,
          28.6,
          28.8,
          29,
          29.200000000000003,
          29.400000000000002,
          29.6,
          29.8,
          30
         ],
         "y": [
          1.4003881586633717,
          0.5583093964377652,
          0.7242450082469227,
          0.691696119787184,
          0.515981267462018,
          0.3545242150195644,
          0.24048885970116643,
          0.16649197502066,
          0.11865198313873397,
          0.08704431718742936,
          0.0656292008050988,
          0.05080391714716386,
          0.04009081629330709,
          0.03239183261169711,
          0.026446791476193977,
          0.02208330623085702,
          0.018616646952941154,
          0.015949719716851583,
          0.013785799691685502,
          0.011983259185308875,
          0.01046759054104596,
          0.009252978041669262,
          0.008193319879975186,
          0.007282763705578559,
          0.006536278265823356,
          0.005905438613580841,
          0.005316129978711518,
          0.004835268589671894,
          0.004414581303989827,
          0.004037292056899044,
          0.0037042904812986774,
          0.0033972075934551394,
          0.003125611163507787,
          0.0028925043919555507,
          0.0026732154202243163,
          0.0024764924633665264,
          0.002294027840050539,
          0.002124975603382676,
          0.0019912664947648174,
          0.0018887228508368131,
          0.0017364171295132357,
          0.0016213689293263982,
          0.001528592034880082,
          0.00142722572187262,
          0.0013830291744145553,
          0.0013299551496109739,
          0.0012313521339544096,
          0.0011634757520583314,
          0.0010930294796771046,
          0.001062589131725355,
          0.0010081373165448328,
          0.0009881699955378153,
          0.0009079487291579826,
          0.0008657160287359908,
          0.0008617015059198081,
          0.000843696791375992,
          0.0007972120121957308,
          0.0008340500984989177,
          0.0007601107199519467,
          0.0007422404584697613,
          0.0007171830260583629,
          0.0006642396826086485,
          0.00060306994393365,
          0.0005898643188245924,
          0.0005963572094012623,
          0.000578324234586521,
          0.0005887297783739327,
          0.0005679450931047943,
          0.0005633439942679082,
          0.0005854982501157182,
          0.0005690235196950483,
          0.000510960831143322,
          0.0005042086774423978,
          0.0004787949970708775,
          0.0005348880968797812,
          0.0005063991453490508,
          0.0004411271642607347,
          0.0004723779024451369,
          0.00042887362608693016,
          0.0004029565761755377,
          0.00038556291486479925,
          0.0003732532784049673,
          0.00041302995326119533,
          0.00037606905782278625,
          0.00034136441603369895,
          0.0003235148058452424,
          0.00031698831022910996,
          0.0002707718455189106,
          0.0002886128179318975,
          0.00027254594033913394,
          0.00022840278559281408,
          0.00016842271311011392,
          0.0001573880780935136,
          0.00014730608959498563,
          0.00014358254849130352,
          0.0001385683821216051,
          0.0001343435880065009,
          0.00013339484280668732,
          0.00014123642731746534,
          0.000158876982905813,
          0.0001941244581570303,
          0.00020910106631065714,
          0.00020811835319846527,
          0.0002152277662152266,
          0.00021366406893278468,
          0.00022561996931934553,
          0.00022235663862128676,
          0.00018285974306545956,
          0.00016156604234929028,
          0.00014517475919364857,
          0.00013527377970200735,
          0.00016348965148908485,
          0.00016630772568230904,
          0.00014926529320490896,
          0.0002281369492698173,
          0.00028181651416190733,
          0.0002721118299974698,
          0.0002501979337322459,
          0.0002585945560059588,
          0.00019439792978895263,
          0.0001889600662719293,
          0.00018871742039968357,
          0.00012985276141789717,
          0.0001433174351848814,
          0.00014320997468979222,
          0.0001564715609262217,
          0.0001521821101819126,
          0.0001605231130478457,
          0.0001730228541297729,
          0.00012460538331802003,
          0.00013895401496493052,
          0.00015902898482985132,
          0.0001523758721892324,
          0.0001916775207117166,
          0.00018935208731289406,
          0.0001641184219857926,
          0.0001650339289398097,
          0.00015981930857618555,
          0.0001677232831102996,
          0.0001687888722515123,
          0.00020374086104538384,
          0.00023189101238244787,
          0.00023608359525599748,
          0.0002163494908237185,
          0.0002366042738906801,
          0.0002274296637250537,
          0.00020074658322140768,
          0.0001849151713909165,
          0.0002057375208309984,
          0.0001613171151545118,
          0.0001814831119792173
         ]
        }
       ],
       "layout": {
        "template": {
         "data": {
          "bar": [
           {
            "error_x": {
             "color": "#2a3f5f"
            },
            "error_y": {
             "color": "#2a3f5f"
            },
            "marker": {
             "line": {
              "color": "#E5ECF6",
              "width": 0.5
             }
            },
            "type": "bar"
           }
          ],
          "barpolar": [
           {
            "marker": {
             "line": {
              "color": "#E5ECF6",
              "width": 0.5
             }
            },
            "type": "barpolar"
           }
          ],
          "carpet": [
           {
            "aaxis": {
             "endlinecolor": "#2a3f5f",
             "gridcolor": "white",
             "linecolor": "white",
             "minorgridcolor": "white",
             "startlinecolor": "#2a3f5f"
            },
            "baxis": {
             "endlinecolor": "#2a3f5f",
             "gridcolor": "white",
             "linecolor": "white",
             "minorgridcolor": "white",
             "startlinecolor": "#2a3f5f"
            },
            "type": "carpet"
           }
          ],
          "choropleth": [
           {
            "colorbar": {
             "outlinewidth": 0,
             "ticks": ""
            },
            "type": "choropleth"
           }
          ],
          "contour": [
           {
            "colorbar": {
             "outlinewidth": 0,
             "ticks": ""
            },
            "colorscale": [
             [
              0,
              "#0d0887"
             ],
             [
              0.1111111111111111,
              "#46039f"
             ],
             [
              0.2222222222222222,
              "#7201a8"
             ],
             [
              0.3333333333333333,
              "#9c179e"
             ],
             [
              0.4444444444444444,
              "#bd3786"
             ],
             [
              0.5555555555555556,
              "#d8576b"
             ],
             [
              0.6666666666666666,
              "#ed7953"
             ],
             [
              0.7777777777777778,
              "#fb9f3a"
             ],
             [
              0.8888888888888888,
              "#fdca26"
             ],
             [
              1,
              "#f0f921"
             ]
            ],
            "type": "contour"
           }
          ],
          "contourcarpet": [
           {
            "colorbar": {
             "outlinewidth": 0,
             "ticks": ""
            },
            "type": "contourcarpet"
           }
          ],
          "heatmap": [
           {
            "colorbar": {
             "outlinewidth": 0,
             "ticks": ""
            },
            "colorscale": [
             [
              0,
              "#0d0887"
             ],
             [
              0.1111111111111111,
              "#46039f"
             ],
             [
              0.2222222222222222,
              "#7201a8"
             ],
             [
              0.3333333333333333,
              "#9c179e"
             ],
             [
              0.4444444444444444,
              "#bd3786"
             ],
             [
              0.5555555555555556,
              "#d8576b"
             ],
             [
              0.6666666666666666,
              "#ed7953"
             ],
             [
              0.7777777777777778,
              "#fb9f3a"
             ],
             [
              0.8888888888888888,
              "#fdca26"
             ],
             [
              1,
              "#f0f921"
             ]
            ],
            "type": "heatmap"
           }
          ],
          "heatmapgl": [
           {
            "colorbar": {
             "outlinewidth": 0,
             "ticks": ""
            },
            "colorscale": [
             [
              0,
              "#0d0887"
             ],
             [
              0.1111111111111111,
              "#46039f"
             ],
             [
              0.2222222222222222,
              "#7201a8"
             ],
             [
              0.3333333333333333,
              "#9c179e"
             ],
             [
              0.4444444444444444,
              "#bd3786"
             ],
             [
              0.5555555555555556,
              "#d8576b"
             ],
             [
              0.6666666666666666,
              "#ed7953"
             ],
             [
              0.7777777777777778,
              "#fb9f3a"
             ],
             [
              0.8888888888888888,
              "#fdca26"
             ],
             [
              1,
              "#f0f921"
             ]
            ],
            "type": "heatmapgl"
           }
          ],
          "histogram": [
           {
            "marker": {
             "colorbar": {
              "outlinewidth": 0,
              "ticks": ""
             }
            },
            "type": "histogram"
           }
          ],
          "histogram2d": [
           {
            "colorbar": {
             "outlinewidth": 0,
             "ticks": ""
            },
            "colorscale": [
             [
              0,
              "#0d0887"
             ],
             [
              0.1111111111111111,
              "#46039f"
             ],
             [
              0.2222222222222222,
              "#7201a8"
             ],
             [
              0.3333333333333333,
              "#9c179e"
             ],
             [
              0.4444444444444444,
              "#bd3786"
             ],
             [
              0.5555555555555556,
              "#d8576b"
             ],
             [
              0.6666666666666666,
              "#ed7953"
             ],
             [
              0.7777777777777778,
              "#fb9f3a"
             ],
             [
              0.8888888888888888,
              "#fdca26"
             ],
             [
              1,
              "#f0f921"
             ]
            ],
            "type": "histogram2d"
           }
          ],
          "histogram2dcontour": [
           {
            "colorbar": {
             "outlinewidth": 0,
             "ticks": ""
            },
            "colorscale": [
             [
              0,
              "#0d0887"
             ],
             [
              0.1111111111111111,
              "#46039f"
             ],
             [
              0.2222222222222222,
              "#7201a8"
             ],
             [
              0.3333333333333333,
              "#9c179e"
             ],
             [
              0.4444444444444444,
              "#bd3786"
             ],
             [
              0.5555555555555556,
              "#d8576b"
             ],
             [
              0.6666666666666666,
              "#ed7953"
             ],
             [
              0.7777777777777778,
              "#fb9f3a"
             ],
             [
              0.8888888888888888,
              "#fdca26"
             ],
             [
              1,
              "#f0f921"
             ]
            ],
            "type": "histogram2dcontour"
           }
          ],
          "mesh3d": [
           {
            "colorbar": {
             "outlinewidth": 0,
             "ticks": ""
            },
            "type": "mesh3d"
           }
          ],
          "parcoords": [
           {
            "line": {
             "colorbar": {
              "outlinewidth": 0,
              "ticks": ""
             }
            },
            "type": "parcoords"
           }
          ],
          "pie": [
           {
            "automargin": true,
            "type": "pie"
           }
          ],
          "scatter": [
           {
            "marker": {
             "colorbar": {
              "outlinewidth": 0,
              "ticks": ""
             }
            },
            "type": "scatter"
           }
          ],
          "scatter3d": [
           {
            "line": {
             "colorbar": {
              "outlinewidth": 0,
              "ticks": ""
             }
            },
            "marker": {
             "colorbar": {
              "outlinewidth": 0,
              "ticks": ""
             }
            },
            "type": "scatter3d"
           }
          ],
          "scattercarpet": [
           {
            "marker": {
             "colorbar": {
              "outlinewidth": 0,
              "ticks": ""
             }
            },
            "type": "scattercarpet"
           }
          ],
          "scattergeo": [
           {
            "marker": {
             "colorbar": {
              "outlinewidth": 0,
              "ticks": ""
             }
            },
            "type": "scattergeo"
           }
          ],
          "scattergl": [
           {
            "marker": {
             "colorbar": {
              "outlinewidth": 0,
              "ticks": ""
             }
            },
            "type": "scattergl"
           }
          ],
          "scattermapbox": [
           {
            "marker": {
             "colorbar": {
              "outlinewidth": 0,
              "ticks": ""
             }
            },
            "type": "scattermapbox"
           }
          ],
          "scatterpolar": [
           {
            "marker": {
             "colorbar": {
              "outlinewidth": 0,
              "ticks": ""
             }
            },
            "type": "scatterpolar"
           }
          ],
          "scatterpolargl": [
           {
            "marker": {
             "colorbar": {
              "outlinewidth": 0,
              "ticks": ""
             }
            },
            "type": "scatterpolargl"
           }
          ],
          "scatterternary": [
           {
            "marker": {
             "colorbar": {
              "outlinewidth": 0,
              "ticks": ""
             }
            },
            "type": "scatterternary"
           }
          ],
          "surface": [
           {
            "colorbar": {
             "outlinewidth": 0,
             "ticks": ""
            },
            "colorscale": [
             [
              0,
              "#0d0887"
             ],
             [
              0.1111111111111111,
              "#46039f"
             ],
             [
              0.2222222222222222,
              "#7201a8"
             ],
             [
              0.3333333333333333,
              "#9c179e"
             ],
             [
              0.4444444444444444,
              "#bd3786"
             ],
             [
              0.5555555555555556,
              "#d8576b"
             ],
             [
              0.6666666666666666,
              "#ed7953"
             ],
             [
              0.7777777777777778,
              "#fb9f3a"
             ],
             [
              0.8888888888888888,
              "#fdca26"
             ],
             [
              1,
              "#f0f921"
             ]
            ],
            "type": "surface"
           }
          ],
          "table": [
           {
            "cells": {
             "fill": {
              "color": "#EBF0F8"
             },
             "line": {
              "color": "white"
             }
            },
            "header": {
             "fill": {
              "color": "#C8D4E3"
             },
             "line": {
              "color": "white"
             }
            },
            "type": "table"
           }
          ]
         },
         "layout": {
          "annotationdefaults": {
           "arrowcolor": "#2a3f5f",
           "arrowhead": 0,
           "arrowwidth": 1
          },
          "coloraxis": {
           "colorbar": {
            "outlinewidth": 0,
            "ticks": ""
           }
          },
          "colorscale": {
           "diverging": [
            [
             0,
             "#8e0152"
            ],
            [
             0.1,
             "#c51b7d"
            ],
            [
             0.2,
             "#de77ae"
            ],
            [
             0.3,
             "#f1b6da"
            ],
            [
             0.4,
             "#fde0ef"
            ],
            [
             0.5,
             "#f7f7f7"
            ],
            [
             0.6,
             "#e6f5d0"
            ],
            [
             0.7,
             "#b8e186"
            ],
            [
             0.8,
             "#7fbc41"
            ],
            [
             0.9,
             "#4d9221"
            ],
            [
             1,
             "#276419"
            ]
           ],
           "sequential": [
            [
             0,
             "#0d0887"
            ],
            [
             0.1111111111111111,
             "#46039f"
            ],
            [
             0.2222222222222222,
             "#7201a8"
            ],
            [
             0.3333333333333333,
             "#9c179e"
            ],
            [
             0.4444444444444444,
             "#bd3786"
            ],
            [
             0.5555555555555556,
             "#d8576b"
            ],
            [
             0.6666666666666666,
             "#ed7953"
            ],
            [
             0.7777777777777778,
             "#fb9f3a"
            ],
            [
             0.8888888888888888,
             "#fdca26"
            ],
            [
             1,
             "#f0f921"
            ]
           ],
           "sequentialminus": [
            [
             0,
             "#0d0887"
            ],
            [
             0.1111111111111111,
             "#46039f"
            ],
            [
             0.2222222222222222,
             "#7201a8"
            ],
            [
             0.3333333333333333,
             "#9c179e"
            ],
            [
             0.4444444444444444,
             "#bd3786"
            ],
            [
             0.5555555555555556,
             "#d8576b"
            ],
            [
             0.6666666666666666,
             "#ed7953"
            ],
            [
             0.7777777777777778,
             "#fb9f3a"
            ],
            [
             0.8888888888888888,
             "#fdca26"
            ],
            [
             1,
             "#f0f921"
            ]
           ]
          },
          "colorway": [
           "#636efa",
           "#EF553B",
           "#00cc96",
           "#ab63fa",
           "#FFA15A",
           "#19d3f3",
           "#FF6692",
           "#B6E880",
           "#FF97FF",
           "#FECB52"
          ],
          "font": {
           "color": "#2a3f5f"
          },
          "geo": {
           "bgcolor": "white",
           "lakecolor": "white",
           "landcolor": "#E5ECF6",
           "showlakes": true,
           "showland": true,
           "subunitcolor": "white"
          },
          "hoverlabel": {
           "align": "left"
          },
          "hovermode": "closest",
          "mapbox": {
           "style": "light"
          },
          "paper_bgcolor": "white",
          "plot_bgcolor": "#E5ECF6",
          "polar": {
           "angularaxis": {
            "gridcolor": "white",
            "linecolor": "white",
            "ticks": ""
           },
           "bgcolor": "#E5ECF6",
           "radialaxis": {
            "gridcolor": "white",
            "linecolor": "white",
            "ticks": ""
           }
          },
          "scene": {
           "xaxis": {
            "backgroundcolor": "#E5ECF6",
            "gridcolor": "white",
            "gridwidth": 2,
            "linecolor": "white",
            "showbackground": true,
            "ticks": "",
            "zerolinecolor": "white"
           },
           "yaxis": {
            "backgroundcolor": "#E5ECF6",
            "gridcolor": "white",
            "gridwidth": 2,
            "linecolor": "white",
            "showbackground": true,
            "ticks": "",
            "zerolinecolor": "white"
           },
           "zaxis": {
            "backgroundcolor": "#E5ECF6",
            "gridcolor": "white",
            "gridwidth": 2,
            "linecolor": "white",
            "showbackground": true,
            "ticks": "",
            "zerolinecolor": "white"
           }
          },
          "shapedefaults": {
           "line": {
            "color": "#2a3f5f"
           }
          },
          "ternary": {
           "aaxis": {
            "gridcolor": "white",
            "linecolor": "white",
            "ticks": ""
           },
           "baxis": {
            "gridcolor": "white",
            "linecolor": "white",
            "ticks": ""
           },
           "bgcolor": "#E5ECF6",
           "caxis": {
            "gridcolor": "white",
            "linecolor": "white",
            "ticks": ""
           }
          },
          "title": {
           "x": 0.05
          },
          "xaxis": {
           "automargin": true,
           "gridcolor": "white",
           "linecolor": "white",
           "ticks": "",
           "title": {
            "standoff": 15
           },
           "zerolinecolor": "white",
           "zerolinewidth": 2
          },
          "yaxis": {
           "automargin": true,
           "gridcolor": "white",
           "linecolor": "white",
           "ticks": "",
           "title": {
            "standoff": 15
           },
           "zerolinecolor": "white",
           "zerolinewidth": 2
          }
         }
        },
        "title": {
         "text": "$\\text{Norm of the Difference Between } P_{ave}(t_i) \\text{ and } P(t_i)$",
         "x": 0.48,
         "xanchor": "center",
         "y": 0.9,
         "yanchor": "top"
        },
        "xaxis": {
         "title": {
          "text": "$\\text{Time (} s \\text{)}$"
         }
        },
        "yaxis": {
         "title": {
          "text": "$\\text{Norm}$"
         }
        }
       }
      },
      "text/html": [
       "<div>\n",
       "        \n",
       "        \n",
       "            <div id=\"96442e3e-b704-4f2d-b5b5-83546b147c80\" class=\"plotly-graph-div\" style=\"height:525px; width:100%;\"></div>\n",
       "            <script type=\"text/javascript\">\n",
       "                require([\"plotly\"], function(Plotly) {\n",
       "                    window.PLOTLYENV=window.PLOTLYENV || {};\n",
       "                    \n",
       "                if (document.getElementById(\"96442e3e-b704-4f2d-b5b5-83546b147c80\")) {\n",
       "                    Plotly.newPlot(\n",
       "                        '96442e3e-b704-4f2d-b5b5-83546b147c80',\n",
       "                        [{\"name\": \"Norm of the Difference\", \"type\": \"scatter\", \"x\": [0.0, 0.2, 0.4, 0.6000000000000001, 0.8, 1.0, 1.2000000000000002, 1.4000000000000001, 1.6, 1.8, 2.0, 2.2, 2.4000000000000004, 2.6, 2.8000000000000003, 3.0, 3.2, 3.4000000000000004, 3.6, 3.8000000000000003, 4.0, 4.2, 4.4, 4.6000000000000005, 4.800000000000001, 5.0, 5.2, 5.4, 5.6000000000000005, 5.800000000000001, 6.0, 6.2, 6.4, 6.6000000000000005, 6.800000000000001, 7.0, 7.2, 7.4, 7.6000000000000005, 7.800000000000001, 8.0, 8.200000000000001, 8.4, 8.6, 8.8, 9.0, 9.200000000000001, 9.4, 9.600000000000001, 9.8, 10.0, 10.200000000000001, 10.4, 10.600000000000001, 10.8, 11.0, 11.200000000000001, 11.4, 11.600000000000001, 11.8, 12.0, 12.200000000000001, 12.4, 12.600000000000001, 12.8, 13.0, 13.200000000000001, 13.4, 13.600000000000001, 13.8, 14.0, 14.200000000000001, 14.4, 14.600000000000001, 14.8, 15.0, 15.200000000000001, 15.4, 15.600000000000001, 15.8, 16.0, 16.2, 16.400000000000002, 16.6, 16.8, 17.0, 17.2, 17.400000000000002, 17.6, 17.8, 18.0, 18.2, 18.400000000000002, 18.6, 18.8, 19.0, 19.200000000000003, 19.400000000000002, 19.6, 19.8, 20.0, 20.200000000000003, 20.400000000000002, 20.6, 20.8, 21.0, 21.200000000000003, 21.400000000000002, 21.6, 21.8, 22.0, 22.200000000000003, 22.400000000000002, 22.6, 22.8, 23.0, 23.200000000000003, 23.400000000000002, 23.6, 23.8, 24.0, 24.200000000000003, 24.400000000000002, 24.6, 24.8, 25.0, 25.200000000000003, 25.400000000000002, 25.6, 25.8, 26.0, 26.200000000000003, 26.400000000000002, 26.6, 26.8, 27.0, 27.200000000000003, 27.400000000000002, 27.6, 27.8, 28.0, 28.200000000000003, 28.400000000000002, 28.6, 28.8, 29.0, 29.200000000000003, 29.400000000000002, 29.6, 29.8, 30.0], \"y\": [1.4003881586633717, 0.5583093964377652, 0.7242450082469227, 0.691696119787184, 0.515981267462018, 0.3545242150195644, 0.24048885970116643, 0.16649197502066, 0.11865198313873397, 0.08704431718742936, 0.0656292008050988, 0.05080391714716386, 0.04009081629330709, 0.03239183261169711, 0.026446791476193977, 0.02208330623085702, 0.018616646952941154, 0.015949719716851583, 0.013785799691685502, 0.011983259185308875, 0.01046759054104596, 0.009252978041669262, 0.008193319879975186, 0.007282763705578559, 0.006536278265823356, 0.005905438613580841, 0.005316129978711518, 0.004835268589671894, 0.004414581303989827, 0.004037292056899044, 0.0037042904812986774, 0.0033972075934551394, 0.003125611163507787, 0.0028925043919555507, 0.0026732154202243163, 0.0024764924633665264, 0.002294027840050539, 0.002124975603382676, 0.0019912664947648174, 0.0018887228508368131, 0.0017364171295132357, 0.0016213689293263982, 0.001528592034880082, 0.00142722572187262, 0.0013830291744145553, 0.0013299551496109739, 0.0012313521339544096, 0.0011634757520583314, 0.0010930294796771046, 0.001062589131725355, 0.0010081373165448328, 0.0009881699955378153, 0.0009079487291579826, 0.0008657160287359908, 0.0008617015059198081, 0.000843696791375992, 0.0007972120121957308, 0.0008340500984989177, 0.0007601107199519467, 0.0007422404584697613, 0.0007171830260583629, 0.0006642396826086485, 0.00060306994393365, 0.0005898643188245924, 0.0005963572094012623, 0.000578324234586521, 0.0005887297783739327, 0.0005679450931047943, 0.0005633439942679082, 0.0005854982501157182, 0.0005690235196950483, 0.000510960831143322, 0.0005042086774423978, 0.0004787949970708775, 0.0005348880968797812, 0.0005063991453490508, 0.0004411271642607347, 0.0004723779024451369, 0.00042887362608693016, 0.0004029565761755377, 0.00038556291486479925, 0.0003732532784049673, 0.00041302995326119533, 0.00037606905782278625, 0.00034136441603369895, 0.0003235148058452424, 0.00031698831022910996, 0.0002707718455189106, 0.0002886128179318975, 0.00027254594033913394, 0.00022840278559281408, 0.00016842271311011392, 0.0001573880780935136, 0.00014730608959498563, 0.00014358254849130352, 0.0001385683821216051, 0.0001343435880065009, 0.00013339484280668732, 0.00014123642731746534, 0.000158876982905813, 0.0001941244581570303, 0.00020910106631065714, 0.00020811835319846527, 0.0002152277662152266, 0.00021366406893278468, 0.00022561996931934553, 0.00022235663862128676, 0.00018285974306545956, 0.00016156604234929028, 0.00014517475919364857, 0.00013527377970200735, 0.00016348965148908485, 0.00016630772568230904, 0.00014926529320490896, 0.0002281369492698173, 0.00028181651416190733, 0.0002721118299974698, 0.0002501979337322459, 0.0002585945560059588, 0.00019439792978895263, 0.0001889600662719293, 0.00018871742039968357, 0.00012985276141789717, 0.0001433174351848814, 0.00014320997468979222, 0.0001564715609262217, 0.0001521821101819126, 0.0001605231130478457, 0.0001730228541297729, 0.00012460538331802003, 0.00013895401496493052, 0.00015902898482985132, 0.0001523758721892324, 0.0001916775207117166, 0.00018935208731289406, 0.0001641184219857926, 0.0001650339289398097, 0.00015981930857618555, 0.0001677232831102996, 0.0001687888722515123, 0.00020374086104538384, 0.00023189101238244787, 0.00023608359525599748, 0.0002163494908237185, 0.0002366042738906801, 0.0002274296637250537, 0.00020074658322140768, 0.0001849151713909165, 0.0002057375208309984, 0.0001613171151545118, 0.0001814831119792173]}],\n",
       "                        {\"template\": {\"data\": {\"bar\": [{\"error_x\": {\"color\": \"#2a3f5f\"}, \"error_y\": {\"color\": \"#2a3f5f\"}, \"marker\": {\"line\": {\"color\": \"#E5ECF6\", \"width\": 0.5}}, \"type\": \"bar\"}], \"barpolar\": [{\"marker\": {\"line\": {\"color\": \"#E5ECF6\", \"width\": 0.5}}, \"type\": \"barpolar\"}], \"carpet\": [{\"aaxis\": {\"endlinecolor\": \"#2a3f5f\", \"gridcolor\": \"white\", \"linecolor\": \"white\", \"minorgridcolor\": \"white\", \"startlinecolor\": \"#2a3f5f\"}, \"baxis\": {\"endlinecolor\": \"#2a3f5f\", \"gridcolor\": \"white\", \"linecolor\": \"white\", \"minorgridcolor\": \"white\", \"startlinecolor\": \"#2a3f5f\"}, \"type\": \"carpet\"}], \"choropleth\": [{\"colorbar\": {\"outlinewidth\": 0, \"ticks\": \"\"}, \"type\": \"choropleth\"}], \"contour\": [{\"colorbar\": {\"outlinewidth\": 0, \"ticks\": \"\"}, \"colorscale\": [[0.0, \"#0d0887\"], [0.1111111111111111, \"#46039f\"], [0.2222222222222222, \"#7201a8\"], [0.3333333333333333, \"#9c179e\"], [0.4444444444444444, \"#bd3786\"], [0.5555555555555556, \"#d8576b\"], [0.6666666666666666, \"#ed7953\"], [0.7777777777777778, \"#fb9f3a\"], [0.8888888888888888, \"#fdca26\"], [1.0, \"#f0f921\"]], \"type\": \"contour\"}], \"contourcarpet\": [{\"colorbar\": {\"outlinewidth\": 0, \"ticks\": \"\"}, \"type\": \"contourcarpet\"}], \"heatmap\": [{\"colorbar\": {\"outlinewidth\": 0, \"ticks\": \"\"}, \"colorscale\": [[0.0, \"#0d0887\"], [0.1111111111111111, \"#46039f\"], [0.2222222222222222, \"#7201a8\"], [0.3333333333333333, \"#9c179e\"], [0.4444444444444444, \"#bd3786\"], [0.5555555555555556, \"#d8576b\"], [0.6666666666666666, \"#ed7953\"], [0.7777777777777778, \"#fb9f3a\"], [0.8888888888888888, \"#fdca26\"], [1.0, \"#f0f921\"]], \"type\": \"heatmap\"}], \"heatmapgl\": [{\"colorbar\": {\"outlinewidth\": 0, \"ticks\": \"\"}, \"colorscale\": [[0.0, \"#0d0887\"], [0.1111111111111111, \"#46039f\"], [0.2222222222222222, \"#7201a8\"], [0.3333333333333333, \"#9c179e\"], [0.4444444444444444, \"#bd3786\"], [0.5555555555555556, \"#d8576b\"], [0.6666666666666666, \"#ed7953\"], [0.7777777777777778, \"#fb9f3a\"], [0.8888888888888888, \"#fdca26\"], [1.0, \"#f0f921\"]], \"type\": \"heatmapgl\"}], \"histogram\": [{\"marker\": {\"colorbar\": {\"outlinewidth\": 0, \"ticks\": \"\"}}, \"type\": \"histogram\"}], \"histogram2d\": [{\"colorbar\": {\"outlinewidth\": 0, \"ticks\": \"\"}, \"colorscale\": [[0.0, \"#0d0887\"], [0.1111111111111111, \"#46039f\"], [0.2222222222222222, \"#7201a8\"], [0.3333333333333333, \"#9c179e\"], [0.4444444444444444, \"#bd3786\"], [0.5555555555555556, \"#d8576b\"], [0.6666666666666666, \"#ed7953\"], [0.7777777777777778, \"#fb9f3a\"], [0.8888888888888888, \"#fdca26\"], [1.0, \"#f0f921\"]], \"type\": \"histogram2d\"}], \"histogram2dcontour\": [{\"colorbar\": {\"outlinewidth\": 0, \"ticks\": \"\"}, \"colorscale\": [[0.0, \"#0d0887\"], [0.1111111111111111, \"#46039f\"], [0.2222222222222222, \"#7201a8\"], [0.3333333333333333, \"#9c179e\"], [0.4444444444444444, \"#bd3786\"], [0.5555555555555556, \"#d8576b\"], [0.6666666666666666, \"#ed7953\"], [0.7777777777777778, \"#fb9f3a\"], [0.8888888888888888, \"#fdca26\"], [1.0, \"#f0f921\"]], \"type\": \"histogram2dcontour\"}], \"mesh3d\": [{\"colorbar\": {\"outlinewidth\": 0, \"ticks\": \"\"}, \"type\": \"mesh3d\"}], \"parcoords\": [{\"line\": {\"colorbar\": {\"outlinewidth\": 0, \"ticks\": \"\"}}, \"type\": \"parcoords\"}], \"pie\": [{\"automargin\": true, \"type\": \"pie\"}], \"scatter\": [{\"marker\": {\"colorbar\": {\"outlinewidth\": 0, \"ticks\": \"\"}}, \"type\": \"scatter\"}], \"scatter3d\": [{\"line\": {\"colorbar\": {\"outlinewidth\": 0, \"ticks\": \"\"}}, \"marker\": {\"colorbar\": {\"outlinewidth\": 0, \"ticks\": \"\"}}, \"type\": \"scatter3d\"}], \"scattercarpet\": [{\"marker\": {\"colorbar\": {\"outlinewidth\": 0, \"ticks\": \"\"}}, \"type\": \"scattercarpet\"}], \"scattergeo\": [{\"marker\": {\"colorbar\": {\"outlinewidth\": 0, \"ticks\": \"\"}}, \"type\": \"scattergeo\"}], \"scattergl\": [{\"marker\": {\"colorbar\": {\"outlinewidth\": 0, \"ticks\": \"\"}}, \"type\": \"scattergl\"}], \"scattermapbox\": [{\"marker\": {\"colorbar\": {\"outlinewidth\": 0, \"ticks\": \"\"}}, \"type\": \"scattermapbox\"}], \"scatterpolar\": [{\"marker\": {\"colorbar\": {\"outlinewidth\": 0, \"ticks\": \"\"}}, \"type\": \"scatterpolar\"}], \"scatterpolargl\": [{\"marker\": {\"colorbar\": {\"outlinewidth\": 0, \"ticks\": \"\"}}, \"type\": \"scatterpolargl\"}], \"scatterternary\": [{\"marker\": {\"colorbar\": {\"outlinewidth\": 0, \"ticks\": \"\"}}, \"type\": \"scatterternary\"}], \"surface\": [{\"colorbar\": {\"outlinewidth\": 0, \"ticks\": \"\"}, \"colorscale\": [[0.0, \"#0d0887\"], [0.1111111111111111, \"#46039f\"], [0.2222222222222222, \"#7201a8\"], [0.3333333333333333, \"#9c179e\"], [0.4444444444444444, \"#bd3786\"], [0.5555555555555556, \"#d8576b\"], [0.6666666666666666, \"#ed7953\"], [0.7777777777777778, \"#fb9f3a\"], [0.8888888888888888, \"#fdca26\"], [1.0, \"#f0f921\"]], \"type\": \"surface\"}], \"table\": [{\"cells\": {\"fill\": {\"color\": \"#EBF0F8\"}, \"line\": {\"color\": \"white\"}}, \"header\": {\"fill\": {\"color\": \"#C8D4E3\"}, \"line\": {\"color\": \"white\"}}, \"type\": \"table\"}]}, \"layout\": {\"annotationdefaults\": {\"arrowcolor\": \"#2a3f5f\", \"arrowhead\": 0, \"arrowwidth\": 1}, \"coloraxis\": {\"colorbar\": {\"outlinewidth\": 0, \"ticks\": \"\"}}, \"colorscale\": {\"diverging\": [[0, \"#8e0152\"], [0.1, \"#c51b7d\"], [0.2, \"#de77ae\"], [0.3, \"#f1b6da\"], [0.4, \"#fde0ef\"], [0.5, \"#f7f7f7\"], [0.6, \"#e6f5d0\"], [0.7, \"#b8e186\"], [0.8, \"#7fbc41\"], [0.9, \"#4d9221\"], [1, \"#276419\"]], \"sequential\": [[0.0, \"#0d0887\"], [0.1111111111111111, \"#46039f\"], [0.2222222222222222, \"#7201a8\"], [0.3333333333333333, \"#9c179e\"], [0.4444444444444444, \"#bd3786\"], [0.5555555555555556, \"#d8576b\"], [0.6666666666666666, \"#ed7953\"], [0.7777777777777778, \"#fb9f3a\"], [0.8888888888888888, \"#fdca26\"], [1.0, \"#f0f921\"]], \"sequentialminus\": [[0.0, \"#0d0887\"], [0.1111111111111111, \"#46039f\"], [0.2222222222222222, \"#7201a8\"], [0.3333333333333333, \"#9c179e\"], [0.4444444444444444, \"#bd3786\"], [0.5555555555555556, \"#d8576b\"], [0.6666666666666666, \"#ed7953\"], [0.7777777777777778, \"#fb9f3a\"], [0.8888888888888888, \"#fdca26\"], [1.0, \"#f0f921\"]]}, \"colorway\": [\"#636efa\", \"#EF553B\", \"#00cc96\", \"#ab63fa\", \"#FFA15A\", \"#19d3f3\", \"#FF6692\", \"#B6E880\", \"#FF97FF\", \"#FECB52\"], \"font\": {\"color\": \"#2a3f5f\"}, \"geo\": {\"bgcolor\": \"white\", \"lakecolor\": \"white\", \"landcolor\": \"#E5ECF6\", \"showlakes\": true, \"showland\": true, \"subunitcolor\": \"white\"}, \"hoverlabel\": {\"align\": \"left\"}, \"hovermode\": \"closest\", \"mapbox\": {\"style\": \"light\"}, \"paper_bgcolor\": \"white\", \"plot_bgcolor\": \"#E5ECF6\", \"polar\": {\"angularaxis\": {\"gridcolor\": \"white\", \"linecolor\": \"white\", \"ticks\": \"\"}, \"bgcolor\": \"#E5ECF6\", \"radialaxis\": {\"gridcolor\": \"white\", \"linecolor\": \"white\", \"ticks\": \"\"}}, \"scene\": {\"xaxis\": {\"backgroundcolor\": \"#E5ECF6\", \"gridcolor\": \"white\", \"gridwidth\": 2, \"linecolor\": \"white\", \"showbackground\": true, \"ticks\": \"\", \"zerolinecolor\": \"white\"}, \"yaxis\": {\"backgroundcolor\": \"#E5ECF6\", \"gridcolor\": \"white\", \"gridwidth\": 2, \"linecolor\": \"white\", \"showbackground\": true, \"ticks\": \"\", \"zerolinecolor\": \"white\"}, \"zaxis\": {\"backgroundcolor\": \"#E5ECF6\", \"gridcolor\": \"white\", \"gridwidth\": 2, \"linecolor\": \"white\", \"showbackground\": true, \"ticks\": \"\", \"zerolinecolor\": \"white\"}}, \"shapedefaults\": {\"line\": {\"color\": \"#2a3f5f\"}}, \"ternary\": {\"aaxis\": {\"gridcolor\": \"white\", \"linecolor\": \"white\", \"ticks\": \"\"}, \"baxis\": {\"gridcolor\": \"white\", \"linecolor\": \"white\", \"ticks\": \"\"}, \"bgcolor\": \"#E5ECF6\", \"caxis\": {\"gridcolor\": \"white\", \"linecolor\": \"white\", \"ticks\": \"\"}}, \"title\": {\"x\": 0.05}, \"xaxis\": {\"automargin\": true, \"gridcolor\": \"white\", \"linecolor\": \"white\", \"ticks\": \"\", \"title\": {\"standoff\": 15}, \"zerolinecolor\": \"white\", \"zerolinewidth\": 2}, \"yaxis\": {\"automargin\": true, \"gridcolor\": \"white\", \"linecolor\": \"white\", \"ticks\": \"\", \"title\": {\"standoff\": 15}, \"zerolinecolor\": \"white\", \"zerolinewidth\": 2}}}, \"title\": {\"text\": \"$\\\\text{Norm of the Difference Between } P_{ave}(t_i) \\\\text{ and } P(t_i)$\", \"x\": 0.48, \"xanchor\": \"center\", \"y\": 0.9, \"yanchor\": \"top\"}, \"xaxis\": {\"title\": {\"text\": \"$\\\\text{Time (} s \\\\text{)}$\"}}, \"yaxis\": {\"title\": {\"text\": \"$\\\\text{Norm}$\"}}},\n",
       "                        {\"responsive\": true}\n",
       "                    ).then(function(){\n",
       "                            \n",
       "var gd = document.getElementById('96442e3e-b704-4f2d-b5b5-83546b147c80');\n",
       "var x = new MutationObserver(function (mutations, observer) {{\n",
       "        var display = window.getComputedStyle(gd).display;\n",
       "        if (!display || display === 'none') {{\n",
       "            console.log([gd, 'removed!']);\n",
       "            Plotly.purge(gd);\n",
       "            observer.disconnect();\n",
       "        }}\n",
       "}});\n",
       "\n",
       "// Listen for the removal of the full notebook cells\n",
       "var notebookContainer = gd.closest('#notebook-container');\n",
       "if (notebookContainer) {{\n",
       "    x.observe(notebookContainer, {childList: true});\n",
       "}}\n",
       "\n",
       "// Listen for the clearing of the current output cell\n",
       "var outputEl = gd.closest('.output');\n",
       "if (outputEl) {{\n",
       "    x.observe(outputEl, {childList: true});\n",
       "}}\n",
       "\n",
       "                        })\n",
       "                };\n",
       "                });\n",
       "            </script>\n",
       "        </div>"
      ]
     },
     "metadata": {},
     "output_type": "display_data"
    },
    {
     "name": "stdout",
     "output_type": "stream",
     "text": [
      "Last Covariance Matrices at index 150\n",
      "[[ 9.50658736e-03  2.94831460e-04 -9.88753100e-06]\n",
      " [ 2.94831460e-04  1.62769168e-04 -5.79227712e-06]\n",
      " [-9.88753100e-06 -5.79227712e-06  3.05196762e-06]]\n",
      "[[ 9.68357005e-03  2.93121484e-04 -8.94879251e-06]\n",
      " [ 2.93121484e-04  1.40325811e-04 -2.80961812e-05]\n",
      " [-8.94879251e-06 -2.80961812e-05  1.33962632e-05]]\n"
     ]
    }
   ],
   "source": [
    "# Covariance difference check Pave(t_i) - P(t_i) ~= 0\n",
    "pdiffnorm = [np.linalg.norm(pave[i,:,:] - Ps[i]) for i in range(kf_steps)]\n",
    "figpdn = go.Figure()\n",
    "figpdn.add_trace(go.Scatter(x=t_kf, y=pdiffnorm, name=\"Norm of the Difference\"))\n",
    "figpdn.update_layout(title={'text':r\"$\\text{Norm of the Difference Between } P_{ave}(t_i) \\text{ and } P(t_i)$\",'xanchor':'center','yanchor':'top','y':0.9,'x':0.48}, xaxis_title=r\"$\\text{Time (} s \\text{)}$\", yaxis_title=r\"$\\text{Norm}$\")\n",
    "figpdn.show()\n",
    "\n",
    "print(\"Last Covariance Matrices at index 150\")\n",
    "print(Ps[150])\n",
    "print(pave[150,:,:])"
   ]
  },
  {
   "cell_type": "code",
   "execution_count": 143,
   "metadata": {},
   "outputs": [
    {
     "data": {
      "application/vnd.plotly.v1+json": {
       "config": {
        "plotlyServerURL": "https://plot.ly"
       },
       "data": [
        {
         "name": "Average",
         "type": "scatter",
         "x": [
          0,
          0.2,
          0.4,
          0.6000000000000001,
          0.8,
          1,
          1.2000000000000002,
          1.4000000000000001,
          1.6,
          1.8,
          2,
          2.2,
          2.4000000000000004,
          2.6,
          2.8000000000000003,
          3,
          3.2,
          3.4000000000000004,
          3.6,
          3.8000000000000003,
          4,
          4.2,
          4.4,
          4.6000000000000005,
          4.800000000000001,
          5,
          5.2,
          5.4,
          5.6000000000000005,
          5.800000000000001,
          6,
          6.2,
          6.4,
          6.6000000000000005,
          6.800000000000001,
          7,
          7.2,
          7.4,
          7.6000000000000005,
          7.800000000000001,
          8,
          8.200000000000001,
          8.4,
          8.6,
          8.8,
          9,
          9.200000000000001,
          9.4,
          9.600000000000001,
          9.8,
          10,
          10.200000000000001,
          10.4,
          10.600000000000001,
          10.8,
          11,
          11.200000000000001,
          11.4,
          11.600000000000001,
          11.8,
          12,
          12.200000000000001,
          12.4,
          12.600000000000001,
          12.8,
          13,
          13.200000000000001,
          13.4,
          13.600000000000001,
          13.8,
          14,
          14.200000000000001,
          14.4,
          14.600000000000001,
          14.8,
          15,
          15.200000000000001,
          15.4,
          15.600000000000001,
          15.8,
          16,
          16.2,
          16.400000000000002,
          16.6,
          16.8,
          17,
          17.2,
          17.400000000000002,
          17.6,
          17.8,
          18,
          18.2,
          18.400000000000002,
          18.6,
          18.8,
          19,
          19.200000000000003,
          19.400000000000002,
          19.6,
          19.8,
          20,
          20.200000000000003,
          20.400000000000002,
          20.6,
          20.8,
          21,
          21.200000000000003,
          21.400000000000002,
          21.6,
          21.8,
          22,
          22.200000000000003,
          22.400000000000002,
          22.6,
          22.8,
          23,
          23.200000000000003,
          23.400000000000002,
          23.6,
          23.8,
          24,
          24.200000000000003,
          24.400000000000002,
          24.6,
          24.8,
          25,
          25.200000000000003,
          25.400000000000002,
          25.6,
          25.8,
          26,
          26.200000000000003,
          26.400000000000002,
          26.6,
          26.8,
          27,
          27.200000000000003,
          27.400000000000002,
          27.6,
          27.8,
          28,
          28.200000000000003,
          28.400000000000002,
          28.6,
          28.8,
          29,
          29.200000000000003,
          29.400000000000002,
          29.6,
          29.8,
          30
         ],
         "y": [
          0.011319391502685055,
          0.25606306686481994,
          0.22834818806918766,
          0.19137117356810557,
          0.16353262450798417,
          0.14113992727160182,
          0.12351851101381776,
          0.11124670371459554,
          0.10059823636213781,
          0.09153553782619606,
          0.08418032538081134,
          0.07852776136519517,
          0.073868493828638,
          0.06876410098645869,
          0.06490702466072362,
          0.060873609396027234,
          0.05733274153713674,
          0.054164821537275774,
          0.05112355289517327,
          0.04887697637276169,
          0.04688073017998765,
          0.04484068660055799,
          0.043077917710756156,
          0.041417369785242825,
          0.03968597824520759,
          0.038275825404853976,
          0.037146100893540195,
          0.03590319844721027,
          0.03466998069109077,
          0.03369465031611645,
          0.03247254722677338,
          0.031543594954111576,
          0.030875713988901873,
          0.029952584687424733,
          0.02911050613680577,
          0.028246314349382285,
          0.02754945994617411,
          0.02687788602924987,
          0.026068101373159815,
          0.02535798330430147,
          0.02494990381910021,
          0.024389986874052392,
          0.023825214695100707,
          0.023338005504835807,
          0.022717572319518705,
          0.022192098104343527,
          0.0218236613499164,
          0.021407359024329966,
          0.021054587707727355,
          0.020592610894880535,
          0.020233012795330386,
          0.019809408286795848,
          0.019550884134833173,
          0.01922164139964587,
          0.01883993782454375,
          0.01850429200079843,
          0.018239904714565363,
          0.01785868080774738,
          0.01766299067227665,
          0.017391389639935313,
          0.01714495150324403,
          0.016952646880084115,
          0.016784995222817647,
          0.016545047200014727,
          0.016292289913684997,
          0.016082010117689886,
          0.015841628190504126,
          0.015653482793345986,
          0.015449451699459401,
          0.015221751208399118,
          0.01504989887089437,
          0.014940948151011582,
          0.01476633495940764,
          0.014622505219831156,
          0.014385150421740881,
          0.014254828522375891,
          0.01417545781354889,
          0.01398513801407519,
          0.013887101793033891,
          0.013773444156476402,
          0.013651961824430585,
          0.013529021106088121,
          0.01335047866673383,
          0.013264842972633804,
          0.013179891073737328,
          0.01307893798448373,
          0.01296743147787617,
          0.012910098665639042,
          0.012775486976377506,
          0.012684972850098977,
          0.012634908719575474,
          0.012627620318549665,
          0.012547240302946502,
          0.01248476206899597,
          0.012373079619120772,
          0.01227808465817585,
          0.012193120388626555,
          0.012200574500873331,
          0.012142942515837097,
          0.012094302217548586,
          0.01205994252548891,
          0.012002762584980745,
          0.011928699296228322,
          0.011865421701924814,
          0.011793122114017774,
          0.011735075189039192,
          0.011665677384339568,
          0.011555861678720717,
          0.01146642727275517,
          0.011383664603201029,
          0.011309846210029059,
          0.011281829300257092,
          0.01122417270251064,
          0.011146873470987742,
          0.011173122565256054,
          0.011171199002449294,
          0.011105906476092752,
          0.011028869709336657,
          0.01098553476970786,
          0.010869430012386614,
          0.010814562366693455,
          0.010765293114736717,
          0.01065322393517772,
          0.010620853705281205,
          0.010574407414336169,
          0.010542859697722116,
          0.010493733123035691,
          0.010459479216421121,
          0.010428705317883263,
          0.010335546870055204,
          0.010309886498528275,
          0.010290192736868086,
          0.010243950069837192,
          0.010247090969415092,
          0.010206668999418798,
          0.01014435122202856,
          0.010109020778401185,
          0.010067710051598655,
          0.010040877368196886,
          0.01000767068599269,
          0.010009464974918517,
          0.010004934262981845,
          0.009976867210841433,
          0.009925220093782786,
          0.009914876909611974,
          0.009875056419293557,
          0.009817764576289295,
          0.009772195985313165,
          0.009764628111887698,
          0.009690343423449625,
          0.009683570052232271
         ]
        },
        {
         "name": "P",
         "type": "scatter",
         "x": [
          0,
          0.2,
          0.4,
          0.6000000000000001,
          0.8,
          1,
          1.2000000000000002,
          1.4000000000000001,
          1.6,
          1.8,
          2,
          2.2,
          2.4000000000000004,
          2.6,
          2.8000000000000003,
          3,
          3.2,
          3.4000000000000004,
          3.6,
          3.8000000000000003,
          4,
          4.2,
          4.4,
          4.6000000000000005,
          4.800000000000001,
          5,
          5.2,
          5.4,
          5.6000000000000005,
          5.800000000000001,
          6,
          6.2,
          6.4,
          6.6000000000000005,
          6.800000000000001,
          7,
          7.2,
          7.4,
          7.6000000000000005,
          7.800000000000001,
          8,
          8.200000000000001,
          8.4,
          8.6,
          8.8,
          9,
          9.200000000000001,
          9.4,
          9.600000000000001,
          9.8,
          10,
          10.200000000000001,
          10.4,
          10.600000000000001,
          10.8,
          11,
          11.200000000000001,
          11.4,
          11.600000000000001,
          11.8,
          12,
          12.200000000000001,
          12.4,
          12.600000000000001,
          12.8,
          13,
          13.200000000000001,
          13.4,
          13.600000000000001,
          13.8,
          14,
          14.200000000000001,
          14.4,
          14.600000000000001,
          14.8,
          15,
          15.200000000000001,
          15.4,
          15.600000000000001,
          15.8,
          16,
          16.2,
          16.400000000000002,
          16.6,
          16.8,
          17,
          17.2,
          17.400000000000002,
          17.6,
          17.8,
          18,
          18.2,
          18.400000000000002,
          18.6,
          18.8,
          19,
          19.200000000000003,
          19.400000000000002,
          19.6,
          19.8,
          20,
          20.200000000000003,
          20.400000000000002,
          20.6,
          20.8,
          21,
          21.200000000000003,
          21.400000000000002,
          21.6,
          21.8,
          22,
          22.200000000000003,
          22.400000000000002,
          22.6,
          22.8,
          23,
          23.200000000000003,
          23.400000000000002,
          23.6,
          23.8,
          24,
          24.200000000000003,
          24.400000000000002,
          24.6,
          24.8,
          25,
          25.200000000000003,
          25.400000000000002,
          25.6,
          25.8,
          26,
          26.200000000000003,
          26.400000000000002,
          26.6,
          26.8,
          27,
          27.200000000000003,
          27.400000000000002,
          27.6,
          27.8,
          28,
          28.200000000000003,
          28.400000000000002,
          28.6,
          28.8,
          29,
          29.200000000000003,
          29.400000000000002,
          29.6,
          29.8,
          30
         ],
         "y": [
          0.9900990165698914,
          0.4975206719500864,
          0.33224781188229,
          0.24941461754883737,
          0.19965685795735233,
          0.1664645793175523,
          0.1427484342553799,
          0.12495928632099011,
          0.11112364363486346,
          0.10005662789846796,
          0.09100383803005986,
          0.08346213262308314,
          0.07708306501764266,
          0.07161767412613408,
          0.06688334440904156,
          0.0627430857036061,
          0.059092121811976026,
          0.05584894710837918,
          0.052949205906457714,
          0.05034140710770722,
          0.047983862658168536,
          0.04584246059474706,
          0.04388901878490069,
          0.042100050060721005,
          0.040455823602691926,
          0.0389396428440717,
          0.03753728378160115,
          0.03623655360521812,
          0.035026940614243184,
          0.03389933412694541,
          0.03284579858362473,
          0.03185938999208324,
          0.030934005736490647,
          0.03006426088273343,
          0.029245385682468913,
          0.028473140155062592,
          0.02774374251733452,
          0.027053808910877306,
          0.026400302399699038,
          0.025780489616292576,
          0.02519190375062283,
          0.024632312825132775,
          0.024099692395455348,
          0.023592201972902866,
          0.02310816458992097,
          0.02264604903033471,
          0.022204454327588306,
          0.021782096200299146,
          0.02137779514842405,
          0.02099046597759911,
          0.02061910855566829,
          0.020262799635561466,
          0.01992068560371033,
          0.01959197603404748,
          0.019275937945078897,
          0.018971890672161523,
          0.018679201279447877,
          0.018397280446376882,
          0.018125578772418466,
          0.017863583451283912,
          0.017610815272211255,
          0.01736682591140396,
          0.017131195481388733,
          0.016903530310087032,
          0.01668346092486572,
          0.016470640219829864,
          0.01626474178721596,
          0.016065458395995196,
          0.015872500602754726,
          0.01568559548163086,
          0.015504485461558352,
          0.015328927260403667,
          0.015158690906693214,
          0.014993558840651606,
          0.014833325087148578,
          0.014677794493932276,
          0.014526782029214461,
          0.014380112133281792,
          0.01423761811934663,
          0.014099141619329424,
          0.013964532070689985,
          0.013833646240804003,
          0.013706347785718562,
          0.013582506840422,
          0.013461999638033115,
          0.013344708155556002,
          0.01323051978406322,
          0.013119327021364298,
          0.013011027185391197,
          0.012905522146689578,
          0.012802718078546186,
          0.012702525223410671,
          0.012604857674385368,
          0.012509633170661113,
          0.01241677290587143,
          0.012326201348423188,
          0.012237846072939604,
          0.012151637602021677,
          0.012067509257598651,
          0.011985397021196203,
          0.011905239402504344,
          0.011826977315675391,
          0.011750553962826775,
          0.011675914724263608,
          0.011603007054973122,
          0.011531780386976737,
          0.01146218603715657,
          0.011394177120201538,
          0.011327708466344226,
          0.01126273654358369,
          0.01119921938411128,
          0.011137116514676691,
          0.01107638889065029,
          0.011016998833554578,
          0.010958909971853729,
          0.010902087184804485,
          0.01084649654918531,
          0.010792105288732952,
          0.010738881726127232,
          0.01068679523737529,
          0.010635816208456564,
          0.010585915994098668,
          0.01053706687856294,
          0.010489242038326194,
          0.010442415506552413,
          0.010396562139255005,
          0.01035165758305633,
          0.01030767824445724,
          0.010264601260534556,
          0.01022240447098969,
          0.010181066391476073,
          0.010140566188137709,
          0.010100883653294953,
          0.010061999182217642,
          0.010023893750929207,
          0.009986548894988578,
          0.009949946689200056,
          0.009914069728203953,
          0.009878901107903668,
          0.00984442440768738,
          0.009810623673404904,
          0.009777483401062428,
          0.009744988521200013,
          0.009713124383918678,
          0.00968187674452562,
          0.009651231749768051,
          0.009621175924627476,
          0.009591696159647991,
          0.009562779698773494,
          0.009534414127670003,
          0.009506587362510652
         ]
        }
       ],
       "layout": {
        "template": {
         "data": {
          "bar": [
           {
            "error_x": {
             "color": "#2a3f5f"
            },
            "error_y": {
             "color": "#2a3f5f"
            },
            "marker": {
             "line": {
              "color": "#E5ECF6",
              "width": 0.5
             }
            },
            "type": "bar"
           }
          ],
          "barpolar": [
           {
            "marker": {
             "line": {
              "color": "#E5ECF6",
              "width": 0.5
             }
            },
            "type": "barpolar"
           }
          ],
          "carpet": [
           {
            "aaxis": {
             "endlinecolor": "#2a3f5f",
             "gridcolor": "white",
             "linecolor": "white",
             "minorgridcolor": "white",
             "startlinecolor": "#2a3f5f"
            },
            "baxis": {
             "endlinecolor": "#2a3f5f",
             "gridcolor": "white",
             "linecolor": "white",
             "minorgridcolor": "white",
             "startlinecolor": "#2a3f5f"
            },
            "type": "carpet"
           }
          ],
          "choropleth": [
           {
            "colorbar": {
             "outlinewidth": 0,
             "ticks": ""
            },
            "type": "choropleth"
           }
          ],
          "contour": [
           {
            "colorbar": {
             "outlinewidth": 0,
             "ticks": ""
            },
            "colorscale": [
             [
              0,
              "#0d0887"
             ],
             [
              0.1111111111111111,
              "#46039f"
             ],
             [
              0.2222222222222222,
              "#7201a8"
             ],
             [
              0.3333333333333333,
              "#9c179e"
             ],
             [
              0.4444444444444444,
              "#bd3786"
             ],
             [
              0.5555555555555556,
              "#d8576b"
             ],
             [
              0.6666666666666666,
              "#ed7953"
             ],
             [
              0.7777777777777778,
              "#fb9f3a"
             ],
             [
              0.8888888888888888,
              "#fdca26"
             ],
             [
              1,
              "#f0f921"
             ]
            ],
            "type": "contour"
           }
          ],
          "contourcarpet": [
           {
            "colorbar": {
             "outlinewidth": 0,
             "ticks": ""
            },
            "type": "contourcarpet"
           }
          ],
          "heatmap": [
           {
            "colorbar": {
             "outlinewidth": 0,
             "ticks": ""
            },
            "colorscale": [
             [
              0,
              "#0d0887"
             ],
             [
              0.1111111111111111,
              "#46039f"
             ],
             [
              0.2222222222222222,
              "#7201a8"
             ],
             [
              0.3333333333333333,
              "#9c179e"
             ],
             [
              0.4444444444444444,
              "#bd3786"
             ],
             [
              0.5555555555555556,
              "#d8576b"
             ],
             [
              0.6666666666666666,
              "#ed7953"
             ],
             [
              0.7777777777777778,
              "#fb9f3a"
             ],
             [
              0.8888888888888888,
              "#fdca26"
             ],
             [
              1,
              "#f0f921"
             ]
            ],
            "type": "heatmap"
           }
          ],
          "heatmapgl": [
           {
            "colorbar": {
             "outlinewidth": 0,
             "ticks": ""
            },
            "colorscale": [
             [
              0,
              "#0d0887"
             ],
             [
              0.1111111111111111,
              "#46039f"
             ],
             [
              0.2222222222222222,
              "#7201a8"
             ],
             [
              0.3333333333333333,
              "#9c179e"
             ],
             [
              0.4444444444444444,
              "#bd3786"
             ],
             [
              0.5555555555555556,
              "#d8576b"
             ],
             [
              0.6666666666666666,
              "#ed7953"
             ],
             [
              0.7777777777777778,
              "#fb9f3a"
             ],
             [
              0.8888888888888888,
              "#fdca26"
             ],
             [
              1,
              "#f0f921"
             ]
            ],
            "type": "heatmapgl"
           }
          ],
          "histogram": [
           {
            "marker": {
             "colorbar": {
              "outlinewidth": 0,
              "ticks": ""
             }
            },
            "type": "histogram"
           }
          ],
          "histogram2d": [
           {
            "colorbar": {
             "outlinewidth": 0,
             "ticks": ""
            },
            "colorscale": [
             [
              0,
              "#0d0887"
             ],
             [
              0.1111111111111111,
              "#46039f"
             ],
             [
              0.2222222222222222,
              "#7201a8"
             ],
             [
              0.3333333333333333,
              "#9c179e"
             ],
             [
              0.4444444444444444,
              "#bd3786"
             ],
             [
              0.5555555555555556,
              "#d8576b"
             ],
             [
              0.6666666666666666,
              "#ed7953"
             ],
             [
              0.7777777777777778,
              "#fb9f3a"
             ],
             [
              0.8888888888888888,
              "#fdca26"
             ],
             [
              1,
              "#f0f921"
             ]
            ],
            "type": "histogram2d"
           }
          ],
          "histogram2dcontour": [
           {
            "colorbar": {
             "outlinewidth": 0,
             "ticks": ""
            },
            "colorscale": [
             [
              0,
              "#0d0887"
             ],
             [
              0.1111111111111111,
              "#46039f"
             ],
             [
              0.2222222222222222,
              "#7201a8"
             ],
             [
              0.3333333333333333,
              "#9c179e"
             ],
             [
              0.4444444444444444,
              "#bd3786"
             ],
             [
              0.5555555555555556,
              "#d8576b"
             ],
             [
              0.6666666666666666,
              "#ed7953"
             ],
             [
              0.7777777777777778,
              "#fb9f3a"
             ],
             [
              0.8888888888888888,
              "#fdca26"
             ],
             [
              1,
              "#f0f921"
             ]
            ],
            "type": "histogram2dcontour"
           }
          ],
          "mesh3d": [
           {
            "colorbar": {
             "outlinewidth": 0,
             "ticks": ""
            },
            "type": "mesh3d"
           }
          ],
          "parcoords": [
           {
            "line": {
             "colorbar": {
              "outlinewidth": 0,
              "ticks": ""
             }
            },
            "type": "parcoords"
           }
          ],
          "pie": [
           {
            "automargin": true,
            "type": "pie"
           }
          ],
          "scatter": [
           {
            "marker": {
             "colorbar": {
              "outlinewidth": 0,
              "ticks": ""
             }
            },
            "type": "scatter"
           }
          ],
          "scatter3d": [
           {
            "line": {
             "colorbar": {
              "outlinewidth": 0,
              "ticks": ""
             }
            },
            "marker": {
             "colorbar": {
              "outlinewidth": 0,
              "ticks": ""
             }
            },
            "type": "scatter3d"
           }
          ],
          "scattercarpet": [
           {
            "marker": {
             "colorbar": {
              "outlinewidth": 0,
              "ticks": ""
             }
            },
            "type": "scattercarpet"
           }
          ],
          "scattergeo": [
           {
            "marker": {
             "colorbar": {
              "outlinewidth": 0,
              "ticks": ""
             }
            },
            "type": "scattergeo"
           }
          ],
          "scattergl": [
           {
            "marker": {
             "colorbar": {
              "outlinewidth": 0,
              "ticks": ""
             }
            },
            "type": "scattergl"
           }
          ],
          "scattermapbox": [
           {
            "marker": {
             "colorbar": {
              "outlinewidth": 0,
              "ticks": ""
             }
            },
            "type": "scattermapbox"
           }
          ],
          "scatterpolar": [
           {
            "marker": {
             "colorbar": {
              "outlinewidth": 0,
              "ticks": ""
             }
            },
            "type": "scatterpolar"
           }
          ],
          "scatterpolargl": [
           {
            "marker": {
             "colorbar": {
              "outlinewidth": 0,
              "ticks": ""
             }
            },
            "type": "scatterpolargl"
           }
          ],
          "scatterternary": [
           {
            "marker": {
             "colorbar": {
              "outlinewidth": 0,
              "ticks": ""
             }
            },
            "type": "scatterternary"
           }
          ],
          "surface": [
           {
            "colorbar": {
             "outlinewidth": 0,
             "ticks": ""
            },
            "colorscale": [
             [
              0,
              "#0d0887"
             ],
             [
              0.1111111111111111,
              "#46039f"
             ],
             [
              0.2222222222222222,
              "#7201a8"
             ],
             [
              0.3333333333333333,
              "#9c179e"
             ],
             [
              0.4444444444444444,
              "#bd3786"
             ],
             [
              0.5555555555555556,
              "#d8576b"
             ],
             [
              0.6666666666666666,
              "#ed7953"
             ],
             [
              0.7777777777777778,
              "#fb9f3a"
             ],
             [
              0.8888888888888888,
              "#fdca26"
             ],
             [
              1,
              "#f0f921"
             ]
            ],
            "type": "surface"
           }
          ],
          "table": [
           {
            "cells": {
             "fill": {
              "color": "#EBF0F8"
             },
             "line": {
              "color": "white"
             }
            },
            "header": {
             "fill": {
              "color": "#C8D4E3"
             },
             "line": {
              "color": "white"
             }
            },
            "type": "table"
           }
          ]
         },
         "layout": {
          "annotationdefaults": {
           "arrowcolor": "#2a3f5f",
           "arrowhead": 0,
           "arrowwidth": 1
          },
          "coloraxis": {
           "colorbar": {
            "outlinewidth": 0,
            "ticks": ""
           }
          },
          "colorscale": {
           "diverging": [
            [
             0,
             "#8e0152"
            ],
            [
             0.1,
             "#c51b7d"
            ],
            [
             0.2,
             "#de77ae"
            ],
            [
             0.3,
             "#f1b6da"
            ],
            [
             0.4,
             "#fde0ef"
            ],
            [
             0.5,
             "#f7f7f7"
            ],
            [
             0.6,
             "#e6f5d0"
            ],
            [
             0.7,
             "#b8e186"
            ],
            [
             0.8,
             "#7fbc41"
            ],
            [
             0.9,
             "#4d9221"
            ],
            [
             1,
             "#276419"
            ]
           ],
           "sequential": [
            [
             0,
             "#0d0887"
            ],
            [
             0.1111111111111111,
             "#46039f"
            ],
            [
             0.2222222222222222,
             "#7201a8"
            ],
            [
             0.3333333333333333,
             "#9c179e"
            ],
            [
             0.4444444444444444,
             "#bd3786"
            ],
            [
             0.5555555555555556,
             "#d8576b"
            ],
            [
             0.6666666666666666,
             "#ed7953"
            ],
            [
             0.7777777777777778,
             "#fb9f3a"
            ],
            [
             0.8888888888888888,
             "#fdca26"
            ],
            [
             1,
             "#f0f921"
            ]
           ],
           "sequentialminus": [
            [
             0,
             "#0d0887"
            ],
            [
             0.1111111111111111,
             "#46039f"
            ],
            [
             0.2222222222222222,
             "#7201a8"
            ],
            [
             0.3333333333333333,
             "#9c179e"
            ],
            [
             0.4444444444444444,
             "#bd3786"
            ],
            [
             0.5555555555555556,
             "#d8576b"
            ],
            [
             0.6666666666666666,
             "#ed7953"
            ],
            [
             0.7777777777777778,
             "#fb9f3a"
            ],
            [
             0.8888888888888888,
             "#fdca26"
            ],
            [
             1,
             "#f0f921"
            ]
           ]
          },
          "colorway": [
           "#636efa",
           "#EF553B",
           "#00cc96",
           "#ab63fa",
           "#FFA15A",
           "#19d3f3",
           "#FF6692",
           "#B6E880",
           "#FF97FF",
           "#FECB52"
          ],
          "font": {
           "color": "#2a3f5f"
          },
          "geo": {
           "bgcolor": "white",
           "lakecolor": "white",
           "landcolor": "#E5ECF6",
           "showlakes": true,
           "showland": true,
           "subunitcolor": "white"
          },
          "hoverlabel": {
           "align": "left"
          },
          "hovermode": "closest",
          "mapbox": {
           "style": "light"
          },
          "paper_bgcolor": "white",
          "plot_bgcolor": "#E5ECF6",
          "polar": {
           "angularaxis": {
            "gridcolor": "white",
            "linecolor": "white",
            "ticks": ""
           },
           "bgcolor": "#E5ECF6",
           "radialaxis": {
            "gridcolor": "white",
            "linecolor": "white",
            "ticks": ""
           }
          },
          "scene": {
           "xaxis": {
            "backgroundcolor": "#E5ECF6",
            "gridcolor": "white",
            "gridwidth": 2,
            "linecolor": "white",
            "showbackground": true,
            "ticks": "",
            "zerolinecolor": "white"
           },
           "yaxis": {
            "backgroundcolor": "#E5ECF6",
            "gridcolor": "white",
            "gridwidth": 2,
            "linecolor": "white",
            "showbackground": true,
            "ticks": "",
            "zerolinecolor": "white"
           },
           "zaxis": {
            "backgroundcolor": "#E5ECF6",
            "gridcolor": "white",
            "gridwidth": 2,
            "linecolor": "white",
            "showbackground": true,
            "ticks": "",
            "zerolinecolor": "white"
           }
          },
          "shapedefaults": {
           "line": {
            "color": "#2a3f5f"
           }
          },
          "ternary": {
           "aaxis": {
            "gridcolor": "white",
            "linecolor": "white",
            "ticks": ""
           },
           "baxis": {
            "gridcolor": "white",
            "linecolor": "white",
            "ticks": ""
           },
           "bgcolor": "#E5ECF6",
           "caxis": {
            "gridcolor": "white",
            "linecolor": "white",
            "ticks": ""
           }
          },
          "title": {
           "x": 0.05
          },
          "xaxis": {
           "automargin": true,
           "gridcolor": "white",
           "linecolor": "white",
           "ticks": "",
           "title": {
            "standoff": 15
           },
           "zerolinecolor": "white",
           "zerolinewidth": 2
          },
          "yaxis": {
           "automargin": true,
           "gridcolor": "white",
           "linecolor": "white",
           "ticks": "",
           "title": {
            "standoff": 15
           },
           "zerolinecolor": "white",
           "zerolinewidth": 2
          }
         }
        },
        "title": {
         "text": "Difference Between Pave(t_i)[0,0] and P(t_i)[0,0]",
         "x": 0.48,
         "xanchor": "center",
         "y": 0.9,
         "yanchor": "top"
        },
        "xaxis": {
         "title": {
          "text": "Time (sec)"
         }
        },
        "yaxis": {
         "title": {
          "text": "Norm"
         }
        }
       }
      },
      "text/html": [
       "<div>\n",
       "        \n",
       "        \n",
       "            <div id=\"99d6884c-3473-4e4b-ada9-19e31cb062c7\" class=\"plotly-graph-div\" style=\"height:525px; width:100%;\"></div>\n",
       "            <script type=\"text/javascript\">\n",
       "                require([\"plotly\"], function(Plotly) {\n",
       "                    window.PLOTLYENV=window.PLOTLYENV || {};\n",
       "                    \n",
       "                if (document.getElementById(\"99d6884c-3473-4e4b-ada9-19e31cb062c7\")) {\n",
       "                    Plotly.newPlot(\n",
       "                        '99d6884c-3473-4e4b-ada9-19e31cb062c7',\n",
       "                        [{\"name\": \"Average\", \"type\": \"scatter\", \"x\": [0.0, 0.2, 0.4, 0.6000000000000001, 0.8, 1.0, 1.2000000000000002, 1.4000000000000001, 1.6, 1.8, 2.0, 2.2, 2.4000000000000004, 2.6, 2.8000000000000003, 3.0, 3.2, 3.4000000000000004, 3.6, 3.8000000000000003, 4.0, 4.2, 4.4, 4.6000000000000005, 4.800000000000001, 5.0, 5.2, 5.4, 5.6000000000000005, 5.800000000000001, 6.0, 6.2, 6.4, 6.6000000000000005, 6.800000000000001, 7.0, 7.2, 7.4, 7.6000000000000005, 7.800000000000001, 8.0, 8.200000000000001, 8.4, 8.6, 8.8, 9.0, 9.200000000000001, 9.4, 9.600000000000001, 9.8, 10.0, 10.200000000000001, 10.4, 10.600000000000001, 10.8, 11.0, 11.200000000000001, 11.4, 11.600000000000001, 11.8, 12.0, 12.200000000000001, 12.4, 12.600000000000001, 12.8, 13.0, 13.200000000000001, 13.4, 13.600000000000001, 13.8, 14.0, 14.200000000000001, 14.4, 14.600000000000001, 14.8, 15.0, 15.200000000000001, 15.4, 15.600000000000001, 15.8, 16.0, 16.2, 16.400000000000002, 16.6, 16.8, 17.0, 17.2, 17.400000000000002, 17.6, 17.8, 18.0, 18.2, 18.400000000000002, 18.6, 18.8, 19.0, 19.200000000000003, 19.400000000000002, 19.6, 19.8, 20.0, 20.200000000000003, 20.400000000000002, 20.6, 20.8, 21.0, 21.200000000000003, 21.400000000000002, 21.6, 21.8, 22.0, 22.200000000000003, 22.400000000000002, 22.6, 22.8, 23.0, 23.200000000000003, 23.400000000000002, 23.6, 23.8, 24.0, 24.200000000000003, 24.400000000000002, 24.6, 24.8, 25.0, 25.200000000000003, 25.400000000000002, 25.6, 25.8, 26.0, 26.200000000000003, 26.400000000000002, 26.6, 26.8, 27.0, 27.200000000000003, 27.400000000000002, 27.6, 27.8, 28.0, 28.200000000000003, 28.400000000000002, 28.6, 28.8, 29.0, 29.200000000000003, 29.400000000000002, 29.6, 29.8, 30.0], \"y\": [0.011319391502685055, 0.25606306686481994, 0.22834818806918766, 0.19137117356810557, 0.16353262450798417, 0.14113992727160182, 0.12351851101381776, 0.11124670371459554, 0.10059823636213781, 0.09153553782619606, 0.08418032538081134, 0.07852776136519517, 0.073868493828638, 0.06876410098645869, 0.06490702466072362, 0.060873609396027234, 0.05733274153713674, 0.054164821537275774, 0.05112355289517327, 0.04887697637276169, 0.04688073017998765, 0.04484068660055799, 0.043077917710756156, 0.041417369785242825, 0.03968597824520759, 0.038275825404853976, 0.037146100893540195, 0.03590319844721027, 0.03466998069109077, 0.03369465031611645, 0.03247254722677338, 0.031543594954111576, 0.030875713988901873, 0.029952584687424733, 0.02911050613680577, 0.028246314349382285, 0.02754945994617411, 0.02687788602924987, 0.026068101373159815, 0.02535798330430147, 0.02494990381910021, 0.024389986874052392, 0.023825214695100707, 0.023338005504835807, 0.022717572319518705, 0.022192098104343527, 0.0218236613499164, 0.021407359024329966, 0.021054587707727355, 0.020592610894880535, 0.020233012795330386, 0.019809408286795848, 0.019550884134833173, 0.01922164139964587, 0.01883993782454375, 0.01850429200079843, 0.018239904714565363, 0.01785868080774738, 0.01766299067227665, 0.017391389639935313, 0.01714495150324403, 0.016952646880084115, 0.016784995222817647, 0.016545047200014727, 0.016292289913684997, 0.016082010117689886, 0.015841628190504126, 0.015653482793345986, 0.015449451699459401, 0.015221751208399118, 0.01504989887089437, 0.014940948151011582, 0.01476633495940764, 0.014622505219831156, 0.014385150421740881, 0.014254828522375891, 0.01417545781354889, 0.01398513801407519, 0.013887101793033891, 0.013773444156476402, 0.013651961824430585, 0.013529021106088121, 0.01335047866673383, 0.013264842972633804, 0.013179891073737328, 0.01307893798448373, 0.01296743147787617, 0.012910098665639042, 0.012775486976377506, 0.012684972850098977, 0.012634908719575474, 0.012627620318549665, 0.012547240302946502, 0.01248476206899597, 0.012373079619120772, 0.01227808465817585, 0.012193120388626555, 0.012200574500873331, 0.012142942515837097, 0.012094302217548586, 0.01205994252548891, 0.012002762584980745, 0.011928699296228322, 0.011865421701924814, 0.011793122114017774, 0.011735075189039192, 0.011665677384339568, 0.011555861678720717, 0.01146642727275517, 0.011383664603201029, 0.011309846210029059, 0.011281829300257092, 0.01122417270251064, 0.011146873470987742, 0.011173122565256054, 0.011171199002449294, 0.011105906476092752, 0.011028869709336657, 0.01098553476970786, 0.010869430012386614, 0.010814562366693455, 0.010765293114736717, 0.01065322393517772, 0.010620853705281205, 0.010574407414336169, 0.010542859697722116, 0.010493733123035691, 0.010459479216421121, 0.010428705317883263, 0.010335546870055204, 0.010309886498528275, 0.010290192736868086, 0.010243950069837192, 0.010247090969415092, 0.010206668999418798, 0.01014435122202856, 0.010109020778401185, 0.010067710051598655, 0.010040877368196886, 0.01000767068599269, 0.010009464974918517, 0.010004934262981845, 0.009976867210841433, 0.009925220093782786, 0.009914876909611974, 0.009875056419293557, 0.009817764576289295, 0.009772195985313165, 0.009764628111887698, 0.009690343423449625, 0.009683570052232271]}, {\"name\": \"P\", \"type\": \"scatter\", \"x\": [0.0, 0.2, 0.4, 0.6000000000000001, 0.8, 1.0, 1.2000000000000002, 1.4000000000000001, 1.6, 1.8, 2.0, 2.2, 2.4000000000000004, 2.6, 2.8000000000000003, 3.0, 3.2, 3.4000000000000004, 3.6, 3.8000000000000003, 4.0, 4.2, 4.4, 4.6000000000000005, 4.800000000000001, 5.0, 5.2, 5.4, 5.6000000000000005, 5.800000000000001, 6.0, 6.2, 6.4, 6.6000000000000005, 6.800000000000001, 7.0, 7.2, 7.4, 7.6000000000000005, 7.800000000000001, 8.0, 8.200000000000001, 8.4, 8.6, 8.8, 9.0, 9.200000000000001, 9.4, 9.600000000000001, 9.8, 10.0, 10.200000000000001, 10.4, 10.600000000000001, 10.8, 11.0, 11.200000000000001, 11.4, 11.600000000000001, 11.8, 12.0, 12.200000000000001, 12.4, 12.600000000000001, 12.8, 13.0, 13.200000000000001, 13.4, 13.600000000000001, 13.8, 14.0, 14.200000000000001, 14.4, 14.600000000000001, 14.8, 15.0, 15.200000000000001, 15.4, 15.600000000000001, 15.8, 16.0, 16.2, 16.400000000000002, 16.6, 16.8, 17.0, 17.2, 17.400000000000002, 17.6, 17.8, 18.0, 18.2, 18.400000000000002, 18.6, 18.8, 19.0, 19.200000000000003, 19.400000000000002, 19.6, 19.8, 20.0, 20.200000000000003, 20.400000000000002, 20.6, 20.8, 21.0, 21.200000000000003, 21.400000000000002, 21.6, 21.8, 22.0, 22.200000000000003, 22.400000000000002, 22.6, 22.8, 23.0, 23.200000000000003, 23.400000000000002, 23.6, 23.8, 24.0, 24.200000000000003, 24.400000000000002, 24.6, 24.8, 25.0, 25.200000000000003, 25.400000000000002, 25.6, 25.8, 26.0, 26.200000000000003, 26.400000000000002, 26.6, 26.8, 27.0, 27.200000000000003, 27.400000000000002, 27.6, 27.8, 28.0, 28.200000000000003, 28.400000000000002, 28.6, 28.8, 29.0, 29.200000000000003, 29.400000000000002, 29.6, 29.8, 30.0], \"y\": [0.9900990165698914, 0.4975206719500864, 0.33224781188229, 0.24941461754883737, 0.19965685795735233, 0.1664645793175523, 0.1427484342553799, 0.12495928632099011, 0.11112364363486346, 0.10005662789846796, 0.09100383803005986, 0.08346213262308314, 0.07708306501764266, 0.07161767412613408, 0.06688334440904156, 0.0627430857036061, 0.059092121811976026, 0.05584894710837918, 0.052949205906457714, 0.05034140710770722, 0.047983862658168536, 0.04584246059474706, 0.04388901878490069, 0.042100050060721005, 0.040455823602691926, 0.0389396428440717, 0.03753728378160115, 0.03623655360521812, 0.035026940614243184, 0.03389933412694541, 0.03284579858362473, 0.03185938999208324, 0.030934005736490647, 0.03006426088273343, 0.029245385682468913, 0.028473140155062592, 0.02774374251733452, 0.027053808910877306, 0.026400302399699038, 0.025780489616292576, 0.02519190375062283, 0.024632312825132775, 0.024099692395455348, 0.023592201972902866, 0.02310816458992097, 0.02264604903033471, 0.022204454327588306, 0.021782096200299146, 0.02137779514842405, 0.02099046597759911, 0.02061910855566829, 0.020262799635561466, 0.01992068560371033, 0.01959197603404748, 0.019275937945078897, 0.018971890672161523, 0.018679201279447877, 0.018397280446376882, 0.018125578772418466, 0.017863583451283912, 0.017610815272211255, 0.01736682591140396, 0.017131195481388733, 0.016903530310087032, 0.01668346092486572, 0.016470640219829864, 0.01626474178721596, 0.016065458395995196, 0.015872500602754726, 0.01568559548163086, 0.015504485461558352, 0.015328927260403667, 0.015158690906693214, 0.014993558840651606, 0.014833325087148578, 0.014677794493932276, 0.014526782029214461, 0.014380112133281792, 0.01423761811934663, 0.014099141619329424, 0.013964532070689985, 0.013833646240804003, 0.013706347785718562, 0.013582506840422, 0.013461999638033115, 0.013344708155556002, 0.01323051978406322, 0.013119327021364298, 0.013011027185391197, 0.012905522146689578, 0.012802718078546186, 0.012702525223410671, 0.012604857674385368, 0.012509633170661113, 0.01241677290587143, 0.012326201348423188, 0.012237846072939604, 0.012151637602021677, 0.012067509257598651, 0.011985397021196203, 0.011905239402504344, 0.011826977315675391, 0.011750553962826775, 0.011675914724263608, 0.011603007054973122, 0.011531780386976737, 0.01146218603715657, 0.011394177120201538, 0.011327708466344226, 0.01126273654358369, 0.01119921938411128, 0.011137116514676691, 0.01107638889065029, 0.011016998833554578, 0.010958909971853729, 0.010902087184804485, 0.01084649654918531, 0.010792105288732952, 0.010738881726127232, 0.01068679523737529, 0.010635816208456564, 0.010585915994098668, 0.01053706687856294, 0.010489242038326194, 0.010442415506552413, 0.010396562139255005, 0.01035165758305633, 0.01030767824445724, 0.010264601260534556, 0.01022240447098969, 0.010181066391476073, 0.010140566188137709, 0.010100883653294953, 0.010061999182217642, 0.010023893750929207, 0.009986548894988578, 0.009949946689200056, 0.009914069728203953, 0.009878901107903668, 0.00984442440768738, 0.009810623673404904, 0.009777483401062428, 0.009744988521200013, 0.009713124383918678, 0.00968187674452562, 0.009651231749768051, 0.009621175924627476, 0.009591696159647991, 0.009562779698773494, 0.009534414127670003, 0.009506587362510652]}],\n",
       "                        {\"template\": {\"data\": {\"bar\": [{\"error_x\": {\"color\": \"#2a3f5f\"}, \"error_y\": {\"color\": \"#2a3f5f\"}, \"marker\": {\"line\": {\"color\": \"#E5ECF6\", \"width\": 0.5}}, \"type\": \"bar\"}], \"barpolar\": [{\"marker\": {\"line\": {\"color\": \"#E5ECF6\", \"width\": 0.5}}, \"type\": \"barpolar\"}], \"carpet\": [{\"aaxis\": {\"endlinecolor\": \"#2a3f5f\", \"gridcolor\": \"white\", \"linecolor\": \"white\", \"minorgridcolor\": \"white\", \"startlinecolor\": \"#2a3f5f\"}, \"baxis\": {\"endlinecolor\": \"#2a3f5f\", \"gridcolor\": \"white\", \"linecolor\": \"white\", \"minorgridcolor\": \"white\", \"startlinecolor\": \"#2a3f5f\"}, \"type\": \"carpet\"}], \"choropleth\": [{\"colorbar\": {\"outlinewidth\": 0, \"ticks\": \"\"}, \"type\": \"choropleth\"}], \"contour\": [{\"colorbar\": {\"outlinewidth\": 0, \"ticks\": \"\"}, \"colorscale\": [[0.0, \"#0d0887\"], [0.1111111111111111, \"#46039f\"], [0.2222222222222222, \"#7201a8\"], [0.3333333333333333, \"#9c179e\"], [0.4444444444444444, \"#bd3786\"], [0.5555555555555556, \"#d8576b\"], [0.6666666666666666, \"#ed7953\"], [0.7777777777777778, \"#fb9f3a\"], [0.8888888888888888, \"#fdca26\"], [1.0, \"#f0f921\"]], \"type\": \"contour\"}], \"contourcarpet\": [{\"colorbar\": {\"outlinewidth\": 0, \"ticks\": \"\"}, \"type\": \"contourcarpet\"}], \"heatmap\": [{\"colorbar\": {\"outlinewidth\": 0, \"ticks\": \"\"}, \"colorscale\": [[0.0, \"#0d0887\"], [0.1111111111111111, \"#46039f\"], [0.2222222222222222, \"#7201a8\"], [0.3333333333333333, \"#9c179e\"], [0.4444444444444444, \"#bd3786\"], [0.5555555555555556, \"#d8576b\"], [0.6666666666666666, \"#ed7953\"], [0.7777777777777778, \"#fb9f3a\"], [0.8888888888888888, \"#fdca26\"], [1.0, \"#f0f921\"]], \"type\": \"heatmap\"}], \"heatmapgl\": [{\"colorbar\": {\"outlinewidth\": 0, \"ticks\": \"\"}, \"colorscale\": [[0.0, \"#0d0887\"], [0.1111111111111111, \"#46039f\"], [0.2222222222222222, \"#7201a8\"], [0.3333333333333333, \"#9c179e\"], [0.4444444444444444, \"#bd3786\"], [0.5555555555555556, \"#d8576b\"], [0.6666666666666666, \"#ed7953\"], [0.7777777777777778, \"#fb9f3a\"], [0.8888888888888888, \"#fdca26\"], [1.0, \"#f0f921\"]], \"type\": \"heatmapgl\"}], \"histogram\": [{\"marker\": {\"colorbar\": {\"outlinewidth\": 0, \"ticks\": \"\"}}, \"type\": \"histogram\"}], \"histogram2d\": [{\"colorbar\": {\"outlinewidth\": 0, \"ticks\": \"\"}, \"colorscale\": [[0.0, \"#0d0887\"], [0.1111111111111111, \"#46039f\"], [0.2222222222222222, \"#7201a8\"], [0.3333333333333333, \"#9c179e\"], [0.4444444444444444, \"#bd3786\"], [0.5555555555555556, \"#d8576b\"], [0.6666666666666666, \"#ed7953\"], [0.7777777777777778, \"#fb9f3a\"], [0.8888888888888888, \"#fdca26\"], [1.0, \"#f0f921\"]], \"type\": \"histogram2d\"}], \"histogram2dcontour\": [{\"colorbar\": {\"outlinewidth\": 0, \"ticks\": \"\"}, \"colorscale\": [[0.0, \"#0d0887\"], [0.1111111111111111, \"#46039f\"], [0.2222222222222222, \"#7201a8\"], [0.3333333333333333, \"#9c179e\"], [0.4444444444444444, \"#bd3786\"], [0.5555555555555556, \"#d8576b\"], [0.6666666666666666, \"#ed7953\"], [0.7777777777777778, \"#fb9f3a\"], [0.8888888888888888, \"#fdca26\"], [1.0, \"#f0f921\"]], \"type\": \"histogram2dcontour\"}], \"mesh3d\": [{\"colorbar\": {\"outlinewidth\": 0, \"ticks\": \"\"}, \"type\": \"mesh3d\"}], \"parcoords\": [{\"line\": {\"colorbar\": {\"outlinewidth\": 0, \"ticks\": \"\"}}, \"type\": \"parcoords\"}], \"pie\": [{\"automargin\": true, \"type\": \"pie\"}], \"scatter\": [{\"marker\": {\"colorbar\": {\"outlinewidth\": 0, \"ticks\": \"\"}}, \"type\": \"scatter\"}], \"scatter3d\": [{\"line\": {\"colorbar\": {\"outlinewidth\": 0, \"ticks\": \"\"}}, \"marker\": {\"colorbar\": {\"outlinewidth\": 0, \"ticks\": \"\"}}, \"type\": \"scatter3d\"}], \"scattercarpet\": [{\"marker\": {\"colorbar\": {\"outlinewidth\": 0, \"ticks\": \"\"}}, \"type\": \"scattercarpet\"}], \"scattergeo\": [{\"marker\": {\"colorbar\": {\"outlinewidth\": 0, \"ticks\": \"\"}}, \"type\": \"scattergeo\"}], \"scattergl\": [{\"marker\": {\"colorbar\": {\"outlinewidth\": 0, \"ticks\": \"\"}}, \"type\": \"scattergl\"}], \"scattermapbox\": [{\"marker\": {\"colorbar\": {\"outlinewidth\": 0, \"ticks\": \"\"}}, \"type\": \"scattermapbox\"}], \"scatterpolar\": [{\"marker\": {\"colorbar\": {\"outlinewidth\": 0, \"ticks\": \"\"}}, \"type\": \"scatterpolar\"}], \"scatterpolargl\": [{\"marker\": {\"colorbar\": {\"outlinewidth\": 0, \"ticks\": \"\"}}, \"type\": \"scatterpolargl\"}], \"scatterternary\": [{\"marker\": {\"colorbar\": {\"outlinewidth\": 0, \"ticks\": \"\"}}, \"type\": \"scatterternary\"}], \"surface\": [{\"colorbar\": {\"outlinewidth\": 0, \"ticks\": \"\"}, \"colorscale\": [[0.0, \"#0d0887\"], [0.1111111111111111, \"#46039f\"], [0.2222222222222222, \"#7201a8\"], [0.3333333333333333, \"#9c179e\"], [0.4444444444444444, \"#bd3786\"], [0.5555555555555556, \"#d8576b\"], [0.6666666666666666, \"#ed7953\"], [0.7777777777777778, \"#fb9f3a\"], [0.8888888888888888, \"#fdca26\"], [1.0, \"#f0f921\"]], \"type\": \"surface\"}], \"table\": [{\"cells\": {\"fill\": {\"color\": \"#EBF0F8\"}, \"line\": {\"color\": \"white\"}}, \"header\": {\"fill\": {\"color\": \"#C8D4E3\"}, \"line\": {\"color\": \"white\"}}, \"type\": \"table\"}]}, \"layout\": {\"annotationdefaults\": {\"arrowcolor\": \"#2a3f5f\", \"arrowhead\": 0, \"arrowwidth\": 1}, \"coloraxis\": {\"colorbar\": {\"outlinewidth\": 0, \"ticks\": \"\"}}, \"colorscale\": {\"diverging\": [[0, \"#8e0152\"], [0.1, \"#c51b7d\"], [0.2, \"#de77ae\"], [0.3, \"#f1b6da\"], [0.4, \"#fde0ef\"], [0.5, \"#f7f7f7\"], [0.6, \"#e6f5d0\"], [0.7, \"#b8e186\"], [0.8, \"#7fbc41\"], [0.9, \"#4d9221\"], [1, \"#276419\"]], \"sequential\": [[0.0, \"#0d0887\"], [0.1111111111111111, \"#46039f\"], [0.2222222222222222, \"#7201a8\"], [0.3333333333333333, \"#9c179e\"], [0.4444444444444444, \"#bd3786\"], [0.5555555555555556, \"#d8576b\"], [0.6666666666666666, \"#ed7953\"], [0.7777777777777778, \"#fb9f3a\"], [0.8888888888888888, \"#fdca26\"], [1.0, \"#f0f921\"]], \"sequentialminus\": [[0.0, \"#0d0887\"], [0.1111111111111111, \"#46039f\"], [0.2222222222222222, \"#7201a8\"], [0.3333333333333333, \"#9c179e\"], [0.4444444444444444, \"#bd3786\"], [0.5555555555555556, \"#d8576b\"], [0.6666666666666666, \"#ed7953\"], [0.7777777777777778, \"#fb9f3a\"], [0.8888888888888888, \"#fdca26\"], [1.0, \"#f0f921\"]]}, \"colorway\": [\"#636efa\", \"#EF553B\", \"#00cc96\", \"#ab63fa\", \"#FFA15A\", \"#19d3f3\", \"#FF6692\", \"#B6E880\", \"#FF97FF\", \"#FECB52\"], \"font\": {\"color\": \"#2a3f5f\"}, \"geo\": {\"bgcolor\": \"white\", \"lakecolor\": \"white\", \"landcolor\": \"#E5ECF6\", \"showlakes\": true, \"showland\": true, \"subunitcolor\": \"white\"}, \"hoverlabel\": {\"align\": \"left\"}, \"hovermode\": \"closest\", \"mapbox\": {\"style\": \"light\"}, \"paper_bgcolor\": \"white\", \"plot_bgcolor\": \"#E5ECF6\", \"polar\": {\"angularaxis\": {\"gridcolor\": \"white\", \"linecolor\": \"white\", \"ticks\": \"\"}, \"bgcolor\": \"#E5ECF6\", \"radialaxis\": {\"gridcolor\": \"white\", \"linecolor\": \"white\", \"ticks\": \"\"}}, \"scene\": {\"xaxis\": {\"backgroundcolor\": \"#E5ECF6\", \"gridcolor\": \"white\", \"gridwidth\": 2, \"linecolor\": \"white\", \"showbackground\": true, \"ticks\": \"\", \"zerolinecolor\": \"white\"}, \"yaxis\": {\"backgroundcolor\": \"#E5ECF6\", \"gridcolor\": \"white\", \"gridwidth\": 2, \"linecolor\": \"white\", \"showbackground\": true, \"ticks\": \"\", \"zerolinecolor\": \"white\"}, \"zaxis\": {\"backgroundcolor\": \"#E5ECF6\", \"gridcolor\": \"white\", \"gridwidth\": 2, \"linecolor\": \"white\", \"showbackground\": true, \"ticks\": \"\", \"zerolinecolor\": \"white\"}}, \"shapedefaults\": {\"line\": {\"color\": \"#2a3f5f\"}}, \"ternary\": {\"aaxis\": {\"gridcolor\": \"white\", \"linecolor\": \"white\", \"ticks\": \"\"}, \"baxis\": {\"gridcolor\": \"white\", \"linecolor\": \"white\", \"ticks\": \"\"}, \"bgcolor\": \"#E5ECF6\", \"caxis\": {\"gridcolor\": \"white\", \"linecolor\": \"white\", \"ticks\": \"\"}}, \"title\": {\"x\": 0.05}, \"xaxis\": {\"automargin\": true, \"gridcolor\": \"white\", \"linecolor\": \"white\", \"ticks\": \"\", \"title\": {\"standoff\": 15}, \"zerolinecolor\": \"white\", \"zerolinewidth\": 2}, \"yaxis\": {\"automargin\": true, \"gridcolor\": \"white\", \"linecolor\": \"white\", \"ticks\": \"\", \"title\": {\"standoff\": 15}, \"zerolinecolor\": \"white\", \"zerolinewidth\": 2}}}, \"title\": {\"text\": \"Difference Between Pave(t_i)[0,0] and P(t_i)[0,0]\", \"x\": 0.48, \"xanchor\": \"center\", \"y\": 0.9, \"yanchor\": \"top\"}, \"xaxis\": {\"title\": {\"text\": \"Time (sec)\"}}, \"yaxis\": {\"title\": {\"text\": \"Norm\"}}},\n",
       "                        {\"responsive\": true}\n",
       "                    ).then(function(){\n",
       "                            \n",
       "var gd = document.getElementById('99d6884c-3473-4e4b-ada9-19e31cb062c7');\n",
       "var x = new MutationObserver(function (mutations, observer) {{\n",
       "        var display = window.getComputedStyle(gd).display;\n",
       "        if (!display || display === 'none') {{\n",
       "            console.log([gd, 'removed!']);\n",
       "            Plotly.purge(gd);\n",
       "            observer.disconnect();\n",
       "        }}\n",
       "}});\n",
       "\n",
       "// Listen for the removal of the full notebook cells\n",
       "var notebookContainer = gd.closest('#notebook-container');\n",
       "if (notebookContainer) {{\n",
       "    x.observe(notebookContainer, {childList: true});\n",
       "}}\n",
       "\n",
       "// Listen for the clearing of the current output cell\n",
       "var outputEl = gd.closest('.output');\n",
       "if (outputEl) {{\n",
       "    x.observe(outputEl, {childList: true});\n",
       "}}\n",
       "\n",
       "                        })\n",
       "                };\n",
       "                });\n",
       "            </script>\n",
       "        </div>"
      ]
     },
     "metadata": {},
     "output_type": "display_data"
    }
   ],
   "source": [
    "pavea = [pave[i, 0, 0] for i in range(kf_steps)]\n",
    "pa = [Ps[i][0,0] for i in range(kf_steps)]\n",
    "figpavea = go.Figure()\n",
    "figpavea.add_trace(go.Scatter(x=t_kf, y=pavea, name=\"Average\"))\n",
    "figpavea.add_trace(go.Scatter(x=t_kf, y=pa, name=\"P\"))\n",
    "figpavea.update_layout(title={'text':\"Difference Between Pave(t_i)[0,0] and P(t_i)[0,0]\",'xanchor':'center','yanchor':'top','y':0.9,'x':0.48}, xaxis_title=\"Time (sec)\", yaxis_title=\"Norm\")\n",
    "figpavea.show()"
   ]
  },
  {
   "cell_type": "code",
   "execution_count": 156,
   "metadata": {},
   "outputs": [
    {
     "data": {
      "application/vnd.plotly.v1+json": {
       "config": {
        "plotlyServerURL": "https://plot.ly"
       },
       "data": [
        {
         "name": "Norm",
         "type": "scatter",
         "x": [
          0,
          0.2,
          0.4,
          0.6000000000000001,
          0.8,
          1,
          1.2000000000000002,
          1.4000000000000001,
          1.6,
          1.8,
          2,
          2.2,
          2.4000000000000004,
          2.6,
          2.8000000000000003,
          3,
          3.2,
          3.4000000000000004,
          3.6,
          3.8000000000000003,
          4,
          4.2,
          4.4,
          4.6000000000000005,
          4.800000000000001,
          5,
          5.2,
          5.4,
          5.6000000000000005,
          5.800000000000001,
          6,
          6.2,
          6.4,
          6.6000000000000005,
          6.800000000000001,
          7,
          7.2,
          7.4,
          7.6000000000000005,
          7.800000000000001,
          8,
          8.200000000000001,
          8.4,
          8.6,
          8.8,
          9,
          9.200000000000001,
          9.4,
          9.600000000000001,
          9.8,
          10,
          10.200000000000001,
          10.4,
          10.600000000000001,
          10.8,
          11,
          11.200000000000001,
          11.4,
          11.600000000000001,
          11.8,
          12,
          12.200000000000001,
          12.4,
          12.600000000000001,
          12.8,
          13,
          13.200000000000001,
          13.4,
          13.600000000000001,
          13.8,
          14,
          14.200000000000001,
          14.4,
          14.600000000000001,
          14.8,
          15,
          15.200000000000001,
          15.4,
          15.600000000000001,
          15.8,
          16,
          16.2,
          16.400000000000002,
          16.6,
          16.8,
          17,
          17.2,
          17.400000000000002,
          17.6,
          17.8,
          18,
          18.2,
          18.400000000000002,
          18.6,
          18.8,
          19,
          19.200000000000003,
          19.400000000000002,
          19.6,
          19.8,
          20,
          20.200000000000003,
          20.400000000000002,
          20.6,
          20.8,
          21,
          21.200000000000003,
          21.400000000000002,
          21.6,
          21.8,
          22,
          22.200000000000003,
          22.400000000000002,
          22.6,
          22.8,
          23,
          23.200000000000003,
          23.400000000000002,
          23.6,
          23.8,
          24,
          24.200000000000003,
          24.400000000000002,
          24.6,
          24.8,
          25,
          25.200000000000003,
          25.400000000000002,
          25.6,
          25.8,
          26,
          26.200000000000003,
          26.400000000000002,
          26.6,
          26.8,
          27,
          27.200000000000003,
          27.400000000000002,
          27.6,
          27.8,
          28,
          28.200000000000003,
          28.400000000000002,
          28.6,
          28.8,
          29,
          29.200000000000003,
          29.400000000000002,
          29.6,
          29.8,
          30
         ],
         "y": [
          1.4063650271085257,
          0.6033917354396517,
          0.7396416462332394,
          0.7044496825114366,
          0.5259971727993965,
          0.3633562334493663,
          0.24823391115154855,
          0.17440707222730067,
          0.12668248433432097,
          0.09649720674523916,
          0.07817211927882425,
          0.06396647457549262,
          0.05574987285605515,
          0.04849930592466216,
          0.04571794368748475,
          0.03989139268950509,
          0.031227827924356296,
          0.02610680145579685,
          0.025634904860390148,
          0.027275096076987984,
          0.028383427421317428,
          0.02779650757164217,
          0.027289449655346056,
          0.026256114728872685,
          0.028697409832385428,
          0.027583381649150262,
          0.025525612961774025,
          0.016855032089742976,
          0.01824883199693565,
          0.01680932501290282,
          0.018734538010563972,
          0.024632097337574918,
          0.02057559596761996,
          0.02305935037463856,
          0.020079286767794215,
          0.013439929228298375,
          0.013965494626210669,
          0.012648775302126207,
          0.01173847389252672,
          0.013618118469003753,
          0.017903872009185695,
          0.013429776798277641,
          0.010870968888760974,
          0.016234946969092473,
          0.016274678361573817,
          0.01288803959009799,
          0.013755174054188374,
          0.010905624675567062,
          0.013854425477418587,
          0.013067807010501711,
          0.010994450311870942,
          0.008644646531593204,
          0.008681935315363704,
          0.010442451359794328,
          0.008294976793922694,
          0.010169173512476285,
          0.010530711711064062,
          0.009171084187936116,
          0.008448723696144762,
          0.008074642535982937,
          0.00509625241737742,
          0.0055240883262293065,
          0.00842368068265616,
          0.009595879503565182,
          0.010460751181252156,
          0.010318732324028084,
          0.014156466549077188,
          0.013286095251128767,
          0.011598889166886629,
          0.01494684432590039,
          0.019874135769482597,
          0.015559143217554647,
          0.01563585953150494,
          0.01675594423669219,
          0.014067027524176696,
          0.015113286255405397,
          0.02041848019152777,
          0.022318603512456413,
          0.01849442596121702,
          0.021630798815741654,
          0.019386456546404095,
          0.021087508517177868,
          0.02177052310886877,
          0.024220189694251944,
          0.022757382996362714,
          0.022673958673763307,
          0.021579996264067307,
          0.02519379032518763,
          0.024113732931257372,
          0.030210357992548266,
          0.034626683202780256,
          0.037599676704454715,
          0.03652528906885854,
          0.032922967698181774,
          0.03221467709101265,
          0.030045164787929568,
          0.028518578876560535,
          0.029396374337160882,
          0.029972132985167484,
          0.03380042943421527,
          0.036748348218059425,
          0.030365910495255735,
          0.037516515785071786,
          0.03434438937130752,
          0.035883353048091246,
          0.03601398382740488,
          0.035870509260564856,
          0.035365321246604894,
          0.038137339296371246,
          0.03449279642452327,
          0.03522001010778558,
          0.03375460651889375,
          0.034240225933299,
          0.034452685401921174,
          0.0367384940876062,
          0.03631944281236851,
          0.036809022600977556,
          0.037311268802185514,
          0.03984808754982102,
          0.042733619395743876,
          0.04505438221103767,
          0.04380098239111206,
          0.040493080981569424,
          0.041217356018581904,
          0.04260324526575183,
          0.03610537782613922,
          0.03826417610273234,
          0.03513516272181777,
          0.0319316054231308,
          0.029228768824467673,
          0.03477322168517813,
          0.04392532832144613,
          0.04215546124093421,
          0.04004239092350873,
          0.03965089503229659,
          0.03506516520113961,
          0.03826817604669635,
          0.03443368591596184,
          0.0340028763279468,
          0.0270605257481523,
          0.03086879603989456,
          0.03665325241617566,
          0.03985127440647923,
          0.04900469173845743,
          0.0430095915508762,
          0.036661683114763546,
          0.03877053001599933,
          0.03938363640428571,
          0.04431204609145723,
          0.04690782088799062,
          0.04847153506718829
         ]
        }
       ],
       "layout": {
        "template": {
         "data": {
          "bar": [
           {
            "error_x": {
             "color": "#2a3f5f"
            },
            "error_y": {
             "color": "#2a3f5f"
            },
            "marker": {
             "line": {
              "color": "#E5ECF6",
              "width": 0.5
             }
            },
            "type": "bar"
           }
          ],
          "barpolar": [
           {
            "marker": {
             "line": {
              "color": "#E5ECF6",
              "width": 0.5
             }
            },
            "type": "barpolar"
           }
          ],
          "carpet": [
           {
            "aaxis": {
             "endlinecolor": "#2a3f5f",
             "gridcolor": "white",
             "linecolor": "white",
             "minorgridcolor": "white",
             "startlinecolor": "#2a3f5f"
            },
            "baxis": {
             "endlinecolor": "#2a3f5f",
             "gridcolor": "white",
             "linecolor": "white",
             "minorgridcolor": "white",
             "startlinecolor": "#2a3f5f"
            },
            "type": "carpet"
           }
          ],
          "choropleth": [
           {
            "colorbar": {
             "outlinewidth": 0,
             "ticks": ""
            },
            "type": "choropleth"
           }
          ],
          "contour": [
           {
            "colorbar": {
             "outlinewidth": 0,
             "ticks": ""
            },
            "colorscale": [
             [
              0,
              "#0d0887"
             ],
             [
              0.1111111111111111,
              "#46039f"
             ],
             [
              0.2222222222222222,
              "#7201a8"
             ],
             [
              0.3333333333333333,
              "#9c179e"
             ],
             [
              0.4444444444444444,
              "#bd3786"
             ],
             [
              0.5555555555555556,
              "#d8576b"
             ],
             [
              0.6666666666666666,
              "#ed7953"
             ],
             [
              0.7777777777777778,
              "#fb9f3a"
             ],
             [
              0.8888888888888888,
              "#fdca26"
             ],
             [
              1,
              "#f0f921"
             ]
            ],
            "type": "contour"
           }
          ],
          "contourcarpet": [
           {
            "colorbar": {
             "outlinewidth": 0,
             "ticks": ""
            },
            "type": "contourcarpet"
           }
          ],
          "heatmap": [
           {
            "colorbar": {
             "outlinewidth": 0,
             "ticks": ""
            },
            "colorscale": [
             [
              0,
              "#0d0887"
             ],
             [
              0.1111111111111111,
              "#46039f"
             ],
             [
              0.2222222222222222,
              "#7201a8"
             ],
             [
              0.3333333333333333,
              "#9c179e"
             ],
             [
              0.4444444444444444,
              "#bd3786"
             ],
             [
              0.5555555555555556,
              "#d8576b"
             ],
             [
              0.6666666666666666,
              "#ed7953"
             ],
             [
              0.7777777777777778,
              "#fb9f3a"
             ],
             [
              0.8888888888888888,
              "#fdca26"
             ],
             [
              1,
              "#f0f921"
             ]
            ],
            "type": "heatmap"
           }
          ],
          "heatmapgl": [
           {
            "colorbar": {
             "outlinewidth": 0,
             "ticks": ""
            },
            "colorscale": [
             [
              0,
              "#0d0887"
             ],
             [
              0.1111111111111111,
              "#46039f"
             ],
             [
              0.2222222222222222,
              "#7201a8"
             ],
             [
              0.3333333333333333,
              "#9c179e"
             ],
             [
              0.4444444444444444,
              "#bd3786"
             ],
             [
              0.5555555555555556,
              "#d8576b"
             ],
             [
              0.6666666666666666,
              "#ed7953"
             ],
             [
              0.7777777777777778,
              "#fb9f3a"
             ],
             [
              0.8888888888888888,
              "#fdca26"
             ],
             [
              1,
              "#f0f921"
             ]
            ],
            "type": "heatmapgl"
           }
          ],
          "histogram": [
           {
            "marker": {
             "colorbar": {
              "outlinewidth": 0,
              "ticks": ""
             }
            },
            "type": "histogram"
           }
          ],
          "histogram2d": [
           {
            "colorbar": {
             "outlinewidth": 0,
             "ticks": ""
            },
            "colorscale": [
             [
              0,
              "#0d0887"
             ],
             [
              0.1111111111111111,
              "#46039f"
             ],
             [
              0.2222222222222222,
              "#7201a8"
             ],
             [
              0.3333333333333333,
              "#9c179e"
             ],
             [
              0.4444444444444444,
              "#bd3786"
             ],
             [
              0.5555555555555556,
              "#d8576b"
             ],
             [
              0.6666666666666666,
              "#ed7953"
             ],
             [
              0.7777777777777778,
              "#fb9f3a"
             ],
             [
              0.8888888888888888,
              "#fdca26"
             ],
             [
              1,
              "#f0f921"
             ]
            ],
            "type": "histogram2d"
           }
          ],
          "histogram2dcontour": [
           {
            "colorbar": {
             "outlinewidth": 0,
             "ticks": ""
            },
            "colorscale": [
             [
              0,
              "#0d0887"
             ],
             [
              0.1111111111111111,
              "#46039f"
             ],
             [
              0.2222222222222222,
              "#7201a8"
             ],
             [
              0.3333333333333333,
              "#9c179e"
             ],
             [
              0.4444444444444444,
              "#bd3786"
             ],
             [
              0.5555555555555556,
              "#d8576b"
             ],
             [
              0.6666666666666666,
              "#ed7953"
             ],
             [
              0.7777777777777778,
              "#fb9f3a"
             ],
             [
              0.8888888888888888,
              "#fdca26"
             ],
             [
              1,
              "#f0f921"
             ]
            ],
            "type": "histogram2dcontour"
           }
          ],
          "mesh3d": [
           {
            "colorbar": {
             "outlinewidth": 0,
             "ticks": ""
            },
            "type": "mesh3d"
           }
          ],
          "parcoords": [
           {
            "line": {
             "colorbar": {
              "outlinewidth": 0,
              "ticks": ""
             }
            },
            "type": "parcoords"
           }
          ],
          "pie": [
           {
            "automargin": true,
            "type": "pie"
           }
          ],
          "scatter": [
           {
            "marker": {
             "colorbar": {
              "outlinewidth": 0,
              "ticks": ""
             }
            },
            "type": "scatter"
           }
          ],
          "scatter3d": [
           {
            "line": {
             "colorbar": {
              "outlinewidth": 0,
              "ticks": ""
             }
            },
            "marker": {
             "colorbar": {
              "outlinewidth": 0,
              "ticks": ""
             }
            },
            "type": "scatter3d"
           }
          ],
          "scattercarpet": [
           {
            "marker": {
             "colorbar": {
              "outlinewidth": 0,
              "ticks": ""
             }
            },
            "type": "scattercarpet"
           }
          ],
          "scattergeo": [
           {
            "marker": {
             "colorbar": {
              "outlinewidth": 0,
              "ticks": ""
             }
            },
            "type": "scattergeo"
           }
          ],
          "scattergl": [
           {
            "marker": {
             "colorbar": {
              "outlinewidth": 0,
              "ticks": ""
             }
            },
            "type": "scattergl"
           }
          ],
          "scattermapbox": [
           {
            "marker": {
             "colorbar": {
              "outlinewidth": 0,
              "ticks": ""
             }
            },
            "type": "scattermapbox"
           }
          ],
          "scatterpolar": [
           {
            "marker": {
             "colorbar": {
              "outlinewidth": 0,
              "ticks": ""
             }
            },
            "type": "scatterpolar"
           }
          ],
          "scatterpolargl": [
           {
            "marker": {
             "colorbar": {
              "outlinewidth": 0,
              "ticks": ""
             }
            },
            "type": "scatterpolargl"
           }
          ],
          "scatterternary": [
           {
            "marker": {
             "colorbar": {
              "outlinewidth": 0,
              "ticks": ""
             }
            },
            "type": "scatterternary"
           }
          ],
          "surface": [
           {
            "colorbar": {
             "outlinewidth": 0,
             "ticks": ""
            },
            "colorscale": [
             [
              0,
              "#0d0887"
             ],
             [
              0.1111111111111111,
              "#46039f"
             ],
             [
              0.2222222222222222,
              "#7201a8"
             ],
             [
              0.3333333333333333,
              "#9c179e"
             ],
             [
              0.4444444444444444,
              "#bd3786"
             ],
             [
              0.5555555555555556,
              "#d8576b"
             ],
             [
              0.6666666666666666,
              "#ed7953"
             ],
             [
              0.7777777777777778,
              "#fb9f3a"
             ],
             [
              0.8888888888888888,
              "#fdca26"
             ],
             [
              1,
              "#f0f921"
             ]
            ],
            "type": "surface"
           }
          ],
          "table": [
           {
            "cells": {
             "fill": {
              "color": "#EBF0F8"
             },
             "line": {
              "color": "white"
             }
            },
            "header": {
             "fill": {
              "color": "#C8D4E3"
             },
             "line": {
              "color": "white"
             }
            },
            "type": "table"
           }
          ]
         },
         "layout": {
          "annotationdefaults": {
           "arrowcolor": "#2a3f5f",
           "arrowhead": 0,
           "arrowwidth": 1
          },
          "coloraxis": {
           "colorbar": {
            "outlinewidth": 0,
            "ticks": ""
           }
          },
          "colorscale": {
           "diverging": [
            [
             0,
             "#8e0152"
            ],
            [
             0.1,
             "#c51b7d"
            ],
            [
             0.2,
             "#de77ae"
            ],
            [
             0.3,
             "#f1b6da"
            ],
            [
             0.4,
             "#fde0ef"
            ],
            [
             0.5,
             "#f7f7f7"
            ],
            [
             0.6,
             "#e6f5d0"
            ],
            [
             0.7,
             "#b8e186"
            ],
            [
             0.8,
             "#7fbc41"
            ],
            [
             0.9,
             "#4d9221"
            ],
            [
             1,
             "#276419"
            ]
           ],
           "sequential": [
            [
             0,
             "#0d0887"
            ],
            [
             0.1111111111111111,
             "#46039f"
            ],
            [
             0.2222222222222222,
             "#7201a8"
            ],
            [
             0.3333333333333333,
             "#9c179e"
            ],
            [
             0.4444444444444444,
             "#bd3786"
            ],
            [
             0.5555555555555556,
             "#d8576b"
            ],
            [
             0.6666666666666666,
             "#ed7953"
            ],
            [
             0.7777777777777778,
             "#fb9f3a"
            ],
            [
             0.8888888888888888,
             "#fdca26"
            ],
            [
             1,
             "#f0f921"
            ]
           ],
           "sequentialminus": [
            [
             0,
             "#0d0887"
            ],
            [
             0.1111111111111111,
             "#46039f"
            ],
            [
             0.2222222222222222,
             "#7201a8"
            ],
            [
             0.3333333333333333,
             "#9c179e"
            ],
            [
             0.4444444444444444,
             "#bd3786"
            ],
            [
             0.5555555555555556,
             "#d8576b"
            ],
            [
             0.6666666666666666,
             "#ed7953"
            ],
            [
             0.7777777777777778,
             "#fb9f3a"
            ],
            [
             0.8888888888888888,
             "#fdca26"
            ],
            [
             1,
             "#f0f921"
            ]
           ]
          },
          "colorway": [
           "#636efa",
           "#EF553B",
           "#00cc96",
           "#ab63fa",
           "#FFA15A",
           "#19d3f3",
           "#FF6692",
           "#B6E880",
           "#FF97FF",
           "#FECB52"
          ],
          "font": {
           "color": "#2a3f5f"
          },
          "geo": {
           "bgcolor": "white",
           "lakecolor": "white",
           "landcolor": "#E5ECF6",
           "showlakes": true,
           "showland": true,
           "subunitcolor": "white"
          },
          "hoverlabel": {
           "align": "left"
          },
          "hovermode": "closest",
          "mapbox": {
           "style": "light"
          },
          "paper_bgcolor": "white",
          "plot_bgcolor": "#E5ECF6",
          "polar": {
           "angularaxis": {
            "gridcolor": "white",
            "linecolor": "white",
            "ticks": ""
           },
           "bgcolor": "#E5ECF6",
           "radialaxis": {
            "gridcolor": "white",
            "linecolor": "white",
            "ticks": ""
           }
          },
          "scene": {
           "xaxis": {
            "backgroundcolor": "#E5ECF6",
            "gridcolor": "white",
            "gridwidth": 2,
            "linecolor": "white",
            "showbackground": true,
            "ticks": "",
            "zerolinecolor": "white"
           },
           "yaxis": {
            "backgroundcolor": "#E5ECF6",
            "gridcolor": "white",
            "gridwidth": 2,
            "linecolor": "white",
            "showbackground": true,
            "ticks": "",
            "zerolinecolor": "white"
           },
           "zaxis": {
            "backgroundcolor": "#E5ECF6",
            "gridcolor": "white",
            "gridwidth": 2,
            "linecolor": "white",
            "showbackground": true,
            "ticks": "",
            "zerolinecolor": "white"
           }
          },
          "shapedefaults": {
           "line": {
            "color": "#2a3f5f"
           }
          },
          "ternary": {
           "aaxis": {
            "gridcolor": "white",
            "linecolor": "white",
            "ticks": ""
           },
           "baxis": {
            "gridcolor": "white",
            "linecolor": "white",
            "ticks": ""
           },
           "bgcolor": "#E5ECF6",
           "caxis": {
            "gridcolor": "white",
            "linecolor": "white",
            "ticks": ""
           }
          },
          "title": {
           "x": 0.05
          },
          "xaxis": {
           "automargin": true,
           "gridcolor": "white",
           "linecolor": "white",
           "ticks": "",
           "title": {
            "standoff": 15
           },
           "zerolinecolor": "white",
           "zerolinewidth": 2
          },
          "yaxis": {
           "automargin": true,
           "gridcolor": "white",
           "linecolor": "white",
           "ticks": "",
           "title": {
            "standoff": 15
           },
           "zerolinecolor": "white",
           "zerolinewidth": 2
          }
         }
        },
        "title": {
         "text": "$\\text{Norm of the Orthogonality Matrix}$",
         "x": 0.48,
         "xanchor": "center",
         "y": 0.9,
         "yanchor": "top"
        },
        "xaxis": {
         "title": {
          "text": "$\\text{Time (}s \\text{)}$"
         }
        },
        "yaxis": {
         "title": {
          "text": "$\\text{Norm}$"
         }
        }
       }
      },
      "text/html": [
       "<div>\n",
       "        \n",
       "        \n",
       "            <div id=\"9b056a5b-5ba1-4cd4-80b3-ecd838f81ad1\" class=\"plotly-graph-div\" style=\"height:525px; width:100%;\"></div>\n",
       "            <script type=\"text/javascript\">\n",
       "                require([\"plotly\"], function(Plotly) {\n",
       "                    window.PLOTLYENV=window.PLOTLYENV || {};\n",
       "                    \n",
       "                if (document.getElementById(\"9b056a5b-5ba1-4cd4-80b3-ecd838f81ad1\")) {\n",
       "                    Plotly.newPlot(\n",
       "                        '9b056a5b-5ba1-4cd4-80b3-ecd838f81ad1',\n",
       "                        [{\"name\": \"Norm\", \"type\": \"scatter\", \"x\": [0.0, 0.2, 0.4, 0.6000000000000001, 0.8, 1.0, 1.2000000000000002, 1.4000000000000001, 1.6, 1.8, 2.0, 2.2, 2.4000000000000004, 2.6, 2.8000000000000003, 3.0, 3.2, 3.4000000000000004, 3.6, 3.8000000000000003, 4.0, 4.2, 4.4, 4.6000000000000005, 4.800000000000001, 5.0, 5.2, 5.4, 5.6000000000000005, 5.800000000000001, 6.0, 6.2, 6.4, 6.6000000000000005, 6.800000000000001, 7.0, 7.2, 7.4, 7.6000000000000005, 7.800000000000001, 8.0, 8.200000000000001, 8.4, 8.6, 8.8, 9.0, 9.200000000000001, 9.4, 9.600000000000001, 9.8, 10.0, 10.200000000000001, 10.4, 10.600000000000001, 10.8, 11.0, 11.200000000000001, 11.4, 11.600000000000001, 11.8, 12.0, 12.200000000000001, 12.4, 12.600000000000001, 12.8, 13.0, 13.200000000000001, 13.4, 13.600000000000001, 13.8, 14.0, 14.200000000000001, 14.4, 14.600000000000001, 14.8, 15.0, 15.200000000000001, 15.4, 15.600000000000001, 15.8, 16.0, 16.2, 16.400000000000002, 16.6, 16.8, 17.0, 17.2, 17.400000000000002, 17.6, 17.8, 18.0, 18.2, 18.400000000000002, 18.6, 18.8, 19.0, 19.200000000000003, 19.400000000000002, 19.6, 19.8, 20.0, 20.200000000000003, 20.400000000000002, 20.6, 20.8, 21.0, 21.200000000000003, 21.400000000000002, 21.6, 21.8, 22.0, 22.200000000000003, 22.400000000000002, 22.6, 22.8, 23.0, 23.200000000000003, 23.400000000000002, 23.6, 23.8, 24.0, 24.200000000000003, 24.400000000000002, 24.6, 24.8, 25.0, 25.200000000000003, 25.400000000000002, 25.6, 25.8, 26.0, 26.200000000000003, 26.400000000000002, 26.6, 26.8, 27.0, 27.200000000000003, 27.400000000000002, 27.6, 27.8, 28.0, 28.200000000000003, 28.400000000000002, 28.6, 28.8, 29.0, 29.200000000000003, 29.400000000000002, 29.6, 29.8, 30.0], \"y\": [1.4063650271085257, 0.6033917354396517, 0.7396416462332394, 0.7044496825114366, 0.5259971727993965, 0.3633562334493663, 0.24823391115154855, 0.17440707222730067, 0.12668248433432097, 0.09649720674523916, 0.07817211927882425, 0.06396647457549262, 0.05574987285605515, 0.04849930592466216, 0.04571794368748475, 0.03989139268950509, 0.031227827924356296, 0.02610680145579685, 0.025634904860390148, 0.027275096076987984, 0.028383427421317428, 0.02779650757164217, 0.027289449655346056, 0.026256114728872685, 0.028697409832385428, 0.027583381649150262, 0.025525612961774025, 0.016855032089742976, 0.01824883199693565, 0.01680932501290282, 0.018734538010563972, 0.024632097337574918, 0.02057559596761996, 0.02305935037463856, 0.020079286767794215, 0.013439929228298375, 0.013965494626210669, 0.012648775302126207, 0.01173847389252672, 0.013618118469003753, 0.017903872009185695, 0.013429776798277641, 0.010870968888760974, 0.016234946969092473, 0.016274678361573817, 0.01288803959009799, 0.013755174054188374, 0.010905624675567062, 0.013854425477418587, 0.013067807010501711, 0.010994450311870942, 0.008644646531593204, 0.008681935315363704, 0.010442451359794328, 0.008294976793922694, 0.010169173512476285, 0.010530711711064062, 0.009171084187936116, 0.008448723696144762, 0.008074642535982937, 0.00509625241737742, 0.0055240883262293065, 0.00842368068265616, 0.009595879503565182, 0.010460751181252156, 0.010318732324028084, 0.014156466549077188, 0.013286095251128767, 0.011598889166886629, 0.01494684432590039, 0.019874135769482597, 0.015559143217554647, 0.01563585953150494, 0.01675594423669219, 0.014067027524176696, 0.015113286255405397, 0.02041848019152777, 0.022318603512456413, 0.01849442596121702, 0.021630798815741654, 0.019386456546404095, 0.021087508517177868, 0.02177052310886877, 0.024220189694251944, 0.022757382996362714, 0.022673958673763307, 0.021579996264067307, 0.02519379032518763, 0.024113732931257372, 0.030210357992548266, 0.034626683202780256, 0.037599676704454715, 0.03652528906885854, 0.032922967698181774, 0.03221467709101265, 0.030045164787929568, 0.028518578876560535, 0.029396374337160882, 0.029972132985167484, 0.03380042943421527, 0.036748348218059425, 0.030365910495255735, 0.037516515785071786, 0.03434438937130752, 0.035883353048091246, 0.03601398382740488, 0.035870509260564856, 0.035365321246604894, 0.038137339296371246, 0.03449279642452327, 0.03522001010778558, 0.03375460651889375, 0.034240225933299, 0.034452685401921174, 0.0367384940876062, 0.03631944281236851, 0.036809022600977556, 0.037311268802185514, 0.03984808754982102, 0.042733619395743876, 0.04505438221103767, 0.04380098239111206, 0.040493080981569424, 0.041217356018581904, 0.04260324526575183, 0.03610537782613922, 0.03826417610273234, 0.03513516272181777, 0.0319316054231308, 0.029228768824467673, 0.03477322168517813, 0.04392532832144613, 0.04215546124093421, 0.04004239092350873, 0.03965089503229659, 0.03506516520113961, 0.03826817604669635, 0.03443368591596184, 0.0340028763279468, 0.0270605257481523, 0.03086879603989456, 0.03665325241617566, 0.03985127440647923, 0.04900469173845743, 0.0430095915508762, 0.036661683114763546, 0.03877053001599933, 0.03938363640428571, 0.04431204609145723, 0.04690782088799062, 0.04847153506718829]}],\n",
       "                        {\"template\": {\"data\": {\"bar\": [{\"error_x\": {\"color\": \"#2a3f5f\"}, \"error_y\": {\"color\": \"#2a3f5f\"}, \"marker\": {\"line\": {\"color\": \"#E5ECF6\", \"width\": 0.5}}, \"type\": \"bar\"}], \"barpolar\": [{\"marker\": {\"line\": {\"color\": \"#E5ECF6\", \"width\": 0.5}}, \"type\": \"barpolar\"}], \"carpet\": [{\"aaxis\": {\"endlinecolor\": \"#2a3f5f\", \"gridcolor\": \"white\", \"linecolor\": \"white\", \"minorgridcolor\": \"white\", \"startlinecolor\": \"#2a3f5f\"}, \"baxis\": {\"endlinecolor\": \"#2a3f5f\", \"gridcolor\": \"white\", \"linecolor\": \"white\", \"minorgridcolor\": \"white\", \"startlinecolor\": \"#2a3f5f\"}, \"type\": \"carpet\"}], \"choropleth\": [{\"colorbar\": {\"outlinewidth\": 0, \"ticks\": \"\"}, \"type\": \"choropleth\"}], \"contour\": [{\"colorbar\": {\"outlinewidth\": 0, \"ticks\": \"\"}, \"colorscale\": [[0.0, \"#0d0887\"], [0.1111111111111111, \"#46039f\"], [0.2222222222222222, \"#7201a8\"], [0.3333333333333333, \"#9c179e\"], [0.4444444444444444, \"#bd3786\"], [0.5555555555555556, \"#d8576b\"], [0.6666666666666666, \"#ed7953\"], [0.7777777777777778, \"#fb9f3a\"], [0.8888888888888888, \"#fdca26\"], [1.0, \"#f0f921\"]], \"type\": \"contour\"}], \"contourcarpet\": [{\"colorbar\": {\"outlinewidth\": 0, \"ticks\": \"\"}, \"type\": \"contourcarpet\"}], \"heatmap\": [{\"colorbar\": {\"outlinewidth\": 0, \"ticks\": \"\"}, \"colorscale\": [[0.0, \"#0d0887\"], [0.1111111111111111, \"#46039f\"], [0.2222222222222222, \"#7201a8\"], [0.3333333333333333, \"#9c179e\"], [0.4444444444444444, \"#bd3786\"], [0.5555555555555556, \"#d8576b\"], [0.6666666666666666, \"#ed7953\"], [0.7777777777777778, \"#fb9f3a\"], [0.8888888888888888, \"#fdca26\"], [1.0, \"#f0f921\"]], \"type\": \"heatmap\"}], \"heatmapgl\": [{\"colorbar\": {\"outlinewidth\": 0, \"ticks\": \"\"}, \"colorscale\": [[0.0, \"#0d0887\"], [0.1111111111111111, \"#46039f\"], [0.2222222222222222, \"#7201a8\"], [0.3333333333333333, \"#9c179e\"], [0.4444444444444444, \"#bd3786\"], [0.5555555555555556, \"#d8576b\"], [0.6666666666666666, \"#ed7953\"], [0.7777777777777778, \"#fb9f3a\"], [0.8888888888888888, \"#fdca26\"], [1.0, \"#f0f921\"]], \"type\": \"heatmapgl\"}], \"histogram\": [{\"marker\": {\"colorbar\": {\"outlinewidth\": 0, \"ticks\": \"\"}}, \"type\": \"histogram\"}], \"histogram2d\": [{\"colorbar\": {\"outlinewidth\": 0, \"ticks\": \"\"}, \"colorscale\": [[0.0, \"#0d0887\"], [0.1111111111111111, \"#46039f\"], [0.2222222222222222, \"#7201a8\"], [0.3333333333333333, \"#9c179e\"], [0.4444444444444444, \"#bd3786\"], [0.5555555555555556, \"#d8576b\"], [0.6666666666666666, \"#ed7953\"], [0.7777777777777778, \"#fb9f3a\"], [0.8888888888888888, \"#fdca26\"], [1.0, \"#f0f921\"]], \"type\": \"histogram2d\"}], \"histogram2dcontour\": [{\"colorbar\": {\"outlinewidth\": 0, \"ticks\": \"\"}, \"colorscale\": [[0.0, \"#0d0887\"], [0.1111111111111111, \"#46039f\"], [0.2222222222222222, \"#7201a8\"], [0.3333333333333333, \"#9c179e\"], [0.4444444444444444, \"#bd3786\"], [0.5555555555555556, \"#d8576b\"], [0.6666666666666666, \"#ed7953\"], [0.7777777777777778, \"#fb9f3a\"], [0.8888888888888888, \"#fdca26\"], [1.0, \"#f0f921\"]], \"type\": \"histogram2dcontour\"}], \"mesh3d\": [{\"colorbar\": {\"outlinewidth\": 0, \"ticks\": \"\"}, \"type\": \"mesh3d\"}], \"parcoords\": [{\"line\": {\"colorbar\": {\"outlinewidth\": 0, \"ticks\": \"\"}}, \"type\": \"parcoords\"}], \"pie\": [{\"automargin\": true, \"type\": \"pie\"}], \"scatter\": [{\"marker\": {\"colorbar\": {\"outlinewidth\": 0, \"ticks\": \"\"}}, \"type\": \"scatter\"}], \"scatter3d\": [{\"line\": {\"colorbar\": {\"outlinewidth\": 0, \"ticks\": \"\"}}, \"marker\": {\"colorbar\": {\"outlinewidth\": 0, \"ticks\": \"\"}}, \"type\": \"scatter3d\"}], \"scattercarpet\": [{\"marker\": {\"colorbar\": {\"outlinewidth\": 0, \"ticks\": \"\"}}, \"type\": \"scattercarpet\"}], \"scattergeo\": [{\"marker\": {\"colorbar\": {\"outlinewidth\": 0, \"ticks\": \"\"}}, \"type\": \"scattergeo\"}], \"scattergl\": [{\"marker\": {\"colorbar\": {\"outlinewidth\": 0, \"ticks\": \"\"}}, \"type\": \"scattergl\"}], \"scattermapbox\": [{\"marker\": {\"colorbar\": {\"outlinewidth\": 0, \"ticks\": \"\"}}, \"type\": \"scattermapbox\"}], \"scatterpolar\": [{\"marker\": {\"colorbar\": {\"outlinewidth\": 0, \"ticks\": \"\"}}, \"type\": \"scatterpolar\"}], \"scatterpolargl\": [{\"marker\": {\"colorbar\": {\"outlinewidth\": 0, \"ticks\": \"\"}}, \"type\": \"scatterpolargl\"}], \"scatterternary\": [{\"marker\": {\"colorbar\": {\"outlinewidth\": 0, \"ticks\": \"\"}}, \"type\": \"scatterternary\"}], \"surface\": [{\"colorbar\": {\"outlinewidth\": 0, \"ticks\": \"\"}, \"colorscale\": [[0.0, \"#0d0887\"], [0.1111111111111111, \"#46039f\"], [0.2222222222222222, \"#7201a8\"], [0.3333333333333333, \"#9c179e\"], [0.4444444444444444, \"#bd3786\"], [0.5555555555555556, \"#d8576b\"], [0.6666666666666666, \"#ed7953\"], [0.7777777777777778, \"#fb9f3a\"], [0.8888888888888888, \"#fdca26\"], [1.0, \"#f0f921\"]], \"type\": \"surface\"}], \"table\": [{\"cells\": {\"fill\": {\"color\": \"#EBF0F8\"}, \"line\": {\"color\": \"white\"}}, \"header\": {\"fill\": {\"color\": \"#C8D4E3\"}, \"line\": {\"color\": \"white\"}}, \"type\": \"table\"}]}, \"layout\": {\"annotationdefaults\": {\"arrowcolor\": \"#2a3f5f\", \"arrowhead\": 0, \"arrowwidth\": 1}, \"coloraxis\": {\"colorbar\": {\"outlinewidth\": 0, \"ticks\": \"\"}}, \"colorscale\": {\"diverging\": [[0, \"#8e0152\"], [0.1, \"#c51b7d\"], [0.2, \"#de77ae\"], [0.3, \"#f1b6da\"], [0.4, \"#fde0ef\"], [0.5, \"#f7f7f7\"], [0.6, \"#e6f5d0\"], [0.7, \"#b8e186\"], [0.8, \"#7fbc41\"], [0.9, \"#4d9221\"], [1, \"#276419\"]], \"sequential\": [[0.0, \"#0d0887\"], [0.1111111111111111, \"#46039f\"], [0.2222222222222222, \"#7201a8\"], [0.3333333333333333, \"#9c179e\"], [0.4444444444444444, \"#bd3786\"], [0.5555555555555556, \"#d8576b\"], [0.6666666666666666, \"#ed7953\"], [0.7777777777777778, \"#fb9f3a\"], [0.8888888888888888, \"#fdca26\"], [1.0, \"#f0f921\"]], \"sequentialminus\": [[0.0, \"#0d0887\"], [0.1111111111111111, \"#46039f\"], [0.2222222222222222, \"#7201a8\"], [0.3333333333333333, \"#9c179e\"], [0.4444444444444444, \"#bd3786\"], [0.5555555555555556, \"#d8576b\"], [0.6666666666666666, \"#ed7953\"], [0.7777777777777778, \"#fb9f3a\"], [0.8888888888888888, \"#fdca26\"], [1.0, \"#f0f921\"]]}, \"colorway\": [\"#636efa\", \"#EF553B\", \"#00cc96\", \"#ab63fa\", \"#FFA15A\", \"#19d3f3\", \"#FF6692\", \"#B6E880\", \"#FF97FF\", \"#FECB52\"], \"font\": {\"color\": \"#2a3f5f\"}, \"geo\": {\"bgcolor\": \"white\", \"lakecolor\": \"white\", \"landcolor\": \"#E5ECF6\", \"showlakes\": true, \"showland\": true, \"subunitcolor\": \"white\"}, \"hoverlabel\": {\"align\": \"left\"}, \"hovermode\": \"closest\", \"mapbox\": {\"style\": \"light\"}, \"paper_bgcolor\": \"white\", \"plot_bgcolor\": \"#E5ECF6\", \"polar\": {\"angularaxis\": {\"gridcolor\": \"white\", \"linecolor\": \"white\", \"ticks\": \"\"}, \"bgcolor\": \"#E5ECF6\", \"radialaxis\": {\"gridcolor\": \"white\", \"linecolor\": \"white\", \"ticks\": \"\"}}, \"scene\": {\"xaxis\": {\"backgroundcolor\": \"#E5ECF6\", \"gridcolor\": \"white\", \"gridwidth\": 2, \"linecolor\": \"white\", \"showbackground\": true, \"ticks\": \"\", \"zerolinecolor\": \"white\"}, \"yaxis\": {\"backgroundcolor\": \"#E5ECF6\", \"gridcolor\": \"white\", \"gridwidth\": 2, \"linecolor\": \"white\", \"showbackground\": true, \"ticks\": \"\", \"zerolinecolor\": \"white\"}, \"zaxis\": {\"backgroundcolor\": \"#E5ECF6\", \"gridcolor\": \"white\", \"gridwidth\": 2, \"linecolor\": \"white\", \"showbackground\": true, \"ticks\": \"\", \"zerolinecolor\": \"white\"}}, \"shapedefaults\": {\"line\": {\"color\": \"#2a3f5f\"}}, \"ternary\": {\"aaxis\": {\"gridcolor\": \"white\", \"linecolor\": \"white\", \"ticks\": \"\"}, \"baxis\": {\"gridcolor\": \"white\", \"linecolor\": \"white\", \"ticks\": \"\"}, \"bgcolor\": \"#E5ECF6\", \"caxis\": {\"gridcolor\": \"white\", \"linecolor\": \"white\", \"ticks\": \"\"}}, \"title\": {\"x\": 0.05}, \"xaxis\": {\"automargin\": true, \"gridcolor\": \"white\", \"linecolor\": \"white\", \"ticks\": \"\", \"title\": {\"standoff\": 15}, \"zerolinecolor\": \"white\", \"zerolinewidth\": 2}, \"yaxis\": {\"automargin\": true, \"gridcolor\": \"white\", \"linecolor\": \"white\", \"ticks\": \"\", \"title\": {\"standoff\": 15}, \"zerolinecolor\": \"white\", \"zerolinewidth\": 2}}}, \"title\": {\"text\": \"$\\\\text{Norm of the Orthogonality Matrix}$\", \"x\": 0.48, \"xanchor\": \"center\", \"y\": 0.9, \"yanchor\": \"top\"}, \"xaxis\": {\"title\": {\"text\": \"$\\\\text{Time (}s \\\\text{)}$\"}}, \"yaxis\": {\"title\": {\"text\": \"$\\\\text{Norm}$\"}}},\n",
       "                        {\"responsive\": true}\n",
       "                    ).then(function(){\n",
       "                            \n",
       "var gd = document.getElementById('9b056a5b-5ba1-4cd4-80b3-ecd838f81ad1');\n",
       "var x = new MutationObserver(function (mutations, observer) {{\n",
       "        var display = window.getComputedStyle(gd).display;\n",
       "        if (!display || display === 'none') {{\n",
       "            console.log([gd, 'removed!']);\n",
       "            Plotly.purge(gd);\n",
       "            observer.disconnect();\n",
       "        }}\n",
       "}});\n",
       "\n",
       "// Listen for the removal of the full notebook cells\n",
       "var notebookContainer = gd.closest('#notebook-container');\n",
       "if (notebookContainer) {{\n",
       "    x.observe(notebookContainer, {childList: true});\n",
       "}}\n",
       "\n",
       "// Listen for the clearing of the current output cell\n",
       "var outputEl = gd.closest('.output');\n",
       "if (outputEl) {{\n",
       "    x.observe(outputEl, {childList: true});\n",
       "}}\n",
       "\n",
       "                        })\n",
       "                };\n",
       "                });\n",
       "            </script>\n",
       "        </div>"
      ]
     },
     "metadata": {},
     "output_type": "display_data"
    }
   ],
   "source": [
    "onorm = [np.linalg.norm(omat[i,:,:]) for i in range(kf_steps)]\n",
    "\n",
    "figo = go.Figure()\n",
    "figo.add_trace(go.Scatter(x=t_kf, y=onorm, name=\"Norm\"))\n",
    "figo.update_layout(title={'text':r\"$\\text{Norm of the Orthogonality Matrix}$\",'xanchor':'center','yanchor':'top','y':0.9,'x':0.48}, xaxis_title=r\"$\\text{Time (}s \\text{)}$\", yaxis_title=r\"$\\text{Norm}$\")\n",
    "figo.show()\n"
   ]
  },
  {
   "cell_type": "markdown",
   "metadata": {},
   "source": [
    "## Norm of the residuals\n",
    "For a Monte Carlo run of 10,000 simulations, the norm of the residuals at i=100 and m=101 over all 10,000 runs is \n",
    "0.011431141451718762"
   ]
  },
  {
   "cell_type": "code",
   "execution_count": 145,
   "metadata": {
    "scrolled": true
   },
   "outputs": [
    {
     "name": "stdout",
     "output_type": "stream",
     "text": [
      "0.011431141451718762\n"
     ]
    }
   ],
   "source": [
    "print(np.linalg.norm(rescor)) \n"
   ]
  },
  {
   "cell_type": "code",
   "execution_count": null,
   "metadata": {},
   "outputs": [],
   "source": []
  },
  {
   "cell_type": "code",
   "execution_count": null,
   "metadata": {},
   "outputs": [],
   "source": []
  }
 ],
 "metadata": {
  "kernelspec": {
   "display_name": "Python 3",
   "language": "python",
   "name": "python3"
  },
  "language_info": {
   "codemirror_mode": {
    "name": "ipython",
    "version": 3
   },
   "file_extension": ".py",
   "mimetype": "text/x-python",
   "name": "python",
   "nbconvert_exporter": "python",
   "pygments_lexer": "ipython3",
   "version": "3.6.9"
  }
 },
 "nbformat": 4,
 "nbformat_minor": 4
}
