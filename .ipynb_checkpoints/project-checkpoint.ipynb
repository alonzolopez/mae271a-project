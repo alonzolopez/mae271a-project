{
 "cells": [
  {
   "cell_type": "code",
   "execution_count": 147,
   "metadata": {},
   "outputs": [
    {
     "data": {
      "text/html": [
       "        <script type=\"text/javascript\">\n",
       "        window.PlotlyConfig = {MathJaxConfig: 'local'};\n",
       "        if (window.MathJax) {MathJax.Hub.Config({SVG: {font: \"STIX-Web\"}});}\n",
       "        if (typeof require !== 'undefined') {\n",
       "        require.undef(\"plotly\");\n",
       "        requirejs.config({\n",
       "            paths: {\n",
       "                'plotly': ['https://cdn.plot.ly/plotly-latest.min']\n",
       "            }\n",
       "        });\n",
       "        require(['plotly'], function(Plotly) {\n",
       "            window._Plotly = Plotly;\n",
       "        });\n",
       "        }\n",
       "        </script>\n",
       "        "
      ]
     },
     "metadata": {},
     "output_type": "display_data"
    }
   ],
   "source": [
    "import numpy as np\n",
    "import plotly.graph_objects as go\n",
    "import plotly.io as pio\n",
    "pio.renderers.default='notebook'\n",
    "from plotly.offline import download_plotlyjs, init_notebook_mode, plot, iplot\n",
    "init_notebook_mode(connected=True)\n",
    "import plotly.figure_factory as ff"
   ]
  },
  {
   "cell_type": "code",
   "execution_count": 148,
   "metadata": {},
   "outputs": [],
   "source": [
    "freq = 200 # Hz, the accelerometer frequency\n",
    "dt = 1.0/freq\n",
    "dt_kf = dt*40\n",
    "t_acc = np.linspace(0.0, 30.0, freq*30+1) # time vector with dt = 0.02 sec\n",
    "omega = 0.1 #rad/sec\n",
    "a = 10\n",
    "a_truth = [a * np.sin(omega*t_acc[i]) for i in range(t_acc.shape[0])] # uncorrupted true acceleration values\n"
   ]
  },
  {
   "cell_type": "code",
   "execution_count": 218,
   "metadata": {},
   "outputs": [],
   "source": [
    "# The process noise variance of the accelerometer with additive white Gaussian noise and zero mean:\n",
    "w_var = 0.0004 #(meters/sec^2)^2\n",
    "w_std = np.sqrt(w_var)\n",
    "w_mean = 0\n",
    "W = w_var # initial process noise covariance \n",
    "\n",
    "# The bias mean and std to draw from\n",
    "bbar_a = 0\n",
    "b_var = 0.01 # (meters/sec^2)^2\n",
    "b_std = np.sqrt(b_var)\n",
    "\n",
    "# The mean, std, and variance of the initial position to draw from\n",
    "Mp_0 = 10**2 # meters^2\n",
    "p_std = np.sqrt(Mp_0) # meters, the standard deviation\n",
    "pbar_0 = 0\n",
    "\n",
    "# The mean, std, and variance of the initial velocity to draw from\n",
    "Mv_0 = 1 # (meters/sec)^2\n",
    "v_std = np.sqrt(Mv_0) # meters/sec\n",
    "vbar_0 = 100 # m/s\n",
    "\n",
    "# measurement noise mean and variance\n",
    "etabar = np.zeros((2,1))\n",
    "etastd = np.array([[1, 0],[0, 0.04]]) # in units of meter^2 and (meters/sec)^2\n",
    "etavar = np.dot(etastd, etastd)\n",
    "\n",
    "H = np.array([\n",
    "    [1, 0, 0],\n",
    "    [0, 1, 0]\n",
    "])\n",
    "\n",
    "# initial covariance matrix\n",
    "P0 = np.array([\n",
    "    [Mp_0, 0, 0],\n",
    "    [0, Mv_0, 0],\n",
    "    [0, 0, b_var]\n",
    "])\n",
    "\n",
    "# state transition matrix\n",
    "Phi = np.array([\n",
    "    [1, dt_kf, -dt_kf**2/2],\n",
    "    [0, 1, -dt_kf],\n",
    "    [0, 0, 1]\n",
    "])\n",
    "\n",
    "Gamma = np.array([\n",
    "    [-dt_kf**2/2],\n",
    "    [-dt_kf],\n",
    "    [0]\n",
    "])\n",
    "\n",
    "# initial position, velocity, bias guesses\n",
    "vc_0 = vbar_0\n",
    "pc_0 = pbar_0\n",
    "ba_0 = 0\n",
    "\n",
    "\n",
    "\n"
   ]
  },
  {
   "cell_type": "markdown",
   "metadata": {},
   "source": [
    "# The Kalman Filter Algorithm"
   ]
  },
  {
   "cell_type": "code",
   "execution_count": 219,
   "metadata": {
    "scrolled": true
   },
   "outputs": [
    {
     "name": "stdout",
     "output_type": "stream",
     "text": [
      "Converged in  2  iterations\n",
      "K\n",
      "[[ 1.10048246e-02  3.33380840e-02]\n",
      " [ 3.30985730e-04  2.20212271e-03]\n",
      " [-2.48660161e-08 -1.65439214e-07]]\n",
      "Mk\n",
      "[[ 1.11385847e+00  3.37838192e-02 -2.53144607e-06]\n",
      " [ 3.35411059e-02  2.21818940e-03 -1.67650557e-07]\n",
      " [-2.51984785e-06 -1.66646258e-07  6.02276749e-09]]\n",
      "Pk\n",
      "[[ 1.10048246e+00  3.33380840e-02 -2.49799880e-06]\n",
      " [ 3.30985730e-02  2.20212271e-03 -1.66443497e-07]\n",
      " [-2.48660161e-06 -1.65439214e-07  6.02267680e-09]]\n"
     ]
    }
   ],
   "source": [
    "Mk = np.zeros((3,3))\n",
    "# print(Phi * Pk * np.transpose(Phi))\n",
    "\n",
    "K_prev = np.zeros((3,2))\n",
    "Mk = np.dot(Phi, np.dot(Pk, np.transpose(Phi)) + np.dot(Gamma, np.dot(W, np.transpose(Gamma))))\n",
    "Pk = np.linalg.inv(np.linalg.inv(Mk) + np.dot(np.transpose(H), np.dot(np.linalg.inv(V), H)))\n",
    "Kk = np.dot(Pk, np.dot(np.transpose(H), np.linalg.inv(V)))\n",
    "count = 1\n",
    "counts = [count]\n",
    "Ks = [Kk]\n",
    "Ms = [Mk]\n",
    "Ps = [Pk]\n",
    "\n",
    "while count < 2 or not np.allclose(Ks[-2], Ks[-1], rtol=1.0e-09, atol=1e-09):\n",
    "    Mk = np.dot(Phi, np.dot(Pk, np.transpose(Phi)) + np.dot(Gamma, np.dot(W, np.transpose(Gamma))))\n",
    "    Pk = np.linalg.inv(np.linalg.inv(Mk) + np.dot(np.transpose(H), np.dot(np.linalg.inv(V), H)))\n",
    "    Kk = np.dot(Pk, np.dot(np.transpose(H), np.linalg.inv(V)))\n",
    "    count+=1\n",
    "    counts.append(count)\n",
    "    Ks.append(Kk.copy())\n",
    "    Ms.append(Mk.copy())\n",
    "    Ps.append(Pk.copy())\n",
    "print(\"Converged in \", count, \" iterations\")\n",
    "print(\"K\")\n",
    "print(Ks[-1])\n",
    "print(\"Mk\")\n",
    "print(Ms[-1])\n",
    "print(\"Pk\")\n",
    "print(Ps[-1])"
   ]
  },
  {
   "cell_type": "code",
   "execution_count": 220,
   "metadata": {},
   "outputs": [
    {
     "ename": "IndexError",
     "evalue": "list index out of range",
     "output_type": "error",
     "traceback": [
      "\u001b[0;31m---------------------------------------------------------------------------\u001b[0m",
      "\u001b[0;31mIndexError\u001b[0m                                Traceback (most recent call last)",
      "\u001b[0;32m<ipython-input-220-0dc1f05f4a20>\u001b[0m in \u001b[0;36m<module>\u001b[0;34m\u001b[0m\n\u001b[0;32m----> 1\u001b[0;31m \u001b[0mKs\u001b[0m\u001b[0;34m[\u001b[0m\u001b[0;36m3\u001b[0m\u001b[0;34m]\u001b[0m\u001b[0;34m\u001b[0m\u001b[0;34m\u001b[0m\u001b[0m\n\u001b[0m",
      "\u001b[0;31mIndexError\u001b[0m: list index out of range"
     ]
    }
   ],
   "source": [
    "Ks[3]"
   ]
  },
  {
   "cell_type": "markdown",
   "metadata": {},
   "source": [
    "count:  2181100\n",
    "Pk\n",
    "[[ 1.10524905e-01  3.33480898e-03 -7.64760480e-08]\n",
    " [ 3.33239880e-03  2.21112969e-04 -5.07511253e-09]\n",
    " [-7.64410148e-08 -5.07205193e-09  1.83626301e-10]]\n",
    "Mk\n",
    "[[ 1.10658338e-01  3.33923758e-03 -7.65776221e-08]\n",
    " [ 3.33682419e-03  2.21273173e-04 -5.07878738e-09]\n",
    " [-7.65425277e-08 -5.07572679e-09  1.83626385e-10]]"
   ]
  },
  {
   "cell_type": "markdown",
   "metadata": {},
   "source": [
    "# The Monte Carlo Simulation"
   ]
  },
  {
   "cell_type": "code",
   "execution_count": 237,
   "metadata": {},
   "outputs": [],
   "source": [
    "def monte_carlo_run():\n",
    "    # Phi, Gamma, W, Etavar, P0, H are already defined\n",
    "    \n",
    "    # initialize the true position, velocity, and bias for this Monte Carlo run\n",
    "    p_0_true = np.random.normal(pbar_0, p_std)\n",
    "    v_0_true = np.random.normal(vbar_0, v_std)\n",
    "    b_a_true = np.random.normal(bbar_a, b_std)\n",
    "    \n",
    "    # initialize the belief values for the position, velocity, bias, and state vector\n",
    "    pc_now = pbar_0\n",
    "    vc_now = vbar_0\n",
    "    \n",
    "    # variables to hold the true position and velocity\n",
    "    ptrue_now = p_0_true\n",
    "    vtrue_now = v_0_true\n",
    "    \n",
    "    # dxhat_0\n",
    "    dxhat = np.array([\n",
    "    [0],\n",
    "    [0],\n",
    "    [0]])\n",
    "    \n",
    "    # P0\n",
    "    Pk = P0.copy()\n",
    "    \n",
    "    # initialize Kalman gain\n",
    "    K = np.zeros((3,2))\n",
    "\n",
    "\n",
    "    # record the dxhat, t, and Pk values for plotting\n",
    "    dxlist = [dxhat]\n",
    "    tlist = [0]\n",
    "    Pklist = [Pk]\n",
    "    Klist = [K]\n",
    "    ptruelist = [p_0_true]\n",
    "    vtruelist = [v_0_true]\n",
    "    pclist = [pc_now]\n",
    "    vclist = [vc_now]\n",
    "    \n",
    "    \n",
    "    # run the MC through the time vector\n",
    "    for i  in range(1, t_acc.shape[0]):\n",
    "        if i % 40 == 0:\n",
    "            pc_now, ptrue_now, vc_now, vtrue_now, dxhat, Pk, K, t = gps_timestep(i, b_a_true, pc_now, vc_now, p_0_true, v_0_true, dxhat, Pk)\n",
    "#             pc_now = dxhat[0,0] + pc_now\n",
    "#             vc_now = dxhat[1,0] + vc_now\n",
    "            dxlist.append(dxhat.copy())\n",
    "            tlist.append(t)\n",
    "            Pklist.append(Pk.copy())\n",
    "            Klist.append(K.copy())\n",
    "            ptruelist.append(ptrue_now)\n",
    "            vtruelist.append(vtrue_now)\n",
    "            pclist.append(pc_now)\n",
    "            vclist.append(vc_now)\n",
    "        else:\n",
    "            pc_now, vc_now = acc_timestep(i, b_a_true, pc_now, vc_now, dxhat[2,0])\n",
    "    \n",
    "    return b_a_true, dxlist, Pklist, ptruelist, pclist, vtruelist, vclist, tlist\n",
    "\n",
    "def gps_timestep(i, ba_true, pc_prev, vc_prev, p0_true, v0_true, dxhat_i, Pk_prev):\n",
    "    # Generates the ith timestep computations of the KF update given both GPS and accelerometer updates\n",
    "    # i: an int representing the time vec to index into the true acceleration vector, a_truth\n",
    "    # ba_true: the true bias (a float) for this MC run to be used in the calculation of the noisy accelerometer reading\n",
    "    # pc_prev: a float representing pc at timestep i-1\n",
    "    # vc_prev: a float representing vc at timestep i-1\n",
    "    \n",
    "    ## A priori\n",
    "    xbar_next = np.dot(Phi, dxhat_i)\n",
    "    Mk_next = np.dot(Phi, np.dot(Pk_prev, np.transpose(Phi)) + np.dot(Gamma, np.dot(W, np.transpose(Gamma))))\n",
    "    \n",
    "    ## A posteriori\n",
    "    # update the Kalman gain\n",
    "    HMHT = np.dot(H, np.dot(Mk_next, np.transpose(H)))\n",
    "    K = np.dot(Mk_next,np.dot(np.transpose(H), np.linalg.inv(HMHT + etavar)))\n",
    "#     print(K)\n",
    "    \n",
    "    # calculate the true position and velocity\n",
    "    vtrue_i = v0_true + a/omega - a/omega*np.cos(omega*t_acc[i])\n",
    "    ptrue_i = p0_true + (v0_true + a/omega)*t_acc[i] - a/omega**2 * np.sin(omega*t_acc[i])\n",
    "    \n",
    "    # generate a noisy GPS measurement for this timestep, i\n",
    "    eta_i = np.random.normal(etabar, etastd) # noise on the GPS\n",
    "    vgps_i = vtrue_i + eta_i[0,0]\n",
    "    pgps_i = ptrue_i + eta_i[1,1]\n",
    "    \n",
    "    # generate an accelerometer reading and position & velocity update\n",
    "    pc_i, vc_i = acc_timestep(i, ba_true, pc_prev, vc_prev, dxhat_i[2,0])\n",
    "    zk = np.array([\n",
    "        [pgps_i - pc_i],\n",
    "        [vgps_i - vc_i]\n",
    "    ])\n",
    "    \n",
    "    # calculate the residual\n",
    "    residual = zk - np.dot(H, xbar_next)\n",
    "#     print(residual)\n",
    "    \n",
    "    # update the state estimate, and covariance\n",
    "    dxhat = xbar_next + np.dot(K, residual)\n",
    "    Pk_new = np.linalg.inv(np.linalg.inv(Mk_next) + np.dot(np.transpose(H), np.dot(np.linalg.inv(etavar), H)))\n",
    "    \n",
    "    return pc_i, ptrue_i, vc_i, vtrue_i, dxhat, Pk_new, K, t_acc[i]\n",
    "\n",
    "def acc_timestep(i, ba_true, pc_prev, vc_prev, b_est):\n",
    "    # Generates the ith timestep computations of position and velocity, pc and vc\n",
    "    # by sampling an accelerometer reading around the true value for this Monte Carlo run\n",
    "    # i: an int representing the time vec to index into the true acceleration vector, a_truth\n",
    "    # ba_true: the true bias (a float) for this MC run to be used in the calculation of the noisy accelerometer reading\n",
    "    # pc_prev: a float representing pc at timestep i-1\n",
    "    # vc_prev: a float representing vc at timestep i-1\n",
    "    \n",
    "    # draw a noise value for the accelerometer\n",
    "    w_t = np.random.normal(w_mean, w_std)\n",
    "    \n",
    "    # gather an accelerometer measurement for this timestep\n",
    "    ac_prev = a_truth[i-1] + ba_true + w_t - b_est\n",
    "    \n",
    "    # integrate the accelerometer measurment by the euler formula\n",
    "    vc_i = vc_prev + ac_prev * dt\n",
    "    pc_i = pc_prev + vc_prev * dt + ac_prev * dt**2/2\n",
    "    \n",
    "    return pc_i, vc_i\n",
    "    "
   ]
  },
  {
   "cell_type": "code",
   "execution_count": 238,
   "metadata": {},
   "outputs": [
    {
     "data": {
      "application/vnd.plotly.v1+json": {
       "config": {
        "plotlyServerURL": "https://plot.ly"
       },
       "data": [
        {
         "name": "Estimated bias",
         "type": "scatter",
         "x": [
          0,
          0.2,
          0.4,
          0.6,
          0.8,
          1,
          1.2,
          1.4000000000000001,
          1.6,
          1.8,
          2,
          2.2,
          2.4,
          2.6,
          2.8000000000000003,
          3,
          3.2,
          3.4,
          3.6,
          3.8000000000000003,
          4,
          4.2,
          4.4,
          4.6000000000000005,
          4.8,
          5,
          5.2,
          5.4,
          5.6000000000000005,
          5.8,
          6,
          6.2,
          6.4,
          6.6000000000000005,
          6.8,
          7,
          7.2,
          7.4,
          7.6000000000000005,
          7.8,
          8,
          8.2,
          8.4,
          8.6,
          8.8,
          9,
          9.200000000000001,
          9.4,
          9.6,
          9.8,
          10,
          10.200000000000001,
          10.4,
          10.6,
          10.8,
          11,
          11.200000000000001,
          11.4,
          11.6,
          11.8,
          12,
          12.200000000000001,
          12.4,
          12.6,
          12.8,
          13,
          13.200000000000001,
          13.4,
          13.6,
          13.8,
          14,
          14.200000000000001,
          14.4,
          14.6,
          14.8,
          15,
          15.200000000000001,
          15.4,
          15.6,
          15.8,
          16,
          16.2,
          16.4,
          16.6,
          16.8,
          17,
          17.2,
          17.400000000000002,
          17.6,
          17.8,
          18,
          18.2,
          18.400000000000002,
          18.6,
          18.8,
          19,
          19.2,
          19.400000000000002,
          19.6,
          19.8,
          20,
          20.2,
          20.400000000000002,
          20.6,
          20.8,
          21,
          21.2,
          21.400000000000002,
          21.6,
          21.8,
          22,
          22.2,
          22.400000000000002,
          22.6,
          22.8,
          23,
          23.2,
          23.400000000000002,
          23.6,
          23.8,
          24,
          24.2,
          24.400000000000002,
          24.6,
          24.8,
          25,
          25.2,
          25.400000000000002,
          25.6,
          25.8,
          26,
          26.2,
          26.400000000000002,
          26.6,
          26.8,
          27,
          27.2,
          27.400000000000002,
          27.6,
          27.8,
          28,
          28.2,
          28.400000000000002,
          28.6,
          28.8,
          29,
          29.2,
          29.400000000000002,
          29.6,
          29.8,
          30
         ],
         "y": [
          0,
          -0.0014857234538904005,
          0.5118658259845701,
          0.8771059967613348,
          -0.11105776694076519,
          -0.490531766905967,
          -0.8135242610617965,
          -1.1576217632774277,
          -0.7335546034447336,
          0.025840152807734107,
          -0.48970122615403877,
          -0.06399245204709453,
          -0.06610337432788997,
          -0.09472385324153212,
          -0.13353697570329737,
          0.13631440767345138,
          0.117976866282028,
          -0.00649379587630769,
          0.0955133621108046,
          -0.001786590447695316,
          -0.0720698838583943,
          -0.04541345956887072,
          -0.03670889339101617,
          -0.01493279013767675,
          0.006006252216408204,
          0.1463943659685159,
          0.1999178411697701,
          0.22040787769515502,
          0.20258871054880143,
          0.24897653710928225,
          0.20059936572517767,
          0.19863759176939863,
          0.18692585715184226,
          0.1163705525158166,
          0.11231445075711181,
          0.10935022860470006,
          0.05934408303744635,
          0.023749724437010226,
          0.005815979216091088,
          0.010796892642482979,
          0.029472691566880753,
          0.0035331676022361085,
          0.01980303359088535,
          0.00751941752655327,
          0.03457546685779696,
          0.02223856056631504,
          0.03482196815805591,
          0.03943909272623704,
          0.009245494731854709,
          -0.027585945287834174,
          -0.0479959002443321,
          -0.03485690770198519,
          -0.04915234831367745,
          -0.06801839479123911,
          -0.0775747283425593,
          -0.07380468564965005,
          -0.08297069517029447,
          -0.09090843318640043,
          -0.07745875598805518,
          -0.06684811588133593,
          -0.0633449937679543,
          -0.04632178238760191,
          -0.049249873265087174,
          -0.04046390202827782,
          -0.051772163386123345,
          -0.053877804229338466,
          -0.048111016021099684,
          -0.04401126200045901,
          -0.04315363256392328,
          -0.03484615575672777,
          -0.0428316114563692,
          -0.061758705073316836,
          -0.06585281912848076,
          -0.051901116254563624,
          -0.042212809501968915,
          -0.054351032042873955,
          -0.05279197065808717,
          -0.04906424779451604,
          -0.041109139641452366,
          -0.03803137391993507,
          -0.03104011903921607,
          -0.034416494507953976,
          -0.03344524991312291,
          -0.03658683317042016,
          -0.044792988687185065,
          -0.041089856591422086,
          -0.04638113163157283,
          -0.05146812278333634,
          -0.05203882271972312,
          -0.05593904036269459,
          -0.06594672649771745,
          -0.07001017815243715,
          -0.06582166525043283,
          -0.07308813957667956,
          -0.06117075015805549,
          -0.07007896414186432,
          -0.07771806923341418,
          -0.06956253640509087,
          -0.08595221460539271,
          -0.08536384945845511,
          -0.08336162861180982,
          -0.08087836336755685,
          -0.07575861181543572,
          -0.06831537218209359,
          -0.067145470433181,
          -0.07675951907936171,
          -0.08499830427929085,
          -0.08126069143456041,
          -0.08123471570452594,
          -0.08181921653311668,
          -0.08130939175424183,
          -0.07445525644268648,
          -0.08108189620151986,
          -0.08680320419729488,
          -0.07777678003329917,
          -0.08428014153368013,
          -0.07569580410086166,
          -0.07600267632995826,
          -0.08059357263516975,
          -0.07261267518409648,
          -0.07901559929733883,
          -0.0763339274348388,
          -0.07922169544975793,
          -0.08562403795339857,
          -0.08156933205189955,
          -0.09066342454246873,
          -0.08573201144097334,
          -0.09193552117943729,
          -0.08693625876021842,
          -0.08354313520173522,
          -0.082366666718371,
          -0.08686864822494189,
          -0.08182357188945703,
          -0.07809869232614398,
          -0.07200261329542297,
          -0.06809590686471902,
          -0.06847123998723059,
          -0.0680162046819729,
          -0.07365139949112753,
          -0.07689381019189596,
          -0.07571732108524849,
          -0.08645269911063844,
          -0.0850778153313075,
          -0.08010776210415646,
          -0.08220334952965294,
          -0.07760608321764664,
          -0.07534150319973573,
          -0.07738757459913191,
          -0.08659601664831473,
          -0.08603056649690212,
          -0.08523640295392733
         ]
        },
        {
         "name": "True bias",
         "type": "scatter",
         "x": [
          0,
          0.2,
          0.4,
          0.6,
          0.8,
          1,
          1.2,
          1.4000000000000001,
          1.6,
          1.8,
          2,
          2.2,
          2.4,
          2.6,
          2.8000000000000003,
          3,
          3.2,
          3.4,
          3.6,
          3.8000000000000003,
          4,
          4.2,
          4.4,
          4.6000000000000005,
          4.8,
          5,
          5.2,
          5.4,
          5.6000000000000005,
          5.8,
          6,
          6.2,
          6.4,
          6.6000000000000005,
          6.8,
          7,
          7.2,
          7.4,
          7.6000000000000005,
          7.8,
          8,
          8.2,
          8.4,
          8.6,
          8.8,
          9,
          9.200000000000001,
          9.4,
          9.6,
          9.8,
          10,
          10.200000000000001,
          10.4,
          10.6,
          10.8,
          11,
          11.200000000000001,
          11.4,
          11.6,
          11.8,
          12,
          12.200000000000001,
          12.4,
          12.6,
          12.8,
          13,
          13.200000000000001,
          13.4,
          13.6,
          13.8,
          14,
          14.200000000000001,
          14.4,
          14.6,
          14.8,
          15,
          15.200000000000001,
          15.4,
          15.6,
          15.8,
          16,
          16.2,
          16.4,
          16.6,
          16.8,
          17,
          17.2,
          17.400000000000002,
          17.6,
          17.8,
          18,
          18.2,
          18.400000000000002,
          18.6,
          18.8,
          19,
          19.2,
          19.400000000000002,
          19.6,
          19.8,
          20,
          20.2,
          20.400000000000002,
          20.6,
          20.8,
          21,
          21.2,
          21.400000000000002,
          21.6,
          21.8,
          22,
          22.2,
          22.400000000000002,
          22.6,
          22.8,
          23,
          23.2,
          23.400000000000002,
          23.6,
          23.8,
          24,
          24.2,
          24.400000000000002,
          24.6,
          24.8,
          25,
          25.2,
          25.400000000000002,
          25.6,
          25.8,
          26,
          26.2,
          26.400000000000002,
          26.6,
          26.8,
          27,
          27.2,
          27.400000000000002,
          27.6,
          27.8,
          28,
          28.2,
          28.400000000000002,
          28.6,
          28.8,
          29,
          29.2,
          29.400000000000002,
          29.6,
          29.8,
          30
         ],
         "y": [
          -0.13326576337245247,
          -0.13326576337245247,
          -0.13326576337245247,
          -0.13326576337245247,
          -0.13326576337245247,
          -0.13326576337245247,
          -0.13326576337245247,
          -0.13326576337245247,
          -0.13326576337245247,
          -0.13326576337245247,
          -0.13326576337245247,
          -0.13326576337245247,
          -0.13326576337245247,
          -0.13326576337245247,
          -0.13326576337245247,
          -0.13326576337245247,
          -0.13326576337245247,
          -0.13326576337245247,
          -0.13326576337245247,
          -0.13326576337245247,
          -0.13326576337245247,
          -0.13326576337245247,
          -0.13326576337245247,
          -0.13326576337245247,
          -0.13326576337245247,
          -0.13326576337245247,
          -0.13326576337245247,
          -0.13326576337245247,
          -0.13326576337245247,
          -0.13326576337245247,
          -0.13326576337245247,
          -0.13326576337245247,
          -0.13326576337245247,
          -0.13326576337245247,
          -0.13326576337245247,
          -0.13326576337245247,
          -0.13326576337245247,
          -0.13326576337245247,
          -0.13326576337245247,
          -0.13326576337245247,
          -0.13326576337245247,
          -0.13326576337245247,
          -0.13326576337245247,
          -0.13326576337245247,
          -0.13326576337245247,
          -0.13326576337245247,
          -0.13326576337245247,
          -0.13326576337245247,
          -0.13326576337245247,
          -0.13326576337245247,
          -0.13326576337245247,
          -0.13326576337245247,
          -0.13326576337245247,
          -0.13326576337245247,
          -0.13326576337245247,
          -0.13326576337245247,
          -0.13326576337245247,
          -0.13326576337245247,
          -0.13326576337245247,
          -0.13326576337245247,
          -0.13326576337245247,
          -0.13326576337245247,
          -0.13326576337245247,
          -0.13326576337245247,
          -0.13326576337245247,
          -0.13326576337245247,
          -0.13326576337245247,
          -0.13326576337245247,
          -0.13326576337245247,
          -0.13326576337245247,
          -0.13326576337245247,
          -0.13326576337245247,
          -0.13326576337245247,
          -0.13326576337245247,
          -0.13326576337245247,
          -0.13326576337245247,
          -0.13326576337245247,
          -0.13326576337245247,
          -0.13326576337245247,
          -0.13326576337245247,
          -0.13326576337245247,
          -0.13326576337245247,
          -0.13326576337245247,
          -0.13326576337245247,
          -0.13326576337245247,
          -0.13326576337245247,
          -0.13326576337245247,
          -0.13326576337245247,
          -0.13326576337245247,
          -0.13326576337245247,
          -0.13326576337245247,
          -0.13326576337245247,
          -0.13326576337245247,
          -0.13326576337245247,
          -0.13326576337245247,
          -0.13326576337245247,
          -0.13326576337245247,
          -0.13326576337245247,
          -0.13326576337245247,
          -0.13326576337245247,
          -0.13326576337245247,
          -0.13326576337245247,
          -0.13326576337245247,
          -0.13326576337245247,
          -0.13326576337245247,
          -0.13326576337245247,
          -0.13326576337245247,
          -0.13326576337245247,
          -0.13326576337245247,
          -0.13326576337245247,
          -0.13326576337245247,
          -0.13326576337245247,
          -0.13326576337245247,
          -0.13326576337245247,
          -0.13326576337245247,
          -0.13326576337245247,
          -0.13326576337245247,
          -0.13326576337245247,
          -0.13326576337245247,
          -0.13326576337245247,
          -0.13326576337245247,
          -0.13326576337245247,
          -0.13326576337245247,
          -0.13326576337245247,
          -0.13326576337245247,
          -0.13326576337245247,
          -0.13326576337245247,
          -0.13326576337245247,
          -0.13326576337245247,
          -0.13326576337245247,
          -0.13326576337245247,
          -0.13326576337245247,
          -0.13326576337245247,
          -0.13326576337245247,
          -0.13326576337245247,
          -0.13326576337245247,
          -0.13326576337245247,
          -0.13326576337245247,
          -0.13326576337245247,
          -0.13326576337245247,
          -0.13326576337245247,
          -0.13326576337245247,
          -0.13326576337245247,
          -0.13326576337245247,
          -0.13326576337245247,
          -0.13326576337245247,
          -0.13326576337245247,
          -0.13326576337245247,
          -0.13326576337245247,
          -0.13326576337245247,
          -0.13326576337245247
         ]
        }
       ],
       "layout": {
        "template": {
         "data": {
          "bar": [
           {
            "error_x": {
             "color": "#2a3f5f"
            },
            "error_y": {
             "color": "#2a3f5f"
            },
            "marker": {
             "line": {
              "color": "#E5ECF6",
              "width": 0.5
             }
            },
            "type": "bar"
           }
          ],
          "barpolar": [
           {
            "marker": {
             "line": {
              "color": "#E5ECF6",
              "width": 0.5
             }
            },
            "type": "barpolar"
           }
          ],
          "carpet": [
           {
            "aaxis": {
             "endlinecolor": "#2a3f5f",
             "gridcolor": "white",
             "linecolor": "white",
             "minorgridcolor": "white",
             "startlinecolor": "#2a3f5f"
            },
            "baxis": {
             "endlinecolor": "#2a3f5f",
             "gridcolor": "white",
             "linecolor": "white",
             "minorgridcolor": "white",
             "startlinecolor": "#2a3f5f"
            },
            "type": "carpet"
           }
          ],
          "choropleth": [
           {
            "colorbar": {
             "outlinewidth": 0,
             "ticks": ""
            },
            "type": "choropleth"
           }
          ],
          "contour": [
           {
            "colorbar": {
             "outlinewidth": 0,
             "ticks": ""
            },
            "colorscale": [
             [
              0,
              "#0d0887"
             ],
             [
              0.1111111111111111,
              "#46039f"
             ],
             [
              0.2222222222222222,
              "#7201a8"
             ],
             [
              0.3333333333333333,
              "#9c179e"
             ],
             [
              0.4444444444444444,
              "#bd3786"
             ],
             [
              0.5555555555555556,
              "#d8576b"
             ],
             [
              0.6666666666666666,
              "#ed7953"
             ],
             [
              0.7777777777777778,
              "#fb9f3a"
             ],
             [
              0.8888888888888888,
              "#fdca26"
             ],
             [
              1,
              "#f0f921"
             ]
            ],
            "type": "contour"
           }
          ],
          "contourcarpet": [
           {
            "colorbar": {
             "outlinewidth": 0,
             "ticks": ""
            },
            "type": "contourcarpet"
           }
          ],
          "heatmap": [
           {
            "colorbar": {
             "outlinewidth": 0,
             "ticks": ""
            },
            "colorscale": [
             [
              0,
              "#0d0887"
             ],
             [
              0.1111111111111111,
              "#46039f"
             ],
             [
              0.2222222222222222,
              "#7201a8"
             ],
             [
              0.3333333333333333,
              "#9c179e"
             ],
             [
              0.4444444444444444,
              "#bd3786"
             ],
             [
              0.5555555555555556,
              "#d8576b"
             ],
             [
              0.6666666666666666,
              "#ed7953"
             ],
             [
              0.7777777777777778,
              "#fb9f3a"
             ],
             [
              0.8888888888888888,
              "#fdca26"
             ],
             [
              1,
              "#f0f921"
             ]
            ],
            "type": "heatmap"
           }
          ],
          "heatmapgl": [
           {
            "colorbar": {
             "outlinewidth": 0,
             "ticks": ""
            },
            "colorscale": [
             [
              0,
              "#0d0887"
             ],
             [
              0.1111111111111111,
              "#46039f"
             ],
             [
              0.2222222222222222,
              "#7201a8"
             ],
             [
              0.3333333333333333,
              "#9c179e"
             ],
             [
              0.4444444444444444,
              "#bd3786"
             ],
             [
              0.5555555555555556,
              "#d8576b"
             ],
             [
              0.6666666666666666,
              "#ed7953"
             ],
             [
              0.7777777777777778,
              "#fb9f3a"
             ],
             [
              0.8888888888888888,
              "#fdca26"
             ],
             [
              1,
              "#f0f921"
             ]
            ],
            "type": "heatmapgl"
           }
          ],
          "histogram": [
           {
            "marker": {
             "colorbar": {
              "outlinewidth": 0,
              "ticks": ""
             }
            },
            "type": "histogram"
           }
          ],
          "histogram2d": [
           {
            "colorbar": {
             "outlinewidth": 0,
             "ticks": ""
            },
            "colorscale": [
             [
              0,
              "#0d0887"
             ],
             [
              0.1111111111111111,
              "#46039f"
             ],
             [
              0.2222222222222222,
              "#7201a8"
             ],
             [
              0.3333333333333333,
              "#9c179e"
             ],
             [
              0.4444444444444444,
              "#bd3786"
             ],
             [
              0.5555555555555556,
              "#d8576b"
             ],
             [
              0.6666666666666666,
              "#ed7953"
             ],
             [
              0.7777777777777778,
              "#fb9f3a"
             ],
             [
              0.8888888888888888,
              "#fdca26"
             ],
             [
              1,
              "#f0f921"
             ]
            ],
            "type": "histogram2d"
           }
          ],
          "histogram2dcontour": [
           {
            "colorbar": {
             "outlinewidth": 0,
             "ticks": ""
            },
            "colorscale": [
             [
              0,
              "#0d0887"
             ],
             [
              0.1111111111111111,
              "#46039f"
             ],
             [
              0.2222222222222222,
              "#7201a8"
             ],
             [
              0.3333333333333333,
              "#9c179e"
             ],
             [
              0.4444444444444444,
              "#bd3786"
             ],
             [
              0.5555555555555556,
              "#d8576b"
             ],
             [
              0.6666666666666666,
              "#ed7953"
             ],
             [
              0.7777777777777778,
              "#fb9f3a"
             ],
             [
              0.8888888888888888,
              "#fdca26"
             ],
             [
              1,
              "#f0f921"
             ]
            ],
            "type": "histogram2dcontour"
           }
          ],
          "mesh3d": [
           {
            "colorbar": {
             "outlinewidth": 0,
             "ticks": ""
            },
            "type": "mesh3d"
           }
          ],
          "parcoords": [
           {
            "line": {
             "colorbar": {
              "outlinewidth": 0,
              "ticks": ""
             }
            },
            "type": "parcoords"
           }
          ],
          "pie": [
           {
            "automargin": true,
            "type": "pie"
           }
          ],
          "scatter": [
           {
            "marker": {
             "colorbar": {
              "outlinewidth": 0,
              "ticks": ""
             }
            },
            "type": "scatter"
           }
          ],
          "scatter3d": [
           {
            "line": {
             "colorbar": {
              "outlinewidth": 0,
              "ticks": ""
             }
            },
            "marker": {
             "colorbar": {
              "outlinewidth": 0,
              "ticks": ""
             }
            },
            "type": "scatter3d"
           }
          ],
          "scattercarpet": [
           {
            "marker": {
             "colorbar": {
              "outlinewidth": 0,
              "ticks": ""
             }
            },
            "type": "scattercarpet"
           }
          ],
          "scattergeo": [
           {
            "marker": {
             "colorbar": {
              "outlinewidth": 0,
              "ticks": ""
             }
            },
            "type": "scattergeo"
           }
          ],
          "scattergl": [
           {
            "marker": {
             "colorbar": {
              "outlinewidth": 0,
              "ticks": ""
             }
            },
            "type": "scattergl"
           }
          ],
          "scattermapbox": [
           {
            "marker": {
             "colorbar": {
              "outlinewidth": 0,
              "ticks": ""
             }
            },
            "type": "scattermapbox"
           }
          ],
          "scatterpolar": [
           {
            "marker": {
             "colorbar": {
              "outlinewidth": 0,
              "ticks": ""
             }
            },
            "type": "scatterpolar"
           }
          ],
          "scatterpolargl": [
           {
            "marker": {
             "colorbar": {
              "outlinewidth": 0,
              "ticks": ""
             }
            },
            "type": "scatterpolargl"
           }
          ],
          "scatterternary": [
           {
            "marker": {
             "colorbar": {
              "outlinewidth": 0,
              "ticks": ""
             }
            },
            "type": "scatterternary"
           }
          ],
          "surface": [
           {
            "colorbar": {
             "outlinewidth": 0,
             "ticks": ""
            },
            "colorscale": [
             [
              0,
              "#0d0887"
             ],
             [
              0.1111111111111111,
              "#46039f"
             ],
             [
              0.2222222222222222,
              "#7201a8"
             ],
             [
              0.3333333333333333,
              "#9c179e"
             ],
             [
              0.4444444444444444,
              "#bd3786"
             ],
             [
              0.5555555555555556,
              "#d8576b"
             ],
             [
              0.6666666666666666,
              "#ed7953"
             ],
             [
              0.7777777777777778,
              "#fb9f3a"
             ],
             [
              0.8888888888888888,
              "#fdca26"
             ],
             [
              1,
              "#f0f921"
             ]
            ],
            "type": "surface"
           }
          ],
          "table": [
           {
            "cells": {
             "fill": {
              "color": "#EBF0F8"
             },
             "line": {
              "color": "white"
             }
            },
            "header": {
             "fill": {
              "color": "#C8D4E3"
             },
             "line": {
              "color": "white"
             }
            },
            "type": "table"
           }
          ]
         },
         "layout": {
          "annotationdefaults": {
           "arrowcolor": "#2a3f5f",
           "arrowhead": 0,
           "arrowwidth": 1
          },
          "coloraxis": {
           "colorbar": {
            "outlinewidth": 0,
            "ticks": ""
           }
          },
          "colorscale": {
           "diverging": [
            [
             0,
             "#8e0152"
            ],
            [
             0.1,
             "#c51b7d"
            ],
            [
             0.2,
             "#de77ae"
            ],
            [
             0.3,
             "#f1b6da"
            ],
            [
             0.4,
             "#fde0ef"
            ],
            [
             0.5,
             "#f7f7f7"
            ],
            [
             0.6,
             "#e6f5d0"
            ],
            [
             0.7,
             "#b8e186"
            ],
            [
             0.8,
             "#7fbc41"
            ],
            [
             0.9,
             "#4d9221"
            ],
            [
             1,
             "#276419"
            ]
           ],
           "sequential": [
            [
             0,
             "#0d0887"
            ],
            [
             0.1111111111111111,
             "#46039f"
            ],
            [
             0.2222222222222222,
             "#7201a8"
            ],
            [
             0.3333333333333333,
             "#9c179e"
            ],
            [
             0.4444444444444444,
             "#bd3786"
            ],
            [
             0.5555555555555556,
             "#d8576b"
            ],
            [
             0.6666666666666666,
             "#ed7953"
            ],
            [
             0.7777777777777778,
             "#fb9f3a"
            ],
            [
             0.8888888888888888,
             "#fdca26"
            ],
            [
             1,
             "#f0f921"
            ]
           ],
           "sequentialminus": [
            [
             0,
             "#0d0887"
            ],
            [
             0.1111111111111111,
             "#46039f"
            ],
            [
             0.2222222222222222,
             "#7201a8"
            ],
            [
             0.3333333333333333,
             "#9c179e"
            ],
            [
             0.4444444444444444,
             "#bd3786"
            ],
            [
             0.5555555555555556,
             "#d8576b"
            ],
            [
             0.6666666666666666,
             "#ed7953"
            ],
            [
             0.7777777777777778,
             "#fb9f3a"
            ],
            [
             0.8888888888888888,
             "#fdca26"
            ],
            [
             1,
             "#f0f921"
            ]
           ]
          },
          "colorway": [
           "#636efa",
           "#EF553B",
           "#00cc96",
           "#ab63fa",
           "#FFA15A",
           "#19d3f3",
           "#FF6692",
           "#B6E880",
           "#FF97FF",
           "#FECB52"
          ],
          "font": {
           "color": "#2a3f5f"
          },
          "geo": {
           "bgcolor": "white",
           "lakecolor": "white",
           "landcolor": "#E5ECF6",
           "showlakes": true,
           "showland": true,
           "subunitcolor": "white"
          },
          "hoverlabel": {
           "align": "left"
          },
          "hovermode": "closest",
          "mapbox": {
           "style": "light"
          },
          "paper_bgcolor": "white",
          "plot_bgcolor": "#E5ECF6",
          "polar": {
           "angularaxis": {
            "gridcolor": "white",
            "linecolor": "white",
            "ticks": ""
           },
           "bgcolor": "#E5ECF6",
           "radialaxis": {
            "gridcolor": "white",
            "linecolor": "white",
            "ticks": ""
           }
          },
          "scene": {
           "xaxis": {
            "backgroundcolor": "#E5ECF6",
            "gridcolor": "white",
            "gridwidth": 2,
            "linecolor": "white",
            "showbackground": true,
            "ticks": "",
            "zerolinecolor": "white"
           },
           "yaxis": {
            "backgroundcolor": "#E5ECF6",
            "gridcolor": "white",
            "gridwidth": 2,
            "linecolor": "white",
            "showbackground": true,
            "ticks": "",
            "zerolinecolor": "white"
           },
           "zaxis": {
            "backgroundcolor": "#E5ECF6",
            "gridcolor": "white",
            "gridwidth": 2,
            "linecolor": "white",
            "showbackground": true,
            "ticks": "",
            "zerolinecolor": "white"
           }
          },
          "shapedefaults": {
           "line": {
            "color": "#2a3f5f"
           }
          },
          "ternary": {
           "aaxis": {
            "gridcolor": "white",
            "linecolor": "white",
            "ticks": ""
           },
           "baxis": {
            "gridcolor": "white",
            "linecolor": "white",
            "ticks": ""
           },
           "bgcolor": "#E5ECF6",
           "caxis": {
            "gridcolor": "white",
            "linecolor": "white",
            "ticks": ""
           }
          },
          "title": {
           "x": 0.05
          },
          "xaxis": {
           "automargin": true,
           "gridcolor": "white",
           "linecolor": "white",
           "ticks": "",
           "title": {
            "standoff": 15
           },
           "zerolinecolor": "white",
           "zerolinewidth": 2
          },
          "yaxis": {
           "automargin": true,
           "gridcolor": "white",
           "linecolor": "white",
           "ticks": "",
           "title": {
            "standoff": 15
           },
           "zerolinecolor": "white",
           "zerolinewidth": 2
          }
         }
        }
       }
      },
      "text/html": [
       "<div>\n",
       "        \n",
       "        \n",
       "            <div id=\"d280bbcd-dbdd-4d63-8595-0eee729f2371\" class=\"plotly-graph-div\" style=\"height:525px; width:100%;\"></div>\n",
       "            <script type=\"text/javascript\">\n",
       "                require([\"plotly\"], function(Plotly) {\n",
       "                    window.PLOTLYENV=window.PLOTLYENV || {};\n",
       "                    \n",
       "                if (document.getElementById(\"d280bbcd-dbdd-4d63-8595-0eee729f2371\")) {\n",
       "                    Plotly.newPlot(\n",
       "                        'd280bbcd-dbdd-4d63-8595-0eee729f2371',\n",
       "                        [{\"name\": \"Estimated bias\", \"type\": \"scatter\", \"x\": [0, 0.2, 0.4, 0.6, 0.8, 1.0, 1.2, 1.4000000000000001, 1.6, 1.8, 2.0, 2.2, 2.4, 2.6, 2.8000000000000003, 3.0, 3.2, 3.4, 3.6, 3.8000000000000003, 4.0, 4.2, 4.4, 4.6000000000000005, 4.8, 5.0, 5.2, 5.4, 5.6000000000000005, 5.8, 6.0, 6.2, 6.4, 6.6000000000000005, 6.8, 7.0, 7.2, 7.4, 7.6000000000000005, 7.8, 8.0, 8.2, 8.4, 8.6, 8.8, 9.0, 9.200000000000001, 9.4, 9.6, 9.8, 10.0, 10.200000000000001, 10.4, 10.6, 10.8, 11.0, 11.200000000000001, 11.4, 11.6, 11.8, 12.0, 12.200000000000001, 12.4, 12.6, 12.8, 13.0, 13.200000000000001, 13.4, 13.6, 13.8, 14.0, 14.200000000000001, 14.4, 14.6, 14.8, 15.0, 15.200000000000001, 15.4, 15.6, 15.8, 16.0, 16.2, 16.4, 16.6, 16.8, 17.0, 17.2, 17.400000000000002, 17.6, 17.8, 18.0, 18.2, 18.400000000000002, 18.6, 18.8, 19.0, 19.2, 19.400000000000002, 19.6, 19.8, 20.0, 20.2, 20.400000000000002, 20.6, 20.8, 21.0, 21.2, 21.400000000000002, 21.6, 21.8, 22.0, 22.2, 22.400000000000002, 22.6, 22.8, 23.0, 23.2, 23.400000000000002, 23.6, 23.8, 24.0, 24.2, 24.400000000000002, 24.6, 24.8, 25.0, 25.2, 25.400000000000002, 25.6, 25.8, 26.0, 26.2, 26.400000000000002, 26.6, 26.8, 27.0, 27.2, 27.400000000000002, 27.6, 27.8, 28.0, 28.2, 28.400000000000002, 28.6, 28.8, 29.0, 29.2, 29.400000000000002, 29.6, 29.8, 30.0], \"y\": [0, -0.0014857234538904005, 0.5118658259845701, 0.8771059967613348, -0.11105776694076519, -0.490531766905967, -0.8135242610617965, -1.1576217632774277, -0.7335546034447336, 0.025840152807734107, -0.48970122615403877, -0.06399245204709453, -0.06610337432788997, -0.09472385324153212, -0.13353697570329737, 0.13631440767345138, 0.117976866282028, -0.00649379587630769, 0.0955133621108046, -0.001786590447695316, -0.0720698838583943, -0.04541345956887072, -0.03670889339101617, -0.01493279013767675, 0.006006252216408204, 0.1463943659685159, 0.1999178411697701, 0.22040787769515502, 0.20258871054880143, 0.24897653710928225, 0.20059936572517767, 0.19863759176939863, 0.18692585715184226, 0.1163705525158166, 0.11231445075711181, 0.10935022860470006, 0.05934408303744635, 0.023749724437010226, 0.005815979216091088, 0.010796892642482979, 0.029472691566880753, 0.0035331676022361085, 0.01980303359088535, 0.00751941752655327, 0.03457546685779696, 0.02223856056631504, 0.03482196815805591, 0.03943909272623704, 0.009245494731854709, -0.027585945287834174, -0.0479959002443321, -0.03485690770198519, -0.04915234831367745, -0.06801839479123911, -0.0775747283425593, -0.07380468564965005, -0.08297069517029447, -0.09090843318640043, -0.07745875598805518, -0.06684811588133593, -0.0633449937679543, -0.04632178238760191, -0.049249873265087174, -0.04046390202827782, -0.051772163386123345, -0.053877804229338466, -0.048111016021099684, -0.04401126200045901, -0.04315363256392328, -0.03484615575672777, -0.0428316114563692, -0.061758705073316836, -0.06585281912848076, -0.051901116254563624, -0.042212809501968915, -0.054351032042873955, -0.05279197065808717, -0.04906424779451604, -0.041109139641452366, -0.03803137391993507, -0.03104011903921607, -0.034416494507953976, -0.03344524991312291, -0.03658683317042016, -0.044792988687185065, -0.041089856591422086, -0.04638113163157283, -0.05146812278333634, -0.05203882271972312, -0.05593904036269459, -0.06594672649771745, -0.07001017815243715, -0.06582166525043283, -0.07308813957667956, -0.06117075015805549, -0.07007896414186432, -0.07771806923341418, -0.06956253640509087, -0.08595221460539271, -0.08536384945845511, -0.08336162861180982, -0.08087836336755685, -0.07575861181543572, -0.06831537218209359, -0.067145470433181, -0.07675951907936171, -0.08499830427929085, -0.08126069143456041, -0.08123471570452594, -0.08181921653311668, -0.08130939175424183, -0.07445525644268648, -0.08108189620151986, -0.08680320419729488, -0.07777678003329917, -0.08428014153368013, -0.07569580410086166, -0.07600267632995826, -0.08059357263516975, -0.07261267518409648, -0.07901559929733883, -0.0763339274348388, -0.07922169544975793, -0.08562403795339857, -0.08156933205189955, -0.09066342454246873, -0.08573201144097334, -0.09193552117943729, -0.08693625876021842, -0.08354313520173522, -0.082366666718371, -0.08686864822494189, -0.08182357188945703, -0.07809869232614398, -0.07200261329542297, -0.06809590686471902, -0.06847123998723059, -0.0680162046819729, -0.07365139949112753, -0.07689381019189596, -0.07571732108524849, -0.08645269911063844, -0.0850778153313075, -0.08010776210415646, -0.08220334952965294, -0.07760608321764664, -0.07534150319973573, -0.07738757459913191, -0.08659601664831473, -0.08603056649690212, -0.08523640295392733]}, {\"name\": \"True bias\", \"type\": \"scatter\", \"x\": [0, 0.2, 0.4, 0.6, 0.8, 1.0, 1.2, 1.4000000000000001, 1.6, 1.8, 2.0, 2.2, 2.4, 2.6, 2.8000000000000003, 3.0, 3.2, 3.4, 3.6, 3.8000000000000003, 4.0, 4.2, 4.4, 4.6000000000000005, 4.8, 5.0, 5.2, 5.4, 5.6000000000000005, 5.8, 6.0, 6.2, 6.4, 6.6000000000000005, 6.8, 7.0, 7.2, 7.4, 7.6000000000000005, 7.8, 8.0, 8.2, 8.4, 8.6, 8.8, 9.0, 9.200000000000001, 9.4, 9.6, 9.8, 10.0, 10.200000000000001, 10.4, 10.6, 10.8, 11.0, 11.200000000000001, 11.4, 11.6, 11.8, 12.0, 12.200000000000001, 12.4, 12.6, 12.8, 13.0, 13.200000000000001, 13.4, 13.6, 13.8, 14.0, 14.200000000000001, 14.4, 14.6, 14.8, 15.0, 15.200000000000001, 15.4, 15.6, 15.8, 16.0, 16.2, 16.4, 16.6, 16.8, 17.0, 17.2, 17.400000000000002, 17.6, 17.8, 18.0, 18.2, 18.400000000000002, 18.6, 18.8, 19.0, 19.2, 19.400000000000002, 19.6, 19.8, 20.0, 20.2, 20.400000000000002, 20.6, 20.8, 21.0, 21.2, 21.400000000000002, 21.6, 21.8, 22.0, 22.2, 22.400000000000002, 22.6, 22.8, 23.0, 23.2, 23.400000000000002, 23.6, 23.8, 24.0, 24.2, 24.400000000000002, 24.6, 24.8, 25.0, 25.2, 25.400000000000002, 25.6, 25.8, 26.0, 26.2, 26.400000000000002, 26.6, 26.8, 27.0, 27.2, 27.400000000000002, 27.6, 27.8, 28.0, 28.2, 28.400000000000002, 28.6, 28.8, 29.0, 29.2, 29.400000000000002, 29.6, 29.8, 30.0], \"y\": [-0.13326576337245247, -0.13326576337245247, -0.13326576337245247, -0.13326576337245247, -0.13326576337245247, -0.13326576337245247, -0.13326576337245247, -0.13326576337245247, -0.13326576337245247, -0.13326576337245247, -0.13326576337245247, -0.13326576337245247, -0.13326576337245247, -0.13326576337245247, -0.13326576337245247, -0.13326576337245247, -0.13326576337245247, -0.13326576337245247, -0.13326576337245247, -0.13326576337245247, -0.13326576337245247, -0.13326576337245247, -0.13326576337245247, -0.13326576337245247, -0.13326576337245247, -0.13326576337245247, -0.13326576337245247, -0.13326576337245247, -0.13326576337245247, -0.13326576337245247, -0.13326576337245247, -0.13326576337245247, -0.13326576337245247, -0.13326576337245247, -0.13326576337245247, -0.13326576337245247, -0.13326576337245247, -0.13326576337245247, -0.13326576337245247, -0.13326576337245247, -0.13326576337245247, -0.13326576337245247, -0.13326576337245247, -0.13326576337245247, -0.13326576337245247, -0.13326576337245247, -0.13326576337245247, -0.13326576337245247, -0.13326576337245247, -0.13326576337245247, -0.13326576337245247, -0.13326576337245247, -0.13326576337245247, -0.13326576337245247, -0.13326576337245247, -0.13326576337245247, -0.13326576337245247, -0.13326576337245247, -0.13326576337245247, -0.13326576337245247, -0.13326576337245247, -0.13326576337245247, -0.13326576337245247, -0.13326576337245247, -0.13326576337245247, -0.13326576337245247, -0.13326576337245247, -0.13326576337245247, -0.13326576337245247, -0.13326576337245247, -0.13326576337245247, -0.13326576337245247, -0.13326576337245247, -0.13326576337245247, -0.13326576337245247, -0.13326576337245247, -0.13326576337245247, -0.13326576337245247, -0.13326576337245247, -0.13326576337245247, -0.13326576337245247, -0.13326576337245247, -0.13326576337245247, -0.13326576337245247, -0.13326576337245247, -0.13326576337245247, -0.13326576337245247, -0.13326576337245247, -0.13326576337245247, -0.13326576337245247, -0.13326576337245247, -0.13326576337245247, -0.13326576337245247, -0.13326576337245247, -0.13326576337245247, -0.13326576337245247, -0.13326576337245247, -0.13326576337245247, -0.13326576337245247, -0.13326576337245247, -0.13326576337245247, -0.13326576337245247, -0.13326576337245247, -0.13326576337245247, -0.13326576337245247, -0.13326576337245247, -0.13326576337245247, -0.13326576337245247, -0.13326576337245247, -0.13326576337245247, -0.13326576337245247, -0.13326576337245247, -0.13326576337245247, -0.13326576337245247, -0.13326576337245247, -0.13326576337245247, -0.13326576337245247, -0.13326576337245247, -0.13326576337245247, -0.13326576337245247, -0.13326576337245247, -0.13326576337245247, -0.13326576337245247, -0.13326576337245247, -0.13326576337245247, -0.13326576337245247, -0.13326576337245247, -0.13326576337245247, -0.13326576337245247, -0.13326576337245247, -0.13326576337245247, -0.13326576337245247, -0.13326576337245247, -0.13326576337245247, -0.13326576337245247, -0.13326576337245247, -0.13326576337245247, -0.13326576337245247, -0.13326576337245247, -0.13326576337245247, -0.13326576337245247, -0.13326576337245247, -0.13326576337245247, -0.13326576337245247, -0.13326576337245247, -0.13326576337245247, -0.13326576337245247, -0.13326576337245247, -0.13326576337245247, -0.13326576337245247, -0.13326576337245247]}],\n",
       "                        {\"template\": {\"data\": {\"bar\": [{\"error_x\": {\"color\": \"#2a3f5f\"}, \"error_y\": {\"color\": \"#2a3f5f\"}, \"marker\": {\"line\": {\"color\": \"#E5ECF6\", \"width\": 0.5}}, \"type\": \"bar\"}], \"barpolar\": [{\"marker\": {\"line\": {\"color\": \"#E5ECF6\", \"width\": 0.5}}, \"type\": \"barpolar\"}], \"carpet\": [{\"aaxis\": {\"endlinecolor\": \"#2a3f5f\", \"gridcolor\": \"white\", \"linecolor\": \"white\", \"minorgridcolor\": \"white\", \"startlinecolor\": \"#2a3f5f\"}, \"baxis\": {\"endlinecolor\": \"#2a3f5f\", \"gridcolor\": \"white\", \"linecolor\": \"white\", \"minorgridcolor\": \"white\", \"startlinecolor\": \"#2a3f5f\"}, \"type\": \"carpet\"}], \"choropleth\": [{\"colorbar\": {\"outlinewidth\": 0, \"ticks\": \"\"}, \"type\": \"choropleth\"}], \"contour\": [{\"colorbar\": {\"outlinewidth\": 0, \"ticks\": \"\"}, \"colorscale\": [[0.0, \"#0d0887\"], [0.1111111111111111, \"#46039f\"], [0.2222222222222222, \"#7201a8\"], [0.3333333333333333, \"#9c179e\"], [0.4444444444444444, \"#bd3786\"], [0.5555555555555556, \"#d8576b\"], [0.6666666666666666, \"#ed7953\"], [0.7777777777777778, \"#fb9f3a\"], [0.8888888888888888, \"#fdca26\"], [1.0, \"#f0f921\"]], \"type\": \"contour\"}], \"contourcarpet\": [{\"colorbar\": {\"outlinewidth\": 0, \"ticks\": \"\"}, \"type\": \"contourcarpet\"}], \"heatmap\": [{\"colorbar\": {\"outlinewidth\": 0, \"ticks\": \"\"}, \"colorscale\": [[0.0, \"#0d0887\"], [0.1111111111111111, \"#46039f\"], [0.2222222222222222, \"#7201a8\"], [0.3333333333333333, \"#9c179e\"], [0.4444444444444444, \"#bd3786\"], [0.5555555555555556, \"#d8576b\"], [0.6666666666666666, \"#ed7953\"], [0.7777777777777778, \"#fb9f3a\"], [0.8888888888888888, \"#fdca26\"], [1.0, \"#f0f921\"]], \"type\": \"heatmap\"}], \"heatmapgl\": [{\"colorbar\": {\"outlinewidth\": 0, \"ticks\": \"\"}, \"colorscale\": [[0.0, \"#0d0887\"], [0.1111111111111111, \"#46039f\"], [0.2222222222222222, \"#7201a8\"], [0.3333333333333333, \"#9c179e\"], [0.4444444444444444, \"#bd3786\"], [0.5555555555555556, \"#d8576b\"], [0.6666666666666666, \"#ed7953\"], [0.7777777777777778, \"#fb9f3a\"], [0.8888888888888888, \"#fdca26\"], [1.0, \"#f0f921\"]], \"type\": \"heatmapgl\"}], \"histogram\": [{\"marker\": {\"colorbar\": {\"outlinewidth\": 0, \"ticks\": \"\"}}, \"type\": \"histogram\"}], \"histogram2d\": [{\"colorbar\": {\"outlinewidth\": 0, \"ticks\": \"\"}, \"colorscale\": [[0.0, \"#0d0887\"], [0.1111111111111111, \"#46039f\"], [0.2222222222222222, \"#7201a8\"], [0.3333333333333333, \"#9c179e\"], [0.4444444444444444, \"#bd3786\"], [0.5555555555555556, \"#d8576b\"], [0.6666666666666666, \"#ed7953\"], [0.7777777777777778, \"#fb9f3a\"], [0.8888888888888888, \"#fdca26\"], [1.0, \"#f0f921\"]], \"type\": \"histogram2d\"}], \"histogram2dcontour\": [{\"colorbar\": {\"outlinewidth\": 0, \"ticks\": \"\"}, \"colorscale\": [[0.0, \"#0d0887\"], [0.1111111111111111, \"#46039f\"], [0.2222222222222222, \"#7201a8\"], [0.3333333333333333, \"#9c179e\"], [0.4444444444444444, \"#bd3786\"], [0.5555555555555556, \"#d8576b\"], [0.6666666666666666, \"#ed7953\"], [0.7777777777777778, \"#fb9f3a\"], [0.8888888888888888, \"#fdca26\"], [1.0, \"#f0f921\"]], \"type\": \"histogram2dcontour\"}], \"mesh3d\": [{\"colorbar\": {\"outlinewidth\": 0, \"ticks\": \"\"}, \"type\": \"mesh3d\"}], \"parcoords\": [{\"line\": {\"colorbar\": {\"outlinewidth\": 0, \"ticks\": \"\"}}, \"type\": \"parcoords\"}], \"pie\": [{\"automargin\": true, \"type\": \"pie\"}], \"scatter\": [{\"marker\": {\"colorbar\": {\"outlinewidth\": 0, \"ticks\": \"\"}}, \"type\": \"scatter\"}], \"scatter3d\": [{\"line\": {\"colorbar\": {\"outlinewidth\": 0, \"ticks\": \"\"}}, \"marker\": {\"colorbar\": {\"outlinewidth\": 0, \"ticks\": \"\"}}, \"type\": \"scatter3d\"}], \"scattercarpet\": [{\"marker\": {\"colorbar\": {\"outlinewidth\": 0, \"ticks\": \"\"}}, \"type\": \"scattercarpet\"}], \"scattergeo\": [{\"marker\": {\"colorbar\": {\"outlinewidth\": 0, \"ticks\": \"\"}}, \"type\": \"scattergeo\"}], \"scattergl\": [{\"marker\": {\"colorbar\": {\"outlinewidth\": 0, \"ticks\": \"\"}}, \"type\": \"scattergl\"}], \"scattermapbox\": [{\"marker\": {\"colorbar\": {\"outlinewidth\": 0, \"ticks\": \"\"}}, \"type\": \"scattermapbox\"}], \"scatterpolar\": [{\"marker\": {\"colorbar\": {\"outlinewidth\": 0, \"ticks\": \"\"}}, \"type\": \"scatterpolar\"}], \"scatterpolargl\": [{\"marker\": {\"colorbar\": {\"outlinewidth\": 0, \"ticks\": \"\"}}, \"type\": \"scatterpolargl\"}], \"scatterternary\": [{\"marker\": {\"colorbar\": {\"outlinewidth\": 0, \"ticks\": \"\"}}, \"type\": \"scatterternary\"}], \"surface\": [{\"colorbar\": {\"outlinewidth\": 0, \"ticks\": \"\"}, \"colorscale\": [[0.0, \"#0d0887\"], [0.1111111111111111, \"#46039f\"], [0.2222222222222222, \"#7201a8\"], [0.3333333333333333, \"#9c179e\"], [0.4444444444444444, \"#bd3786\"], [0.5555555555555556, \"#d8576b\"], [0.6666666666666666, \"#ed7953\"], [0.7777777777777778, \"#fb9f3a\"], [0.8888888888888888, \"#fdca26\"], [1.0, \"#f0f921\"]], \"type\": \"surface\"}], \"table\": [{\"cells\": {\"fill\": {\"color\": \"#EBF0F8\"}, \"line\": {\"color\": \"white\"}}, \"header\": {\"fill\": {\"color\": \"#C8D4E3\"}, \"line\": {\"color\": \"white\"}}, \"type\": \"table\"}]}, \"layout\": {\"annotationdefaults\": {\"arrowcolor\": \"#2a3f5f\", \"arrowhead\": 0, \"arrowwidth\": 1}, \"coloraxis\": {\"colorbar\": {\"outlinewidth\": 0, \"ticks\": \"\"}}, \"colorscale\": {\"diverging\": [[0, \"#8e0152\"], [0.1, \"#c51b7d\"], [0.2, \"#de77ae\"], [0.3, \"#f1b6da\"], [0.4, \"#fde0ef\"], [0.5, \"#f7f7f7\"], [0.6, \"#e6f5d0\"], [0.7, \"#b8e186\"], [0.8, \"#7fbc41\"], [0.9, \"#4d9221\"], [1, \"#276419\"]], \"sequential\": [[0.0, \"#0d0887\"], [0.1111111111111111, \"#46039f\"], [0.2222222222222222, \"#7201a8\"], [0.3333333333333333, \"#9c179e\"], [0.4444444444444444, \"#bd3786\"], [0.5555555555555556, \"#d8576b\"], [0.6666666666666666, \"#ed7953\"], [0.7777777777777778, \"#fb9f3a\"], [0.8888888888888888, \"#fdca26\"], [1.0, \"#f0f921\"]], \"sequentialminus\": [[0.0, \"#0d0887\"], [0.1111111111111111, \"#46039f\"], [0.2222222222222222, \"#7201a8\"], [0.3333333333333333, \"#9c179e\"], [0.4444444444444444, \"#bd3786\"], [0.5555555555555556, \"#d8576b\"], [0.6666666666666666, \"#ed7953\"], [0.7777777777777778, \"#fb9f3a\"], [0.8888888888888888, \"#fdca26\"], [1.0, \"#f0f921\"]]}, \"colorway\": [\"#636efa\", \"#EF553B\", \"#00cc96\", \"#ab63fa\", \"#FFA15A\", \"#19d3f3\", \"#FF6692\", \"#B6E880\", \"#FF97FF\", \"#FECB52\"], \"font\": {\"color\": \"#2a3f5f\"}, \"geo\": {\"bgcolor\": \"white\", \"lakecolor\": \"white\", \"landcolor\": \"#E5ECF6\", \"showlakes\": true, \"showland\": true, \"subunitcolor\": \"white\"}, \"hoverlabel\": {\"align\": \"left\"}, \"hovermode\": \"closest\", \"mapbox\": {\"style\": \"light\"}, \"paper_bgcolor\": \"white\", \"plot_bgcolor\": \"#E5ECF6\", \"polar\": {\"angularaxis\": {\"gridcolor\": \"white\", \"linecolor\": \"white\", \"ticks\": \"\"}, \"bgcolor\": \"#E5ECF6\", \"radialaxis\": {\"gridcolor\": \"white\", \"linecolor\": \"white\", \"ticks\": \"\"}}, \"scene\": {\"xaxis\": {\"backgroundcolor\": \"#E5ECF6\", \"gridcolor\": \"white\", \"gridwidth\": 2, \"linecolor\": \"white\", \"showbackground\": true, \"ticks\": \"\", \"zerolinecolor\": \"white\"}, \"yaxis\": {\"backgroundcolor\": \"#E5ECF6\", \"gridcolor\": \"white\", \"gridwidth\": 2, \"linecolor\": \"white\", \"showbackground\": true, \"ticks\": \"\", \"zerolinecolor\": \"white\"}, \"zaxis\": {\"backgroundcolor\": \"#E5ECF6\", \"gridcolor\": \"white\", \"gridwidth\": 2, \"linecolor\": \"white\", \"showbackground\": true, \"ticks\": \"\", \"zerolinecolor\": \"white\"}}, \"shapedefaults\": {\"line\": {\"color\": \"#2a3f5f\"}}, \"ternary\": {\"aaxis\": {\"gridcolor\": \"white\", \"linecolor\": \"white\", \"ticks\": \"\"}, \"baxis\": {\"gridcolor\": \"white\", \"linecolor\": \"white\", \"ticks\": \"\"}, \"bgcolor\": \"#E5ECF6\", \"caxis\": {\"gridcolor\": \"white\", \"linecolor\": \"white\", \"ticks\": \"\"}}, \"title\": {\"x\": 0.05}, \"xaxis\": {\"automargin\": true, \"gridcolor\": \"white\", \"linecolor\": \"white\", \"ticks\": \"\", \"title\": {\"standoff\": 15}, \"zerolinecolor\": \"white\", \"zerolinewidth\": 2}, \"yaxis\": {\"automargin\": true, \"gridcolor\": \"white\", \"linecolor\": \"white\", \"ticks\": \"\", \"title\": {\"standoff\": 15}, \"zerolinecolor\": \"white\", \"zerolinewidth\": 2}}}},\n",
       "                        {\"responsive\": true}\n",
       "                    ).then(function(){\n",
       "                            \n",
       "var gd = document.getElementById('d280bbcd-dbdd-4d63-8595-0eee729f2371');\n",
       "var x = new MutationObserver(function (mutations, observer) {{\n",
       "        var display = window.getComputedStyle(gd).display;\n",
       "        if (!display || display === 'none') {{\n",
       "            console.log([gd, 'removed!']);\n",
       "            Plotly.purge(gd);\n",
       "            observer.disconnect();\n",
       "        }}\n",
       "}});\n",
       "\n",
       "// Listen for the removal of the full notebook cells\n",
       "var notebookContainer = gd.closest('#notebook-container');\n",
       "if (notebookContainer) {{\n",
       "    x.observe(notebookContainer, {childList: true});\n",
       "}}\n",
       "\n",
       "// Listen for the clearing of the current output cell\n",
       "var outputEl = gd.closest('.output');\n",
       "if (outputEl) {{\n",
       "    x.observe(outputEl, {childList: true});\n",
       "}}\n",
       "\n",
       "                        })\n",
       "                };\n",
       "                });\n",
       "            </script>\n",
       "        </div>"
      ]
     },
     "metadata": {},
     "output_type": "display_data"
    },
    {
     "data": {
      "application/vnd.plotly.v1+json": {
       "config": {
        "plotlyServerURL": "https://plot.ly"
       },
       "data": [
        {
         "name": "Delta Position",
         "type": "scatter",
         "x": [
          0,
          0.2,
          0.4,
          0.6,
          0.8,
          1,
          1.2,
          1.4000000000000001,
          1.6,
          1.8,
          2,
          2.2,
          2.4,
          2.6,
          2.8000000000000003,
          3,
          3.2,
          3.4,
          3.6,
          3.8000000000000003,
          4,
          4.2,
          4.4,
          4.6000000000000005,
          4.8,
          5,
          5.2,
          5.4,
          5.6000000000000005,
          5.8,
          6,
          6.2,
          6.4,
          6.6000000000000005,
          6.8,
          7,
          7.2,
          7.4,
          7.6000000000000005,
          7.8,
          8,
          8.2,
          8.4,
          8.6,
          8.8,
          9,
          9.200000000000001,
          9.4,
          9.6,
          9.8,
          10,
          10.200000000000001,
          10.4,
          10.6,
          10.8,
          11,
          11.200000000000001,
          11.4,
          11.6,
          11.8,
          12,
          12.200000000000001,
          12.4,
          12.6,
          12.8,
          13,
          13.200000000000001,
          13.4,
          13.6,
          13.8,
          14,
          14.200000000000001,
          14.4,
          14.6,
          14.8,
          15,
          15.200000000000001,
          15.4,
          15.6,
          15.8,
          16,
          16.2,
          16.4,
          16.6,
          16.8,
          17,
          17.2,
          17.400000000000002,
          17.6,
          17.8,
          18,
          18.2,
          18.400000000000002,
          18.6,
          18.8,
          19,
          19.2,
          19.400000000000002,
          19.6,
          19.8,
          20,
          20.2,
          20.400000000000002,
          20.6,
          20.8,
          21,
          21.2,
          21.400000000000002,
          21.6,
          21.8,
          22,
          22.2,
          22.400000000000002,
          22.6,
          22.8,
          23,
          23.2,
          23.400000000000002,
          23.6,
          23.8,
          24,
          24.2,
          24.400000000000002,
          24.6,
          24.8,
          25,
          25.2,
          25.400000000000002,
          25.6,
          25.8,
          26,
          26.2,
          26.400000000000002,
          26.6,
          26.8,
          27,
          27.2,
          27.400000000000002,
          27.6,
          27.8,
          28,
          28.2,
          28.400000000000002,
          28.6,
          28.8,
          29,
          29.2,
          29.400000000000002,
          29.6,
          29.8,
          30
         ],
         "y": [
          0,
          -6.002657105375942,
          -6.047056204592922,
          -6.101560122638953,
          -6.0201968036095295,
          -5.918405295418457,
          -5.760104751945943,
          -5.508023733664755,
          -5.450384230077829,
          -5.6449982804115155,
          -5.291814963801921,
          -5.446223226089642,
          -5.38829339201456,
          -5.3023416265976415,
          -5.190853250905041,
          -5.473490584956399,
          -5.44907676233935,
          -5.236578618715217,
          -5.390537711965985,
          -5.179376240477917,
          -4.9756594671696766,
          -4.973935718999457,
          -4.935520832226861,
          -4.943422806049946,
          -4.962603077436857,
          -5.431375059774391,
          -5.675974397636352,
          -5.830931328088259,
          -5.832074834954931,
          -6.132280039444987,
          -5.992787399180546,
          -6.061585115982989,
          -6.074036303954775,
          -5.716355859228983,
          -5.709337270215626,
          -5.704135724339151,
          -5.3604177036050045,
          -5.063368943404648,
          -4.857222114493891,
          -4.8138854504216,
          -4.895409645181577,
          -4.600686194790013,
          -4.657579785538731,
          -4.463010750188522,
          -4.640260753116504,
          -4.448581852169815,
          -4.5024167468644,
          -4.487629637963386,
          -4.075920153341499,
          -3.53542087809684,
          -3.1328188053446393,
          -3.118566568435471,
          -2.762981478850346,
          -2.3192701165573752,
          -1.9661208806972317,
          -1.7810698153135536,
          -1.4116814569177591,
          -1.0387396607186996,
          -0.9784076749052656,
          -0.8956281394073244,
          -0.7167407551906857,
          -0.7681561772644403,
          -0.5105644708926071,
          -0.4495677445833567,
          -0.047443148688956105,
          0.21561291596410959,
          0.3395914508754599,
          0.48439552398013996,
          0.6848513788163194,
          0.7382271495720802,
          1.1045333987447727,
          1.7195799607666054,
          2.0719133717750706,
          2.0490653027486396,
          2.0875643170858247,
          2.5904563317566307,
          2.8173577450031964,
          2.991552852051652,
          3.058487430086249,
          3.222958479309432,
          3.28736013537279,
          3.589980850871777,
          3.7953733794017297,
          4.105567060915321,
          4.559533137362211,
          4.724945359449439,
          5.12396632736469,
          5.53611212664472,
          5.842276496755286,
          6.246408655184816,
          6.839207171657496,
          7.2953645629739565,
          7.525271170046922,
          8.08497430970498,
          8.093805367755133,
          8.700547184854372,
          9.301336285689668,
          9.437001044204527,
          10.325540671424303,
          10.728841391750063,
          11.08735143024841,
          11.425436002036992,
          11.668992005578707,
          11.818144344378164,
          12.157598065416204,
          12.868909289032278,
          13.57074266029296,
          13.881781265315357,
          14.31520432522476,
          14.773286862900763,
          15.196730006676965,
          15.385160526297557,
          16.0544041346194,
          16.718525774827008,
          16.844488317211187,
          17.536622494888135,
          17.668926679583752,
          18.119440832178668,
          18.744890628399023,
          18.8858742832982,
          19.580583343365003,
          19.932511644326162,
          20.50718591109319,
          21.24453532937202,
          21.570488201353733,
          22.443666796260118,
          22.754984776747857,
          23.53216394626355,
          23.846939783081915,
          24.21351740067152,
          24.665536984171798,
          25.371541091317248,
          25.666359094654194,
          26.00079656058045,
          26.20971577363139,
          26.494000338757115,
          26.96473158100785,
          27.39970495508162,
          28.127705757499776,
          28.771671590894243,
          29.218448298188832,
          30.249133133838082,
          30.735635175693712,
          31.038124888419677,
          31.675132834917576,
          31.984773677242444,
          32.39166828539205,
          33.01270679421708,
          34.02065041596426,
          34.56774775865489,
          35.1022547326744
         ]
        }
       ],
       "layout": {
        "template": {
         "data": {
          "bar": [
           {
            "error_x": {
             "color": "#2a3f5f"
            },
            "error_y": {
             "color": "#2a3f5f"
            },
            "marker": {
             "line": {
              "color": "#E5ECF6",
              "width": 0.5
             }
            },
            "type": "bar"
           }
          ],
          "barpolar": [
           {
            "marker": {
             "line": {
              "color": "#E5ECF6",
              "width": 0.5
             }
            },
            "type": "barpolar"
           }
          ],
          "carpet": [
           {
            "aaxis": {
             "endlinecolor": "#2a3f5f",
             "gridcolor": "white",
             "linecolor": "white",
             "minorgridcolor": "white",
             "startlinecolor": "#2a3f5f"
            },
            "baxis": {
             "endlinecolor": "#2a3f5f",
             "gridcolor": "white",
             "linecolor": "white",
             "minorgridcolor": "white",
             "startlinecolor": "#2a3f5f"
            },
            "type": "carpet"
           }
          ],
          "choropleth": [
           {
            "colorbar": {
             "outlinewidth": 0,
             "ticks": ""
            },
            "type": "choropleth"
           }
          ],
          "contour": [
           {
            "colorbar": {
             "outlinewidth": 0,
             "ticks": ""
            },
            "colorscale": [
             [
              0,
              "#0d0887"
             ],
             [
              0.1111111111111111,
              "#46039f"
             ],
             [
              0.2222222222222222,
              "#7201a8"
             ],
             [
              0.3333333333333333,
              "#9c179e"
             ],
             [
              0.4444444444444444,
              "#bd3786"
             ],
             [
              0.5555555555555556,
              "#d8576b"
             ],
             [
              0.6666666666666666,
              "#ed7953"
             ],
             [
              0.7777777777777778,
              "#fb9f3a"
             ],
             [
              0.8888888888888888,
              "#fdca26"
             ],
             [
              1,
              "#f0f921"
             ]
            ],
            "type": "contour"
           }
          ],
          "contourcarpet": [
           {
            "colorbar": {
             "outlinewidth": 0,
             "ticks": ""
            },
            "type": "contourcarpet"
           }
          ],
          "heatmap": [
           {
            "colorbar": {
             "outlinewidth": 0,
             "ticks": ""
            },
            "colorscale": [
             [
              0,
              "#0d0887"
             ],
             [
              0.1111111111111111,
              "#46039f"
             ],
             [
              0.2222222222222222,
              "#7201a8"
             ],
             [
              0.3333333333333333,
              "#9c179e"
             ],
             [
              0.4444444444444444,
              "#bd3786"
             ],
             [
              0.5555555555555556,
              "#d8576b"
             ],
             [
              0.6666666666666666,
              "#ed7953"
             ],
             [
              0.7777777777777778,
              "#fb9f3a"
             ],
             [
              0.8888888888888888,
              "#fdca26"
             ],
             [
              1,
              "#f0f921"
             ]
            ],
            "type": "heatmap"
           }
          ],
          "heatmapgl": [
           {
            "colorbar": {
             "outlinewidth": 0,
             "ticks": ""
            },
            "colorscale": [
             [
              0,
              "#0d0887"
             ],
             [
              0.1111111111111111,
              "#46039f"
             ],
             [
              0.2222222222222222,
              "#7201a8"
             ],
             [
              0.3333333333333333,
              "#9c179e"
             ],
             [
              0.4444444444444444,
              "#bd3786"
             ],
             [
              0.5555555555555556,
              "#d8576b"
             ],
             [
              0.6666666666666666,
              "#ed7953"
             ],
             [
              0.7777777777777778,
              "#fb9f3a"
             ],
             [
              0.8888888888888888,
              "#fdca26"
             ],
             [
              1,
              "#f0f921"
             ]
            ],
            "type": "heatmapgl"
           }
          ],
          "histogram": [
           {
            "marker": {
             "colorbar": {
              "outlinewidth": 0,
              "ticks": ""
             }
            },
            "type": "histogram"
           }
          ],
          "histogram2d": [
           {
            "colorbar": {
             "outlinewidth": 0,
             "ticks": ""
            },
            "colorscale": [
             [
              0,
              "#0d0887"
             ],
             [
              0.1111111111111111,
              "#46039f"
             ],
             [
              0.2222222222222222,
              "#7201a8"
             ],
             [
              0.3333333333333333,
              "#9c179e"
             ],
             [
              0.4444444444444444,
              "#bd3786"
             ],
             [
              0.5555555555555556,
              "#d8576b"
             ],
             [
              0.6666666666666666,
              "#ed7953"
             ],
             [
              0.7777777777777778,
              "#fb9f3a"
             ],
             [
              0.8888888888888888,
              "#fdca26"
             ],
             [
              1,
              "#f0f921"
             ]
            ],
            "type": "histogram2d"
           }
          ],
          "histogram2dcontour": [
           {
            "colorbar": {
             "outlinewidth": 0,
             "ticks": ""
            },
            "colorscale": [
             [
              0,
              "#0d0887"
             ],
             [
              0.1111111111111111,
              "#46039f"
             ],
             [
              0.2222222222222222,
              "#7201a8"
             ],
             [
              0.3333333333333333,
              "#9c179e"
             ],
             [
              0.4444444444444444,
              "#bd3786"
             ],
             [
              0.5555555555555556,
              "#d8576b"
             ],
             [
              0.6666666666666666,
              "#ed7953"
             ],
             [
              0.7777777777777778,
              "#fb9f3a"
             ],
             [
              0.8888888888888888,
              "#fdca26"
             ],
             [
              1,
              "#f0f921"
             ]
            ],
            "type": "histogram2dcontour"
           }
          ],
          "mesh3d": [
           {
            "colorbar": {
             "outlinewidth": 0,
             "ticks": ""
            },
            "type": "mesh3d"
           }
          ],
          "parcoords": [
           {
            "line": {
             "colorbar": {
              "outlinewidth": 0,
              "ticks": ""
             }
            },
            "type": "parcoords"
           }
          ],
          "pie": [
           {
            "automargin": true,
            "type": "pie"
           }
          ],
          "scatter": [
           {
            "marker": {
             "colorbar": {
              "outlinewidth": 0,
              "ticks": ""
             }
            },
            "type": "scatter"
           }
          ],
          "scatter3d": [
           {
            "line": {
             "colorbar": {
              "outlinewidth": 0,
              "ticks": ""
             }
            },
            "marker": {
             "colorbar": {
              "outlinewidth": 0,
              "ticks": ""
             }
            },
            "type": "scatter3d"
           }
          ],
          "scattercarpet": [
           {
            "marker": {
             "colorbar": {
              "outlinewidth": 0,
              "ticks": ""
             }
            },
            "type": "scattercarpet"
           }
          ],
          "scattergeo": [
           {
            "marker": {
             "colorbar": {
              "outlinewidth": 0,
              "ticks": ""
             }
            },
            "type": "scattergeo"
           }
          ],
          "scattergl": [
           {
            "marker": {
             "colorbar": {
              "outlinewidth": 0,
              "ticks": ""
             }
            },
            "type": "scattergl"
           }
          ],
          "scattermapbox": [
           {
            "marker": {
             "colorbar": {
              "outlinewidth": 0,
              "ticks": ""
             }
            },
            "type": "scattermapbox"
           }
          ],
          "scatterpolar": [
           {
            "marker": {
             "colorbar": {
              "outlinewidth": 0,
              "ticks": ""
             }
            },
            "type": "scatterpolar"
           }
          ],
          "scatterpolargl": [
           {
            "marker": {
             "colorbar": {
              "outlinewidth": 0,
              "ticks": ""
             }
            },
            "type": "scatterpolargl"
           }
          ],
          "scatterternary": [
           {
            "marker": {
             "colorbar": {
              "outlinewidth": 0,
              "ticks": ""
             }
            },
            "type": "scatterternary"
           }
          ],
          "surface": [
           {
            "colorbar": {
             "outlinewidth": 0,
             "ticks": ""
            },
            "colorscale": [
             [
              0,
              "#0d0887"
             ],
             [
              0.1111111111111111,
              "#46039f"
             ],
             [
              0.2222222222222222,
              "#7201a8"
             ],
             [
              0.3333333333333333,
              "#9c179e"
             ],
             [
              0.4444444444444444,
              "#bd3786"
             ],
             [
              0.5555555555555556,
              "#d8576b"
             ],
             [
              0.6666666666666666,
              "#ed7953"
             ],
             [
              0.7777777777777778,
              "#fb9f3a"
             ],
             [
              0.8888888888888888,
              "#fdca26"
             ],
             [
              1,
              "#f0f921"
             ]
            ],
            "type": "surface"
           }
          ],
          "table": [
           {
            "cells": {
             "fill": {
              "color": "#EBF0F8"
             },
             "line": {
              "color": "white"
             }
            },
            "header": {
             "fill": {
              "color": "#C8D4E3"
             },
             "line": {
              "color": "white"
             }
            },
            "type": "table"
           }
          ]
         },
         "layout": {
          "annotationdefaults": {
           "arrowcolor": "#2a3f5f",
           "arrowhead": 0,
           "arrowwidth": 1
          },
          "coloraxis": {
           "colorbar": {
            "outlinewidth": 0,
            "ticks": ""
           }
          },
          "colorscale": {
           "diverging": [
            [
             0,
             "#8e0152"
            ],
            [
             0.1,
             "#c51b7d"
            ],
            [
             0.2,
             "#de77ae"
            ],
            [
             0.3,
             "#f1b6da"
            ],
            [
             0.4,
             "#fde0ef"
            ],
            [
             0.5,
             "#f7f7f7"
            ],
            [
             0.6,
             "#e6f5d0"
            ],
            [
             0.7,
             "#b8e186"
            ],
            [
             0.8,
             "#7fbc41"
            ],
            [
             0.9,
             "#4d9221"
            ],
            [
             1,
             "#276419"
            ]
           ],
           "sequential": [
            [
             0,
             "#0d0887"
            ],
            [
             0.1111111111111111,
             "#46039f"
            ],
            [
             0.2222222222222222,
             "#7201a8"
            ],
            [
             0.3333333333333333,
             "#9c179e"
            ],
            [
             0.4444444444444444,
             "#bd3786"
            ],
            [
             0.5555555555555556,
             "#d8576b"
            ],
            [
             0.6666666666666666,
             "#ed7953"
            ],
            [
             0.7777777777777778,
             "#fb9f3a"
            ],
            [
             0.8888888888888888,
             "#fdca26"
            ],
            [
             1,
             "#f0f921"
            ]
           ],
           "sequentialminus": [
            [
             0,
             "#0d0887"
            ],
            [
             0.1111111111111111,
             "#46039f"
            ],
            [
             0.2222222222222222,
             "#7201a8"
            ],
            [
             0.3333333333333333,
             "#9c179e"
            ],
            [
             0.4444444444444444,
             "#bd3786"
            ],
            [
             0.5555555555555556,
             "#d8576b"
            ],
            [
             0.6666666666666666,
             "#ed7953"
            ],
            [
             0.7777777777777778,
             "#fb9f3a"
            ],
            [
             0.8888888888888888,
             "#fdca26"
            ],
            [
             1,
             "#f0f921"
            ]
           ]
          },
          "colorway": [
           "#636efa",
           "#EF553B",
           "#00cc96",
           "#ab63fa",
           "#FFA15A",
           "#19d3f3",
           "#FF6692",
           "#B6E880",
           "#FF97FF",
           "#FECB52"
          ],
          "font": {
           "color": "#2a3f5f"
          },
          "geo": {
           "bgcolor": "white",
           "lakecolor": "white",
           "landcolor": "#E5ECF6",
           "showlakes": true,
           "showland": true,
           "subunitcolor": "white"
          },
          "hoverlabel": {
           "align": "left"
          },
          "hovermode": "closest",
          "mapbox": {
           "style": "light"
          },
          "paper_bgcolor": "white",
          "plot_bgcolor": "#E5ECF6",
          "polar": {
           "angularaxis": {
            "gridcolor": "white",
            "linecolor": "white",
            "ticks": ""
           },
           "bgcolor": "#E5ECF6",
           "radialaxis": {
            "gridcolor": "white",
            "linecolor": "white",
            "ticks": ""
           }
          },
          "scene": {
           "xaxis": {
            "backgroundcolor": "#E5ECF6",
            "gridcolor": "white",
            "gridwidth": 2,
            "linecolor": "white",
            "showbackground": true,
            "ticks": "",
            "zerolinecolor": "white"
           },
           "yaxis": {
            "backgroundcolor": "#E5ECF6",
            "gridcolor": "white",
            "gridwidth": 2,
            "linecolor": "white",
            "showbackground": true,
            "ticks": "",
            "zerolinecolor": "white"
           },
           "zaxis": {
            "backgroundcolor": "#E5ECF6",
            "gridcolor": "white",
            "gridwidth": 2,
            "linecolor": "white",
            "showbackground": true,
            "ticks": "",
            "zerolinecolor": "white"
           }
          },
          "shapedefaults": {
           "line": {
            "color": "#2a3f5f"
           }
          },
          "ternary": {
           "aaxis": {
            "gridcolor": "white",
            "linecolor": "white",
            "ticks": ""
           },
           "baxis": {
            "gridcolor": "white",
            "linecolor": "white",
            "ticks": ""
           },
           "bgcolor": "#E5ECF6",
           "caxis": {
            "gridcolor": "white",
            "linecolor": "white",
            "ticks": ""
           }
          },
          "title": {
           "x": 0.05
          },
          "xaxis": {
           "automargin": true,
           "gridcolor": "white",
           "linecolor": "white",
           "ticks": "",
           "title": {
            "standoff": 15
           },
           "zerolinecolor": "white",
           "zerolinewidth": 2
          },
          "yaxis": {
           "automargin": true,
           "gridcolor": "white",
           "linecolor": "white",
           "ticks": "",
           "title": {
            "standoff": 15
           },
           "zerolinecolor": "white",
           "zerolinewidth": 2
          }
         }
        }
       }
      },
      "text/html": [
       "<div>\n",
       "        \n",
       "        \n",
       "            <div id=\"47bb40ef-e90f-4b8c-a0c3-d3c72e13122a\" class=\"plotly-graph-div\" style=\"height:525px; width:100%;\"></div>\n",
       "            <script type=\"text/javascript\">\n",
       "                require([\"plotly\"], function(Plotly) {\n",
       "                    window.PLOTLYENV=window.PLOTLYENV || {};\n",
       "                    \n",
       "                if (document.getElementById(\"47bb40ef-e90f-4b8c-a0c3-d3c72e13122a\")) {\n",
       "                    Plotly.newPlot(\n",
       "                        '47bb40ef-e90f-4b8c-a0c3-d3c72e13122a',\n",
       "                        [{\"name\": \"Delta Position\", \"type\": \"scatter\", \"x\": [0, 0.2, 0.4, 0.6, 0.8, 1.0, 1.2, 1.4000000000000001, 1.6, 1.8, 2.0, 2.2, 2.4, 2.6, 2.8000000000000003, 3.0, 3.2, 3.4, 3.6, 3.8000000000000003, 4.0, 4.2, 4.4, 4.6000000000000005, 4.8, 5.0, 5.2, 5.4, 5.6000000000000005, 5.8, 6.0, 6.2, 6.4, 6.6000000000000005, 6.8, 7.0, 7.2, 7.4, 7.6000000000000005, 7.8, 8.0, 8.2, 8.4, 8.6, 8.8, 9.0, 9.200000000000001, 9.4, 9.6, 9.8, 10.0, 10.200000000000001, 10.4, 10.6, 10.8, 11.0, 11.200000000000001, 11.4, 11.6, 11.8, 12.0, 12.200000000000001, 12.4, 12.6, 12.8, 13.0, 13.200000000000001, 13.4, 13.6, 13.8, 14.0, 14.200000000000001, 14.4, 14.6, 14.8, 15.0, 15.200000000000001, 15.4, 15.6, 15.8, 16.0, 16.2, 16.4, 16.6, 16.8, 17.0, 17.2, 17.400000000000002, 17.6, 17.8, 18.0, 18.2, 18.400000000000002, 18.6, 18.8, 19.0, 19.2, 19.400000000000002, 19.6, 19.8, 20.0, 20.2, 20.400000000000002, 20.6, 20.8, 21.0, 21.2, 21.400000000000002, 21.6, 21.8, 22.0, 22.2, 22.400000000000002, 22.6, 22.8, 23.0, 23.2, 23.400000000000002, 23.6, 23.8, 24.0, 24.2, 24.400000000000002, 24.6, 24.8, 25.0, 25.2, 25.400000000000002, 25.6, 25.8, 26.0, 26.2, 26.400000000000002, 26.6, 26.8, 27.0, 27.2, 27.400000000000002, 27.6, 27.8, 28.0, 28.2, 28.400000000000002, 28.6, 28.8, 29.0, 29.2, 29.400000000000002, 29.6, 29.8, 30.0], \"y\": [0, -6.002657105375942, -6.047056204592922, -6.101560122638953, -6.0201968036095295, -5.918405295418457, -5.760104751945943, -5.508023733664755, -5.450384230077829, -5.6449982804115155, -5.291814963801921, -5.446223226089642, -5.38829339201456, -5.3023416265976415, -5.190853250905041, -5.473490584956399, -5.44907676233935, -5.236578618715217, -5.390537711965985, -5.179376240477917, -4.9756594671696766, -4.973935718999457, -4.935520832226861, -4.943422806049946, -4.962603077436857, -5.431375059774391, -5.675974397636352, -5.830931328088259, -5.832074834954931, -6.132280039444987, -5.992787399180546, -6.061585115982989, -6.074036303954775, -5.716355859228983, -5.709337270215626, -5.704135724339151, -5.3604177036050045, -5.063368943404648, -4.857222114493891, -4.8138854504216, -4.895409645181577, -4.600686194790013, -4.657579785538731, -4.463010750188522, -4.640260753116504, -4.448581852169815, -4.5024167468644, -4.487629637963386, -4.075920153341499, -3.53542087809684, -3.1328188053446393, -3.118566568435471, -2.762981478850346, -2.3192701165573752, -1.9661208806972317, -1.7810698153135536, -1.4116814569177591, -1.0387396607186996, -0.9784076749052656, -0.8956281394073244, -0.7167407551906857, -0.7681561772644403, -0.5105644708926071, -0.4495677445833567, -0.047443148688956105, 0.21561291596410959, 0.3395914508754599, 0.48439552398013996, 0.6848513788163194, 0.7382271495720802, 1.1045333987447727, 1.7195799607666054, 2.0719133717750706, 2.0490653027486396, 2.0875643170858247, 2.5904563317566307, 2.8173577450031964, 2.991552852051652, 3.058487430086249, 3.222958479309432, 3.28736013537279, 3.589980850871777, 3.7953733794017297, 4.105567060915321, 4.559533137362211, 4.724945359449439, 5.12396632736469, 5.53611212664472, 5.842276496755286, 6.246408655184816, 6.839207171657496, 7.2953645629739565, 7.525271170046922, 8.08497430970498, 8.093805367755133, 8.700547184854372, 9.301336285689668, 9.437001044204527, 10.325540671424303, 10.728841391750063, 11.08735143024841, 11.425436002036992, 11.668992005578707, 11.818144344378164, 12.157598065416204, 12.868909289032278, 13.57074266029296, 13.881781265315357, 14.31520432522476, 14.773286862900763, 15.196730006676965, 15.385160526297557, 16.0544041346194, 16.718525774827008, 16.844488317211187, 17.536622494888135, 17.668926679583752, 18.119440832178668, 18.744890628399023, 18.8858742832982, 19.580583343365003, 19.932511644326162, 20.50718591109319, 21.24453532937202, 21.570488201353733, 22.443666796260118, 22.754984776747857, 23.53216394626355, 23.846939783081915, 24.21351740067152, 24.665536984171798, 25.371541091317248, 25.666359094654194, 26.00079656058045, 26.20971577363139, 26.494000338757115, 26.96473158100785, 27.39970495508162, 28.127705757499776, 28.771671590894243, 29.218448298188832, 30.249133133838082, 30.735635175693712, 31.038124888419677, 31.675132834917576, 31.984773677242444, 32.39166828539205, 33.01270679421708, 34.02065041596426, 34.56774775865489, 35.1022547326744]}],\n",
       "                        {\"template\": {\"data\": {\"bar\": [{\"error_x\": {\"color\": \"#2a3f5f\"}, \"error_y\": {\"color\": \"#2a3f5f\"}, \"marker\": {\"line\": {\"color\": \"#E5ECF6\", \"width\": 0.5}}, \"type\": \"bar\"}], \"barpolar\": [{\"marker\": {\"line\": {\"color\": \"#E5ECF6\", \"width\": 0.5}}, \"type\": \"barpolar\"}], \"carpet\": [{\"aaxis\": {\"endlinecolor\": \"#2a3f5f\", \"gridcolor\": \"white\", \"linecolor\": \"white\", \"minorgridcolor\": \"white\", \"startlinecolor\": \"#2a3f5f\"}, \"baxis\": {\"endlinecolor\": \"#2a3f5f\", \"gridcolor\": \"white\", \"linecolor\": \"white\", \"minorgridcolor\": \"white\", \"startlinecolor\": \"#2a3f5f\"}, \"type\": \"carpet\"}], \"choropleth\": [{\"colorbar\": {\"outlinewidth\": 0, \"ticks\": \"\"}, \"type\": \"choropleth\"}], \"contour\": [{\"colorbar\": {\"outlinewidth\": 0, \"ticks\": \"\"}, \"colorscale\": [[0.0, \"#0d0887\"], [0.1111111111111111, \"#46039f\"], [0.2222222222222222, \"#7201a8\"], [0.3333333333333333, \"#9c179e\"], [0.4444444444444444, \"#bd3786\"], [0.5555555555555556, \"#d8576b\"], [0.6666666666666666, \"#ed7953\"], [0.7777777777777778, \"#fb9f3a\"], [0.8888888888888888, \"#fdca26\"], [1.0, \"#f0f921\"]], \"type\": \"contour\"}], \"contourcarpet\": [{\"colorbar\": {\"outlinewidth\": 0, \"ticks\": \"\"}, \"type\": \"contourcarpet\"}], \"heatmap\": [{\"colorbar\": {\"outlinewidth\": 0, \"ticks\": \"\"}, \"colorscale\": [[0.0, \"#0d0887\"], [0.1111111111111111, \"#46039f\"], [0.2222222222222222, \"#7201a8\"], [0.3333333333333333, \"#9c179e\"], [0.4444444444444444, \"#bd3786\"], [0.5555555555555556, \"#d8576b\"], [0.6666666666666666, \"#ed7953\"], [0.7777777777777778, \"#fb9f3a\"], [0.8888888888888888, \"#fdca26\"], [1.0, \"#f0f921\"]], \"type\": \"heatmap\"}], \"heatmapgl\": [{\"colorbar\": {\"outlinewidth\": 0, \"ticks\": \"\"}, \"colorscale\": [[0.0, \"#0d0887\"], [0.1111111111111111, \"#46039f\"], [0.2222222222222222, \"#7201a8\"], [0.3333333333333333, \"#9c179e\"], [0.4444444444444444, \"#bd3786\"], [0.5555555555555556, \"#d8576b\"], [0.6666666666666666, \"#ed7953\"], [0.7777777777777778, \"#fb9f3a\"], [0.8888888888888888, \"#fdca26\"], [1.0, \"#f0f921\"]], \"type\": \"heatmapgl\"}], \"histogram\": [{\"marker\": {\"colorbar\": {\"outlinewidth\": 0, \"ticks\": \"\"}}, \"type\": \"histogram\"}], \"histogram2d\": [{\"colorbar\": {\"outlinewidth\": 0, \"ticks\": \"\"}, \"colorscale\": [[0.0, \"#0d0887\"], [0.1111111111111111, \"#46039f\"], [0.2222222222222222, \"#7201a8\"], [0.3333333333333333, \"#9c179e\"], [0.4444444444444444, \"#bd3786\"], [0.5555555555555556, \"#d8576b\"], [0.6666666666666666, \"#ed7953\"], [0.7777777777777778, \"#fb9f3a\"], [0.8888888888888888, \"#fdca26\"], [1.0, \"#f0f921\"]], \"type\": \"histogram2d\"}], \"histogram2dcontour\": [{\"colorbar\": {\"outlinewidth\": 0, \"ticks\": \"\"}, \"colorscale\": [[0.0, \"#0d0887\"], [0.1111111111111111, \"#46039f\"], [0.2222222222222222, \"#7201a8\"], [0.3333333333333333, \"#9c179e\"], [0.4444444444444444, \"#bd3786\"], [0.5555555555555556, \"#d8576b\"], [0.6666666666666666, \"#ed7953\"], [0.7777777777777778, \"#fb9f3a\"], [0.8888888888888888, \"#fdca26\"], [1.0, \"#f0f921\"]], \"type\": \"histogram2dcontour\"}], \"mesh3d\": [{\"colorbar\": {\"outlinewidth\": 0, \"ticks\": \"\"}, \"type\": \"mesh3d\"}], \"parcoords\": [{\"line\": {\"colorbar\": {\"outlinewidth\": 0, \"ticks\": \"\"}}, \"type\": \"parcoords\"}], \"pie\": [{\"automargin\": true, \"type\": \"pie\"}], \"scatter\": [{\"marker\": {\"colorbar\": {\"outlinewidth\": 0, \"ticks\": \"\"}}, \"type\": \"scatter\"}], \"scatter3d\": [{\"line\": {\"colorbar\": {\"outlinewidth\": 0, \"ticks\": \"\"}}, \"marker\": {\"colorbar\": {\"outlinewidth\": 0, \"ticks\": \"\"}}, \"type\": \"scatter3d\"}], \"scattercarpet\": [{\"marker\": {\"colorbar\": {\"outlinewidth\": 0, \"ticks\": \"\"}}, \"type\": \"scattercarpet\"}], \"scattergeo\": [{\"marker\": {\"colorbar\": {\"outlinewidth\": 0, \"ticks\": \"\"}}, \"type\": \"scattergeo\"}], \"scattergl\": [{\"marker\": {\"colorbar\": {\"outlinewidth\": 0, \"ticks\": \"\"}}, \"type\": \"scattergl\"}], \"scattermapbox\": [{\"marker\": {\"colorbar\": {\"outlinewidth\": 0, \"ticks\": \"\"}}, \"type\": \"scattermapbox\"}], \"scatterpolar\": [{\"marker\": {\"colorbar\": {\"outlinewidth\": 0, \"ticks\": \"\"}}, \"type\": \"scatterpolar\"}], \"scatterpolargl\": [{\"marker\": {\"colorbar\": {\"outlinewidth\": 0, \"ticks\": \"\"}}, \"type\": \"scatterpolargl\"}], \"scatterternary\": [{\"marker\": {\"colorbar\": {\"outlinewidth\": 0, \"ticks\": \"\"}}, \"type\": \"scatterternary\"}], \"surface\": [{\"colorbar\": {\"outlinewidth\": 0, \"ticks\": \"\"}, \"colorscale\": [[0.0, \"#0d0887\"], [0.1111111111111111, \"#46039f\"], [0.2222222222222222, \"#7201a8\"], [0.3333333333333333, \"#9c179e\"], [0.4444444444444444, \"#bd3786\"], [0.5555555555555556, \"#d8576b\"], [0.6666666666666666, \"#ed7953\"], [0.7777777777777778, \"#fb9f3a\"], [0.8888888888888888, \"#fdca26\"], [1.0, \"#f0f921\"]], \"type\": \"surface\"}], \"table\": [{\"cells\": {\"fill\": {\"color\": \"#EBF0F8\"}, \"line\": {\"color\": \"white\"}}, \"header\": {\"fill\": {\"color\": \"#C8D4E3\"}, \"line\": {\"color\": \"white\"}}, \"type\": \"table\"}]}, \"layout\": {\"annotationdefaults\": {\"arrowcolor\": \"#2a3f5f\", \"arrowhead\": 0, \"arrowwidth\": 1}, \"coloraxis\": {\"colorbar\": {\"outlinewidth\": 0, \"ticks\": \"\"}}, \"colorscale\": {\"diverging\": [[0, \"#8e0152\"], [0.1, \"#c51b7d\"], [0.2, \"#de77ae\"], [0.3, \"#f1b6da\"], [0.4, \"#fde0ef\"], [0.5, \"#f7f7f7\"], [0.6, \"#e6f5d0\"], [0.7, \"#b8e186\"], [0.8, \"#7fbc41\"], [0.9, \"#4d9221\"], [1, \"#276419\"]], \"sequential\": [[0.0, \"#0d0887\"], [0.1111111111111111, \"#46039f\"], [0.2222222222222222, \"#7201a8\"], [0.3333333333333333, \"#9c179e\"], [0.4444444444444444, \"#bd3786\"], [0.5555555555555556, \"#d8576b\"], [0.6666666666666666, \"#ed7953\"], [0.7777777777777778, \"#fb9f3a\"], [0.8888888888888888, \"#fdca26\"], [1.0, \"#f0f921\"]], \"sequentialminus\": [[0.0, \"#0d0887\"], [0.1111111111111111, \"#46039f\"], [0.2222222222222222, \"#7201a8\"], [0.3333333333333333, \"#9c179e\"], [0.4444444444444444, \"#bd3786\"], [0.5555555555555556, \"#d8576b\"], [0.6666666666666666, \"#ed7953\"], [0.7777777777777778, \"#fb9f3a\"], [0.8888888888888888, \"#fdca26\"], [1.0, \"#f0f921\"]]}, \"colorway\": [\"#636efa\", \"#EF553B\", \"#00cc96\", \"#ab63fa\", \"#FFA15A\", \"#19d3f3\", \"#FF6692\", \"#B6E880\", \"#FF97FF\", \"#FECB52\"], \"font\": {\"color\": \"#2a3f5f\"}, \"geo\": {\"bgcolor\": \"white\", \"lakecolor\": \"white\", \"landcolor\": \"#E5ECF6\", \"showlakes\": true, \"showland\": true, \"subunitcolor\": \"white\"}, \"hoverlabel\": {\"align\": \"left\"}, \"hovermode\": \"closest\", \"mapbox\": {\"style\": \"light\"}, \"paper_bgcolor\": \"white\", \"plot_bgcolor\": \"#E5ECF6\", \"polar\": {\"angularaxis\": {\"gridcolor\": \"white\", \"linecolor\": \"white\", \"ticks\": \"\"}, \"bgcolor\": \"#E5ECF6\", \"radialaxis\": {\"gridcolor\": \"white\", \"linecolor\": \"white\", \"ticks\": \"\"}}, \"scene\": {\"xaxis\": {\"backgroundcolor\": \"#E5ECF6\", \"gridcolor\": \"white\", \"gridwidth\": 2, \"linecolor\": \"white\", \"showbackground\": true, \"ticks\": \"\", \"zerolinecolor\": \"white\"}, \"yaxis\": {\"backgroundcolor\": \"#E5ECF6\", \"gridcolor\": \"white\", \"gridwidth\": 2, \"linecolor\": \"white\", \"showbackground\": true, \"ticks\": \"\", \"zerolinecolor\": \"white\"}, \"zaxis\": {\"backgroundcolor\": \"#E5ECF6\", \"gridcolor\": \"white\", \"gridwidth\": 2, \"linecolor\": \"white\", \"showbackground\": true, \"ticks\": \"\", \"zerolinecolor\": \"white\"}}, \"shapedefaults\": {\"line\": {\"color\": \"#2a3f5f\"}}, \"ternary\": {\"aaxis\": {\"gridcolor\": \"white\", \"linecolor\": \"white\", \"ticks\": \"\"}, \"baxis\": {\"gridcolor\": \"white\", \"linecolor\": \"white\", \"ticks\": \"\"}, \"bgcolor\": \"#E5ECF6\", \"caxis\": {\"gridcolor\": \"white\", \"linecolor\": \"white\", \"ticks\": \"\"}}, \"title\": {\"x\": 0.05}, \"xaxis\": {\"automargin\": true, \"gridcolor\": \"white\", \"linecolor\": \"white\", \"ticks\": \"\", \"title\": {\"standoff\": 15}, \"zerolinecolor\": \"white\", \"zerolinewidth\": 2}, \"yaxis\": {\"automargin\": true, \"gridcolor\": \"white\", \"linecolor\": \"white\", \"ticks\": \"\", \"title\": {\"standoff\": 15}, \"zerolinecolor\": \"white\", \"zerolinewidth\": 2}}}},\n",
       "                        {\"responsive\": true}\n",
       "                    ).then(function(){\n",
       "                            \n",
       "var gd = document.getElementById('47bb40ef-e90f-4b8c-a0c3-d3c72e13122a');\n",
       "var x = new MutationObserver(function (mutations, observer) {{\n",
       "        var display = window.getComputedStyle(gd).display;\n",
       "        if (!display || display === 'none') {{\n",
       "            console.log([gd, 'removed!']);\n",
       "            Plotly.purge(gd);\n",
       "            observer.disconnect();\n",
       "        }}\n",
       "}});\n",
       "\n",
       "// Listen for the removal of the full notebook cells\n",
       "var notebookContainer = gd.closest('#notebook-container');\n",
       "if (notebookContainer) {{\n",
       "    x.observe(notebookContainer, {childList: true});\n",
       "}}\n",
       "\n",
       "// Listen for the clearing of the current output cell\n",
       "var outputEl = gd.closest('.output');\n",
       "if (outputEl) {{\n",
       "    x.observe(outputEl, {childList: true});\n",
       "}}\n",
       "\n",
       "                        })\n",
       "                };\n",
       "                });\n",
       "            </script>\n",
       "        </div>"
      ]
     },
     "metadata": {},
     "output_type": "display_data"
    }
   ],
   "source": [
    "b_true, dxlist, Pklist, plist, pclist, vlist, vclist, tlist = monte_carlo_run()\n",
    "# print(b_true)\n",
    "# print(tlist)\n",
    "y = [dxlist[i][2,0] for i in range(len(dxlist))]\n",
    "dp = [dxlist[i][0,0] for i in range(len(dxlist))]\n",
    "dv = [dxlist[i][1,0] for i in range(len(dxlist))]\n",
    "# print(y)\n",
    "fig = go.Figure()\n",
    "fig.add_trace(go.Scatter(x=tlist, y=y, name=\"Estimated bias\"))\n",
    "fig.add_trace(go.Scatter(x=tlist, y=[b_true for i in range(len(dxlist))], name=\"True bias\"))\n",
    "fig.show()\n",
    "fig2 = go.Figure()\n",
    "fig2.add_trace(go.Scatter(x=tlist, y=dp, name=\"Delta Position\"))\n",
    "# fig2.add_trace(go.Scatter(x=tlist, y=plist, name=\"True Position\"))\n",
    "# fig2.add_trace(go.Scatter(x=tlist, y=plist, name=\"True Position\"))\n",
    "# fig2.add_trace(go.Scatter(x=tlist, y=pclist, name=\"Computed Position\"))\n",
    "fig2.show()"
   ]
  },
  {
   "cell_type": "code",
   "execution_count": 167,
   "metadata": {},
   "outputs": [
    {
     "data": {
      "text/plain": [
       "0.02"
      ]
     },
     "execution_count": 167,
     "metadata": {},
     "output_type": "execute_result"
    }
   ],
   "source": [
    "w_std"
   ]
  },
  {
   "cell_type": "code",
   "execution_count": 239,
   "metadata": {},
   "outputs": [
    {
     "data": {
      "text/plain": [
       "array([[ 1.10048246e-02,  3.33380840e-02],\n",
       "       [ 3.30985730e-04,  2.20212271e-03],\n",
       "       [-2.48660161e-08, -1.65439214e-07]])"
      ]
     },
     "execution_count": 239,
     "metadata": {},
     "output_type": "execute_result"
    }
   ],
   "source": [
    "Ks[-1]"
   ]
  },
  {
   "cell_type": "code",
   "execution_count": null,
   "metadata": {},
   "outputs": [],
   "source": []
  }
 ],
 "metadata": {
  "kernelspec": {
   "display_name": "Python 3",
   "language": "python",
   "name": "python3"
  },
  "language_info": {
   "codemirror_mode": {
    "name": "ipython",
    "version": 3
   },
   "file_extension": ".py",
   "mimetype": "text/x-python",
   "name": "python",
   "nbconvert_exporter": "python",
   "pygments_lexer": "ipython3",
   "version": "3.6.9"
  }
 },
 "nbformat": 4,
 "nbformat_minor": 4
}
